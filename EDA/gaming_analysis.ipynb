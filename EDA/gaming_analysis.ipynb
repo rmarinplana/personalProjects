{
 "cells": [
  {
   "cell_type": "markdown",
   "metadata": {},
   "source": [
    "# King’s Super Math Saga experiment"
   ]
  },
  {
   "cell_type": "markdown",
   "metadata": {},
   "source": [
    "### Data Description"
   ]
  },
  {
   "cell_type": "markdown",
   "metadata": {},
   "source": [
    "The assignment table contains players assigned to the A/B test and attributes related to each player.\n",
    "1. playerid: Unique numeric identifier for each player\n",
    "2. abtest_group: The group the player was assigned to (A or B)\n",
    "3. assignment_date: The date when the player was assigned to the test\n",
    "4. install_date: The date when the player installed the game\n",
    "5. conversion_date: The date when the player made their first purchase\n",
    "\n",
    "The activity table contains player activity for each day a player was active.\n",
    "1. playerid: Unique numeric identifier for each player\n",
    "2. activity_date: The date of activity\n",
    "3. purchases: Number of purchases made this day\n",
    "4. gameends: Number of gamerounds played this day"
   ]
  },
  {
   "cell_type": "markdown",
   "metadata": {},
   "source": [
    "### Hypothesis Test"
   ]
  },
  {
   "cell_type": "markdown",
   "metadata": {},
   "source": [
    "Assumptions:\n",
    "\n",
    "    - Check for normality\n",
    "    - If normal distribution, check for homogeneity\n",
    "\n",
    "Steps:\n",
    "\n",
    "    - Apply Shapiro Test for normality\n",
    "    - If parametric, apply Levene Test for homogeneity of variances\n",
    "    - If parametric + homogeneity of variances apply T-Test\n",
    "    - If parametric - homogeneity of variances apply Welch Test\n",
    "    - If non-parametric apply Mann Whitney U Test"
   ]
  },
  {
   "cell_type": "code",
   "execution_count": 212,
   "metadata": {},
   "outputs": [],
   "source": [
    "# define function that checks assumptions and applies appropriate hypothesis test\n",
    "def hypothesis_test(test, control, alternative=\"two-sided\"):\n",
    "\n",
    "    # import packages\n",
    "    from scipy.stats import shapiro\n",
    "    import scipy.stats as stats\n",
    "    \n",
    "    # check for normality:\n",
    "    ntA = shapiro(test)[1] < 0.05\n",
    "    ntB = shapiro(control)[1] < 0.05\n",
    "\n",
    "    if (ntA == False) & (ntB == False): \n",
    "        # parametric test\n",
    "        # check for homogeneity\n",
    "        leveneTest = stats.levene(test, control)[1] < 0.05\n",
    "\n",
    "        if leveneTest == False: # homogeneus\n",
    "            ttest = stats.ttest_ind(test, control, equal_var=True, alternative=alternative)\n",
    "        else: # heterogeneous\n",
    "            ttest = stats.ttest_ind(test, control, equal_var=False, alternative=alternative)\n",
    "    else:\n",
    "        # non-parametric test\n",
    "        ttest = stats.mannwhitneyu(test, control, alternative=alternative)\n",
    "\n",
    "    return ttest"
   ]
  },
  {
   "cell_type": "markdown",
   "metadata": {},
   "source": [
    "### Packages"
   ]
  },
  {
   "cell_type": "code",
   "execution_count": 187,
   "metadata": {},
   "outputs": [],
   "source": [
    "# import packages\n",
    "\n",
    "# Basic\n",
    "import pandas as pd\n",
    "import numpy as np\n",
    "import matplotlib.pyplot as plt\n",
    "import seaborn as sns\n",
    "\n",
    "# GCP\n",
    "import pandas_gbq\n",
    "import db_dtypes\n",
    "\n",
    "# Hypothesis Testing\n",
    "from scipy.stats import shapiro\n",
    "from scipy.stats import mannwhitneyu as mwu\n",
    "from scipy.stats import ttest_ind\n",
    "\n",
    "# Configuration\n",
    "import warnings\n",
    "warnings.filterwarnings(\"ignore\")\n",
    "warnings.simplefilter(action='ignore', category=FutureWarning)"
   ]
  },
  {
   "cell_type": "markdown",
   "metadata": {},
   "source": [
    "## 1. Data Extraction & Prep"
   ]
  },
  {
   "cell_type": "code",
   "execution_count": 53,
   "metadata": {},
   "outputs": [],
   "source": [
    "# define function to query data from gcp and transform it into df\n",
    "def gcp2df(query):\n",
    "    project_id = 'king-ds-recruit-candidate-635'\n",
    "    return pd.read_gbq(query, project_id=project_id, dialect='standard')"
   ]
  },
  {
   "cell_type": "code",
   "execution_count": 300,
   "metadata": {},
   "outputs": [],
   "source": [
    "query = ('''\n",
    "    WITH\n",
    "\n",
    "    activity AS (\n",
    "    SELECT playerid, SUM(purchases) AS total_purchases, SUM(gameends) as total_gameends\n",
    "        FROM `king-ds-recruit-candidate-635.abtest.activity` \n",
    "        WHERE activity_date BETWEEN \"2017-05-04\" AND \"2017-05-22\"\n",
    "        GROUP BY playerid\n",
    "    ),\n",
    "\n",
    "    joinTables AS (\n",
    "    SELECT ass.*, ac.total_gameends, ac.total_purchases\n",
    "    FROM `king-ds-recruit-candidate-635.abtest.assignment` AS ass\n",
    "    LEFT JOIN  activity AS ac\n",
    "    ON ass.playerid=ac.playerid\n",
    "    )\n",
    "\n",
    "    SELECT *\n",
    "    FROM joinTables\n",
    "    ''')\n",
    "\n",
    "df = gcp2df(query)"
   ]
  },
  {
   "cell_type": "code",
   "execution_count": 301,
   "metadata": {},
   "outputs": [],
   "source": [
    " # format date variables into datetime\n",
    "df[[\"assignment_date\", \"install_date\", \"conversion_date\"]] = df[[\"assignment_date\", \"install_date\", \n",
    "                                                                \"conversion_date\"]].apply(pd.to_datetime)"
   ]
  },
  {
   "cell_type": "code",
   "execution_count": 302,
   "metadata": {},
   "outputs": [],
   "source": [
    "# create more meaningful and actionable variables form datetime variables\n",
    "df[\"days_since_installed\"] = (df.assignment_date.max() - df.install_date).dt.days # time since a player installed the game in days\n",
    "df[\"days_to_convert\"] = (df.conversion_date - df.install_date).dt.days # time it takes players to convert after installing the game in days"
   ]
  },
  {
   "cell_type": "code",
   "execution_count": 303,
   "metadata": {},
   "outputs": [],
   "source": [
    "# create a player_type variable that segments players by days_since_installed\n",
    "# The split is determined by business sense\n",
    "conditions = [\n",
    "    (df.days_since_installed <= 19), # new players that haven't seen the control version\n",
    "    (df.days_since_installed > 19) & (df.days_since_installed <= 90),\n",
    "    (df.days_since_installed > 90)]\n",
    "values = [\"newbie\", \"experienced\", \"OG\"]\n",
    "df[\"player_type\"] = np.select(conditions, values)"
   ]
  },
  {
   "cell_type": "code",
   "execution_count": 304,
   "metadata": {},
   "outputs": [],
   "source": [
    "# split control and test results\n",
    "control_results = df[df[\"abtest_group\"]==\"A\"]\n",
    "test_results = df[df[\"abtest_group\"]==\"B\"]"
   ]
  },
  {
   "cell_type": "code",
   "execution_count": 305,
   "metadata": {},
   "outputs": [],
   "source": [
    "query1 = ('''\n",
    "    WITH\n",
    "\n",
    "    activity AS (\n",
    "    SELECT *\n",
    "        FROM `king-ds-recruit-candidate-635.abtest.activity` \n",
    "        WHERE activity_date BETWEEN \"2017-05-04\" AND \"2017-05-22\"\n",
    "    ),\n",
    "\n",
    "    joinTables AS (\n",
    "    SELECT ass.playerid, ass.abtest_group, ac.activity_date, ac.gameends, ac.purchases, \n",
    "    FROM `king-ds-recruit-candidate-635.abtest.assignment` AS ass\n",
    "    LEFT JOIN  activity AS ac\n",
    "    ON ass.playerid=ac.playerid\n",
    "    ),\n",
    "\n",
    "    avg_by_date AS (\n",
    "    SELECT abtest_group, activity_date, AVG(gameends) AS avg_gameends, STDDEV(gameends) AS std_gameends, \n",
    "        SUM(gameends) AS n_gameends, AVG(purchases) AS avg_purchases, STDDEV(purchases) AS std_purchases, \n",
    "        SUM(purchases) AS n_purchases\n",
    "    FROM joinTables\n",
    "    GROUP BY 1, 2\n",
    "    ORDER BY activity_date, abtest_group\n",
    "    )\n",
    "\n",
    "    SELECT *\n",
    "    FROM avg_by_date\n",
    "    ''')\n",
    "\n",
    "df1 = gcp2df(query1)"
   ]
  },
  {
   "cell_type": "markdown",
   "metadata": {},
   "source": [
    "## 2. Metric Analysis"
   ]
  },
  {
   "cell_type": "code",
   "execution_count": 306,
   "metadata": {},
   "outputs": [
    {
     "data": {
      "text/html": [
       "<div>\n",
       "<style scoped>\n",
       "    .dataframe tbody tr th:only-of-type {\n",
       "        vertical-align: middle;\n",
       "    }\n",
       "\n",
       "    .dataframe tbody tr th {\n",
       "        vertical-align: top;\n",
       "    }\n",
       "\n",
       "    .dataframe thead th {\n",
       "        text-align: right;\n",
       "    }\n",
       "</style>\n",
       "<table border=\"1\" class=\"dataframe\">\n",
       "  <thead>\n",
       "    <tr style=\"text-align: right;\">\n",
       "      <th></th>\n",
       "      <th>playerid</th>\n",
       "      <th>abtest_group</th>\n",
       "      <th>assignment_date</th>\n",
       "      <th>install_date</th>\n",
       "      <th>conversion_date</th>\n",
       "      <th>total_gameends</th>\n",
       "      <th>total_purchases</th>\n",
       "      <th>days_since_installed</th>\n",
       "      <th>days_to_convert</th>\n",
       "      <th>player_type</th>\n",
       "    </tr>\n",
       "  </thead>\n",
       "  <tbody>\n",
       "    <tr>\n",
       "      <th>0</th>\n",
       "      <td>49709407</td>\n",
       "      <td>A</td>\n",
       "      <td>2017-05-08</td>\n",
       "      <td>2017-05-08</td>\n",
       "      <td>NaT</td>\n",
       "      <td>71</td>\n",
       "      <td>0</td>\n",
       "      <td>14</td>\n",
       "      <td>NaN</td>\n",
       "      <td>newbie</td>\n",
       "    </tr>\n",
       "    <tr>\n",
       "      <th>1</th>\n",
       "      <td>49757983</td>\n",
       "      <td>A</td>\n",
       "      <td>2017-05-08</td>\n",
       "      <td>2017-05-08</td>\n",
       "      <td>2017-05-08</td>\n",
       "      <td>68</td>\n",
       "      <td>1</td>\n",
       "      <td>14</td>\n",
       "      <td>0.0</td>\n",
       "      <td>newbie</td>\n",
       "    </tr>\n",
       "    <tr>\n",
       "      <th>2</th>\n",
       "      <td>49689756</td>\n",
       "      <td>A</td>\n",
       "      <td>2017-05-08</td>\n",
       "      <td>2017-05-08</td>\n",
       "      <td>NaT</td>\n",
       "      <td>5</td>\n",
       "      <td>0</td>\n",
       "      <td>14</td>\n",
       "      <td>NaN</td>\n",
       "      <td>newbie</td>\n",
       "    </tr>\n",
       "    <tr>\n",
       "      <th>3</th>\n",
       "      <td>49735663</td>\n",
       "      <td>A</td>\n",
       "      <td>2017-05-08</td>\n",
       "      <td>2017-05-08</td>\n",
       "      <td>NaT</td>\n",
       "      <td>173</td>\n",
       "      <td>0</td>\n",
       "      <td>14</td>\n",
       "      <td>NaN</td>\n",
       "      <td>newbie</td>\n",
       "    </tr>\n",
       "    <tr>\n",
       "      <th>4</th>\n",
       "      <td>49723509</td>\n",
       "      <td>A</td>\n",
       "      <td>2017-05-08</td>\n",
       "      <td>2017-05-08</td>\n",
       "      <td>NaT</td>\n",
       "      <td>5</td>\n",
       "      <td>0</td>\n",
       "      <td>14</td>\n",
       "      <td>NaN</td>\n",
       "      <td>newbie</td>\n",
       "    </tr>\n",
       "  </tbody>\n",
       "</table>\n",
       "</div>"
      ],
      "text/plain": [
       "   playerid abtest_group assignment_date install_date conversion_date  \\\n",
       "0  49709407            A      2017-05-08   2017-05-08             NaT   \n",
       "1  49757983            A      2017-05-08   2017-05-08      2017-05-08   \n",
       "2  49689756            A      2017-05-08   2017-05-08             NaT   \n",
       "3  49735663            A      2017-05-08   2017-05-08             NaT   \n",
       "4  49723509            A      2017-05-08   2017-05-08             NaT   \n",
       "\n",
       "   total_gameends  total_purchases  days_since_installed  days_to_convert  \\\n",
       "0              71                0                    14              NaN   \n",
       "1              68                1                    14              0.0   \n",
       "2               5                0                    14              NaN   \n",
       "3             173                0                    14              NaN   \n",
       "4               5                0                    14              NaN   \n",
       "\n",
       "  player_type  \n",
       "0      newbie  \n",
       "1      newbie  \n",
       "2      newbie  \n",
       "3      newbie  \n",
       "4      newbie  "
      ]
     },
     "execution_count": 306,
     "metadata": {},
     "output_type": "execute_result"
    }
   ],
   "source": [
    "df.head() # contains aggregated gameround and purchase data for the whole experiment"
   ]
  },
  {
   "cell_type": "markdown",
   "metadata": {},
   "source": [
    "### Invariant metrics: *\n",
    "\n",
    "    - playerid\n",
    "    - days_since_installed\n",
    "\n",
    "*Invariant metrics are those which should not change across control and experiment groups. If players were randomly assigned, we would expect the distributions of these metrics to stay consistent between the test and control sets, or else there is something fundamentally wrong with the experiment setup."
   ]
  },
  {
   "cell_type": "code",
   "execution_count": 307,
   "metadata": {},
   "outputs": [
    {
     "data": {
      "image/png": "[encoded data removed]",
      "text/plain": [
       "<Figure size 1224x360 with 2 Axes>"
      ]
     },
     "metadata": {
      "needs_background": "light"
     },
     "output_type": "display_data"
    }
   ],
   "source": [
    "fig, ax = plt.subplots(1, 2, figsize=(17, 5))\n",
    "sns.boxplot(df.playerid, ax=ax[0])\n",
    "ax[1].hist(df.days_since_installed, bins=50)\n",
    "\n",
    "fig.suptitle(\"Invariant Metrics\", fontsize=15)\n",
    "ax[0].set_title(\"Distribution of playerid\", fontsize = 12)\n",
    "ax[1].set_title(\"Distribution of days_since_install\", fontsize = 12)\n",
    "plt.tight_layout(pad = 1)\n",
    "plt.show()"
   ]
  },
  {
   "cell_type": "markdown",
   "metadata": {},
   "source": [
    "#### Observations:\n",
    "\n",
    "Most active players installed the game during the last few months."
   ]
  },
  {
   "cell_type": "markdown",
   "metadata": {},
   "source": [
    "### Evaluation metrics:\n",
    "\n",
    "    - total_gameends (engagement)\n",
    "    - total_purchases (monetization)\n",
    "    - days_to_convert (monetization)"
   ]
  },
  {
   "cell_type": "code",
   "execution_count": 308,
   "metadata": {},
   "outputs": [
    {
     "data": {
      "text/html": [
       "<div>\n",
       "<style scoped>\n",
       "    .dataframe tbody tr th:only-of-type {\n",
       "        vertical-align: middle;\n",
       "    }\n",
       "\n",
       "    .dataframe tbody tr th {\n",
       "        vertical-align: top;\n",
       "    }\n",
       "\n",
       "    .dataframe thead th {\n",
       "        text-align: right;\n",
       "    }\n",
       "</style>\n",
       "<table border=\"1\" class=\"dataframe\">\n",
       "  <thead>\n",
       "    <tr style=\"text-align: right;\">\n",
       "      <th></th>\n",
       "      <th>days_to_convert</th>\n",
       "      <th>total_gameends</th>\n",
       "      <th>total_purchases</th>\n",
       "    </tr>\n",
       "  </thead>\n",
       "  <tbody>\n",
       "    <tr>\n",
       "      <th>count</th>\n",
       "      <td>285923.000000</td>\n",
       "      <td>1.033106e+07</td>\n",
       "      <td>1.033106e+07</td>\n",
       "    </tr>\n",
       "    <tr>\n",
       "      <th>mean</th>\n",
       "      <td>2.720886</td>\n",
       "      <td>1.579491e+02</td>\n",
       "      <td>3.714809e-01</td>\n",
       "    </tr>\n",
       "    <tr>\n",
       "      <th>std</th>\n",
       "      <td>4.501814</td>\n",
       "      <td>1.391929e+02</td>\n",
       "      <td>9.515109e+00</td>\n",
       "    </tr>\n",
       "    <tr>\n",
       "      <th>min</th>\n",
       "      <td>0.000000</td>\n",
       "      <td>0.000000e+00</td>\n",
       "      <td>0.000000e+00</td>\n",
       "    </tr>\n",
       "    <tr>\n",
       "      <th>25%</th>\n",
       "      <td>0.000000</td>\n",
       "      <td>9.500000e+01</td>\n",
       "      <td>0.000000e+00</td>\n",
       "    </tr>\n",
       "    <tr>\n",
       "      <th>50%</th>\n",
       "      <td>1.000000</td>\n",
       "      <td>1.290000e+02</td>\n",
       "      <td>0.000000e+00</td>\n",
       "    </tr>\n",
       "    <tr>\n",
       "      <th>75%</th>\n",
       "      <td>4.000000</td>\n",
       "      <td>1.820000e+02</td>\n",
       "      <td>0.000000e+00</td>\n",
       "    </tr>\n",
       "    <tr>\n",
       "      <th>max</th>\n",
       "      <td>84.000000</td>\n",
       "      <td>1.932000e+03</td>\n",
       "      <td>5.690000e+03</td>\n",
       "    </tr>\n",
       "  </tbody>\n",
       "</table>\n",
       "</div>"
      ],
      "text/plain": [
       "       days_to_convert  total_gameends  total_purchases\n",
       "count    285923.000000    1.033106e+07     1.033106e+07\n",
       "mean          2.720886    1.579491e+02     3.714809e-01\n",
       "std           4.501814    1.391929e+02     9.515109e+00\n",
       "min           0.000000    0.000000e+00     0.000000e+00\n",
       "25%           0.000000    9.500000e+01     0.000000e+00\n",
       "50%           1.000000    1.290000e+02     0.000000e+00\n",
       "75%           4.000000    1.820000e+02     0.000000e+00\n",
       "max          84.000000    1.932000e+03     5.690000e+03"
      ]
     },
     "execution_count": 308,
     "metadata": {},
     "output_type": "execute_result"
    }
   ],
   "source": [
    "df[[\"days_to_convert\", \"total_gameends\", \"total_purchases\"]].describe()"
   ]
  },
  {
   "cell_type": "code",
   "execution_count": 309,
   "metadata": {},
   "outputs": [
    {
     "data": {
      "image/png": "[encoded data removed]",
      "text/plain": [
       "<Figure size 1224x360 with 3 Axes>"
      ]
     },
     "metadata": {
      "needs_background": "light"
     },
     "output_type": "display_data"
    }
   ],
   "source": [
    "fig, ax = plt.subplots(1, 3, figsize=(17, 5))\n",
    "sns.boxplot(df.total_gameends, ax=ax[0])\n",
    "sns.boxplot(df.total_purchases, ax=ax[1])\n",
    "sns.boxplot(df.days_to_convert, ax=ax[2])\n",
    "\n",
    "fig.suptitle(\"Evaluation Metrics\", fontsize=15)\n",
    "ax[0].set_title(\"Distribution of gameends\", fontsize = 12)\n",
    "ax[1].set_title(\"Distribution of purchases\", fontsize = 12)\n",
    "ax[2].set_title(\"Distribution of days_to_convert\", fontsize = 12)\n",
    "plt.tight_layout(pad = 1)\n",
    "plt.show()"
   ]
  },
  {
   "cell_type": "code",
   "execution_count": 310,
   "metadata": {},
   "outputs": [
    {
     "data": {
      "text/plain": [
       "False    0.972324\n",
       "True     0.027676\n",
       "Name: conversion_date, dtype: float64"
      ]
     },
     "execution_count": 310,
     "metadata": {},
     "output_type": "execute_result"
    }
   ],
   "source": [
    "# share of paying users\n",
    "df.conversion_date.notnull().value_counts(normalize=True)"
   ]
  },
  {
   "cell_type": "markdown",
   "metadata": {},
   "source": [
    "#### Observations:\n",
    "\n",
    "Most players are Free-to-play. The share of paying users is around 2.8%.\n",
    "\n",
    "Most paying users convert during the first few days of playing the game. If a player doesn't pay early on, is highly unlikely that they will end up paying. \n",
    "\n",
    "There is a high variance between the gamerounds and purchases made by different players. All paying users are considered outliers.\n",
    "\n",
    "Some players have made more purchases than rounds played. This suggests that there are multiple hints in a level."
   ]
  },
  {
   "cell_type": "markdown",
   "metadata": {},
   "source": [
    "## 3. Sanity Checks"
   ]
  },
  {
   "cell_type": "markdown",
   "metadata": {},
   "source": [
    "#### What checks can we do to be confident in the validity of the test?"
   ]
  },
  {
   "cell_type": "code",
   "execution_count": 311,
   "metadata": {},
   "outputs": [
    {
     "data": {
      "text/plain": [
       "False"
      ]
     },
     "execution_count": 311,
     "metadata": {},
     "output_type": "execute_result"
    }
   ],
   "source": [
    "# Are there duplicated playerids?\n",
    "df.playerid.duplicated().any()"
   ]
  },
  {
   "cell_type": "code",
   "execution_count": 312,
   "metadata": {},
   "outputs": [
    {
     "data": {
      "text/plain": [
       "A    0.800074\n",
       "B    0.199926\n",
       "Name: abtest_group, dtype: float64"
      ]
     },
     "execution_count": 312,
     "metadata": {},
     "output_type": "execute_result"
    }
   ],
   "source": [
    "# Do the control and test groups contain 80 and 20 percent of the players respectively?\n",
    "df.abtest_group.value_counts(normalize=True)"
   ]
  },
  {
   "cell_type": "markdown",
   "metadata": {},
   "source": [
    "#### Checking invariants: are the distributions of invariant metrics for control and test groups the same?"
   ]
  },
  {
   "cell_type": "code",
   "execution_count": 313,
   "metadata": {},
   "outputs": [
    {
     "name": "stdout",
     "output_type": "stream",
     "text": [
      "abtest_group\n",
      "A    34979639.729978\n",
      "B    34983333.536522\n",
      "Name: playerid, dtype: Float64\n"
     ]
    },
    {
     "ename": "TypeError",
     "evalue": "ufunc 'isnan' not supported for the input types, and the inputs could not be safely coerced to any supported types according to the casting rule ''safe''",
     "output_type": "error",
     "traceback": [
      "\u001b[1;31m---------------------------------------------------------------------------\u001b[0m",
      "\u001b[1;31mTypeError\u001b[0m                                 Traceback (most recent call last)",
      "\u001b[1;32m<ipython-input-313-f279065bcda8>\u001b[0m in \u001b[0;36m<module>\u001b[1;34m\u001b[0m\n\u001b[0;32m      1\u001b[0m \u001b[1;31m# playerid\u001b[0m\u001b[1;33m\u001b[0m\u001b[1;33m\u001b[0m\u001b[1;33m\u001b[0m\u001b[0m\n\u001b[0;32m      2\u001b[0m \u001b[0mprint\u001b[0m\u001b[1;33m(\u001b[0m\u001b[0mdf\u001b[0m\u001b[1;33m.\u001b[0m\u001b[0mgroupby\u001b[0m\u001b[1;33m(\u001b[0m\u001b[1;34m\"abtest_group\"\u001b[0m\u001b[1;33m)\u001b[0m\u001b[1;33m.\u001b[0m\u001b[0mplayerid\u001b[0m\u001b[1;33m.\u001b[0m\u001b[0mmean\u001b[0m\u001b[1;33m(\u001b[0m\u001b[1;33m)\u001b[0m\u001b[1;33m)\u001b[0m\u001b[1;33m\u001b[0m\u001b[1;33m\u001b[0m\u001b[0m\n\u001b[1;32m----> 3\u001b[1;33m \u001b[0mprint\u001b[0m\u001b[1;33m(\u001b[0m\u001b[0mhypothesis_test\u001b[0m\u001b[1;33m(\u001b[0m\u001b[0mcontrol_results\u001b[0m\u001b[1;33m.\u001b[0m\u001b[0mplayerid\u001b[0m\u001b[1;33m,\u001b[0m \u001b[0mtest_results\u001b[0m\u001b[1;33m.\u001b[0m\u001b[0mplayerid\u001b[0m\u001b[1;33m)\u001b[0m\u001b[1;33m)\u001b[0m\u001b[1;33m\u001b[0m\u001b[1;33m\u001b[0m\u001b[0m\n\u001b[0m",
      "\u001b[1;32m<ipython-input-212-ca97ec86d8ec>\u001b[0m in \u001b[0;36mhypothesis_test\u001b[1;34m(test, control, alternative)\u001b[0m\n\u001b[0;32m     21\u001b[0m     \u001b[1;32melse\u001b[0m\u001b[1;33m:\u001b[0m\u001b[1;33m\u001b[0m\u001b[1;33m\u001b[0m\u001b[0m\n\u001b[0;32m     22\u001b[0m         \u001b[1;31m# non-parametric test\u001b[0m\u001b[1;33m\u001b[0m\u001b[1;33m\u001b[0m\u001b[1;33m\u001b[0m\u001b[0m\n\u001b[1;32m---> 23\u001b[1;33m         \u001b[0mttest\u001b[0m \u001b[1;33m=\u001b[0m \u001b[0mstats\u001b[0m\u001b[1;33m.\u001b[0m\u001b[0mmannwhitneyu\u001b[0m\u001b[1;33m(\u001b[0m\u001b[0mtest\u001b[0m\u001b[1;33m,\u001b[0m \u001b[0mcontrol\u001b[0m\u001b[1;33m,\u001b[0m \u001b[0malternative\u001b[0m\u001b[1;33m=\u001b[0m\u001b[0malternative\u001b[0m\u001b[1;33m)\u001b[0m\u001b[1;33m\u001b[0m\u001b[1;33m\u001b[0m\u001b[0m\n\u001b[0m\u001b[0;32m     24\u001b[0m \u001b[1;33m\u001b[0m\u001b[0m\n\u001b[0;32m     25\u001b[0m     \u001b[1;32mreturn\u001b[0m \u001b[0mttest\u001b[0m\u001b[1;33m\u001b[0m\u001b[1;33m\u001b[0m\u001b[0m\n",
      "\u001b[1;32mc:\\Users\\rmari\\anaconda3\\lib\\site-packages\\scipy\\stats\\_axis_nan_policy.py\u001b[0m in \u001b[0;36maxis_nan_policy_wrapper\u001b[1;34m(***failed resolving arguments***)\u001b[0m\n\u001b[0;32m    268\u001b[0m                 \u001b[1;31m#     return result_object(np.nan, np.nan)\u001b[0m\u001b[1;33m\u001b[0m\u001b[1;33m\u001b[0m\u001b[1;33m\u001b[0m\u001b[0m\n\u001b[0;32m    269\u001b[0m \u001b[1;33m\u001b[0m\u001b[0m\n\u001b[1;32m--> 270\u001b[1;33m                 \u001b[1;32mreturn\u001b[0m \u001b[0mhypotest_fun_in\u001b[0m\u001b[1;33m(\u001b[0m\u001b[1;33m*\u001b[0m\u001b[0msamples\u001b[0m\u001b[1;33m,\u001b[0m \u001b[1;33m**\u001b[0m\u001b[0mkwds\u001b[0m\u001b[1;33m)\u001b[0m\u001b[1;33m\u001b[0m\u001b[1;33m\u001b[0m\u001b[0m\n\u001b[0m\u001b[0;32m    271\u001b[0m \u001b[1;33m\u001b[0m\u001b[0m\n\u001b[0;32m    272\u001b[0m             \u001b[1;31m# check for empty input\u001b[0m\u001b[1;33m\u001b[0m\u001b[1;33m\u001b[0m\u001b[1;33m\u001b[0m\u001b[0m\n",
      "\u001b[1;32mc:\\Users\\rmari\\anaconda3\\lib\\site-packages\\scipy\\stats\\_mannwhitneyu.py\u001b[0m in \u001b[0;36mmannwhitneyu\u001b[1;34m(x, y, use_continuity, alternative, axis, method)\u001b[0m\n\u001b[0;32m    390\u001b[0m \u001b[1;33m\u001b[0m\u001b[0m\n\u001b[0;32m    391\u001b[0m     x, y, use_continuity, alternative, axis_int, method = (\n\u001b[1;32m--> 392\u001b[1;33m         _mwu_input_validation(x, y, use_continuity, alternative, axis, method))\n\u001b[0m\u001b[0;32m    393\u001b[0m \u001b[1;33m\u001b[0m\u001b[0m\n\u001b[0;32m    394\u001b[0m     \u001b[0mx\u001b[0m\u001b[1;33m,\u001b[0m \u001b[0my\u001b[0m\u001b[1;33m,\u001b[0m \u001b[0mxy\u001b[0m \u001b[1;33m=\u001b[0m \u001b[0m_broadcast_concatenate\u001b[0m\u001b[1;33m(\u001b[0m\u001b[0mx\u001b[0m\u001b[1;33m,\u001b[0m \u001b[0my\u001b[0m\u001b[1;33m,\u001b[0m \u001b[0maxis\u001b[0m\u001b[1;33m)\u001b[0m\u001b[1;33m\u001b[0m\u001b[1;33m\u001b[0m\u001b[0m\n",
      "\u001b[1;32mc:\\Users\\rmari\\anaconda3\\lib\\site-packages\\scipy\\stats\\_mannwhitneyu.py\u001b[0m in \u001b[0;36m_mwu_input_validation\u001b[1;34m(x, y, use_continuity, alternative, axis, method)\u001b[0m\n\u001b[0;32m    130\u001b[0m     \u001b[1;31m# Would use np.asarray_chkfinite, but infs are OK\u001b[0m\u001b[1;33m\u001b[0m\u001b[1;33m\u001b[0m\u001b[1;33m\u001b[0m\u001b[0m\n\u001b[0;32m    131\u001b[0m     \u001b[0mx\u001b[0m\u001b[1;33m,\u001b[0m \u001b[0my\u001b[0m \u001b[1;33m=\u001b[0m \u001b[0mnp\u001b[0m\u001b[1;33m.\u001b[0m\u001b[0matleast_1d\u001b[0m\u001b[1;33m(\u001b[0m\u001b[0mx\u001b[0m\u001b[1;33m)\u001b[0m\u001b[1;33m,\u001b[0m \u001b[0mnp\u001b[0m\u001b[1;33m.\u001b[0m\u001b[0matleast_1d\u001b[0m\u001b[1;33m(\u001b[0m\u001b[0my\u001b[0m\u001b[1;33m)\u001b[0m\u001b[1;33m\u001b[0m\u001b[1;33m\u001b[0m\u001b[0m\n\u001b[1;32m--> 132\u001b[1;33m     \u001b[1;32mif\u001b[0m \u001b[0mnp\u001b[0m\u001b[1;33m.\u001b[0m\u001b[0misnan\u001b[0m\u001b[1;33m(\u001b[0m\u001b[0mx\u001b[0m\u001b[1;33m)\u001b[0m\u001b[1;33m.\u001b[0m\u001b[0many\u001b[0m\u001b[1;33m(\u001b[0m\u001b[1;33m)\u001b[0m \u001b[1;32mor\u001b[0m \u001b[0mnp\u001b[0m\u001b[1;33m.\u001b[0m\u001b[0misnan\u001b[0m\u001b[1;33m(\u001b[0m\u001b[0my\u001b[0m\u001b[1;33m)\u001b[0m\u001b[1;33m.\u001b[0m\u001b[0many\u001b[0m\u001b[1;33m(\u001b[0m\u001b[1;33m)\u001b[0m\u001b[1;33m:\u001b[0m\u001b[1;33m\u001b[0m\u001b[1;33m\u001b[0m\u001b[0m\n\u001b[0m\u001b[0;32m    133\u001b[0m         \u001b[1;32mraise\u001b[0m \u001b[0mValueError\u001b[0m\u001b[1;33m(\u001b[0m\u001b[1;34m'`x` and `y` must not contain NaNs.'\u001b[0m\u001b[1;33m)\u001b[0m\u001b[1;33m\u001b[0m\u001b[1;33m\u001b[0m\u001b[0m\n\u001b[0;32m    134\u001b[0m     \u001b[1;32mif\u001b[0m \u001b[0mnp\u001b[0m\u001b[1;33m.\u001b[0m\u001b[0msize\u001b[0m\u001b[1;33m(\u001b[0m\u001b[0mx\u001b[0m\u001b[1;33m)\u001b[0m \u001b[1;33m==\u001b[0m \u001b[1;36m0\u001b[0m \u001b[1;32mor\u001b[0m \u001b[0mnp\u001b[0m\u001b[1;33m.\u001b[0m\u001b[0msize\u001b[0m\u001b[1;33m(\u001b[0m\u001b[0my\u001b[0m\u001b[1;33m)\u001b[0m \u001b[1;33m==\u001b[0m \u001b[1;36m0\u001b[0m\u001b[1;33m:\u001b[0m\u001b[1;33m\u001b[0m\u001b[1;33m\u001b[0m\u001b[0m\n",
      "\u001b[1;31mTypeError\u001b[0m: ufunc 'isnan' not supported for the input types, and the inputs could not be safely coerced to any supported types according to the casting rule ''safe''"
     ]
    }
   ],
   "source": [
    "# playerid\n",
    "print(df.groupby(\"abtest_group\").playerid.mean())\n",
    "print(hypothesis_test(control_results.playerid, test_results.playerid))"
   ]
  },
  {
   "cell_type": "code",
   "execution_count": null,
   "metadata": {},
   "outputs": [
    {
     "name": "stdout",
     "output_type": "stream",
     "text": [
      "abtest_group\n",
      "A    159.306688\n",
      "B    159.269564\n",
      "Name: days_since_installed, dtype: float64\n",
      "MannwhitneyuResult(statistic=8538072968530.0, pvalue=0.6041776844973805)\n"
     ]
    }
   ],
   "source": [
    "# days_since_installed\n",
    "print(df.groupby(\"abtest_group\").days_since_installed.mean())\n",
    "print(hypothesis_test(control_results.days_since_installed, test_results.days_since_installed))"
   ]
  },
  {
   "cell_type": "markdown",
   "metadata": {},
   "source": [
    "All the invariant metrics pass the test. The means of the distributions are very similar and we cannot reject that the underlying distribution is the same for the control and test groups. \n",
    "\n",
    "Since everything looks alright, we will go on and analyze the results of our evaluation metrics."
   ]
  },
  {
   "cell_type": "markdown",
   "metadata": {},
   "source": [
    "## 4. Results Analysis"
   ]
  },
  {
   "cell_type": "markdown",
   "metadata": {},
   "source": [
    "### Aggregated Data"
   ]
  },
  {
   "cell_type": "markdown",
   "metadata": {},
   "source": [
    "To consider the results as positive, we would like to see that the change made to the game, aka treatment, will result in a greater engagement and/or number of purchases. \n",
    "\n",
    "Thus, our null hypothesis (H0) and alternative hypothesis (Ha) are as follows:  \n",
    "\n",
    "    - H0: There is no difference in the average number of gamerounds and/or purchases in the test and control groups.\n",
    "    - Ha: The average number of gamerounds and/or purchases of the test group is greater than the control group.\n",
    "\n",
    "Since the alternative hypothesis states that the true value of the parameter specified in the null hypothesis is greater than the null hypothesis claims, we will use a right-tailed test.\n",
    "\n",
    "We choose our significance level to be 0.05. Thus, if p<=0.05, we reject the H0."
   ]
  },
  {
   "cell_type": "markdown",
   "metadata": {},
   "source": [
    "Let's first look into the gameround and purchases summary statistics for the different abtest_groups. "
   ]
  },
  {
   "cell_type": "code",
   "execution_count": null,
   "metadata": {},
   "outputs": [
    {
     "data": {
      "text/html": [
       "<style  type=\"text/css\" >\n",
       "</style><table id=\"T_4085f_\" ><thead>    <tr>        <th class=\"blank level0\" ></th>        <th class=\"col_heading level0 col0\" colspan=\"5\">total_gameends</th>        <th class=\"col_heading level0 col5\" colspan=\"5\">total_purchases</th>    </tr>    <tr>        <th class=\"blank level1\" ></th>        <th class=\"col_heading level1 col0\" >count</th>        <th class=\"col_heading level1 col1\" >median</th>        <th class=\"col_heading level1 col2\" >mean</th>        <th class=\"col_heading level1 col3\" >std</th>        <th class=\"col_heading level1 col4\" >max</th>        <th class=\"col_heading level1 col5\" >count</th>        <th class=\"col_heading level1 col6\" >median</th>        <th class=\"col_heading level1 col7\" >mean</th>        <th class=\"col_heading level1 col8\" >std</th>        <th class=\"col_heading level1 col9\" >max</th>    </tr>    <tr>        <th class=\"index_name level0\" >abtest_group</th>        <th class=\"blank\" ></th>        <th class=\"blank\" ></th>        <th class=\"blank\" ></th>        <th class=\"blank\" ></th>        <th class=\"blank\" ></th>        <th class=\"blank\" ></th>        <th class=\"blank\" ></th>        <th class=\"blank\" ></th>        <th class=\"blank\" ></th>        <th class=\"blank\" ></th>    </tr></thead><tbody>\n",
       "                <tr>\n",
       "                        <th id=\"T_4085f_level0_row0\" class=\"row_heading level0 row0\" >A</th>\n",
       "                        <td id=\"T_4085f_row0_col0\" class=\"data row0 col0\" >8265610.000</td>\n",
       "                        <td id=\"T_4085f_row0_col1\" class=\"data row0 col1\" >129.000</td>\n",
       "                        <td id=\"T_4085f_row0_col2\" class=\"data row0 col2\" >158.563</td>\n",
       "                        <td id=\"T_4085f_row0_col3\" class=\"data row0 col3\" >139.754</td>\n",
       "                        <td id=\"T_4085f_row0_col4\" class=\"data row0 col4\" >1932.000</td>\n",
       "                        <td id=\"T_4085f_row0_col5\" class=\"data row0 col5\" >8265610.000</td>\n",
       "                        <td id=\"T_4085f_row0_col6\" class=\"data row0 col6\" >0.000</td>\n",
       "                        <td id=\"T_4085f_row0_col7\" class=\"data row0 col7\" >0.366</td>\n",
       "                        <td id=\"T_4085f_row0_col8\" class=\"data row0 col8\" >9.463</td>\n",
       "                        <td id=\"T_4085f_row0_col9\" class=\"data row0 col9\" >5690.000</td>\n",
       "            </tr>\n",
       "            <tr>\n",
       "                        <th id=\"T_4085f_level0_row1\" class=\"row_heading level0 row1\" >B</th>\n",
       "                        <td id=\"T_4085f_row1_col0\" class=\"data row1 col0\" >2065446.000</td>\n",
       "                        <td id=\"T_4085f_row1_col1\" class=\"data row1 col1\" >127.000</td>\n",
       "                        <td id=\"T_4085f_row1_col2\" class=\"data row1 col2\" >155.490</td>\n",
       "                        <td id=\"T_4085f_row1_col3\" class=\"data row1 col3\" >136.897</td>\n",
       "                        <td id=\"T_4085f_row1_col4\" class=\"data row1 col4\" >1911.000</td>\n",
       "                        <td id=\"T_4085f_row1_col5\" class=\"data row1 col5\" >2065446.000</td>\n",
       "                        <td id=\"T_4085f_row1_col6\" class=\"data row1 col6\" >0.000</td>\n",
       "                        <td id=\"T_4085f_row1_col7\" class=\"data row1 col7\" >0.393</td>\n",
       "                        <td id=\"T_4085f_row1_col8\" class=\"data row1 col8\" >9.720</td>\n",
       "                        <td id=\"T_4085f_row1_col9\" class=\"data row1 col9\" >5238.000</td>\n",
       "            </tr>\n",
       "    </tbody></table>"
      ],
      "text/plain": [
       "<pandas.io.formats.style.Styler at 0x1b01d3f8310>"
      ]
     },
     "execution_count": 153,
     "metadata": {},
     "output_type": "execute_result"
    }
   ],
   "source": [
    "df[[\"abtest_group\", \"total_gameends\", \"total_purchases\"]].groupby(by=\"abtest_group\").agg([\"count\", \n",
    "                                                                \"median\", \"mean\", \"std\", \"max\"]).style.format('{:.3f}')"
   ]
  },
  {
   "cell_type": "code",
   "execution_count": null,
   "metadata": {},
   "outputs": [
    {
     "data": {
      "image/png": "[encoded data removed]",
      "text/plain": [
       "<Figure size 1224x360 with 3 Axes>"
      ]
     },
     "metadata": {
      "needs_background": "light"
     },
     "output_type": "display_data"
    }
   ],
   "source": [
    "fig, ax = plt.subplots(1, 3, figsize=(17, 5))\n",
    "control_results.hist(\"total_gameends\", density=True, bins= 20, ax=ax[0])\n",
    "test_results.hist(\"total_gameends\", density=True, bins= 20, ax=ax[1])\n",
    "sns.boxplot(x=\"abtest_group\", y=\"total_gameends\", data=df, ax=ax[2])\n",
    "\n",
    "fig.suptitle(\"Gamerounds\", fontsize=15)\n",
    "ax[0].set_title(\"Distribution of Test\", fontsize = 12)\n",
    "ax[1].set_title(\"Distribution of Control\", fontsize = 12)\n",
    "ax[2].set_title(\"Boxplot of Two Groups\", fontsize = 12)\n",
    "plt.tight_layout(pad = 1)\n",
    "plt.show()"
   ]
  },
  {
   "cell_type": "code",
   "execution_count": null,
   "metadata": {},
   "outputs": [
    {
     "data": {
      "image/png": "[encoded data removed]",
      "text/plain": [
       "<Figure size 1224x360 with 3 Axes>"
      ]
     },
     "metadata": {
      "needs_background": "light"
     },
     "output_type": "display_data"
    }
   ],
   "source": [
    "fig, ax = plt.subplots(1, 3, figsize=(17, 5))\n",
    "control_results.hist(\"total_purchases\", density=True, bins=20, ax=ax[0])\n",
    "test_results.hist(\"total_purchases\", density=True, bins= 20, ax=ax[1])\n",
    "sns.boxplot(x=\"abtest_group\", y=\"total_purchases\", data=df, ax=ax[2])\n",
    "\n",
    "fig.suptitle(\"Purchases\", fontsize=15)\n",
    "ax[0].set_title(\"Distribution of Test\", fontsize = 12)\n",
    "ax[1].set_title(\"Distribution of Control\", fontsize = 12)\n",
    "ax[2].set_title(\"Boxplot of Two Groups\", fontsize = 12)\n",
    "plt.tight_layout(pad = 1)\n",
    "plt.show()"
   ]
  },
  {
   "cell_type": "code",
   "execution_count": null,
   "metadata": {},
   "outputs": [
    {
     "data": {
      "image/png": "[encoded data removed]",
      "text/plain": [
       "<Figure size 1224x360 with 3 Axes>"
      ]
     },
     "metadata": {
      "needs_background": "light"
     },
     "output_type": "display_data"
    }
   ],
   "source": [
    "grouped_df = df[[\"abtest_group\", \"total_gameends\", \"total_purchases\"]].groupby(df[\"abtest_group\"]).mean()\n",
    "grouped_df_lift = (grouped_df.loc[\"B\"] - grouped_df.loc[\"A\"]) / grouped_df.loc[\"A\"]\n",
    "\n",
    "fig, ax = plt.subplots(1, 3, figsize=(17, 5))\n",
    "sns.barplot(x=grouped_df.total_gameends.index, y=grouped_df.total_gameends, ax=ax[0])\n",
    "sns.barplot(x=grouped_df.total_purchases.index, y=grouped_df.total_purchases, ax=ax[1])\n",
    "sns.barplot(x=grouped_df_lift.index, y=grouped_df_lift*100, ax=ax[2])\n",
    "\n",
    "fig.suptitle(\"Experiment Results\", fontsize=15)\n",
    "ax[0].set_title(\"Gamerounds\", pad=10)\n",
    "ax[0].set_ylabel(\"Average Number of Game Rounds per Player\")\n",
    "ax[1].set_title(\"Purchases\", pad=10)\n",
    "ax[1].set_ylabel(\"Average Number of Purchases per Player\")\n",
    "ax[2].set_ylim(-8, 8)\n",
    "ax[2].set_title(\"AB Test Results\")\n",
    "ax[2].set_xlabel(\"Evaluation Metric\")\n",
    "ax[2].set_ylabel(\"Lift (%)\")\n",
    "plt.axhline(y=0, color='r', linestyle='-')\n",
    "plt.tight_layout(pad = 1)\n",
    "plt.show()"
   ]
  },
  {
   "cell_type": "markdown",
   "metadata": {},
   "source": [
    "It would seem that our treatment has resulted in a decrease in the average number of gamerounds per player of around 2% (bummer!), but a substantial increase of around 7% in the average number of purchases made. \n",
    "\n",
    "To confirm these results, we will perform hypothesis tests."
   ]
  },
  {
   "cell_type": "code",
   "execution_count": null,
   "metadata": {},
   "outputs": [
    {
     "data": {
      "text/plain": [
       "MannwhitneyuResult(statistic=8373836786400.0, pvalue=0.0)"
      ]
     },
     "execution_count": 192,
     "metadata": {},
     "output_type": "execute_result"
    }
   ],
   "source": [
    "hypothesis_test(test_results[\"total_gameends\"], control_results[\"total_gameends\"], alternative=\"less\")"
   ]
  },
  {
   "cell_type": "code",
   "execution_count": null,
   "metadata": {},
   "outputs": [
    {
     "data": {
      "text/plain": [
       "MannwhitneyuResult(statistic=8536180046875.0, pvalue=0.4901617437975493)"
      ]
     },
     "execution_count": 299,
     "metadata": {},
     "output_type": "execute_result"
    }
   ],
   "source": [
    "hypothesis_test(test_results[\"total_purchases\"], control_results[\"total_purchases\"], alternative=\"greater\")"
   ]
  },
  {
   "cell_type": "markdown",
   "metadata": {},
   "source": [
    "This shows that we can be confident that there is a difference between the average number of gamerounds between the two groups, but we do not have sufficient evidence to say that the true average number of purchases is different between the two groups."
   ]
  },
  {
   "cell_type": "markdown",
   "metadata": {},
   "source": [
    "### Daily Data"
   ]
  },
  {
   "cell_type": "markdown",
   "metadata": {},
   "source": [
    "We also want to look at the daily average number of gamerounds and purchases evolve throughout the experiment. After launching a new game feature, there may be early transitional effects of the changes introduced in the variants. Looking at the daily averages, rather than the total averages, may yield some interesting information. Let's look at daily average data. "
   ]
  },
  {
   "cell_type": "code",
   "execution_count": null,
   "metadata": {},
   "outputs": [
    {
     "data": {
      "text/html": [
       "<div>\n",
       "<style scoped>\n",
       "    .dataframe tbody tr th:only-of-type {\n",
       "        vertical-align: middle;\n",
       "    }\n",
       "\n",
       "    .dataframe tbody tr th {\n",
       "        vertical-align: top;\n",
       "    }\n",
       "\n",
       "    .dataframe thead th {\n",
       "        text-align: right;\n",
       "    }\n",
       "</style>\n",
       "<table border=\"1\" class=\"dataframe\">\n",
       "  <thead>\n",
       "    <tr style=\"text-align: right;\">\n",
       "      <th></th>\n",
       "      <th>abtest_group</th>\n",
       "      <th>activity_date</th>\n",
       "      <th>avg_gameends</th>\n",
       "      <th>std_gameends</th>\n",
       "      <th>n_gameends</th>\n",
       "      <th>avg_purchases</th>\n",
       "      <th>std_purchases</th>\n",
       "      <th>n_purchases</th>\n",
       "    </tr>\n",
       "  </thead>\n",
       "  <tbody>\n",
       "    <tr>\n",
       "      <th>0</th>\n",
       "      <td>A</td>\n",
       "      <td>2017-05-04</td>\n",
       "      <td>13.179551</td>\n",
       "      <td>10.238376</td>\n",
       "      <td>68597770</td>\n",
       "      <td>0.030555</td>\n",
       "      <td>0.757338</td>\n",
       "      <td>159035</td>\n",
       "    </tr>\n",
       "    <tr>\n",
       "      <th>1</th>\n",
       "      <td>B</td>\n",
       "      <td>2017-05-04</td>\n",
       "      <td>13.119000</td>\n",
       "      <td>10.180584</td>\n",
       "      <td>17040715</td>\n",
       "      <td>0.031852</td>\n",
       "      <td>0.775842</td>\n",
       "      <td>41374</td>\n",
       "    </tr>\n",
       "    <tr>\n",
       "      <th>2</th>\n",
       "      <td>A</td>\n",
       "      <td>2017-05-05</td>\n",
       "      <td>13.186148</td>\n",
       "      <td>10.250823</td>\n",
       "      <td>68498045</td>\n",
       "      <td>0.030470</td>\n",
       "      <td>0.768134</td>\n",
       "      <td>158282</td>\n",
       "    </tr>\n",
       "    <tr>\n",
       "      <th>3</th>\n",
       "      <td>B</td>\n",
       "      <td>2017-05-05</td>\n",
       "      <td>13.003362</td>\n",
       "      <td>10.096645</td>\n",
       "      <td>16868794</td>\n",
       "      <td>0.033394</td>\n",
       "      <td>0.772663</td>\n",
       "      <td>43321</td>\n",
       "    </tr>\n",
       "    <tr>\n",
       "      <th>4</th>\n",
       "      <td>A</td>\n",
       "      <td>2017-05-06</td>\n",
       "      <td>13.182186</td>\n",
       "      <td>10.235810</td>\n",
       "      <td>68755819</td>\n",
       "      <td>0.030389</td>\n",
       "      <td>0.771736</td>\n",
       "      <td>158504</td>\n",
       "    </tr>\n",
       "  </tbody>\n",
       "</table>\n",
       "</div>"
      ],
      "text/plain": [
       "  abtest_group activity_date  avg_gameends  std_gameends  n_gameends  \\\n",
       "0            A    2017-05-04     13.179551     10.238376    68597770   \n",
       "1            B    2017-05-04     13.119000     10.180584    17040715   \n",
       "2            A    2017-05-05     13.186148     10.250823    68498045   \n",
       "3            B    2017-05-05     13.003362     10.096645    16868794   \n",
       "4            A    2017-05-06     13.182186     10.235810    68755819   \n",
       "\n",
       "   avg_purchases  std_purchases  n_purchases  \n",
       "0       0.030555       0.757338       159035  \n",
       "1       0.031852       0.775842        41374  \n",
       "2       0.030470       0.768134       158282  \n",
       "3       0.033394       0.772663        43321  \n",
       "4       0.030389       0.771736       158504  "
      ]
     },
     "execution_count": 216,
     "metadata": {},
     "output_type": "execute_result"
    }
   ],
   "source": [
    "df1.head()  # contains the average number of gamerounds and purchases made each day of the experiment"
   ]
  },
  {
   "cell_type": "code",
   "execution_count": null,
   "metadata": {},
   "outputs": [
    {
     "data": {
      "image/png": "[encoded data removed]",
      "text/plain": [
       "<Figure size 1080x360 with 2 Axes>"
      ]
     },
     "metadata": {
      "needs_background": "light"
     },
     "output_type": "display_data"
    }
   ],
   "source": [
    "fig, ax = plt.subplots(1, 2, figsize=(15, 5))\n",
    "xticklabels = df1.activity_date.unique()\n",
    "sns.lineplot(x=\"activity_date\", y=\"avg_gameends\", hue=\"abtest_group\", data=df1, ax=ax[0])\n",
    "sns.lineplot(x=\"activity_date\", y=\"avg_purchases\", hue=\"abtest_group\", data=df1, ax=ax[1])\n",
    "ax[0].set_xticklabels(xticklabels, rotation=40)\n",
    "ax[1].set_xticklabels(xticklabels, rotation=40)\n",
    "plt.tight_layout(pad=1)\n",
    "plt.show()"
   ]
  },
  {
   "cell_type": "markdown",
   "metadata": {},
   "source": [
    "On the left, we see that average number of gamerounds of the test group decreases right away and keeps constant, so we are more certain that the treatment has a negative effect on player engagement. \n",
    "\n",
    "However, on the right we see that the average number of daily purchases in the test group has a negative trend over time. By the end of the experiment, the purchases of the test group are equal to those in the control group, indicating that the 7% lift in the average number of purchases is likely to be transitory. To take more meaningful conclusions, we should wait for the purchases to stabilize. "
   ]
  },
  {
   "cell_type": "markdown",
   "metadata": {},
   "source": [
    "### Analysis by Player Type"
   ]
  },
  {
   "cell_type": "markdown",
   "metadata": {},
   "source": [
    "It would be interesting to see if different types of players react differently to the treatment."
   ]
  },
  {
   "cell_type": "code",
   "execution_count": null,
   "metadata": {},
   "outputs": [
    {
     "data": {
      "text/html": [
       "<div>\n",
       "<style scoped>\n",
       "    .dataframe tbody tr th:only-of-type {\n",
       "        vertical-align: middle;\n",
       "    }\n",
       "\n",
       "    .dataframe tbody tr th {\n",
       "        vertical-align: top;\n",
       "    }\n",
       "\n",
       "    .dataframe thead th {\n",
       "        text-align: right;\n",
       "    }\n",
       "</style>\n",
       "<table border=\"1\" class=\"dataframe\">\n",
       "  <thead>\n",
       "    <tr style=\"text-align: right;\">\n",
       "      <th></th>\n",
       "      <th>abtest_group</th>\n",
       "      <th>player_type</th>\n",
       "      <th>total_gameends</th>\n",
       "      <th>total_purchases</th>\n",
       "    </tr>\n",
       "  </thead>\n",
       "  <tbody>\n",
       "    <tr>\n",
       "      <th>0</th>\n",
       "      <td>A</td>\n",
       "      <td>OG</td>\n",
       "      <td>184.112059</td>\n",
       "      <td>0.427444</td>\n",
       "    </tr>\n",
       "    <tr>\n",
       "      <th>1</th>\n",
       "      <td>A</td>\n",
       "      <td>experienced</td>\n",
       "      <td>170.987525</td>\n",
       "      <td>0.389854</td>\n",
       "    </tr>\n",
       "    <tr>\n",
       "      <th>2</th>\n",
       "      <td>A</td>\n",
       "      <td>newbie</td>\n",
       "      <td>64.948765</td>\n",
       "      <td>0.150142</td>\n",
       "    </tr>\n",
       "    <tr>\n",
       "      <th>3</th>\n",
       "      <td>B</td>\n",
       "      <td>OG</td>\n",
       "      <td>180.576797</td>\n",
       "      <td>0.455691</td>\n",
       "    </tr>\n",
       "    <tr>\n",
       "      <th>4</th>\n",
       "      <td>B</td>\n",
       "      <td>experienced</td>\n",
       "      <td>167.774378</td>\n",
       "      <td>0.428025</td>\n",
       "    </tr>\n",
       "    <tr>\n",
       "      <th>5</th>\n",
       "      <td>B</td>\n",
       "      <td>newbie</td>\n",
       "      <td>63.739933</td>\n",
       "      <td>0.155587</td>\n",
       "    </tr>\n",
       "  </tbody>\n",
       "</table>\n",
       "</div>"
      ],
      "text/plain": [
       "  abtest_group  player_type  total_gameends  total_purchases\n",
       "0            A           OG      184.112059         0.427444\n",
       "1            A  experienced      170.987525         0.389854\n",
       "2            A       newbie       64.948765         0.150142\n",
       "3            B           OG      180.576797         0.455691\n",
       "4            B  experienced      167.774378         0.428025\n",
       "5            B       newbie       63.739933         0.155587"
      ]
     },
     "execution_count": 263,
     "metadata": {},
     "output_type": "execute_result"
    }
   ],
   "source": [
    "player_types = df[[\"abtest_group\", \"player_type\", \"total_gameends\", \"total_purchases\"]].groupby(by=[\"abtest_group\", \n",
    "                                                                                    \"player_type\"]).agg(np.mean).reset_index()\n",
    "player_types"
   ]
  },
  {
   "cell_type": "code",
   "execution_count": null,
   "metadata": {},
   "outputs": [
    {
     "data": {
      "image/png": "[encoded data removed]",
      "text/plain": [
       "<Figure size 1080x360 with 2 Axes>"
      ]
     },
     "metadata": {
      "needs_background": "light"
     },
     "output_type": "display_data"
    }
   ],
   "source": [
    "fig, ax = plt.subplots(1, 2, figsize=(15, 5))\n",
    "sns.barplot(x=\"player_type\", y=\"total_gameends\", hue=\"abtest_group\", data=player_types, ax=ax[0])\n",
    "sns.barplot(x=\"player_type\", y=\"total_purchases\", hue=\"abtest_group\", data=player_types, ax=ax[1])\n",
    "\n",
    "fig.suptitle(\"Player Segmentation Analysis\", fontsize=15)\n",
    "ax[0].set_title(\"Average Gamerounds by Player Type\")\n",
    "ax[0].set_ylabel(\"Average Gamerounds\")\n",
    "ax[1].set_title(\"Average Purchases by Player Type\")\n",
    "ax[1].set_ylabel(\"Average Purchases\")\n",
    "plt.tight_layout(pad=1)\n",
    "plt.show()"
   ]
  },
  {
   "cell_type": "markdown",
   "metadata": {},
   "source": [
    "The treatment's engagement and monetization lift appears less extreme for newbies for both gamerounds and purchases. Newbies are those that have installed the game after the start of the ab test and thus had never seen the control version of the game. \n",
    "\n",
    "This suggests that there isn't a significant difference between the two versions for new players, at least during the first weeks of play. "
   ]
  },
  {
   "cell_type": "markdown",
   "metadata": {},
   "source": [
    "## 5. What type of change to the game do you think was tested here?"
   ]
  },
  {
   "cell_type": "markdown",
   "metadata": {},
   "source": [
    "Knowing the type of change introduced to the game is important before deciding whether to recommend the treatment or reject it.\n",
    "\n",
    "Let's remember the business problem! Players need to solve math questions to progress through a map. The game is Free to Play meaning that players can download and play the game for free but can optionally buy hints on the levels.\n",
    "\n",
    "The results show an increase in the average purchases (although statistically not significant) that starts falling after the first week, but a decrease in engagement. We also see that the change has almost no effect on new players. \n",
    "\n",
    "This seems to suggest that the next set of new levels has been introduced to the game. The hypothesis would explain why the change has almost no effect on new players -they are unlikely to reach these higher levels in just a couple of weeks-, and would explain both an increase in purchases and a slight decrease in engagement -now players have more levels to get stuck on and pay (particularly experienced players that had reached the end), but the fact that the later levels are harder can make them lose the motivation to keep playing-. The sudden drop of purchases after a week could be explained by the experienced players reaching the final level again.\n"
   ]
  },
  {
   "cell_type": "markdown",
   "metadata": {},
   "source": [
    "## 5. Conclusion"
   ]
  },
  {
   "cell_type": "markdown",
   "metadata": {},
   "source": [
    "In this experiment, we analyzed the data provided to determine wether the test variant makes Super Math Saga a better game. The main takaways are as follows:\n",
    "\n",
    "The results of the analysis indicate that there is a statistical significance that the test group has a lower engagement than the control group. \n",
    "\n",
    "In terms of monetization, we have not been able to proof that the test variant produces a statistical significant lift over the control. Additionally, we have observed that despite an initial increase in purchases of the test variant on the first few days of the test, the trend starts to fall thereafter until the two variants look nearly identical.\n",
    "\n",
    "A further analysis by player type suggests that the two variants perform nearly identically in new players in terms of engagement and monetization, and the effect mainly affects more experienced players.\n",
    "\n",
    "For all these reasons and without more information on the experiment that was performed, we cannot conclude that the change introduced to the game is a significant improvement over the control variant, and we cannot recommend that the test variant is launched. "
   ]
  }
 ],
 "metadata": {
  "kernelspec": {
   "display_name": "Python 3.8.8 ('base')",
   "language": "python",
   "name": "python3"
  },
  "language_info": {
   "codemirror_mode": {
    "name": "ipython",
    "version": 3
   },
   "file_extension": ".py",
   "mimetype": "text/x-python",
   "name": "python",
   "nbconvert_exporter": "python",
   "pygments_lexer": "ipython3",
   "version": "3.8.8"
  },
  "orig_nbformat": 4,
  "vscode": {
   "interpreter": {
    "hash": "74609ea32c075f5c8e96a18961956eadb9a9347b199f0247ab8ad93a9d4aa1e3"
   }
  }
 },
 "nbformat": 4,
 "nbformat_minor": 2
}

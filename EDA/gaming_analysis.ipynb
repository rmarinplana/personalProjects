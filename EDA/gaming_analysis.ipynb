{
 "cells": [
  {
   "cell_type": "markdown",
   "metadata": {},
   "source": [
    "## King’s Super Math Saga experiment"
   ]
  },
  {
   "cell_type": "markdown",
   "metadata": {},
   "source": [
    "## Problem statement\n",
    "Super Math Saga is a fictional mobile game. Like other Saga games, players need to beat levels to progress\n",
    "through a map. At every level, players are faced with a math question they need to answer correctly to pass\n",
    "to the next level. The game is Free to Play meaning that players can download and play the game for free\n",
    "but can optionally buy hints on the levels.\n",
    "\n",
    "In 2017 we ran an experiment (A/B Test) on the game, offering two different game experiences that we\n",
    "call A and B, group A being the control group where the experience is kept as is, and group B being\n",
    "the experiment group that is exposed to the new experience. We set the assignment process to randomly\n",
    "distribute players among the groups: 80% to group A (control) and 20% to group B (test). The experiment\n",
    "ran from 2017-05-04 to 2017-05-22.\n",
    "\n",
    "Your assigment is to analyse and summarise the data provided, to determine which of the experiences makes\n",
    "Super Math Saga a better game. Send us a short (max 3 pages) report, suitable to present to the head\n",
    "of studio, with your findings and supporting plots, making recommendations for what the game should\n",
    "implement and any further analysis you think would be valuable. Markdown or notebook is the preferred\n",
    "report format.\n",
    "\n",
    "#### Suggested areas for analysis\n",
    "1. Which metrics do you consider important to look at in this case? What can you say about them in this\n",
    "A/B test?\n",
    "2. What sanity checks can you do to be confident in the validity of the test?\n",
    "3. Compute the average number of gamerounds per player for each group. Can you confidently state\n",
    "which group has higher engagement?\n",
    "4. Do different types of players react differently to the treatment?\n",
    "5. What type of change to the game do you think was tested here?"
   ]
  },
  {
   "cell_type": "markdown",
   "metadata": {},
   "source": [
    "### Data Description"
   ]
  },
  {
   "cell_type": "markdown",
   "metadata": {},
   "source": [
    "The assignment table contains players assigned to the A/B test and attributes related to each player.\n",
    "1. playerid: Unique numeric identifier for each player\n",
    "2. abtest_group: The group the player was assigned to (A or B)\n",
    "3. assignment_date: The date when the player was assigned to the test\n",
    "4. install_date: The date when the player installed the game\n",
    "5. conversion_date: The date when the player made their first purchase\n",
    "\n",
    "The activity table contains player activity for each day a player was active.\n",
    "1. playerid: Unique numeric identifier for each player\n",
    "2. activity_date: The date of activity\n",
    "3. purchases: Number of purchases made this day\n",
    "4. gameends: Number of gamerounds played this day"
   ]
  },
  {
   "cell_type": "markdown",
   "metadata": {},
   "source": [
    "### Hypothesis Test"
   ]
  },
  {
   "cell_type": "markdown",
   "metadata": {},
   "source": [
    "Assumptions:\n",
    "\n",
    "    - Check for normality\n",
    "    - If normal distribution, check for homogeneity\n",
    "\n",
    "Steps:\n",
    "\n",
    "    - Apply Shapiro Test for normality\n",
    "    - If parametric, apply Levene Test for homogeneity of variances\n",
    "    - If parametric + homogeneity of variances apply T-Test\n",
    "    - If parametric - homogeneity of variances apply Welch Test\n",
    "    - If non-parametric apply Mann Whitney U Test"
   ]
  },
  {
   "cell_type": "code",
   "execution_count": 212,
   "metadata": {},
   "outputs": [],
   "source": [
    "# define function that checks assumptions and applies appropriate hypothesis test\n",
    "def hypothesis_test(test, control, alternative=\"two-sided\"):\n",
    "\n",
    "    # import packages\n",
    "    from scipy.stats import shapiro\n",
    "    import scipy.stats as stats\n",
    "    \n",
    "    # check for normality:\n",
    "    ntA = shapiro(test)[1] < 0.05\n",
    "    ntB = shapiro(control)[1] < 0.05\n",
    "\n",
    "    if (ntA == False) & (ntB == False): \n",
    "        # parametric test\n",
    "        # check for homogeneity\n",
    "        leveneTest = stats.levene(test, control)[1] < 0.05\n",
    "\n",
    "        if leveneTest == False: # homogeneus\n",
    "            ttest = stats.ttest_ind(test, control, equal_var=True, alternative=alternative)\n",
    "        else: # heterogeneous\n",
    "            ttest = stats.ttest_ind(test, control, equal_var=False, alternative=alternative)\n",
    "    else:\n",
    "        # non-parametric test\n",
    "        ttest = stats.mannwhitneyu(test, control, alternative=alternative)\n",
    "\n",
    "    return ttest"
   ]
  },
  {
   "cell_type": "markdown",
   "metadata": {},
   "source": [
    "### Packages"
   ]
  },
  {
   "cell_type": "code",
   "execution_count": 187,
   "metadata": {},
   "outputs": [],
   "source": [
    "# import packages\n",
    "\n",
    "# Basic\n",
    "import pandas as pd\n",
    "import numpy as np\n",
    "import matplotlib.pyplot as plt\n",
    "import seaborn as sns\n",
    "\n",
    "# GCP\n",
    "import pandas_gbq\n",
    "import db_dtypes\n",
    "\n",
    "# Hypothesis Testing\n",
    "from scipy.stats import shapiro\n",
    "from scipy.stats import mannwhitneyu as mwu\n",
    "from scipy.stats import ttest_ind\n",
    "\n",
    "# Configuration\n",
    "import warnings\n",
    "warnings.filterwarnings(\"ignore\")\n",
    "warnings.simplefilter(action='ignore', category=FutureWarning)"
   ]
  },
  {
   "cell_type": "markdown",
   "metadata": {},
   "source": [
    "## 1. Data Extraction & Prep"
   ]
  },
  {
   "cell_type": "code",
   "execution_count": 53,
   "metadata": {},
   "outputs": [],
   "source": [
    "# define function to query data from gcp and transform it into df\n",
    "def gcp2df(query):\n",
    "    project_id = 'king-ds-recruit-candidate-635'\n",
    "    return pd.read_gbq(query, project_id=project_id, dialect='standard')"
   ]
  },
  {
   "cell_type": "code",
   "execution_count": 181,
   "metadata": {},
   "outputs": [],
   "source": [
    "query = ('''\n",
    "    WITH\n",
    "\n",
    "    activity AS (\n",
    "    SELECT playerid, SUM(purchases) AS total_purchases, SUM(gameends) as total_gameends\n",
    "        FROM `king-ds-recruit-candidate-635.abtest.activity` \n",
    "        WHERE activity_date BETWEEN \"2017-05-04\" AND \"2017-05-22\"\n",
    "        GROUP BY playerid\n",
    "    ),\n",
    "\n",
    "    joinTables AS (\n",
    "    SELECT ass.*, ac.total_gameends, ac.total_purchases\n",
    "    FROM `king-ds-recruit-candidate-635.abtest.assignment` AS ass\n",
    "    LEFT JOIN  activity AS ac\n",
    "    ON ass.playerid=ac.playerid\n",
    "    )\n",
    "\n",
    "    SELECT * EXCEPT(abtest_group),\n",
    "    CASE abtest_group\n",
    "      WHEN \"A\" THEN \"control\"\n",
    "      ELSE \"test\"\n",
    "      END\n",
    "      AS abtest_group\n",
    "    FROM joinTables\n",
    "    ''')\n",
    "\n",
    "df = gcp2df(query)\n",
    "#df = pd.read_csv(\"../../../king.csv\", index_col=0)"
   ]
  },
  {
   "cell_type": "code",
   "execution_count": 56,
   "metadata": {},
   "outputs": [],
   "source": [
    " # format date variables into datetime\n",
    "df[[\"assignment_date\", \"install_date\", \"conversion_date\"]] = df[[\"assignment_date\", \"install_date\", \n",
    "                                                                \"conversion_date\"]].apply(pd.to_datetime)"
   ]
  },
  {
   "cell_type": "code",
   "execution_count": null,
   "metadata": {},
   "outputs": [],
   "source": [
    "# create more meaningful and actionable variables form datetime variables\n",
    "df[\"days_since_installed\"] = (df.assignment_date.max() - df.install_date).dt.days # time since a player installed the game in days\n",
    "df[\"days_to_convert\"] = (df.conversion_date - df.install_date).dt.days # time it takes players to convert after installing the game in days"
   ]
  },
  {
   "cell_type": "code",
   "execution_count": 262,
   "metadata": {},
   "outputs": [],
   "source": [
    "# create a player_type variable that segments players by days_since_installed\n",
    "conditions = [\n",
    "    (df.days_since_installed <= 19),\n",
    "    (df.days_since_installed > 19) & (df.days_since_installed <= 90),\n",
    "    (df.days_since_installed > 90)]\n",
    "values = [\"newbie\", \"experienced\", \"OG\"]\n",
    "df[\"player_type\"] = np.select(conditions, values)"
   ]
  },
  {
   "cell_type": "code",
   "execution_count": 222,
   "metadata": {},
   "outputs": [],
   "source": [
    "# split control and test results\n",
    "control_results = df[df[\"abtest_group\"]==\"A\"]\n",
    "test_results = df[df[\"abtest_group\"]==\"B\"]"
   ]
  },
  {
   "cell_type": "code",
   "execution_count": null,
   "metadata": {},
   "outputs": [],
   "source": [
    "query1 = ('''\n",
    "    WITH\n",
    "\n",
    "    activity AS (\n",
    "    SELECT *\n",
    "        FROM `king-ds-recruit-candidate-635.abtest.activity` \n",
    "        WHERE activity_date BETWEEN \"2017-05-04\" AND \"2017-05-22\"\n",
    "    ),\n",
    "\n",
    "    joinTables AS (\n",
    "    SELECT ass.playerid, ass.abtest_group, ac.activity_date, ac.gameends, ac.purchases, \n",
    "    FROM `king-ds-recruit-candidate-635.abtest.assignment` AS ass\n",
    "    LEFT JOIN  activity AS ac\n",
    "    ON ass.playerid=ac.playerid\n",
    "    ),\n",
    "\n",
    "    avg_by_date AS (\n",
    "    SELECT abtest_group, activity_date, AVG(gameends) AS avg_gameends, STDDEV(gameends) AS std_gameends, \n",
    "        SUM(gameends) AS n_gameends, AVG(purchases) AS avg_purchases, STDDEV(purchases) AS std_purchases, \n",
    "        SUM(purchases) AS n_purchases\n",
    "    FROM joinTables\n",
    "    GROUP BY 1, 2\n",
    "    ORDER BY activity_date, abtest_group\n",
    "    )\n",
    "\n",
    "    SELECT *\n",
    "    FROM avg_by_date\n",
    "    ''')\n",
    "\n",
    "df1 = gcp2df(query1)"
   ]
  },
  {
   "cell_type": "markdown",
   "metadata": {},
   "source": [
    "## 2. Metric Choice"
   ]
  },
  {
   "cell_type": "markdown",
   "metadata": {},
   "source": [
    "Invariant metrics: *\n",
    "\n",
    "    - playerid\n",
    "    - days_since_installed\n",
    "\n",
    "Evaluation metrics:\n",
    "\n",
    "    - total_gameends (engagement)\n",
    "    - total_purchases (monetization)\n",
    "    - share of paying players (monetization)\n",
    "    - days_to_convert (monetization)\n",
    "\n",
    "\n",
    "*Invariant metrics are those which should not change across control and experiment groups. If players were randomly assigned, we would expect the distributions of these metrics to stay consistent between the test and control sets, or else there is something fundamentally wrong with the experiment setup."
   ]
  },
  {
   "cell_type": "code",
   "execution_count": 215,
   "metadata": {},
   "outputs": [
    {
     "data": {
      "text/html": [
       "<div>\n",
       "<style scoped>\n",
       "    .dataframe tbody tr th:only-of-type {\n",
       "        vertical-align: middle;\n",
       "    }\n",
       "\n",
       "    .dataframe tbody tr th {\n",
       "        vertical-align: top;\n",
       "    }\n",
       "\n",
       "    .dataframe thead th {\n",
       "        text-align: right;\n",
       "    }\n",
       "</style>\n",
       "<table border=\"1\" class=\"dataframe\">\n",
       "  <thead>\n",
       "    <tr style=\"text-align: right;\">\n",
       "      <th></th>\n",
       "      <th>playerid</th>\n",
       "      <th>abtest_group</th>\n",
       "      <th>assignment_date</th>\n",
       "      <th>install_date</th>\n",
       "      <th>conversion_date</th>\n",
       "      <th>total_gameends</th>\n",
       "      <th>total_purchases</th>\n",
       "      <th>days_since_installed</th>\n",
       "      <th>days_to_conversion</th>\n",
       "      <th>experiment_day</th>\n",
       "    </tr>\n",
       "  </thead>\n",
       "  <tbody>\n",
       "    <tr>\n",
       "      <th>0</th>\n",
       "      <td>32570096</td>\n",
       "      <td>A</td>\n",
       "      <td>2017-05-04</td>\n",
       "      <td>2016-11-20</td>\n",
       "      <td>NaT</td>\n",
       "      <td>104</td>\n",
       "      <td>0</td>\n",
       "      <td>183</td>\n",
       "      <td>NaN</td>\n",
       "      <td>0</td>\n",
       "    </tr>\n",
       "    <tr>\n",
       "      <th>1</th>\n",
       "      <td>17717330</td>\n",
       "      <td>A</td>\n",
       "      <td>2017-05-04</td>\n",
       "      <td>2016-06-26</td>\n",
       "      <td>NaT</td>\n",
       "      <td>89</td>\n",
       "      <td>0</td>\n",
       "      <td>330</td>\n",
       "      <td>NaN</td>\n",
       "      <td>0</td>\n",
       "    </tr>\n",
       "    <tr>\n",
       "      <th>2</th>\n",
       "      <td>17669260</td>\n",
       "      <td>A</td>\n",
       "      <td>2017-05-04</td>\n",
       "      <td>2016-06-26</td>\n",
       "      <td>NaT</td>\n",
       "      <td>282</td>\n",
       "      <td>0</td>\n",
       "      <td>330</td>\n",
       "      <td>NaN</td>\n",
       "      <td>0</td>\n",
       "    </tr>\n",
       "    <tr>\n",
       "      <th>3</th>\n",
       "      <td>43380436</td>\n",
       "      <td>A</td>\n",
       "      <td>2017-05-04</td>\n",
       "      <td>2017-03-08</td>\n",
       "      <td>NaT</td>\n",
       "      <td>305</td>\n",
       "      <td>0</td>\n",
       "      <td>75</td>\n",
       "      <td>NaN</td>\n",
       "      <td>0</td>\n",
       "    </tr>\n",
       "    <tr>\n",
       "      <th>4</th>\n",
       "      <td>46708692</td>\n",
       "      <td>A</td>\n",
       "      <td>2017-05-04</td>\n",
       "      <td>2017-04-10</td>\n",
       "      <td>NaT</td>\n",
       "      <td>134</td>\n",
       "      <td>0</td>\n",
       "      <td>42</td>\n",
       "      <td>NaN</td>\n",
       "      <td>0</td>\n",
       "    </tr>\n",
       "  </tbody>\n",
       "</table>\n",
       "</div>"
      ],
      "text/plain": [
       "   playerid abtest_group assignment_date install_date conversion_date  \\\n",
       "0  32570096            A      2017-05-04   2016-11-20             NaT   \n",
       "1  17717330            A      2017-05-04   2016-06-26             NaT   \n",
       "2  17669260            A      2017-05-04   2016-06-26             NaT   \n",
       "3  43380436            A      2017-05-04   2017-03-08             NaT   \n",
       "4  46708692            A      2017-05-04   2017-04-10             NaT   \n",
       "\n",
       "   total_gameends  total_purchases  days_since_installed  days_to_conversion  \\\n",
       "0             104                0                   183                 NaN   \n",
       "1              89                0                   330                 NaN   \n",
       "2             282                0                   330                 NaN   \n",
       "3             305                0                    75                 NaN   \n",
       "4             134                0                    42                 NaN   \n",
       "\n",
       "   experiment_day  \n",
       "0               0  \n",
       "1               0  \n",
       "2               0  \n",
       "3               0  \n",
       "4               0  "
      ]
     },
     "execution_count": 215,
     "metadata": {},
     "output_type": "execute_result"
    }
   ],
   "source": [
    "df.head() # contains aggregated gameround and purchase data for the whole experiment"
   ]
  },
  {
   "cell_type": "code",
   "execution_count": 64,
   "metadata": {},
   "outputs": [
    {
     "data": {
      "text/plain": [
       "True     0.972324\n",
       "False    0.027676\n",
       "Name: conversion_date, dtype: float64"
      ]
     },
     "execution_count": 64,
     "metadata": {},
     "output_type": "execute_result"
    }
   ],
   "source": [
    "df.conversion_date.isna().value_counts(normalize=True)"
   ]
  },
  {
   "cell_type": "markdown",
   "metadata": {},
   "source": [
    "Only about 2.8% of the players make purchases."
   ]
  },
  {
   "cell_type": "markdown",
   "metadata": {},
   "source": [
    "On the left we see that most active players have installed the game within the last month. \n",
    "\n",
    "On the right we see that most paying users will make their first purchase during the first few days of donwloading and playing the game.\n",
    "\n",
    "*An active player is one that has logged in during the duration of the AB test.  "
   ]
  },
  {
   "cell_type": "code",
   "execution_count": null,
   "metadata": {},
   "outputs": [],
   "source": [
    "fig, ax = plt.subplots(1, 2, figsize=(15, 5))\n",
    "ax[0].hist(df.days_since_installed, bins=20, density=True)\n",
    "ax[0].set_xlabel(\"Days\")\n",
    "ax[0].set_ylabel(\"Proportion of Players\")\n",
    "ax[0].set_title(\"Proportion of Players by time_since_installed\")\n",
    "ax[1].hist(df.days_to_conversion, bins=20, density=True)\n",
    "ax[1].set_xlabel(\"Days\")\n",
    "ax[1].set_ylabel(\"Proportion of Players\")\n",
    "ax[1].set_title(\"Proportion of Players by time_to_convert\")\n",
    "plt.show()"
   ]
  },
  {
   "cell_type": "markdown",
   "metadata": {},
   "source": [
    "#### What can we say about our chosen evaluation metrics?"
   ]
  },
  {
   "cell_type": "code",
   "execution_count": 96,
   "metadata": {},
   "outputs": [
    {
     "data": {
      "text/html": [
       "<div>\n",
       "<style scoped>\n",
       "    .dataframe tbody tr th:only-of-type {\n",
       "        vertical-align: middle;\n",
       "    }\n",
       "\n",
       "    .dataframe tbody tr th {\n",
       "        vertical-align: top;\n",
       "    }\n",
       "\n",
       "    .dataframe thead th {\n",
       "        text-align: right;\n",
       "    }\n",
       "</style>\n",
       "<table border=\"1\" class=\"dataframe\">\n",
       "  <thead>\n",
       "    <tr style=\"text-align: right;\">\n",
       "      <th></th>\n",
       "      <th>total_gameends</th>\n",
       "      <th>total_purchases</th>\n",
       "    </tr>\n",
       "  </thead>\n",
       "  <tbody>\n",
       "    <tr>\n",
       "      <th>count</th>\n",
       "      <td>1.033106e+07</td>\n",
       "      <td>1.033106e+07</td>\n",
       "    </tr>\n",
       "    <tr>\n",
       "      <th>mean</th>\n",
       "      <td>1.579491e+02</td>\n",
       "      <td>3.714809e-01</td>\n",
       "    </tr>\n",
       "    <tr>\n",
       "      <th>std</th>\n",
       "      <td>1.391929e+02</td>\n",
       "      <td>9.515109e+00</td>\n",
       "    </tr>\n",
       "    <tr>\n",
       "      <th>min</th>\n",
       "      <td>0.000000e+00</td>\n",
       "      <td>0.000000e+00</td>\n",
       "    </tr>\n",
       "    <tr>\n",
       "      <th>25%</th>\n",
       "      <td>9.500000e+01</td>\n",
       "      <td>0.000000e+00</td>\n",
       "    </tr>\n",
       "    <tr>\n",
       "      <th>50%</th>\n",
       "      <td>1.290000e+02</td>\n",
       "      <td>0.000000e+00</td>\n",
       "    </tr>\n",
       "    <tr>\n",
       "      <th>75%</th>\n",
       "      <td>1.820000e+02</td>\n",
       "      <td>0.000000e+00</td>\n",
       "    </tr>\n",
       "    <tr>\n",
       "      <th>max</th>\n",
       "      <td>1.932000e+03</td>\n",
       "      <td>5.690000e+03</td>\n",
       "    </tr>\n",
       "  </tbody>\n",
       "</table>\n",
       "</div>"
      ],
      "text/plain": [
       "       total_gameends  total_purchases\n",
       "count    1.033106e+07     1.033106e+07\n",
       "mean     1.579491e+02     3.714809e-01\n",
       "std      1.391929e+02     9.515109e+00\n",
       "min      0.000000e+00     0.000000e+00\n",
       "25%      9.500000e+01     0.000000e+00\n",
       "50%      1.290000e+02     0.000000e+00\n",
       "75%      1.820000e+02     0.000000e+00\n",
       "max      1.932000e+03     5.690000e+03"
      ]
     },
     "execution_count": 96,
     "metadata": {},
     "output_type": "execute_result"
    }
   ],
   "source": [
    "df[[\"total_gameends\", \"total_purchases\"]].describe()"
   ]
  },
  {
   "cell_type": "markdown",
   "metadata": {},
   "source": [
    "There is a high variance between the gamerounds and purchases made by different players. We can see the presence of many outliers."
   ]
  },
  {
   "cell_type": "markdown",
   "metadata": {},
   "source": [
    "## 3. Sanity Checks"
   ]
  },
  {
   "cell_type": "markdown",
   "metadata": {},
   "source": [
    "#### What checks can we do to be confident in the validity of the test?"
   ]
  },
  {
   "cell_type": "code",
   "execution_count": 206,
   "metadata": {},
   "outputs": [
    {
     "data": {
      "text/plain": [
       "False"
      ]
     },
     "execution_count": 206,
     "metadata": {},
     "output_type": "execute_result"
    }
   ],
   "source": [
    "# Are there duplicated playerids?\n",
    "df.playerid.duplicated().any()"
   ]
  },
  {
   "cell_type": "code",
   "execution_count": 30,
   "metadata": {},
   "outputs": [
    {
     "data": {
      "text/plain": [
       "A    0.800074\n",
       "B    0.199926\n",
       "Name: abtest_group, dtype: float64"
      ]
     },
     "execution_count": 30,
     "metadata": {},
     "output_type": "execute_result"
    }
   ],
   "source": [
    "# Do the control and test groups contain 80 and 20 percent of the players respectively?\n",
    "df.abtest_group.value_counts(normalize=True)"
   ]
  },
  {
   "cell_type": "markdown",
   "metadata": {},
   "source": [
    "#### Checking invariants: are the distributions of invariant metrics for control and test groups the same?"
   ]
  },
  {
   "cell_type": "code",
   "execution_count": 209,
   "metadata": {},
   "outputs": [
    {
     "name": "stdout",
     "output_type": "stream",
     "text": [
      "abtest_group\n",
      "A    3.497964e+07\n",
      "B    3.498333e+07\n",
      "Name: playerid, dtype: float64\n",
      "MannwhitneyuResult(statistic=8534119846308.0, pvalue=0.6081364652914412)\n"
     ]
    }
   ],
   "source": [
    "# playerid\n",
    "print(df.groupby(\"abtest_group\").playerid.mean())\n",
    "print(hypothesis_test(control_results.playerid, test_results.playerid))"
   ]
  },
  {
   "cell_type": "code",
   "execution_count": 211,
   "metadata": {},
   "outputs": [
    {
     "name": "stdout",
     "output_type": "stream",
     "text": [
      "abtest_group\n",
      "A    159.306688\n",
      "B    159.269564\n",
      "Name: days_since_installed, dtype: float64\n",
      "MannwhitneyuResult(statistic=8538072968530.0, pvalue=0.6041776844973805)\n"
     ]
    }
   ],
   "source": [
    "# days_since_installed\n",
    "print(df.groupby(\"abtest_group\").days_since_installed.mean())\n",
    "print(hypothesis_test(control_results.days_since_installed, test_results.days_since_installed))"
   ]
  },
  {
   "cell_type": "markdown",
   "metadata": {},
   "source": [
    "All the invariant metrics pass the test. The means of the distributions are very similar and we cannot reject that the underlying distribution is the same for the control and test groups. \n",
    "\n",
    "Since everything looks alright, we will go on and analyze the results of our evaluation metrics."
   ]
  },
  {
   "cell_type": "markdown",
   "metadata": {},
   "source": [
    "## 4. Results Analysis"
   ]
  },
  {
   "cell_type": "markdown",
   "metadata": {},
   "source": [
    "### Aggregated Data"
   ]
  },
  {
   "cell_type": "markdown",
   "metadata": {},
   "source": [
    "To consider the results as positive, we would like to see that the change made to the game, aka treatment, will result in a greater engagement and/or number of purchases. \n",
    "\n",
    "Thus, our null hypothesis (H0) and alternative hypothesis (Ha) are as follows:  \n",
    "\n",
    "    - H0: There is no difference in the average number of gamerounds and/or purchases in the test and control groups.\n",
    "    - Ha: The average number of gamerounds and/or purchases of the test group is greater than the control group.\n",
    "\n",
    "Since the alternative hypothesis states that the true value of the parameter specified in the null hypothesis is greater than the null hypothesis claims, we will use a right-tailed test.\n",
    "\n",
    "We choose our significance level to be 0.05. Thus, if p<=0.05, we reject the H0."
   ]
  },
  {
   "cell_type": "markdown",
   "metadata": {},
   "source": [
    "Let's first look into the gameround and purchases summary statistics for the different abtest_groups. "
   ]
  },
  {
   "cell_type": "code",
   "execution_count": 153,
   "metadata": {},
   "outputs": [
    {
     "data": {
      "text/html": [
       "<style  type=\"text/css\" >\n",
       "</style><table id=\"T_4085f_\" ><thead>    <tr>        <th class=\"blank level0\" ></th>        <th class=\"col_heading level0 col0\" colspan=\"5\">total_gameends</th>        <th class=\"col_heading level0 col5\" colspan=\"5\">total_purchases</th>    </tr>    <tr>        <th class=\"blank level1\" ></th>        <th class=\"col_heading level1 col0\" >count</th>        <th class=\"col_heading level1 col1\" >median</th>        <th class=\"col_heading level1 col2\" >mean</th>        <th class=\"col_heading level1 col3\" >std</th>        <th class=\"col_heading level1 col4\" >max</th>        <th class=\"col_heading level1 col5\" >count</th>        <th class=\"col_heading level1 col6\" >median</th>        <th class=\"col_heading level1 col7\" >mean</th>        <th class=\"col_heading level1 col8\" >std</th>        <th class=\"col_heading level1 col9\" >max</th>    </tr>    <tr>        <th class=\"index_name level0\" >abtest_group</th>        <th class=\"blank\" ></th>        <th class=\"blank\" ></th>        <th class=\"blank\" ></th>        <th class=\"blank\" ></th>        <th class=\"blank\" ></th>        <th class=\"blank\" ></th>        <th class=\"blank\" ></th>        <th class=\"blank\" ></th>        <th class=\"blank\" ></th>        <th class=\"blank\" ></th>    </tr></thead><tbody>\n",
       "                <tr>\n",
       "                        <th id=\"T_4085f_level0_row0\" class=\"row_heading level0 row0\" >A</th>\n",
       "                        <td id=\"T_4085f_row0_col0\" class=\"data row0 col0\" >8265610.000</td>\n",
       "                        <td id=\"T_4085f_row0_col1\" class=\"data row0 col1\" >129.000</td>\n",
       "                        <td id=\"T_4085f_row0_col2\" class=\"data row0 col2\" >158.563</td>\n",
       "                        <td id=\"T_4085f_row0_col3\" class=\"data row0 col3\" >139.754</td>\n",
       "                        <td id=\"T_4085f_row0_col4\" class=\"data row0 col4\" >1932.000</td>\n",
       "                        <td id=\"T_4085f_row0_col5\" class=\"data row0 col5\" >8265610.000</td>\n",
       "                        <td id=\"T_4085f_row0_col6\" class=\"data row0 col6\" >0.000</td>\n",
       "                        <td id=\"T_4085f_row0_col7\" class=\"data row0 col7\" >0.366</td>\n",
       "                        <td id=\"T_4085f_row0_col8\" class=\"data row0 col8\" >9.463</td>\n",
       "                        <td id=\"T_4085f_row0_col9\" class=\"data row0 col9\" >5690.000</td>\n",
       "            </tr>\n",
       "            <tr>\n",
       "                        <th id=\"T_4085f_level0_row1\" class=\"row_heading level0 row1\" >B</th>\n",
       "                        <td id=\"T_4085f_row1_col0\" class=\"data row1 col0\" >2065446.000</td>\n",
       "                        <td id=\"T_4085f_row1_col1\" class=\"data row1 col1\" >127.000</td>\n",
       "                        <td id=\"T_4085f_row1_col2\" class=\"data row1 col2\" >155.490</td>\n",
       "                        <td id=\"T_4085f_row1_col3\" class=\"data row1 col3\" >136.897</td>\n",
       "                        <td id=\"T_4085f_row1_col4\" class=\"data row1 col4\" >1911.000</td>\n",
       "                        <td id=\"T_4085f_row1_col5\" class=\"data row1 col5\" >2065446.000</td>\n",
       "                        <td id=\"T_4085f_row1_col6\" class=\"data row1 col6\" >0.000</td>\n",
       "                        <td id=\"T_4085f_row1_col7\" class=\"data row1 col7\" >0.393</td>\n",
       "                        <td id=\"T_4085f_row1_col8\" class=\"data row1 col8\" >9.720</td>\n",
       "                        <td id=\"T_4085f_row1_col9\" class=\"data row1 col9\" >5238.000</td>\n",
       "            </tr>\n",
       "    </tbody></table>"
      ],
      "text/plain": [
       "<pandas.io.formats.style.Styler at 0x1b01d3f8310>"
      ]
     },
     "execution_count": 153,
     "metadata": {},
     "output_type": "execute_result"
    }
   ],
   "source": [
    "df[[\"abtest_group\", \"total_gameends\", \"total_purchases\"]].groupby(by=\"abtest_group\").agg([\"count\", \n",
    "                                                                            \"median\", \"mean\", \"std\", \"max\"]).style.format('{:.3f}')"
   ]
  },
  {
   "cell_type": "code",
   "execution_count": 173,
   "metadata": {},
   "outputs": [
    {
     "data": {
      "image/png": "[encoded data removed]",
      "text/plain": [
       "<Figure size 1224x360 with 3 Axes>"
      ]
     },
     "metadata": {
      "needs_background": "light"
     },
     "output_type": "display_data"
    }
   ],
   "source": [
    "fig, ax = plt.subplots(1, 3, figsize=(17, 5))\n",
    "control_results.hist(\"total_gameends\", density=True, bins= 20, ax=ax[0])\n",
    "test_results.hist(\"total_gameends\", density=True, bins= 20, ax=ax[1])\n",
    "sns.boxplot(x=\"abtest_group\", y=\"total_gameends\", data=df, ax=ax[2])\n",
    "\n",
    "fig.suptitle(\"Gamerounds\", fontsize=15)\n",
    "ax[0].set_title(\"Distribution of Test\", fontsize = 12)\n",
    "ax[1].set_title(\"Distribution of Control\", fontsize = 12)\n",
    "ax[2].set_title(\"Boxplot of Two Groups\", fontsize = 12)\n",
    "plt.tight_layout(pad = 1)\n",
    "plt.show()"
   ]
  },
  {
   "cell_type": "code",
   "execution_count": 172,
   "metadata": {},
   "outputs": [
    {
     "data": {
      "image/png": "[encoded data removed]",
      "text/plain": [
       "<Figure size 1224x360 with 3 Axes>"
      ]
     },
     "metadata": {
      "needs_background": "light"
     },
     "output_type": "display_data"
    }
   ],
   "source": [
    "fig, ax = plt.subplots(1, 3, figsize=(17, 5))\n",
    "control_results.hist(\"total_purchases\", density=True, bins=20, ax=ax[0])\n",
    "test_results.hist(\"total_purchases\", density=True, bins= 20, ax=ax[1])\n",
    "sns.boxplot(x=\"abtest_group\", y=\"total_purchases\", data=df, ax=ax[2])\n",
    "\n",
    "fig.suptitle(\"Purchases\", fontsize=15)\n",
    "ax[0].set_title(\"Distribution of Test\", fontsize = 12)\n",
    "ax[1].set_title(\"Distribution of Control\", fontsize = 12)\n",
    "ax[2].set_title(\"Boxplot of Two Groups\", fontsize = 12)\n",
    "plt.tight_layout(pad = 1)\n",
    "plt.show()"
   ]
  },
  {
   "cell_type": "code",
   "execution_count": 186,
   "metadata": {},
   "outputs": [
    {
     "data": {
      "image/png": "[encoded data removed]",
      "text/plain": [
       "<Figure size 1224x360 with 3 Axes>"
      ]
     },
     "metadata": {
      "needs_background": "light"
     },
     "output_type": "display_data"
    }
   ],
   "source": [
    "grouped_df = df[[\"abtest_group\", \"total_gameends\", \"total_purchases\"]].groupby(df[\"abtest_group\"]).mean()\n",
    "grouped_df_lift = (grouped_df.loc[\"B\"] - grouped_df.loc[\"A\"]) / grouped_df.loc[\"A\"]\n",
    "\n",
    "fig, ax = plt.subplots(1, 3, figsize=(17, 5))\n",
    "sns.barplot(x=grouped_df.total_gameends.index, y=grouped_df.total_gameends, ax=ax[0])\n",
    "sns.barplot(x=grouped_df.total_purchases.index, y=grouped_df.total_purchases, ax=ax[1])\n",
    "sns.barplot(x=grouped_df_lift.index, y=grouped_df_lift*100, ax=ax[2])\n",
    "\n",
    "fig.suptitle(\"Experiment Results\", fontsize=15)\n",
    "ax[0].set_title(\"Gamerounds\", pad=10)\n",
    "ax[0].set_ylabel(\"Average Number of Game Rounds per Player\")\n",
    "ax[1].set_title(\"Purchases\", pad=10)\n",
    "ax[1].set_ylabel(\"Average Number of Purchases per Player\")\n",
    "ax[2].set_ylim(-8, 8)\n",
    "ax[2].set_title(\"AB Test Results\")\n",
    "ax[2].set_xlabel(\"Evaluation Metric\")\n",
    "ax[2].set_ylabel(\"Lift (%)\")\n",
    "plt.axhline(y=0, color='r', linestyle='-')\n",
    "plt.tight_layout(pad = 1)\n",
    "plt.show()"
   ]
  },
  {
   "cell_type": "markdown",
   "metadata": {},
   "source": [
    "It would seem that our treatment has resulted in a decrease in the average number of gamerounds per player of around 2% (bummer!), but a substantial increase of around 7% in the average number of purchases made. \n",
    "\n",
    "To confirm these results, we will perform hypothesis tests."
   ]
  },
  {
   "cell_type": "code",
   "execution_count": 192,
   "metadata": {},
   "outputs": [
    {
     "data": {
      "text/plain": [
       "MannwhitneyuResult(statistic=8373836786400.0, pvalue=0.0)"
      ]
     },
     "execution_count": 192,
     "metadata": {},
     "output_type": "execute_result"
    }
   ],
   "source": [
    "hypothesis_test(test_results[\"total_gameends\"], control_results[\"total_gameends\"], alternative=\"less\")"
   ]
  },
  {
   "cell_type": "code",
   "execution_count": 200,
   "metadata": {},
   "outputs": [
    {
     "data": {
      "text/plain": [
       "MannwhitneyuResult(statistic=8536180046875.0, pvalue=0.4901617437975493)"
      ]
     },
     "execution_count": 200,
     "metadata": {},
     "output_type": "execute_result"
    }
   ],
   "source": [
    "hypothesis_test(test_results[\"total_purchases\"], control_results[\"total_purchases\"], alternative=\"greater\")"
   ]
  },
  {
   "cell_type": "markdown",
   "metadata": {},
   "source": [
    "We also need to how that the average number of gamerounds and purchases evolve during the experiment. After launching a new game feature, there may be early transitional effects of the changes introduced in the variants. Looking at the daily averages, rather than the total averages may yield some interesting information."
   ]
  },
  {
   "cell_type": "markdown",
   "metadata": {},
   "source": [
    "### Daily Data"
   ]
  },
  {
   "cell_type": "code",
   "execution_count": 216,
   "metadata": {},
   "outputs": [
    {
     "data": {
      "text/html": [
       "<div>\n",
       "<style scoped>\n",
       "    .dataframe tbody tr th:only-of-type {\n",
       "        vertical-align: middle;\n",
       "    }\n",
       "\n",
       "    .dataframe tbody tr th {\n",
       "        vertical-align: top;\n",
       "    }\n",
       "\n",
       "    .dataframe thead th {\n",
       "        text-align: right;\n",
       "    }\n",
       "</style>\n",
       "<table border=\"1\" class=\"dataframe\">\n",
       "  <thead>\n",
       "    <tr style=\"text-align: right;\">\n",
       "      <th></th>\n",
       "      <th>abtest_group</th>\n",
       "      <th>activity_date</th>\n",
       "      <th>avg_gameends</th>\n",
       "      <th>std_gameends</th>\n",
       "      <th>n_gameends</th>\n",
       "      <th>avg_purchases</th>\n",
       "      <th>std_purchases</th>\n",
       "      <th>n_purchases</th>\n",
       "    </tr>\n",
       "  </thead>\n",
       "  <tbody>\n",
       "    <tr>\n",
       "      <th>0</th>\n",
       "      <td>A</td>\n",
       "      <td>2017-05-04</td>\n",
       "      <td>13.179551</td>\n",
       "      <td>10.238376</td>\n",
       "      <td>68597770</td>\n",
       "      <td>0.030555</td>\n",
       "      <td>0.757338</td>\n",
       "      <td>159035</td>\n",
       "    </tr>\n",
       "    <tr>\n",
       "      <th>1</th>\n",
       "      <td>B</td>\n",
       "      <td>2017-05-04</td>\n",
       "      <td>13.119000</td>\n",
       "      <td>10.180584</td>\n",
       "      <td>17040715</td>\n",
       "      <td>0.031852</td>\n",
       "      <td>0.775842</td>\n",
       "      <td>41374</td>\n",
       "    </tr>\n",
       "    <tr>\n",
       "      <th>2</th>\n",
       "      <td>A</td>\n",
       "      <td>2017-05-05</td>\n",
       "      <td>13.186148</td>\n",
       "      <td>10.250823</td>\n",
       "      <td>68498045</td>\n",
       "      <td>0.030470</td>\n",
       "      <td>0.768134</td>\n",
       "      <td>158282</td>\n",
       "    </tr>\n",
       "    <tr>\n",
       "      <th>3</th>\n",
       "      <td>B</td>\n",
       "      <td>2017-05-05</td>\n",
       "      <td>13.003362</td>\n",
       "      <td>10.096645</td>\n",
       "      <td>16868794</td>\n",
       "      <td>0.033394</td>\n",
       "      <td>0.772663</td>\n",
       "      <td>43321</td>\n",
       "    </tr>\n",
       "    <tr>\n",
       "      <th>4</th>\n",
       "      <td>A</td>\n",
       "      <td>2017-05-06</td>\n",
       "      <td>13.182186</td>\n",
       "      <td>10.235810</td>\n",
       "      <td>68755819</td>\n",
       "      <td>0.030389</td>\n",
       "      <td>0.771736</td>\n",
       "      <td>158504</td>\n",
       "    </tr>\n",
       "  </tbody>\n",
       "</table>\n",
       "</div>"
      ],
      "text/plain": [
       "  abtest_group activity_date  avg_gameends  std_gameends  n_gameends  \\\n",
       "0            A    2017-05-04     13.179551     10.238376    68597770   \n",
       "1            B    2017-05-04     13.119000     10.180584    17040715   \n",
       "2            A    2017-05-05     13.186148     10.250823    68498045   \n",
       "3            B    2017-05-05     13.003362     10.096645    16868794   \n",
       "4            A    2017-05-06     13.182186     10.235810    68755819   \n",
       "\n",
       "   avg_purchases  std_purchases  n_purchases  \n",
       "0       0.030555       0.757338       159035  \n",
       "1       0.031852       0.775842        41374  \n",
       "2       0.030470       0.768134       158282  \n",
       "3       0.033394       0.772663        43321  \n",
       "4       0.030389       0.771736       158504  "
      ]
     },
     "execution_count": 216,
     "metadata": {},
     "output_type": "execute_result"
    }
   ],
   "source": [
    "df1.head()  # contains the average number of gamerounds and purchases made each day of the experiment"
   ]
  },
  {
   "cell_type": "code",
   "execution_count": 250,
   "metadata": {},
   "outputs": [
    {
     "data": {
      "image/png": "[encoded data removed]",
      "text/plain": [
       "<Figure size 1080x360 with 2 Axes>"
      ]
     },
     "metadata": {
      "needs_background": "light"
     },
     "output_type": "display_data"
    }
   ],
   "source": [
    "fig, ax = plt.subplots(1, 2, figsize=(15, 5))\n",
    "sns.boxplot(x=\"abtest_group\", y=\"avg_gameends\", data=df1, ax=ax[0])\n",
    "sns.boxplot(x=\"abtest_group\", y=\"avg_purchases\", data=df1, ax=ax[1])\n",
    "plt.tight_layout(pad=1)\n",
    "plt.show()"
   ]
  },
  {
   "cell_type": "code",
   "execution_count": 251,
   "metadata": {},
   "outputs": [
    {
     "data": {
      "image/png": "[encoded data removed]",
      "text/plain": [
       "<Figure size 1080x360 with 2 Axes>"
      ]
     },
     "metadata": {
      "needs_background": "light"
     },
     "output_type": "display_data"
    }
   ],
   "source": [
    "fig, ax = plt.subplots(1, 2, figsize=(15, 5))\n",
    "xticklabels = df1.activity_date.unique()\n",
    "sns.lineplot(x=\"activity_date\", y=\"avg_gameends\", hue=\"abtest_group\", data=df1, ax=ax[0])\n",
    "sns.lineplot(x=\"activity_date\", y=\"avg_purchases\", hue=\"abtest_group\", data=df1, ax=ax[1])\n",
    "ax[0].set_xticklabels(xticklabels, rotation=40)\n",
    "ax[1].set_xticklabels(xticklabels, rotation=40)\n",
    "plt.tight_layout(pad=1)\n",
    "plt.show()"
   ]
  },
  {
   "cell_type": "markdown",
   "metadata": {},
   "source": [
    "Indeed, on the right we see that the average number of daily purchases has a negative trend over time. By the end of the experiment, the purchases of the test group are equal to those in the control group, indicating that the 7% lift in the average number of purchases is likely to be transitory. To take more meaningful conclusions, we should wait for the purchases to stabilize. \n",
    "\n",
    "On the left, we see that average number of gamerounds of the test group decreases right away and keeps constant, so we are more certain that the treatment has a negative effect on player engagement. "
   ]
  },
  {
   "cell_type": "markdown",
   "metadata": {},
   "source": [
    "### Analysis by Player Type"
   ]
  },
  {
   "cell_type": "markdown",
   "metadata": {},
   "source": [
    "Do different types of players react differently to the treatment?"
   ]
  },
  {
   "cell_type": "code",
   "execution_count": 263,
   "metadata": {},
   "outputs": [
    {
     "data": {
      "text/html": [
       "<div>\n",
       "<style scoped>\n",
       "    .dataframe tbody tr th:only-of-type {\n",
       "        vertical-align: middle;\n",
       "    }\n",
       "\n",
       "    .dataframe tbody tr th {\n",
       "        vertical-align: top;\n",
       "    }\n",
       "\n",
       "    .dataframe thead th {\n",
       "        text-align: right;\n",
       "    }\n",
       "</style>\n",
       "<table border=\"1\" class=\"dataframe\">\n",
       "  <thead>\n",
       "    <tr style=\"text-align: right;\">\n",
       "      <th></th>\n",
       "      <th>abtest_group</th>\n",
       "      <th>player_type</th>\n",
       "      <th>total_gameends</th>\n",
       "      <th>total_purchases</th>\n",
       "    </tr>\n",
       "  </thead>\n",
       "  <tbody>\n",
       "    <tr>\n",
       "      <th>0</th>\n",
       "      <td>A</td>\n",
       "      <td>OG</td>\n",
       "      <td>184.112059</td>\n",
       "      <td>0.427444</td>\n",
       "    </tr>\n",
       "    <tr>\n",
       "      <th>1</th>\n",
       "      <td>A</td>\n",
       "      <td>experienced</td>\n",
       "      <td>170.987525</td>\n",
       "      <td>0.389854</td>\n",
       "    </tr>\n",
       "    <tr>\n",
       "      <th>2</th>\n",
       "      <td>A</td>\n",
       "      <td>newbie</td>\n",
       "      <td>64.948765</td>\n",
       "      <td>0.150142</td>\n",
       "    </tr>\n",
       "    <tr>\n",
       "      <th>3</th>\n",
       "      <td>B</td>\n",
       "      <td>OG</td>\n",
       "      <td>180.576797</td>\n",
       "      <td>0.455691</td>\n",
       "    </tr>\n",
       "    <tr>\n",
       "      <th>4</th>\n",
       "      <td>B</td>\n",
       "      <td>experienced</td>\n",
       "      <td>167.774378</td>\n",
       "      <td>0.428025</td>\n",
       "    </tr>\n",
       "    <tr>\n",
       "      <th>5</th>\n",
       "      <td>B</td>\n",
       "      <td>newbie</td>\n",
       "      <td>63.739933</td>\n",
       "      <td>0.155587</td>\n",
       "    </tr>\n",
       "  </tbody>\n",
       "</table>\n",
       "</div>"
      ],
      "text/plain": [
       "  abtest_group  player_type  total_gameends  total_purchases\n",
       "0            A           OG      184.112059         0.427444\n",
       "1            A  experienced      170.987525         0.389854\n",
       "2            A       newbie       64.948765         0.150142\n",
       "3            B           OG      180.576797         0.455691\n",
       "4            B  experienced      167.774378         0.428025\n",
       "5            B       newbie       63.739933         0.155587"
      ]
     },
     "execution_count": 263,
     "metadata": {},
     "output_type": "execute_result"
    }
   ],
   "source": [
    "player_types = df[[\"abtest_group\", \"player_type\", \"total_gameends\", \"total_purchases\"]].groupby(by=[\"abtest_group\", \n",
    "                                                                                    \"player_type\"]).agg(np.mean).reset_index()\n",
    "player_types"
   ]
  },
  {
   "cell_type": "code",
   "execution_count": 264,
   "metadata": {},
   "outputs": [
    {
     "data": {
      "image/png": "[encoded data removed]",
      "text/plain": [
       "<Figure size 1080x360 with 2 Axes>"
      ]
     },
     "metadata": {
      "needs_background": "light"
     },
     "output_type": "display_data"
    }
   ],
   "source": [
    "fig, ax = plt.subplots(1, 2, figsize=(15, 5))\n",
    "sns.barplot(x=\"player_type\", y=\"total_gameends\", hue=\"abtest_group\", data=player_types, ax=ax[0])\n",
    "sns.barplot(x=\"player_type\", y=\"total_purchases\", hue=\"abtest_group\", data=player_types, ax=ax[1])\n",
    "\n",
    "fig.suptitle(\"Player Segmentation Analysis\", fontsize=15)\n",
    "ax[0].set_title(\"Average Gamerounds by Player Type\")\n",
    "ax[0].set_ylabel(\"Average Gamerounds\")\n",
    "ax[1].set_title(\"Average Purchases by Player Type\")\n",
    "ax[1].set_ylabel(\"Average Purchases\")\n",
    "plt.tight_layout(pad=1)\n",
    "plt.show()"
   ]
  },
  {
   "cell_type": "markdown",
   "metadata": {},
   "source": [
    "The treatment's engagement and monetization lift appears less extreme for newbies for both gamerounds and purchases. Newbies are those that have installed the game after the start of the ab test and thus had never seen the control version of the game. Thus suggests that "
   ]
  },
  {
   "cell_type": "markdown",
   "metadata": {},
   "source": [
    "## Conclusion"
   ]
  },
  {
   "cell_type": "markdown",
   "metadata": {},
   "source": [
    "In this particular experiment, we can conclude that the change that has been introduced did turn out to be an improvement over the control variant. Rather, we feel that the new variant performed a bit worse than control. It is important to note though, that the analysis did not indicate that there is statistically significant difference between the variants.\n",
    "\n",
    "To make the most out of A/B tests, we suggest game developers to go beyond the binary statement of having a winner or not, and study every aspect of the results – winning probabilities, the improvement over control statistics, etc."
   ]
  },
  {
   "cell_type": "code",
   "execution_count": null,
   "metadata": {},
   "outputs": [],
   "source": []
  },
  {
   "cell_type": "code",
   "execution_count": null,
   "metadata": {},
   "outputs": [],
   "source": []
  },
  {
   "cell_type": "code",
   "execution_count": null,
   "metadata": {},
   "outputs": [],
   "source": []
  },
  {
   "cell_type": "code",
   "execution_count": null,
   "metadata": {},
   "outputs": [],
   "source": []
  },
  {
   "cell_type": "code",
   "execution_count": null,
   "metadata": {},
   "outputs": [],
   "source": []
  },
  {
   "cell_type": "code",
   "execution_count": null,
   "metadata": {},
   "outputs": [],
   "source": []
  },
  {
   "cell_type": "code",
   "execution_count": 27,
   "metadata": {},
   "outputs": [],
   "source": [
    "def ttest(xbar_test, s_test, n_test, xbar_control, s_control, n_control, alternative=\"two_sided\"):\n",
    "    from scipy.stats import t\n",
    "    t_stat_list, p_value_list = [], []\n",
    "    xbar_test.reset_index(drop=True, inplace=True)\n",
    "    for i in range(len(xbar_test)): \n",
    "        delta = xbar_test[i] - xbar_control[i]\n",
    "        pooled_se = np.sqrt(s_test[i] ** 2 / n_test[i] + s_control[i] ** 2 / n_control[i])\n",
    "        t_stat = delta / pooled_se\n",
    "        degrees_of_freedom = n_test[i] + n_control[i] -2\n",
    "\n",
    "        if alternative==\"two_sided\": p_value = t.sf(abs(t_stat), df=degrees_of_freedom)*2\n",
    "        elif alternative==\"greater\": p_value = t.sf(t_stat, df=degrees_of_freedom)\n",
    "        elif alternative==\"less\": p_value = 1 - t.sf(t_stat, df=degrees_of_freedom)\n",
    "        t_stat_list.append(t_stat)\n",
    "        p_value_list.append(p_value)\n",
    "\n",
    "    return t_stat_list, p_value_list"
   ]
  },
  {
   "cell_type": "code",
   "execution_count": 44,
   "metadata": {},
   "outputs": [],
   "source": [
    "xbar_test, s_test, n_test = test_results[\"avg_gameends\"], test_results[\"std_gameends\"], test_results[\"n_gameends\"]\n",
    "xbar_control, s_control, n_control = control_results[\"avg_gameends\"], control_results[\"std_gameends\"], control_results[\"n_gameends\"]\n",
    "xbar_test.reset_index(drop=True, inplace=True)\n",
    "s_test.reset_index(drop=True, inplace=True)\n",
    "n_test.reset_index(drop=True, inplace=True)\n",
    "xbar_control.reset_index(drop=True, inplace=True)\n",
    "s_control.reset_index(drop=True, inplace=True)\n",
    "n_control.reset_index(drop=True, inplace=True)\n",
    "gameends_t_stat_list, gameends_p_value_list = ttest(xbar_test, s_test, n_test, xbar_control, s_control, \n",
    "                                                    n_control, alternative=\"greater\")"
   ]
  },
  {
   "cell_type": "code",
   "execution_count": 47,
   "metadata": {},
   "outputs": [],
   "source": [
    "xbar_test, s_test, n_test = test_results[\"avg_purchases\"], test_results[\"std_purchases\"], test_results[\"n_purchases\"]\n",
    "xbar_control, s_control, n_control = control_results[\"avg_purchases\"], control_results[\"std_purchases\"], control_results[\"n_purchases\"]\n",
    "xbar_test.reset_index(drop=True, inplace=True)\n",
    "s_test.reset_index(drop=True, inplace=True)\n",
    "n_test.reset_index(drop=True, inplace=True)\n",
    "xbar_control.reset_index(drop=True, inplace=True)\n",
    "s_control.reset_index(drop=True, inplace=True)\n",
    "n_control.reset_index(drop=True, inplace=True)\n",
    "purchases_t_stat_list, purchases_p_value_list = ttest(xbar_test, s_test, n_test, xbar_control, s_control, \n",
    "                                                    n_control, alternative=\"greater\")"
   ]
  },
  {
   "cell_type": "code",
   "execution_count": 150,
   "metadata": {},
   "outputs": [
    {
     "name": "stderr",
     "output_type": "stream",
     "text": [
      "<ipython-input-150-131d1462a213>:5: UserWarning: FixedFormatter should only be used together with FixedLocator\n",
      "  ax[0].set_xticklabels(x, rotation=40)\n",
      "<ipython-input-150-131d1462a213>:6: UserWarning: FixedFormatter should only be used together with FixedLocator\n",
      "  ax[1].set_xticklabels(x, rotation=40)\n"
     ]
    },
    {
     "data": {
      "image/png": "[encoded data removed]",
      "text/plain": [
       "<Figure size 1080x360 with 2 Axes>"
      ]
     },
     "metadata": {
      "needs_background": "light"
     },
     "output_type": "display_data"
    }
   ],
   "source": [
    "fig, ax = plt.subplots(1, 2, figsize=(15, 5))\n",
    "x = df1.activity_date.unique()\n",
    "sns.lineplot(x=x, y=gameends_p_value_list, ax=ax[0])\n",
    "sns.lineplot(x=x, y=purchases_p_value_list, ax=ax[1])\n",
    "ax[0].set_xticklabels(x, rotation=40)\n",
    "ax[1].set_xticklabels(x, rotation=40)\n",
    "plt.show()"
   ]
  },
  {
   "cell_type": "markdown",
   "metadata": {},
   "source": [
    "5. What type of change to the game do you think was tested here?\n",
    "\n",
    "Factor: color\n",
    "Variants: blue, red\n",
    "\n",
    "Will updating the UI increase our number of purchases?"
   ]
  },
  {
   "cell_type": "markdown",
   "metadata": {},
   "source": [
    "Purchases / conversion: make the game easier to play?\n",
    "\n",
    "More easier questions, so that the user can feel like they are good at the game, before getting stuck and having to pay for hints"
   ]
  },
  {
   "cell_type": "markdown",
   "metadata": {},
   "source": [
    "PARAMETRIC TESTS\n",
    "The name “parametric” means that these tests are based on assumption that data has a distribution of a certain form (normal or T distribution), and therefore we can use certain parameters of that distribution (mean, standard deviation) to compare test groups. (ztest, ttest, ANOVA)\n",
    "\n",
    "T-tests are handy parametric hypothesis tests in statistics when you want to compare means. You can compare a sample mean to a hypothesized or target value using a one-sample t-test. You can compare the means of two groups with a two-sample t-test. If you have two groups with paired observations (e.g., before and after measurements, or control and test measurements), use the paired t-test.\n",
    "\n",
    "Using a sample standard deviation to estimate the standard error is computationally easier than using bootstrapping. However, to correct for the approximation, you need to use a t-distribution when transforming the test statistic to get the p-value.\n",
    "\n",
    "normal distribution -> t distribution with infinite degrees of freedom\n",
    "dof: maximum number of logically independent observations in the data sample. \n",
    "\n",
    "for a two sample case: dof = n_test + n_control -2"
   ]
  }
 ],
 "metadata": {
  "kernelspec": {
   "display_name": "Python 3.8.8 ('base')",
   "language": "python",
   "name": "python3"
  },
  "language_info": {
   "codemirror_mode": {
    "name": "ipython",
    "version": 3
   },
   "file_extension": ".py",
   "mimetype": "text/x-python",
   "name": "python",
   "nbconvert_exporter": "python",
   "pygments_lexer": "ipython3",
   "version": "3.8.8"
  },
  "orig_nbformat": 4,
  "vscode": {
   "interpreter": {
    "hash": "74609ea32c075f5c8e96a18961956eadb9a9347b199f0247ab8ad93a9d4aa1e3"
   }
  }
 },
 "nbformat": 4,
 "nbformat_minor": 2
}

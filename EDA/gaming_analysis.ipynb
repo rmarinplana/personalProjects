{
 "cells": [
  {
   "cell_type": "markdown",
   "metadata": {},
   "source": [
    "## King’s Super Math Saga experiment"
   ]
  },
  {
   "cell_type": "markdown",
   "metadata": {},
   "source": [
    "#### Problem statement\n",
    "Super Math Saga is a fictional mobile game. Like other Saga games, players need to beat levels to progress\n",
    "through a map. At every level, players are faced with a math question they need to answer correctly to pass\n",
    "to the next level. The game is Free to Play meaning that players can download and play the game for free\n",
    "but can optionally buy hints on the levels.\n",
    "\n",
    "In 2017 we ran an experiment (A/B Test) on the game, offering two different game experiences that we\n",
    "call A and B, group A being the control group where the experience is kept as is, and group B being\n",
    "the experiment group that is exposed to the new experience. We set the assignment process to randomly\n",
    "distribute players among the groups: 80% to group A (control) and 20% to group B (test). The experiment\n",
    "ran from 2017-05-04 to 2017-05-22.\n",
    "\n",
    "Your assigment is to analyse and summarise the data provided, to determine which of the experiences makes\n",
    "Super Math Saga a better game. Send us a short (max 3 pages) report, suitable to present to the head\n",
    "of studio, with your findings and supporting plots, making recommendations for what the game should\n",
    "implement and any further analysis you think would be valuable. Markdown or notebook is the preferred\n",
    "report format."
   ]
  },
  {
   "cell_type": "markdown",
   "metadata": {},
   "source": [
    "The assignment table contains players assigned to the A/B test and attributes related to each player.\n",
    "1. playerid: Unique numeric identifier for each player\n",
    "2. abtest_group: The group the player was assigned to (A or B)\n",
    "3. assignment_date: The date when the player was assigned to the test\n",
    "4. install_date: The date when the player installed the game\n",
    "5. conversion_date: The date when the player made their first purchase\n",
    "\n",
    "The activity table contains player activity for each day a player was active.\n",
    "1. playerid: Unique numeric identifier for each player\n",
    "2. activity_date: The date of activity\n",
    "3. purchases: Number of purchases made this day\n",
    "4. gameends: Number of gamerounds played this day"
   ]
  },
  {
   "cell_type": "markdown",
   "metadata": {},
   "source": [
    "#### Suggested areas for analysis\n",
    "1. Which metrics do you consider important to look at in this case? What can you say about them in this\n",
    "A/B test?\n",
    "2. What sanity checks can you do to be confident in the validity of the test?\n",
    "3. Compute the average number of gamerounds per player for each group. Can you confidently state\n",
    "which group has higher engagement?\n",
    "4. Do different types of players react differently to the treatment?\n",
    "5. What type of change to the game do you think was tested here?"
   ]
  },
  {
   "cell_type": "code",
   "execution_count": 9,
   "metadata": {},
   "outputs": [],
   "source": [
    "#!pip install pandas-gbq\n",
    "#!pip install db-dtypes"
   ]
  },
  {
   "cell_type": "code",
   "execution_count": 2,
   "metadata": {},
   "outputs": [],
   "source": [
    "# modules\n",
    "import pandas as pd\n",
    "import pandas_gbq\n",
    "import db_dtypes\n",
    "import numpy as np\n",
    "from matplotlib import pyplot as plt\n",
    "import seaborn as sns"
   ]
  },
  {
   "cell_type": "code",
   "execution_count": 5,
   "metadata": {},
   "outputs": [],
   "source": [
    "# gcp to df function\n",
    "def gcp2df(query):\n",
    "    project_id = 'king-ds-recruit-candidate-635'\n",
    "    return pd.read_gbq(query, project_id=project_id, dialect='standard')\n",
    "\n",
    "query = ('''\n",
    "    WITH\n",
    "\n",
    "    activity AS (\n",
    "    SELECT playerid, SUM(purchases) AS total_purchases, SUM(gameends) as total_gamends\n",
    "        FROM `king-ds-recruit-candidate-635.abtest.activity` \n",
    "        WHERE activity_date BETWEEN \"2017-05-04\" AND \"2017-05-22\"\n",
    "        GROUP BY playerid\n",
    "    ),\n",
    "\n",
    "    joinTables AS (\n",
    "    SELECT ass.*, ac.total_gamends, ac.total_purchases\n",
    "    FROM `king-ds-recruit-candidate-635.abtest.assignment` AS ass\n",
    "    LEFT JOIN  activity AS ac\n",
    "    ON ass.playerid=ac.playerid\n",
    "    )\n",
    "\n",
    "    SELECT *\n",
    "    FROM joinTables\n",
    "    ''')\n",
    "\n",
    "df = gcp2df(query)\n",
    "#df.to_csv(\"../../../king.csv\")"
   ]
  },
  {
   "cell_type": "code",
   "execution_count": 19,
   "metadata": {},
   "outputs": [
    {
     "name": "stderr",
     "output_type": "stream",
     "text": [
      "c:\\Users\\rmari\\anaconda3\\lib\\site-packages\\numpy\\lib\\arraysetops.py:583: FutureWarning: elementwise comparison failed; returning scalar instead, but in the future will perform elementwise comparison\n",
      "  mask |= (ar1 == a)\n"
     ]
    }
   ],
   "source": [
    "df = pd.read_csv(\"../../../king.csv\", index_col=0)"
   ]
  },
  {
   "cell_type": "code",
   "execution_count": 81,
   "metadata": {},
   "outputs": [
    {
     "data": {
      "text/html": [
       "<div>\n",
       "<style scoped>\n",
       "    .dataframe tbody tr th:only-of-type {\n",
       "        vertical-align: middle;\n",
       "    }\n",
       "\n",
       "    .dataframe tbody tr th {\n",
       "        vertical-align: top;\n",
       "    }\n",
       "\n",
       "    .dataframe thead th {\n",
       "        text-align: right;\n",
       "    }\n",
       "</style>\n",
       "<table border=\"1\" class=\"dataframe\">\n",
       "  <thead>\n",
       "    <tr style=\"text-align: right;\">\n",
       "      <th></th>\n",
       "      <th>playerid</th>\n",
       "      <th>abtest_group</th>\n",
       "      <th>assignment_date</th>\n",
       "      <th>install_date</th>\n",
       "      <th>conversion_date</th>\n",
       "      <th>total_gamends</th>\n",
       "      <th>total_purchases</th>\n",
       "      <th>is_new_player</th>\n",
       "      <th>is_veteran</th>\n",
       "      <th>is_veteran_player</th>\n",
       "    </tr>\n",
       "  </thead>\n",
       "  <tbody>\n",
       "    <tr>\n",
       "      <th>0</th>\n",
       "      <td>51113439</td>\n",
       "      <td>A</td>\n",
       "      <td>2017-05-22</td>\n",
       "      <td>2017-05-22</td>\n",
       "      <td>NaN</td>\n",
       "      <td>11</td>\n",
       "      <td>0</td>\n",
       "      <td>True</td>\n",
       "      <td>True</td>\n",
       "      <td>False</td>\n",
       "    </tr>\n",
       "    <tr>\n",
       "      <th>1</th>\n",
       "      <td>51113518</td>\n",
       "      <td>A</td>\n",
       "      <td>2017-05-22</td>\n",
       "      <td>2017-05-22</td>\n",
       "      <td>NaN</td>\n",
       "      <td>7</td>\n",
       "      <td>0</td>\n",
       "      <td>True</td>\n",
       "      <td>True</td>\n",
       "      <td>False</td>\n",
       "    </tr>\n",
       "    <tr>\n",
       "      <th>2</th>\n",
       "      <td>51123069</td>\n",
       "      <td>A</td>\n",
       "      <td>2017-05-22</td>\n",
       "      <td>2017-05-22</td>\n",
       "      <td>NaN</td>\n",
       "      <td>10</td>\n",
       "      <td>0</td>\n",
       "      <td>True</td>\n",
       "      <td>True</td>\n",
       "      <td>False</td>\n",
       "    </tr>\n",
       "    <tr>\n",
       "      <th>3</th>\n",
       "      <td>51073272</td>\n",
       "      <td>A</td>\n",
       "      <td>2017-05-22</td>\n",
       "      <td>2017-05-22</td>\n",
       "      <td>NaN</td>\n",
       "      <td>4</td>\n",
       "      <td>0</td>\n",
       "      <td>True</td>\n",
       "      <td>True</td>\n",
       "      <td>False</td>\n",
       "    </tr>\n",
       "    <tr>\n",
       "      <th>4</th>\n",
       "      <td>51047074</td>\n",
       "      <td>A</td>\n",
       "      <td>2017-05-22</td>\n",
       "      <td>2017-05-22</td>\n",
       "      <td>NaN</td>\n",
       "      <td>15</td>\n",
       "      <td>0</td>\n",
       "      <td>True</td>\n",
       "      <td>True</td>\n",
       "      <td>False</td>\n",
       "    </tr>\n",
       "  </tbody>\n",
       "</table>\n",
       "</div>"
      ],
      "text/plain": [
       "   playerid abtest_group assignment_date install_date conversion_date  \\\n",
       "0  51113439            A      2017-05-22   2017-05-22             NaN   \n",
       "1  51113518            A      2017-05-22   2017-05-22             NaN   \n",
       "2  51123069            A      2017-05-22   2017-05-22             NaN   \n",
       "3  51073272            A      2017-05-22   2017-05-22             NaN   \n",
       "4  51047074            A      2017-05-22   2017-05-22             NaN   \n",
       "\n",
       "   total_gamends  total_purchases  is_new_player  is_veteran  \\\n",
       "0             11                0           True        True   \n",
       "1              7                0           True        True   \n",
       "2             10                0           True        True   \n",
       "3              4                0           True        True   \n",
       "4             15                0           True        True   \n",
       "\n",
       "   is_veteran_player  \n",
       "0              False  \n",
       "1              False  \n",
       "2              False  \n",
       "3              False  \n",
       "4              False  "
      ]
     },
     "execution_count": 81,
     "metadata": {},
     "output_type": "execute_result"
    }
   ],
   "source": [
    "df.head()"
   ]
  },
  {
   "cell_type": "code",
   "execution_count": 88,
   "metadata": {},
   "outputs": [
    {
     "name": "stdout",
     "output_type": "stream",
     "text": [
      "<class 'pandas.core.frame.DataFrame'>\n",
      "Int64Index: 10331056 entries, 0 to 10331055\n",
      "Data columns (total 11 columns):\n",
      " #   Column             Dtype \n",
      "---  ------             ----- \n",
      " 0   playerid           int64 \n",
      " 1   abtest_group       object\n",
      " 2   assignment_date    object\n",
      " 3   install_date       object\n",
      " 4   conversion_date    object\n",
      " 5   total_gamends      int64 \n",
      " 6   total_purchases    int64 \n",
      " 7   is_new_player      bool  \n",
      " 8   is_veteran         bool  \n",
      " 9   is_veteran_player  bool  \n",
      " 10  player_type        object\n",
      "dtypes: bool(3), int64(3), object(5)\n",
      "memory usage: 738.9+ MB\n"
     ]
    }
   ],
   "source": [
    "df.info()"
   ]
  },
  {
   "cell_type": "code",
   "execution_count": 89,
   "metadata": {},
   "outputs": [
    {
     "data": {
      "text/plain": [
       "'2016-01-01'"
      ]
     },
     "execution_count": 89,
     "metadata": {},
     "output_type": "execute_result"
    }
   ],
   "source": [
    "df[\"install_date\"].min()"
   ]
  },
  {
   "cell_type": "code",
   "execution_count": 85,
   "metadata": {},
   "outputs": [
    {
     "ename": "ValueError",
     "evalue": "to assemble mappings requires at least that [year, month, day] be specified: [day,month,year] is missing",
     "output_type": "error",
     "traceback": [
      "\u001b[1;31m---------------------------------------------------------------------------\u001b[0m",
      "\u001b[1;31mValueError\u001b[0m                                Traceback (most recent call last)",
      "\u001b[1;32m<ipython-input-85-db10aa16ab6b>\u001b[0m in \u001b[0;36m<module>\u001b[1;34m\u001b[0m\n\u001b[1;32m----> 1\u001b[1;33m \u001b[0mdf\u001b[0m\u001b[1;33m[\u001b[0m\u001b[1;33m[\u001b[0m\u001b[1;34m\"assignment_date\"\u001b[0m\u001b[1;33m,\u001b[0m \u001b[1;34m\"install_date\"\u001b[0m\u001b[1;33m,\u001b[0m \u001b[1;34m\"conversion_date\"\u001b[0m\u001b[1;33m]\u001b[0m\u001b[1;33m]\u001b[0m \u001b[1;33m=\u001b[0m \u001b[0mpd\u001b[0m\u001b[1;33m.\u001b[0m\u001b[0mto_datetime\u001b[0m\u001b[1;33m(\u001b[0m\u001b[0mdf\u001b[0m\u001b[1;33m[\u001b[0m\u001b[1;33m[\u001b[0m\u001b[1;34m\"assignment_date\"\u001b[0m\u001b[1;33m,\u001b[0m \u001b[1;34m\"install_date\"\u001b[0m\u001b[1;33m,\u001b[0m \u001b[1;34m\"conversion_date\"\u001b[0m\u001b[1;33m]\u001b[0m\u001b[1;33m]\u001b[0m\u001b[1;33m,\u001b[0m  \u001b[0mformat\u001b[0m\u001b[1;33m=\u001b[0m\u001b[1;34m\"%y-%m-%d\"\u001b[0m\u001b[1;33m)\u001b[0m\u001b[1;33m\u001b[0m\u001b[1;33m\u001b[0m\u001b[0m\n\u001b[0m",
      "\u001b[1;32mc:\\Users\\rmari\\anaconda3\\lib\\site-packages\\pandas\\core\\tools\\datetimes.py\u001b[0m in \u001b[0;36mto_datetime\u001b[1;34m(arg, errors, dayfirst, yearfirst, utc, format, exact, unit, infer_datetime_format, origin, cache)\u001b[0m\n\u001b[0;32m    806\u001b[0m             \u001b[0mresult\u001b[0m \u001b[1;33m=\u001b[0m \u001b[0marg\u001b[0m\u001b[1;33m.\u001b[0m\u001b[0m_constructor\u001b[0m\u001b[1;33m(\u001b[0m\u001b[0mvalues\u001b[0m\u001b[1;33m,\u001b[0m \u001b[0mindex\u001b[0m\u001b[1;33m=\u001b[0m\u001b[0marg\u001b[0m\u001b[1;33m.\u001b[0m\u001b[0mindex\u001b[0m\u001b[1;33m,\u001b[0m \u001b[0mname\u001b[0m\u001b[1;33m=\u001b[0m\u001b[0marg\u001b[0m\u001b[1;33m.\u001b[0m\u001b[0mname\u001b[0m\u001b[1;33m)\u001b[0m\u001b[1;33m\u001b[0m\u001b[1;33m\u001b[0m\u001b[0m\n\u001b[0;32m    807\u001b[0m     \u001b[1;32melif\u001b[0m \u001b[0misinstance\u001b[0m\u001b[1;33m(\u001b[0m\u001b[0marg\u001b[0m\u001b[1;33m,\u001b[0m \u001b[1;33m(\u001b[0m\u001b[0mABCDataFrame\u001b[0m\u001b[1;33m,\u001b[0m \u001b[0mabc\u001b[0m\u001b[1;33m.\u001b[0m\u001b[0mMutableMapping\u001b[0m\u001b[1;33m)\u001b[0m\u001b[1;33m)\u001b[0m\u001b[1;33m:\u001b[0m\u001b[1;33m\u001b[0m\u001b[1;33m\u001b[0m\u001b[0m\n\u001b[1;32m--> 808\u001b[1;33m         \u001b[0mresult\u001b[0m \u001b[1;33m=\u001b[0m \u001b[0m_assemble_from_unit_mappings\u001b[0m\u001b[1;33m(\u001b[0m\u001b[0marg\u001b[0m\u001b[1;33m,\u001b[0m \u001b[0merrors\u001b[0m\u001b[1;33m,\u001b[0m \u001b[0mtz\u001b[0m\u001b[1;33m)\u001b[0m\u001b[1;33m\u001b[0m\u001b[1;33m\u001b[0m\u001b[0m\n\u001b[0m\u001b[0;32m    809\u001b[0m     \u001b[1;32melif\u001b[0m \u001b[0misinstance\u001b[0m\u001b[1;33m(\u001b[0m\u001b[0marg\u001b[0m\u001b[1;33m,\u001b[0m \u001b[0mIndex\u001b[0m\u001b[1;33m)\u001b[0m\u001b[1;33m:\u001b[0m\u001b[1;33m\u001b[0m\u001b[1;33m\u001b[0m\u001b[0m\n\u001b[0;32m    810\u001b[0m         \u001b[0mcache_array\u001b[0m \u001b[1;33m=\u001b[0m \u001b[0m_maybe_cache\u001b[0m\u001b[1;33m(\u001b[0m\u001b[0marg\u001b[0m\u001b[1;33m,\u001b[0m \u001b[0mformat\u001b[0m\u001b[1;33m,\u001b[0m \u001b[0mcache\u001b[0m\u001b[1;33m,\u001b[0m \u001b[0mconvert_listlike\u001b[0m\u001b[1;33m)\u001b[0m\u001b[1;33m\u001b[0m\u001b[1;33m\u001b[0m\u001b[0m\n",
      "\u001b[1;32mc:\\Users\\rmari\\anaconda3\\lib\\site-packages\\pandas\\core\\tools\\datetimes.py\u001b[0m in \u001b[0;36m_assemble_from_unit_mappings\u001b[1;34m(arg, errors, tz)\u001b[0m\n\u001b[0;32m    905\u001b[0m     \u001b[1;32mif\u001b[0m \u001b[0mlen\u001b[0m\u001b[1;33m(\u001b[0m\u001b[0mreq\u001b[0m\u001b[1;33m)\u001b[0m\u001b[1;33m:\u001b[0m\u001b[1;33m\u001b[0m\u001b[1;33m\u001b[0m\u001b[0m\n\u001b[0;32m    906\u001b[0m         \u001b[0m_required\u001b[0m \u001b[1;33m=\u001b[0m \u001b[1;34m\",\"\u001b[0m\u001b[1;33m.\u001b[0m\u001b[0mjoin\u001b[0m\u001b[1;33m(\u001b[0m\u001b[0mreq\u001b[0m\u001b[1;33m)\u001b[0m\u001b[1;33m\u001b[0m\u001b[1;33m\u001b[0m\u001b[0m\n\u001b[1;32m--> 907\u001b[1;33m         raise ValueError(\n\u001b[0m\u001b[0;32m    908\u001b[0m             \u001b[1;34m\"to assemble mappings requires at least that \"\u001b[0m\u001b[1;33m\u001b[0m\u001b[1;33m\u001b[0m\u001b[0m\n\u001b[0;32m    909\u001b[0m             \u001b[1;34mf\"[year, month, day] be specified: [{_required}] is missing\"\u001b[0m\u001b[1;33m\u001b[0m\u001b[1;33m\u001b[0m\u001b[0m\n",
      "\u001b[1;31mValueError\u001b[0m: to assemble mappings requires at least that [year, month, day] be specified: [day,month,year] is missing"
     ]
    }
   ],
   "source": [
    "df[[\"assignment_date\", \"install_date\", \"conversion_date\"]] = pd.to_datetime(df[[\"assignment_date\", \"install_date\", \"conversion_date\"]],  format=\"%y-%m-%d\")"
   ]
  },
  {
   "cell_type": "markdown",
   "metadata": {},
   "source": [
    "#### 1. Which metrics do you consider important to look at in this case? What can you say about them in this A/B test?\n",
    "\n",
    "Engagement metric:\n",
    "1. Average gamerounds played per user\n",
    "2. New players' retention rate\n",
    "\n",
    "Monetization metrics:\n",
    "1. Average revenue per user\n",
    "2. Average revenue per paying user\n",
    "3. Time to first purchase\n",
    "4. Share of paying users\n"
   ]
  },
  {
   "cell_type": "code",
   "execution_count": 34,
   "metadata": {},
   "outputs": [
    {
     "data": {
      "text/html": [
       "<div>\n",
       "<style scoped>\n",
       "    .dataframe tbody tr th:only-of-type {\n",
       "        vertical-align: middle;\n",
       "    }\n",
       "\n",
       "    .dataframe tbody tr th {\n",
       "        vertical-align: top;\n",
       "    }\n",
       "\n",
       "    .dataframe thead th {\n",
       "        text-align: right;\n",
       "    }\n",
       "</style>\n",
       "<table border=\"1\" class=\"dataframe\">\n",
       "  <thead>\n",
       "    <tr style=\"text-align: right;\">\n",
       "      <th></th>\n",
       "      <th>total_gamends</th>\n",
       "      <th>total_purchases</th>\n",
       "    </tr>\n",
       "    <tr>\n",
       "      <th>abtest_group</th>\n",
       "      <th></th>\n",
       "      <th></th>\n",
       "    </tr>\n",
       "  </thead>\n",
       "  <tbody>\n",
       "    <tr>\n",
       "      <th>A</th>\n",
       "      <td>158.563439</td>\n",
       "      <td>0.366211</td>\n",
       "    </tr>\n",
       "    <tr>\n",
       "      <th>B</th>\n",
       "      <td>155.490497</td>\n",
       "      <td>0.39257</td>\n",
       "    </tr>\n",
       "  </tbody>\n",
       "</table>\n",
       "</div>"
      ],
      "text/plain": [
       "              total_gamends  total_purchases\n",
       "abtest_group                                \n",
       "A                158.563439         0.366211\n",
       "B                155.490497          0.39257"
      ]
     },
     "execution_count": 34,
     "metadata": {},
     "output_type": "execute_result"
    }
   ],
   "source": [
    "df[[\"abtest_group\", \"total_gamends\", \"total_purchases\"]].groupby(by=\"abtest_group\").agg(np.mean)\n"
   ]
  },
  {
   "cell_type": "markdown",
   "metadata": {},
   "source": [
    "#### 2. What sanity checks can you do to be confident in the validity of the test?"
   ]
  },
  {
   "cell_type": "code",
   "execution_count": 30,
   "metadata": {},
   "outputs": [
    {
     "data": {
      "text/plain": [
       "A    0.800074\n",
       "B    0.199926\n",
       "Name: abtest_group, dtype: float64"
      ]
     },
     "execution_count": 30,
     "metadata": {},
     "output_type": "execute_result"
    }
   ],
   "source": [
    "# Do the control (A) and test (B) groups contain 80 and 20 percent of the players respectively?\n",
    "df.abtest_group.value_counts(normalize=True)"
   ]
  },
  {
   "cell_type": "code",
   "execution_count": 26,
   "metadata": {},
   "outputs": [
    {
     "data": {
      "text/plain": [
       "False"
      ]
     },
     "execution_count": 26,
     "metadata": {},
     "output_type": "execute_result"
    }
   ],
   "source": [
    "# Are there duplicated playerids?\n",
    "df[\"playerid\"].duplicated().any()"
   ]
  },
  {
   "cell_type": "code",
   "execution_count": 67,
   "metadata": {},
   "outputs": [
    {
     "data": {
      "text/plain": [
       "abtest_group\n",
       "A    0.180213\n",
       "B    0.180765\n",
       "Name: is_new_player, dtype: float64"
      ]
     },
     "execution_count": 67,
     "metadata": {},
     "output_type": "execute_result"
    }
   ],
   "source": [
    "# Checking invariants: Is the percentage of new players the same in both groups?\n",
    "df[\"is_new_player\"] = df[\"install_date\"] >= \"2017-05-04\"\n",
    "df.groupby(\"abtest_group\")[\"is_new_player\"].mean()"
   ]
  },
  {
   "cell_type": "code",
   "execution_count": 73,
   "metadata": {},
   "outputs": [
    {
     "data": {
      "text/plain": [
       "abtest_group\n",
       "A    0.110319\n",
       "B    0.109981\n",
       "Name: is_veteran_player, dtype: float64"
      ]
     },
     "execution_count": 73,
     "metadata": {},
     "output_type": "execute_result"
    }
   ],
   "source": [
    "# Checking invariants: Is the percentage of veteran players the same in both groups?\n",
    "df[\"is_veteran_player\"] = df[\"install_date\"] <= \"2016-05-04\"\n",
    "df.groupby(\"abtest_group\")[\"is_veteran_player\"].mean()"
   ]
  },
  {
   "cell_type": "markdown",
   "metadata": {},
   "source": [
    "#### 4. Do different types of players react differently to the treatment?"
   ]
  },
  {
   "cell_type": "code",
   "execution_count": 90,
   "metadata": {},
   "outputs": [
    {
     "data": {
      "text/html": [
       "<div>\n",
       "<style scoped>\n",
       "    .dataframe tbody tr th:only-of-type {\n",
       "        vertical-align: middle;\n",
       "    }\n",
       "\n",
       "    .dataframe tbody tr th {\n",
       "        vertical-align: top;\n",
       "    }\n",
       "\n",
       "    .dataframe thead th {\n",
       "        text-align: right;\n",
       "    }\n",
       "</style>\n",
       "<table border=\"1\" class=\"dataframe\">\n",
       "  <thead>\n",
       "    <tr style=\"text-align: right;\">\n",
       "      <th></th>\n",
       "      <th></th>\n",
       "      <th>total_gamends</th>\n",
       "      <th>total_purchases</th>\n",
       "    </tr>\n",
       "    <tr>\n",
       "      <th>abtest_group</th>\n",
       "      <th>player_type</th>\n",
       "      <th></th>\n",
       "      <th></th>\n",
       "    </tr>\n",
       "  </thead>\n",
       "  <tbody>\n",
       "    <tr>\n",
       "      <th rowspan=\"3\" valign=\"top\">A</th>\n",
       "      <th>0</th>\n",
       "      <td>178.521335</td>\n",
       "      <td>0.412118</td>\n",
       "    </tr>\n",
       "    <tr>\n",
       "      <th>experienced</th>\n",
       "      <td>185.627311</td>\n",
       "      <td>0.430645</td>\n",
       "    </tr>\n",
       "    <tr>\n",
       "      <th>newbie</th>\n",
       "      <td>62.127698</td>\n",
       "      <td>0.142656</td>\n",
       "    </tr>\n",
       "    <tr>\n",
       "      <th rowspan=\"3\" valign=\"top\">B</th>\n",
       "      <th>0</th>\n",
       "      <td>175.131749</td>\n",
       "      <td>0.445606</td>\n",
       "    </tr>\n",
       "    <tr>\n",
       "      <th>experienced</th>\n",
       "      <td>181.963018</td>\n",
       "      <td>0.451266</td>\n",
       "    </tr>\n",
       "    <tr>\n",
       "      <th>newbie</th>\n",
       "      <td>61.070621</td>\n",
       "      <td>0.147731</td>\n",
       "    </tr>\n",
       "  </tbody>\n",
       "</table>\n",
       "</div>"
      ],
      "text/plain": [
       "                          total_gamends  total_purchases\n",
       "abtest_group player_type                                \n",
       "A            0               178.521335         0.412118\n",
       "             experienced     185.627311         0.430645\n",
       "             newbie           62.127698         0.142656\n",
       "B            0               175.131749         0.445606\n",
       "             experienced     181.963018         0.451266\n",
       "             newbie           61.070621         0.147731"
      ]
     },
     "execution_count": 90,
     "metadata": {},
     "output_type": "execute_result"
    }
   ],
   "source": [
    "conditions = [\n",
    "    (df[\"install_date\"] >= \"2017-05-04\"),\n",
    "    (df[\"install_date\"] < \"2017-05-04\") & (df[\"install_date\"] <= \"2016-06-06\"),\n",
    "    (df[\"install_date\"] < \"2016-06-01\")\n",
    "    ]\n",
    "\n",
    "values = [\"newbie\", \"experienced\", \"OG\"]\n",
    "\n",
    "df[\"player_type\"] = np.select(conditions, values)\n",
    "df[[\"abtest_group\", \"player_type\", \"total_gamends\", \"total_purchases\"]].groupby(by=[\"abtest_group\", \n",
    "                                                                                    \"player_type\"]).agg(np.mean)\n"
   ]
  },
  {
   "cell_type": "code",
   "execution_count": 57,
   "metadata": {},
   "outputs": [
    {
     "data": {
      "text/html": [
       "<div>\n",
       "<style scoped>\n",
       "    .dataframe tbody tr th:only-of-type {\n",
       "        vertical-align: middle;\n",
       "    }\n",
       "\n",
       "    .dataframe tbody tr th {\n",
       "        vertical-align: top;\n",
       "    }\n",
       "\n",
       "    .dataframe thead th {\n",
       "        text-align: right;\n",
       "    }\n",
       "</style>\n",
       "<table border=\"1\" class=\"dataframe\">\n",
       "  <thead>\n",
       "    <tr style=\"text-align: right;\">\n",
       "      <th></th>\n",
       "      <th></th>\n",
       "      <th>total_gamends</th>\n",
       "      <th>total_purchases</th>\n",
       "    </tr>\n",
       "    <tr>\n",
       "      <th>abtest_group</th>\n",
       "      <th>is_new_player</th>\n",
       "      <th></th>\n",
       "      <th></th>\n",
       "    </tr>\n",
       "  </thead>\n",
       "  <tbody>\n",
       "    <tr>\n",
       "      <th rowspan=\"2\" valign=\"top\">A</th>\n",
       "      <th>False</th>\n",
       "      <td>179.762862</td>\n",
       "      <td>0.415355</td>\n",
       "    </tr>\n",
       "    <tr>\n",
       "      <th>True</th>\n",
       "      <td>62.127698</td>\n",
       "      <td>0.142656</td>\n",
       "    </tr>\n",
       "    <tr>\n",
       "      <th rowspan=\"2\" valign=\"top\">B</th>\n",
       "      <th>False</th>\n",
       "      <td>176.324380</td>\n",
       "      <td>0.446595</td>\n",
       "    </tr>\n",
       "    <tr>\n",
       "      <th>True</th>\n",
       "      <td>61.070621</td>\n",
       "      <td>0.147731</td>\n",
       "    </tr>\n",
       "  </tbody>\n",
       "</table>\n",
       "</div>"
      ],
      "text/plain": [
       "                            total_gamends  total_purchases\n",
       "abtest_group is_new_player                                \n",
       "A            False             179.762862         0.415355\n",
       "             True               62.127698         0.142656\n",
       "B            False             176.324380         0.446595\n",
       "             True               61.070621         0.147731"
      ]
     },
     "execution_count": 57,
     "metadata": {},
     "output_type": "execute_result"
    }
   ],
   "source": [
    "df[[\"abtest_group\", \"is_new_player\", \"total_gamends\", \"total_purchases\"]].groupby(by=[\"abtest_group\", \"is_new_player\"]).agg(np.mean)"
   ]
  },
  {
   "cell_type": "code",
   "execution_count": 71,
   "metadata": {},
   "outputs": [
    {
     "data": {
      "text/html": [
       "<div>\n",
       "<style scoped>\n",
       "    .dataframe tbody tr th:only-of-type {\n",
       "        vertical-align: middle;\n",
       "    }\n",
       "\n",
       "    .dataframe tbody tr th {\n",
       "        vertical-align: top;\n",
       "    }\n",
       "\n",
       "    .dataframe thead th {\n",
       "        text-align: right;\n",
       "    }\n",
       "</style>\n",
       "<table border=\"1\" class=\"dataframe\">\n",
       "  <thead>\n",
       "    <tr style=\"text-align: right;\">\n",
       "      <th></th>\n",
       "      <th></th>\n",
       "      <th>total_gamends</th>\n",
       "      <th>total_purchases</th>\n",
       "    </tr>\n",
       "    <tr>\n",
       "      <th>abtest_group</th>\n",
       "      <th>is_veteran_player</th>\n",
       "      <th></th>\n",
       "      <th></th>\n",
       "    </tr>\n",
       "  </thead>\n",
       "  <tbody>\n",
       "    <tr>\n",
       "      <th rowspan=\"2\" valign=\"top\">A</th>\n",
       "      <th>False</th>\n",
       "      <td>155.188295</td>\n",
       "      <td>0.358111</td>\n",
       "    </tr>\n",
       "    <tr>\n",
       "      <th>True</th>\n",
       "      <td>185.782726</td>\n",
       "      <td>0.431536</td>\n",
       "    </tr>\n",
       "    <tr>\n",
       "      <th rowspan=\"2\" valign=\"top\">B</th>\n",
       "      <th>False</th>\n",
       "      <td>152.221610</td>\n",
       "      <td>0.386544</td>\n",
       "    </tr>\n",
       "    <tr>\n",
       "      <th>True</th>\n",
       "      <td>181.943881</td>\n",
       "      <td>0.441341</td>\n",
       "    </tr>\n",
       "  </tbody>\n",
       "</table>\n",
       "</div>"
      ],
      "text/plain": [
       "                                total_gamends  total_purchases\n",
       "abtest_group is_veteran_player                                \n",
       "A            False                 155.188295         0.358111\n",
       "             True                  185.782726         0.431536\n",
       "B            False                 152.221610         0.386544\n",
       "             True                  181.943881         0.441341"
      ]
     },
     "execution_count": 71,
     "metadata": {},
     "output_type": "execute_result"
    }
   ],
   "source": [
    "df[[\"abtest_group\", \"is_veteran_player\", \"total_gamends\", \"total_purchases\"]].groupby(by=[\"abtest_group\", \"is_veteran_player\"]).agg(np.mean)"
   ]
  },
  {
   "cell_type": "code",
   "execution_count": null,
   "metadata": {},
   "outputs": [],
   "source": []
  },
  {
   "cell_type": "code",
   "execution_count": 41,
   "metadata": {},
   "outputs": [
    {
     "data": {
      "text/plain": [
       "<function matplotlib.pyplot.show(close=None, block=None)>"
      ]
     },
     "execution_count": 41,
     "metadata": {},
     "output_type": "execute_result"
    },
    {
     "data": {
      "image/png": "[encoded data removed]",
      "text/plain": [
       "<Figure size 432x288 with 1 Axes>"
      ]
     },
     "metadata": {
      "needs_background": "light"
     },
     "output_type": "display_data"
    }
   ],
   "source": [
    "pmfA = A.total_gamends.value_counts(normalize=True)\n",
    "plt.bar(pmfA.index, pmfA)\n",
    "plt.ylabel(\"Probability\")\n",
    "plt.xlabel(\"Gamerounds Played\")\n",
    "plt.show"
   ]
  },
  {
   "cell_type": "code",
   "execution_count": 42,
   "metadata": {},
   "outputs": [
    {
     "data": {
      "text/plain": [
       "<function matplotlib.pyplot.show(close=None, block=None)>"
      ]
     },
     "execution_count": 42,
     "metadata": {},
     "output_type": "execute_result"
    },
    {
     "data": {
      "image/png": "[encoded data removed]",
      "text/plain": [
       "<Figure size 432x288 with 1 Axes>"
      ]
     },
     "metadata": {
      "needs_background": "light"
     },
     "output_type": "display_data"
    }
   ],
   "source": [
    "pmfB = B.total_gamends.value_counts(normalize=True)\n",
    "plt.bar(pmfB.index, pmfB)\n",
    "plt.ylabel(\"Probability\")\n",
    "plt.xlabel(\"Gamerounds Played\")\n",
    "plt.show"
   ]
  }
 ],
 "metadata": {
  "kernelspec": {
   "display_name": "Python 3.8.8 ('base')",
   "language": "python",
   "name": "python3"
  },
  "language_info": {
   "codemirror_mode": {
    "name": "ipython",
    "version": 3
   },
   "file_extension": ".py",
   "mimetype": "text/x-python",
   "name": "python",
   "nbconvert_exporter": "python",
   "pygments_lexer": "ipython3",
   "version": "3.8.8"
  },
  "orig_nbformat": 4,
  "vscode": {
   "interpreter": {
    "hash": "74609ea32c075f5c8e96a18961956eadb9a9347b199f0247ab8ad93a9d4aa1e3"
   }
  }
 },
 "nbformat": 4,
 "nbformat_minor": 2
}

{
  "cells": [
    {
      "cell_type": "markdown",
      "metadata": {
        "id": "3NFJJK4NLuhr"
      },
      "source": [
        "### Install / Import libraries"
      ]
    },
    {
      "cell_type": "code",
      "execution_count": 1,
      "metadata": {
        "colab": {
          "base_uri": "https://localhost:8080/"
        },
        "id": "NWnfcPPz6D5l",
        "outputId": "7a2d5aea-0d19-464e-85b8-0cf0dd05df0f"
      },
      "outputs": [],
      "source": [
        "#!pip install bitfinex-tencars\n",
        "#!pip install apscheduler"
      ]
    },
    {
      "cell_type": "code",
      "execution_count": 2,
      "metadata": {
        "id": "Eg84pKWL6KGJ"
      },
      "outputs": [],
      "source": [
        "import bitfinex\n",
        "import pandas as pd\n",
        "import numpy as np\n",
        "from datetime import datetime, timedelta, date\n",
        "import matplotlib.pyplot as plt\n",
        "import time"
      ]
    },
    {
      "cell_type": "markdown",
      "metadata": {
        "id": "CA8yrRSLLejV"
      },
      "source": [
        "### API V1 Exercices"
      ]
    },
    {
      "cell_type": "code",
      "execution_count": null,
      "metadata": {
        "colab": {
          "base_uri": "https://localhost:8080/"
        },
        "id": "jxvYWU5_HKbi",
        "outputId": "564c5924-f582-4eea-8f82-1615a022b3ac"
      },
      "outputs": [],
      "source": [
        "# Ex.1 Get current ticker data for a pair\n",
        "api = bitfinex.api_v1() # Initialize the api\n",
        "pair = 'btcusd' # Select a trading pair\n",
        "api.ticker(pair) # Get the current ticker data"
      ]
    },
    {
      "cell_type": "code",
      "execution_count": null,
      "metadata": {
        "colab": {
          "base_uri": "https://localhost:8080/"
        },
        "id": "p3pGPX_gHa7d",
        "outputId": "bd9e46ec-fafb-496d-b538-abeef07186a8"
      },
      "outputs": [],
      "source": [
        "# Ex.2 Find all available currency pairs\n",
        "api = bitfinex.api_v1()\n",
        "symbols = api.symbols()"
      ]
    },
    {
      "cell_type": "code",
      "execution_count": null,
      "metadata": {
        "id": "BT7O0p5DH6oX"
      },
      "outputs": [],
      "source": [
        "# Ex.3 Check account balance\n",
        "key = 'YOUR_PUBLIC_KEY'\n",
        "secrete = 'YOUR_SECRETE_KEY'\n",
        "api = bitfinex.api_v1(key, secrete)\n",
        "my_balance = api_bitfinex.balance()"
      ]
    },
    {
      "cell_type": "code",
      "execution_count": null,
      "metadata": {
        "id": "0dRbN436IB1h"
      },
      "outputs": [],
      "source": [
        "# Ex.4 Place a buy or sell order\n",
        "symbol = 'btcusd' # Currency pair to trade\n",
        "amount = '0' # Amount to buy\n",
        "price = '0' # Buy price\n",
        "side = 'buy' # Buy or sell\n",
        "type = 'exchange market' # buy order type\n",
        "\n",
        "api.place_order(symbol, amount, price, side, type) # Send the order"
      ]
    },
    {
      "cell_type": "markdown",
      "metadata": {
        "id": "7kMwnQUKLpCV"
      },
      "source": [
        "### API V2: Fetch historical data"
      ]
    },
    {
      "cell_type": "code",
      "execution_count": 3,
      "metadata": {},
      "outputs": [],
      "source": [
        "btc_historical = pd.read_csv('btc_historical.csv', parse_dates=[\"time\"], index_col=\"time\")"
      ]
    },
    {
      "cell_type": "code",
      "execution_count": 10,
      "metadata": {
        "id": "KyOLpBC96p3C"
      },
      "outputs": [],
      "source": [
        "# Define a function to fetch currency pair's historical data in sub queries\n",
        "def fetchData(start, stop, symbol, interval, limit, step):\n",
        "    # Create api instance\n",
        "    api = bitfinex.api_v2()\n",
        "\n",
        "    data = []\n",
        "    start = start - step\n",
        "    while start < stop:\n",
        "\n",
        "        start = start + step\n",
        "        end = start + step\n",
        "        result = api.candles(start=start, end=end, symbol=symbol, interval=interval, limit=limit)\n",
        "        data.extend(result)\n",
        "        print('Retrieving data from {} to {} for {}'.format(pd.to_datetime(start, unit='ms'),\n",
        "                                                            pd.to_datetime(end, unit='ms'), symbol))\n",
        "        time.sleep(1)\n",
        "    return data"
      ]
    },
    {
      "cell_type": "code",
      "execution_count": 35,
      "metadata": {
        "colab": {
          "base_uri": "https://localhost:8080/"
        },
        "id": "z0eCSRfW7tDx",
        "outputId": "205c88b6-ec7c-4a6e-f7c2-f13d18e27a85"
      },
      "outputs": [
        {
          "name": "stdout",
          "output_type": "stream",
          "text": [
            "No keys, only access to public API functions\n",
            "Retrieving data from 2022-04-18 09:37:00 to 2022-04-18 11:17:00 for BTCUSD\n",
            "Retrieving data from 2022-04-18 11:17:00 to 2022-04-18 12:57:00 for BTCUSD\n",
            "Retrieving data from 2022-04-18 12:57:00 to 2022-04-18 14:37:00 for BTCUSD\n",
            "Retrieving data from 2022-04-18 14:37:00 to 2022-04-18 16:17:00 for BTCUSD\n",
            "Retrieving data from 2022-04-18 16:17:00 to 2022-04-18 17:57:00 for BTCUSD\n",
            "Retrieving data from 2022-04-18 17:57:00 to 2022-04-18 19:37:00 for BTCUSD\n",
            "Retrieving data from 2022-04-18 19:37:00 to 2022-04-18 21:17:00 for BTCUSD\n"
          ]
        }
      ],
      "source": [
        "# Define query parameters\n",
        "symbol = 'BTCUSD' # currenty pair\n",
        "interval = '1m' # time resolution\n",
        "limit = 100 # datapoints per call (minutes)\n",
        "step = 1000 * 60 * limit # size of each subquery in milliseconds\n",
        "\n",
        "# Fill in the start and end time of interest and convert it to miliseconds\n",
        "start = btc_historical.index[-1]\n",
        "start = time.mktime(start.timetuple()) * 1000 \n",
        "stop = datetime.now()\n",
        "stop = time.mktime(stop.timetuple()) * 1000\n",
        "\n",
        "# Fetch the data\n",
        "pair_data = fetchData(start=start, stop=stop, symbol=symbol, interval=interval, limit=limit, step=step)"
      ]
    },
    {
      "cell_type": "code",
      "execution_count": 15,
      "metadata": {
        "id": "O3op5qZI8H7C"
      },
      "outputs": [
        {
          "data": {
            "text/html": [
              "<div>\n",
              "<style scoped>\n",
              "    .dataframe tbody tr th:only-of-type {\n",
              "        vertical-align: middle;\n",
              "    }\n",
              "\n",
              "    .dataframe tbody tr th {\n",
              "        vertical-align: top;\n",
              "    }\n",
              "\n",
              "    .dataframe thead th {\n",
              "        text-align: right;\n",
              "    }\n",
              "</style>\n",
              "<table border=\"1\" class=\"dataframe\">\n",
              "  <thead>\n",
              "    <tr style=\"text-align: right;\">\n",
              "      <th></th>\n",
              "      <th>open</th>\n",
              "      <th>close</th>\n",
              "      <th>high</th>\n",
              "      <th>low</th>\n",
              "      <th>volume</th>\n",
              "    </tr>\n",
              "    <tr>\n",
              "      <th>time</th>\n",
              "      <th></th>\n",
              "      <th></th>\n",
              "      <th></th>\n",
              "      <th></th>\n",
              "      <th></th>\n",
              "    </tr>\n",
              "  </thead>\n",
              "  <tbody>\n",
              "    <tr>\n",
              "      <th>2022-04-18 09:29:00</th>\n",
              "      <td>38870.000000</td>\n",
              "      <td>38882.0</td>\n",
              "      <td>38886.000000</td>\n",
              "      <td>38869.0</td>\n",
              "      <td>0.752520</td>\n",
              "    </tr>\n",
              "    <tr>\n",
              "      <th>2022-04-18 09:30:00</th>\n",
              "      <td>38865.000000</td>\n",
              "      <td>38977.0</td>\n",
              "      <td>38989.000000</td>\n",
              "      <td>38865.0</td>\n",
              "      <td>25.887580</td>\n",
              "    </tr>\n",
              "    <tr>\n",
              "      <th>2022-04-18 09:31:00</th>\n",
              "      <td>38989.000000</td>\n",
              "      <td>38996.0</td>\n",
              "      <td>38997.000000</td>\n",
              "      <td>38989.0</td>\n",
              "      <td>1.808248</td>\n",
              "    </tr>\n",
              "    <tr>\n",
              "      <th>2022-04-18 09:32:00</th>\n",
              "      <td>38996.922745</td>\n",
              "      <td>38974.0</td>\n",
              "      <td>38996.922745</td>\n",
              "      <td>38950.0</td>\n",
              "      <td>2.537734</td>\n",
              "    </tr>\n",
              "    <tr>\n",
              "      <th>2022-04-18 09:33:00</th>\n",
              "      <td>38973.000000</td>\n",
              "      <td>38974.0</td>\n",
              "      <td>38974.000000</td>\n",
              "      <td>38970.0</td>\n",
              "      <td>1.371232</td>\n",
              "    </tr>\n",
              "  </tbody>\n",
              "</table>\n",
              "</div>"
            ],
            "text/plain": [
              "                             open    close          high      low     volume\n",
              "time                                                                        \n",
              "2022-04-18 09:29:00  38870.000000  38882.0  38886.000000  38869.0   0.752520\n",
              "2022-04-18 09:30:00  38865.000000  38977.0  38989.000000  38865.0  25.887580\n",
              "2022-04-18 09:31:00  38989.000000  38996.0  38997.000000  38989.0   1.808248\n",
              "2022-04-18 09:32:00  38996.922745  38974.0  38996.922745  38950.0   2.537734\n",
              "2022-04-18 09:33:00  38973.000000  38974.0  38974.000000  38970.0   1.371232"
            ]
          },
          "execution_count": 15,
          "metadata": {},
          "output_type": "execute_result"
        }
      ],
      "source": [
        "# Remove error messages\n",
        "ind = [np.ndim(x) != 0 for x in pair_data]\n",
        "pair_data = [i for (i, v) in zip(pair_data, ind) if v]\n",
        "\n",
        "# Create pandas data frame and clean data\n",
        "names = ['time', 'open', 'close', 'high', 'low', 'volume']\n",
        "df = pd.DataFrame(pair_data, columns=names)\n",
        "df.drop_duplicates(inplace=True)\n",
        "df['time'] = pd.to_datetime(df['time'], unit='ms')\n",
        "df.set_index('time', inplace=True)\n",
        "df.sort_index(inplace=True)\n",
        "df.head()"
      ]
    },
    {
      "cell_type": "code",
      "execution_count": 16,
      "metadata": {
        "colab": {
          "base_uri": "https://localhost:8080/",
          "height": 355
        },
        "id": "hpN185a8Xh0D",
        "outputId": "25142931-15c4-4880-d9d9-255812baa12e"
      },
      "outputs": [
        {
          "data": {
            "image/png": "[encoded data removed]",
            "text/plain": [
              "<Figure size 1296x360 with 1 Axes>"
            ]
          },
          "metadata": {
            "needs_background": "light"
          },
          "output_type": "display_data"
        }
      ],
      "source": [
        "fig, ax = plt.subplots(1, 1, figsize=(18, 5))\n",
        "\n",
        "ax.plot(df['close'])\n",
        "ax.set_xlabel('Date', fontsize=16)\n",
        "ax.set_ylabel('BTC / USD', fontsize=16)\n",
        "ax.set_title('Bitcoin minute closing price from {} to {}'.format(df.index[0], df.index[-1]))\n",
        "ax.grid()\n",
        "\n",
        "plt.show()"
      ]
    },
    {
      "cell_type": "code",
      "execution_count": 17,
      "metadata": {
        "id": "hArqpYrvbpXy"
      },
      "outputs": [],
      "source": [
        "btc_historical = btc_historical.append(df).drop_duplicates()\n",
        "btc_historical.to_csv('btc_historical.csv')"
      ]
    },
    {
      "cell_type": "code",
      "execution_count": 18,
      "metadata": {},
      "outputs": [
        {
          "data": {
            "text/plain": [
              "<AxesSubplot:xlabel='time'>"
            ]
          },
          "execution_count": 18,
          "metadata": {},
          "output_type": "execute_result"
        },
        {
          "data": {
            "image/png": "[encoded data removed]",
            "text/plain": [
              "<Figure size 432x288 with 1 Axes>"
            ]
          },
          "metadata": {
            "needs_background": "light"
          },
          "output_type": "display_data"
        }
      ],
      "source": [
        "btc_historical[\"close\"].plot()"
      ]
    }
  ],
  "metadata": {
    "colab": {
      "collapsed_sections": [],
      "name": "BTC.ipynb",
      "provenance": []
    },
    "kernelspec": {
      "display_name": "Python 3",
      "name": "python3"
    },
    "language_info": {
      "codemirror_mode": {
        "name": "ipython",
        "version": 3
      },
      "file_extension": ".py",
      "mimetype": "text/x-python",
      "name": "python",
      "nbconvert_exporter": "python",
      "pygments_lexer": "ipython3",
      "version": "3.8.8"
    }
  },
  "nbformat": 4,
  "nbformat_minor": 0
}

{
 "cells": [
  {
   "cell_type": "code",
   "execution_count": 7,
   "metadata": {},
   "outputs": [],
   "source": [
    "# Convert .mat files to .csv files\n",
    "\n",
    "import scipy.io\n",
    "import numpy as np\n",
    "import os\n",
    "\n",
    "directory = 'datasets/EEG/Subject 4'\n",
    "for filename in os.listdir(directory):\n",
    "    if filename.endswith(\".mat\"):\n",
    "        data = scipy.io.loadmat(f'datasets/EEG/Subject 4/{filename[:-4]}')\n",
    "        for i in data:\n",
    "            if '__' not in i and 'readme' not in i:\n",
    "                np.savetxt((f\"datasets/EEG/Subject 4/{filename[:-4]}.csv\"), data[i], delimiter=',')"
   ]
  },
  {
   "cell_type": "code",
   "execution_count": 9,
   "metadata": {},
   "outputs": [],
   "source": [
    "import pandas as pd\n",
    "l1 = pd.read_csv(\"datasets/EEG/Subject 4/Finalleft1.csv\")"
   ]
  },
  {
   "cell_type": "code",
   "execution_count": 10,
   "metadata": {},
   "outputs": [
    {
     "data": {
      "text/html": [
       "<div>\n",
       "<style scoped>\n",
       "    .dataframe tbody tr th:only-of-type {\n",
       "        vertical-align: middle;\n",
       "    }\n",
       "\n",
       "    .dataframe tbody tr th {\n",
       "        vertical-align: top;\n",
       "    }\n",
       "\n",
       "    .dataframe thead th {\n",
       "        text-align: right;\n",
       "    }\n",
       "</style>\n",
       "<table border=\"1\" class=\"dataframe\">\n",
       "  <thead>\n",
       "    <tr style=\"text-align: right;\">\n",
       "      <th></th>\n",
       "      <th>0.000000000000000000e+00</th>\n",
       "      <th>0.000000000000000000e+00.1</th>\n",
       "      <th>0.000000000000000000e+00.2</th>\n",
       "    </tr>\n",
       "  </thead>\n",
       "  <tbody>\n",
       "    <tr>\n",
       "      <th>count</th>\n",
       "      <td>81919.000000</td>\n",
       "      <td>81919.000000</td>\n",
       "      <td>81919.000000</td>\n",
       "    </tr>\n",
       "    <tr>\n",
       "      <th>mean</th>\n",
       "      <td>0.063538</td>\n",
       "      <td>0.135158</td>\n",
       "      <td>-0.213382</td>\n",
       "    </tr>\n",
       "    <tr>\n",
       "      <th>std</th>\n",
       "      <td>29.450056</td>\n",
       "      <td>104.501344</td>\n",
       "      <td>57.031354</td>\n",
       "    </tr>\n",
       "    <tr>\n",
       "      <th>min</th>\n",
       "      <td>-413.000000</td>\n",
       "      <td>-1683.000000</td>\n",
       "      <td>-923.000000</td>\n",
       "    </tr>\n",
       "    <tr>\n",
       "      <th>25%</th>\n",
       "      <td>-3.000000</td>\n",
       "      <td>-1.000000</td>\n",
       "      <td>-4.000000</td>\n",
       "    </tr>\n",
       "    <tr>\n",
       "      <th>50%</th>\n",
       "      <td>0.000000</td>\n",
       "      <td>0.000000</td>\n",
       "      <td>0.000000</td>\n",
       "    </tr>\n",
       "    <tr>\n",
       "      <th>75%</th>\n",
       "      <td>5.000000</td>\n",
       "      <td>7.000000</td>\n",
       "      <td>3.000000</td>\n",
       "    </tr>\n",
       "    <tr>\n",
       "      <th>max</th>\n",
       "      <td>306.000000</td>\n",
       "      <td>1211.000000</td>\n",
       "      <td>647.000000</td>\n",
       "    </tr>\n",
       "  </tbody>\n",
       "</table>\n",
       "</div>"
      ],
      "text/plain": [
       "       0.000000000000000000e+00  0.000000000000000000e+00.1  \\\n",
       "count              81919.000000                81919.000000   \n",
       "mean                   0.063538                    0.135158   \n",
       "std                   29.450056                  104.501344   \n",
       "min                 -413.000000                -1683.000000   \n",
       "25%                   -3.000000                   -1.000000   \n",
       "50%                    0.000000                    0.000000   \n",
       "75%                    5.000000                    7.000000   \n",
       "max                  306.000000                 1211.000000   \n",
       "\n",
       "       0.000000000000000000e+00.2  \n",
       "count                81919.000000  \n",
       "mean                    -0.213382  \n",
       "std                     57.031354  \n",
       "min                   -923.000000  \n",
       "25%                     -4.000000  \n",
       "50%                      0.000000  \n",
       "75%                      3.000000  \n",
       "max                    647.000000  "
      ]
     },
     "execution_count": 10,
     "metadata": {},
     "output_type": "execute_result"
    }
   ],
   "source": [
    "l1.describe()"
   ]
  }
 ],
 "metadata": {
  "interpreter": {
   "hash": "74609ea32c075f5c8e96a18961956eadb9a9347b199f0247ab8ad93a9d4aa1e3"
  },
  "kernelspec": {
   "display_name": "Python 3.8.8 ('base')",
   "language": "python",
   "name": "python3"
  },
  "language_info": {
   "codemirror_mode": {
    "name": "ipython",
    "version": 3
   },
   "file_extension": ".py",
   "mimetype": "text/x-python",
   "name": "python",
   "nbconvert_exporter": "python",
   "pygments_lexer": "ipython3",
   "version": "3.8.8"
  },
  "orig_nbformat": 4
 },
 "nbformat": 4,
 "nbformat_minor": 2
}

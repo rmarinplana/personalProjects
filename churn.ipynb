{
  "cells": [
    {
      "cell_type": "markdown",
      "metadata": {
        "id": "O084L2Jxh-Xi"
      },
      "source": [
        "# 1. Introduction\n",
        "\n",
        "We aim to accomplish the following for this study:\n",
        "\n",
        "- Identify which factors contribute to customer churn\n",
        "\n",
        "- Build a prediction model that can classify if a customer is going to churn or not. \n",
        "\n",
        "Preferably and based on model performance, we will choose a model that can attach a probability to the churn. This will help the bank to target the most relevant customers in their efforts to prevent churn"
      ]
    },
    {
      "cell_type": "markdown",
      "metadata": {
        "id": "UrpMJQ8VjTl0"
      },
      "source": [
        "# 2. Dataset Review"
      ]
    },
    {
      "cell_type": "code",
      "execution_count": 67,
      "metadata": {
        "id": "gWm0KlDoxfiX"
      },
      "outputs": [],
      "source": [
        "import pandas as pd\n",
        "import numpy as np\n",
        "import matplotlib.pyplot as plt\n",
        "import seaborn as sns"
      ]
    },
    {
      "cell_type": "code",
      "execution_count": 68,
      "metadata": {
        "id": "c2DVbCX2yEdN"
      },
      "outputs": [
        {
          "data": {
            "text/html": [
              "<div>\n",
              "<style scoped>\n",
              "    .dataframe tbody tr th:only-of-type {\n",
              "        vertical-align: middle;\n",
              "    }\n",
              "\n",
              "    .dataframe tbody tr th {\n",
              "        vertical-align: top;\n",
              "    }\n",
              "\n",
              "    .dataframe thead th {\n",
              "        text-align: right;\n",
              "    }\n",
              "</style>\n",
              "<table border=\"1\" class=\"dataframe\">\n",
              "  <thead>\n",
              "    <tr style=\"text-align: right;\">\n",
              "      <th></th>\n",
              "      <th>RowNumber</th>\n",
              "      <th>CustomerId</th>\n",
              "      <th>Surname</th>\n",
              "      <th>CreditScore</th>\n",
              "      <th>Geography</th>\n",
              "      <th>Gender</th>\n",
              "      <th>Age</th>\n",
              "      <th>Tenure</th>\n",
              "      <th>Balance</th>\n",
              "      <th>NumOfProducts</th>\n",
              "      <th>HasCrCard</th>\n",
              "      <th>IsActiveMember</th>\n",
              "      <th>EstimatedSalary</th>\n",
              "      <th>Exited</th>\n",
              "    </tr>\n",
              "  </thead>\n",
              "  <tbody>\n",
              "    <tr>\n",
              "      <th>0</th>\n",
              "      <td>1</td>\n",
              "      <td>15634602</td>\n",
              "      <td>Hargrave</td>\n",
              "      <td>619</td>\n",
              "      <td>France</td>\n",
              "      <td>Female</td>\n",
              "      <td>42</td>\n",
              "      <td>2</td>\n",
              "      <td>0.00</td>\n",
              "      <td>1</td>\n",
              "      <td>1</td>\n",
              "      <td>1</td>\n",
              "      <td>101348.88</td>\n",
              "      <td>1</td>\n",
              "    </tr>\n",
              "    <tr>\n",
              "      <th>1</th>\n",
              "      <td>2</td>\n",
              "      <td>15647311</td>\n",
              "      <td>Hill</td>\n",
              "      <td>608</td>\n",
              "      <td>Spain</td>\n",
              "      <td>Female</td>\n",
              "      <td>41</td>\n",
              "      <td>1</td>\n",
              "      <td>83807.86</td>\n",
              "      <td>1</td>\n",
              "      <td>0</td>\n",
              "      <td>1</td>\n",
              "      <td>112542.58</td>\n",
              "      <td>0</td>\n",
              "    </tr>\n",
              "    <tr>\n",
              "      <th>2</th>\n",
              "      <td>3</td>\n",
              "      <td>15619304</td>\n",
              "      <td>Onio</td>\n",
              "      <td>502</td>\n",
              "      <td>France</td>\n",
              "      <td>Female</td>\n",
              "      <td>42</td>\n",
              "      <td>8</td>\n",
              "      <td>159660.80</td>\n",
              "      <td>3</td>\n",
              "      <td>1</td>\n",
              "      <td>0</td>\n",
              "      <td>113931.57</td>\n",
              "      <td>1</td>\n",
              "    </tr>\n",
              "    <tr>\n",
              "      <th>3</th>\n",
              "      <td>4</td>\n",
              "      <td>15701354</td>\n",
              "      <td>Boni</td>\n",
              "      <td>699</td>\n",
              "      <td>France</td>\n",
              "      <td>Female</td>\n",
              "      <td>39</td>\n",
              "      <td>1</td>\n",
              "      <td>0.00</td>\n",
              "      <td>2</td>\n",
              "      <td>0</td>\n",
              "      <td>0</td>\n",
              "      <td>93826.63</td>\n",
              "      <td>0</td>\n",
              "    </tr>\n",
              "    <tr>\n",
              "      <th>4</th>\n",
              "      <td>5</td>\n",
              "      <td>15737888</td>\n",
              "      <td>Mitchell</td>\n",
              "      <td>850</td>\n",
              "      <td>Spain</td>\n",
              "      <td>Female</td>\n",
              "      <td>43</td>\n",
              "      <td>2</td>\n",
              "      <td>125510.82</td>\n",
              "      <td>1</td>\n",
              "      <td>1</td>\n",
              "      <td>1</td>\n",
              "      <td>79084.10</td>\n",
              "      <td>0</td>\n",
              "    </tr>\n",
              "  </tbody>\n",
              "</table>\n",
              "</div>"
            ],
            "text/plain": [
              "   RowNumber  CustomerId   Surname  CreditScore Geography  Gender  Age  \\\n",
              "0          1    15634602  Hargrave          619    France  Female   42   \n",
              "1          2    15647311      Hill          608     Spain  Female   41   \n",
              "2          3    15619304      Onio          502    France  Female   42   \n",
              "3          4    15701354      Boni          699    France  Female   39   \n",
              "4          5    15737888  Mitchell          850     Spain  Female   43   \n",
              "\n",
              "   Tenure    Balance  NumOfProducts  HasCrCard  IsActiveMember  \\\n",
              "0       2       0.00              1          1               1   \n",
              "1       1   83807.86              1          0               1   \n",
              "2       8  159660.80              3          1               0   \n",
              "3       1       0.00              2          0               0   \n",
              "4       2  125510.82              1          1               1   \n",
              "\n",
              "   EstimatedSalary  Exited  \n",
              "0        101348.88       1  \n",
              "1        112542.58       0  \n",
              "2        113931.57       1  \n",
              "3         93826.63       0  \n",
              "4         79084.10       0  "
            ]
          },
          "execution_count": 68,
          "metadata": {},
          "output_type": "execute_result"
        }
      ],
      "source": [
        "df = pd.read_csv(\"datasets/churn_modelling.csv\")\n",
        "df.head()"
      ]
    },
    {
      "cell_type": "code",
      "execution_count": 69,
      "metadata": {},
      "outputs": [
        {
          "data": {
            "text/plain": [
              "(10000, 14)"
            ]
          },
          "execution_count": 69,
          "metadata": {},
          "output_type": "execute_result"
        }
      ],
      "source": [
        "df.shape"
      ]
    },
    {
      "cell_type": "code",
      "execution_count": 70,
      "metadata": {},
      "outputs": [
        {
          "name": "stdout",
          "output_type": "stream",
          "text": [
            "<class 'pandas.core.frame.DataFrame'>\n",
            "RangeIndex: 10000 entries, 0 to 9999\n",
            "Data columns (total 14 columns):\n",
            " #   Column           Non-Null Count  Dtype  \n",
            "---  ------           --------------  -----  \n",
            " 0   RowNumber        10000 non-null  int64  \n",
            " 1   CustomerId       10000 non-null  int64  \n",
            " 2   Surname          10000 non-null  object \n",
            " 3   CreditScore      10000 non-null  int64  \n",
            " 4   Geography        10000 non-null  object \n",
            " 5   Gender           10000 non-null  object \n",
            " 6   Age              10000 non-null  int64  \n",
            " 7   Tenure           10000 non-null  int64  \n",
            " 8   Balance          10000 non-null  float64\n",
            " 9   NumOfProducts    10000 non-null  int64  \n",
            " 10  HasCrCard        10000 non-null  int64  \n",
            " 11  IsActiveMember   10000 non-null  int64  \n",
            " 12  EstimatedSalary  10000 non-null  float64\n",
            " 13  Exited           10000 non-null  int64  \n",
            "dtypes: float64(2), int64(9), object(3)\n",
            "memory usage: 1.1+ MB\n"
          ]
        }
      ],
      "source": [
        "df.info()"
      ]
    },
    {
      "cell_type": "code",
      "execution_count": 71,
      "metadata": {
        "colab": {
          "base_uri": "https://localhost:8080/",
          "height": 1000
        },
        "id": "BHAB-nFlyQFs",
        "outputId": "a1edd0d6-02c0-4bab-90d2-658ad3b7a74d"
      },
      "outputs": [
        {
          "data": {
            "text/html": [
              "<div>\n",
              "<style scoped>\n",
              "    .dataframe tbody tr th:only-of-type {\n",
              "        vertical-align: middle;\n",
              "    }\n",
              "\n",
              "    .dataframe tbody tr th {\n",
              "        vertical-align: top;\n",
              "    }\n",
              "\n",
              "    .dataframe thead th {\n",
              "        text-align: right;\n",
              "    }\n",
              "</style>\n",
              "<table border=\"1\" class=\"dataframe\">\n",
              "  <thead>\n",
              "    <tr style=\"text-align: right;\">\n",
              "      <th></th>\n",
              "      <th>RowNumber</th>\n",
              "      <th>CustomerId</th>\n",
              "      <th>CreditScore</th>\n",
              "      <th>Age</th>\n",
              "      <th>Tenure</th>\n",
              "      <th>Balance</th>\n",
              "      <th>NumOfProducts</th>\n",
              "      <th>HasCrCard</th>\n",
              "      <th>IsActiveMember</th>\n",
              "      <th>EstimatedSalary</th>\n",
              "      <th>Exited</th>\n",
              "    </tr>\n",
              "  </thead>\n",
              "  <tbody>\n",
              "    <tr>\n",
              "      <th>count</th>\n",
              "      <td>10000.00000</td>\n",
              "      <td>1.000000e+04</td>\n",
              "      <td>10000.000000</td>\n",
              "      <td>10000.000000</td>\n",
              "      <td>10000.000000</td>\n",
              "      <td>10000.000000</td>\n",
              "      <td>10000.000000</td>\n",
              "      <td>10000.00000</td>\n",
              "      <td>10000.000000</td>\n",
              "      <td>10000.000000</td>\n",
              "      <td>10000.000000</td>\n",
              "    </tr>\n",
              "    <tr>\n",
              "      <th>mean</th>\n",
              "      <td>5000.50000</td>\n",
              "      <td>1.569094e+07</td>\n",
              "      <td>650.528800</td>\n",
              "      <td>38.921800</td>\n",
              "      <td>5.012800</td>\n",
              "      <td>76485.889288</td>\n",
              "      <td>1.530200</td>\n",
              "      <td>0.70550</td>\n",
              "      <td>0.515100</td>\n",
              "      <td>100090.239881</td>\n",
              "      <td>0.203700</td>\n",
              "    </tr>\n",
              "    <tr>\n",
              "      <th>std</th>\n",
              "      <td>2886.89568</td>\n",
              "      <td>7.193619e+04</td>\n",
              "      <td>96.653299</td>\n",
              "      <td>10.487806</td>\n",
              "      <td>2.892174</td>\n",
              "      <td>62397.405202</td>\n",
              "      <td>0.581654</td>\n",
              "      <td>0.45584</td>\n",
              "      <td>0.499797</td>\n",
              "      <td>57510.492818</td>\n",
              "      <td>0.402769</td>\n",
              "    </tr>\n",
              "    <tr>\n",
              "      <th>min</th>\n",
              "      <td>1.00000</td>\n",
              "      <td>1.556570e+07</td>\n",
              "      <td>350.000000</td>\n",
              "      <td>18.000000</td>\n",
              "      <td>0.000000</td>\n",
              "      <td>0.000000</td>\n",
              "      <td>1.000000</td>\n",
              "      <td>0.00000</td>\n",
              "      <td>0.000000</td>\n",
              "      <td>11.580000</td>\n",
              "      <td>0.000000</td>\n",
              "    </tr>\n",
              "    <tr>\n",
              "      <th>25%</th>\n",
              "      <td>2500.75000</td>\n",
              "      <td>1.562853e+07</td>\n",
              "      <td>584.000000</td>\n",
              "      <td>32.000000</td>\n",
              "      <td>3.000000</td>\n",
              "      <td>0.000000</td>\n",
              "      <td>1.000000</td>\n",
              "      <td>0.00000</td>\n",
              "      <td>0.000000</td>\n",
              "      <td>51002.110000</td>\n",
              "      <td>0.000000</td>\n",
              "    </tr>\n",
              "    <tr>\n",
              "      <th>50%</th>\n",
              "      <td>5000.50000</td>\n",
              "      <td>1.569074e+07</td>\n",
              "      <td>652.000000</td>\n",
              "      <td>37.000000</td>\n",
              "      <td>5.000000</td>\n",
              "      <td>97198.540000</td>\n",
              "      <td>1.000000</td>\n",
              "      <td>1.00000</td>\n",
              "      <td>1.000000</td>\n",
              "      <td>100193.915000</td>\n",
              "      <td>0.000000</td>\n",
              "    </tr>\n",
              "    <tr>\n",
              "      <th>75%</th>\n",
              "      <td>7500.25000</td>\n",
              "      <td>1.575323e+07</td>\n",
              "      <td>718.000000</td>\n",
              "      <td>44.000000</td>\n",
              "      <td>7.000000</td>\n",
              "      <td>127644.240000</td>\n",
              "      <td>2.000000</td>\n",
              "      <td>1.00000</td>\n",
              "      <td>1.000000</td>\n",
              "      <td>149388.247500</td>\n",
              "      <td>0.000000</td>\n",
              "    </tr>\n",
              "    <tr>\n",
              "      <th>max</th>\n",
              "      <td>10000.00000</td>\n",
              "      <td>1.581569e+07</td>\n",
              "      <td>850.000000</td>\n",
              "      <td>92.000000</td>\n",
              "      <td>10.000000</td>\n",
              "      <td>250898.090000</td>\n",
              "      <td>4.000000</td>\n",
              "      <td>1.00000</td>\n",
              "      <td>1.000000</td>\n",
              "      <td>199992.480000</td>\n",
              "      <td>1.000000</td>\n",
              "    </tr>\n",
              "  </tbody>\n",
              "</table>\n",
              "</div>"
            ],
            "text/plain": [
              "         RowNumber    CustomerId   CreditScore           Age        Tenure  \\\n",
              "count  10000.00000  1.000000e+04  10000.000000  10000.000000  10000.000000   \n",
              "mean    5000.50000  1.569094e+07    650.528800     38.921800      5.012800   \n",
              "std     2886.89568  7.193619e+04     96.653299     10.487806      2.892174   \n",
              "min        1.00000  1.556570e+07    350.000000     18.000000      0.000000   \n",
              "25%     2500.75000  1.562853e+07    584.000000     32.000000      3.000000   \n",
              "50%     5000.50000  1.569074e+07    652.000000     37.000000      5.000000   \n",
              "75%     7500.25000  1.575323e+07    718.000000     44.000000      7.000000   \n",
              "max    10000.00000  1.581569e+07    850.000000     92.000000     10.000000   \n",
              "\n",
              "             Balance  NumOfProducts    HasCrCard  IsActiveMember  \\\n",
              "count   10000.000000   10000.000000  10000.00000    10000.000000   \n",
              "mean    76485.889288       1.530200      0.70550        0.515100   \n",
              "std     62397.405202       0.581654      0.45584        0.499797   \n",
              "min         0.000000       1.000000      0.00000        0.000000   \n",
              "25%         0.000000       1.000000      0.00000        0.000000   \n",
              "50%     97198.540000       1.000000      1.00000        1.000000   \n",
              "75%    127644.240000       2.000000      1.00000        1.000000   \n",
              "max    250898.090000       4.000000      1.00000        1.000000   \n",
              "\n",
              "       EstimatedSalary        Exited  \n",
              "count     10000.000000  10000.000000  \n",
              "mean     100090.239881      0.203700  \n",
              "std       57510.492818      0.402769  \n",
              "min          11.580000      0.000000  \n",
              "25%       51002.110000      0.000000  \n",
              "50%      100193.915000      0.000000  \n",
              "75%      149388.247500      0.000000  \n",
              "max      199992.480000      1.000000  "
            ]
          },
          "execution_count": 71,
          "metadata": {},
          "output_type": "execute_result"
        }
      ],
      "source": [
        "df.describe()"
      ]
    },
    {
      "cell_type": "code",
      "execution_count": 72,
      "metadata": {
        "colab": {
          "base_uri": "https://localhost:8080/"
        },
        "id": "clWLUEeUZzZP",
        "outputId": "460680e9-85f7-4271-9680-932991bfb9d9"
      },
      "outputs": [
        {
          "data": {
            "text/plain": [
              "0    7963\n",
              "1    2037\n",
              "Name: Exited, dtype: int64"
            ]
          },
          "execution_count": 72,
          "metadata": {},
          "output_type": "execute_result"
        }
      ],
      "source": [
        "df[\"Exited\"].value_counts()"
      ]
    },
    {
      "cell_type": "code",
      "execution_count": 73,
      "metadata": {
        "colab": {
          "base_uri": "https://localhost:8080/"
        },
        "id": "w_L8o3QQbOnj",
        "outputId": "4604a4d2-5c79-4bb4-ffce-9c0fc9af864c"
      },
      "outputs": [
        {
          "data": {
            "text/plain": [
              "1    5084\n",
              "2    4590\n",
              "3     266\n",
              "4      60\n",
              "Name: NumOfProducts, dtype: int64"
            ]
          },
          "execution_count": 73,
          "metadata": {},
          "output_type": "execute_result"
        }
      ],
      "source": [
        "df[\"NumOfProducts\"].value_counts()"
      ]
    },
    {
      "cell_type": "code",
      "execution_count": 74,
      "metadata": {
        "colab": {
          "base_uri": "https://localhost:8080/"
        },
        "id": "4xAW40GPdJRq",
        "outputId": "45facd61-818c-4d92-91ce-20a0dc0992bf"
      },
      "outputs": [
        {
          "data": {
            "text/plain": [
              "France     5014\n",
              "Germany    2509\n",
              "Spain      2477\n",
              "Name: Geography, dtype: int64"
            ]
          },
          "execution_count": 74,
          "metadata": {},
          "output_type": "execute_result"
        }
      ],
      "source": [
        "df[\"Geography\"].value_counts()"
      ]
    },
    {
      "cell_type": "code",
      "execution_count": 75,
      "metadata": {
        "colab": {
          "base_uri": "https://localhost:8080/"
        },
        "id": "PFUkJCvCdNmR",
        "outputId": "3c9e6357-9234-4694-a87b-23a240e78a84"
      },
      "outputs": [
        {
          "data": {
            "text/plain": [
              "Male      5457\n",
              "Female    4543\n",
              "Name: Gender, dtype: int64"
            ]
          },
          "execution_count": 75,
          "metadata": {},
          "output_type": "execute_result"
        }
      ],
      "source": [
        "df[\"Gender\"].value_counts()"
      ]
    },
    {
      "cell_type": "markdown",
      "metadata": {
        "id": "LMTcVeqgadEm"
      },
      "source": [
        "Questions / Observations: \n",
        "1. Why a large % of people exited but still have balance in their account?\n",
        "2. What does IsActiveMember mean? Some active members have exited the bank and have 0 balance in their account!\n",
        "3. Understanding which products customers bought rather than product count could improve the model performance.\n",
        "4. Balance is measured at a particular point in time. The final balance in the accounts is influenced by whether a customer churned or not, thus it is likely to introduce target leakage in the data. The transaction volume rather than the balance could be a better indicator.  "
      ]
    },
    {
      "cell_type": "markdown",
      "metadata": {
        "id": "HQby0PqYj7mF"
      },
      "source": [
        "# 3. Exploratory Data Analysis"
      ]
    },
    {
      "cell_type": "code",
      "execution_count": 76,
      "metadata": {
        "colab": {
          "base_uri": "https://localhost:8080/",
          "height": 378
        },
        "id": "CBPSz8xtdYSb",
        "outputId": "93b76096-c499-44a0-aa71-393c27198911"
      },
      "outputs": [
        {
          "data": {
            "image/png": "[encoded data removed]",
            "text/plain": [
              "<Figure size 360x360 with 1 Axes>"
            ]
          },
          "metadata": {},
          "output_type": "display_data"
        }
      ],
      "source": [
        "labels = 'Retained', 'Churned'\n",
        "sizes = [df[\"Exited\"][df['Exited']==0].count(), df[\"Exited\"][df['Exited']==1].count()]\n",
        "explode = (0.1, 0)\n",
        "fig, ax = plt.subplots(figsize=(5, 5))\n",
        "ax.pie(sizes, labels=labels, explode=explode,  autopct='%.1f%%')\n",
        "plt.title(\"Proportion of customers churned and retained\", size = 16)\n",
        "plt.show()"
      ]
    },
    {
      "cell_type": "markdown",
      "metadata": {
        "id": "EtdA5tKXl0Xs"
      },
      "source": [
        "- Apromimately 20% of the customers have churned. Baseline accuracy is 80%. \n",
        "- As retaining a customer is many times cheaper than acquiring a new one, we want to prioritize recall over precision."
      ]
    },
    {
      "cell_type": "code",
      "execution_count": 77,
      "metadata": {
        "id": "_K351y9ugEyg"
      },
      "outputs": [
        {
          "data": {
            "image/png": "[encoded data removed]",
            "text/plain": [
              "<Figure size 864x576 with 4 Axes>"
            ]
          },
          "metadata": {
            "needs_background": "light"
          },
          "output_type": "display_data"
        }
      ],
      "source": [
        "# Reviw ouput's relationship with the categorical variables\n",
        "fig, ax = plt.subplots(2, 2, figsize=(12, 8))\n",
        "sns.countplot(x=\"HasCrCard\", hue=\"Exited\", data=df, ax = ax[0, 0])\n",
        "sns.countplot(x=\"Gender\", hue=\"Exited\", data=df, ax = ax[0, 1])\n",
        "sns.countplot(x=\"IsActiveMember\", hue=\"Exited\", data=df, ax = ax[1, 0])\n",
        "sns.countplot(x=\"Geography\", hue=\"Exited\", data=df, ax = ax[1, 1])\n",
        "plt.margins(0.3)\n",
        "plt.show()"
      ]
    },
    {
      "cell_type": "markdown",
      "metadata": {},
      "source": [
        "Observations:\n",
        "\n",
        "- The proportion of female churners is greater than that of males.\n",
        "- Active members churn less, unsurprisingly. There is a large proportion of inactive users\n",
        "- Majority of the data is from persons from France. Highest proportion of churners from Germany.\n"
      ]
    },
    {
      "cell_type": "code",
      "execution_count": 78,
      "metadata": {},
      "outputs": [
        {
          "data": {
            "image/png": "[encoded data removed]",
            "text/plain": [
              "<Figure size 1080x720 with 6 Axes>"
            ]
          },
          "metadata": {
            "needs_background": "light"
          },
          "output_type": "display_data"
        }
      ],
      "source": [
        "# Review output's relationship with numerical variables\n",
        "fig, ax = plt.subplots(3, 2, figsize = (15, 10))\n",
        "sns.boxplot(y='CreditScore', x = 'Exited', hue = 'Exited', data = df, ax = ax[0][0])\n",
        "sns.boxplot(y='Age', x = 'Exited', hue = 'Exited', data = df , ax = ax[0][1])\n",
        "sns.boxplot(y='Tenure', x = 'Exited', hue = 'Exited', data = df, ax = ax[1][0])\n",
        "sns.boxplot(y='Balance', x = 'Exited', hue = 'Exited', data = df, ax = ax[1][1])\n",
        "sns.boxplot(y='NumOfProducts', x = 'Exited', hue = 'Exited', data = df, ax = ax[2][0])\n",
        "sns.boxplot(y='EstimatedSalary', x = 'Exited', hue = 'Exited', data = df, ax = ax[2][1])\n",
        "plt.show()"
      ]
    },
    {
      "cell_type": "markdown",
      "metadata": {},
      "source": [
        "Observations:\n",
        "\n",
        "- Customers with very low credit score are more likely to churn, but otherwise, the distribution looks very similar. \n",
        "- Older customers churn more. The bank may need to review the strategy for retention between the different age groups.\n",
        "- Customers with extreme values for tenure (less than 1 year or more than 10 years) are more likely to churn compared to those in between. \n",
        "- Customers with higher balances churn more, worringly.\n",
        "- Neither the number of products nor salary have a significant effect on the likelihood to churn."
      ]
    },
    {
      "cell_type": "code",
      "execution_count": 79,
      "metadata": {},
      "outputs": [
        {
          "data": {
            "image/png": "[encoded data removed]",
            "text/plain": [
              "<Figure size 1080x720 with 6 Axes>"
            ]
          },
          "metadata": {
            "needs_background": "light"
          },
          "output_type": "display_data"
        }
      ],
      "source": [
        "# Review distributions of numerical variables\n",
        "fig, ax = plt.subplots(3, 2, figsize = (15, 10))\n",
        "ax[0][0].hist('CreditScore', data = df, density=True)\n",
        "ax[0][0].set_ylabel(\"Proportion\")\n",
        "ax[0][0].set_xlabel(\"Credit Score\")\n",
        "ax[0][1].hist('Age', data = df, density=True)\n",
        "ax[0][1].set_ylabel(\"Proportion\")\n",
        "ax[0][1].set_xlabel(\"Age\")\n",
        "ax[1][0].hist('Tenure', data = df, density=True)\n",
        "ax[1][0].set_ylabel(\"Proportion\")\n",
        "ax[1][0].set_xlabel(\"Tenure\")\n",
        "ax[1][1].hist('Balance', data = df, density=True)\n",
        "ax[1][1].set_ylabel(\"Proportion\")\n",
        "ax[1][1].set_xlabel(\"Balance\")\n",
        "ax[2][0].hist('NumOfProducts', data = df, density=True)\n",
        "ax[2][0].set_ylabel(\"Proportion\")\n",
        "ax[2][0].set_xlabel(\"NumOfProducts\")\n",
        "ax[2][1].hist('EstimatedSalary', data = df, density=True)\n",
        "ax[2][1].set_ylabel(\"Proportion\")\n",
        "ax[2][1].set_xlabel(\"EstimatedSalary\")\n",
        "plt.show()"
      ]
    },
    {
      "cell_type": "markdown",
      "metadata": {},
      "source": [
        "# 4. Feature Engineering"
      ]
    },
    {
      "cell_type": "code",
      "execution_count": 80,
      "metadata": {},
      "outputs": [],
      "source": [
        "from sklearn.model_selection import train_test_split\n",
        "y = df.Exited\n",
        "X = df.drop(columns=[\"Exited\"])\n",
        "X_train, X_test, y_train, y_test = train_test_split(X, y, test_size = 0.2, random_state=42, stratify=y)"
      ]
    },
    {
      "cell_type": "markdown",
      "metadata": {},
      "source": [
        "Note: the test set is there solely for performance assessment of your model, and it should not be used in any stage of model building, including feature selection. Thus, we perform the train-test split before manipulating the dataset in any way."
      ]
    },
    {
      "cell_type": "code",
      "execution_count": 81,
      "metadata": {},
      "outputs": [
        {
          "name": "stderr",
          "output_type": "stream",
          "text": [
            "<ipython-input-81-615a3b2a6794>:1: SettingWithCopyWarning: \n",
            "A value is trying to be set on a copy of a slice from a DataFrame.\n",
            "Try using .loc[row_indexer,col_indexer] = value instead\n",
            "\n",
            "See the caveats in the documentation: https://pandas.pydata.org/pandas-docs/stable/user_guide/indexing.html#returning-a-view-versus-a-copy\n",
            "  X_train[\"BalanceSalaryRatio\"] = X_train.Balance/X_train.EstimatedSalary\n",
            "<ipython-input-81-615a3b2a6794>:2: SettingWithCopyWarning: \n",
            "A value is trying to be set on a copy of a slice from a DataFrame.\n",
            "Try using .loc[row_indexer,col_indexer] = value instead\n",
            "\n",
            "See the caveats in the documentation: https://pandas.pydata.org/pandas-docs/stable/user_guide/indexing.html#returning-a-view-versus-a-copy\n",
            "  X_train[\"TenureAgeRatio\"] = X_train.Tenure/X_train.Age\n"
          ]
        },
        {
          "data": {
            "image/png": "[encoded data removed]",
            "text/plain": [
              "<Figure size 1080x216 with 2 Axes>"
            ]
          },
          "metadata": {
            "needs_background": "light"
          },
          "output_type": "display_data"
        }
      ],
      "source": [
        "X_train[\"BalanceSalaryRatio\"] = X_train.Balance/X_train.EstimatedSalary\n",
        "X_train[\"TenureAgeRatio\"] = X_train.Tenure/X_train.Age\n",
        "\n",
        "fig, ax = plt.subplots(1, 2, figsize = (15, 3), squeeze=False)\n",
        "sns.boxplot(y = X_train['BalanceSalaryRatio'], x = y_train, hue = y_train, ax = ax[0][0])\n",
        "ax[0][0].set_ylim(0, 5)\n",
        "sns.boxplot(y = X_train['TenureAgeRatio'], x = y_train, hue = y_train, ax = ax[0][1])\n",
        "plt.show()"
      ]
    },
    {
      "cell_type": "markdown",
      "metadata": {},
      "source": [
        "# 5. Data Prep for Model Fitting"
      ]
    },
    {
      "cell_type": "code",
      "execution_count": 82,
      "metadata": {},
      "outputs": [
        {
          "data": {
            "text/html": [
              "<div>\n",
              "<style scoped>\n",
              "    .dataframe tbody tr th:only-of-type {\n",
              "        vertical-align: middle;\n",
              "    }\n",
              "\n",
              "    .dataframe tbody tr th {\n",
              "        vertical-align: top;\n",
              "    }\n",
              "\n",
              "    .dataframe thead th {\n",
              "        text-align: right;\n",
              "    }\n",
              "</style>\n",
              "<table border=\"1\" class=\"dataframe\">\n",
              "  <thead>\n",
              "    <tr style=\"text-align: right;\">\n",
              "      <th></th>\n",
              "      <th>CreditScore</th>\n",
              "      <th>Age</th>\n",
              "      <th>Tenure</th>\n",
              "      <th>Balance</th>\n",
              "      <th>NumOfProducts</th>\n",
              "      <th>EstimatedSalary</th>\n",
              "      <th>BalanceSalaryRatio</th>\n",
              "      <th>TenureAgeRatio</th>\n",
              "      <th>HasCrCard</th>\n",
              "      <th>IsActiveMember</th>\n",
              "      <th>Geography</th>\n",
              "      <th>Gender</th>\n",
              "    </tr>\n",
              "  </thead>\n",
              "  <tbody>\n",
              "    <tr>\n",
              "      <th>2151</th>\n",
              "      <td>753</td>\n",
              "      <td>57</td>\n",
              "      <td>7</td>\n",
              "      <td>0.00</td>\n",
              "      <td>1</td>\n",
              "      <td>159475.08</td>\n",
              "      <td>0.000000</td>\n",
              "      <td>0.122807</td>\n",
              "      <td>1</td>\n",
              "      <td>0</td>\n",
              "      <td>France</td>\n",
              "      <td>Male</td>\n",
              "    </tr>\n",
              "    <tr>\n",
              "      <th>8392</th>\n",
              "      <td>739</td>\n",
              "      <td>32</td>\n",
              "      <td>3</td>\n",
              "      <td>102128.27</td>\n",
              "      <td>1</td>\n",
              "      <td>63981.37</td>\n",
              "      <td>1.596219</td>\n",
              "      <td>0.093750</td>\n",
              "      <td>1</td>\n",
              "      <td>0</td>\n",
              "      <td>Germany</td>\n",
              "      <td>Male</td>\n",
              "    </tr>\n",
              "    <tr>\n",
              "      <th>5006</th>\n",
              "      <td>755</td>\n",
              "      <td>37</td>\n",
              "      <td>0</td>\n",
              "      <td>113865.23</td>\n",
              "      <td>2</td>\n",
              "      <td>117396.25</td>\n",
              "      <td>0.969922</td>\n",
              "      <td>0.000000</td>\n",
              "      <td>1</td>\n",
              "      <td>1</td>\n",
              "      <td>Germany</td>\n",
              "      <td>Female</td>\n",
              "    </tr>\n",
              "    <tr>\n",
              "      <th>4117</th>\n",
              "      <td>561</td>\n",
              "      <td>37</td>\n",
              "      <td>5</td>\n",
              "      <td>0.00</td>\n",
              "      <td>2</td>\n",
              "      <td>83093.25</td>\n",
              "      <td>0.000000</td>\n",
              "      <td>0.135135</td>\n",
              "      <td>1</td>\n",
              "      <td>0</td>\n",
              "      <td>France</td>\n",
              "      <td>Male</td>\n",
              "    </tr>\n",
              "    <tr>\n",
              "      <th>7182</th>\n",
              "      <td>692</td>\n",
              "      <td>49</td>\n",
              "      <td>6</td>\n",
              "      <td>110540.43</td>\n",
              "      <td>2</td>\n",
              "      <td>107472.99</td>\n",
              "      <td>1.028541</td>\n",
              "      <td>0.122449</td>\n",
              "      <td>0</td>\n",
              "      <td>1</td>\n",
              "      <td>Germany</td>\n",
              "      <td>Male</td>\n",
              "    </tr>\n",
              "  </tbody>\n",
              "</table>\n",
              "</div>"
            ],
            "text/plain": [
              "      CreditScore  Age  Tenure    Balance  NumOfProducts  EstimatedSalary  \\\n",
              "2151          753   57       7       0.00              1        159475.08   \n",
              "8392          739   32       3  102128.27              1         63981.37   \n",
              "5006          755   37       0  113865.23              2        117396.25   \n",
              "4117          561   37       5       0.00              2         83093.25   \n",
              "7182          692   49       6  110540.43              2        107472.99   \n",
              "\n",
              "      BalanceSalaryRatio  TenureAgeRatio  HasCrCard  IsActiveMember Geography  \\\n",
              "2151            0.000000        0.122807          1               0    France   \n",
              "8392            1.596219        0.093750          1               0   Germany   \n",
              "5006            0.969922        0.000000          1               1   Germany   \n",
              "4117            0.000000        0.135135          1               0    France   \n",
              "7182            1.028541        0.122449          0               1   Germany   \n",
              "\n",
              "      Gender  \n",
              "2151    Male  \n",
              "8392    Male  \n",
              "5006  Female  \n",
              "4117    Male  \n",
              "7182    Male  "
            ]
          },
          "execution_count": 82,
          "metadata": {},
          "output_type": "execute_result"
        }
      ],
      "source": [
        "# Arrange columns by data type for easier manipulation\n",
        "num_vars = ['CreditScore',  'Age', 'Tenure', 'Balance','NumOfProducts', 'EstimatedSalary', 'BalanceSalaryRatio',\n",
        "                   'TenureAgeRatio']\n",
        "cat_vars = ['HasCrCard', 'IsActiveMember','Geography', 'Gender']\n",
        "X_train = X_train[num_vars + cat_vars]\n",
        "X_train.head()"
      ]
    },
    {
      "cell_type": "code",
      "execution_count": 83,
      "metadata": {},
      "outputs": [
        {
          "data": {
            "text/html": [
              "<div>\n",
              "<style scoped>\n",
              "    .dataframe tbody tr th:only-of-type {\n",
              "        vertical-align: middle;\n",
              "    }\n",
              "\n",
              "    .dataframe tbody tr th {\n",
              "        vertical-align: top;\n",
              "    }\n",
              "\n",
              "    .dataframe thead th {\n",
              "        text-align: right;\n",
              "    }\n",
              "</style>\n",
              "<table border=\"1\" class=\"dataframe\">\n",
              "  <thead>\n",
              "    <tr style=\"text-align: right;\">\n",
              "      <th></th>\n",
              "      <th>CreditScore</th>\n",
              "      <th>Age</th>\n",
              "      <th>Tenure</th>\n",
              "      <th>Balance</th>\n",
              "      <th>NumOfProducts</th>\n",
              "      <th>EstimatedSalary</th>\n",
              "      <th>BalanceSalaryRatio</th>\n",
              "      <th>TenureAgeRatio</th>\n",
              "      <th>HasCrCard</th>\n",
              "      <th>IsActiveMember</th>\n",
              "      <th>Geography</th>\n",
              "      <th>Gender</th>\n",
              "    </tr>\n",
              "  </thead>\n",
              "  <tbody>\n",
              "    <tr>\n",
              "      <th>2151</th>\n",
              "      <td>0.806</td>\n",
              "      <td>0.527027</td>\n",
              "      <td>0.7</td>\n",
              "      <td>0.000000</td>\n",
              "      <td>0.000000</td>\n",
              "      <td>0.797394</td>\n",
              "      <td>0.000000</td>\n",
              "      <td>0.221053</td>\n",
              "      <td>1</td>\n",
              "      <td>0</td>\n",
              "      <td>France</td>\n",
              "      <td>Male</td>\n",
              "    </tr>\n",
              "    <tr>\n",
              "      <th>8392</th>\n",
              "      <td>0.778</td>\n",
              "      <td>0.189189</td>\n",
              "      <td>0.3</td>\n",
              "      <td>0.428413</td>\n",
              "      <td>0.000000</td>\n",
              "      <td>0.319879</td>\n",
              "      <td>0.000150</td>\n",
              "      <td>0.168750</td>\n",
              "      <td>1</td>\n",
              "      <td>0</td>\n",
              "      <td>Germany</td>\n",
              "      <td>Male</td>\n",
              "    </tr>\n",
              "    <tr>\n",
              "      <th>5006</th>\n",
              "      <td>0.810</td>\n",
              "      <td>0.256757</td>\n",
              "      <td>0.0</td>\n",
              "      <td>0.477648</td>\n",
              "      <td>0.333333</td>\n",
              "      <td>0.586979</td>\n",
              "      <td>0.000091</td>\n",
              "      <td>0.000000</td>\n",
              "      <td>1</td>\n",
              "      <td>1</td>\n",
              "      <td>Germany</td>\n",
              "      <td>Female</td>\n",
              "    </tr>\n",
              "    <tr>\n",
              "      <th>4117</th>\n",
              "      <td>0.422</td>\n",
              "      <td>0.256757</td>\n",
              "      <td>0.5</td>\n",
              "      <td>0.000000</td>\n",
              "      <td>0.333333</td>\n",
              "      <td>0.415448</td>\n",
              "      <td>0.000000</td>\n",
              "      <td>0.243243</td>\n",
              "      <td>1</td>\n",
              "      <td>0</td>\n",
              "      <td>France</td>\n",
              "      <td>Male</td>\n",
              "    </tr>\n",
              "    <tr>\n",
              "      <th>7182</th>\n",
              "      <td>0.684</td>\n",
              "      <td>0.418919</td>\n",
              "      <td>0.6</td>\n",
              "      <td>0.463700</td>\n",
              "      <td>0.333333</td>\n",
              "      <td>0.537358</td>\n",
              "      <td>0.000097</td>\n",
              "      <td>0.220408</td>\n",
              "      <td>0</td>\n",
              "      <td>1</td>\n",
              "      <td>Germany</td>\n",
              "      <td>Male</td>\n",
              "    </tr>\n",
              "  </tbody>\n",
              "</table>\n",
              "</div>"
            ],
            "text/plain": [
              "      CreditScore       Age  Tenure   Balance  NumOfProducts  EstimatedSalary  \\\n",
              "2151        0.806  0.527027     0.7  0.000000       0.000000         0.797394   \n",
              "8392        0.778  0.189189     0.3  0.428413       0.000000         0.319879   \n",
              "5006        0.810  0.256757     0.0  0.477648       0.333333         0.586979   \n",
              "4117        0.422  0.256757     0.5  0.000000       0.333333         0.415448   \n",
              "7182        0.684  0.418919     0.6  0.463700       0.333333         0.537358   \n",
              "\n",
              "      BalanceSalaryRatio  TenureAgeRatio  HasCrCard  IsActiveMember Geography  \\\n",
              "2151            0.000000        0.221053          1               0    France   \n",
              "8392            0.000150        0.168750          1               0   Germany   \n",
              "5006            0.000091        0.000000          1               1   Germany   \n",
              "4117            0.000000        0.243243          1               0    France   \n",
              "7182            0.000097        0.220408          0               1   Germany   \n",
              "\n",
              "      Gender  \n",
              "2151    Male  \n",
              "8392    Male  \n",
              "5006  Female  \n",
              "4117    Male  \n",
              "7182    Male  "
            ]
          },
          "execution_count": 83,
          "metadata": {},
          "output_type": "execute_result"
        }
      ],
      "source": [
        "# minMax scaling the numerical variables\n",
        "from sklearn.preprocessing import MinMaxScaler\n",
        "scaler = MinMaxScaler(feature_range = (0,1))\n",
        "scaler.fit(X_train[num_vars])\n",
        "X_train[num_vars] = scaler.transform(X_train[num_vars])\n",
        "X_train.head()\n",
        "\n",
        "# Manually:\n",
        "\n",
        "#X_test = X_test[num_vars + cat_vars]\n",
        "#minVec = X_test[num_vars].min().copy()\n",
        "#maxVec = X_test[num_vars].max().copy()\n",
        "#X_test[num_vars] = (X_test[num_vars]-minVec)/(maxVec-minVec)"
      ]
    },
    {
      "cell_type": "code",
      "execution_count": 84,
      "metadata": {},
      "outputs": [
        {
          "data": {
            "text/html": [
              "<div>\n",
              "<style scoped>\n",
              "    .dataframe tbody tr th:only-of-type {\n",
              "        vertical-align: middle;\n",
              "    }\n",
              "\n",
              "    .dataframe tbody tr th {\n",
              "        vertical-align: top;\n",
              "    }\n",
              "\n",
              "    .dataframe thead th {\n",
              "        text-align: right;\n",
              "    }\n",
              "</style>\n",
              "<table border=\"1\" class=\"dataframe\">\n",
              "  <thead>\n",
              "    <tr style=\"text-align: right;\">\n",
              "      <th></th>\n",
              "      <th>CreditScore</th>\n",
              "      <th>Age</th>\n",
              "      <th>Tenure</th>\n",
              "      <th>Balance</th>\n",
              "      <th>NumOfProducts</th>\n",
              "      <th>EstimatedSalary</th>\n",
              "      <th>BalanceSalaryRatio</th>\n",
              "      <th>TenureAgeRatio</th>\n",
              "      <th>HasCrCard</th>\n",
              "      <th>IsActiveMember</th>\n",
              "      <th>Geography_France</th>\n",
              "      <th>Geography_Germany</th>\n",
              "      <th>Geography_Spain</th>\n",
              "      <th>Gender_Male</th>\n",
              "      <th>Gender_Female</th>\n",
              "    </tr>\n",
              "  </thead>\n",
              "  <tbody>\n",
              "    <tr>\n",
              "      <th>2151</th>\n",
              "      <td>0.806</td>\n",
              "      <td>0.527027</td>\n",
              "      <td>0.7</td>\n",
              "      <td>0.000000</td>\n",
              "      <td>0.000000</td>\n",
              "      <td>0.797394</td>\n",
              "      <td>0.000000</td>\n",
              "      <td>0.221053</td>\n",
              "      <td>1</td>\n",
              "      <td>0</td>\n",
              "      <td>1</td>\n",
              "      <td>0</td>\n",
              "      <td>0</td>\n",
              "      <td>1</td>\n",
              "      <td>0</td>\n",
              "    </tr>\n",
              "    <tr>\n",
              "      <th>8392</th>\n",
              "      <td>0.778</td>\n",
              "      <td>0.189189</td>\n",
              "      <td>0.3</td>\n",
              "      <td>0.428413</td>\n",
              "      <td>0.000000</td>\n",
              "      <td>0.319879</td>\n",
              "      <td>0.000150</td>\n",
              "      <td>0.168750</td>\n",
              "      <td>1</td>\n",
              "      <td>0</td>\n",
              "      <td>0</td>\n",
              "      <td>1</td>\n",
              "      <td>0</td>\n",
              "      <td>1</td>\n",
              "      <td>0</td>\n",
              "    </tr>\n",
              "    <tr>\n",
              "      <th>5006</th>\n",
              "      <td>0.810</td>\n",
              "      <td>0.256757</td>\n",
              "      <td>0.0</td>\n",
              "      <td>0.477648</td>\n",
              "      <td>0.333333</td>\n",
              "      <td>0.586979</td>\n",
              "      <td>0.000091</td>\n",
              "      <td>0.000000</td>\n",
              "      <td>1</td>\n",
              "      <td>1</td>\n",
              "      <td>0</td>\n",
              "      <td>1</td>\n",
              "      <td>0</td>\n",
              "      <td>0</td>\n",
              "      <td>1</td>\n",
              "    </tr>\n",
              "    <tr>\n",
              "      <th>4117</th>\n",
              "      <td>0.422</td>\n",
              "      <td>0.256757</td>\n",
              "      <td>0.5</td>\n",
              "      <td>0.000000</td>\n",
              "      <td>0.333333</td>\n",
              "      <td>0.415448</td>\n",
              "      <td>0.000000</td>\n",
              "      <td>0.243243</td>\n",
              "      <td>1</td>\n",
              "      <td>0</td>\n",
              "      <td>1</td>\n",
              "      <td>0</td>\n",
              "      <td>0</td>\n",
              "      <td>1</td>\n",
              "      <td>0</td>\n",
              "    </tr>\n",
              "    <tr>\n",
              "      <th>7182</th>\n",
              "      <td>0.684</td>\n",
              "      <td>0.418919</td>\n",
              "      <td>0.6</td>\n",
              "      <td>0.463700</td>\n",
              "      <td>0.333333</td>\n",
              "      <td>0.537358</td>\n",
              "      <td>0.000097</td>\n",
              "      <td>0.220408</td>\n",
              "      <td>0</td>\n",
              "      <td>1</td>\n",
              "      <td>0</td>\n",
              "      <td>1</td>\n",
              "      <td>0</td>\n",
              "      <td>1</td>\n",
              "      <td>0</td>\n",
              "    </tr>\n",
              "  </tbody>\n",
              "</table>\n",
              "</div>"
            ],
            "text/plain": [
              "      CreditScore       Age  Tenure   Balance  NumOfProducts  EstimatedSalary  \\\n",
              "2151        0.806  0.527027     0.7  0.000000       0.000000         0.797394   \n",
              "8392        0.778  0.189189     0.3  0.428413       0.000000         0.319879   \n",
              "5006        0.810  0.256757     0.0  0.477648       0.333333         0.586979   \n",
              "4117        0.422  0.256757     0.5  0.000000       0.333333         0.415448   \n",
              "7182        0.684  0.418919     0.6  0.463700       0.333333         0.537358   \n",
              "\n",
              "      BalanceSalaryRatio  TenureAgeRatio  HasCrCard  IsActiveMember  \\\n",
              "2151            0.000000        0.221053          1               0   \n",
              "8392            0.000150        0.168750          1               0   \n",
              "5006            0.000091        0.000000          1               1   \n",
              "4117            0.000000        0.243243          1               0   \n",
              "7182            0.000097        0.220408          0               1   \n",
              "\n",
              "      Geography_France  Geography_Germany  Geography_Spain  Gender_Male  \\\n",
              "2151                 1                  0                0            1   \n",
              "8392                 0                  1                0            1   \n",
              "5006                 0                  1                0            0   \n",
              "4117                 1                  0                0            1   \n",
              "7182                 0                  1                0            1   \n",
              "\n",
              "      Gender_Female  \n",
              "2151              0  \n",
              "8392              0  \n",
              "5006              1  \n",
              "4117              0  \n",
              "7182              0  "
            ]
          },
          "execution_count": 84,
          "metadata": {},
          "output_type": "execute_result"
        }
      ],
      "source": [
        "# One hot encode the categorical variables\n",
        "lst = ['Geography', 'Gender']\n",
        "remove = list()\n",
        "for i in lst:\n",
        "    if (X_train[i].dtype == str or X_train[i].dtype == object):\n",
        "        for j in X_train[i].unique():\n",
        "            X_train[i+'_'+j] = np.where(X_train[i] == j,1,0)\n",
        "        remove.append(i)\n",
        "X_train = X_train.drop(remove, axis=1)\n",
        "X_train.head()"
      ]
    },
    {
      "cell_type": "code",
      "execution_count": 85,
      "metadata": {},
      "outputs": [
        {
          "name": "stderr",
          "output_type": "stream",
          "text": [
            "<ipython-input-85-18d4962e917b>:2: SettingWithCopyWarning: \n",
            "A value is trying to be set on a copy of a slice from a DataFrame.\n",
            "Try using .loc[row_indexer,col_indexer] = value instead\n",
            "\n",
            "See the caveats in the documentation: https://pandas.pydata.org/pandas-docs/stable/user_guide/indexing.html#returning-a-view-versus-a-copy\n",
            "  X_test[\"BalanceSalaryRatio\"] = X_test.Balance/X_test.EstimatedSalary\n",
            "<ipython-input-85-18d4962e917b>:3: SettingWithCopyWarning: \n",
            "A value is trying to be set on a copy of a slice from a DataFrame.\n",
            "Try using .loc[row_indexer,col_indexer] = value instead\n",
            "\n",
            "See the caveats in the documentation: https://pandas.pydata.org/pandas-docs/stable/user_guide/indexing.html#returning-a-view-versus-a-copy\n",
            "  X_test[\"TenureAgeRatio\"] = X_test.Tenure/X_test.Age\n"
          ]
        }
      ],
      "source": [
        "# Data prep pipeline for test data\n",
        "X_test[\"BalanceSalaryRatio\"] = X_test.Balance/X_test.EstimatedSalary\n",
        "X_test[\"TenureAgeRatio\"] = X_test.Tenure/X_test.Age\n",
        "X_test = X_test[num_vars + cat_vars]\n",
        "X_test[num_vars] = scaler.transform(X_test[num_vars])\n",
        "lst = ['Geography', 'Gender']\n",
        "remove = list()\n",
        "for i in lst:\n",
        "    if (X_test[i].dtype == str or X_test[i].dtype == object):\n",
        "        for j in X_test[i].unique():\n",
        "            X_test[i+'_'+j] = np.where(X_test[i] == j,1,0)\n",
        "        remove.append(i)\n",
        "X_test = X_test.drop(remove, axis=1)"
      ]
    },
    {
      "cell_type": "markdown",
      "metadata": {},
      "source": [
        "# 6. Model Fitting and Selection"
      ]
    },
    {
      "cell_type": "markdown",
      "metadata": {},
      "source": [
        "For the model fitting, we will try out the following:\n",
        "\n",
        "- Logistic regression\n",
        "- LDA\n",
        "- SVM\n",
        "- Ensemble models"
      ]
    },
    {
      "cell_type": "code",
      "execution_count": 86,
      "metadata": {},
      "outputs": [],
      "source": [
        "# Support functions\n",
        "from sklearn.preprocessing import PolynomialFeatures\n",
        "from sklearn.model_selection import cross_val_score\n",
        "from sklearn.model_selection import GridSearchCV\n",
        "from scipy.stats import uniform\n",
        "\n",
        "# Fit models\n",
        "from sklearn.linear_model import LogisticRegression\n",
        "from sklearn.discriminant_analysis import LinearDiscriminantAnalysis\n",
        "from sklearn.svm import SVC\n",
        "from sklearn.ensemble import RandomForestClassifier\n",
        "\n",
        "# Scoring functions\n",
        "from sklearn.metrics import accuracy_score\n",
        "from sklearn.metrics import classification_report\n",
        "from sklearn.metrics import roc_auc_score\n",
        "from sklearn.metrics import roc_curve\n",
        "from sklearn.metrics import precision_recall_curve\n",
        "from sklearn.metrics import f1_score"
      ]
    },
    {
      "cell_type": "code",
      "execution_count": 87,
      "metadata": {},
      "outputs": [],
      "source": [
        "# Define a function to return the best model score and parameters\n",
        "def best_model(model):\n",
        "    print(model.best_params_)\n",
        "    print(model.best_estimator_)\n",
        "    print(\"Train Score: \", model.best_score_)\n",
        "    \n",
        "def get_auc_scores(y_actual, method, method2):\n",
        "    auc_score = roc_auc_score(y_actual, method); \n",
        "    fpr, tpr, _ = roc_curve(y_actual, method2); \n",
        "    return (auc_score, fpr, tpr)"
      ]
    },
    {
      "cell_type": "markdown",
      "metadata": {},
      "source": [
        "### Logistic Regression"
      ]
    },
    {
      "cell_type": "markdown",
      "metadata": {},
      "source": [
        "Logistic regression does not really have any critical hyperparameters to tune.\n",
        "\n",
        "- Sometimes, you can see useful differences in performance or convergence with different solvers:\n",
        "[‘newton-cg’, ‘lbfgs’, ‘liblinear’, ‘sag’, ‘saga’]\n",
        "\n",
        "- Regularization (penalty) can sometimes be helpful:\n",
        "[‘none’, ‘l1’, ‘l2’, ‘elasticnet’]\n",
        "Note: not all solvers support all regularization terms.\n",
        "\n",
        "- The C parameter controls the penality strength, which can also be effective:\n",
        "[100, 10, 1.0, 0.1, 0.01]"
      ]
    },
    {
      "cell_type": "code",
      "execution_count": 88,
      "metadata": {},
      "outputs": [
        {
          "name": "stdout",
          "output_type": "stream",
          "text": [
            "{'C': 0.1, 'penalty': 'l1'}\n",
            "LogisticRegression(C=0.1, penalty='l1', solver='liblinear')\n",
            "Train Score:  0.8119999999999999\n"
          ]
        }
      ],
      "source": [
        "# Logistic regression fit with linear kernel\n",
        "param_grid = {'C': [0.1, 0.5, 1, 10], 'penalty':[\"l1\", \"l2\"]}\n",
        "log_primal_grid = GridSearchCV(LogisticRegression(solver ='liblinear'), param_grid, cv=5, verbose=0)\n",
        "log_primal_grid.fit(X_train, y_train)\n",
        "best_model(log_primal_grid)"
      ]
    },
    {
      "cell_type": "code",
      "execution_count": 89,
      "metadata": {},
      "outputs": [
        {
          "name": "stdout",
          "output_type": "stream",
          "text": [
            "              precision    recall  f1-score   support\n",
            "\n",
            "           0       0.82      0.97      0.89      6370\n",
            "           1       0.64      0.19      0.29      1630\n",
            "\n",
            "    accuracy                           0.81      8000\n",
            "   macro avg       0.73      0.58      0.59      8000\n",
            "weighted avg       0.79      0.81      0.77      8000\n",
            "\n"
          ]
        }
      ],
      "source": [
        "print(classification_report(y_train,  log_primal_grid.predict(X_train)))"
      ]
    },
    {
      "cell_type": "code",
      "execution_count": 90,
      "metadata": {},
      "outputs": [
        {
          "name": "stdout",
          "output_type": "stream",
          "text": [
            "{'C': 10, 'penalty': 'l1'}\n",
            "LogisticRegression(C=10, penalty='l1', solver='liblinear')\n",
            "Train Score:  0.8564999999999999\n"
          ]
        }
      ],
      "source": [
        "# Logistic regression fit with degree 2 polynomial kernel\n",
        "param_grid = {'C': [0.1, 10, 50], 'penalty':[\"l1\", \"l2\"]}\n",
        "\n",
        "poly2 = PolynomialFeatures(degree=2)\n",
        "X_train_pol2 = poly2.fit_transform(X_train)\n",
        "log_pol2_grid = GridSearchCV(LogisticRegression(solver = 'liblinear'),param_grid, cv=5, verbose=0)\n",
        "log_pol2_grid.fit(X_train_pol2, y_train)\n",
        "best_model(log_pol2_grid)"
      ]
    },
    {
      "cell_type": "code",
      "execution_count": 91,
      "metadata": {},
      "outputs": [
        {
          "name": "stdout",
          "output_type": "stream",
          "text": [
            "              precision    recall  f1-score   support\n",
            "\n",
            "           0       0.88      0.96      0.92      6370\n",
            "           1       0.76      0.46      0.58      1630\n",
            "\n",
            "    accuracy                           0.86      8000\n",
            "   macro avg       0.82      0.71      0.75      8000\n",
            "weighted avg       0.85      0.86      0.85      8000\n",
            "\n"
          ]
        }
      ],
      "source": [
        "print(classification_report(y_train,  log_pol2_grid.predict(X_train_pol2)))"
      ]
    },
    {
      "cell_type": "markdown",
      "metadata": {},
      "source": [
        "### Linear Discriminant Analysis"
      ]
    },
    {
      "cell_type": "code",
      "execution_count": 92,
      "metadata": {},
      "outputs": [
        {
          "name": "stdout",
          "output_type": "stream",
          "text": [
            "{'solver': 'svd'}\n",
            "LinearDiscriminantAnalysis()\n",
            "Train Score:  0.8090000000000002\n"
          ]
        }
      ],
      "source": [
        "param_grid = {\"solver\": [\"svd\", \"lsqr\"]}\n",
        "LDA_grid = GridSearchCV(LinearDiscriminantAnalysis(), param_grid, scoring=\"accuracy\", cv=5, verbose=0)\n",
        "LDA_grid.fit(X_train, y_train)\n",
        "best_model(LDA_grid)"
      ]
    },
    {
      "cell_type": "code",
      "execution_count": 93,
      "metadata": {},
      "outputs": [
        {
          "name": "stdout",
          "output_type": "stream",
          "text": [
            "              precision    recall  f1-score   support\n",
            "\n",
            "           0       0.83      0.96      0.89      6370\n",
            "           1       0.58      0.24      0.34      1630\n",
            "\n",
            "    accuracy                           0.81      8000\n",
            "   macro avg       0.70      0.60      0.61      8000\n",
            "weighted avg       0.78      0.81      0.78      8000\n",
            "\n"
          ]
        }
      ],
      "source": [
        "print(classification_report(y_train,  LDA_grid.predict(X_train)))"
      ]
    },
    {
      "cell_type": "markdown",
      "metadata": {},
      "source": [
        "### Support Vector Machine"
      ]
    },
    {
      "cell_type": "code",
      "execution_count": 94,
      "metadata": {},
      "outputs": [
        {
          "name": "stdout",
          "output_type": "stream",
          "text": [
            "{'C': 100, 'gamma': 0.1, 'kernel': 'rbf', 'probability': True}\n",
            "SVC(C=100, gamma=0.1, probability=True)\n",
            "Train Score:  0.853875401733823\n"
          ]
        }
      ],
      "source": [
        "# Fit SVM with RBF Kernel\n",
        "param_grid = {'C': [10, 100, 150], 'gamma': [0.1, 0.01],'kernel': ['rbf'], \"probability\":[True]}\n",
        "SVM_grid = GridSearchCV(SVC(), param_grid, cv=3, verbose=0)\n",
        "SVM_grid.fit(X_train, y_train)\n",
        "best_model(SVM_grid)"
      ]
    },
    {
      "cell_type": "code",
      "execution_count": 95,
      "metadata": {},
      "outputs": [
        {
          "name": "stdout",
          "output_type": "stream",
          "text": [
            "              precision    recall  f1-score   support\n",
            "\n",
            "           0       0.86      0.98      0.92      6370\n",
            "           1       0.83      0.39      0.53      1630\n",
            "\n",
            "    accuracy                           0.86      8000\n",
            "   macro avg       0.85      0.68      0.72      8000\n",
            "weighted avg       0.86      0.86      0.84      8000\n",
            "\n"
          ]
        }
      ],
      "source": [
        "print(classification_report(y_train,  SVM_grid.predict(X_train)))"
      ]
    },
    {
      "cell_type": "code",
      "execution_count": 96,
      "metadata": {},
      "outputs": [
        {
          "name": "stdout",
          "output_type": "stream",
          "text": [
            "{'C': 100, 'gamma': 0.1, 'kernel': 'rbf', 'probability': True}\n",
            "SVC(C=100, gamma=0.1, probability=True)\n",
            "Train Score:  0.853875401733823\n"
          ]
        }
      ],
      "source": [
        "# Fit SVM with pol kernel\n",
        "param_grid = {'C': [10, 50, 100], 'gamma': [0.1, 0.01],'kernel': ['poly'],'degree':[2,3], \n",
        "\"probability\":[True]}\n",
        "SVM_pol_grid = GridSearchCV(SVC(), param_grid, cv=3, verbose=0)\n",
        "SVM_pol_grid.fit(X_train, y_train)\n",
        "best_model(SVM_grid)"
      ]
    },
    {
      "cell_type": "code",
      "execution_count": 97,
      "metadata": {},
      "outputs": [
        {
          "name": "stdout",
          "output_type": "stream",
          "text": [
            "              precision    recall  f1-score   support\n",
            "\n",
            "           0       0.86      0.98      0.91      6370\n",
            "           1       0.81      0.37      0.51      1630\n",
            "\n",
            "    accuracy                           0.85      8000\n",
            "   macro avg       0.84      0.67      0.71      8000\n",
            "weighted avg       0.85      0.85      0.83      8000\n",
            "\n"
          ]
        }
      ],
      "source": [
        "print(classification_report(y_train,  SVM_pol_grid.predict(X_train)))"
      ]
    },
    {
      "cell_type": "markdown",
      "metadata": {},
      "source": [
        "### Random Forrest"
      ]
    },
    {
      "cell_type": "code",
      "execution_count": 98,
      "metadata": {},
      "outputs": [
        {
          "name": "stdout",
          "output_type": "stream",
          "text": [
            "{'max_depth': 8, 'max_features': 9, 'min_samples_split': 5, 'n_estimators': 100}\n",
            "RandomForestClassifier(max_depth=8, max_features=9, min_samples_split=5)\n",
            "Train Score:  0.86425\n"
          ]
        }
      ],
      "source": [
        "# Fit random forest classifier\n",
        "param_grid = {'max_depth': [6, 7, 8], 'max_features': [7, 8, 9],\n",
        "'n_estimators':[50, 100],'min_samples_split': [3, 5, 7]}\n",
        "RF_grid = GridSearchCV(RandomForestClassifier(), param_grid, cv=5, verbose=0)\n",
        "RF_grid.fit(X_train, y_train)\n",
        "best_model(RF_grid)"
      ]
    },
    {
      "cell_type": "code",
      "execution_count": 99,
      "metadata": {},
      "outputs": [
        {
          "name": "stdout",
          "output_type": "stream",
          "text": [
            "              precision    recall  f1-score   support\n",
            "\n",
            "           0       0.89      0.98      0.93      6370\n",
            "           1       0.87      0.51      0.64      1630\n",
            "\n",
            "    accuracy                           0.89      8000\n",
            "   macro avg       0.88      0.75      0.79      8000\n",
            "weighted avg       0.88      0.89      0.87      8000\n",
            "\n"
          ]
        }
      ],
      "source": [
        "print(classification_report(y_train,  RF_grid.predict(X_train)))"
      ]
    },
    {
      "cell_type": "code",
      "execution_count": 100,
      "metadata": {},
      "outputs": [],
      "source": [
        "auc_log_primal, fpr_log_primal, tpr_log_primal = get_auc_scores(y_train, log_primal_grid.predict(X_train), log_primal_grid.predict_proba(X_train)[:,1])\n",
        "auc_log_pol2, fpr_log_pol2, tpr_log_pol2 = get_auc_scores(y_train, log_pol2_grid.predict(X_train_pol2), log_pol2_grid.predict_proba(X_train_pol2)[:,1])\n",
        "auc_LDA, fpr_LDA, tpr_LDA = get_auc_scores(y_train, LDA_grid.predict(X_train), LDA_grid.predict_proba(X_train)[:,1])\n",
        "auc_SVM, fpr_SVM, tpr_SVM = get_auc_scores(y_train, SVM_grid.predict(X_train), SVM_grid.predict_proba(X_train)[:,1])\n",
        "auc_SVM_pol, fpr_SVM_pol, tpr_SVM_pol = get_auc_scores(y_train, SVM_pol_grid.predict(X_train), SVM_pol_grid.predict_proba(X_train)[:,1])\n",
        "auc_RF, fpr_RF, tpr_RF = get_auc_scores(y_train, RF_grid.predict(X_train), RF_grid.predict_proba(X_train)[:,1])"
      ]
    },
    {
      "cell_type": "code",
      "execution_count": 101,
      "metadata": {},
      "outputs": [],
      "source": [
        "# model.predict_proba(X_train)[:,1]: keep probabilities for the positive outcome only"
      ]
    },
    {
      "cell_type": "code",
      "execution_count": 102,
      "metadata": {},
      "outputs": [
        {
          "data": {
            "image/png": "[encoded data removed]",
            "text/plain": [
              "<Figure size 864x432 with 1 Axes>"
            ]
          },
          "metadata": {
            "needs_background": "light"
          },
          "output_type": "display_data"
        }
      ],
      "source": [
        "plt.figure(figsize = (12,6), linewidth= 1)\n",
        "plt.plot(fpr_log_primal, tpr_log_primal, label = 'log primal Score: ' + str(round(auc_log_primal, 5)))\n",
        "plt.plot(fpr_log_pol2, tpr_log_pol2, label = 'log pol2 Score: ' + str(round(auc_log_pol2, 5)))\n",
        "plt.plot(fpr_LDA, tpr_LDA, label = 'LDA Score: ' + str(round(auc_LDA, 5)))\n",
        "plt.plot(fpr_SVM, tpr_SVM, label = 'SVM RBF Score: ' + str(round(auc_SVM, 5)))\n",
        "plt.plot(fpr_SVM_pol, tpr_SVM_pol, label = 'SVM POL Score: ' + str(round(auc_SVM_pol, 5)))\n",
        "plt.plot(fpr_RF, tpr_RF, label = 'RF Score: ' + str(round(auc_RF, 5)))\n",
        "plt.plot([0,1], [0,1], 'k--', label = 'Random: 0.5')\n",
        "plt.xlabel('False positive rate')\n",
        "plt.ylabel('True positive rate')\n",
        "plt.title('ROC Curve')\n",
        "plt.legend(loc='best')\n",
        "plt.grid(True)\n",
        "plt.show()"
      ]
    },
    {
      "cell_type": "markdown",
      "metadata": {},
      "source": [
        "# Test Model Accuracy on Test Data"
      ]
    },
    {
      "cell_type": "code",
      "execution_count": 103,
      "metadata": {},
      "outputs": [
        {
          "name": "stdout",
          "output_type": "stream",
          "text": [
            "              precision    recall  f1-score   support\n",
            "\n",
            "           0       0.87      0.97      0.92      1593\n",
            "           1       0.80      0.45      0.57       407\n",
            "\n",
            "    accuracy                           0.86      2000\n",
            "   macro avg       0.84      0.71      0.75      2000\n",
            "weighted avg       0.86      0.86      0.85      2000\n",
            "\n"
          ]
        }
      ],
      "source": [
        "print(classification_report(y_test,  RF_grid.predict(X_test)))"
      ]
    },
    {
      "cell_type": "code",
      "execution_count": 104,
      "metadata": {},
      "outputs": [],
      "source": [
        "auc_RF_test, fpr_RF_test, tpr_RF_test = get_auc_scores(y_test, RF_grid.predict(X_test), RF_grid.predict_proba(X_test)[:,1])"
      ]
    },
    {
      "cell_type": "code",
      "execution_count": 105,
      "metadata": {},
      "outputs": [
        {
          "data": {
            "image/png": "[encoded data removed]",
            "text/plain": [
              "<Figure size 864x432 with 1 Axes>"
            ]
          },
          "metadata": {
            "needs_background": "light"
          },
          "output_type": "display_data"
        }
      ],
      "source": [
        "plt.figure(figsize = (12,6), linewidth= 1)\n",
        "plt.plot(fpr_RF_test, tpr_RF_test, label = 'RF Score: ' + str(round(auc_RF_test, 5)))\n",
        "plt.plot([0,1], [0,1], 'k--', label = 'Random: 0.5')\n",
        "plt.xlabel('False positive rate')\n",
        "plt.ylabel('True positive rate')\n",
        "plt.title('ROC Curve')\n",
        "plt.legend(loc='best')\n",
        "plt.grid(True)\n",
        "plt.show()"
      ]
    },
    {
      "cell_type": "markdown",
      "metadata": {},
      "source": [
        "[…] the visual interpretability of ROC plots in the context of imbalanced datasets can be deceptive with respect to conclusions about the reliability of classification performance, owing to an intuitive but wrong interpretation of specificity. [Precision-recall curve] plots, on the other hand, can provide the viewer with an accurate prediction of future classification performance due to the fact that they evaluate the fraction of true positives among positive predictions"
      ]
    },
    {
      "cell_type": "markdown",
      "metadata": {},
      "source": [
        "## Precision-Recall Trade-off"
      ]
    },
    {
      "cell_type": "code",
      "execution_count": 106,
      "metadata": {},
      "outputs": [],
      "source": [
        "precision, recall, thresholds = precision_recall_curve(y_test, RF_grid.predict_proba(X_test)[:,1])"
      ]
    },
    {
      "cell_type": "code",
      "execution_count": 107,
      "metadata": {},
      "outputs": [
        {
          "data": {
            "image/png": "[encoded data removed]",
            "text/plain": [
              "<Figure size 432x432 with 1 Axes>"
            ]
          },
          "metadata": {
            "needs_background": "light"
          },
          "output_type": "display_data"
        }
      ],
      "source": [
        "plt.figure(figsize=(6,6))\n",
        "plt.scatter(y=recall, x=precision, marker='.')\n",
        "plt.title('Precision-Recall curve')\n",
        "plt.xlabel('Precision')\n",
        "plt.ylabel('Recall')\n",
        "plt.grid(True)\n",
        "plt.show()"
      ]
    },
    {
      "cell_type": "markdown",
      "metadata": {},
      "source": [
        "### Optimal Threshold Tuning"
      ]
    },
    {
      "cell_type": "markdown",
      "metadata": {},
      "source": [
        "Sometimes, we simply have a model and we wish to know the best threshold directly.\n",
        "\n",
        "In this case, we can define a set of thresholds and then evaluate predicted probabilities under each in order to find and select the optimal threshold."
      ]
    },
    {
      "cell_type": "code",
      "execution_count": 108,
      "metadata": {},
      "outputs": [],
      "source": [
        "def to_labels(pos_probs, threshold):\n",
        "\treturn (pos_probs >= threshold).astype('int')"
      ]
    },
    {
      "cell_type": "code",
      "execution_count": 109,
      "metadata": {},
      "outputs": [
        {
          "name": "stdout",
          "output_type": "stream",
          "text": [
            "Optimal Threshold = 0.310, F-Score = 0.646\n",
            "              precision    recall  f1-score   support\n",
            "\n",
            "           0       0.91      0.91      0.91      1593\n",
            "           1       0.64      0.65      0.65       407\n",
            "\n",
            "    accuracy                           0.85      2000\n",
            "   macro avg       0.78      0.78      0.78      2000\n",
            "weighted avg       0.86      0.85      0.86      2000\n",
            "\n"
          ]
        }
      ],
      "source": [
        "thresholds = np.arange(0, 1, 0.01)\n",
        "scores = [f1_score(y_test, to_labels(RF_grid.predict_proba(X_test)[:,1], t)) for t in thresholds]\n",
        "ix = np.argmax(scores)\n",
        "print('Optimal Threshold = %.3f, F-Score = %.3f' % (thresholds[ix], scores[ix]))\n",
        "print(classification_report(y_test, [1 if s >= thresholds[ix] else 0 for s in RF_grid.predict_proba(X_test)[:,1]]))"
      ]
    }
  ],
  "metadata": {
    "colab": {
      "name": "Churn.ipynb",
      "provenance": []
    },
    "interpreter": {
      "hash": "74609ea32c075f5c8e96a18961956eadb9a9347b199f0247ab8ad93a9d4aa1e3"
    },
    "kernelspec": {
      "display_name": "Python 3.8.8 ('base')",
      "language": "python",
      "name": "python3"
    },
    "language_info": {
      "codemirror_mode": {
        "name": "ipython",
        "version": 3
      },
      "file_extension": ".py",
      "mimetype": "text/x-python",
      "name": "python",
      "nbconvert_exporter": "python",
      "pygments_lexer": "ipython3",
      "version": "3.8.8"
    }
  },
  "nbformat": 4,
  "nbformat_minor": 0
}

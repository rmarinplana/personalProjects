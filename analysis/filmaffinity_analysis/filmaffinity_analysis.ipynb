{
 "cells": [
  {
   "cell_type": "code",
   "execution_count": 5,
   "metadata": {},
   "outputs": [],
   "source": [
    "# Base\n",
    "import pandas as pd\n",
    "import numpy as np\n",
    "import matplotlib.pyplot as plt\n",
    "import seaborn as sns\n",
    "\n",
    "# API\n",
    "import python_filmaffinity\n",
    "\n",
    "# Configuration\n",
    "import warnings\n",
    "warnings.filterwarnings(\"ignore\")\n",
    "warnings.simplefilter(action='ignore', category=FutureWarning)"
   ]
  },
  {
   "cell_type": "code",
   "execution_count": 6,
   "metadata": {},
   "outputs": [
    {
     "data": {
      "text/html": [
       "<div>\n",
       "<style scoped>\n",
       "    .dataframe tbody tr th:only-of-type {\n",
       "        vertical-align: middle;\n",
       "    }\n",
       "\n",
       "    .dataframe tbody tr th {\n",
       "        vertical-align: top;\n",
       "    }\n",
       "\n",
       "    .dataframe thead th {\n",
       "        text-align: right;\n",
       "    }\n",
       "</style>\n",
       "<table border=\"1\" class=\"dataframe\">\n",
       "  <thead>\n",
       "    <tr style=\"text-align: right;\">\n",
       "      <th></th>\n",
       "      <th>rating</th>\n",
       "      <th>film</th>\n",
       "      <th>rating_date</th>\n",
       "    </tr>\n",
       "  </thead>\n",
       "  <tbody>\n",
       "    <tr>\n",
       "      <th>0</th>\n",
       "      <td>6</td>\n",
       "      <td>Star Wars IV: A New Hope (1977)</td>\n",
       "      <td>July 10, 2022, 4:24 PM</td>\n",
       "    </tr>\n",
       "    <tr>\n",
       "      <th>1</th>\n",
       "      <td>6</td>\n",
       "      <td>The Hidden Fortress (1958)</td>\n",
       "      <td>July 10, 2022, 3:52 PM</td>\n",
       "    </tr>\n",
       "    <tr>\n",
       "      <th>2</th>\n",
       "      <td>6</td>\n",
       "      <td>Kids Return (1996)</td>\n",
       "      <td>July 10, 2022, 3:37 PM</td>\n",
       "    </tr>\n",
       "    <tr>\n",
       "      <th>3</th>\n",
       "      <td>5</td>\n",
       "      <td>AlphaGo (2017)</td>\n",
       "      <td>July 9, 2022, 0:31 PM</td>\n",
       "    </tr>\n",
       "    <tr>\n",
       "      <th>4</th>\n",
       "      <td>3</td>\n",
       "      <td>Extremely Wicked, Shockingly Evil and Vile (2019)</td>\n",
       "      <td>July 3, 2022, 11:35 AM</td>\n",
       "    </tr>\n",
       "  </tbody>\n",
       "</table>\n",
       "</div>"
      ],
      "text/plain": [
       "   rating                                               film  \\\n",
       "0       6                    Star Wars IV: A New Hope (1977)   \n",
       "1       6                         The Hidden Fortress (1958)   \n",
       "2       6                                 Kids Return (1996)   \n",
       "3       5                                     AlphaGo (2017)   \n",
       "4       3  Extremely Wicked, Shockingly Evil and Vile (2019)   \n",
       "\n",
       "              rating_date  \n",
       "0  July 10, 2022, 4:24 PM  \n",
       "1  July 10, 2022, 3:52 PM  \n",
       "2  July 10, 2022, 3:37 PM  \n",
       "3   July 9, 2022, 0:31 PM  \n",
       "4  July 3, 2022, 11:35 AM  "
      ]
     },
     "execution_count": 6,
     "metadata": {},
     "output_type": "execute_result"
    }
   ],
   "source": [
    "df = pd.read_csv(\"../datasets/filmaffinity.csv\", encoding=\"latin-1\")\n",
    "df.head()"
   ]
  },
  {
   "cell_type": "code",
   "execution_count": 7,
   "metadata": {},
   "outputs": [
    {
     "name": "stdout",
     "output_type": "stream",
     "text": [
      "<class 'pandas.core.frame.DataFrame'>\n",
      "RangeIndex: 1369 entries, 0 to 1368\n",
      "Data columns (total 3 columns):\n",
      " #   Column       Non-Null Count  Dtype \n",
      "---  ------       --------------  ----- \n",
      " 0   rating       1369 non-null   int64 \n",
      " 1   film         1369 non-null   object\n",
      " 2   rating_date  1369 non-null   object\n",
      "dtypes: int64(1), object(2)\n",
      "memory usage: 32.2+ KB\n"
     ]
    }
   ],
   "source": [
    "df.info()"
   ]
  },
  {
   "cell_type": "code",
   "execution_count": 8,
   "metadata": {},
   "outputs": [],
   "source": [
    "df[\"year\"] = df.film.apply(lambda x: x[-5:-1]).astype(int)"
   ]
  },
  {
   "cell_type": "code",
   "execution_count": 9,
   "metadata": {},
   "outputs": [],
   "source": [
    "df[\"decade\"] = df.film.apply(lambda x: x[-5:-2]+\"0\").astype(int)"
   ]
  },
  {
   "cell_type": "code",
   "execution_count": 10,
   "metadata": {},
   "outputs": [],
   "source": [
    "df[\"film\"] = df.film.apply(lambda x: x[:-7])"
   ]
  },
  {
   "cell_type": "code",
   "execution_count": 11,
   "metadata": {},
   "outputs": [
    {
     "name": "stdout",
     "output_type": "stream",
     "text": [
      "Mean: 3.8991964937910883, Standard deviation: 2.388154416625612\n"
     ]
    }
   ],
   "source": [
    "x_bar = df.rating.mean()\n",
    "x_std = df.rating.std()\n",
    "print(f\"Mean: {x_bar}, Standard deviation: {x_std}\")"
   ]
  },
  {
   "cell_type": "code",
   "execution_count": 12,
   "metadata": {},
   "outputs": [],
   "source": [
    "df[\"z_score\"] = (df.rating - x_bar) /x_std"
   ]
  },
  {
   "cell_type": "code",
   "execution_count": 13,
   "metadata": {},
   "outputs": [
    {
     "data": {
      "text/html": [
       "<div>\n",
       "<style scoped>\n",
       "    .dataframe tbody tr th:only-of-type {\n",
       "        vertical-align: middle;\n",
       "    }\n",
       "\n",
       "    .dataframe tbody tr th {\n",
       "        vertical-align: top;\n",
       "    }\n",
       "\n",
       "    .dataframe thead th {\n",
       "        text-align: right;\n",
       "    }\n",
       "</style>\n",
       "<table border=\"1\" class=\"dataframe\">\n",
       "  <thead>\n",
       "    <tr style=\"text-align: right;\">\n",
       "      <th></th>\n",
       "      <th>rating</th>\n",
       "      <th>film</th>\n",
       "      <th>rating_date</th>\n",
       "      <th>year</th>\n",
       "      <th>decade</th>\n",
       "      <th>z_score</th>\n",
       "    </tr>\n",
       "  </thead>\n",
       "  <tbody>\n",
       "    <tr>\n",
       "      <th>0</th>\n",
       "      <td>6</td>\n",
       "      <td>Star Wars IV: A New Hope</td>\n",
       "      <td>July 10, 2022, 4:24 PM</td>\n",
       "      <td>1977</td>\n",
       "      <td>1970</td>\n",
       "      <td>0.879677</td>\n",
       "    </tr>\n",
       "    <tr>\n",
       "      <th>1</th>\n",
       "      <td>6</td>\n",
       "      <td>The Hidden Fortress</td>\n",
       "      <td>July 10, 2022, 3:52 PM</td>\n",
       "      <td>1958</td>\n",
       "      <td>1950</td>\n",
       "      <td>0.879677</td>\n",
       "    </tr>\n",
       "    <tr>\n",
       "      <th>2</th>\n",
       "      <td>6</td>\n",
       "      <td>Kids Return</td>\n",
       "      <td>July 10, 2022, 3:37 PM</td>\n",
       "      <td>1996</td>\n",
       "      <td>1990</td>\n",
       "      <td>0.879677</td>\n",
       "    </tr>\n",
       "    <tr>\n",
       "      <th>3</th>\n",
       "      <td>5</td>\n",
       "      <td>AlphaGo</td>\n",
       "      <td>July 9, 2022, 0:31 PM</td>\n",
       "      <td>2017</td>\n",
       "      <td>2010</td>\n",
       "      <td>0.460943</td>\n",
       "    </tr>\n",
       "    <tr>\n",
       "      <th>4</th>\n",
       "      <td>3</td>\n",
       "      <td>Extremely Wicked, Shockingly Evil and Vile</td>\n",
       "      <td>July 3, 2022, 11:35 AM</td>\n",
       "      <td>2019</td>\n",
       "      <td>2010</td>\n",
       "      <td>-0.376524</td>\n",
       "    </tr>\n",
       "  </tbody>\n",
       "</table>\n",
       "</div>"
      ],
      "text/plain": [
       "   rating                                        film             rating_date  \\\n",
       "0       6                    Star Wars IV: A New Hope  July 10, 2022, 4:24 PM   \n",
       "1       6                         The Hidden Fortress  July 10, 2022, 3:52 PM   \n",
       "2       6                                 Kids Return  July 10, 2022, 3:37 PM   \n",
       "3       5                                     AlphaGo   July 9, 2022, 0:31 PM   \n",
       "4       3  Extremely Wicked, Shockingly Evil and Vile  July 3, 2022, 11:35 AM   \n",
       "\n",
       "   year  decade   z_score  \n",
       "0  1977    1970  0.879677  \n",
       "1  1958    1950  0.879677  \n",
       "2  1996    1990  0.879677  \n",
       "3  2017    2010  0.460943  \n",
       "4  2019    2010 -0.376524  "
      ]
     },
     "execution_count": 13,
     "metadata": {},
     "output_type": "execute_result"
    }
   ],
   "source": [
    "df.head()"
   ]
  },
  {
   "cell_type": "code",
   "execution_count": 14,
   "metadata": {},
   "outputs": [
    {
     "data": {
      "text/html": [
       "<div>\n",
       "<style scoped>\n",
       "    .dataframe tbody tr th:only-of-type {\n",
       "        vertical-align: middle;\n",
       "    }\n",
       "\n",
       "    .dataframe tbody tr th {\n",
       "        vertical-align: top;\n",
       "    }\n",
       "\n",
       "    .dataframe thead th {\n",
       "        text-align: right;\n",
       "    }\n",
       "</style>\n",
       "<table border=\"1\" class=\"dataframe\">\n",
       "  <thead>\n",
       "    <tr style=\"text-align: right;\">\n",
       "      <th></th>\n",
       "      <th>rating</th>\n",
       "      <th>z_score</th>\n",
       "    </tr>\n",
       "  </thead>\n",
       "  <tbody>\n",
       "    <tr>\n",
       "      <th>count</th>\n",
       "      <td>1369.000000</td>\n",
       "      <td>1.369000e+03</td>\n",
       "    </tr>\n",
       "    <tr>\n",
       "      <th>mean</th>\n",
       "      <td>3.899196</td>\n",
       "      <td>-2.893879e-15</td>\n",
       "    </tr>\n",
       "    <tr>\n",
       "      <th>std</th>\n",
       "      <td>2.388154</td>\n",
       "      <td>1.000000e+00</td>\n",
       "    </tr>\n",
       "    <tr>\n",
       "      <th>min</th>\n",
       "      <td>1.000000</td>\n",
       "      <td>-1.213990e+00</td>\n",
       "    </tr>\n",
       "    <tr>\n",
       "      <th>25%</th>\n",
       "      <td>1.000000</td>\n",
       "      <td>-1.213990e+00</td>\n",
       "    </tr>\n",
       "    <tr>\n",
       "      <th>50%</th>\n",
       "      <td>3.000000</td>\n",
       "      <td>-3.765236e-01</td>\n",
       "    </tr>\n",
       "    <tr>\n",
       "      <th>75%</th>\n",
       "      <td>6.000000</td>\n",
       "      <td>8.796766e-01</td>\n",
       "    </tr>\n",
       "    <tr>\n",
       "      <th>max</th>\n",
       "      <td>10.000000</td>\n",
       "      <td>2.554610e+00</td>\n",
       "    </tr>\n",
       "  </tbody>\n",
       "</table>\n",
       "</div>"
      ],
      "text/plain": [
       "            rating       z_score\n",
       "count  1369.000000  1.369000e+03\n",
       "mean      3.899196 -2.893879e-15\n",
       "std       2.388154  1.000000e+00\n",
       "min       1.000000 -1.213990e+00\n",
       "25%       1.000000 -1.213990e+00\n",
       "50%       3.000000 -3.765236e-01\n",
       "75%       6.000000  8.796766e-01\n",
       "max      10.000000  2.554610e+00"
      ]
     },
     "execution_count": 14,
     "metadata": {},
     "output_type": "execute_result"
    }
   ],
   "source": [
    "df[[\"rating\", \"z_score\"]].describe()"
   ]
  },
  {
   "cell_type": "code",
   "execution_count": 15,
   "metadata": {},
   "outputs": [
    {
     "data": {
      "image/png": "[encoded data removed]",
      "text/plain": [
       "<Figure size 432x288 with 1 Axes>"
      ]
     },
     "metadata": {
      "needs_background": "light"
     },
     "output_type": "display_data"
    }
   ],
   "source": [
    "sns.boxplot(df.decade, df.z_score)\n",
    "plt.show()"
   ]
  },
  {
   "cell_type": "code",
   "execution_count": 19,
   "metadata": {},
   "outputs": [],
   "source": [
    "service = python_filmaffinity.FilmAffinity(lang='en')"
   ]
  },
  {
   "cell_type": "code",
   "execution_count": 20,
   "metadata": {},
   "outputs": [
    {
     "data": {
      "text/plain": [
       "{'id': '514001',\n",
       " 'title': 'The Weeknd: Sacrifice (Music Video)',\n",
       " 'original_title': 'The Weeknd: Sacrifice',\n",
       " 'year': '2022',\n",
       " 'duration': '4 min.',\n",
       " 'rating': '5.4',\n",
       " 'votes': 25,\n",
       " 'description': \"Music video for the The Weeknd's song Sacrifice. Directed by Cliqua.\",\n",
       " 'directors': ['Pasqual Gutierrez', 'R.J. Sanchez', 'Cliqua'],\n",
       " 'writers': [],\n",
       " 'music': [],\n",
       " 'cinematography': [],\n",
       " 'actors': ['The Weeknd'],\n",
       " 'producers': ['Universal Music', 'Republic Records', 'Somesuch', 'YouTube'],\n",
       " 'poster': 'https://pics.filmaffinity.com/the_weeknd_sacrifice-729365874-mmed.jpg',\n",
       " 'country': 'United States',\n",
       " 'genre': ['Musical'],\n",
       " 'awards': [],\n",
       " 'reviews': []}"
      ]
     },
     "execution_count": 20,
     "metadata": {},
     "output_type": "execute_result"
    }
   ],
   "source": [
    "service.get_movie(title=\"The Sacrifice\")"
   ]
  }
 ],
 "metadata": {
  "kernelspec": {
   "display_name": "Python 3.8.8 ('base')",
   "language": "python",
   "name": "python3"
  },
  "language_info": {
   "codemirror_mode": {
    "name": "ipython",
    "version": 3
   },
   "file_extension": ".py",
   "mimetype": "text/x-python",
   "name": "python",
   "nbconvert_exporter": "python",
   "pygments_lexer": "ipython3",
   "version": "3.8.8"
  },
  "orig_nbformat": 4,
  "vscode": {
   "interpreter": {
    "hash": "74609ea32c075f5c8e96a18961956eadb9a9347b199f0247ab8ad93a9d4aa1e3"
   }
  }
 },
 "nbformat": 4,
 "nbformat_minor": 2
}

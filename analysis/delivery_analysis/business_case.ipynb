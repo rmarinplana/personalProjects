{
 "cells": [
  {
   "cell_type": "markdown",
   "metadata": {},
   "source": [
    "### Packages"
   ]
  },
  {
   "cell_type": "code",
   "execution_count": 1328,
   "metadata": {},
   "outputs": [],
   "source": [
    "# Import packages\n",
    "\n",
    "# Basic\n",
    "import pandas as pd\n",
    "import numpy as np\n",
    "import matplotlib.pyplot as plt\n",
    "import seaborn as sns\n",
    "\n",
    "# Configuration\n",
    "import warnings\n",
    "warnings.filterwarnings(\"ignore\")\n",
    "warnings.simplefilter(action='ignore', category=FutureWarning)"
   ]
  },
  {
   "cell_type": "markdown",
   "metadata": {},
   "source": [
    "### Import Data"
   ]
  },
  {
   "cell_type": "code",
   "execution_count": 1329,
   "metadata": {},
   "outputs": [
    {
     "data": {
      "text/html": [
       "<div>\n",
       "<style scoped>\n",
       "    .dataframe tbody tr th:only-of-type {\n",
       "        vertical-align: middle;\n",
       "    }\n",
       "\n",
       "    .dataframe tbody tr th {\n",
       "        vertical-align: top;\n",
       "    }\n",
       "\n",
       "    .dataframe thead th {\n",
       "        text-align: right;\n",
       "    }\n",
       "</style>\n",
       "<table border=\"1\" class=\"dataframe\">\n",
       "  <thead>\n",
       "    <tr style=\"text-align: right;\">\n",
       "      <th></th>\n",
       "      <th>id</th>\n",
       "      <th>final_status</th>\n",
       "      <th>store_address_id</th>\n",
       "      <th>customer_id</th>\n",
       "      <th>courier_id</th>\n",
       "      <th>vertical</th>\n",
       "      <th>is_food</th>\n",
       "      <th>transport</th>\n",
       "      <th>number_of_assignments</th>\n",
       "      <th>total_real_distance</th>\n",
       "      <th>activation_time_local</th>\n",
       "      <th>last_courier_assigned_time</th>\n",
       "      <th>courier_started_order_local</th>\n",
       "      <th>courier_enters_pickup_time_local</th>\n",
       "      <th>pickup_time_local</th>\n",
       "      <th>courier_enters_delivery_point_time_local</th>\n",
       "      <th>termination_time</th>\n",
       "      <th>Count</th>\n",
       "      <th>Total Time</th>\n",
       "    </tr>\n",
       "  </thead>\n",
       "  <tbody>\n",
       "    <tr>\n",
       "      <th>0</th>\n",
       "      <td>53134335.0</td>\n",
       "      <td>DeliveredStatus</td>\n",
       "      <td>85260.0</td>\n",
       "      <td>18579597.0</td>\n",
       "      <td>20153483.0</td>\n",
       "      <td>WALL - Partner</td>\n",
       "      <td>1.0</td>\n",
       "      <td>BICYCLE</td>\n",
       "      <td>1.0</td>\n",
       "      <td>6.029</td>\n",
       "      <td>2019-07-13 13:04:44</td>\n",
       "      <td>2019-07-13 13:05:32</td>\n",
       "      <td>2019-07-13 13:06:49</td>\n",
       "      <td>2019-07-13 13:09:13</td>\n",
       "      <td>2019-07-13 13:28:45</td>\n",
       "      <td>2019-07-13 13:46:58</td>\n",
       "      <td>2019-07-13 13:59:49</td>\n",
       "      <td>NaN</td>\n",
       "      <td>55</td>\n",
       "    </tr>\n",
       "    <tr>\n",
       "      <th>1</th>\n",
       "      <td>53009545.0</td>\n",
       "      <td>DeliveredStatus</td>\n",
       "      <td>23517.0</td>\n",
       "      <td>11871195.0</td>\n",
       "      <td>20153483.0</td>\n",
       "      <td>WALL - Partner</td>\n",
       "      <td>1.0</td>\n",
       "      <td>BICYCLE</td>\n",
       "      <td>1.0</td>\n",
       "      <td>3.998</td>\n",
       "      <td>2019-07-12 20:06:29</td>\n",
       "      <td>2019-07-12 20:10:42</td>\n",
       "      <td>2019-07-12 20:11:02</td>\n",
       "      <td>2019-07-12 20:16:05</td>\n",
       "      <td>2019-07-12 20:23:07</td>\n",
       "      <td>2019-07-12 20:37:53</td>\n",
       "      <td>2019-07-12 20:43:01</td>\n",
       "      <td>NaN</td>\n",
       "      <td>36</td>\n",
       "    </tr>\n",
       "    <tr>\n",
       "      <th>2</th>\n",
       "      <td>53129297.0</td>\n",
       "      <td>DeliveredStatus</td>\n",
       "      <td>18300.0</td>\n",
       "      <td>1053786.0</td>\n",
       "      <td>20153483.0</td>\n",
       "      <td>WALL - Partner</td>\n",
       "      <td>1.0</td>\n",
       "      <td>BICYCLE</td>\n",
       "      <td>1.0</td>\n",
       "      <td>5.309</td>\n",
       "      <td>2019-07-13 12:14:58</td>\n",
       "      <td>2019-07-13 12:15:44</td>\n",
       "      <td>2019-07-13 12:23:40</td>\n",
       "      <td>2019-07-13 12:45:16</td>\n",
       "      <td>2019-07-13 12:50:09</td>\n",
       "      <td>2019-07-13 12:55:16</td>\n",
       "      <td>2019-07-13 12:59:23</td>\n",
       "      <td>NaN</td>\n",
       "      <td>44</td>\n",
       "    </tr>\n",
       "    <tr>\n",
       "      <th>3</th>\n",
       "      <td>53235752.0</td>\n",
       "      <td>CanceledStatus</td>\n",
       "      <td>85260.0</td>\n",
       "      <td>20466508.0</td>\n",
       "      <td>20153483.0</td>\n",
       "      <td>WALL - Partner</td>\n",
       "      <td>1.0</td>\n",
       "      <td>BICYCLE</td>\n",
       "      <td>1.0</td>\n",
       "      <td>6.429</td>\n",
       "      <td>2019-07-13 21:55:58</td>\n",
       "      <td>2019-07-13 22:24:58</td>\n",
       "      <td>2019-07-13 22:24:58</td>\n",
       "      <td>NaT</td>\n",
       "      <td>NaT</td>\n",
       "      <td>NaT</td>\n",
       "      <td>2019-07-13 22:25:15</td>\n",
       "      <td>NaN</td>\n",
       "      <td>29</td>\n",
       "    </tr>\n",
       "    <tr>\n",
       "      <th>4</th>\n",
       "      <td>53002671.0</td>\n",
       "      <td>DeliveredStatus</td>\n",
       "      <td>15912.0</td>\n",
       "      <td>16549489.0</td>\n",
       "      <td>20153483.0</td>\n",
       "      <td>WALL - Partner</td>\n",
       "      <td>1.0</td>\n",
       "      <td>BICYCLE</td>\n",
       "      <td>1.0</td>\n",
       "      <td>3.442</td>\n",
       "      <td>2019-07-12 19:40:13</td>\n",
       "      <td>2019-07-12 19:41:14</td>\n",
       "      <td>2019-07-12 19:42:34</td>\n",
       "      <td>2019-07-12 19:46:28</td>\n",
       "      <td>2019-07-12 19:56:59</td>\n",
       "      <td>2019-07-12 20:07:08</td>\n",
       "      <td>2019-07-12 20:10:37</td>\n",
       "      <td>NaN</td>\n",
       "      <td>30</td>\n",
       "    </tr>\n",
       "  </tbody>\n",
       "</table>\n",
       "</div>"
      ],
      "text/plain": [
       "           id     final_status  store_address_id  customer_id  courier_id  \\\n",
       "0  53134335.0  DeliveredStatus           85260.0   18579597.0  20153483.0   \n",
       "1  53009545.0  DeliveredStatus           23517.0   11871195.0  20153483.0   \n",
       "2  53129297.0  DeliveredStatus           18300.0    1053786.0  20153483.0   \n",
       "3  53235752.0   CanceledStatus           85260.0   20466508.0  20153483.0   \n",
       "4  53002671.0  DeliveredStatus           15912.0   16549489.0  20153483.0   \n",
       "\n",
       "         vertical  is_food transport  number_of_assignments  \\\n",
       "0  WALL - Partner      1.0   BICYCLE                    1.0   \n",
       "1  WALL - Partner      1.0   BICYCLE                    1.0   \n",
       "2  WALL - Partner      1.0   BICYCLE                    1.0   \n",
       "3  WALL - Partner      1.0   BICYCLE                    1.0   \n",
       "4  WALL - Partner      1.0   BICYCLE                    1.0   \n",
       "\n",
       "   total_real_distance activation_time_local last_courier_assigned_time  \\\n",
       "0                6.029   2019-07-13 13:04:44        2019-07-13 13:05:32   \n",
       "1                3.998   2019-07-12 20:06:29        2019-07-12 20:10:42   \n",
       "2                5.309   2019-07-13 12:14:58        2019-07-13 12:15:44   \n",
       "3                6.429   2019-07-13 21:55:58        2019-07-13 22:24:58   \n",
       "4                3.442   2019-07-12 19:40:13        2019-07-12 19:41:14   \n",
       "\n",
       "  courier_started_order_local courier_enters_pickup_time_local  \\\n",
       "0         2019-07-13 13:06:49              2019-07-13 13:09:13   \n",
       "1         2019-07-12 20:11:02              2019-07-12 20:16:05   \n",
       "2         2019-07-13 12:23:40              2019-07-13 12:45:16   \n",
       "3         2019-07-13 22:24:58                              NaT   \n",
       "4         2019-07-12 19:42:34              2019-07-12 19:46:28   \n",
       "\n",
       "    pickup_time_local courier_enters_delivery_point_time_local  \\\n",
       "0 2019-07-13 13:28:45                      2019-07-13 13:46:58   \n",
       "1 2019-07-12 20:23:07                      2019-07-12 20:37:53   \n",
       "2 2019-07-13 12:50:09                      2019-07-13 12:55:16   \n",
       "3                 NaT                                      NaT   \n",
       "4 2019-07-12 19:56:59                      2019-07-12 20:07:08   \n",
       "\n",
       "     termination_time  Count  Total Time  \n",
       "0 2019-07-13 13:59:49    NaN          55  \n",
       "1 2019-07-12 20:43:01    NaN          36  \n",
       "2 2019-07-13 12:59:23    NaN          44  \n",
       "3 2019-07-13 22:25:15    NaN          29  \n",
       "4 2019-07-12 20:10:37    NaN          30  "
      ]
     },
     "execution_count": 1329,
     "metadata": {},
     "output_type": "execute_result"
    }
   ],
   "source": [
    "df = pd.read_excel(\"Data_sample_(5).xlsx\", usecols=range(19))\n",
    "df.head()"
   ]
  },
  {
   "cell_type": "markdown",
   "metadata": {},
   "source": [
    "### Data Cleaning"
   ]
  },
  {
   "cell_type": "code",
   "execution_count": 1330,
   "metadata": {},
   "outputs": [
    {
     "name": "stdout",
     "output_type": "stream",
     "text": [
      "<class 'pandas.core.frame.DataFrame'>\n",
      "RangeIndex: 2473 entries, 0 to 2472\n",
      "Data columns (total 19 columns):\n",
      " #   Column                                    Non-Null Count  Dtype         \n",
      "---  ------                                    --------------  -----         \n",
      " 0   id                                        2471 non-null   float64       \n",
      " 1   final_status                              2471 non-null   object        \n",
      " 2   store_address_id                          2440 non-null   float64       \n",
      " 3   customer_id                               2471 non-null   float64       \n",
      " 4   courier_id                                2471 non-null   float64       \n",
      " 5   vertical                                  2471 non-null   object        \n",
      " 6   is_food                                   2471 non-null   float64       \n",
      " 7   transport                                 2471 non-null   object        \n",
      " 8   number_of_assignments                     2471 non-null   float64       \n",
      " 9   total_real_distance                       2471 non-null   float64       \n",
      " 10  activation_time_local                     2471 non-null   datetime64[ns]\n",
      " 11  last_courier_assigned_time                2471 non-null   datetime64[ns]\n",
      " 12  courier_started_order_local               2471 non-null   datetime64[ns]\n",
      " 13  courier_enters_pickup_time_local          2410 non-null   datetime64[ns]\n",
      " 14  pickup_time_local                         2410 non-null   datetime64[ns]\n",
      " 15  courier_enters_delivery_point_time_local  2404 non-null   datetime64[ns]\n",
      " 16  termination_time                          2471 non-null   datetime64[ns]\n",
      " 17  Count                                     0 non-null      float64       \n",
      " 18  Total Time                                2473 non-null   int64         \n",
      "dtypes: datetime64[ns](7), float64(8), int64(1), object(3)\n",
      "memory usage: 367.2+ KB\n"
     ]
    }
   ],
   "source": [
    "df.info()"
   ]
  },
  {
   "cell_type": "code",
   "execution_count": 1331,
   "metadata": {},
   "outputs": [],
   "source": [
    "# Convert final_status to a bool is_canceled_status\n",
    "df[\"is_canceled_status\"] = df.final_status.replace({\"DeliveredStatus\": 0, \"CanceledStatus\": 1})"
   ]
  },
  {
   "cell_type": "code",
   "execution_count": 1332,
   "metadata": {},
   "outputs": [],
   "source": [
    "# Convert is_food to bool\n",
    "df.is_food.replace({1: True, 0: False}, inplace=True)"
   ]
  },
  {
   "cell_type": "code",
   "execution_count": 1333,
   "metadata": {},
   "outputs": [],
   "source": [
    "# Drop empty Count column\n",
    "df.drop(columns=\"Count\", inplace=True)"
   ]
  },
  {
   "cell_type": "code",
   "execution_count": 1334,
   "metadata": {},
   "outputs": [
    {
     "name": "stdout",
     "output_type": "stream",
     "text": [
      "53427130.0    1\n",
      "52315775.0    1\n",
      "53188131.0    1\n",
      "52404788.0    1\n",
      "52858763.0    1\n",
      "             ..\n",
      "52726573.0    1\n",
      "52547021.0    1\n",
      "52715680.0    1\n",
      "52927453.0    1\n",
      "53445295.0    1\n",
      "Name: id, Length: 2471, dtype: int64\n"
     ]
    }
   ],
   "source": [
    "print(df.id.value_counts())\n",
    "# Drop useless id column\n",
    "df.drop(columns=\"id\", inplace=True)"
   ]
  },
  {
   "cell_type": "code",
   "execution_count": 1335,
   "metadata": {},
   "outputs": [
    {
     "data": {
      "text/plain": [
       "final_status                                 2\n",
       "store_address_id                            33\n",
       "customer_id                                  2\n",
       "courier_id                                   2\n",
       "vertical                                     2\n",
       "is_food                                      2\n",
       "transport                                    2\n",
       "number_of_assignments                        2\n",
       "total_real_distance                          2\n",
       "activation_time_local                        2\n",
       "last_courier_assigned_time                   2\n",
       "courier_started_order_local                  2\n",
       "courier_enters_pickup_time_local            63\n",
       "pickup_time_local                           63\n",
       "courier_enters_delivery_point_time_local    69\n",
       "termination_time                             2\n",
       "Total Time                                   0\n",
       "is_canceled_status                           2\n",
       "dtype: int64"
      ]
     },
     "execution_count": 1335,
     "metadata": {},
     "output_type": "execute_result"
    }
   ],
   "source": [
    "df.isnull().sum()"
   ]
  },
  {
   "cell_type": "code",
   "execution_count": 1336,
   "metadata": {},
   "outputs": [
    {
     "data": {
      "text/html": [
       "<div>\n",
       "<style scoped>\n",
       "    .dataframe tbody tr th:only-of-type {\n",
       "        vertical-align: middle;\n",
       "    }\n",
       "\n",
       "    .dataframe tbody tr th {\n",
       "        vertical-align: top;\n",
       "    }\n",
       "\n",
       "    .dataframe thead th {\n",
       "        text-align: right;\n",
       "    }\n",
       "</style>\n",
       "<table border=\"1\" class=\"dataframe\">\n",
       "  <thead>\n",
       "    <tr style=\"text-align: right;\">\n",
       "      <th></th>\n",
       "      <th>final_status</th>\n",
       "      <th>store_address_id</th>\n",
       "      <th>customer_id</th>\n",
       "      <th>courier_id</th>\n",
       "      <th>vertical</th>\n",
       "      <th>is_food</th>\n",
       "      <th>transport</th>\n",
       "      <th>number_of_assignments</th>\n",
       "      <th>total_real_distance</th>\n",
       "      <th>activation_time_local</th>\n",
       "      <th>last_courier_assigned_time</th>\n",
       "      <th>courier_started_order_local</th>\n",
       "      <th>courier_enters_pickup_time_local</th>\n",
       "      <th>pickup_time_local</th>\n",
       "      <th>courier_enters_delivery_point_time_local</th>\n",
       "      <th>termination_time</th>\n",
       "      <th>Total Time</th>\n",
       "      <th>is_canceled_status</th>\n",
       "    </tr>\n",
       "  </thead>\n",
       "  <tbody>\n",
       "    <tr>\n",
       "      <th>93</th>\n",
       "      <td>DeliveredStatus</td>\n",
       "      <td>18300.0</td>\n",
       "      <td>5532020.0</td>\n",
       "      <td>14917583.0</td>\n",
       "      <td>WALL - Partner</td>\n",
       "      <td>True</td>\n",
       "      <td>BICYCLE</td>\n",
       "      <td>2.0</td>\n",
       "      <td>4.871</td>\n",
       "      <td>2019-07-08 22:19:29</td>\n",
       "      <td>2019-07-08 23:01:58</td>\n",
       "      <td>2019-07-08 23:01:58</td>\n",
       "      <td>2019-07-08 22:21:41</td>\n",
       "      <td>2019-07-08 23:13:15</td>\n",
       "      <td>2019-07-08 23:18:01</td>\n",
       "      <td>2019-07-08 23:20:06</td>\n",
       "      <td>0</td>\n",
       "      <td>0.0</td>\n",
       "    </tr>\n",
       "    <tr>\n",
       "      <th>420</th>\n",
       "      <td>DeliveredStatus</td>\n",
       "      <td>18300.0</td>\n",
       "      <td>6699749.0</td>\n",
       "      <td>11951777.0</td>\n",
       "      <td>WALL - Partner</td>\n",
       "      <td>True</td>\n",
       "      <td>BICYCLE</td>\n",
       "      <td>1.0</td>\n",
       "      <td>3.121</td>\n",
       "      <td>2019-07-09 20:48:27</td>\n",
       "      <td>2019-07-09 20:58:50</td>\n",
       "      <td>2019-07-09 20:59:14</td>\n",
       "      <td>2019-07-09 20:48:37</td>\n",
       "      <td>2019-07-09 21:40:42</td>\n",
       "      <td>2019-07-09 21:44:46</td>\n",
       "      <td>2019-07-09 21:48:29</td>\n",
       "      <td>0</td>\n",
       "      <td>0.0</td>\n",
       "    </tr>\n",
       "    <tr>\n",
       "      <th>766</th>\n",
       "      <td>DeliveredStatus</td>\n",
       "      <td>15910.0</td>\n",
       "      <td>18189758.0</td>\n",
       "      <td>16974425.0</td>\n",
       "      <td>WALL - Partner</td>\n",
       "      <td>True</td>\n",
       "      <td>BICYCLE</td>\n",
       "      <td>1.0</td>\n",
       "      <td>3.989</td>\n",
       "      <td>2019-07-10 19:44:28</td>\n",
       "      <td>2019-07-10 19:54:51</td>\n",
       "      <td>2019-07-10 20:06:58</td>\n",
       "      <td>2019-07-10 20:14:31</td>\n",
       "      <td>2019-07-10 20:24:56</td>\n",
       "      <td>2019-07-10 20:41:05</td>\n",
       "      <td>2019-07-10 20:45:25</td>\n",
       "      <td>0</td>\n",
       "      <td>0.0</td>\n",
       "    </tr>\n",
       "    <tr>\n",
       "      <th>857</th>\n",
       "      <td>DeliveredStatus</td>\n",
       "      <td>18300.0</td>\n",
       "      <td>17160338.0</td>\n",
       "      <td>9128251.0</td>\n",
       "      <td>WALL - Partner</td>\n",
       "      <td>True</td>\n",
       "      <td>MOTORBIKE</td>\n",
       "      <td>2.0</td>\n",
       "      <td>2.700</td>\n",
       "      <td>2019-07-12 14:43:14</td>\n",
       "      <td>2019-07-12 15:21:53</td>\n",
       "      <td>2019-07-12 15:22:18</td>\n",
       "      <td>2019-07-12 15:27:50</td>\n",
       "      <td>2019-07-12 15:33:58</td>\n",
       "      <td>2019-07-12 15:39:02</td>\n",
       "      <td>2019-07-12 15:43:37</td>\n",
       "      <td>0</td>\n",
       "      <td>0.0</td>\n",
       "    </tr>\n",
       "    <tr>\n",
       "      <th>966</th>\n",
       "      <td>DeliveredStatus</td>\n",
       "      <td>18300.0</td>\n",
       "      <td>8640677.0</td>\n",
       "      <td>14306599.0</td>\n",
       "      <td>WALL - Partner</td>\n",
       "      <td>True</td>\n",
       "      <td>CAR</td>\n",
       "      <td>1.0</td>\n",
       "      <td>7.138</td>\n",
       "      <td>2019-07-13 22:16:22</td>\n",
       "      <td>2019-07-13 22:37:35</td>\n",
       "      <td>2019-07-13 22:38:00</td>\n",
       "      <td>2019-07-13 22:48:00</td>\n",
       "      <td>2019-07-13 22:56:00</td>\n",
       "      <td>2019-07-13 23:10:00</td>\n",
       "      <td>2019-07-13 23:16:52</td>\n",
       "      <td>0</td>\n",
       "      <td>0.0</td>\n",
       "    </tr>\n",
       "  </tbody>\n",
       "</table>\n",
       "</div>"
      ],
      "text/plain": [
       "        final_status  store_address_id  customer_id  courier_id  \\\n",
       "93   DeliveredStatus           18300.0    5532020.0  14917583.0   \n",
       "420  DeliveredStatus           18300.0    6699749.0  11951777.0   \n",
       "766  DeliveredStatus           15910.0   18189758.0  16974425.0   \n",
       "857  DeliveredStatus           18300.0   17160338.0   9128251.0   \n",
       "966  DeliveredStatus           18300.0    8640677.0  14306599.0   \n",
       "\n",
       "           vertical is_food  transport  number_of_assignments  \\\n",
       "93   WALL - Partner    True    BICYCLE                    2.0   \n",
       "420  WALL - Partner    True    BICYCLE                    1.0   \n",
       "766  WALL - Partner    True    BICYCLE                    1.0   \n",
       "857  WALL - Partner    True  MOTORBIKE                    2.0   \n",
       "966  WALL - Partner    True        CAR                    1.0   \n",
       "\n",
       "     total_real_distance activation_time_local last_courier_assigned_time  \\\n",
       "93                 4.871   2019-07-08 22:19:29        2019-07-08 23:01:58   \n",
       "420                3.121   2019-07-09 20:48:27        2019-07-09 20:58:50   \n",
       "766                3.989   2019-07-10 19:44:28        2019-07-10 19:54:51   \n",
       "857                2.700   2019-07-12 14:43:14        2019-07-12 15:21:53   \n",
       "966                7.138   2019-07-13 22:16:22        2019-07-13 22:37:35   \n",
       "\n",
       "    courier_started_order_local courier_enters_pickup_time_local  \\\n",
       "93          2019-07-08 23:01:58              2019-07-08 22:21:41   \n",
       "420         2019-07-09 20:59:14              2019-07-09 20:48:37   \n",
       "766         2019-07-10 20:06:58              2019-07-10 20:14:31   \n",
       "857         2019-07-12 15:22:18              2019-07-12 15:27:50   \n",
       "966         2019-07-13 22:38:00              2019-07-13 22:48:00   \n",
       "\n",
       "      pickup_time_local courier_enters_delivery_point_time_local  \\\n",
       "93  2019-07-08 23:13:15                      2019-07-08 23:18:01   \n",
       "420 2019-07-09 21:40:42                      2019-07-09 21:44:46   \n",
       "766 2019-07-10 20:24:56                      2019-07-10 20:41:05   \n",
       "857 2019-07-12 15:33:58                      2019-07-12 15:39:02   \n",
       "966 2019-07-13 22:56:00                      2019-07-13 23:10:00   \n",
       "\n",
       "       termination_time  Total Time  is_canceled_status  \n",
       "93  2019-07-08 23:20:06           0                 0.0  \n",
       "420 2019-07-09 21:48:29           0                 0.0  \n",
       "766 2019-07-10 20:45:25           0                 0.0  \n",
       "857 2019-07-12 15:43:37           0                 0.0  \n",
       "966 2019-07-13 23:16:52           0                 0.0  "
      ]
     },
     "metadata": {},
     "output_type": "display_data"
    }
   ],
   "source": [
    "# Total Time seems to have errors, we drop it as we can calculate the total time by subtraction if needed\n",
    "display(df[df[\"Total Time\"]==0].head())\n",
    "df.drop(columns=\"Total Time\", inplace=True)"
   ]
  },
  {
   "cell_type": "code",
   "execution_count": 1337,
   "metadata": {},
   "outputs": [],
   "source": [
    "# Drop rows with all na\n",
    "df.dropna(thresh=6, inplace=True)"
   ]
  },
  {
   "cell_type": "code",
   "execution_count": 1338,
   "metadata": {},
   "outputs": [
    {
     "name": "stdout",
     "output_type": "stream",
     "text": [
      "QUIERO     30\n",
      "COURIER     1\n",
      "Name: vertical, dtype: int64\n",
      "30\n"
     ]
    }
   ],
   "source": [
    "# All missing store_adress_id belong to the QUIERO. Which makes sense. COURIER is probably a mistake?\n",
    "print(df[df.store_address_id.isna()].vertical.value_counts())\n",
    "print(len(df[df.vertical==\"QUIERO\"]))"
   ]
  },
  {
   "cell_type": "code",
   "execution_count": 1339,
   "metadata": {},
   "outputs": [
    {
     "data": {
      "text/plain": [
       "final_status                                 0\n",
       "store_address_id                            11\n",
       "customer_id                                  0\n",
       "courier_id                                   0\n",
       "vertical                                     0\n",
       "is_food                                      0\n",
       "transport                                    0\n",
       "number_of_assignments                        0\n",
       "total_real_distance                          0\n",
       "activation_time_local                        0\n",
       "last_courier_assigned_time                   0\n",
       "courier_started_order_local                  0\n",
       "courier_enters_pickup_time_local            61\n",
       "pickup_time_local                           61\n",
       "courier_enters_delivery_point_time_local    67\n",
       "termination_time                             0\n",
       "is_canceled_status                           0\n",
       "dtype: int64"
      ]
     },
     "execution_count": 1339,
     "metadata": {},
     "output_type": "execute_result"
    }
   ],
   "source": [
    "# All missing time values come from canceled orders. \n",
    "# Since we don't need to apply machine learning techniques, the best is to leave all missing values as nan.\n",
    "df[df.final_status==\"CanceledStatus\"].isna().sum()"
   ]
  },
  {
   "cell_type": "code",
   "execution_count": 1340,
   "metadata": {},
   "outputs": [
    {
     "name": "stdout",
     "output_type": "stream",
     "text": [
      "DeliveredStatus    2389\n",
      "CanceledStatus       82\n",
      "Name: final_status, dtype: int64\n"
     ]
    }
   ],
   "source": [
    "# Some orders must have been canceled after the courier has entered the delivery point...\n",
    "print(df.final_status.value_counts())"
   ]
  },
  {
   "cell_type": "code",
   "execution_count": 1341,
   "metadata": {},
   "outputs": [
    {
     "name": "stdout",
     "output_type": "stream",
     "text": [
      "Number of times orders are canceled after courier enters delivery point: 15\n"
     ]
    },
    {
     "data": {
      "text/html": [
       "<div>\n",
       "<style scoped>\n",
       "    .dataframe tbody tr th:only-of-type {\n",
       "        vertical-align: middle;\n",
       "    }\n",
       "\n",
       "    .dataframe tbody tr th {\n",
       "        vertical-align: top;\n",
       "    }\n",
       "\n",
       "    .dataframe thead th {\n",
       "        text-align: right;\n",
       "    }\n",
       "</style>\n",
       "<table border=\"1\" class=\"dataframe\">\n",
       "  <thead>\n",
       "    <tr style=\"text-align: right;\">\n",
       "      <th></th>\n",
       "      <th>final_status</th>\n",
       "      <th>store_address_id</th>\n",
       "      <th>customer_id</th>\n",
       "      <th>courier_id</th>\n",
       "      <th>vertical</th>\n",
       "      <th>is_food</th>\n",
       "      <th>transport</th>\n",
       "      <th>number_of_assignments</th>\n",
       "      <th>total_real_distance</th>\n",
       "      <th>activation_time_local</th>\n",
       "      <th>last_courier_assigned_time</th>\n",
       "      <th>courier_started_order_local</th>\n",
       "      <th>courier_enters_pickup_time_local</th>\n",
       "      <th>pickup_time_local</th>\n",
       "      <th>courier_enters_delivery_point_time_local</th>\n",
       "      <th>termination_time</th>\n",
       "      <th>is_canceled_status</th>\n",
       "    </tr>\n",
       "  </thead>\n",
       "  <tbody>\n",
       "    <tr>\n",
       "      <th>803</th>\n",
       "      <td>CanceledStatus</td>\n",
       "      <td>50845.0</td>\n",
       "      <td>20619859.0</td>\n",
       "      <td>4055620.0</td>\n",
       "      <td>WALL - Partner</td>\n",
       "      <td>True</td>\n",
       "      <td>MOTORBIKE</td>\n",
       "      <td>5.0</td>\n",
       "      <td>1.727</td>\n",
       "      <td>2019-07-14 22:12:24</td>\n",
       "      <td>2019-07-14 22:49:52</td>\n",
       "      <td>2019-07-14 22:49:52</td>\n",
       "      <td>2019-07-14 22:49:35</td>\n",
       "      <td>2019-07-14 22:55:18</td>\n",
       "      <td>2019-07-14 22:58:58</td>\n",
       "      <td>2019-07-14 23:40:20</td>\n",
       "      <td>1.0</td>\n",
       "    </tr>\n",
       "    <tr>\n",
       "      <th>807</th>\n",
       "      <td>CanceledStatus</td>\n",
       "      <td>85260.0</td>\n",
       "      <td>19568110.0</td>\n",
       "      <td>4055620.0</td>\n",
       "      <td>WALL - Partner</td>\n",
       "      <td>True</td>\n",
       "      <td>MOTORBIKE</td>\n",
       "      <td>1.0</td>\n",
       "      <td>5.749</td>\n",
       "      <td>2019-07-09 19:08:54</td>\n",
       "      <td>2019-07-09 19:09:01</td>\n",
       "      <td>2019-07-09 19:09:13</td>\n",
       "      <td>2019-07-09 19:09:19</td>\n",
       "      <td>2019-07-09 19:13:32</td>\n",
       "      <td>2019-07-09 19:23:10</td>\n",
       "      <td>2019-07-09 19:41:11</td>\n",
       "      <td>1.0</td>\n",
       "    </tr>\n",
       "    <tr>\n",
       "      <th>821</th>\n",
       "      <td>CanceledStatus</td>\n",
       "      <td>90971.0</td>\n",
       "      <td>16253339.0</td>\n",
       "      <td>15058361.0</td>\n",
       "      <td>WALL - Partner</td>\n",
       "      <td>True</td>\n",
       "      <td>BICYCLE</td>\n",
       "      <td>1.0</td>\n",
       "      <td>1.514</td>\n",
       "      <td>2019-07-13 21:19:34</td>\n",
       "      <td>2019-07-13 21:56:28</td>\n",
       "      <td>2019-07-13 22:06:31</td>\n",
       "      <td>2019-07-13 22:11:38</td>\n",
       "      <td>2019-07-13 22:16:22</td>\n",
       "      <td>2019-07-13 22:21:46</td>\n",
       "      <td>2019-07-13 22:26:43</td>\n",
       "      <td>1.0</td>\n",
       "    </tr>\n",
       "  </tbody>\n",
       "</table>\n",
       "</div>"
      ],
      "text/plain": [
       "       final_status  store_address_id  customer_id  courier_id  \\\n",
       "803  CanceledStatus           50845.0   20619859.0   4055620.0   \n",
       "807  CanceledStatus           85260.0   19568110.0   4055620.0   \n",
       "821  CanceledStatus           90971.0   16253339.0  15058361.0   \n",
       "\n",
       "           vertical is_food  transport  number_of_assignments  \\\n",
       "803  WALL - Partner    True  MOTORBIKE                    5.0   \n",
       "807  WALL - Partner    True  MOTORBIKE                    1.0   \n",
       "821  WALL - Partner    True    BICYCLE                    1.0   \n",
       "\n",
       "     total_real_distance activation_time_local last_courier_assigned_time  \\\n",
       "803                1.727   2019-07-14 22:12:24        2019-07-14 22:49:52   \n",
       "807                5.749   2019-07-09 19:08:54        2019-07-09 19:09:01   \n",
       "821                1.514   2019-07-13 21:19:34        2019-07-13 21:56:28   \n",
       "\n",
       "    courier_started_order_local courier_enters_pickup_time_local  \\\n",
       "803         2019-07-14 22:49:52              2019-07-14 22:49:35   \n",
       "807         2019-07-09 19:09:13              2019-07-09 19:09:19   \n",
       "821         2019-07-13 22:06:31              2019-07-13 22:11:38   \n",
       "\n",
       "      pickup_time_local courier_enters_delivery_point_time_local  \\\n",
       "803 2019-07-14 22:55:18                      2019-07-14 22:58:58   \n",
       "807 2019-07-09 19:13:32                      2019-07-09 19:23:10   \n",
       "821 2019-07-13 22:16:22                      2019-07-13 22:21:46   \n",
       "\n",
       "       termination_time  is_canceled_status  \n",
       "803 2019-07-14 23:40:20                 1.0  \n",
       "807 2019-07-09 19:41:11                 1.0  \n",
       "821 2019-07-13 22:26:43                 1.0  "
      ]
     },
     "metadata": {},
     "output_type": "display_data"
    }
   ],
   "source": [
    "# That happened 15 times.\n",
    "canceled_at_delivery_point = df[(df.final_status==\"CanceledStatus\") & ((df.courier_enters_delivery_point_time_local.notnull()))]\n",
    "print(f\"Number of times orders are canceled after courier enters delivery point: {len(canceled_at_delivery_point)}\")\n",
    "display(canceled_at_delivery_point.head(3))"
   ]
  },
  {
   "cell_type": "code",
   "execution_count": 1342,
   "metadata": {},
   "outputs": [
    {
     "data": {
      "text/plain": [
       "16253339.0    1\n",
       "12673402.0    1\n",
       "20619859.0    1\n",
       "Name: customer_id, dtype: int64"
      ]
     },
     "execution_count": 1342,
     "metadata": {},
     "output_type": "execute_result"
    }
   ],
   "source": [
    "# It is not a recurrent issue among customers.\n",
    "canceled_at_delivery_point.customer_id.value_counts().head(3)"
   ]
  },
  {
   "cell_type": "code",
   "execution_count": 1343,
   "metadata": {},
   "outputs": [
    {
     "data": {
      "text/plain": [
       "16327386.0    2\n",
       "14117081.0    2\n",
       "18225713.0    2\n",
       "4055620.0     2\n",
       "15239373.0    1\n",
       "Name: courier_id, dtype: int64"
      ]
     },
     "execution_count": 1343,
     "metadata": {},
     "output_type": "execute_result"
    }
   ],
   "source": [
    "# But out of the 15 cases where this happened, these 4 couriers twice got canceled after delivery.\n",
    "# Maybe some of these couriers refused to take the stairs?\n",
    "# Could be worth investigating with data from past weeks.\n",
    "canceled_at_delivery_point.courier_id.value_counts().head()"
   ]
  },
  {
   "cell_type": "code",
   "execution_count": 1344,
   "metadata": {},
   "outputs": [
    {
     "data": {
      "text/html": [
       "<div>\n",
       "<style scoped>\n",
       "    .dataframe tbody tr th:only-of-type {\n",
       "        vertical-align: middle;\n",
       "    }\n",
       "\n",
       "    .dataframe tbody tr th {\n",
       "        vertical-align: top;\n",
       "    }\n",
       "\n",
       "    .dataframe thead th {\n",
       "        text-align: right;\n",
       "    }\n",
       "</style>\n",
       "<table border=\"1\" class=\"dataframe\">\n",
       "  <thead>\n",
       "    <tr style=\"text-align: right;\">\n",
       "      <th></th>\n",
       "      <th>final_status</th>\n",
       "      <th>store_address_id</th>\n",
       "      <th>customer_id</th>\n",
       "      <th>courier_id</th>\n",
       "      <th>vertical</th>\n",
       "      <th>is_food</th>\n",
       "      <th>transport</th>\n",
       "      <th>number_of_assignments</th>\n",
       "      <th>total_real_distance</th>\n",
       "      <th>activation_time_local</th>\n",
       "      <th>last_courier_assigned_time</th>\n",
       "      <th>courier_started_order_local</th>\n",
       "      <th>courier_enters_pickup_time_local</th>\n",
       "      <th>pickup_time_local</th>\n",
       "      <th>courier_enters_delivery_point_time_local</th>\n",
       "      <th>termination_time</th>\n",
       "      <th>is_canceled_status</th>\n",
       "    </tr>\n",
       "  </thead>\n",
       "  <tbody>\n",
       "    <tr>\n",
       "      <th>0</th>\n",
       "      <td>DeliveredStatus</td>\n",
       "      <td>85260.0</td>\n",
       "      <td>18579597.0</td>\n",
       "      <td>20153483.0</td>\n",
       "      <td>WALL - Partner</td>\n",
       "      <td>True</td>\n",
       "      <td>BICYCLE</td>\n",
       "      <td>1.0</td>\n",
       "      <td>6.029</td>\n",
       "      <td>2019-07-13 13:04:44</td>\n",
       "      <td>2019-07-13 13:05:32</td>\n",
       "      <td>2019-07-13 13:06:49</td>\n",
       "      <td>2019-07-13 13:09:13</td>\n",
       "      <td>2019-07-13 13:28:45</td>\n",
       "      <td>2019-07-13 13:46:58</td>\n",
       "      <td>2019-07-13 13:59:49</td>\n",
       "      <td>0.0</td>\n",
       "    </tr>\n",
       "    <tr>\n",
       "      <th>1</th>\n",
       "      <td>DeliveredStatus</td>\n",
       "      <td>23517.0</td>\n",
       "      <td>11871195.0</td>\n",
       "      <td>20153483.0</td>\n",
       "      <td>WALL - Partner</td>\n",
       "      <td>True</td>\n",
       "      <td>BICYCLE</td>\n",
       "      <td>1.0</td>\n",
       "      <td>3.998</td>\n",
       "      <td>2019-07-12 20:06:29</td>\n",
       "      <td>2019-07-12 20:10:42</td>\n",
       "      <td>2019-07-12 20:11:02</td>\n",
       "      <td>2019-07-12 20:16:05</td>\n",
       "      <td>2019-07-12 20:23:07</td>\n",
       "      <td>2019-07-12 20:37:53</td>\n",
       "      <td>2019-07-12 20:43:01</td>\n",
       "      <td>0.0</td>\n",
       "    </tr>\n",
       "    <tr>\n",
       "      <th>2</th>\n",
       "      <td>DeliveredStatus</td>\n",
       "      <td>18300.0</td>\n",
       "      <td>1053786.0</td>\n",
       "      <td>20153483.0</td>\n",
       "      <td>WALL - Partner</td>\n",
       "      <td>True</td>\n",
       "      <td>BICYCLE</td>\n",
       "      <td>1.0</td>\n",
       "      <td>5.309</td>\n",
       "      <td>2019-07-13 12:14:58</td>\n",
       "      <td>2019-07-13 12:15:44</td>\n",
       "      <td>2019-07-13 12:23:40</td>\n",
       "      <td>2019-07-13 12:45:16</td>\n",
       "      <td>2019-07-13 12:50:09</td>\n",
       "      <td>2019-07-13 12:55:16</td>\n",
       "      <td>2019-07-13 12:59:23</td>\n",
       "      <td>0.0</td>\n",
       "    </tr>\n",
       "  </tbody>\n",
       "</table>\n",
       "</div>"
      ],
      "text/plain": [
       "      final_status  store_address_id  customer_id  courier_id        vertical  \\\n",
       "0  DeliveredStatus           85260.0   18579597.0  20153483.0  WALL - Partner   \n",
       "1  DeliveredStatus           23517.0   11871195.0  20153483.0  WALL - Partner   \n",
       "2  DeliveredStatus           18300.0    1053786.0  20153483.0  WALL - Partner   \n",
       "\n",
       "  is_food transport  number_of_assignments  total_real_distance  \\\n",
       "0    True   BICYCLE                    1.0                6.029   \n",
       "1    True   BICYCLE                    1.0                3.998   \n",
       "2    True   BICYCLE                    1.0                5.309   \n",
       "\n",
       "  activation_time_local last_courier_assigned_time  \\\n",
       "0   2019-07-13 13:04:44        2019-07-13 13:05:32   \n",
       "1   2019-07-12 20:06:29        2019-07-12 20:10:42   \n",
       "2   2019-07-13 12:14:58        2019-07-13 12:15:44   \n",
       "\n",
       "  courier_started_order_local courier_enters_pickup_time_local  \\\n",
       "0         2019-07-13 13:06:49              2019-07-13 13:09:13   \n",
       "1         2019-07-12 20:11:02              2019-07-12 20:16:05   \n",
       "2         2019-07-13 12:23:40              2019-07-13 12:45:16   \n",
       "\n",
       "    pickup_time_local courier_enters_delivery_point_time_local  \\\n",
       "0 2019-07-13 13:28:45                      2019-07-13 13:46:58   \n",
       "1 2019-07-12 20:23:07                      2019-07-12 20:37:53   \n",
       "2 2019-07-13 12:50:09                      2019-07-13 12:55:16   \n",
       "\n",
       "     termination_time  is_canceled_status  \n",
       "0 2019-07-13 13:59:49                 0.0  \n",
       "1 2019-07-12 20:43:01                 0.0  \n",
       "2 2019-07-13 12:59:23                 0.0  "
      ]
     },
     "execution_count": 1344,
     "metadata": {},
     "output_type": "execute_result"
    }
   ],
   "source": [
    "# Clean dataset\n",
    "df.head(3)"
   ]
  },
  {
   "cell_type": "markdown",
   "metadata": {},
   "source": [
    "### Feature Engineering"
   ]
  },
  {
   "cell_type": "code",
   "execution_count": 1345,
   "metadata": {},
   "outputs": [],
   "source": [
    "# is_reassigned: bool variable for reassigned orders\n",
    "df[\"is_reassigned\"] = df.number_of_assignments > 1"
   ]
  },
  {
   "cell_type": "code",
   "execution_count": 1346,
   "metadata": {},
   "outputs": [],
   "source": [
    "# total_time: time elapsed between placing an order and final delivery\n",
    "total_time = df.termination_time - df.activation_time_local\n",
    "df[\"total_time\"] = total_time.astype(\"timedelta64[s]\") / 60"
   ]
  },
  {
   "cell_type": "code",
   "execution_count": 1347,
   "metadata": {},
   "outputs": [],
   "source": [
    "# waiting_time_at_pickup: couriers' idle time waiting to pickup\n",
    "waiting_time_at_pickup = df.pickup_time_local - df.courier_enters_pickup_time_local\n",
    "df[\"waiting_time_at_pickup\"] = waiting_time_at_pickup.astype(\"timedelta64[s]\") / 60"
   ]
  },
  {
   "cell_type": "code",
   "execution_count": 1348,
   "metadata": {},
   "outputs": [],
   "source": [
    "# courier_travel_time: time courier spends traveling\n",
    "courier_total_time = df.courier_enters_delivery_point_time_local - df[[\"last_courier_assigned_time\",\n",
    "                        \"courier_started_order_local\", \"courier_enters_pickup_time_local\"]].min(axis=1) # had to pick the min of the values to avoid errors when couriers forget to start the order\n",
    "df[\"courier_travel_time\"] = courier_total_time.astype(\"timedelta64[s]\") / 60 - df.waiting_time_at_pickup"
   ]
  },
  {
   "cell_type": "code",
   "execution_count": 1349,
   "metadata": {},
   "outputs": [],
   "source": [
    "# courier_speed: speed of courier in km/min\n",
    "df[\"courier_speed\"] = df.total_real_distance / df.courier_travel_time"
   ]
  },
  {
   "cell_type": "code",
   "execution_count": 1350,
   "metadata": {},
   "outputs": [
    {
     "data": {
      "text/html": [
       "<div>\n",
       "<style scoped>\n",
       "    .dataframe tbody tr th:only-of-type {\n",
       "        vertical-align: middle;\n",
       "    }\n",
       "\n",
       "    .dataframe tbody tr th {\n",
       "        vertical-align: top;\n",
       "    }\n",
       "\n",
       "    .dataframe thead th {\n",
       "        text-align: right;\n",
       "    }\n",
       "</style>\n",
       "<table border=\"1\" class=\"dataframe\">\n",
       "  <thead>\n",
       "    <tr style=\"text-align: right;\">\n",
       "      <th></th>\n",
       "      <th>final_status</th>\n",
       "      <th>store_address_id</th>\n",
       "      <th>customer_id</th>\n",
       "      <th>courier_id</th>\n",
       "      <th>vertical</th>\n",
       "      <th>is_food</th>\n",
       "      <th>transport</th>\n",
       "      <th>number_of_assignments</th>\n",
       "      <th>total_real_distance</th>\n",
       "      <th>activation_time_local</th>\n",
       "      <th>...</th>\n",
       "      <th>courier_enters_pickup_time_local</th>\n",
       "      <th>pickup_time_local</th>\n",
       "      <th>courier_enters_delivery_point_time_local</th>\n",
       "      <th>termination_time</th>\n",
       "      <th>is_canceled_status</th>\n",
       "      <th>is_reassigned</th>\n",
       "      <th>total_time</th>\n",
       "      <th>waiting_time_at_pickup</th>\n",
       "      <th>courier_travel_time</th>\n",
       "      <th>courier_speed</th>\n",
       "    </tr>\n",
       "  </thead>\n",
       "  <tbody>\n",
       "    <tr>\n",
       "      <th>0</th>\n",
       "      <td>DeliveredStatus</td>\n",
       "      <td>85260.0</td>\n",
       "      <td>18579597.0</td>\n",
       "      <td>20153483.0</td>\n",
       "      <td>WALL - Partner</td>\n",
       "      <td>True</td>\n",
       "      <td>BICYCLE</td>\n",
       "      <td>1.0</td>\n",
       "      <td>6.029</td>\n",
       "      <td>2019-07-13 13:04:44</td>\n",
       "      <td>...</td>\n",
       "      <td>2019-07-13 13:09:13</td>\n",
       "      <td>2019-07-13 13:28:45</td>\n",
       "      <td>2019-07-13 13:46:58</td>\n",
       "      <td>2019-07-13 13:59:49</td>\n",
       "      <td>0.0</td>\n",
       "      <td>False</td>\n",
       "      <td>55.083333</td>\n",
       "      <td>19.533333</td>\n",
       "      <td>21.90</td>\n",
       "      <td>0.275297</td>\n",
       "    </tr>\n",
       "    <tr>\n",
       "      <th>1</th>\n",
       "      <td>DeliveredStatus</td>\n",
       "      <td>23517.0</td>\n",
       "      <td>11871195.0</td>\n",
       "      <td>20153483.0</td>\n",
       "      <td>WALL - Partner</td>\n",
       "      <td>True</td>\n",
       "      <td>BICYCLE</td>\n",
       "      <td>1.0</td>\n",
       "      <td>3.998</td>\n",
       "      <td>2019-07-12 20:06:29</td>\n",
       "      <td>...</td>\n",
       "      <td>2019-07-12 20:16:05</td>\n",
       "      <td>2019-07-12 20:23:07</td>\n",
       "      <td>2019-07-12 20:37:53</td>\n",
       "      <td>2019-07-12 20:43:01</td>\n",
       "      <td>0.0</td>\n",
       "      <td>False</td>\n",
       "      <td>36.533333</td>\n",
       "      <td>7.033333</td>\n",
       "      <td>20.15</td>\n",
       "      <td>0.198412</td>\n",
       "    </tr>\n",
       "    <tr>\n",
       "      <th>2</th>\n",
       "      <td>DeliveredStatus</td>\n",
       "      <td>18300.0</td>\n",
       "      <td>1053786.0</td>\n",
       "      <td>20153483.0</td>\n",
       "      <td>WALL - Partner</td>\n",
       "      <td>True</td>\n",
       "      <td>BICYCLE</td>\n",
       "      <td>1.0</td>\n",
       "      <td>5.309</td>\n",
       "      <td>2019-07-13 12:14:58</td>\n",
       "      <td>...</td>\n",
       "      <td>2019-07-13 12:45:16</td>\n",
       "      <td>2019-07-13 12:50:09</td>\n",
       "      <td>2019-07-13 12:55:16</td>\n",
       "      <td>2019-07-13 12:59:23</td>\n",
       "      <td>0.0</td>\n",
       "      <td>False</td>\n",
       "      <td>44.416667</td>\n",
       "      <td>4.883333</td>\n",
       "      <td>34.65</td>\n",
       "      <td>0.153218</td>\n",
       "    </tr>\n",
       "  </tbody>\n",
       "</table>\n",
       "<p>3 rows × 22 columns</p>\n",
       "</div>"
      ],
      "text/plain": [
       "      final_status  store_address_id  customer_id  courier_id        vertical  \\\n",
       "0  DeliveredStatus           85260.0   18579597.0  20153483.0  WALL - Partner   \n",
       "1  DeliveredStatus           23517.0   11871195.0  20153483.0  WALL - Partner   \n",
       "2  DeliveredStatus           18300.0    1053786.0  20153483.0  WALL - Partner   \n",
       "\n",
       "  is_food transport  number_of_assignments  total_real_distance  \\\n",
       "0    True   BICYCLE                    1.0                6.029   \n",
       "1    True   BICYCLE                    1.0                3.998   \n",
       "2    True   BICYCLE                    1.0                5.309   \n",
       "\n",
       "  activation_time_local  ... courier_enters_pickup_time_local  \\\n",
       "0   2019-07-13 13:04:44  ...              2019-07-13 13:09:13   \n",
       "1   2019-07-12 20:06:29  ...              2019-07-12 20:16:05   \n",
       "2   2019-07-13 12:14:58  ...              2019-07-13 12:45:16   \n",
       "\n",
       "    pickup_time_local courier_enters_delivery_point_time_local  \\\n",
       "0 2019-07-13 13:28:45                      2019-07-13 13:46:58   \n",
       "1 2019-07-12 20:23:07                      2019-07-12 20:37:53   \n",
       "2 2019-07-13 12:50:09                      2019-07-13 12:55:16   \n",
       "\n",
       "     termination_time is_canceled_status is_reassigned  total_time  \\\n",
       "0 2019-07-13 13:59:49                0.0         False   55.083333   \n",
       "1 2019-07-12 20:43:01                0.0         False   36.533333   \n",
       "2 2019-07-13 12:59:23                0.0         False   44.416667   \n",
       "\n",
       "   waiting_time_at_pickup  courier_travel_time  courier_speed  \n",
       "0               19.533333                21.90       0.275297  \n",
       "1                7.033333                20.15       0.198412  \n",
       "2                4.883333                34.65       0.153218  \n",
       "\n",
       "[3 rows x 22 columns]"
      ]
     },
     "execution_count": 1350,
     "metadata": {},
     "output_type": "execute_result"
    }
   ],
   "source": [
    "# Final working dataset\n",
    "df.head(3)"
   ]
  },
  {
   "cell_type": "markdown",
   "metadata": {},
   "source": [
    "### Exploratory Data Analysis"
   ]
  },
  {
   "cell_type": "markdown",
   "metadata": {},
   "source": [
    "#### final_status"
   ]
  },
  {
   "cell_type": "code",
   "execution_count": 1351,
   "metadata": {},
   "outputs": [
    {
     "data": {
      "image/png": "[encoded data removed]",
      "text/plain": [
       "<Figure size 432x288 with 1 Axes>"
      ]
     },
     "metadata": {},
     "output_type": "display_data"
    }
   ],
   "source": [
    "# 3.3% of orders are canceled\n",
    "final_status_proportion = df.final_status.value_counts(normalize=True)\n",
    "plt.pie(final_status_proportion, labels=final_status_proportion.index, autopct='%.1f%%')\n",
    "plt.show()"
   ]
  },
  {
   "cell_type": "code",
   "execution_count": 1352,
   "metadata": {},
   "outputs": [
    {
     "data": {
      "text/html": [
       "<div>\n",
       "<style scoped>\n",
       "    .dataframe tbody tr th:only-of-type {\n",
       "        vertical-align: middle;\n",
       "    }\n",
       "\n",
       "    .dataframe tbody tr th {\n",
       "        vertical-align: top;\n",
       "    }\n",
       "\n",
       "    .dataframe thead th {\n",
       "        text-align: right;\n",
       "    }\n",
       "</style>\n",
       "<table border=\"1\" class=\"dataframe\">\n",
       "  <thead>\n",
       "    <tr style=\"text-align: right;\">\n",
       "      <th></th>\n",
       "      <th>mean</th>\n",
       "      <th>count</th>\n",
       "    </tr>\n",
       "    <tr>\n",
       "      <th>courier_id</th>\n",
       "      <th></th>\n",
       "      <th></th>\n",
       "    </tr>\n",
       "  </thead>\n",
       "  <tbody>\n",
       "    <tr>\n",
       "      <th>16327386.0</th>\n",
       "      <td>0.500000</td>\n",
       "      <td>12</td>\n",
       "    </tr>\n",
       "    <tr>\n",
       "      <th>20153483.0</th>\n",
       "      <td>0.125000</td>\n",
       "      <td>8</td>\n",
       "    </tr>\n",
       "    <tr>\n",
       "      <th>18225713.0</th>\n",
       "      <td>0.117647</td>\n",
       "      <td>34</td>\n",
       "    </tr>\n",
       "    <tr>\n",
       "      <th>13822458.0</th>\n",
       "      <td>0.111111</td>\n",
       "      <td>9</td>\n",
       "    </tr>\n",
       "    <tr>\n",
       "      <th>2234219.0</th>\n",
       "      <td>0.105263</td>\n",
       "      <td>38</td>\n",
       "    </tr>\n",
       "  </tbody>\n",
       "</table>\n",
       "</div>"
      ],
      "text/plain": [
       "                mean  count\n",
       "courier_id                 \n",
       "16327386.0  0.500000     12\n",
       "20153483.0  0.125000      8\n",
       "18225713.0  0.117647     34\n",
       "13822458.0  0.111111      9\n",
       "2234219.0   0.105263     38"
      ]
     },
     "execution_count": 1352,
     "metadata": {},
     "output_type": "execute_result"
    }
   ],
   "source": [
    "# The following couriers got their orders cancelled more than 10% of the times with at least 5 orders.\n",
    "# courier_id 16327386.0 is an extreme case. His/her ordered canceled 6 out of 12 times. \n",
    "is_canceled_by_courier_id = df.groupby(\"courier_id\").is_canceled_status.agg([\"mean\", \"count\"])\n",
    "is_canceled_by_courier_id[is_canceled_by_courier_id[\"count\"]>5].sort_values(\"mean\", ascending=False).head(5)"
   ]
  },
  {
   "cell_type": "code",
   "execution_count": 1353,
   "metadata": {},
   "outputs": [
    {
     "data": {
      "text/html": [
       "<div>\n",
       "<style scoped>\n",
       "    .dataframe tbody tr th:only-of-type {\n",
       "        vertical-align: middle;\n",
       "    }\n",
       "\n",
       "    .dataframe tbody tr th {\n",
       "        vertical-align: top;\n",
       "    }\n",
       "\n",
       "    .dataframe thead th {\n",
       "        text-align: right;\n",
       "    }\n",
       "</style>\n",
       "<table border=\"1\" class=\"dataframe\">\n",
       "  <thead>\n",
       "    <tr style=\"text-align: right;\">\n",
       "      <th></th>\n",
       "      <th>final_status</th>\n",
       "      <th>store_address_id</th>\n",
       "      <th>customer_id</th>\n",
       "      <th>courier_id</th>\n",
       "      <th>vertical</th>\n",
       "      <th>is_food</th>\n",
       "      <th>transport</th>\n",
       "      <th>number_of_assignments</th>\n",
       "      <th>total_real_distance</th>\n",
       "      <th>activation_time_local</th>\n",
       "      <th>...</th>\n",
       "      <th>courier_enters_pickup_time_local</th>\n",
       "      <th>pickup_time_local</th>\n",
       "      <th>courier_enters_delivery_point_time_local</th>\n",
       "      <th>termination_time</th>\n",
       "      <th>is_canceled_status</th>\n",
       "      <th>is_reassigned</th>\n",
       "      <th>total_time</th>\n",
       "      <th>waiting_time_at_pickup</th>\n",
       "      <th>courier_travel_time</th>\n",
       "      <th>courier_speed</th>\n",
       "    </tr>\n",
       "  </thead>\n",
       "  <tbody>\n",
       "    <tr>\n",
       "      <th>830</th>\n",
       "      <td>DeliveredStatus</td>\n",
       "      <td>18300.0</td>\n",
       "      <td>20343272.0</td>\n",
       "      <td>16327386.0</td>\n",
       "      <td>WALL - Partner</td>\n",
       "      <td>True</td>\n",
       "      <td>MOTORBIKE</td>\n",
       "      <td>1.0</td>\n",
       "      <td>2.638</td>\n",
       "      <td>2019-07-11 20:00:02</td>\n",
       "      <td>...</td>\n",
       "      <td>2019-07-11 20:00:28</td>\n",
       "      <td>2019-07-11 20:15:39</td>\n",
       "      <td>2019-07-11 20:33:09</td>\n",
       "      <td>2019-07-11 20:35:32</td>\n",
       "      <td>0.0</td>\n",
       "      <td>False</td>\n",
       "      <td>35.500000</td>\n",
       "      <td>15.183333</td>\n",
       "      <td>17.533333</td>\n",
       "      <td>0.150456</td>\n",
       "    </tr>\n",
       "    <tr>\n",
       "      <th>831</th>\n",
       "      <td>DeliveredStatus</td>\n",
       "      <td>34476.0</td>\n",
       "      <td>14918928.0</td>\n",
       "      <td>16327386.0</td>\n",
       "      <td>WALL - Partner</td>\n",
       "      <td>True</td>\n",
       "      <td>MOTORBIKE</td>\n",
       "      <td>1.0</td>\n",
       "      <td>3.414</td>\n",
       "      <td>2019-07-11 20:29:17</td>\n",
       "      <td>...</td>\n",
       "      <td>2019-07-11 20:39:29</td>\n",
       "      <td>2019-07-11 20:39:29</td>\n",
       "      <td>2019-07-11 20:39:32</td>\n",
       "      <td>2019-07-11 20:39:34</td>\n",
       "      <td>0.0</td>\n",
       "      <td>False</td>\n",
       "      <td>10.283333</td>\n",
       "      <td>0.000000</td>\n",
       "      <td>3.533333</td>\n",
       "      <td>0.966226</td>\n",
       "    </tr>\n",
       "    <tr>\n",
       "      <th>832</th>\n",
       "      <td>DeliveredStatus</td>\n",
       "      <td>85260.0</td>\n",
       "      <td>2775077.0</td>\n",
       "      <td>16327386.0</td>\n",
       "      <td>WALL - Partner</td>\n",
       "      <td>True</td>\n",
       "      <td>MOTORBIKE</td>\n",
       "      <td>3.0</td>\n",
       "      <td>7.587</td>\n",
       "      <td>2019-07-11 20:25:47</td>\n",
       "      <td>...</td>\n",
       "      <td>2019-07-11 21:15:29</td>\n",
       "      <td>2019-07-11 21:23:24</td>\n",
       "      <td>2019-07-11 21:33:37</td>\n",
       "      <td>2019-07-11 21:36:29</td>\n",
       "      <td>0.0</td>\n",
       "      <td>True</td>\n",
       "      <td>70.700000</td>\n",
       "      <td>7.916667</td>\n",
       "      <td>36.466667</td>\n",
       "      <td>0.208053</td>\n",
       "    </tr>\n",
       "    <tr>\n",
       "      <th>833</th>\n",
       "      <td>CanceledStatus</td>\n",
       "      <td>30640.0</td>\n",
       "      <td>20376131.0</td>\n",
       "      <td>16327386.0</td>\n",
       "      <td>WALL - Partner</td>\n",
       "      <td>True</td>\n",
       "      <td>MOTORBIKE</td>\n",
       "      <td>1.0</td>\n",
       "      <td>1.368</td>\n",
       "      <td>2019-07-09 21:18:15</td>\n",
       "      <td>...</td>\n",
       "      <td>2019-07-09 21:21:55</td>\n",
       "      <td>2019-07-09 21:49:06</td>\n",
       "      <td>2019-07-09 21:53:22</td>\n",
       "      <td>2019-07-09 22:02:34</td>\n",
       "      <td>1.0</td>\n",
       "      <td>False</td>\n",
       "      <td>44.316667</td>\n",
       "      <td>27.183333</td>\n",
       "      <td>5.983333</td>\n",
       "      <td>0.228635</td>\n",
       "    </tr>\n",
       "    <tr>\n",
       "      <th>834</th>\n",
       "      <td>DeliveredStatus</td>\n",
       "      <td>18300.0</td>\n",
       "      <td>2215574.0</td>\n",
       "      <td>16327386.0</td>\n",
       "      <td>WALL - Partner</td>\n",
       "      <td>True</td>\n",
       "      <td>MOTORBIKE</td>\n",
       "      <td>1.0</td>\n",
       "      <td>4.401</td>\n",
       "      <td>2019-07-12 20:38:47</td>\n",
       "      <td>...</td>\n",
       "      <td>2019-07-12 20:38:57</td>\n",
       "      <td>2019-07-12 21:03:39</td>\n",
       "      <td>2019-07-12 21:16:40</td>\n",
       "      <td>2019-07-12 21:18:47</td>\n",
       "      <td>0.0</td>\n",
       "      <td>False</td>\n",
       "      <td>40.000000</td>\n",
       "      <td>24.700000</td>\n",
       "      <td>13.016667</td>\n",
       "      <td>0.338105</td>\n",
       "    </tr>\n",
       "    <tr>\n",
       "      <th>835</th>\n",
       "      <td>DeliveredStatus</td>\n",
       "      <td>48634.0</td>\n",
       "      <td>10401992.0</td>\n",
       "      <td>16327386.0</td>\n",
       "      <td>WALL - Partner</td>\n",
       "      <td>False</td>\n",
       "      <td>MOTORBIKE</td>\n",
       "      <td>1.0</td>\n",
       "      <td>3.326</td>\n",
       "      <td>2019-07-11 20:41:01</td>\n",
       "      <td>...</td>\n",
       "      <td>2019-07-11 20:46:04</td>\n",
       "      <td>2019-07-11 20:49:06</td>\n",
       "      <td>2019-07-11 20:56:03</td>\n",
       "      <td>2019-07-11 21:01:02</td>\n",
       "      <td>0.0</td>\n",
       "      <td>False</td>\n",
       "      <td>20.016667</td>\n",
       "      <td>3.033333</td>\n",
       "      <td>11.933333</td>\n",
       "      <td>0.278715</td>\n",
       "    </tr>\n",
       "    <tr>\n",
       "      <th>836</th>\n",
       "      <td>CanceledStatus</td>\n",
       "      <td>NaN</td>\n",
       "      <td>20373031.0</td>\n",
       "      <td>16327386.0</td>\n",
       "      <td>QUIERO</td>\n",
       "      <td>False</td>\n",
       "      <td>MOTORBIKE</td>\n",
       "      <td>1.0</td>\n",
       "      <td>6.273</td>\n",
       "      <td>2019-07-09 20:04:31</td>\n",
       "      <td>...</td>\n",
       "      <td>2019-07-09 20:06:09</td>\n",
       "      <td>2019-07-09 20:06:09</td>\n",
       "      <td>NaT</td>\n",
       "      <td>2019-07-09 20:46:44</td>\n",
       "      <td>1.0</td>\n",
       "      <td>False</td>\n",
       "      <td>42.216667</td>\n",
       "      <td>0.000000</td>\n",
       "      <td>NaN</td>\n",
       "      <td>NaN</td>\n",
       "    </tr>\n",
       "    <tr>\n",
       "      <th>837</th>\n",
       "      <td>CanceledStatus</td>\n",
       "      <td>18300.0</td>\n",
       "      <td>16962043.0</td>\n",
       "      <td>16327386.0</td>\n",
       "      <td>WALL - Partner</td>\n",
       "      <td>True</td>\n",
       "      <td>MOTORBIKE</td>\n",
       "      <td>1.0</td>\n",
       "      <td>8.779</td>\n",
       "      <td>2019-07-12 21:19:10</td>\n",
       "      <td>...</td>\n",
       "      <td>2019-07-12 21:28:36</td>\n",
       "      <td>2019-07-12 21:56:22</td>\n",
       "      <td>2019-07-12 22:06:56</td>\n",
       "      <td>2019-07-12 22:38:59</td>\n",
       "      <td>1.0</td>\n",
       "      <td>False</td>\n",
       "      <td>79.816667</td>\n",
       "      <td>27.766667</td>\n",
       "      <td>14.233333</td>\n",
       "      <td>0.616792</td>\n",
       "    </tr>\n",
       "    <tr>\n",
       "      <th>838</th>\n",
       "      <td>CanceledStatus</td>\n",
       "      <td>18300.0</td>\n",
       "      <td>19445765.0</td>\n",
       "      <td>16327386.0</td>\n",
       "      <td>WALL - Partner</td>\n",
       "      <td>True</td>\n",
       "      <td>MOTORBIKE</td>\n",
       "      <td>2.0</td>\n",
       "      <td>13.638</td>\n",
       "      <td>2019-07-10 20:35:37</td>\n",
       "      <td>...</td>\n",
       "      <td>NaT</td>\n",
       "      <td>NaT</td>\n",
       "      <td>NaT</td>\n",
       "      <td>2019-07-10 21:32:57</td>\n",
       "      <td>1.0</td>\n",
       "      <td>True</td>\n",
       "      <td>57.333333</td>\n",
       "      <td>NaN</td>\n",
       "      <td>NaN</td>\n",
       "      <td>NaN</td>\n",
       "    </tr>\n",
       "    <tr>\n",
       "      <th>839</th>\n",
       "      <td>DeliveredStatus</td>\n",
       "      <td>18300.0</td>\n",
       "      <td>12891673.0</td>\n",
       "      <td>16327386.0</td>\n",
       "      <td>WALL - Partner</td>\n",
       "      <td>True</td>\n",
       "      <td>MOTORBIKE</td>\n",
       "      <td>1.0</td>\n",
       "      <td>5.310</td>\n",
       "      <td>2019-07-11 21:41:43</td>\n",
       "      <td>...</td>\n",
       "      <td>2019-07-11 21:43:50</td>\n",
       "      <td>2019-07-11 22:18:26</td>\n",
       "      <td>2019-07-11 22:24:20</td>\n",
       "      <td>2019-07-11 22:30:13</td>\n",
       "      <td>0.0</td>\n",
       "      <td>False</td>\n",
       "      <td>48.500000</td>\n",
       "      <td>34.600000</td>\n",
       "      <td>7.583333</td>\n",
       "      <td>0.700220</td>\n",
       "    </tr>\n",
       "    <tr>\n",
       "      <th>840</th>\n",
       "      <td>CanceledStatus</td>\n",
       "      <td>18300.0</td>\n",
       "      <td>11548157.0</td>\n",
       "      <td>16327386.0</td>\n",
       "      <td>WALL - Partner</td>\n",
       "      <td>True</td>\n",
       "      <td>MOTORBIKE</td>\n",
       "      <td>1.0</td>\n",
       "      <td>2.032</td>\n",
       "      <td>2019-07-12 20:01:57</td>\n",
       "      <td>...</td>\n",
       "      <td>NaT</td>\n",
       "      <td>NaT</td>\n",
       "      <td>NaT</td>\n",
       "      <td>2019-07-12 20:08:17</td>\n",
       "      <td>1.0</td>\n",
       "      <td>False</td>\n",
       "      <td>6.333333</td>\n",
       "      <td>NaN</td>\n",
       "      <td>NaN</td>\n",
       "      <td>NaN</td>\n",
       "    </tr>\n",
       "    <tr>\n",
       "      <th>841</th>\n",
       "      <td>CanceledStatus</td>\n",
       "      <td>NaN</td>\n",
       "      <td>20539057.0</td>\n",
       "      <td>16327386.0</td>\n",
       "      <td>QUIERO</td>\n",
       "      <td>False</td>\n",
       "      <td>MOTORBIKE</td>\n",
       "      <td>1.0</td>\n",
       "      <td>5.169</td>\n",
       "      <td>2019-07-13 14:26:38</td>\n",
       "      <td>...</td>\n",
       "      <td>2019-07-13 14:30:25</td>\n",
       "      <td>2019-07-13 14:30:25</td>\n",
       "      <td>NaT</td>\n",
       "      <td>2019-07-13 14:41:33</td>\n",
       "      <td>1.0</td>\n",
       "      <td>False</td>\n",
       "      <td>14.916667</td>\n",
       "      <td>0.000000</td>\n",
       "      <td>NaN</td>\n",
       "      <td>NaN</td>\n",
       "    </tr>\n",
       "  </tbody>\n",
       "</table>\n",
       "<p>12 rows × 22 columns</p>\n",
       "</div>"
      ],
      "text/plain": [
       "        final_status  store_address_id  customer_id  courier_id  \\\n",
       "830  DeliveredStatus           18300.0   20343272.0  16327386.0   \n",
       "831  DeliveredStatus           34476.0   14918928.0  16327386.0   \n",
       "832  DeliveredStatus           85260.0    2775077.0  16327386.0   \n",
       "833   CanceledStatus           30640.0   20376131.0  16327386.0   \n",
       "834  DeliveredStatus           18300.0    2215574.0  16327386.0   \n",
       "835  DeliveredStatus           48634.0   10401992.0  16327386.0   \n",
       "836   CanceledStatus               NaN   20373031.0  16327386.0   \n",
       "837   CanceledStatus           18300.0   16962043.0  16327386.0   \n",
       "838   CanceledStatus           18300.0   19445765.0  16327386.0   \n",
       "839  DeliveredStatus           18300.0   12891673.0  16327386.0   \n",
       "840   CanceledStatus           18300.0   11548157.0  16327386.0   \n",
       "841   CanceledStatus               NaN   20539057.0  16327386.0   \n",
       "\n",
       "           vertical is_food  transport  number_of_assignments  \\\n",
       "830  WALL - Partner    True  MOTORBIKE                    1.0   \n",
       "831  WALL - Partner    True  MOTORBIKE                    1.0   \n",
       "832  WALL - Partner    True  MOTORBIKE                    3.0   \n",
       "833  WALL - Partner    True  MOTORBIKE                    1.0   \n",
       "834  WALL - Partner    True  MOTORBIKE                    1.0   \n",
       "835  WALL - Partner   False  MOTORBIKE                    1.0   \n",
       "836          QUIERO   False  MOTORBIKE                    1.0   \n",
       "837  WALL - Partner    True  MOTORBIKE                    1.0   \n",
       "838  WALL - Partner    True  MOTORBIKE                    2.0   \n",
       "839  WALL - Partner    True  MOTORBIKE                    1.0   \n",
       "840  WALL - Partner    True  MOTORBIKE                    1.0   \n",
       "841          QUIERO   False  MOTORBIKE                    1.0   \n",
       "\n",
       "     total_real_distance activation_time_local  ...  \\\n",
       "830                2.638   2019-07-11 20:00:02  ...   \n",
       "831                3.414   2019-07-11 20:29:17  ...   \n",
       "832                7.587   2019-07-11 20:25:47  ...   \n",
       "833                1.368   2019-07-09 21:18:15  ...   \n",
       "834                4.401   2019-07-12 20:38:47  ...   \n",
       "835                3.326   2019-07-11 20:41:01  ...   \n",
       "836                6.273   2019-07-09 20:04:31  ...   \n",
       "837                8.779   2019-07-12 21:19:10  ...   \n",
       "838               13.638   2019-07-10 20:35:37  ...   \n",
       "839                5.310   2019-07-11 21:41:43  ...   \n",
       "840                2.032   2019-07-12 20:01:57  ...   \n",
       "841                5.169   2019-07-13 14:26:38  ...   \n",
       "\n",
       "    courier_enters_pickup_time_local   pickup_time_local  \\\n",
       "830              2019-07-11 20:00:28 2019-07-11 20:15:39   \n",
       "831              2019-07-11 20:39:29 2019-07-11 20:39:29   \n",
       "832              2019-07-11 21:15:29 2019-07-11 21:23:24   \n",
       "833              2019-07-09 21:21:55 2019-07-09 21:49:06   \n",
       "834              2019-07-12 20:38:57 2019-07-12 21:03:39   \n",
       "835              2019-07-11 20:46:04 2019-07-11 20:49:06   \n",
       "836              2019-07-09 20:06:09 2019-07-09 20:06:09   \n",
       "837              2019-07-12 21:28:36 2019-07-12 21:56:22   \n",
       "838                              NaT                 NaT   \n",
       "839              2019-07-11 21:43:50 2019-07-11 22:18:26   \n",
       "840                              NaT                 NaT   \n",
       "841              2019-07-13 14:30:25 2019-07-13 14:30:25   \n",
       "\n",
       "    courier_enters_delivery_point_time_local    termination_time  \\\n",
       "830                      2019-07-11 20:33:09 2019-07-11 20:35:32   \n",
       "831                      2019-07-11 20:39:32 2019-07-11 20:39:34   \n",
       "832                      2019-07-11 21:33:37 2019-07-11 21:36:29   \n",
       "833                      2019-07-09 21:53:22 2019-07-09 22:02:34   \n",
       "834                      2019-07-12 21:16:40 2019-07-12 21:18:47   \n",
       "835                      2019-07-11 20:56:03 2019-07-11 21:01:02   \n",
       "836                                      NaT 2019-07-09 20:46:44   \n",
       "837                      2019-07-12 22:06:56 2019-07-12 22:38:59   \n",
       "838                                      NaT 2019-07-10 21:32:57   \n",
       "839                      2019-07-11 22:24:20 2019-07-11 22:30:13   \n",
       "840                                      NaT 2019-07-12 20:08:17   \n",
       "841                                      NaT 2019-07-13 14:41:33   \n",
       "\n",
       "    is_canceled_status is_reassigned  total_time  waiting_time_at_pickup  \\\n",
       "830                0.0         False   35.500000               15.183333   \n",
       "831                0.0         False   10.283333                0.000000   \n",
       "832                0.0          True   70.700000                7.916667   \n",
       "833                1.0         False   44.316667               27.183333   \n",
       "834                0.0         False   40.000000               24.700000   \n",
       "835                0.0         False   20.016667                3.033333   \n",
       "836                1.0         False   42.216667                0.000000   \n",
       "837                1.0         False   79.816667               27.766667   \n",
       "838                1.0          True   57.333333                     NaN   \n",
       "839                0.0         False   48.500000               34.600000   \n",
       "840                1.0         False    6.333333                     NaN   \n",
       "841                1.0         False   14.916667                0.000000   \n",
       "\n",
       "     courier_travel_time  courier_speed  \n",
       "830            17.533333       0.150456  \n",
       "831             3.533333       0.966226  \n",
       "832            36.466667       0.208053  \n",
       "833             5.983333       0.228635  \n",
       "834            13.016667       0.338105  \n",
       "835            11.933333       0.278715  \n",
       "836                  NaN            NaN  \n",
       "837            14.233333       0.616792  \n",
       "838                  NaN            NaN  \n",
       "839             7.583333       0.700220  \n",
       "840                  NaN            NaN  \n",
       "841                  NaN            NaN  \n",
       "\n",
       "[12 rows x 22 columns]"
      ]
     },
     "execution_count": 1353,
     "metadata": {},
     "output_type": "execute_result"
    }
   ],
   "source": [
    "# courier_id 16327386.0 shows low speed, long total time, and a few incorrect times.\n",
    "df[df.courier_id==16327386.0]"
   ]
  },
  {
   "cell_type": "code",
   "execution_count": 1354,
   "metadata": {},
   "outputs": [
    {
     "data": {
      "text/plain": [
       "20539057.0    7\n",
       "6124041.0     3\n",
       "17992149.0    2\n",
       "Name: customer_id, dtype: int64"
      ]
     },
     "execution_count": 1354,
     "metadata": {},
     "output_type": "execute_result"
    }
   ],
   "source": [
    "# customer_id 20539057.0 has canceled 7 orders in the past week.\n",
    "df[df.final_status==\"CanceledStatus\"].customer_id.value_counts().head(3)"
   ]
  },
  {
   "cell_type": "code",
   "execution_count": 1355,
   "metadata": {},
   "outputs": [
    {
     "data": {
      "text/html": [
       "<div>\n",
       "<style scoped>\n",
       "    .dataframe tbody tr th:only-of-type {\n",
       "        vertical-align: middle;\n",
       "    }\n",
       "\n",
       "    .dataframe tbody tr th {\n",
       "        vertical-align: top;\n",
       "    }\n",
       "\n",
       "    .dataframe thead th {\n",
       "        text-align: right;\n",
       "    }\n",
       "</style>\n",
       "<table border=\"1\" class=\"dataframe\">\n",
       "  <thead>\n",
       "    <tr style=\"text-align: right;\">\n",
       "      <th></th>\n",
       "      <th>final_status</th>\n",
       "      <th>store_address_id</th>\n",
       "      <th>customer_id</th>\n",
       "      <th>courier_id</th>\n",
       "      <th>vertical</th>\n",
       "      <th>is_food</th>\n",
       "      <th>transport</th>\n",
       "      <th>number_of_assignments</th>\n",
       "      <th>total_real_distance</th>\n",
       "      <th>activation_time_local</th>\n",
       "      <th>...</th>\n",
       "      <th>courier_enters_pickup_time_local</th>\n",
       "      <th>pickup_time_local</th>\n",
       "      <th>courier_enters_delivery_point_time_local</th>\n",
       "      <th>termination_time</th>\n",
       "      <th>is_canceled_status</th>\n",
       "      <th>is_reassigned</th>\n",
       "      <th>total_time</th>\n",
       "      <th>waiting_time_at_pickup</th>\n",
       "      <th>courier_travel_time</th>\n",
       "      <th>courier_speed</th>\n",
       "    </tr>\n",
       "  </thead>\n",
       "  <tbody>\n",
       "    <tr>\n",
       "      <th>841</th>\n",
       "      <td>CanceledStatus</td>\n",
       "      <td>NaN</td>\n",
       "      <td>20539057.0</td>\n",
       "      <td>16327386.0</td>\n",
       "      <td>QUIERO</td>\n",
       "      <td>False</td>\n",
       "      <td>MOTORBIKE</td>\n",
       "      <td>1.0</td>\n",
       "      <td>5.169</td>\n",
       "      <td>2019-07-13 14:26:38</td>\n",
       "      <td>...</td>\n",
       "      <td>2019-07-13 14:30:25</td>\n",
       "      <td>2019-07-13 14:30:25</td>\n",
       "      <td>NaT</td>\n",
       "      <td>2019-07-13 14:41:33</td>\n",
       "      <td>1.0</td>\n",
       "      <td>False</td>\n",
       "      <td>14.916667</td>\n",
       "      <td>0.0</td>\n",
       "      <td>NaN</td>\n",
       "      <td>NaN</td>\n",
       "    </tr>\n",
       "    <tr>\n",
       "      <th>1478</th>\n",
       "      <td>CanceledStatus</td>\n",
       "      <td>NaN</td>\n",
       "      <td>20539057.0</td>\n",
       "      <td>13529777.0</td>\n",
       "      <td>QUIERO</td>\n",
       "      <td>False</td>\n",
       "      <td>CAR</td>\n",
       "      <td>4.0</td>\n",
       "      <td>8.690</td>\n",
       "      <td>2019-07-13 14:27:18</td>\n",
       "      <td>...</td>\n",
       "      <td>NaT</td>\n",
       "      <td>NaT</td>\n",
       "      <td>NaT</td>\n",
       "      <td>2019-07-13 14:43:20</td>\n",
       "      <td>1.0</td>\n",
       "      <td>True</td>\n",
       "      <td>16.033333</td>\n",
       "      <td>NaN</td>\n",
       "      <td>NaN</td>\n",
       "      <td>NaN</td>\n",
       "    </tr>\n",
       "    <tr>\n",
       "      <th>1599</th>\n",
       "      <td>CanceledStatus</td>\n",
       "      <td>NaN</td>\n",
       "      <td>20539057.0</td>\n",
       "      <td>19711951.0</td>\n",
       "      <td>QUIERO</td>\n",
       "      <td>False</td>\n",
       "      <td>MOTORBIKE</td>\n",
       "      <td>1.0</td>\n",
       "      <td>5.040</td>\n",
       "      <td>2019-07-13 14:25:23</td>\n",
       "      <td>...</td>\n",
       "      <td>NaT</td>\n",
       "      <td>NaT</td>\n",
       "      <td>NaT</td>\n",
       "      <td>2019-07-13 14:41:26</td>\n",
       "      <td>1.0</td>\n",
       "      <td>False</td>\n",
       "      <td>16.050000</td>\n",
       "      <td>NaN</td>\n",
       "      <td>NaN</td>\n",
       "      <td>NaN</td>\n",
       "    </tr>\n",
       "    <tr>\n",
       "      <th>1675</th>\n",
       "      <td>CanceledStatus</td>\n",
       "      <td>NaN</td>\n",
       "      <td>20539057.0</td>\n",
       "      <td>6212245.0</td>\n",
       "      <td>QUIERO</td>\n",
       "      <td>False</td>\n",
       "      <td>MOTORBIKE</td>\n",
       "      <td>1.0</td>\n",
       "      <td>5.145</td>\n",
       "      <td>2019-07-13 14:29:31</td>\n",
       "      <td>...</td>\n",
       "      <td>NaT</td>\n",
       "      <td>NaT</td>\n",
       "      <td>NaT</td>\n",
       "      <td>2019-07-13 14:42:07</td>\n",
       "      <td>1.0</td>\n",
       "      <td>False</td>\n",
       "      <td>12.600000</td>\n",
       "      <td>NaN</td>\n",
       "      <td>NaN</td>\n",
       "      <td>NaN</td>\n",
       "    </tr>\n",
       "    <tr>\n",
       "      <th>1676</th>\n",
       "      <td>CanceledStatus</td>\n",
       "      <td>NaN</td>\n",
       "      <td>20539057.0</td>\n",
       "      <td>6212245.0</td>\n",
       "      <td>QUIERO</td>\n",
       "      <td>False</td>\n",
       "      <td>MOTORBIKE</td>\n",
       "      <td>1.0</td>\n",
       "      <td>5.156</td>\n",
       "      <td>2019-07-13 14:24:19</td>\n",
       "      <td>...</td>\n",
       "      <td>NaT</td>\n",
       "      <td>NaT</td>\n",
       "      <td>NaT</td>\n",
       "      <td>2019-07-13 14:36:31</td>\n",
       "      <td>1.0</td>\n",
       "      <td>False</td>\n",
       "      <td>12.200000</td>\n",
       "      <td>NaN</td>\n",
       "      <td>NaN</td>\n",
       "      <td>NaN</td>\n",
       "    </tr>\n",
       "    <tr>\n",
       "      <th>2286</th>\n",
       "      <td>CanceledStatus</td>\n",
       "      <td>NaN</td>\n",
       "      <td>20539057.0</td>\n",
       "      <td>8046350.0</td>\n",
       "      <td>QUIERO</td>\n",
       "      <td>False</td>\n",
       "      <td>MOTORBIKE</td>\n",
       "      <td>2.0</td>\n",
       "      <td>6.606</td>\n",
       "      <td>2019-07-13 14:23:34</td>\n",
       "      <td>...</td>\n",
       "      <td>NaT</td>\n",
       "      <td>NaT</td>\n",
       "      <td>NaT</td>\n",
       "      <td>2019-07-13 14:44:27</td>\n",
       "      <td>1.0</td>\n",
       "      <td>True</td>\n",
       "      <td>20.883333</td>\n",
       "      <td>NaN</td>\n",
       "      <td>NaN</td>\n",
       "      <td>NaN</td>\n",
       "    </tr>\n",
       "    <tr>\n",
       "      <th>2455</th>\n",
       "      <td>CanceledStatus</td>\n",
       "      <td>NaN</td>\n",
       "      <td>20539057.0</td>\n",
       "      <td>19090546.0</td>\n",
       "      <td>QUIERO</td>\n",
       "      <td>False</td>\n",
       "      <td>CAR</td>\n",
       "      <td>1.0</td>\n",
       "      <td>17.887</td>\n",
       "      <td>2019-07-13 14:28:31</td>\n",
       "      <td>...</td>\n",
       "      <td>NaT</td>\n",
       "      <td>NaT</td>\n",
       "      <td>NaT</td>\n",
       "      <td>2019-07-13 14:42:46</td>\n",
       "      <td>1.0</td>\n",
       "      <td>False</td>\n",
       "      <td>14.250000</td>\n",
       "      <td>NaN</td>\n",
       "      <td>NaN</td>\n",
       "      <td>NaN</td>\n",
       "    </tr>\n",
       "  </tbody>\n",
       "</table>\n",
       "<p>7 rows × 22 columns</p>\n",
       "</div>"
      ],
      "text/plain": [
       "        final_status  store_address_id  customer_id  courier_id vertical  \\\n",
       "841   CanceledStatus               NaN   20539057.0  16327386.0   QUIERO   \n",
       "1478  CanceledStatus               NaN   20539057.0  13529777.0   QUIERO   \n",
       "1599  CanceledStatus               NaN   20539057.0  19711951.0   QUIERO   \n",
       "1675  CanceledStatus               NaN   20539057.0   6212245.0   QUIERO   \n",
       "1676  CanceledStatus               NaN   20539057.0   6212245.0   QUIERO   \n",
       "2286  CanceledStatus               NaN   20539057.0   8046350.0   QUIERO   \n",
       "2455  CanceledStatus               NaN   20539057.0  19090546.0   QUIERO   \n",
       "\n",
       "     is_food  transport  number_of_assignments  total_real_distance  \\\n",
       "841    False  MOTORBIKE                    1.0                5.169   \n",
       "1478   False        CAR                    4.0                8.690   \n",
       "1599   False  MOTORBIKE                    1.0                5.040   \n",
       "1675   False  MOTORBIKE                    1.0                5.145   \n",
       "1676   False  MOTORBIKE                    1.0                5.156   \n",
       "2286   False  MOTORBIKE                    2.0                6.606   \n",
       "2455   False        CAR                    1.0               17.887   \n",
       "\n",
       "     activation_time_local  ... courier_enters_pickup_time_local  \\\n",
       "841    2019-07-13 14:26:38  ...              2019-07-13 14:30:25   \n",
       "1478   2019-07-13 14:27:18  ...                              NaT   \n",
       "1599   2019-07-13 14:25:23  ...                              NaT   \n",
       "1675   2019-07-13 14:29:31  ...                              NaT   \n",
       "1676   2019-07-13 14:24:19  ...                              NaT   \n",
       "2286   2019-07-13 14:23:34  ...                              NaT   \n",
       "2455   2019-07-13 14:28:31  ...                              NaT   \n",
       "\n",
       "       pickup_time_local courier_enters_delivery_point_time_local  \\\n",
       "841  2019-07-13 14:30:25                                      NaT   \n",
       "1478                 NaT                                      NaT   \n",
       "1599                 NaT                                      NaT   \n",
       "1675                 NaT                                      NaT   \n",
       "1676                 NaT                                      NaT   \n",
       "2286                 NaT                                      NaT   \n",
       "2455                 NaT                                      NaT   \n",
       "\n",
       "        termination_time is_canceled_status is_reassigned  total_time  \\\n",
       "841  2019-07-13 14:41:33                1.0         False   14.916667   \n",
       "1478 2019-07-13 14:43:20                1.0          True   16.033333   \n",
       "1599 2019-07-13 14:41:26                1.0         False   16.050000   \n",
       "1675 2019-07-13 14:42:07                1.0         False   12.600000   \n",
       "1676 2019-07-13 14:36:31                1.0         False   12.200000   \n",
       "2286 2019-07-13 14:44:27                1.0          True   20.883333   \n",
       "2455 2019-07-13 14:42:46                1.0         False   14.250000   \n",
       "\n",
       "      waiting_time_at_pickup  courier_travel_time  courier_speed  \n",
       "841                      0.0                  NaN            NaN  \n",
       "1478                     NaN                  NaN            NaN  \n",
       "1599                     NaN                  NaN            NaN  \n",
       "1675                     NaN                  NaN            NaN  \n",
       "1676                     NaN                  NaN            NaN  \n",
       "2286                     NaN                  NaN            NaN  \n",
       "2455                     NaN                  NaN            NaN  \n",
       "\n",
       "[7 rows x 22 columns]"
      ]
     },
     "execution_count": 1355,
     "metadata": {},
     "output_type": "execute_result"
    }
   ],
   "source": [
    "# Looks like he/she just mistakenly placed 7 orders at the same time.\n",
    "df[df.customer_id==20539057.0]"
   ]
  },
  {
   "cell_type": "markdown",
   "metadata": {},
   "source": [
    "#### store_address_id"
   ]
  },
  {
   "cell_type": "code",
   "execution_count": 1356,
   "metadata": {},
   "outputs": [
    {
     "data": {
      "text/plain": [
       "count     67.000000\n",
       "mean      36.417910\n",
       "std      123.211342\n",
       "min        1.000000\n",
       "25%        3.500000\n",
       "50%        9.000000\n",
       "75%       22.000000\n",
       "max      977.000000\n",
       "Name: store_address_id, dtype: float64"
      ]
     },
     "execution_count": 1356,
     "metadata": {},
     "output_type": "execute_result"
    }
   ],
   "source": [
    "# There is a huge variance in the number of orders delivered by different stores.\n",
    "df.store_address_id.value_counts().describe()"
   ]
  },
  {
   "cell_type": "code",
   "execution_count": 1357,
   "metadata": {},
   "outputs": [
    {
     "data": {
      "image/png": "[encoded data removed]",
      "text/plain": [
       "<Figure size 432x288 with 1 Axes>"
      ]
     },
     "metadata": {
      "needs_background": "light"
     },
     "output_type": "display_data"
    }
   ],
   "source": [
    "sns.kdeplot(df.store_address_id.value_counts())\n",
    "plt.title(\"PMF of number of orders by store_adress_id\")\n",
    "plt.xlabel(\"Number of orders\")\n",
    "plt.show()"
   ]
  },
  {
   "cell_type": "markdown",
   "metadata": {},
   "source": [
    "#### customer_id"
   ]
  },
  {
   "cell_type": "code",
   "execution_count": 1358,
   "metadata": {},
   "outputs": [
    {
     "data": {
      "text/plain": [
       "count    1891.000000\n",
       "mean        1.306716\n",
       "std         0.790855\n",
       "min         1.000000\n",
       "25%         1.000000\n",
       "50%         1.000000\n",
       "75%         1.000000\n",
       "max        16.000000\n",
       "Name: customer_id, dtype: float64"
      ]
     },
     "execution_count": 1358,
     "metadata": {},
     "output_type": "execute_result"
    }
   ],
   "source": [
    "# On average Glovo customers order 1.3 meals per week.\n",
    "df.customer_id.value_counts().describe()"
   ]
  },
  {
   "cell_type": "code",
   "execution_count": 1359,
   "metadata": {},
   "outputs": [
    {
     "data": {
      "text/plain": [
       "1     1500\n",
       "2      285\n",
       "3       62\n",
       "4       26\n",
       "5       10\n",
       "6        4\n",
       "7        3\n",
       "16       1\n",
       "Name: customer_id, dtype: int64"
      ]
     },
     "execution_count": 1359,
     "metadata": {},
     "output_type": "execute_result"
    }
   ],
   "source": [
    "# Number of customers that placed certain number of weekly orders.\n",
    "df.customer_id.value_counts().value_counts()\n"
   ]
  },
  {
   "cell_type": "code",
   "execution_count": 1360,
   "metadata": {},
   "outputs": [
    {
     "data": {
      "text/plain": [
       "5389187.0    16\n",
       "Name: customer_id, dtype: int64"
      ]
     },
     "execution_count": 1360,
     "metadata": {},
     "output_type": "execute_result"
    }
   ],
   "source": [
    "# And the customer of the week is... 389187.0! With 16 delivered orders. Someone send this man/woman a Glovo t-shirt.\n",
    "df[df.final_status==\"DeliveredStatus\"].customer_id.value_counts().head(1)"
   ]
  },
  {
   "cell_type": "markdown",
   "metadata": {},
   "source": [
    "#### courier_id"
   ]
  },
  {
   "cell_type": "code",
   "execution_count": 1361,
   "metadata": {},
   "outputs": [
    {
     "data": {
      "text/plain": [
       "count     83.000000\n",
       "mean      29.771084\n",
       "std       25.225000\n",
       "min        1.000000\n",
       "25%        9.000000\n",
       "50%       25.000000\n",
       "75%       42.500000\n",
       "max      124.000000\n",
       "Name: courier_id, dtype: float64"
      ]
     },
     "execution_count": 1361,
     "metadata": {},
     "output_type": "execute_result"
    }
   ],
   "source": [
    "# An average courier delivers 30 orders per week, or around 4 per day.\n",
    "df.courier_id.value_counts().describe()"
   ]
  },
  {
   "cell_type": "code",
   "execution_count": 1362,
   "metadata": {},
   "outputs": [
    {
     "data": {
      "image/png": "[encoded data removed]",
      "text/plain": [
       "<Figure size 432x288 with 1 Axes>"
      ]
     },
     "metadata": {
      "needs_background": "light"
     },
     "output_type": "display_data"
    }
   ],
   "source": [
    "# The outliers are likely to be couriers that ride as a full time job.\n",
    "sns.kdeplot(df.courier_id.value_counts())\n",
    "plt.title(\"PMF of number of orders by courier_id\")\n",
    "plt.xlabel(\"Number of orders\")\n",
    "plt.show()"
   ]
  },
  {
   "cell_type": "markdown",
   "metadata": {},
   "source": [
    "#### vertical"
   ]
  },
  {
   "cell_type": "code",
   "execution_count": 1363,
   "metadata": {},
   "outputs": [
    {
     "data": {
      "image/png": "[encoded data removed]",
      "text/plain": [
       "<Figure size 432x288 with 1 Axes>"
      ]
     },
     "metadata": {},
     "output_type": "display_data"
    }
   ],
   "source": [
    "# About 98% of orders come from partner stores.\n",
    "vertical_proportion = df.vertical.value_counts(normalize=True)\n",
    "labels = \"WALL Partner\", \"Other\"\n",
    "sizes = vertical_proportion[0], 1 - vertical_proportion[0]\n",
    "plt.pie(sizes, labels=labels, autopct='%.1f%%')\n",
    "plt.show()"
   ]
  },
  {
   "cell_type": "markdown",
   "metadata": {},
   "source": [
    "#### is_food"
   ]
  },
  {
   "cell_type": "code",
   "execution_count": 1364,
   "metadata": {},
   "outputs": [
    {
     "data": {
      "image/png": "[encoded data removed]",
      "text/plain": [
       "<Figure size 432x288 with 1 Axes>"
      ]
     },
     "metadata": {},
     "output_type": "display_data"
    }
   ],
   "source": [
    "# About 97% of orders are food.\n",
    "is_food_proportion = df.is_food.value_counts(normalize=True)\n",
    "plt.pie(is_food_proportion, labels=is_food_proportion.index, autopct='%.1f%%')\n",
    "plt.title(\"Proportion of food\", size = 12)\n",
    "plt.show()"
   ]
  },
  {
   "cell_type": "markdown",
   "metadata": {},
   "source": [
    "#### transport"
   ]
  },
  {
   "cell_type": "code",
   "execution_count": 1365,
   "metadata": {},
   "outputs": [
    {
     "data": {
      "image/png": "[encoded data removed]",
      "text/plain": [
       "<Figure size 432x288 with 1 Axes>"
      ]
     },
     "metadata": {},
     "output_type": "display_data"
    }
   ],
   "source": [
    "transport_proportion = df.transport.value_counts(normalize=True)\n",
    "plt.pie(transport_proportion, labels=transport_proportion.index, autopct='%.1f%%')\n",
    "plt.title(\"Proportion of orders delivered by transport\", size = 12)\n",
    "plt.show()"
   ]
  },
  {
   "cell_type": "markdown",
   "metadata": {},
   "source": [
    "#### number_of_assignments"
   ]
  },
  {
   "cell_type": "code",
   "execution_count": 1366,
   "metadata": {},
   "outputs": [
    {
     "data": {
      "image/png": "[encoded data removed]",
      "text/plain": [
       "<Figure size 432x288 with 1 Axes>"
      ]
     },
     "metadata": {},
     "output_type": "display_data"
    }
   ],
   "source": [
    "# 13% of orders are reassigned at least once\n",
    "is_reassigned_proportion = df.is_reassigned.value_counts(normalize=True)\n",
    "plt.pie(is_reassigned_proportion, labels=is_reassigned_proportion.index, autopct='%.1f%%')\n",
    "plt.title(\"Proportion of reasigned orders\", size = 12)\n",
    "plt.show()"
   ]
  },
  {
   "cell_type": "code",
   "execution_count": 1367,
   "metadata": {},
   "outputs": [
    {
     "data": {
      "text/plain": [
       "1.0    0.861594\n",
       "2.0    0.110886\n",
       "3.0    0.022663\n",
       "4.0    0.003642\n",
       "6.0    0.000809\n",
       "5.0    0.000405\n",
       "Name: number_of_assignments, dtype: float64"
      ]
     },
     "execution_count": 1367,
     "metadata": {},
     "output_type": "execute_result"
    }
   ],
   "source": [
    "# It is extremely rare that orders are reassigned more than twice\n",
    "df.number_of_assignments.value_counts(normalize=True)"
   ]
  },
  {
   "cell_type": "code",
   "execution_count": 1390,
   "metadata": {},
   "outputs": [
    {
     "data": {
      "image/png": "[encoded data removed]",
      "text/plain": [
       "<Figure size 432x288 with 1 Axes>"
      ]
     },
     "metadata": {
      "needs_background": "light"
     },
     "output_type": "display_data"
    }
   ],
   "source": [
    "# For the numerical values, the number of assigments seem to correlate with longer delivery times and distances, \n",
    "# and canceled orders. \n",
    "df.corr().number_of_assignments.sort_values(ascending=False)[2:].plot(kind=\"bar\")\n",
    "plt.title(\"Correlation of reassigments with other dimensions\", size=14)\n",
    "plt.ylabel(\"Correlation\")\n",
    "plt.axhline(y=-0.001, color='r', linestyle='-')\n",
    "plt.xticks(rotation=70)\n",
    "plt.show()"
   ]
  },
  {
   "cell_type": "code",
   "execution_count": 1391,
   "metadata": {},
   "outputs": [
    {
     "data": {
      "image/png": "[encoded data removed]",
      "text/plain": [
       "<Figure size 432x288 with 1 Axes>"
      ]
     },
     "metadata": {
      "needs_background": "light"
     },
     "output_type": "display_data"
    }
   ],
   "source": [
    "# Looking at the categorical values, we see that reasigned orders tend to be accepted mostly by cars, especially those\n",
    "# orders from the QUIERO and NonPartner verticals. \n",
    "# Seems to indicate that some of these custom orders are not maneagable by bikes or bicycles. \n",
    "df.groupby([\"transport\", \"vertical\"]).is_reassigned.mean().plot(kind=\"bar\")\n",
    "plt.title(\"Proportion of reassigned orders by transport and vertical\", size=14)\n",
    "plt.ylabel(\"Percent (%)\")\n",
    "plt.xticks(rotation=70)\n",
    "plt.show()"
   ]
  },
  {
   "cell_type": "markdown",
   "metadata": {},
   "source": [
    "#### total_real_distance"
   ]
  },
  {
   "cell_type": "code",
   "execution_count": 1370,
   "metadata": {},
   "outputs": [
    {
     "data": {
      "text/plain": [
       "count    2471.000000\n",
       "mean        5.045905\n",
       "std         2.478414\n",
       "min         0.708000\n",
       "25%         3.342000\n",
       "50%         4.560000\n",
       "75%         6.132000\n",
       "max        19.789000\n",
       "Name: total_real_distance, dtype: float64"
      ]
     },
     "execution_count": 1370,
     "metadata": {},
     "output_type": "execute_result"
    }
   ],
   "source": [
    "# On average couriers have to travel 5km to deliver each order\n",
    "df.total_real_distance.describe()"
   ]
  },
  {
   "cell_type": "code",
   "execution_count": 1371,
   "metadata": {},
   "outputs": [
    {
     "data": {
      "image/png": "[encoded data removed]",
      "text/plain": [
       "<Figure size 432x288 with 1 Axes>"
      ]
     },
     "metadata": {
      "needs_background": "light"
     },
     "output_type": "display_data"
    }
   ],
   "source": [
    "sns.kdeplot(df.total_real_distance)\n",
    "plt.title(\"PMF of total_real_distance\")\n",
    "plt.xlabel(\"total_real_distance (km)\")\n",
    "plt.show()"
   ]
  },
  {
   "cell_type": "code",
   "execution_count": 1372,
   "metadata": {},
   "outputs": [
    {
     "data": {
      "image/png": "[encoded data removed]",
      "text/plain": [
       "<Figure size 432x288 with 1 Axes>"
      ]
     },
     "metadata": {
      "needs_background": "light"
     },
     "output_type": "display_data"
    }
   ],
   "source": [
    "# Cars travel the farthest on average\n",
    "df.groupby(\"transport\").total_real_distance.mean().sort_values().plot(kind=\"bar\")\n",
    "plt.title(\"Average distance by transport\")\n",
    "plt.ylabel(\"Distance (km)\")\n",
    "plt.xticks(rotation=0)\n",
    "plt.show()"
   ]
  },
  {
   "cell_type": "markdown",
   "metadata": {},
   "source": [
    "#### total_time"
   ]
  },
  {
   "cell_type": "code",
   "execution_count": 1373,
   "metadata": {},
   "outputs": [
    {
     "data": {
      "text/plain": [
       "count    2471.000000\n",
       "mean       37.950236\n",
       "std        17.378624\n",
       "min         0.266667\n",
       "25%        25.491667\n",
       "50%        34.683333\n",
       "75%        46.258333\n",
       "max       122.583333\n",
       "Name: total_time, dtype: float64"
      ]
     },
     "execution_count": 1373,
     "metadata": {},
     "output_type": "execute_result"
    }
   ],
   "source": [
    "# On average customers get their order in 38 minutes\n",
    "(df.total_time).describe()"
   ]
  },
  {
   "cell_type": "code",
   "execution_count": 1374,
   "metadata": {},
   "outputs": [
    {
     "data": {
      "image/png": "[encoded data removed]",
      "text/plain": [
       "<Figure size 432x288 with 1 Axes>"
      ]
     },
     "metadata": {
      "needs_background": "light"
     },
     "output_type": "display_data"
    }
   ],
   "source": [
    "sns.kdeplot(df.total_time)\n",
    "plt.title(\"PMF of total_time\")\n",
    "plt.xlabel(\"total_time (min)\")\n",
    "plt.show()"
   ]
  },
  {
   "cell_type": "code",
   "execution_count": 1375,
   "metadata": {},
   "outputs": [
    {
     "data": {
      "text/plain": [
       "False    0.8879\n",
       "True     0.1121\n",
       "Name: total_time, dtype: float64"
      ]
     },
     "execution_count": 1375,
     "metadata": {},
     "output_type": "execute_result"
    }
   ],
   "source": [
    "# 11% of orders take over 60 minutes to be delivered\n",
    "(df.total_time>60).value_counts(normalize=True)"
   ]
  },
  {
   "cell_type": "code",
   "execution_count": 1376,
   "metadata": {},
   "outputs": [
    {
     "data": {
      "image/png": "[encoded data removed]",
      "text/plain": [
       "<Figure size 432x288 with 1 Axes>"
      ]
     },
     "metadata": {
      "needs_background": "light"
     },
     "output_type": "display_data"
    }
   ],
   "source": [
    "df.groupby(\"transport\").total_time.mean().sort_values().plot(kind=\"bar\")\n",
    "plt.title(\"Average delivery time by transport\")\n",
    "plt.ylabel(\"Time (min)\")\n",
    "plt.xticks(rotation=0)\n",
    "plt.show()"
   ]
  },
  {
   "cell_type": "markdown",
   "metadata": {},
   "source": [
    "#### waiting_time_at_pickup"
   ]
  },
  {
   "cell_type": "code",
   "execution_count": 1377,
   "metadata": {},
   "outputs": [
    {
     "data": {
      "text/plain": [
       "count    2410.000000\n",
       "mean       15.244315\n",
       "std        12.798476\n",
       "min        -1.833333\n",
       "25%         7.050000\n",
       "50%        11.683333\n",
       "75%        18.700000\n",
       "max        87.233333\n",
       "Name: waiting_time_at_pickup, dtype: float64"
      ]
     },
     "execution_count": 1377,
     "metadata": {},
     "output_type": "execute_result"
    }
   ],
   "source": [
    "# On average couriers wait for 15 minutes at the store for pickup.\n",
    "# There is a large variance and some orders take a very long waiting_time_at_pickup.\n",
    "df.waiting_time_at_pickup.describe()"
   ]
  },
  {
   "cell_type": "code",
   "execution_count": 1378,
   "metadata": {},
   "outputs": [
    {
     "name": "stdout",
     "output_type": "stream",
     "text": [
      "2\n"
     ]
    }
   ],
   "source": [
    "# 2 errors with negative waiting time.\n",
    "# We replace negative waiting time with 0.\n",
    "print((df.waiting_time_at_pickup<0).sum())\n",
    "df.loc[df.waiting_time_at_pickup < 0, \"waiting_time_at_pickup\"] = 0"
   ]
  },
  {
   "cell_type": "code",
   "execution_count": 1379,
   "metadata": {},
   "outputs": [
    {
     "data": {
      "image/png": "[encoded data removed]",
      "text/plain": [
       "<Figure size 432x288 with 1 Axes>"
      ]
     },
     "metadata": {
      "needs_background": "light"
     },
     "output_type": "display_data"
    }
   ],
   "source": [
    "sns.kdeplot(df.waiting_time_at_pickup)\n",
    "plt.title(\"PMF of waiting_time_at_pickup\")\n",
    "plt.xlabel(\"waiting_time_at_pickup (min)\")\n",
    "plt.show()"
   ]
  },
  {
   "cell_type": "code",
   "execution_count": 1380,
   "metadata": {},
   "outputs": [
    {
     "data": {
      "text/html": [
       "<div>\n",
       "<style scoped>\n",
       "    .dataframe tbody tr th:only-of-type {\n",
       "        vertical-align: middle;\n",
       "    }\n",
       "\n",
       "    .dataframe tbody tr th {\n",
       "        vertical-align: top;\n",
       "    }\n",
       "\n",
       "    .dataframe thead th {\n",
       "        text-align: right;\n",
       "    }\n",
       "</style>\n",
       "<table border=\"1\" class=\"dataframe\">\n",
       "  <thead>\n",
       "    <tr style=\"text-align: right;\">\n",
       "      <th></th>\n",
       "      <th>mean</th>\n",
       "      <th>count</th>\n",
       "    </tr>\n",
       "    <tr>\n",
       "      <th>store_address_id</th>\n",
       "      <th></th>\n",
       "      <th></th>\n",
       "    </tr>\n",
       "  </thead>\n",
       "  <tbody>\n",
       "    <tr>\n",
       "      <th>82665.0</th>\n",
       "      <td>20.869231</td>\n",
       "      <td>13</td>\n",
       "    </tr>\n",
       "    <tr>\n",
       "      <th>15910.0</th>\n",
       "      <td>20.415064</td>\n",
       "      <td>52</td>\n",
       "    </tr>\n",
       "    <tr>\n",
       "      <th>74656.0</th>\n",
       "      <td>20.058333</td>\n",
       "      <td>6</td>\n",
       "    </tr>\n",
       "    <tr>\n",
       "      <th>30640.0</th>\n",
       "      <td>19.722148</td>\n",
       "      <td>149</td>\n",
       "    </tr>\n",
       "    <tr>\n",
       "      <th>18300.0</th>\n",
       "      <td>19.103596</td>\n",
       "      <td>964</td>\n",
       "    </tr>\n",
       "  </tbody>\n",
       "</table>\n",
       "</div>"
      ],
      "text/plain": [
       "                       mean  count\n",
       "store_address_id                  \n",
       "82665.0           20.869231     13\n",
       "15910.0           20.415064     52\n",
       "74656.0           20.058333      6\n",
       "30640.0           19.722148    149\n",
       "18300.0           19.103596    964"
      ]
     },
     "execution_count": 1380,
     "metadata": {},
     "output_type": "execute_result"
    }
   ],
   "source": [
    "# These are the stores with at least 5 orders with the highest average waiting time\n",
    "waiting_time_by_store = df.groupby(\"store_address_id\").waiting_time_at_pickup.agg([\"mean\", \"count\"])\n",
    "waiting_time_by_store[waiting_time_by_store[\"count\"]>=5].sort_values(by=\"mean\", ascending=False).head()"
   ]
  },
  {
   "cell_type": "code",
   "execution_count": 1381,
   "metadata": {},
   "outputs": [
    {
     "data": {
      "text/html": [
       "<div>\n",
       "<style scoped>\n",
       "    .dataframe tbody tr th:only-of-type {\n",
       "        vertical-align: middle;\n",
       "    }\n",
       "\n",
       "    .dataframe tbody tr th {\n",
       "        vertical-align: top;\n",
       "    }\n",
       "\n",
       "    .dataframe thead th {\n",
       "        text-align: right;\n",
       "    }\n",
       "</style>\n",
       "<table border=\"1\" class=\"dataframe\">\n",
       "  <thead>\n",
       "    <tr style=\"text-align: right;\">\n",
       "      <th></th>\n",
       "      <th>mean</th>\n",
       "      <th>count</th>\n",
       "    </tr>\n",
       "    <tr>\n",
       "      <th>courier_id</th>\n",
       "      <th></th>\n",
       "      <th></th>\n",
       "    </tr>\n",
       "  </thead>\n",
       "  <tbody>\n",
       "    <tr>\n",
       "      <th>7290210.0</th>\n",
       "      <td>24.511111</td>\n",
       "      <td>18</td>\n",
       "    </tr>\n",
       "    <tr>\n",
       "      <th>8316271.0</th>\n",
       "      <td>24.346667</td>\n",
       "      <td>10</td>\n",
       "    </tr>\n",
       "    <tr>\n",
       "      <th>13822458.0</th>\n",
       "      <td>23.596296</td>\n",
       "      <td>9</td>\n",
       "    </tr>\n",
       "    <tr>\n",
       "      <th>18225711.0</th>\n",
       "      <td>23.594298</td>\n",
       "      <td>38</td>\n",
       "    </tr>\n",
       "    <tr>\n",
       "      <th>17436695.0</th>\n",
       "      <td>23.000000</td>\n",
       "      <td>7</td>\n",
       "    </tr>\n",
       "  </tbody>\n",
       "</table>\n",
       "</div>"
      ],
      "text/plain": [
       "                 mean  count\n",
       "courier_id                  \n",
       "7290210.0   24.511111     18\n",
       "8316271.0   24.346667     10\n",
       "13822458.0  23.596296      9\n",
       "18225711.0  23.594298     38\n",
       "17436695.0  23.000000      7"
      ]
     },
     "execution_count": 1381,
     "metadata": {},
     "output_type": "execute_result"
    }
   ],
   "source": [
    "# Couriers with at least 5 orders with the highest average waiting time\n",
    "waiting_time_by_courier = df.groupby(\"courier_id\").waiting_time_at_pickup.agg([\"mean\", \"count\"])\n",
    "waiting_time_by_courier[waiting_time_by_courier[\"count\"]>=5].sort_values(by=\"mean\", ascending=False).head()"
   ]
  },
  {
   "cell_type": "code",
   "execution_count": 1392,
   "metadata": {},
   "outputs": [
    {
     "data": {
      "image/png": "[encoded data removed]",
      "text/plain": [
       "<Figure size 432x288 with 1 Axes>"
      ]
     },
     "metadata": {
      "needs_background": "light"
     },
     "output_type": "display_data"
    }
   ],
   "source": [
    "# The waiting time at pickup is highly correlated to total_time (as expected), \n",
    "# and also negatively correlated with courier_travel_time, less travel means reaching \n",
    "# the store earlier and thus waiting more.\n",
    "df.corr().waiting_time_at_pickup.sort_values(ascending=False)[1:].plot(kind=\"bar\")\n",
    "plt.title(\"Correlation of waiting time at pickup with other dimensions\", size=14)\n",
    "plt.ylabel(\"Correlation\")\n",
    "plt.axhline(y=-0.001, color='r', linestyle='-')\n",
    "plt.xticks(rotation=70)\n",
    "plt.show()"
   ]
  },
  {
   "cell_type": "markdown",
   "metadata": {},
   "source": [
    "#### courier_travel_time"
   ]
  },
  {
   "cell_type": "code",
   "execution_count": 1382,
   "metadata": {},
   "outputs": [
    {
     "data": {
      "text/plain": [
       "count    2404.000000\n",
       "mean       14.036432\n",
       "std         8.617099\n",
       "min         0.100000\n",
       "25%         7.995833\n",
       "50%        12.016667\n",
       "75%        17.987500\n",
       "max        74.566667\n",
       "Name: courier_travel_time, dtype: float64"
      ]
     },
     "execution_count": 1382,
     "metadata": {},
     "output_type": "execute_result"
    }
   ],
   "source": [
    "# On average couriers spend 14 minutes on traveling alone\n",
    "df.courier_travel_time.describe()"
   ]
  },
  {
   "cell_type": "code",
   "execution_count": 1383,
   "metadata": {},
   "outputs": [
    {
     "data": {
      "image/png": "[encoded data removed]",
      "text/plain": [
       "<Figure size 432x288 with 1 Axes>"
      ]
     },
     "metadata": {
      "needs_background": "light"
     },
     "output_type": "display_data"
    }
   ],
   "source": [
    "sns.kdeplot(df.courier_travel_time)\n",
    "plt.title(\"PMF of courier_travel_time\")\n",
    "plt.xlabel(\"courier_travel_time (min)\")\n",
    "plt.show()"
   ]
  },
  {
   "cell_type": "markdown",
   "metadata": {},
   "source": [
    "#### courier_speed"
   ]
  },
  {
   "cell_type": "code",
   "execution_count": 1384,
   "metadata": {},
   "outputs": [
    {
     "data": {
      "text/plain": [
       "count    2404.000000\n",
       "mean        0.493884\n",
       "std         1.452832\n",
       "min         0.053004\n",
       "25%         0.282404\n",
       "50%         0.377956\n",
       "75%         0.515209\n",
       "max        54.120000\n",
       "Name: courier_speed, dtype: float64"
      ]
     },
     "execution_count": 1384,
     "metadata": {},
     "output_type": "execute_result"
    }
   ],
   "source": [
    "# On average, couriers move at 0.5 km/min.\n",
    "# There are some unrealistic speeds that point at either some errors or possible missuses of the app.\n",
    "df.courier_speed.describe()"
   ]
  },
  {
   "cell_type": "code",
   "execution_count": 1385,
   "metadata": {},
   "outputs": [
    {
     "data": {
      "text/html": [
       "<div>\n",
       "<style scoped>\n",
       "    .dataframe tbody tr th:only-of-type {\n",
       "        vertical-align: middle;\n",
       "    }\n",
       "\n",
       "    .dataframe tbody tr th {\n",
       "        vertical-align: top;\n",
       "    }\n",
       "\n",
       "    .dataframe thead th {\n",
       "        text-align: right;\n",
       "    }\n",
       "</style>\n",
       "<table border=\"1\" class=\"dataframe\">\n",
       "  <thead>\n",
       "    <tr style=\"text-align: right;\">\n",
       "      <th></th>\n",
       "      <th>final_status</th>\n",
       "      <th>store_address_id</th>\n",
       "      <th>customer_id</th>\n",
       "      <th>courier_id</th>\n",
       "      <th>vertical</th>\n",
       "      <th>is_food</th>\n",
       "      <th>transport</th>\n",
       "      <th>number_of_assignments</th>\n",
       "      <th>total_real_distance</th>\n",
       "      <th>activation_time_local</th>\n",
       "      <th>...</th>\n",
       "      <th>courier_enters_pickup_time_local</th>\n",
       "      <th>pickup_time_local</th>\n",
       "      <th>courier_enters_delivery_point_time_local</th>\n",
       "      <th>termination_time</th>\n",
       "      <th>is_canceled_status</th>\n",
       "      <th>is_reassigned</th>\n",
       "      <th>total_time</th>\n",
       "      <th>waiting_time_at_pickup</th>\n",
       "      <th>courier_travel_time</th>\n",
       "      <th>courier_speed</th>\n",
       "    </tr>\n",
       "  </thead>\n",
       "  <tbody>\n",
       "    <tr>\n",
       "      <th>2056</th>\n",
       "      <td>DeliveredStatus</td>\n",
       "      <td>18300.0</td>\n",
       "      <td>16552619.0</td>\n",
       "      <td>16974422.0</td>\n",
       "      <td>WALL - Partner</td>\n",
       "      <td>True</td>\n",
       "      <td>BICYCLE</td>\n",
       "      <td>1.0</td>\n",
       "      <td>5.412</td>\n",
       "      <td>2019-07-09 21:02:12</td>\n",
       "      <td>...</td>\n",
       "      <td>2019-07-09 21:02:12</td>\n",
       "      <td>2019-07-09 22:10:04</td>\n",
       "      <td>2019-07-09 22:10:10</td>\n",
       "      <td>2019-07-09 22:10:15</td>\n",
       "      <td>0.0</td>\n",
       "      <td>False</td>\n",
       "      <td>68.050000</td>\n",
       "      <td>67.866667</td>\n",
       "      <td>0.100000</td>\n",
       "      <td>54.120000</td>\n",
       "    </tr>\n",
       "    <tr>\n",
       "      <th>2204</th>\n",
       "      <td>DeliveredStatus</td>\n",
       "      <td>18300.0</td>\n",
       "      <td>20416485.0</td>\n",
       "      <td>9558769.0</td>\n",
       "      <td>WALL - Partner</td>\n",
       "      <td>True</td>\n",
       "      <td>MOTORBIKE</td>\n",
       "      <td>1.0</td>\n",
       "      <td>5.084</td>\n",
       "      <td>2019-07-10 20:18:11</td>\n",
       "      <td>...</td>\n",
       "      <td>2019-07-10 20:36:42</td>\n",
       "      <td>2019-07-10 21:23:08</td>\n",
       "      <td>2019-07-10 21:23:18</td>\n",
       "      <td>2019-07-10 21:23:28</td>\n",
       "      <td>0.0</td>\n",
       "      <td>False</td>\n",
       "      <td>65.283333</td>\n",
       "      <td>46.433333</td>\n",
       "      <td>0.166667</td>\n",
       "      <td>30.504000</td>\n",
       "    </tr>\n",
       "    <tr>\n",
       "      <th>91</th>\n",
       "      <td>DeliveredStatus</td>\n",
       "      <td>18300.0</td>\n",
       "      <td>5389187.0</td>\n",
       "      <td>14917583.0</td>\n",
       "      <td>WALL - Partner</td>\n",
       "      <td>True</td>\n",
       "      <td>BICYCLE</td>\n",
       "      <td>1.0</td>\n",
       "      <td>3.327</td>\n",
       "      <td>2019-07-08 14:33:10</td>\n",
       "      <td>...</td>\n",
       "      <td>2019-07-08 14:33:17</td>\n",
       "      <td>2019-07-08 14:46:12</td>\n",
       "      <td>2019-07-08 14:46:20</td>\n",
       "      <td>2019-07-08 14:46:28</td>\n",
       "      <td>0.0</td>\n",
       "      <td>False</td>\n",
       "      <td>13.300000</td>\n",
       "      <td>12.916667</td>\n",
       "      <td>0.133333</td>\n",
       "      <td>24.952500</td>\n",
       "    </tr>\n",
       "    <tr>\n",
       "      <th>2427</th>\n",
       "      <td>DeliveredStatus</td>\n",
       "      <td>18300.0</td>\n",
       "      <td>12535717.0</td>\n",
       "      <td>15058366.0</td>\n",
       "      <td>WALL - Partner</td>\n",
       "      <td>True</td>\n",
       "      <td>BICYCLE</td>\n",
       "      <td>1.0</td>\n",
       "      <td>4.423</td>\n",
       "      <td>2019-07-08 19:52:43</td>\n",
       "      <td>...</td>\n",
       "      <td>2019-07-08 19:52:54</td>\n",
       "      <td>2019-07-08 20:11:11</td>\n",
       "      <td>2019-07-08 20:11:23</td>\n",
       "      <td>2019-07-08 20:13:29</td>\n",
       "      <td>0.0</td>\n",
       "      <td>False</td>\n",
       "      <td>20.766667</td>\n",
       "      <td>18.283333</td>\n",
       "      <td>0.200000</td>\n",
       "      <td>22.115000</td>\n",
       "    </tr>\n",
       "    <tr>\n",
       "      <th>2098</th>\n",
       "      <td>DeliveredStatus</td>\n",
       "      <td>18300.0</td>\n",
       "      <td>3939091.0</td>\n",
       "      <td>2234219.0</td>\n",
       "      <td>WALL - Partner</td>\n",
       "      <td>True</td>\n",
       "      <td>MOTORBIKE</td>\n",
       "      <td>2.0</td>\n",
       "      <td>3.830</td>\n",
       "      <td>2019-07-14 21:24:36</td>\n",
       "      <td>...</td>\n",
       "      <td>2019-07-14 21:41:39</td>\n",
       "      <td>2019-07-14 21:41:39</td>\n",
       "      <td>2019-07-14 21:42:20</td>\n",
       "      <td>2019-07-14 21:43:00</td>\n",
       "      <td>0.0</td>\n",
       "      <td>True</td>\n",
       "      <td>18.400000</td>\n",
       "      <td>0.000000</td>\n",
       "      <td>0.683333</td>\n",
       "      <td>5.604878</td>\n",
       "    </tr>\n",
       "  </tbody>\n",
       "</table>\n",
       "<p>5 rows × 22 columns</p>\n",
       "</div>"
      ],
      "text/plain": [
       "         final_status  store_address_id  customer_id  courier_id  \\\n",
       "2056  DeliveredStatus           18300.0   16552619.0  16974422.0   \n",
       "2204  DeliveredStatus           18300.0   20416485.0   9558769.0   \n",
       "91    DeliveredStatus           18300.0    5389187.0  14917583.0   \n",
       "2427  DeliveredStatus           18300.0   12535717.0  15058366.0   \n",
       "2098  DeliveredStatus           18300.0    3939091.0   2234219.0   \n",
       "\n",
       "            vertical is_food  transport  number_of_assignments  \\\n",
       "2056  WALL - Partner    True    BICYCLE                    1.0   \n",
       "2204  WALL - Partner    True  MOTORBIKE                    1.0   \n",
       "91    WALL - Partner    True    BICYCLE                    1.0   \n",
       "2427  WALL - Partner    True    BICYCLE                    1.0   \n",
       "2098  WALL - Partner    True  MOTORBIKE                    2.0   \n",
       "\n",
       "      total_real_distance activation_time_local  ...  \\\n",
       "2056                5.412   2019-07-09 21:02:12  ...   \n",
       "2204                5.084   2019-07-10 20:18:11  ...   \n",
       "91                  3.327   2019-07-08 14:33:10  ...   \n",
       "2427                4.423   2019-07-08 19:52:43  ...   \n",
       "2098                3.830   2019-07-14 21:24:36  ...   \n",
       "\n",
       "     courier_enters_pickup_time_local   pickup_time_local  \\\n",
       "2056              2019-07-09 21:02:12 2019-07-09 22:10:04   \n",
       "2204              2019-07-10 20:36:42 2019-07-10 21:23:08   \n",
       "91                2019-07-08 14:33:17 2019-07-08 14:46:12   \n",
       "2427              2019-07-08 19:52:54 2019-07-08 20:11:11   \n",
       "2098              2019-07-14 21:41:39 2019-07-14 21:41:39   \n",
       "\n",
       "     courier_enters_delivery_point_time_local    termination_time  \\\n",
       "2056                      2019-07-09 22:10:10 2019-07-09 22:10:15   \n",
       "2204                      2019-07-10 21:23:18 2019-07-10 21:23:28   \n",
       "91                        2019-07-08 14:46:20 2019-07-08 14:46:28   \n",
       "2427                      2019-07-08 20:11:23 2019-07-08 20:13:29   \n",
       "2098                      2019-07-14 21:42:20 2019-07-14 21:43:00   \n",
       "\n",
       "     is_canceled_status is_reassigned  total_time  waiting_time_at_pickup  \\\n",
       "2056                0.0         False   68.050000               67.866667   \n",
       "2204                0.0         False   65.283333               46.433333   \n",
       "91                  0.0         False   13.300000               12.916667   \n",
       "2427                0.0         False   20.766667               18.283333   \n",
       "2098                0.0          True   18.400000                0.000000   \n",
       "\n",
       "      courier_travel_time  courier_speed  \n",
       "2056             0.100000      54.120000  \n",
       "2204             0.166667      30.504000  \n",
       "91               0.133333      24.952500  \n",
       "2427             0.200000      22.115000  \n",
       "2098             0.683333       5.604878  \n",
       "\n",
       "[5 rows x 22 columns]"
      ]
     },
     "execution_count": 1385,
     "metadata": {},
     "output_type": "execute_result"
    }
   ],
   "source": [
    "# Some couriers do not confirm the pickup at the time they pickup the order, which explains the \n",
    "# unrealistic speeds and the large waiting_time_at_pickup on some orders that we saw on a previous chart.\n",
    "df.sort_values(by=\"courier_speed\", ascending=False).head()"
   ]
  },
  {
   "cell_type": "code",
   "execution_count": 1386,
   "metadata": {},
   "outputs": [
    {
     "data": {
      "text/plain": [
       "14917583.0    11\n",
       "18225711.0     6\n",
       "14547214.0     5\n",
       "4055620.0      4\n",
       "15239373.0     4\n",
       "18225713.0     4\n",
       "Name: courier_id, dtype: int64"
      ]
     },
     "execution_count": 1386,
     "metadata": {},
     "output_type": "execute_result"
    }
   ],
   "source": [
    "# We set the realistic speed threshold at 1 km / min. \n",
    "# These are the couriers ids that have reported an unrealistic speed more than 4 times. We could send them a \n",
    "# remainder that they need to confirm the order and the pickup from the store.\n",
    "unrealistic_run_by_courier = df[df.courier_speed>1].courier_id.value_counts()\n",
    "unrealistic_run_by_courier[unrealistic_run_by_courier>3]"
   ]
  },
  {
   "cell_type": "code",
   "execution_count": 1387,
   "metadata": {},
   "outputs": [
    {
     "data": {
      "image/png": "[encoded data removed]",
      "text/plain": [
       "<Figure size 432x288 with 1 Axes>"
      ]
     },
     "metadata": {
      "needs_background": "light"
     },
     "output_type": "display_data"
    }
   ],
   "source": [
    "# The speed of the couriers is key to avoid canceled orders\n",
    "df.groupby(\"final_status\").courier_speed.mean().sort_values().plot(kind=\"bar\")\n",
    "plt.title(\"Average courier speed by final_status\")\n",
    "plt.ylabel(\"Courier Speed (km/min)\")\n",
    "plt.xticks(rotation=0)\n",
    "plt.show()"
   ]
  },
  {
   "cell_type": "markdown",
   "metadata": {},
   "source": [
    "#### Correlation Matrix"
   ]
  },
  {
   "cell_type": "code",
   "execution_count": 1388,
   "metadata": {},
   "outputs": [],
   "source": [
    "# Transform bool and binary categorical variables to calculate the corr to other variables\n",
    "corr_df = df.copy()\n",
    "corr_df.is_food.replace({True: 1, False: 0}, inplace=True)\n",
    "corr_df[\"is_canceled_status\"] = corr_df.final_status.replace({\"DeliveredStatus\": 0, \"CanceledStatus\": 1})"
   ]
  },
  {
   "cell_type": "code",
   "execution_count": 1389,
   "metadata": {},
   "outputs": [
    {
     "data": {
      "image/png": "[encoded data removed]",
      "text/plain": [
       "<Figure size 720x576 with 2 Axes>"
      ]
     },
     "metadata": {
      "needs_background": "light"
     },
     "output_type": "display_data"
    }
   ],
   "source": [
    "plt.figure(figsize=(10, 8))\n",
    "corrMatrix = corr_df.corr()\n",
    "sns.heatmap(corrMatrix, annot=True)\n",
    "plt.title(\"Correlation Matrix\")\n",
    "plt.show()"
   ]
  },
  {
   "cell_type": "markdown",
   "metadata": {},
   "source": [
    "Some learnings from the correlation matrix not mentioned yet:\n",
    "\n",
    "- Correlations are not strong\n",
    "- Non-food orders get canceled more\n",
    "- total_time is much more correlated to waiting times at pickup rather than slow courier speeds."
   ]
  }
 ],
 "metadata": {
  "kernelspec": {
   "display_name": "Python 3.8.8 ('base')",
   "language": "python",
   "name": "python3"
  },
  "language_info": {
   "codemirror_mode": {
    "name": "ipython",
    "version": 3
   },
   "file_extension": ".py",
   "mimetype": "text/x-python",
   "name": "python",
   "nbconvert_exporter": "python",
   "pygments_lexer": "ipython3",
   "version": "3.8.8"
  },
  "orig_nbformat": 4,
  "vscode": {
   "interpreter": {
    "hash": "74609ea32c075f5c8e96a18961956eadb9a9347b199f0247ab8ad93a9d4aa1e3"
   }
  }
 },
 "nbformat": 4,
 "nbformat_minor": 2
}

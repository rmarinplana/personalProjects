{
 "cells": [
  {
   "cell_type": "markdown",
   "metadata": {},
   "source": [
    "### Packages"
   ]
  },
  {
   "cell_type": "code",
   "execution_count": 4,
   "metadata": {},
   "outputs": [],
   "source": [
    "# Import packages\n",
    "\n",
    "# Basic\n",
    "import pandas as pd\n",
    "import numpy as np\n",
    "import matplotlib.pyplot as plt\n",
    "import seaborn as sns\n",
    "\n",
    "# Configuration\n",
    "import warnings\n",
    "warnings.filterwarnings(\"ignore\")\n",
    "warnings.simplefilter(action='ignore', category=FutureWarning)"
   ]
  },
  {
   "cell_type": "markdown",
   "metadata": {},
   "source": [
    "### Import Data"
   ]
  },
  {
   "cell_type": "code",
   "execution_count": 5,
   "metadata": {},
   "outputs": [
    {
     "data": {
      "text/html": [
       "<div>\n",
       "<style scoped>\n",
       "    .dataframe tbody tr th:only-of-type {\n",
       "        vertical-align: middle;\n",
       "    }\n",
       "\n",
       "    .dataframe tbody tr th {\n",
       "        vertical-align: top;\n",
       "    }\n",
       "\n",
       "    .dataframe thead th {\n",
       "        text-align: right;\n",
       "    }\n",
       "</style>\n",
       "<table border=\"1\" class=\"dataframe\">\n",
       "  <thead>\n",
       "    <tr style=\"text-align: right;\">\n",
       "      <th></th>\n",
       "      <th>id</th>\n",
       "      <th>final_status</th>\n",
       "      <th>store_address_id</th>\n",
       "      <th>customer_id</th>\n",
       "      <th>courier_id</th>\n",
       "      <th>vertical</th>\n",
       "      <th>is_food</th>\n",
       "      <th>transport</th>\n",
       "      <th>number_of_assignments</th>\n",
       "      <th>total_real_distance</th>\n",
       "      <th>activation_time_local</th>\n",
       "      <th>last_courier_assigned_time</th>\n",
       "      <th>courier_started_order_local</th>\n",
       "      <th>courier_enters_pickup_time_local</th>\n",
       "      <th>pickup_time_local</th>\n",
       "      <th>courier_enters_delivery_point_time_local</th>\n",
       "      <th>termination_time</th>\n",
       "      <th>Count</th>\n",
       "      <th>Total Time</th>\n",
       "    </tr>\n",
       "  </thead>\n",
       "  <tbody>\n",
       "    <tr>\n",
       "      <th>0</th>\n",
       "      <td>53134335.0</td>\n",
       "      <td>DeliveredStatus</td>\n",
       "      <td>85260.0</td>\n",
       "      <td>18579597.0</td>\n",
       "      <td>20153483.0</td>\n",
       "      <td>WALL - Partner</td>\n",
       "      <td>1.0</td>\n",
       "      <td>BICYCLE</td>\n",
       "      <td>1.0</td>\n",
       "      <td>6.029</td>\n",
       "      <td>2019-07-13 13:04:44</td>\n",
       "      <td>2019-07-13 13:05:32</td>\n",
       "      <td>2019-07-13 13:06:49</td>\n",
       "      <td>2019-07-13 13:09:13</td>\n",
       "      <td>2019-07-13 13:28:45</td>\n",
       "      <td>2019-07-13 13:46:58</td>\n",
       "      <td>2019-07-13 13:59:49</td>\n",
       "      <td>NaN</td>\n",
       "      <td>55</td>\n",
       "    </tr>\n",
       "    <tr>\n",
       "      <th>1</th>\n",
       "      <td>53009545.0</td>\n",
       "      <td>DeliveredStatus</td>\n",
       "      <td>23517.0</td>\n",
       "      <td>11871195.0</td>\n",
       "      <td>20153483.0</td>\n",
       "      <td>WALL - Partner</td>\n",
       "      <td>1.0</td>\n",
       "      <td>BICYCLE</td>\n",
       "      <td>1.0</td>\n",
       "      <td>3.998</td>\n",
       "      <td>2019-07-12 20:06:29</td>\n",
       "      <td>2019-07-12 20:10:42</td>\n",
       "      <td>2019-07-12 20:11:02</td>\n",
       "      <td>2019-07-12 20:16:05</td>\n",
       "      <td>2019-07-12 20:23:07</td>\n",
       "      <td>2019-07-12 20:37:53</td>\n",
       "      <td>2019-07-12 20:43:01</td>\n",
       "      <td>NaN</td>\n",
       "      <td>36</td>\n",
       "    </tr>\n",
       "    <tr>\n",
       "      <th>2</th>\n",
       "      <td>53129297.0</td>\n",
       "      <td>DeliveredStatus</td>\n",
       "      <td>18300.0</td>\n",
       "      <td>1053786.0</td>\n",
       "      <td>20153483.0</td>\n",
       "      <td>WALL - Partner</td>\n",
       "      <td>1.0</td>\n",
       "      <td>BICYCLE</td>\n",
       "      <td>1.0</td>\n",
       "      <td>5.309</td>\n",
       "      <td>2019-07-13 12:14:58</td>\n",
       "      <td>2019-07-13 12:15:44</td>\n",
       "      <td>2019-07-13 12:23:40</td>\n",
       "      <td>2019-07-13 12:45:16</td>\n",
       "      <td>2019-07-13 12:50:09</td>\n",
       "      <td>2019-07-13 12:55:16</td>\n",
       "      <td>2019-07-13 12:59:23</td>\n",
       "      <td>NaN</td>\n",
       "      <td>44</td>\n",
       "    </tr>\n",
       "    <tr>\n",
       "      <th>3</th>\n",
       "      <td>53235752.0</td>\n",
       "      <td>CanceledStatus</td>\n",
       "      <td>85260.0</td>\n",
       "      <td>20466508.0</td>\n",
       "      <td>20153483.0</td>\n",
       "      <td>WALL - Partner</td>\n",
       "      <td>1.0</td>\n",
       "      <td>BICYCLE</td>\n",
       "      <td>1.0</td>\n",
       "      <td>6.429</td>\n",
       "      <td>2019-07-13 21:55:58</td>\n",
       "      <td>2019-07-13 22:24:58</td>\n",
       "      <td>2019-07-13 22:24:58</td>\n",
       "      <td>NaT</td>\n",
       "      <td>NaT</td>\n",
       "      <td>NaT</td>\n",
       "      <td>2019-07-13 22:25:15</td>\n",
       "      <td>NaN</td>\n",
       "      <td>29</td>\n",
       "    </tr>\n",
       "    <tr>\n",
       "      <th>4</th>\n",
       "      <td>53002671.0</td>\n",
       "      <td>DeliveredStatus</td>\n",
       "      <td>15912.0</td>\n",
       "      <td>16549489.0</td>\n",
       "      <td>20153483.0</td>\n",
       "      <td>WALL - Partner</td>\n",
       "      <td>1.0</td>\n",
       "      <td>BICYCLE</td>\n",
       "      <td>1.0</td>\n",
       "      <td>3.442</td>\n",
       "      <td>2019-07-12 19:40:13</td>\n",
       "      <td>2019-07-12 19:41:14</td>\n",
       "      <td>2019-07-12 19:42:34</td>\n",
       "      <td>2019-07-12 19:46:28</td>\n",
       "      <td>2019-07-12 19:56:59</td>\n",
       "      <td>2019-07-12 20:07:08</td>\n",
       "      <td>2019-07-12 20:10:37</td>\n",
       "      <td>NaN</td>\n",
       "      <td>30</td>\n",
       "    </tr>\n",
       "  </tbody>\n",
       "</table>\n",
       "</div>"
      ],
      "text/plain": [
       "           id     final_status  store_address_id  customer_id  courier_id  \\\n",
       "0  53134335.0  DeliveredStatus           85260.0   18579597.0  20153483.0   \n",
       "1  53009545.0  DeliveredStatus           23517.0   11871195.0  20153483.0   \n",
       "2  53129297.0  DeliveredStatus           18300.0    1053786.0  20153483.0   \n",
       "3  53235752.0   CanceledStatus           85260.0   20466508.0  20153483.0   \n",
       "4  53002671.0  DeliveredStatus           15912.0   16549489.0  20153483.0   \n",
       "\n",
       "         vertical  is_food transport  number_of_assignments  \\\n",
       "0  WALL - Partner      1.0   BICYCLE                    1.0   \n",
       "1  WALL - Partner      1.0   BICYCLE                    1.0   \n",
       "2  WALL - Partner      1.0   BICYCLE                    1.0   \n",
       "3  WALL - Partner      1.0   BICYCLE                    1.0   \n",
       "4  WALL - Partner      1.0   BICYCLE                    1.0   \n",
       "\n",
       "   total_real_distance activation_time_local last_courier_assigned_time  \\\n",
       "0                6.029   2019-07-13 13:04:44        2019-07-13 13:05:32   \n",
       "1                3.998   2019-07-12 20:06:29        2019-07-12 20:10:42   \n",
       "2                5.309   2019-07-13 12:14:58        2019-07-13 12:15:44   \n",
       "3                6.429   2019-07-13 21:55:58        2019-07-13 22:24:58   \n",
       "4                3.442   2019-07-12 19:40:13        2019-07-12 19:41:14   \n",
       "\n",
       "  courier_started_order_local courier_enters_pickup_time_local  \\\n",
       "0         2019-07-13 13:06:49              2019-07-13 13:09:13   \n",
       "1         2019-07-12 20:11:02              2019-07-12 20:16:05   \n",
       "2         2019-07-13 12:23:40              2019-07-13 12:45:16   \n",
       "3         2019-07-13 22:24:58                              NaT   \n",
       "4         2019-07-12 19:42:34              2019-07-12 19:46:28   \n",
       "\n",
       "    pickup_time_local courier_enters_delivery_point_time_local  \\\n",
       "0 2019-07-13 13:28:45                      2019-07-13 13:46:58   \n",
       "1 2019-07-12 20:23:07                      2019-07-12 20:37:53   \n",
       "2 2019-07-13 12:50:09                      2019-07-13 12:55:16   \n",
       "3                 NaT                                      NaT   \n",
       "4 2019-07-12 19:56:59                      2019-07-12 20:07:08   \n",
       "\n",
       "     termination_time  Count  Total Time  \n",
       "0 2019-07-13 13:59:49    NaN          55  \n",
       "1 2019-07-12 20:43:01    NaN          36  \n",
       "2 2019-07-13 12:59:23    NaN          44  \n",
       "3 2019-07-13 22:25:15    NaN          29  \n",
       "4 2019-07-12 20:10:37    NaN          30  "
      ]
     },
     "execution_count": 5,
     "metadata": {},
     "output_type": "execute_result"
    }
   ],
   "source": [
    "df = pd.read_excel(\"Data_sample_(5).xlsx\", usecols=range(19))\n",
    "df.head()"
   ]
  },
  {
   "cell_type": "markdown",
   "metadata": {},
   "source": [
    "### Data Cleaning"
   ]
  },
  {
   "cell_type": "code",
   "execution_count": 6,
   "metadata": {},
   "outputs": [
    {
     "name": "stdout",
     "output_type": "stream",
     "text": [
      "<class 'pandas.core.frame.DataFrame'>\n",
      "RangeIndex: 2473 entries, 0 to 2472\n",
      "Data columns (total 19 columns):\n",
      " #   Column                                    Non-Null Count  Dtype         \n",
      "---  ------                                    --------------  -----         \n",
      " 0   id                                        2471 non-null   float64       \n",
      " 1   final_status                              2471 non-null   object        \n",
      " 2   store_address_id                          2440 non-null   float64       \n",
      " 3   customer_id                               2471 non-null   float64       \n",
      " 4   courier_id                                2471 non-null   float64       \n",
      " 5   vertical                                  2471 non-null   object        \n",
      " 6   is_food                                   2471 non-null   float64       \n",
      " 7   transport                                 2471 non-null   object        \n",
      " 8   number_of_assignments                     2471 non-null   float64       \n",
      " 9   total_real_distance                       2471 non-null   float64       \n",
      " 10  activation_time_local                     2471 non-null   datetime64[ns]\n",
      " 11  last_courier_assigned_time                2471 non-null   datetime64[ns]\n",
      " 12  courier_started_order_local               2471 non-null   datetime64[ns]\n",
      " 13  courier_enters_pickup_time_local          2410 non-null   datetime64[ns]\n",
      " 14  pickup_time_local                         2410 non-null   datetime64[ns]\n",
      " 15  courier_enters_delivery_point_time_local  2404 non-null   datetime64[ns]\n",
      " 16  termination_time                          2471 non-null   datetime64[ns]\n",
      " 17  Count                                     0 non-null      float64       \n",
      " 18  Total Time                                2473 non-null   int64         \n",
      "dtypes: datetime64[ns](7), float64(8), int64(1), object(3)\n",
      "memory usage: 367.2+ KB\n"
     ]
    }
   ],
   "source": [
    "df.info()"
   ]
  },
  {
   "cell_type": "code",
   "execution_count": 7,
   "metadata": {},
   "outputs": [],
   "source": [
    "# Convert is_food to bool\n",
    "df.is_food.replace({1: True, 0: False}, inplace=True)"
   ]
  },
  {
   "cell_type": "code",
   "execution_count": 8,
   "metadata": {},
   "outputs": [],
   "source": [
    "# Drop empty Count column\n",
    "df.drop(columns=\"Count\", inplace=True)"
   ]
  },
  {
   "cell_type": "code",
   "execution_count": 9,
   "metadata": {},
   "outputs": [],
   "source": [
    "# Drop useless id column\n",
    "df.drop(columns=\"id\", inplace=True)"
   ]
  },
  {
   "cell_type": "code",
   "execution_count": 11,
   "metadata": {},
   "outputs": [
    {
     "data": {
      "text/html": [
       "<div>\n",
       "<style scoped>\n",
       "    .dataframe tbody tr th:only-of-type {\n",
       "        vertical-align: middle;\n",
       "    }\n",
       "\n",
       "    .dataframe tbody tr th {\n",
       "        vertical-align: top;\n",
       "    }\n",
       "\n",
       "    .dataframe thead th {\n",
       "        text-align: right;\n",
       "    }\n",
       "</style>\n",
       "<table border=\"1\" class=\"dataframe\">\n",
       "  <thead>\n",
       "    <tr style=\"text-align: right;\">\n",
       "      <th></th>\n",
       "      <th>final_status</th>\n",
       "      <th>store_address_id</th>\n",
       "      <th>customer_id</th>\n",
       "      <th>courier_id</th>\n",
       "      <th>vertical</th>\n",
       "      <th>is_food</th>\n",
       "      <th>transport</th>\n",
       "      <th>number_of_assignments</th>\n",
       "      <th>total_real_distance</th>\n",
       "      <th>activation_time_local</th>\n",
       "      <th>last_courier_assigned_time</th>\n",
       "      <th>courier_started_order_local</th>\n",
       "      <th>courier_enters_pickup_time_local</th>\n",
       "      <th>pickup_time_local</th>\n",
       "      <th>courier_enters_delivery_point_time_local</th>\n",
       "      <th>termination_time</th>\n",
       "      <th>Total Time</th>\n",
       "    </tr>\n",
       "  </thead>\n",
       "  <tbody>\n",
       "    <tr>\n",
       "      <th>93</th>\n",
       "      <td>DeliveredStatus</td>\n",
       "      <td>18300.0</td>\n",
       "      <td>5532020.0</td>\n",
       "      <td>14917583.0</td>\n",
       "      <td>WALL - Partner</td>\n",
       "      <td>True</td>\n",
       "      <td>BICYCLE</td>\n",
       "      <td>2.0</td>\n",
       "      <td>4.871</td>\n",
       "      <td>2019-07-08 22:19:29</td>\n",
       "      <td>2019-07-08 23:01:58</td>\n",
       "      <td>2019-07-08 23:01:58</td>\n",
       "      <td>2019-07-08 22:21:41</td>\n",
       "      <td>2019-07-08 23:13:15</td>\n",
       "      <td>2019-07-08 23:18:01</td>\n",
       "      <td>2019-07-08 23:20:06</td>\n",
       "      <td>0</td>\n",
       "    </tr>\n",
       "    <tr>\n",
       "      <th>420</th>\n",
       "      <td>DeliveredStatus</td>\n",
       "      <td>18300.0</td>\n",
       "      <td>6699749.0</td>\n",
       "      <td>11951777.0</td>\n",
       "      <td>WALL - Partner</td>\n",
       "      <td>True</td>\n",
       "      <td>BICYCLE</td>\n",
       "      <td>1.0</td>\n",
       "      <td>3.121</td>\n",
       "      <td>2019-07-09 20:48:27</td>\n",
       "      <td>2019-07-09 20:58:50</td>\n",
       "      <td>2019-07-09 20:59:14</td>\n",
       "      <td>2019-07-09 20:48:37</td>\n",
       "      <td>2019-07-09 21:40:42</td>\n",
       "      <td>2019-07-09 21:44:46</td>\n",
       "      <td>2019-07-09 21:48:29</td>\n",
       "      <td>0</td>\n",
       "    </tr>\n",
       "    <tr>\n",
       "      <th>766</th>\n",
       "      <td>DeliveredStatus</td>\n",
       "      <td>15910.0</td>\n",
       "      <td>18189758.0</td>\n",
       "      <td>16974425.0</td>\n",
       "      <td>WALL - Partner</td>\n",
       "      <td>True</td>\n",
       "      <td>BICYCLE</td>\n",
       "      <td>1.0</td>\n",
       "      <td>3.989</td>\n",
       "      <td>2019-07-10 19:44:28</td>\n",
       "      <td>2019-07-10 19:54:51</td>\n",
       "      <td>2019-07-10 20:06:58</td>\n",
       "      <td>2019-07-10 20:14:31</td>\n",
       "      <td>2019-07-10 20:24:56</td>\n",
       "      <td>2019-07-10 20:41:05</td>\n",
       "      <td>2019-07-10 20:45:25</td>\n",
       "      <td>0</td>\n",
       "    </tr>\n",
       "    <tr>\n",
       "      <th>857</th>\n",
       "      <td>DeliveredStatus</td>\n",
       "      <td>18300.0</td>\n",
       "      <td>17160338.0</td>\n",
       "      <td>9128251.0</td>\n",
       "      <td>WALL - Partner</td>\n",
       "      <td>True</td>\n",
       "      <td>MOTORBIKE</td>\n",
       "      <td>2.0</td>\n",
       "      <td>2.700</td>\n",
       "      <td>2019-07-12 14:43:14</td>\n",
       "      <td>2019-07-12 15:21:53</td>\n",
       "      <td>2019-07-12 15:22:18</td>\n",
       "      <td>2019-07-12 15:27:50</td>\n",
       "      <td>2019-07-12 15:33:58</td>\n",
       "      <td>2019-07-12 15:39:02</td>\n",
       "      <td>2019-07-12 15:43:37</td>\n",
       "      <td>0</td>\n",
       "    </tr>\n",
       "    <tr>\n",
       "      <th>966</th>\n",
       "      <td>DeliveredStatus</td>\n",
       "      <td>18300.0</td>\n",
       "      <td>8640677.0</td>\n",
       "      <td>14306599.0</td>\n",
       "      <td>WALL - Partner</td>\n",
       "      <td>True</td>\n",
       "      <td>CAR</td>\n",
       "      <td>1.0</td>\n",
       "      <td>7.138</td>\n",
       "      <td>2019-07-13 22:16:22</td>\n",
       "      <td>2019-07-13 22:37:35</td>\n",
       "      <td>2019-07-13 22:38:00</td>\n",
       "      <td>2019-07-13 22:48:00</td>\n",
       "      <td>2019-07-13 22:56:00</td>\n",
       "      <td>2019-07-13 23:10:00</td>\n",
       "      <td>2019-07-13 23:16:52</td>\n",
       "      <td>0</td>\n",
       "    </tr>\n",
       "  </tbody>\n",
       "</table>\n",
       "</div>"
      ],
      "text/plain": [
       "        final_status  store_address_id  customer_id  courier_id  \\\n",
       "93   DeliveredStatus           18300.0    5532020.0  14917583.0   \n",
       "420  DeliveredStatus           18300.0    6699749.0  11951777.0   \n",
       "766  DeliveredStatus           15910.0   18189758.0  16974425.0   \n",
       "857  DeliveredStatus           18300.0   17160338.0   9128251.0   \n",
       "966  DeliveredStatus           18300.0    8640677.0  14306599.0   \n",
       "\n",
       "           vertical is_food  transport  number_of_assignments  \\\n",
       "93   WALL - Partner    True    BICYCLE                    2.0   \n",
       "420  WALL - Partner    True    BICYCLE                    1.0   \n",
       "766  WALL - Partner    True    BICYCLE                    1.0   \n",
       "857  WALL - Partner    True  MOTORBIKE                    2.0   \n",
       "966  WALL - Partner    True        CAR                    1.0   \n",
       "\n",
       "     total_real_distance activation_time_local last_courier_assigned_time  \\\n",
       "93                 4.871   2019-07-08 22:19:29        2019-07-08 23:01:58   \n",
       "420                3.121   2019-07-09 20:48:27        2019-07-09 20:58:50   \n",
       "766                3.989   2019-07-10 19:44:28        2019-07-10 19:54:51   \n",
       "857                2.700   2019-07-12 14:43:14        2019-07-12 15:21:53   \n",
       "966                7.138   2019-07-13 22:16:22        2019-07-13 22:37:35   \n",
       "\n",
       "    courier_started_order_local courier_enters_pickup_time_local  \\\n",
       "93          2019-07-08 23:01:58              2019-07-08 22:21:41   \n",
       "420         2019-07-09 20:59:14              2019-07-09 20:48:37   \n",
       "766         2019-07-10 20:06:58              2019-07-10 20:14:31   \n",
       "857         2019-07-12 15:22:18              2019-07-12 15:27:50   \n",
       "966         2019-07-13 22:38:00              2019-07-13 22:48:00   \n",
       "\n",
       "      pickup_time_local courier_enters_delivery_point_time_local  \\\n",
       "93  2019-07-08 23:13:15                      2019-07-08 23:18:01   \n",
       "420 2019-07-09 21:40:42                      2019-07-09 21:44:46   \n",
       "766 2019-07-10 20:24:56                      2019-07-10 20:41:05   \n",
       "857 2019-07-12 15:33:58                      2019-07-12 15:39:02   \n",
       "966 2019-07-13 22:56:00                      2019-07-13 23:10:00   \n",
       "\n",
       "       termination_time  Total Time  \n",
       "93  2019-07-08 23:20:06           0  \n",
       "420 2019-07-09 21:48:29           0  \n",
       "766 2019-07-10 20:45:25           0  \n",
       "857 2019-07-12 15:43:37           0  \n",
       "966 2019-07-13 23:16:52           0  "
      ]
     },
     "metadata": {},
     "output_type": "display_data"
    }
   ],
   "source": [
    "# Total Time seems to have errors, we drop it as we can calculate the total time by subtraction if needed\n",
    "display(df[df[\"Total Time\"]==0].head())\n",
    "df.drop(columns=\"Total Time\", inplace=True)"
   ]
  },
  {
   "cell_type": "code",
   "execution_count": 12,
   "metadata": {},
   "outputs": [],
   "source": [
    "# Drop rows with all na\n",
    "df.dropna(thresh=6, inplace=True)"
   ]
  },
  {
   "cell_type": "code",
   "execution_count": 13,
   "metadata": {},
   "outputs": [
    {
     "name": "stdout",
     "output_type": "stream",
     "text": [
      "QUIERO     30\n",
      "COURIER     1\n",
      "Name: vertical, dtype: int64\n",
      "30\n"
     ]
    }
   ],
   "source": [
    "# All missing store_adress_id belong to the QUIERO. Which makes sense. COURIER is probably a mistake?\n",
    "print(df[df.store_address_id.isna()].vertical.value_counts())\n",
    "print(len(df[df.vertical==\"QUIERO\"]))"
   ]
  },
  {
   "cell_type": "code",
   "execution_count": 14,
   "metadata": {},
   "outputs": [
    {
     "data": {
      "text/plain": [
       "final_status                                 0\n",
       "store_address_id                            11\n",
       "customer_id                                  0\n",
       "courier_id                                   0\n",
       "vertical                                     0\n",
       "is_food                                      0\n",
       "transport                                    0\n",
       "number_of_assignments                        0\n",
       "total_real_distance                          0\n",
       "activation_time_local                        0\n",
       "last_courier_assigned_time                   0\n",
       "courier_started_order_local                  0\n",
       "courier_enters_pickup_time_local            61\n",
       "pickup_time_local                           61\n",
       "courier_enters_delivery_point_time_local    67\n",
       "termination_time                             0\n",
       "dtype: int64"
      ]
     },
     "execution_count": 14,
     "metadata": {},
     "output_type": "execute_result"
    }
   ],
   "source": [
    "# All missing time values come from canceled orders. \n",
    "# Since we don't need to apply machine learning techniques, the best is to leave all missing values as nan.\n",
    "df[df.final_status==\"CanceledStatus\"].isna().sum()"
   ]
  },
  {
   "cell_type": "code",
   "execution_count": 19,
   "metadata": {},
   "outputs": [
    {
     "data": {
      "text/html": [
       "<div>\n",
       "<style scoped>\n",
       "    .dataframe tbody tr th:only-of-type {\n",
       "        vertical-align: middle;\n",
       "    }\n",
       "\n",
       "    .dataframe tbody tr th {\n",
       "        vertical-align: top;\n",
       "    }\n",
       "\n",
       "    .dataframe thead th {\n",
       "        text-align: right;\n",
       "    }\n",
       "</style>\n",
       "<table border=\"1\" class=\"dataframe\">\n",
       "  <thead>\n",
       "    <tr style=\"text-align: right;\">\n",
       "      <th></th>\n",
       "      <th>final_status</th>\n",
       "      <th>store_address_id</th>\n",
       "      <th>customer_id</th>\n",
       "      <th>courier_id</th>\n",
       "      <th>vertical</th>\n",
       "      <th>is_food</th>\n",
       "      <th>transport</th>\n",
       "      <th>number_of_assignments</th>\n",
       "      <th>total_real_distance</th>\n",
       "      <th>activation_time_local</th>\n",
       "      <th>last_courier_assigned_time</th>\n",
       "      <th>courier_started_order_local</th>\n",
       "      <th>courier_enters_pickup_time_local</th>\n",
       "      <th>pickup_time_local</th>\n",
       "      <th>courier_enters_delivery_point_time_local</th>\n",
       "      <th>termination_time</th>\n",
       "    </tr>\n",
       "  </thead>\n",
       "  <tbody>\n",
       "    <tr>\n",
       "      <th>0</th>\n",
       "      <td>DeliveredStatus</td>\n",
       "      <td>85260.0</td>\n",
       "      <td>18579597.0</td>\n",
       "      <td>20153483.0</td>\n",
       "      <td>WALL - Partner</td>\n",
       "      <td>True</td>\n",
       "      <td>BICYCLE</td>\n",
       "      <td>1.0</td>\n",
       "      <td>6.029</td>\n",
       "      <td>2019-07-13 13:04:44</td>\n",
       "      <td>2019-07-13 13:05:32</td>\n",
       "      <td>2019-07-13 13:06:49</td>\n",
       "      <td>2019-07-13 13:09:13</td>\n",
       "      <td>2019-07-13 13:28:45</td>\n",
       "      <td>2019-07-13 13:46:58</td>\n",
       "      <td>2019-07-13 13:59:49</td>\n",
       "    </tr>\n",
       "    <tr>\n",
       "      <th>1</th>\n",
       "      <td>DeliveredStatus</td>\n",
       "      <td>23517.0</td>\n",
       "      <td>11871195.0</td>\n",
       "      <td>20153483.0</td>\n",
       "      <td>WALL - Partner</td>\n",
       "      <td>True</td>\n",
       "      <td>BICYCLE</td>\n",
       "      <td>1.0</td>\n",
       "      <td>3.998</td>\n",
       "      <td>2019-07-12 20:06:29</td>\n",
       "      <td>2019-07-12 20:10:42</td>\n",
       "      <td>2019-07-12 20:11:02</td>\n",
       "      <td>2019-07-12 20:16:05</td>\n",
       "      <td>2019-07-12 20:23:07</td>\n",
       "      <td>2019-07-12 20:37:53</td>\n",
       "      <td>2019-07-12 20:43:01</td>\n",
       "    </tr>\n",
       "    <tr>\n",
       "      <th>2</th>\n",
       "      <td>DeliveredStatus</td>\n",
       "      <td>18300.0</td>\n",
       "      <td>1053786.0</td>\n",
       "      <td>20153483.0</td>\n",
       "      <td>WALL - Partner</td>\n",
       "      <td>True</td>\n",
       "      <td>BICYCLE</td>\n",
       "      <td>1.0</td>\n",
       "      <td>5.309</td>\n",
       "      <td>2019-07-13 12:14:58</td>\n",
       "      <td>2019-07-13 12:15:44</td>\n",
       "      <td>2019-07-13 12:23:40</td>\n",
       "      <td>2019-07-13 12:45:16</td>\n",
       "      <td>2019-07-13 12:50:09</td>\n",
       "      <td>2019-07-13 12:55:16</td>\n",
       "      <td>2019-07-13 12:59:23</td>\n",
       "    </tr>\n",
       "  </tbody>\n",
       "</table>\n",
       "</div>"
      ],
      "text/plain": [
       "      final_status  store_address_id  customer_id  courier_id        vertical  \\\n",
       "0  DeliveredStatus           85260.0   18579597.0  20153483.0  WALL - Partner   \n",
       "1  DeliveredStatus           23517.0   11871195.0  20153483.0  WALL - Partner   \n",
       "2  DeliveredStatus           18300.0    1053786.0  20153483.0  WALL - Partner   \n",
       "\n",
       "  is_food transport  number_of_assignments  total_real_distance  \\\n",
       "0    True   BICYCLE                    1.0                6.029   \n",
       "1    True   BICYCLE                    1.0                3.998   \n",
       "2    True   BICYCLE                    1.0                5.309   \n",
       "\n",
       "  activation_time_local last_courier_assigned_time  \\\n",
       "0   2019-07-13 13:04:44        2019-07-13 13:05:32   \n",
       "1   2019-07-12 20:06:29        2019-07-12 20:10:42   \n",
       "2   2019-07-13 12:14:58        2019-07-13 12:15:44   \n",
       "\n",
       "  courier_started_order_local courier_enters_pickup_time_local  \\\n",
       "0         2019-07-13 13:06:49              2019-07-13 13:09:13   \n",
       "1         2019-07-12 20:11:02              2019-07-12 20:16:05   \n",
       "2         2019-07-13 12:23:40              2019-07-13 12:45:16   \n",
       "\n",
       "    pickup_time_local courier_enters_delivery_point_time_local  \\\n",
       "0 2019-07-13 13:28:45                      2019-07-13 13:46:58   \n",
       "1 2019-07-12 20:23:07                      2019-07-12 20:37:53   \n",
       "2 2019-07-13 12:50:09                      2019-07-13 12:55:16   \n",
       "\n",
       "     termination_time  \n",
       "0 2019-07-13 13:59:49  \n",
       "1 2019-07-12 20:43:01  \n",
       "2 2019-07-13 12:59:23  "
      ]
     },
     "execution_count": 19,
     "metadata": {},
     "output_type": "execute_result"
    }
   ],
   "source": [
    "# Clean dataset\n",
    "df.head(3)"
   ]
  },
  {
   "cell_type": "markdown",
   "metadata": {},
   "source": [
    "### Feature Engineering"
   ]
  },
  {
   "cell_type": "code",
   "execution_count": 20,
   "metadata": {},
   "outputs": [],
   "source": [
    "# is_canceled_status: bool variable from final_status\n",
    "df[\"is_canceled_status\"] = df.final_status.replace({\"DeliveredStatus\": 0, \"CanceledStatus\": 1})"
   ]
  },
  {
   "cell_type": "code",
   "execution_count": 21,
   "metadata": {},
   "outputs": [],
   "source": [
    "# is_reassigned: bool variable for reassigned orders\n",
    "df[\"is_reassigned\"] = df.number_of_assignments > 1"
   ]
  },
  {
   "cell_type": "code",
   "execution_count": 22,
   "metadata": {},
   "outputs": [],
   "source": [
    "# total_time: time elapsed between placing an order and final delivery\n",
    "total_time = df.termination_time - df.activation_time_local\n",
    "df[\"total_time\"] = total_time.astype(\"timedelta64[s]\") / 60"
   ]
  },
  {
   "cell_type": "code",
   "execution_count": 23,
   "metadata": {},
   "outputs": [],
   "source": [
    "# waiting_time_at_pickup: couriers' idle time waiting to pickup\n",
    "waiting_time_at_pickup = df.pickup_time_local - df.courier_enters_pickup_time_local\n",
    "df[\"waiting_time_at_pickup\"] = waiting_time_at_pickup.astype(\"timedelta64[s]\") / 60"
   ]
  },
  {
   "cell_type": "code",
   "execution_count": 24,
   "metadata": {},
   "outputs": [],
   "source": [
    "# courier_travel_time: time courier spends traveling\n",
    "courier_total_time = df.courier_enters_delivery_point_time_local - df[[\"last_courier_assigned_time\",\n",
    "                        \"courier_started_order_local\", \"courier_enters_pickup_time_local\"]].min(axis=1) # had to pick the min of the values to avoid errors when couriers forget to start the order\n",
    "df[\"courier_travel_time\"] = courier_total_time.astype(\"timedelta64[s]\") / 60 - df.waiting_time_at_pickup"
   ]
  },
  {
   "cell_type": "code",
   "execution_count": 25,
   "metadata": {},
   "outputs": [],
   "source": [
    "# courier_speed: speed of courier in km/min\n",
    "df[\"courier_speed\"] = df.total_real_distance / df.courier_travel_time"
   ]
  },
  {
   "cell_type": "code",
   "execution_count": 26,
   "metadata": {},
   "outputs": [
    {
     "data": {
      "text/html": [
       "<div>\n",
       "<style scoped>\n",
       "    .dataframe tbody tr th:only-of-type {\n",
       "        vertical-align: middle;\n",
       "    }\n",
       "\n",
       "    .dataframe tbody tr th {\n",
       "        vertical-align: top;\n",
       "    }\n",
       "\n",
       "    .dataframe thead th {\n",
       "        text-align: right;\n",
       "    }\n",
       "</style>\n",
       "<table border=\"1\" class=\"dataframe\">\n",
       "  <thead>\n",
       "    <tr style=\"text-align: right;\">\n",
       "      <th></th>\n",
       "      <th>final_status</th>\n",
       "      <th>store_address_id</th>\n",
       "      <th>customer_id</th>\n",
       "      <th>courier_id</th>\n",
       "      <th>vertical</th>\n",
       "      <th>is_food</th>\n",
       "      <th>transport</th>\n",
       "      <th>number_of_assignments</th>\n",
       "      <th>total_real_distance</th>\n",
       "      <th>activation_time_local</th>\n",
       "      <th>...</th>\n",
       "      <th>courier_enters_pickup_time_local</th>\n",
       "      <th>pickup_time_local</th>\n",
       "      <th>courier_enters_delivery_point_time_local</th>\n",
       "      <th>termination_time</th>\n",
       "      <th>is_canceled_status</th>\n",
       "      <th>is_reassigned</th>\n",
       "      <th>total_time</th>\n",
       "      <th>waiting_time_at_pickup</th>\n",
       "      <th>courier_travel_time</th>\n",
       "      <th>courier_speed</th>\n",
       "    </tr>\n",
       "  </thead>\n",
       "  <tbody>\n",
       "    <tr>\n",
       "      <th>0</th>\n",
       "      <td>DeliveredStatus</td>\n",
       "      <td>85260.0</td>\n",
       "      <td>18579597.0</td>\n",
       "      <td>20153483.0</td>\n",
       "      <td>WALL - Partner</td>\n",
       "      <td>True</td>\n",
       "      <td>BICYCLE</td>\n",
       "      <td>1.0</td>\n",
       "      <td>6.029</td>\n",
       "      <td>2019-07-13 13:04:44</td>\n",
       "      <td>...</td>\n",
       "      <td>2019-07-13 13:09:13</td>\n",
       "      <td>2019-07-13 13:28:45</td>\n",
       "      <td>2019-07-13 13:46:58</td>\n",
       "      <td>2019-07-13 13:59:49</td>\n",
       "      <td>0</td>\n",
       "      <td>False</td>\n",
       "      <td>55.083333</td>\n",
       "      <td>19.533333</td>\n",
       "      <td>21.90</td>\n",
       "      <td>0.275297</td>\n",
       "    </tr>\n",
       "    <tr>\n",
       "      <th>1</th>\n",
       "      <td>DeliveredStatus</td>\n",
       "      <td>23517.0</td>\n",
       "      <td>11871195.0</td>\n",
       "      <td>20153483.0</td>\n",
       "      <td>WALL - Partner</td>\n",
       "      <td>True</td>\n",
       "      <td>BICYCLE</td>\n",
       "      <td>1.0</td>\n",
       "      <td>3.998</td>\n",
       "      <td>2019-07-12 20:06:29</td>\n",
       "      <td>...</td>\n",
       "      <td>2019-07-12 20:16:05</td>\n",
       "      <td>2019-07-12 20:23:07</td>\n",
       "      <td>2019-07-12 20:37:53</td>\n",
       "      <td>2019-07-12 20:43:01</td>\n",
       "      <td>0</td>\n",
       "      <td>False</td>\n",
       "      <td>36.533333</td>\n",
       "      <td>7.033333</td>\n",
       "      <td>20.15</td>\n",
       "      <td>0.198412</td>\n",
       "    </tr>\n",
       "    <tr>\n",
       "      <th>2</th>\n",
       "      <td>DeliveredStatus</td>\n",
       "      <td>18300.0</td>\n",
       "      <td>1053786.0</td>\n",
       "      <td>20153483.0</td>\n",
       "      <td>WALL - Partner</td>\n",
       "      <td>True</td>\n",
       "      <td>BICYCLE</td>\n",
       "      <td>1.0</td>\n",
       "      <td>5.309</td>\n",
       "      <td>2019-07-13 12:14:58</td>\n",
       "      <td>...</td>\n",
       "      <td>2019-07-13 12:45:16</td>\n",
       "      <td>2019-07-13 12:50:09</td>\n",
       "      <td>2019-07-13 12:55:16</td>\n",
       "      <td>2019-07-13 12:59:23</td>\n",
       "      <td>0</td>\n",
       "      <td>False</td>\n",
       "      <td>44.416667</td>\n",
       "      <td>4.883333</td>\n",
       "      <td>34.65</td>\n",
       "      <td>0.153218</td>\n",
       "    </tr>\n",
       "  </tbody>\n",
       "</table>\n",
       "<p>3 rows × 22 columns</p>\n",
       "</div>"
      ],
      "text/plain": [
       "      final_status  store_address_id  customer_id  courier_id        vertical  \\\n",
       "0  DeliveredStatus           85260.0   18579597.0  20153483.0  WALL - Partner   \n",
       "1  DeliveredStatus           23517.0   11871195.0  20153483.0  WALL - Partner   \n",
       "2  DeliveredStatus           18300.0    1053786.0  20153483.0  WALL - Partner   \n",
       "\n",
       "  is_food transport  number_of_assignments  total_real_distance  \\\n",
       "0    True   BICYCLE                    1.0                6.029   \n",
       "1    True   BICYCLE                    1.0                3.998   \n",
       "2    True   BICYCLE                    1.0                5.309   \n",
       "\n",
       "  activation_time_local  ... courier_enters_pickup_time_local  \\\n",
       "0   2019-07-13 13:04:44  ...              2019-07-13 13:09:13   \n",
       "1   2019-07-12 20:06:29  ...              2019-07-12 20:16:05   \n",
       "2   2019-07-13 12:14:58  ...              2019-07-13 12:45:16   \n",
       "\n",
       "    pickup_time_local courier_enters_delivery_point_time_local  \\\n",
       "0 2019-07-13 13:28:45                      2019-07-13 13:46:58   \n",
       "1 2019-07-12 20:23:07                      2019-07-12 20:37:53   \n",
       "2 2019-07-13 12:50:09                      2019-07-13 12:55:16   \n",
       "\n",
       "     termination_time is_canceled_status is_reassigned  total_time  \\\n",
       "0 2019-07-13 13:59:49                  0         False   55.083333   \n",
       "1 2019-07-12 20:43:01                  0         False   36.533333   \n",
       "2 2019-07-13 12:59:23                  0         False   44.416667   \n",
       "\n",
       "   waiting_time_at_pickup  courier_travel_time  courier_speed  \n",
       "0               19.533333                21.90       0.275297  \n",
       "1                7.033333                20.15       0.198412  \n",
       "2                4.883333                34.65       0.153218  \n",
       "\n",
       "[3 rows x 22 columns]"
      ]
     },
     "execution_count": 26,
     "metadata": {},
     "output_type": "execute_result"
    }
   ],
   "source": [
    "# Final working dataset\n",
    "df.head(3)"
   ]
  },
  {
   "cell_type": "markdown",
   "metadata": {},
   "source": [
    "### Exploratory Data Analysis (Common Questions Only)"
   ]
  },
  {
   "cell_type": "markdown",
   "metadata": {},
   "source": [
    "1. Based on the data you were given, provide visibility over the following metrics:\n",
    "- Customer Delivery Time. How long the customer waited for the order."
   ]
  },
  {
   "cell_type": "code",
   "execution_count": 89,
   "metadata": {},
   "outputs": [
    {
     "name": "stdout",
     "output_type": "stream",
     "text": [
      "Average customer delivery time: 38.0 min\n"
     ]
    },
    {
     "data": {
      "image/png": "[encoded data removed]",
      "text/plain": [
       "<Figure size 432x288 with 1 Axes>"
      ]
     },
     "metadata": {
      "needs_background": "light"
     },
     "output_type": "display_data"
    }
   ],
   "source": [
    "# On average customers get their order in 38 minutes. While around 75% of orders are delivered within 45 minuts,\n",
    "# we can see the presence of some extreme outliers, with delivery times of over 80 minuts.\n",
    "print(f\"Average customer delivery time: {round(df.total_time.mean(), 1)} min\")\n",
    "sns.boxplot(df.total_time)\n",
    "plt.title(\"Boxplot of customer delivery time\", size=14)\n",
    "plt.xlabel(\"Total time (min)\")\n",
    "plt.show()"
   ]
  },
  {
   "cell_type": "markdown",
   "metadata": {},
   "source": [
    "- Delivery Distance. Total distance traveled by the couriers."
   ]
  },
  {
   "cell_type": "code",
   "execution_count": 87,
   "metadata": {},
   "outputs": [
    {
     "name": "stdout",
     "output_type": "stream",
     "text": [
      "Average delivery distance: 5.05 km\n"
     ]
    },
    {
     "data": {
      "image/png": "[encoded data removed]",
      "text/plain": [
       "<Figure size 432x288 with 1 Axes>"
      ]
     },
     "metadata": {
      "needs_background": "light"
     },
     "output_type": "display_data"
    }
   ],
   "source": [
    "# On average drivers travel around 5 km to deliver an order. 95% of drivers travel 10 km or less.\n",
    "print(f\"Average delivery distance: {round(df.total_real_distance.mean(), 2)} km\")\n",
    "sns.boxplot(df.total_real_distance)\n",
    "plt.title(\"Boxplot of delivery distance\", size=14)\n",
    "plt.xlabel(\"Total distance (km)\")\n",
    "plt.show()"
   ]
  },
  {
   "cell_type": "markdown",
   "metadata": {},
   "source": [
    "- Reassignment Probability (whenever we need to assign an order to\n",
    "another courier after the first assignment it counts as a reassignment)."
   ]
  },
  {
   "cell_type": "code",
   "execution_count": 74,
   "metadata": {},
   "outputs": [
    {
     "data": {
      "image/png": "[encoded data removed]",
      "text/plain": [
       "<Figure size 432x288 with 1 Axes>"
      ]
     },
     "metadata": {},
     "output_type": "display_data"
    }
   ],
   "source": [
    "# 13% of orders are reassigned at least once\n",
    "is_reassigned_proportion = df.is_reassigned.value_counts(normalize=True)\n",
    "plt.pie(is_reassigned_proportion, labels=is_reassigned_proportion.index, autopct='%.1f%%')\n",
    "plt.title(\"Reassignment Probability\", size = 14)\n",
    "plt.show()"
   ]
  },
  {
   "cell_type": "markdown",
   "metadata": {},
   "source": [
    "2. Regarding reassignments can you see any trends / correlation between this\n",
    "metric and any of the dimensions in the dataset?"
   ]
  },
  {
   "cell_type": "code",
   "execution_count": 102,
   "metadata": {},
   "outputs": [
    {
     "data": {
      "image/png": "[encoded data removed]",
      "text/plain": [
       "<Figure size 432x288 with 1 Axes>"
      ]
     },
     "metadata": {
      "needs_background": "light"
     },
     "output_type": "display_data"
    }
   ],
   "source": [
    "# For the numerical values, the number of assigments seem to correlate with longer delivery times and distances, \n",
    "# and canceled orders. \n",
    "df.corr().number_of_assignments.sort_values(ascending=False)[2:].plot(kind=\"bar\")\n",
    "plt.title(\"Correlation of reassigments with other dimensions\", size=14)\n",
    "plt.ylabel(\"Correlation\")\n",
    "plt.axhline(y=-0.001, color='r', linestyle='-')\n",
    "plt.xticks(rotation=70)\n",
    "plt.show()"
   ]
  },
  {
   "cell_type": "code",
   "execution_count": 120,
   "metadata": {},
   "outputs": [
    {
     "data": {
      "image/png": "[encoded data removed]",
      "text/plain": [
       "<Figure size 432x288 with 1 Axes>"
      ]
     },
     "metadata": {
      "needs_background": "light"
     },
     "output_type": "display_data"
    }
   ],
   "source": [
    "# Looking at the categorical values, we see that reasigned orders tend to be accepted mostly by cars, especially those\n",
    "# orders from the QUIERO and NonPartner verticals. \n",
    "# Seems to indicate that some of these custom orders are not maneagable by bikes or bicycles. \n",
    "df.groupby([\"transport\", \"vertical\"]).is_reassigned.mean().plot(kind=\"bar\")\n",
    "plt.title(\"Proportion of reassigned orders by transport and vertical\", size=14)\n",
    "plt.ylabel(\"Percent (%)\")\n",
    "plt.xticks(rotation=70)\n",
    "plt.show()"
   ]
  },
  {
   "cell_type": "markdown",
   "metadata": {},
   "source": [
    "3. Once the courier arrives at the store, the time until the order is picked-up\n",
    "(waiting_time_at_pickup), can present high variation. With the data given,\n",
    "present an analysis showcasing this. Can you identify any clear trends in terms\n",
    "of worst offenders? What could be the possible causes when the courier is\n",
    "waiting for a very long time before picking up the order?"
   ]
  },
  {
   "cell_type": "code",
   "execution_count": 54,
   "metadata": {},
   "outputs": [
    {
     "name": "stdout",
     "output_type": "stream",
     "text": [
      "2\n"
     ]
    }
   ],
   "source": [
    "# 2 errors with negative waiting time.\n",
    "# We replace negative waiting time with 0.\n",
    "print((df.waiting_time_at_pickup<0).sum())\n",
    "df.loc[df.waiting_time_at_pickup < 0, \"waiting_time_at_pickup\"] = 0"
   ]
  },
  {
   "cell_type": "code",
   "execution_count": 110,
   "metadata": {},
   "outputs": [
    {
     "name": "stdout",
     "output_type": "stream",
     "text": [
      "Average waiting time at pickup: 15.2 min\n"
     ]
    },
    {
     "data": {
      "image/png": "[encoded data removed]",
      "text/plain": [
       "<Figure size 432x288 with 1 Axes>"
      ]
     },
     "metadata": {
      "needs_background": "light"
     },
     "output_type": "display_data"
    }
   ],
   "source": [
    "# On average couriers wait for 15 minutes at the store for pickup.\n",
    "print(f\"Average waiting time at pickup: {round(df.waiting_time_at_pickup.mean(), 1)} min\")\n",
    "# There is a large variance and some orders take a very long waiting_time_at_pickup.\n",
    "sns.kdeplot(df.waiting_time_at_pickup)\n",
    "plt.title(\"PMF of waiting_time_at_pickup\")\n",
    "plt.xlabel(\"waiting_time_at_pickup (min)\")\n",
    "plt.show()"
   ]
  },
  {
   "cell_type": "code",
   "execution_count": 56,
   "metadata": {},
   "outputs": [
    {
     "data": {
      "text/html": [
       "<div>\n",
       "<style scoped>\n",
       "    .dataframe tbody tr th:only-of-type {\n",
       "        vertical-align: middle;\n",
       "    }\n",
       "\n",
       "    .dataframe tbody tr th {\n",
       "        vertical-align: top;\n",
       "    }\n",
       "\n",
       "    .dataframe thead th {\n",
       "        text-align: right;\n",
       "    }\n",
       "</style>\n",
       "<table border=\"1\" class=\"dataframe\">\n",
       "  <thead>\n",
       "    <tr style=\"text-align: right;\">\n",
       "      <th></th>\n",
       "      <th>mean</th>\n",
       "      <th>count</th>\n",
       "    </tr>\n",
       "    <tr>\n",
       "      <th>store_address_id</th>\n",
       "      <th></th>\n",
       "      <th></th>\n",
       "    </tr>\n",
       "  </thead>\n",
       "  <tbody>\n",
       "    <tr>\n",
       "      <th>82665.0</th>\n",
       "      <td>20.869231</td>\n",
       "      <td>13</td>\n",
       "    </tr>\n",
       "    <tr>\n",
       "      <th>15910.0</th>\n",
       "      <td>20.415064</td>\n",
       "      <td>52</td>\n",
       "    </tr>\n",
       "    <tr>\n",
       "      <th>74656.0</th>\n",
       "      <td>20.058333</td>\n",
       "      <td>6</td>\n",
       "    </tr>\n",
       "    <tr>\n",
       "      <th>30640.0</th>\n",
       "      <td>19.722148</td>\n",
       "      <td>149</td>\n",
       "    </tr>\n",
       "    <tr>\n",
       "      <th>18300.0</th>\n",
       "      <td>19.103596</td>\n",
       "      <td>964</td>\n",
       "    </tr>\n",
       "  </tbody>\n",
       "</table>\n",
       "</div>"
      ],
      "text/plain": [
       "                       mean  count\n",
       "store_address_id                  \n",
       "82665.0           20.869231     13\n",
       "15910.0           20.415064     52\n",
       "74656.0           20.058333      6\n",
       "30640.0           19.722148    149\n",
       "18300.0           19.103596    964"
      ]
     },
     "execution_count": 56,
     "metadata": {},
     "output_type": "execute_result"
    }
   ],
   "source": [
    "# These are the stores with at least 5 orders with the highest average waiting time\n",
    "waiting_time_by_store = df.groupby(\"store_address_id\").waiting_time_at_pickup.agg([\"mean\", \"count\"])\n",
    "waiting_time_by_store[waiting_time_by_store[\"count\"]>=5].sort_values(by=\"mean\", ascending=False).head()"
   ]
  },
  {
   "cell_type": "code",
   "execution_count": 57,
   "metadata": {},
   "outputs": [
    {
     "data": {
      "text/html": [
       "<div>\n",
       "<style scoped>\n",
       "    .dataframe tbody tr th:only-of-type {\n",
       "        vertical-align: middle;\n",
       "    }\n",
       "\n",
       "    .dataframe tbody tr th {\n",
       "        vertical-align: top;\n",
       "    }\n",
       "\n",
       "    .dataframe thead th {\n",
       "        text-align: right;\n",
       "    }\n",
       "</style>\n",
       "<table border=\"1\" class=\"dataframe\">\n",
       "  <thead>\n",
       "    <tr style=\"text-align: right;\">\n",
       "      <th></th>\n",
       "      <th>mean</th>\n",
       "      <th>count</th>\n",
       "    </tr>\n",
       "    <tr>\n",
       "      <th>courier_id</th>\n",
       "      <th></th>\n",
       "      <th></th>\n",
       "    </tr>\n",
       "  </thead>\n",
       "  <tbody>\n",
       "    <tr>\n",
       "      <th>7290210.0</th>\n",
       "      <td>24.511111</td>\n",
       "      <td>18</td>\n",
       "    </tr>\n",
       "    <tr>\n",
       "      <th>8316271.0</th>\n",
       "      <td>24.346667</td>\n",
       "      <td>10</td>\n",
       "    </tr>\n",
       "    <tr>\n",
       "      <th>13822458.0</th>\n",
       "      <td>23.596296</td>\n",
       "      <td>9</td>\n",
       "    </tr>\n",
       "    <tr>\n",
       "      <th>18225711.0</th>\n",
       "      <td>23.594298</td>\n",
       "      <td>38</td>\n",
       "    </tr>\n",
       "    <tr>\n",
       "      <th>17436695.0</th>\n",
       "      <td>23.000000</td>\n",
       "      <td>7</td>\n",
       "    </tr>\n",
       "  </tbody>\n",
       "</table>\n",
       "</div>"
      ],
      "text/plain": [
       "                 mean  count\n",
       "courier_id                  \n",
       "7290210.0   24.511111     18\n",
       "8316271.0   24.346667     10\n",
       "13822458.0  23.596296      9\n",
       "18225711.0  23.594298     38\n",
       "17436695.0  23.000000      7"
      ]
     },
     "execution_count": 57,
     "metadata": {},
     "output_type": "execute_result"
    }
   ],
   "source": [
    "# Couriers with at least 5 orders with the highest average waiting time\n",
    "waiting_time_by_courier = df.groupby(\"courier_id\").waiting_time_at_pickup.agg([\"mean\", \"count\"])\n",
    "waiting_time_by_courier[waiting_time_by_courier[\"count\"]>=5].sort_values(by=\"mean\", ascending=False).head()"
   ]
  },
  {
   "cell_type": "code",
   "execution_count": 125,
   "metadata": {},
   "outputs": [
    {
     "data": {
      "image/png": "[encoded data removed]",
      "text/plain": [
       "<Figure size 432x288 with 1 Axes>"
      ]
     },
     "metadata": {
      "needs_background": "light"
     },
     "output_type": "display_data"
    }
   ],
   "source": [
    "# The waiting time at pickup is highly correlated to total_time (as expected), \n",
    "# and also negatively correlated with courier_travel_time, less travel means reaching \n",
    "# the store earlier and thus waiting more.\n",
    "df.corr().waiting_time_at_pickup.sort_values(ascending=False)[1:].plot(kind=\"bar\")\n",
    "plt.title(\"Correlation of waiting time at pickup with other dimensions\", size=14)\n",
    "plt.ylabel(\"Correlation\")\n",
    "plt.axhline(y=-0.001, color='r', linestyle='-')\n",
    "plt.xticks(rotation=70)\n",
    "plt.show()"
   ]
  },
  {
   "cell_type": "code",
   "execution_count": 121,
   "metadata": {},
   "outputs": [
    {
     "data": {
      "text/html": [
       "<div>\n",
       "<style scoped>\n",
       "    .dataframe tbody tr th:only-of-type {\n",
       "        vertical-align: middle;\n",
       "    }\n",
       "\n",
       "    .dataframe tbody tr th {\n",
       "        vertical-align: top;\n",
       "    }\n",
       "\n",
       "    .dataframe thead th {\n",
       "        text-align: right;\n",
       "    }\n",
       "</style>\n",
       "<table border=\"1\" class=\"dataframe\">\n",
       "  <thead>\n",
       "    <tr style=\"text-align: right;\">\n",
       "      <th></th>\n",
       "      <th>final_status</th>\n",
       "      <th>store_address_id</th>\n",
       "      <th>customer_id</th>\n",
       "      <th>courier_id</th>\n",
       "      <th>vertical</th>\n",
       "      <th>is_food</th>\n",
       "      <th>transport</th>\n",
       "      <th>number_of_assignments</th>\n",
       "      <th>total_real_distance</th>\n",
       "      <th>activation_time_local</th>\n",
       "      <th>...</th>\n",
       "      <th>courier_enters_pickup_time_local</th>\n",
       "      <th>pickup_time_local</th>\n",
       "      <th>courier_enters_delivery_point_time_local</th>\n",
       "      <th>termination_time</th>\n",
       "      <th>is_canceled_status</th>\n",
       "      <th>is_reassigned</th>\n",
       "      <th>total_time</th>\n",
       "      <th>waiting_time_at_pickup</th>\n",
       "      <th>courier_travel_time</th>\n",
       "      <th>courier_speed</th>\n",
       "    </tr>\n",
       "  </thead>\n",
       "  <tbody>\n",
       "    <tr>\n",
       "      <th>2056</th>\n",
       "      <td>DeliveredStatus</td>\n",
       "      <td>18300.0</td>\n",
       "      <td>16552619.0</td>\n",
       "      <td>16974422.0</td>\n",
       "      <td>WALL - Partner</td>\n",
       "      <td>True</td>\n",
       "      <td>BICYCLE</td>\n",
       "      <td>1.0</td>\n",
       "      <td>5.412</td>\n",
       "      <td>2019-07-09 21:02:12</td>\n",
       "      <td>...</td>\n",
       "      <td>2019-07-09 21:02:12</td>\n",
       "      <td>2019-07-09 22:10:04</td>\n",
       "      <td>2019-07-09 22:10:10</td>\n",
       "      <td>2019-07-09 22:10:15</td>\n",
       "      <td>0</td>\n",
       "      <td>False</td>\n",
       "      <td>68.050000</td>\n",
       "      <td>67.866667</td>\n",
       "      <td>0.100000</td>\n",
       "      <td>54.120000</td>\n",
       "    </tr>\n",
       "    <tr>\n",
       "      <th>2204</th>\n",
       "      <td>DeliveredStatus</td>\n",
       "      <td>18300.0</td>\n",
       "      <td>20416485.0</td>\n",
       "      <td>9558769.0</td>\n",
       "      <td>WALL - Partner</td>\n",
       "      <td>True</td>\n",
       "      <td>MOTORBIKE</td>\n",
       "      <td>1.0</td>\n",
       "      <td>5.084</td>\n",
       "      <td>2019-07-10 20:18:11</td>\n",
       "      <td>...</td>\n",
       "      <td>2019-07-10 20:36:42</td>\n",
       "      <td>2019-07-10 21:23:08</td>\n",
       "      <td>2019-07-10 21:23:18</td>\n",
       "      <td>2019-07-10 21:23:28</td>\n",
       "      <td>0</td>\n",
       "      <td>False</td>\n",
       "      <td>65.283333</td>\n",
       "      <td>46.433333</td>\n",
       "      <td>0.166667</td>\n",
       "      <td>30.504000</td>\n",
       "    </tr>\n",
       "    <tr>\n",
       "      <th>91</th>\n",
       "      <td>DeliveredStatus</td>\n",
       "      <td>18300.0</td>\n",
       "      <td>5389187.0</td>\n",
       "      <td>14917583.0</td>\n",
       "      <td>WALL - Partner</td>\n",
       "      <td>True</td>\n",
       "      <td>BICYCLE</td>\n",
       "      <td>1.0</td>\n",
       "      <td>3.327</td>\n",
       "      <td>2019-07-08 14:33:10</td>\n",
       "      <td>...</td>\n",
       "      <td>2019-07-08 14:33:17</td>\n",
       "      <td>2019-07-08 14:46:12</td>\n",
       "      <td>2019-07-08 14:46:20</td>\n",
       "      <td>2019-07-08 14:46:28</td>\n",
       "      <td>0</td>\n",
       "      <td>False</td>\n",
       "      <td>13.300000</td>\n",
       "      <td>12.916667</td>\n",
       "      <td>0.133333</td>\n",
       "      <td>24.952500</td>\n",
       "    </tr>\n",
       "    <tr>\n",
       "      <th>2427</th>\n",
       "      <td>DeliveredStatus</td>\n",
       "      <td>18300.0</td>\n",
       "      <td>12535717.0</td>\n",
       "      <td>15058366.0</td>\n",
       "      <td>WALL - Partner</td>\n",
       "      <td>True</td>\n",
       "      <td>BICYCLE</td>\n",
       "      <td>1.0</td>\n",
       "      <td>4.423</td>\n",
       "      <td>2019-07-08 19:52:43</td>\n",
       "      <td>...</td>\n",
       "      <td>2019-07-08 19:52:54</td>\n",
       "      <td>2019-07-08 20:11:11</td>\n",
       "      <td>2019-07-08 20:11:23</td>\n",
       "      <td>2019-07-08 20:13:29</td>\n",
       "      <td>0</td>\n",
       "      <td>False</td>\n",
       "      <td>20.766667</td>\n",
       "      <td>18.283333</td>\n",
       "      <td>0.200000</td>\n",
       "      <td>22.115000</td>\n",
       "    </tr>\n",
       "    <tr>\n",
       "      <th>2098</th>\n",
       "      <td>DeliveredStatus</td>\n",
       "      <td>18300.0</td>\n",
       "      <td>3939091.0</td>\n",
       "      <td>2234219.0</td>\n",
       "      <td>WALL - Partner</td>\n",
       "      <td>True</td>\n",
       "      <td>MOTORBIKE</td>\n",
       "      <td>2.0</td>\n",
       "      <td>3.830</td>\n",
       "      <td>2019-07-14 21:24:36</td>\n",
       "      <td>...</td>\n",
       "      <td>2019-07-14 21:41:39</td>\n",
       "      <td>2019-07-14 21:41:39</td>\n",
       "      <td>2019-07-14 21:42:20</td>\n",
       "      <td>2019-07-14 21:43:00</td>\n",
       "      <td>0</td>\n",
       "      <td>True</td>\n",
       "      <td>18.400000</td>\n",
       "      <td>0.000000</td>\n",
       "      <td>0.683333</td>\n",
       "      <td>5.604878</td>\n",
       "    </tr>\n",
       "  </tbody>\n",
       "</table>\n",
       "<p>5 rows × 22 columns</p>\n",
       "</div>"
      ],
      "text/plain": [
       "         final_status  store_address_id  customer_id  courier_id  \\\n",
       "2056  DeliveredStatus           18300.0   16552619.0  16974422.0   \n",
       "2204  DeliveredStatus           18300.0   20416485.0   9558769.0   \n",
       "91    DeliveredStatus           18300.0    5389187.0  14917583.0   \n",
       "2427  DeliveredStatus           18300.0   12535717.0  15058366.0   \n",
       "2098  DeliveredStatus           18300.0    3939091.0   2234219.0   \n",
       "\n",
       "            vertical is_food  transport  number_of_assignments  \\\n",
       "2056  WALL - Partner    True    BICYCLE                    1.0   \n",
       "2204  WALL - Partner    True  MOTORBIKE                    1.0   \n",
       "91    WALL - Partner    True    BICYCLE                    1.0   \n",
       "2427  WALL - Partner    True    BICYCLE                    1.0   \n",
       "2098  WALL - Partner    True  MOTORBIKE                    2.0   \n",
       "\n",
       "      total_real_distance activation_time_local  ...  \\\n",
       "2056                5.412   2019-07-09 21:02:12  ...   \n",
       "2204                5.084   2019-07-10 20:18:11  ...   \n",
       "91                  3.327   2019-07-08 14:33:10  ...   \n",
       "2427                4.423   2019-07-08 19:52:43  ...   \n",
       "2098                3.830   2019-07-14 21:24:36  ...   \n",
       "\n",
       "     courier_enters_pickup_time_local   pickup_time_local  \\\n",
       "2056              2019-07-09 21:02:12 2019-07-09 22:10:04   \n",
       "2204              2019-07-10 20:36:42 2019-07-10 21:23:08   \n",
       "91                2019-07-08 14:33:17 2019-07-08 14:46:12   \n",
       "2427              2019-07-08 19:52:54 2019-07-08 20:11:11   \n",
       "2098              2019-07-14 21:41:39 2019-07-14 21:41:39   \n",
       "\n",
       "     courier_enters_delivery_point_time_local    termination_time  \\\n",
       "2056                      2019-07-09 22:10:10 2019-07-09 22:10:15   \n",
       "2204                      2019-07-10 21:23:18 2019-07-10 21:23:28   \n",
       "91                        2019-07-08 14:46:20 2019-07-08 14:46:28   \n",
       "2427                      2019-07-08 20:11:23 2019-07-08 20:13:29   \n",
       "2098                      2019-07-14 21:42:20 2019-07-14 21:43:00   \n",
       "\n",
       "     is_canceled_status is_reassigned  total_time  waiting_time_at_pickup  \\\n",
       "2056                  0         False   68.050000               67.866667   \n",
       "2204                  0         False   65.283333               46.433333   \n",
       "91                    0         False   13.300000               12.916667   \n",
       "2427                  0         False   20.766667               18.283333   \n",
       "2098                  0          True   18.400000                0.000000   \n",
       "\n",
       "      courier_travel_time  courier_speed  \n",
       "2056             0.100000      54.120000  \n",
       "2204             0.166667      30.504000  \n",
       "91               0.133333      24.952500  \n",
       "2427             0.200000      22.115000  \n",
       "2098             0.683333       5.604878  \n",
       "\n",
       "[5 rows x 22 columns]"
      ]
     },
     "execution_count": 121,
     "metadata": {},
     "output_type": "execute_result"
    }
   ],
   "source": [
    "# The most extreme outliers in waiting_time_at_pickup are due to some couriers not confirming the pickup when \n",
    "# they pickup the order at the restaurant. \n",
    "# Below are some cases where this happens. We can find them by looking at the the speed of the couriers. Speeds that\n",
    "# are unrealistically fast are due to this fact.\n",
    "df.sort_values(by=\"courier_speed\", ascending=False).head()"
   ]
  },
  {
   "cell_type": "code",
   "execution_count": 113,
   "metadata": {},
   "outputs": [
    {
     "data": {
      "text/plain": [
       "14917583.0    11\n",
       "18225711.0     6\n",
       "14547214.0     5\n",
       "4055620.0      4\n",
       "15239373.0     4\n",
       "18225713.0     4\n",
       "Name: courier_id, dtype: int64"
      ]
     },
     "execution_count": 113,
     "metadata": {},
     "output_type": "execute_result"
    }
   ],
   "source": [
    "# we set an arbitrary realistic speed threshold at 1 km / min. \n",
    "# These are the couriers ids that have reported an unrealistic speed more than 4 times. We could send them a \n",
    "# remainder that they need to confirm the order and the pickup from the store.\n",
    "unrealistic_speed_by_courier = df[df.courier_speed>1].courier_id.value_counts()\n",
    "unrealistic_speed_by_courier[unrealistic_speed_by_courier>3]"
   ]
  }
 ],
 "metadata": {
  "kernelspec": {
   "display_name": "Python 3.8.8 ('base')",
   "language": "python",
   "name": "python3"
  },
  "language_info": {
   "codemirror_mode": {
    "name": "ipython",
    "version": 3
   },
   "file_extension": ".py",
   "mimetype": "text/x-python",
   "name": "python",
   "nbconvert_exporter": "python",
   "pygments_lexer": "ipython3",
   "version": "3.8.8"
  },
  "orig_nbformat": 4,
  "vscode": {
   "interpreter": {
    "hash": "74609ea32c075f5c8e96a18961956eadb9a9347b199f0247ab8ad93a9d4aa1e3"
   }
  }
 },
 "nbformat": 4,
 "nbformat_minor": 2
}

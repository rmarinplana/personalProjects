{
 "cells": [
  {
   "cell_type": "markdown",
   "metadata": {},
   "source": [
    "## Introduction"
   ]
  },
  {
   "cell_type": "markdown",
   "metadata": {},
   "source": [
    "# King’s Super Math Saga experiment"
   ]
  },
  {
   "cell_type": "markdown",
   "metadata": {},
   "source": [
    "The assignment table contains players assigned to the A/B test and attributes related to each player.\n",
    "1. playerid: Unique numeric identifier for each player\n",
    "2. abtest_group: The group the player was assigned to (A or B)\n",
    "3. assignment_date: The date when the player was assigned to the test\n",
    "4. install_date: The date when the player installed the game\n",
    "5. conversion_date: The date when the player made their first purchase\n",
    "\n",
    "The activity table contains player activity for each day a player was active.\n",
    "1. playerid: Unique numeric identifier for each player\n",
    "2. activity_date: The date of activity\n",
    "3. purchases: Number of purchases made this day\n",
    "4. gameends: Number of gamerounds played this day"
   ]
  },
  {
   "cell_type": "markdown",
   "metadata": {},
   "source": [
    "### Packages"
   ]
  },
  {
   "cell_type": "code",
   "execution_count": 2,
   "metadata": {},
   "outputs": [],
   "source": [
    "# import packages\n",
    "\n",
    "# Basic\n",
    "import pandas as pd\n",
    "import numpy as np\n",
    "import matplotlib.pyplot as plt\n",
    "import seaborn as sns\n",
    "\n",
    "# GCP\n",
    "import pandas_gbq\n",
    "import db_dtypes\n",
    "\n",
    "# Hypothesis Testing\n",
    "from scipy.stats import shapiro\n",
    "from scipy.stats import mannwhitneyu as mwu\n",
    "from scipy.stats import ttest_ind\n",
    "\n",
    "# Clustering\n",
    "from sklearn.cluster import KMeans\n",
    "from sklearn.preprocessing import StandardScaler\n",
    "from sklearn.pipeline import make_pipeline\n",
    "import pickle\n",
    "\n",
    "# Configuration\n",
    "import warnings\n",
    "warnings.filterwarnings(\"ignore\")\n",
    "warnings.simplefilter(action='ignore', category=FutureWarning)"
   ]
  },
  {
   "cell_type": "markdown",
   "metadata": {},
   "source": [
    "### Hypothesis Test"
   ]
  },
  {
   "cell_type": "markdown",
   "metadata": {},
   "source": [
    "Assumptions:\n",
    "\n",
    "    - Check for normality\n",
    "    - If normal distribution, check for homogeneity\n",
    "\n",
    "Steps:\n",
    "\n",
    "    - Apply Shapiro Test for normality\n",
    "    - If parametric, apply Levene Test for homogeneity of variances\n",
    "    - If parametric + homogeneity of variances apply T-Test\n",
    "    - If parametric - homogeneity of variances apply Welch Test\n",
    "    - If non-parametric apply Mann Whitney U Test"
   ]
  },
  {
   "cell_type": "code",
   "execution_count": 3,
   "metadata": {},
   "outputs": [],
   "source": [
    "# define function that checks assumptions and applies appropriate hypothesis test\n",
    "def hypothesis_test(test, control, alternative=\"two-sided\"):\n",
    "\n",
    "    # import packages\n",
    "    from scipy.stats import shapiro\n",
    "    import scipy.stats as stats\n",
    "    \n",
    "    # check for normality:\n",
    "    ntA = shapiro(test)[1] < 0.05\n",
    "    ntB = shapiro(control)[1] < 0.05\n",
    "\n",
    "    if (ntA == False) & (ntB == False): \n",
    "        # parametric test\n",
    "        # check for homogeneity\n",
    "        leveneTest = stats.levene(test, control)[1] < 0.05\n",
    "\n",
    "        if leveneTest == False: # homogeneus\n",
    "            ttest = stats.ttest_ind(test, control, equal_var=True, alternative=alternative)\n",
    "        else: # heterogeneous\n",
    "            ttest = stats.ttest_ind(test, control, equal_var=False, alternative=alternative)\n",
    "    else:\n",
    "        # non-parametric test\n",
    "        ttest = stats.mannwhitneyu(test, control, alternative=alternative)\n",
    "\n",
    "    return ttest"
   ]
  },
  {
   "cell_type": "markdown",
   "metadata": {},
   "source": [
    "## 1. Data Extraction & Prep"
   ]
  },
  {
   "cell_type": "code",
   "execution_count": 13,
   "metadata": {},
   "outputs": [],
   "source": [
    "# define function to query data from gcp and transform it into df\n",
    "def gcp2df(query):\n",
    "    project_id = 'king-ds-recruit-candidate-635'\n",
    "    return pd.read_gbq(query, project_id=project_id, dialect='standard')"
   ]
  },
  {
   "cell_type": "code",
   "execution_count": 27,
   "metadata": {},
   "outputs": [],
   "source": [
    "query = ('''\n",
    "WITH\n",
    "\n",
    "activity AS (\n",
    "SELECT playerid, SUM(purchases) AS total_purchases, SUM(gameends) as total_gameends, COUNT(activity_date) AS days_played\n",
    "    FROM `king-ds-recruit-candidate-635.abtest.activity` \n",
    "    WHERE activity_date BETWEEN \"2017-05-04\" AND \"2017-05-22\"\n",
    "    GROUP BY playerid\n",
    "),\n",
    "\n",
    "joinTables AS (\n",
    "SELECT ass.*, ac.total_gameends, ac.total_purchases, ac.days_played\n",
    "FROM `king-ds-recruit-candidate-635.abtest.assignment` AS ass\n",
    "LEFT JOIN  activity AS ac\n",
    "ON ass.playerid=ac.playerid\n",
    ")\n",
    "\n",
    "SELECT *\n",
    "FROM joinTables\n",
    "    ''')\n",
    "\n",
    "df = gcp2df(query)"
   ]
  },
  {
   "cell_type": "code",
   "execution_count": 28,
   "metadata": {},
   "outputs": [],
   "source": [
    "#df.to_csv(\"../../../king.csv\")"
   ]
  },
  {
   "cell_type": "code",
   "execution_count": 35,
   "metadata": {},
   "outputs": [],
   "source": [
    "df = pd.read_csv(\"../../../king.csv\", index_col=0)"
   ]
  },
  {
   "cell_type": "code",
   "execution_count": 4,
   "metadata": {},
   "outputs": [
    {
     "data": {
      "text/html": [
       "<div>\n",
       "<style scoped>\n",
       "    .dataframe tbody tr th:only-of-type {\n",
       "        vertical-align: middle;\n",
       "    }\n",
       "\n",
       "    .dataframe tbody tr th {\n",
       "        vertical-align: top;\n",
       "    }\n",
       "\n",
       "    .dataframe thead th {\n",
       "        text-align: right;\n",
       "    }\n",
       "</style>\n",
       "<table border=\"1\" class=\"dataframe\">\n",
       "  <thead>\n",
       "    <tr style=\"text-align: right;\">\n",
       "      <th></th>\n",
       "      <th>playerid</th>\n",
       "      <th>abtest_group</th>\n",
       "      <th>assignment_date</th>\n",
       "      <th>install_date</th>\n",
       "      <th>conversion_date</th>\n",
       "      <th>total_gameends</th>\n",
       "      <th>total_purchases</th>\n",
       "      <th>days_played</th>\n",
       "    </tr>\n",
       "  </thead>\n",
       "  <tbody>\n",
       "    <tr>\n",
       "      <th>0</th>\n",
       "      <td>12375489</td>\n",
       "      <td>A</td>\n",
       "      <td>2017-05-04</td>\n",
       "      <td>2016-05-02</td>\n",
       "      <td>NaN</td>\n",
       "      <td>204</td>\n",
       "      <td>0</td>\n",
       "      <td>16</td>\n",
       "    </tr>\n",
       "    <tr>\n",
       "      <th>1</th>\n",
       "      <td>30548310</td>\n",
       "      <td>A</td>\n",
       "      <td>2017-05-04</td>\n",
       "      <td>2016-11-01</td>\n",
       "      <td>NaN</td>\n",
       "      <td>247</td>\n",
       "      <td>0</td>\n",
       "      <td>13</td>\n",
       "    </tr>\n",
       "    <tr>\n",
       "      <th>2</th>\n",
       "      <td>41099711</td>\n",
       "      <td>A</td>\n",
       "      <td>2017-05-04</td>\n",
       "      <td>2017-02-13</td>\n",
       "      <td>NaN</td>\n",
       "      <td>159</td>\n",
       "      <td>0</td>\n",
       "      <td>13</td>\n",
       "    </tr>\n",
       "    <tr>\n",
       "      <th>3</th>\n",
       "      <td>26239061</td>\n",
       "      <td>A</td>\n",
       "      <td>2017-05-04</td>\n",
       "      <td>2016-09-19</td>\n",
       "      <td>NaN</td>\n",
       "      <td>56</td>\n",
       "      <td>0</td>\n",
       "      <td>6</td>\n",
       "    </tr>\n",
       "    <tr>\n",
       "      <th>4</th>\n",
       "      <td>6191990</td>\n",
       "      <td>A</td>\n",
       "      <td>2017-05-04</td>\n",
       "      <td>2016-03-02</td>\n",
       "      <td>NaN</td>\n",
       "      <td>98</td>\n",
       "      <td>0</td>\n",
       "      <td>14</td>\n",
       "    </tr>\n",
       "  </tbody>\n",
       "</table>\n",
       "</div>"
      ],
      "text/plain": [
       "   playerid abtest_group assignment_date install_date conversion_date  \\\n",
       "0  12375489            A      2017-05-04   2016-05-02             NaN   \n",
       "1  30548310            A      2017-05-04   2016-11-01             NaN   \n",
       "2  41099711            A      2017-05-04   2017-02-13             NaN   \n",
       "3  26239061            A      2017-05-04   2016-09-19             NaN   \n",
       "4   6191990            A      2017-05-04   2016-03-02             NaN   \n",
       "\n",
       "   total_gameends  total_purchases  days_played  \n",
       "0             204                0           16  \n",
       "1             247                0           13  \n",
       "2             159                0           13  \n",
       "3              56                0            6  \n",
       "4              98                0           14  "
      ]
     },
     "execution_count": 4,
     "metadata": {},
     "output_type": "execute_result"
    }
   ],
   "source": [
    "df.head()"
   ]
  },
  {
   "cell_type": "code",
   "execution_count": 36,
   "metadata": {},
   "outputs": [],
   "source": [
    " # format date variables into datetime\n",
    "df[[\"assignment_date\", \"install_date\", \"conversion_date\"]] = df[[\"assignment_date\", \"install_date\", \n",
    "                                                                \"conversion_date\"]].apply(pd.to_datetime)"
   ]
  },
  {
   "cell_type": "code",
   "execution_count": 37,
   "metadata": {},
   "outputs": [],
   "source": [
    "# create more meaningful and actionable variables form datetime variables\n",
    "df[\"days_since_installed\"] = (df.assignment_date.max() - df.install_date).dt.days # time since a player installed the game in days\n",
    "df[\"days_to_convert\"] = (df.conversion_date - df.install_date).dt.days # time it takes players to convert after installing the game in days"
   ]
  },
  {
   "cell_type": "code",
   "execution_count": 38,
   "metadata": {},
   "outputs": [],
   "source": [
    "# create paying users based on whether a player is \n",
    "df[\"paying_user\"] = df.conversion_date.notnull()"
   ]
  },
  {
   "cell_type": "code",
   "execution_count": 39,
   "metadata": {},
   "outputs": [],
   "source": [
    "# create a player_type variable that segments players by days_since_installed\n",
    "# The split is determined by business sense\n",
    "conditions = [\n",
    "    (df.days_since_installed <= 19), # new players that haven't seen the control version\n",
    "    (df.days_since_installed > 19) & (df.days_since_installed <= 90),\n",
    "    (df.days_since_installed > 90)]\n",
    "values = [\"newbie\", \"experienced\", \"OG\"]\n",
    "df[\"player_type\"] = np.select(conditions, values)"
   ]
  },
  {
   "cell_type": "code",
   "execution_count": 40,
   "metadata": {},
   "outputs": [],
   "source": [
    "# create a retention metric based on number of days played\n",
    "df[\"day_2_retention\"] = df.days_played > 1\n",
    "df[\"day_7_retention\"] = df.days_played > 6"
   ]
  },
  {
   "cell_type": "code",
   "execution_count": 10,
   "metadata": {},
   "outputs": [
    {
     "data": {
      "text/html": [
       "<div>\n",
       "<style scoped>\n",
       "    .dataframe tbody tr th:only-of-type {\n",
       "        vertical-align: middle;\n",
       "    }\n",
       "\n",
       "    .dataframe tbody tr th {\n",
       "        vertical-align: top;\n",
       "    }\n",
       "\n",
       "    .dataframe thead th {\n",
       "        text-align: right;\n",
       "    }\n",
       "</style>\n",
       "<table border=\"1\" class=\"dataframe\">\n",
       "  <thead>\n",
       "    <tr style=\"text-align: right;\">\n",
       "      <th></th>\n",
       "      <th>playerid</th>\n",
       "      <th>abtest_group</th>\n",
       "      <th>assignment_date</th>\n",
       "      <th>install_date</th>\n",
       "      <th>conversion_date</th>\n",
       "      <th>total_gameends</th>\n",
       "      <th>total_purchases</th>\n",
       "      <th>days_played</th>\n",
       "      <th>days_since_installed</th>\n",
       "      <th>days_to_convert</th>\n",
       "      <th>paying_user</th>\n",
       "      <th>player_type</th>\n",
       "      <th>day_2_retention</th>\n",
       "      <th>day_7_retention</th>\n",
       "    </tr>\n",
       "  </thead>\n",
       "  <tbody>\n",
       "    <tr>\n",
       "      <th>0</th>\n",
       "      <td>12375489</td>\n",
       "      <td>A</td>\n",
       "      <td>2017-05-04</td>\n",
       "      <td>2016-05-02</td>\n",
       "      <td>NaT</td>\n",
       "      <td>204</td>\n",
       "      <td>0</td>\n",
       "      <td>16</td>\n",
       "      <td>385</td>\n",
       "      <td>NaN</td>\n",
       "      <td>False</td>\n",
       "      <td>OG</td>\n",
       "      <td>True</td>\n",
       "      <td>True</td>\n",
       "    </tr>\n",
       "    <tr>\n",
       "      <th>1</th>\n",
       "      <td>30548310</td>\n",
       "      <td>A</td>\n",
       "      <td>2017-05-04</td>\n",
       "      <td>2016-11-01</td>\n",
       "      <td>NaT</td>\n",
       "      <td>247</td>\n",
       "      <td>0</td>\n",
       "      <td>13</td>\n",
       "      <td>202</td>\n",
       "      <td>NaN</td>\n",
       "      <td>False</td>\n",
       "      <td>OG</td>\n",
       "      <td>True</td>\n",
       "      <td>True</td>\n",
       "    </tr>\n",
       "    <tr>\n",
       "      <th>2</th>\n",
       "      <td>41099711</td>\n",
       "      <td>A</td>\n",
       "      <td>2017-05-04</td>\n",
       "      <td>2017-02-13</td>\n",
       "      <td>NaT</td>\n",
       "      <td>159</td>\n",
       "      <td>0</td>\n",
       "      <td>13</td>\n",
       "      <td>98</td>\n",
       "      <td>NaN</td>\n",
       "      <td>False</td>\n",
       "      <td>OG</td>\n",
       "      <td>True</td>\n",
       "      <td>True</td>\n",
       "    </tr>\n",
       "    <tr>\n",
       "      <th>3</th>\n",
       "      <td>26239061</td>\n",
       "      <td>A</td>\n",
       "      <td>2017-05-04</td>\n",
       "      <td>2016-09-19</td>\n",
       "      <td>NaT</td>\n",
       "      <td>56</td>\n",
       "      <td>0</td>\n",
       "      <td>6</td>\n",
       "      <td>245</td>\n",
       "      <td>NaN</td>\n",
       "      <td>False</td>\n",
       "      <td>OG</td>\n",
       "      <td>True</td>\n",
       "      <td>False</td>\n",
       "    </tr>\n",
       "    <tr>\n",
       "      <th>4</th>\n",
       "      <td>6191990</td>\n",
       "      <td>A</td>\n",
       "      <td>2017-05-04</td>\n",
       "      <td>2016-03-02</td>\n",
       "      <td>NaT</td>\n",
       "      <td>98</td>\n",
       "      <td>0</td>\n",
       "      <td>14</td>\n",
       "      <td>446</td>\n",
       "      <td>NaN</td>\n",
       "      <td>False</td>\n",
       "      <td>OG</td>\n",
       "      <td>True</td>\n",
       "      <td>True</td>\n",
       "    </tr>\n",
       "  </tbody>\n",
       "</table>\n",
       "</div>"
      ],
      "text/plain": [
       "   playerid abtest_group assignment_date install_date conversion_date  \\\n",
       "0  12375489            A      2017-05-04   2016-05-02             NaT   \n",
       "1  30548310            A      2017-05-04   2016-11-01             NaT   \n",
       "2  41099711            A      2017-05-04   2017-02-13             NaT   \n",
       "3  26239061            A      2017-05-04   2016-09-19             NaT   \n",
       "4   6191990            A      2017-05-04   2016-03-02             NaT   \n",
       "\n",
       "   total_gameends  total_purchases  days_played  days_since_installed  \\\n",
       "0             204                0           16                   385   \n",
       "1             247                0           13                   202   \n",
       "2             159                0           13                    98   \n",
       "3              56                0            6                   245   \n",
       "4              98                0           14                   446   \n",
       "\n",
       "   days_to_convert  paying_user player_type  day_2_retention  day_7_retention  \n",
       "0              NaN        False          OG             True             True  \n",
       "1              NaN        False          OG             True             True  \n",
       "2              NaN        False          OG             True             True  \n",
       "3              NaN        False          OG             True            False  \n",
       "4              NaN        False          OG             True             True  "
      ]
     },
     "execution_count": 10,
     "metadata": {},
     "output_type": "execute_result"
    }
   ],
   "source": [
    "df.head() # contains aggregated gameround and purchase data for the whole experiment"
   ]
  },
  {
   "cell_type": "code",
   "execution_count": 11,
   "metadata": {},
   "outputs": [
    {
     "name": "stdout",
     "output_type": "stream",
     "text": [
      "<class 'pandas.core.frame.DataFrame'>\n",
      "Int64Index: 10331056 entries, 0 to 10331055\n",
      "Data columns (total 14 columns):\n",
      " #   Column                Dtype         \n",
      "---  ------                -----         \n",
      " 0   playerid              int64         \n",
      " 1   abtest_group          object        \n",
      " 2   assignment_date       datetime64[ns]\n",
      " 3   install_date          datetime64[ns]\n",
      " 4   conversion_date       datetime64[ns]\n",
      " 5   total_gameends        int64         \n",
      " 6   total_purchases       int64         \n",
      " 7   days_played           int64         \n",
      " 8   days_since_installed  int64         \n",
      " 9   days_to_convert       float64       \n",
      " 10  paying_user           bool          \n",
      " 11  player_type           object        \n",
      " 12  day_2_retention       bool          \n",
      " 13  day_7_retention       bool          \n",
      "dtypes: bool(3), datetime64[ns](3), float64(1), int64(5), object(2)\n",
      "memory usage: 975.4+ MB\n"
     ]
    }
   ],
   "source": [
    "df.info()"
   ]
  },
  {
   "cell_type": "code",
   "execution_count": 41,
   "metadata": {},
   "outputs": [],
   "source": [
    "# split control and test results\n",
    "control_results = df[df[\"abtest_group\"]==\"A\"]\n",
    "test_results = df[df[\"abtest_group\"]==\"B\"]"
   ]
  },
  {
   "cell_type": "markdown",
   "metadata": {},
   "source": [
    "## 2. Metric Analysis"
   ]
  },
  {
   "cell_type": "markdown",
   "metadata": {},
   "source": [
    "### Invariant metrics: *\n",
    "\n",
    "    - playerid\n",
    "    - days_since_installed\n",
    "\n",
    "*Invariant metrics are those which should not change across control and experiment groups. If players were randomly assigned, we would expect the distributions of these metrics to stay consistent between the test and control sets, or else there is something fundamentally wrong with the experiment setup."
   ]
  },
  {
   "cell_type": "code",
   "execution_count": 307,
   "metadata": {},
   "outputs": [
    {
     "data": {
      "image/png": "[encoded data removed]",
      "text/plain": [
       "<Figure size 1224x360 with 2 Axes>"
      ]
     },
     "metadata": {
      "needs_background": "light"
     },
     "output_type": "display_data"
    }
   ],
   "source": [
    "fig, ax = plt.subplots(1, 2, figsize=(17, 5))\n",
    "sns.boxplot(df.playerid, ax=ax[0])\n",
    "ax[1].hist(df.days_since_installed, bins=50)\n",
    "\n",
    "fig.suptitle(\"Invariant Metrics\", fontsize=15)\n",
    "ax[0].set_title(\"Distribution of playerid\", fontsize = 12)\n",
    "ax[1].set_title(\"Distribution of days_since_install\", fontsize = 12)\n",
    "plt.tight_layout(pad = 1)\n",
    "plt.show()"
   ]
  },
  {
   "cell_type": "markdown",
   "metadata": {},
   "source": [
    "#### Observations:\n",
    "\n",
    "Most active players installed the game during the last few months."
   ]
  },
  {
   "cell_type": "markdown",
   "metadata": {},
   "source": [
    "### Evaluation metrics:\n",
    "\n",
    "    - total_gameends\n",
    "    - total_purchases\n",
    "    - day 2 and day 7 retention\n",
    "    - share of paying users\n",
    "    - days_to_convert"
   ]
  },
  {
   "cell_type": "code",
   "execution_count": 60,
   "metadata": {},
   "outputs": [
    {
     "data": {
      "text/html": [
       "<div>\n",
       "<style scoped>\n",
       "    .dataframe tbody tr th:only-of-type {\n",
       "        vertical-align: middle;\n",
       "    }\n",
       "\n",
       "    .dataframe tbody tr th {\n",
       "        vertical-align: top;\n",
       "    }\n",
       "\n",
       "    .dataframe thead th {\n",
       "        text-align: right;\n",
       "    }\n",
       "</style>\n",
       "<table border=\"1\" class=\"dataframe\">\n",
       "  <thead>\n",
       "    <tr style=\"text-align: right;\">\n",
       "      <th></th>\n",
       "      <th>total_gameends</th>\n",
       "      <th>total_purchases</th>\n",
       "      <th>days_to_convert</th>\n",
       "    </tr>\n",
       "  </thead>\n",
       "  <tbody>\n",
       "    <tr>\n",
       "      <th>count</th>\n",
       "      <td>1.033106e+07</td>\n",
       "      <td>1.033106e+07</td>\n",
       "      <td>285923.000000</td>\n",
       "    </tr>\n",
       "    <tr>\n",
       "      <th>mean</th>\n",
       "      <td>1.579491e+02</td>\n",
       "      <td>3.714809e-01</td>\n",
       "      <td>2.720886</td>\n",
       "    </tr>\n",
       "    <tr>\n",
       "      <th>std</th>\n",
       "      <td>1.391929e+02</td>\n",
       "      <td>9.515109e+00</td>\n",
       "      <td>4.501814</td>\n",
       "    </tr>\n",
       "    <tr>\n",
       "      <th>min</th>\n",
       "      <td>0.000000e+00</td>\n",
       "      <td>0.000000e+00</td>\n",
       "      <td>0.000000</td>\n",
       "    </tr>\n",
       "    <tr>\n",
       "      <th>25%</th>\n",
       "      <td>9.500000e+01</td>\n",
       "      <td>0.000000e+00</td>\n",
       "      <td>0.000000</td>\n",
       "    </tr>\n",
       "    <tr>\n",
       "      <th>50%</th>\n",
       "      <td>1.290000e+02</td>\n",
       "      <td>0.000000e+00</td>\n",
       "      <td>1.000000</td>\n",
       "    </tr>\n",
       "    <tr>\n",
       "      <th>75%</th>\n",
       "      <td>1.820000e+02</td>\n",
       "      <td>0.000000e+00</td>\n",
       "      <td>4.000000</td>\n",
       "    </tr>\n",
       "    <tr>\n",
       "      <th>max</th>\n",
       "      <td>1.932000e+03</td>\n",
       "      <td>5.690000e+03</td>\n",
       "      <td>84.000000</td>\n",
       "    </tr>\n",
       "  </tbody>\n",
       "</table>\n",
       "</div>"
      ],
      "text/plain": [
       "       total_gameends  total_purchases  days_to_convert\n",
       "count    1.033106e+07     1.033106e+07    285923.000000\n",
       "mean     1.579491e+02     3.714809e-01         2.720886\n",
       "std      1.391929e+02     9.515109e+00         4.501814\n",
       "min      0.000000e+00     0.000000e+00         0.000000\n",
       "25%      9.500000e+01     0.000000e+00         0.000000\n",
       "50%      1.290000e+02     0.000000e+00         1.000000\n",
       "75%      1.820000e+02     0.000000e+00         4.000000\n",
       "max      1.932000e+03     5.690000e+03        84.000000"
      ]
     },
     "execution_count": 60,
     "metadata": {},
     "output_type": "execute_result"
    }
   ],
   "source": [
    "df[[\"total_gameends\", \"total_purchases\", \"days_to_convert\"]].describe()"
   ]
  },
  {
   "cell_type": "code",
   "execution_count": 61,
   "metadata": {},
   "outputs": [
    {
     "data": {
      "text/plain": [
       "day_2_retention    0.921677\n",
       "day_7_retention    0.834508\n",
       "dtype: float64"
      ]
     },
     "execution_count": 61,
     "metadata": {},
     "output_type": "execute_result"
    }
   ],
   "source": [
    "df[[\"day_2_retention\", \"day_7_retention\"]].mean()"
   ]
  },
  {
   "cell_type": "code",
   "execution_count": 309,
   "metadata": {},
   "outputs": [
    {
     "data": {
      "image/png": "[encoded data removed]",
      "text/plain": [
       "<Figure size 1224x360 with 3 Axes>"
      ]
     },
     "metadata": {
      "needs_background": "light"
     },
     "output_type": "display_data"
    }
   ],
   "source": [
    "fig, ax = plt.subplots(1, 3, figsize=(17, 5))\n",
    "sns.boxplot(df.total_gameends, ax=ax[0])\n",
    "sns.boxplot(df.total_purchases, ax=ax[1])\n",
    "sns.boxplot(df.days_to_convert, ax=ax[2])\n",
    "\n",
    "fig.suptitle(\"Evaluation Metrics\", fontsize=15)\n",
    "ax[0].set_title(\"Distribution of gameends\", fontsize = 12)\n",
    "ax[1].set_title(\"Distribution of purchases\", fontsize = 12)\n",
    "ax[2].set_title(\"Distribution of days_to_convert\", fontsize = 12)\n",
    "plt.tight_layout(pad = 1)\n",
    "plt.show()"
   ]
  },
  {
   "cell_type": "markdown",
   "metadata": {},
   "source": [
    "### Data Description"
   ]
  },
  {
   "cell_type": "code",
   "execution_count": 100,
   "metadata": {},
   "outputs": [
    {
     "data": {
      "image/png": "[encoded data removed]",
      "text/plain": [
       "<Figure size 432x360 with 1 Axes>"
      ]
     },
     "metadata": {
      "needs_background": "light"
     },
     "output_type": "display_data"
    }
   ],
   "source": [
    "fig, ax = plt.subplots(1, 1, figsize=(6, 5))\n",
    "(1-(df.days_played.value_counts(normalize=True, sort=False).cumsum())).plot()\n",
    "\n",
    "plt.title(\"Proportion of players by experiment days played\", fontsize = 12)\n",
    "plt.ylabel(\"Proportion of players\")\n",
    "plt.xlabel(\"Days played\")\n",
    "plt.show()"
   ]
  },
  {
   "cell_type": "code",
   "execution_count": 121,
   "metadata": {},
   "outputs": [
    {
     "data": {
      "text/plain": [
       "False    0.972324\n",
       "True     0.027676\n",
       "Name: paying_user, dtype: float64"
      ]
     },
     "execution_count": 121,
     "metadata": {},
     "output_type": "execute_result"
    }
   ],
   "source": [
    "# share of paying users\n",
    "df.paying_user.value_counts(normalize=True)"
   ]
  },
  {
   "cell_type": "markdown",
   "metadata": {},
   "source": [
    "#### Observations:\n",
    "\n",
    "Most players are Free-to-play. The share of paying users is around 2.8%.\n",
    "\n",
    "Most paying users convert during the first few days of playing the game. If a player doesn't pay early on, is highly unlikely that they will end up paying. \n",
    "\n",
    "There is a high variance between the gamerounds and purchases made by different players. All paying users are considered outliers.\n",
    "\n",
    "Some players have made more purchases than rounds played. This suggests that there are multiple hints in a level."
   ]
  },
  {
   "cell_type": "markdown",
   "metadata": {},
   "source": [
    "## 3. Sanity Checks"
   ]
  },
  {
   "cell_type": "markdown",
   "metadata": {},
   "source": [
    "#### What checks can we do to be confident in the validity of the test?"
   ]
  },
  {
   "cell_type": "code",
   "execution_count": 311,
   "metadata": {},
   "outputs": [
    {
     "data": {
      "text/plain": [
       "False"
      ]
     },
     "execution_count": 311,
     "metadata": {},
     "output_type": "execute_result"
    }
   ],
   "source": [
    "# Are there duplicated playerids?\n",
    "df.playerid.duplicated().any()"
   ]
  },
  {
   "cell_type": "code",
   "execution_count": 312,
   "metadata": {},
   "outputs": [
    {
     "data": {
      "text/plain": [
       "A    0.800074\n",
       "B    0.199926\n",
       "Name: abtest_group, dtype: float64"
      ]
     },
     "execution_count": 312,
     "metadata": {},
     "output_type": "execute_result"
    }
   ],
   "source": [
    "# Do the control and test groups contain 80 and 20 percent of the players respectively?\n",
    "df.abtest_group.value_counts(normalize=True)"
   ]
  },
  {
   "cell_type": "markdown",
   "metadata": {},
   "source": [
    "#### Checking invariants: are the distributions of invariant metrics for control and test groups the same?"
   ]
  },
  {
   "cell_type": "code",
   "execution_count": 317,
   "metadata": {},
   "outputs": [
    {
     "name": "stdout",
     "output_type": "stream",
     "text": [
      "abtest_group\n",
      "A    34979639.729978\n",
      "B    34983333.536522\n",
      "Name: playerid, dtype: Float64\n",
      "MannwhitneyuResult(statistic=8538072968530.0, pvalue=0.6041776844973805)\n"
     ]
    }
   ],
   "source": [
    "# playerid\n",
    "print(df.groupby(\"abtest_group\").playerid.mean())\n",
    "print(hypothesis_test(control_results.days_since_installed, test_results.days_since_installed))"
   ]
  },
  {
   "cell_type": "code",
   "execution_count": 315,
   "metadata": {},
   "outputs": [
    {
     "name": "stdout",
     "output_type": "stream",
     "text": [
      "abtest_group\n",
      "A    159.306688\n",
      "B    159.269564\n",
      "Name: days_since_installed, dtype: float64\n",
      "MannwhitneyuResult(statistic=8538072968530.0, pvalue=0.6041776844973805)\n"
     ]
    }
   ],
   "source": [
    "# days_since_installed\n",
    "print(df.groupby(\"abtest_group\").days_since_installed.mean())\n",
    "print(hypothesis_test(control_results.days_since_installed, test_results.days_since_installed))"
   ]
  },
  {
   "cell_type": "markdown",
   "metadata": {},
   "source": [
    "All the invariant metrics pass the test. The means of the distributions are very similar and we cannot reject that the underlying distribution is the same for the control and test groups. \n",
    "\n",
    "Since everything looks alright, we will go on and analyze the results of our evaluation metrics."
   ]
  },
  {
   "cell_type": "markdown",
   "metadata": {},
   "source": [
    "## 4. Results Analysis"
   ]
  },
  {
   "cell_type": "markdown",
   "metadata": {},
   "source": [
    "### Aggregated Data"
   ]
  },
  {
   "cell_type": "markdown",
   "metadata": {},
   "source": [
    "To consider the results as positive, we would like to see that the change made to the game, aka treatment, will result in a greater engagement and/or number of purchases. \n",
    "\n",
    "Thus, our null hypothesis (H0) and alternative hypothesis (Ha) are as follows:  \n",
    "\n",
    "    - H0: There is no difference in the average number of gamerounds and/or purchases in the test and control groups.\n",
    "    - Ha: The average number of gamerounds and/or purchases of the test group is greater than the control group.\n",
    "\n",
    "Since the alternative hypothesis states that the true value of the parameter specified in the null hypothesis is greater than the null hypothesis claims, we will use a right-tailed test.\n",
    "\n",
    "We choose our significance level to be 0.05. Thus, if p<=0.05, we reject the H0."
   ]
  },
  {
   "cell_type": "markdown",
   "metadata": {},
   "source": [
    "Let's first look into the gameround and purchases summary statistics for the different abtest_groups. "
   ]
  },
  {
   "cell_type": "code",
   "execution_count": 122,
   "metadata": {},
   "outputs": [
    {
     "data": {
      "text/html": [
       "<style  type=\"text/css\" >\n",
       "</style><table id=\"T_7dfdd_\" ><thead>    <tr>        <th class=\"blank level0\" ></th>        <th class=\"col_heading level0 col0\" colspan=\"5\">total_gameends</th>        <th class=\"col_heading level0 col5\" colspan=\"5\">total_purchases</th>        <th class=\"col_heading level0 col10\" colspan=\"5\">day_2_retention</th>        <th class=\"col_heading level0 col15\" colspan=\"5\">day_7_retention</th>        <th class=\"col_heading level0 col20\" colspan=\"5\">days_to_convert</th>        <th class=\"col_heading level0 col25\" colspan=\"5\">paying_user</th>    </tr>    <tr>        <th class=\"blank level1\" ></th>        <th class=\"col_heading level1 col0\" >count</th>        <th class=\"col_heading level1 col1\" >median</th>        <th class=\"col_heading level1 col2\" >mean</th>        <th class=\"col_heading level1 col3\" >std</th>        <th class=\"col_heading level1 col4\" >max</th>        <th class=\"col_heading level1 col5\" >count</th>        <th class=\"col_heading level1 col6\" >median</th>        <th class=\"col_heading level1 col7\" >mean</th>        <th class=\"col_heading level1 col8\" >std</th>        <th class=\"col_heading level1 col9\" >max</th>        <th class=\"col_heading level1 col10\" >count</th>        <th class=\"col_heading level1 col11\" >median</th>        <th class=\"col_heading level1 col12\" >mean</th>        <th class=\"col_heading level1 col13\" >std</th>        <th class=\"col_heading level1 col14\" >max</th>        <th class=\"col_heading level1 col15\" >count</th>        <th class=\"col_heading level1 col16\" >median</th>        <th class=\"col_heading level1 col17\" >mean</th>        <th class=\"col_heading level1 col18\" >std</th>        <th class=\"col_heading level1 col19\" >max</th>        <th class=\"col_heading level1 col20\" >count</th>        <th class=\"col_heading level1 col21\" >median</th>        <th class=\"col_heading level1 col22\" >mean</th>        <th class=\"col_heading level1 col23\" >std</th>        <th class=\"col_heading level1 col24\" >max</th>        <th class=\"col_heading level1 col25\" >count</th>        <th class=\"col_heading level1 col26\" >median</th>        <th class=\"col_heading level1 col27\" >mean</th>        <th class=\"col_heading level1 col28\" >std</th>        <th class=\"col_heading level1 col29\" >max</th>    </tr>    <tr>        <th class=\"index_name level0\" >abtest_group</th>        <th class=\"blank\" ></th>        <th class=\"blank\" ></th>        <th class=\"blank\" ></th>        <th class=\"blank\" ></th>        <th class=\"blank\" ></th>        <th class=\"blank\" ></th>        <th class=\"blank\" ></th>        <th class=\"blank\" ></th>        <th class=\"blank\" ></th>        <th class=\"blank\" ></th>        <th class=\"blank\" ></th>        <th class=\"blank\" ></th>        <th class=\"blank\" ></th>        <th class=\"blank\" ></th>        <th class=\"blank\" ></th>        <th class=\"blank\" ></th>        <th class=\"blank\" ></th>        <th class=\"blank\" ></th>        <th class=\"blank\" ></th>        <th class=\"blank\" ></th>        <th class=\"blank\" ></th>        <th class=\"blank\" ></th>        <th class=\"blank\" ></th>        <th class=\"blank\" ></th>        <th class=\"blank\" ></th>        <th class=\"blank\" ></th>        <th class=\"blank\" ></th>        <th class=\"blank\" ></th>        <th class=\"blank\" ></th>        <th class=\"blank\" ></th>    </tr></thead><tbody>\n",
       "                <tr>\n",
       "                        <th id=\"T_7dfdd_level0_row0\" class=\"row_heading level0 row0\" >A</th>\n",
       "                        <td id=\"T_7dfdd_row0_col0\" class=\"data row0 col0\" >8265610.000</td>\n",
       "                        <td id=\"T_7dfdd_row0_col1\" class=\"data row0 col1\" >129.000</td>\n",
       "                        <td id=\"T_7dfdd_row0_col2\" class=\"data row0 col2\" >158.563</td>\n",
       "                        <td id=\"T_7dfdd_row0_col3\" class=\"data row0 col3\" >139.754</td>\n",
       "                        <td id=\"T_7dfdd_row0_col4\" class=\"data row0 col4\" >1932.000</td>\n",
       "                        <td id=\"T_7dfdd_row0_col5\" class=\"data row0 col5\" >8265610.000</td>\n",
       "                        <td id=\"T_7dfdd_row0_col6\" class=\"data row0 col6\" >0.000</td>\n",
       "                        <td id=\"T_7dfdd_row0_col7\" class=\"data row0 col7\" >0.366</td>\n",
       "                        <td id=\"T_7dfdd_row0_col8\" class=\"data row0 col8\" >9.463</td>\n",
       "                        <td id=\"T_7dfdd_row0_col9\" class=\"data row0 col9\" >5690.000</td>\n",
       "                        <td id=\"T_7dfdd_row0_col10\" class=\"data row0 col10\" >8265610.000</td>\n",
       "                        <td id=\"T_7dfdd_row0_col11\" class=\"data row0 col11\" >1.000</td>\n",
       "                        <td id=\"T_7dfdd_row0_col12\" class=\"data row0 col12\" >0.922</td>\n",
       "                        <td id=\"T_7dfdd_row0_col13\" class=\"data row0 col13\" >0.269</td>\n",
       "                        <td id=\"T_7dfdd_row0_col14\" class=\"data row0 col14\" >1.000</td>\n",
       "                        <td id=\"T_7dfdd_row0_col15\" class=\"data row0 col15\" >8265610.000</td>\n",
       "                        <td id=\"T_7dfdd_row0_col16\" class=\"data row0 col16\" >1.000</td>\n",
       "                        <td id=\"T_7dfdd_row0_col17\" class=\"data row0 col17\" >0.835</td>\n",
       "                        <td id=\"T_7dfdd_row0_col18\" class=\"data row0 col18\" >0.372</td>\n",
       "                        <td id=\"T_7dfdd_row0_col19\" class=\"data row0 col19\" >1.000</td>\n",
       "                        <td id=\"T_7dfdd_row0_col20\" class=\"data row0 col20\" >228978.000</td>\n",
       "                        <td id=\"T_7dfdd_row0_col21\" class=\"data row0 col21\" >1.000</td>\n",
       "                        <td id=\"T_7dfdd_row0_col22\" class=\"data row0 col22\" >2.725</td>\n",
       "                        <td id=\"T_7dfdd_row0_col23\" class=\"data row0 col23\" >4.514</td>\n",
       "                        <td id=\"T_7dfdd_row0_col24\" class=\"data row0 col24\" >84.000</td>\n",
       "                        <td id=\"T_7dfdd_row0_col25\" class=\"data row0 col25\" >8265610.000</td>\n",
       "                        <td id=\"T_7dfdd_row0_col26\" class=\"data row0 col26\" >0.000</td>\n",
       "                        <td id=\"T_7dfdd_row0_col27\" class=\"data row0 col27\" >0.028</td>\n",
       "                        <td id=\"T_7dfdd_row0_col28\" class=\"data row0 col28\" >0.164</td>\n",
       "                        <td id=\"T_7dfdd_row0_col29\" class=\"data row0 col29\" >1.000</td>\n",
       "            </tr>\n",
       "            <tr>\n",
       "                        <th id=\"T_7dfdd_level0_row1\" class=\"row_heading level0 row1\" >B</th>\n",
       "                        <td id=\"T_7dfdd_row1_col0\" class=\"data row1 col0\" >2065446.000</td>\n",
       "                        <td id=\"T_7dfdd_row1_col1\" class=\"data row1 col1\" >127.000</td>\n",
       "                        <td id=\"T_7dfdd_row1_col2\" class=\"data row1 col2\" >155.490</td>\n",
       "                        <td id=\"T_7dfdd_row1_col3\" class=\"data row1 col3\" >136.897</td>\n",
       "                        <td id=\"T_7dfdd_row1_col4\" class=\"data row1 col4\" >1911.000</td>\n",
       "                        <td id=\"T_7dfdd_row1_col5\" class=\"data row1 col5\" >2065446.000</td>\n",
       "                        <td id=\"T_7dfdd_row1_col6\" class=\"data row1 col6\" >0.000</td>\n",
       "                        <td id=\"T_7dfdd_row1_col7\" class=\"data row1 col7\" >0.393</td>\n",
       "                        <td id=\"T_7dfdd_row1_col8\" class=\"data row1 col8\" >9.720</td>\n",
       "                        <td id=\"T_7dfdd_row1_col9\" class=\"data row1 col9\" >5238.000</td>\n",
       "                        <td id=\"T_7dfdd_row1_col10\" class=\"data row1 col10\" >2065446.000</td>\n",
       "                        <td id=\"T_7dfdd_row1_col11\" class=\"data row1 col11\" >1.000</td>\n",
       "                        <td id=\"T_7dfdd_row1_col12\" class=\"data row1 col12\" >0.921</td>\n",
       "                        <td id=\"T_7dfdd_row1_col13\" class=\"data row1 col13\" >0.269</td>\n",
       "                        <td id=\"T_7dfdd_row1_col14\" class=\"data row1 col14\" >1.000</td>\n",
       "                        <td id=\"T_7dfdd_row1_col15\" class=\"data row1 col15\" >2065446.000</td>\n",
       "                        <td id=\"T_7dfdd_row1_col16\" class=\"data row1 col16\" >1.000</td>\n",
       "                        <td id=\"T_7dfdd_row1_col17\" class=\"data row1 col17\" >0.834</td>\n",
       "                        <td id=\"T_7dfdd_row1_col18\" class=\"data row1 col18\" >0.372</td>\n",
       "                        <td id=\"T_7dfdd_row1_col19\" class=\"data row1 col19\" >1.000</td>\n",
       "                        <td id=\"T_7dfdd_row1_col20\" class=\"data row1 col20\" >56945.000</td>\n",
       "                        <td id=\"T_7dfdd_row1_col21\" class=\"data row1 col21\" >1.000</td>\n",
       "                        <td id=\"T_7dfdd_row1_col22\" class=\"data row1 col22\" >2.703</td>\n",
       "                        <td id=\"T_7dfdd_row1_col23\" class=\"data row1 col23\" >4.454</td>\n",
       "                        <td id=\"T_7dfdd_row1_col24\" class=\"data row1 col24\" >75.000</td>\n",
       "                        <td id=\"T_7dfdd_row1_col25\" class=\"data row1 col25\" >2065446.000</td>\n",
       "                        <td id=\"T_7dfdd_row1_col26\" class=\"data row1 col26\" >0.000</td>\n",
       "                        <td id=\"T_7dfdd_row1_col27\" class=\"data row1 col27\" >0.028</td>\n",
       "                        <td id=\"T_7dfdd_row1_col28\" class=\"data row1 col28\" >0.164</td>\n",
       "                        <td id=\"T_7dfdd_row1_col29\" class=\"data row1 col29\" >1.000</td>\n",
       "            </tr>\n",
       "    </tbody></table>"
      ],
      "text/plain": [
       "<pandas.io.formats.style.Styler at 0x28544763820>"
      ]
     },
     "execution_count": 122,
     "metadata": {},
     "output_type": "execute_result"
    }
   ],
   "source": [
    "df[[\"abtest_group\", \"total_gameends\", \"total_purchases\", \"day_2_retention\", \"day_7_retention\", \"days_to_convert\", \"paying_user\"]].groupby(by=\"abtest_group\").agg([\"count\", \n",
    "                                                                \"median\", \"mean\", \"std\", \"max\"]).style.format('{:.3f}')"
   ]
  },
  {
   "cell_type": "code",
   "execution_count": null,
   "metadata": {},
   "outputs": [
    {
     "data": {
      "image/png": "[encoded data removed]",
      "text/plain": [
       "<Figure size 1224x360 with 3 Axes>"
      ]
     },
     "metadata": {
      "needs_background": "light"
     },
     "output_type": "display_data"
    }
   ],
   "source": [
    "fig, ax = plt.subplots(1, 3, figsize=(17, 5))\n",
    "control_results.hist(\"total_gameends\", density=True, bins= 20, ax=ax[0])\n",
    "test_results.hist(\"total_gameends\", density=True, bins= 20, ax=ax[1])\n",
    "sns.boxplot(x=\"abtest_group\", y=\"total_gameends\", data=df, ax=ax[2])\n",
    "\n",
    "fig.suptitle(\"Gamerounds\", fontsize=15)\n",
    "ax[0].set_title(\"Distribution of Test\", fontsize = 12)\n",
    "ax[1].set_title(\"Distribution of Control\", fontsize = 12)\n",
    "ax[2].set_title(\"Boxplot of Two Groups\", fontsize = 12)\n",
    "plt.tight_layout(pad = 1)\n",
    "plt.show()"
   ]
  },
  {
   "cell_type": "code",
   "execution_count": null,
   "metadata": {},
   "outputs": [
    {
     "data": {
      "image/png": "[encoded data removed]",
      "text/plain": [
       "<Figure size 1224x360 with 3 Axes>"
      ]
     },
     "metadata": {
      "needs_background": "light"
     },
     "output_type": "display_data"
    }
   ],
   "source": [
    "fig, ax = plt.subplots(1, 3, figsize=(17, 5))\n",
    "control_results.hist(\"total_purchases\", density=True, bins=20, ax=ax[0])\n",
    "test_results.hist(\"total_purchases\", density=True, bins= 20, ax=ax[1])\n",
    "sns.boxplot(x=\"abtest_group\", y=\"total_purchases\", data=df, ax=ax[2])\n",
    "\n",
    "fig.suptitle(\"Purchases\", fontsize=15)\n",
    "ax[0].set_title(\"Distribution of Test\", fontsize = 12)\n",
    "ax[1].set_title(\"Distribution of Control\", fontsize = 12)\n",
    "ax[2].set_title(\"Boxplot of Two Groups\", fontsize = 12)\n",
    "plt.tight_layout(pad = 1)\n",
    "plt.show()"
   ]
  },
  {
   "cell_type": "code",
   "execution_count": 80,
   "metadata": {},
   "outputs": [],
   "source": [
    "grouped_df = df[[\"abtest_group\", \"total_gameends\", \"total_purchases\"]].groupby(df[\"abtest_group\"]).mean()\n",
    "grouped_df_lift = (grouped_df.loc[\"B\"] - grouped_df.loc[\"A\"]) / grouped_df.loc[\"A\"]"
   ]
  },
  {
   "cell_type": "code",
   "execution_count": null,
   "metadata": {},
   "outputs": [
    {
     "data": {
      "image/png": "[encoded data removed]",
      "text/plain": [
       "<Figure size 1224x360 with 3 Axes>"
      ]
     },
     "metadata": {
      "needs_background": "light"
     },
     "output_type": "display_data"
    }
   ],
   "source": [
    "grouped_df = df[[\"abtest_group\", \"total_gameends\", \"total_purchases\"]].groupby(df[\"abtest_group\"]).mean()\n",
    "grouped_df_lift = (grouped_df.loc[\"B\"] - grouped_df.loc[\"A\"]) / grouped_df.loc[\"A\"]\n",
    "\n",
    "fig, ax = plt.subplots(1, 3, figsize=(17, 5))\n",
    "sns.barplot(x=grouped_df.total_gameends.index, y=grouped_df.total_gameends, ax=ax[0])\n",
    "sns.barplot(x=grouped_df.total_purchases.index, y=grouped_df.total_purchases, ax=ax[1])\n",
    "sns.barplot(x=grouped_df_lift.index, y=grouped_df_lift*100, ax=ax[2])\n",
    "\n",
    "fig.suptitle(\"Experiment Results\", fontsize=15)\n",
    "ax[0].set_title(\"Gamerounds\", pad=10)\n",
    "ax[0].set_ylabel(\"Average Number of Game Rounds per Player\")\n",
    "ax[1].set_title(\"Purchases\", pad=10)\n",
    "ax[1].set_ylabel(\"Average Number of Purchases per Player\")\n",
    "ax[2].set_ylim(-8, 8)\n",
    "ax[2].set_title(\"AB Test Results\")\n",
    "ax[2].set_xlabel(\"Evaluation Metric\")\n",
    "ax[2].set_ylabel(\"Lift (%)\")\n",
    "plt.axhline(y=0, color='r', linestyle='-')\n",
    "plt.tight_layout(pad = 1)\n",
    "plt.show()"
   ]
  },
  {
   "cell_type": "markdown",
   "metadata": {},
   "source": [
    "It would seem that our treatment has resulted in a decrease in the average number of gamerounds per player of around 2% (bummer!), but a substantial increase of around 7% in the average number of purchases made. \n",
    "\n",
    "To confirm these results, we will perform hypothesis tests."
   ]
  },
  {
   "cell_type": "code",
   "execution_count": null,
   "metadata": {},
   "outputs": [
    {
     "data": {
      "text/plain": [
       "MannwhitneyuResult(statistic=8373836786400.0, pvalue=0.0)"
      ]
     },
     "execution_count": 192,
     "metadata": {},
     "output_type": "execute_result"
    }
   ],
   "source": [
    "hypothesis_test(test_results[\"total_gameends\"], control_results[\"total_gameends\"], alternative=\"less\")"
   ]
  },
  {
   "cell_type": "code",
   "execution_count": null,
   "metadata": {},
   "outputs": [
    {
     "data": {
      "text/plain": [
       "MannwhitneyuResult(statistic=8536180046875.0, pvalue=0.4901617437975493)"
      ]
     },
     "execution_count": 299,
     "metadata": {},
     "output_type": "execute_result"
    }
   ],
   "source": [
    "hypothesis_test(test_results[\"total_purchases\"], control_results[\"total_purchases\"], alternative=\"greater\")"
   ]
  },
  {
   "cell_type": "markdown",
   "metadata": {},
   "source": [
    "This shows that we can be confident that there is a difference between the average number of gamerounds between the two groups, but we do not have sufficient evidence to say that the true average number of purchases is different between the two groups."
   ]
  },
  {
   "cell_type": "markdown",
   "metadata": {},
   "source": [
    "### Daily Data"
   ]
  },
  {
   "cell_type": "markdown",
   "metadata": {},
   "source": [
    "We also want to look at the daily average number of gamerounds and purchases evolve throughout the experiment. After launching a new game feature, there may be early transitional effects of the changes introduced in the variants. Looking at the daily averages, rather than the total averages, may yield some interesting information. Let's look at daily average data. "
   ]
  },
  {
   "cell_type": "code",
   "execution_count": 14,
   "metadata": {},
   "outputs": [],
   "source": [
    "query1 = ('''\n",
    "    WITH\n",
    "\n",
    "    activity AS (\n",
    "    SELECT *\n",
    "        FROM `king-ds-recruit-candidate-635.abtest.activity` \n",
    "        WHERE activity_date BETWEEN \"2017-05-04\" AND \"2017-05-22\"\n",
    "    ),\n",
    "\n",
    "    joinTables AS (\n",
    "    SELECT ass.playerid, ass.abtest_group, ac.activity_date, ac.gameends, ac.purchases, \n",
    "    FROM `king-ds-recruit-candidate-635.abtest.assignment` AS ass\n",
    "    LEFT JOIN  activity AS ac\n",
    "    ON ass.playerid=ac.playerid\n",
    "    ),\n",
    "\n",
    "    avg_by_date AS (\n",
    "    SELECT abtest_group, activity_date, AVG(gameends) AS avg_gameends, STDDEV(gameends) AS std_gameends, \n",
    "        SUM(gameends) AS n_gameends, AVG(purchases) AS avg_purchases, STDDEV(purchases) AS std_purchases, \n",
    "        SUM(purchases) AS n_purchases\n",
    "    FROM joinTables\n",
    "    GROUP BY 1, 2\n",
    "    ORDER BY activity_date, abtest_group\n",
    "    )\n",
    "\n",
    "    SELECT *\n",
    "    FROM avg_by_date\n",
    "    ''')\n",
    "\n",
    "df1 = gcp2df(query1)"
   ]
  },
  {
   "cell_type": "code",
   "execution_count": 15,
   "metadata": {},
   "outputs": [
    {
     "data": {
      "text/html": [
       "<div>\n",
       "<style scoped>\n",
       "    .dataframe tbody tr th:only-of-type {\n",
       "        vertical-align: middle;\n",
       "    }\n",
       "\n",
       "    .dataframe tbody tr th {\n",
       "        vertical-align: top;\n",
       "    }\n",
       "\n",
       "    .dataframe thead th {\n",
       "        text-align: right;\n",
       "    }\n",
       "</style>\n",
       "<table border=\"1\" class=\"dataframe\">\n",
       "  <thead>\n",
       "    <tr style=\"text-align: right;\">\n",
       "      <th></th>\n",
       "      <th>abtest_group</th>\n",
       "      <th>activity_date</th>\n",
       "      <th>avg_gameends</th>\n",
       "      <th>std_gameends</th>\n",
       "      <th>n_gameends</th>\n",
       "      <th>avg_purchases</th>\n",
       "      <th>std_purchases</th>\n",
       "      <th>n_purchases</th>\n",
       "    </tr>\n",
       "  </thead>\n",
       "  <tbody>\n",
       "    <tr>\n",
       "      <th>0</th>\n",
       "      <td>A</td>\n",
       "      <td>2017-05-04</td>\n",
       "      <td>13.179551</td>\n",
       "      <td>10.238376</td>\n",
       "      <td>68597770</td>\n",
       "      <td>0.030555</td>\n",
       "      <td>0.757338</td>\n",
       "      <td>159035</td>\n",
       "    </tr>\n",
       "    <tr>\n",
       "      <th>1</th>\n",
       "      <td>B</td>\n",
       "      <td>2017-05-04</td>\n",
       "      <td>13.119000</td>\n",
       "      <td>10.180584</td>\n",
       "      <td>17040715</td>\n",
       "      <td>0.031852</td>\n",
       "      <td>0.775842</td>\n",
       "      <td>41374</td>\n",
       "    </tr>\n",
       "    <tr>\n",
       "      <th>2</th>\n",
       "      <td>A</td>\n",
       "      <td>2017-05-05</td>\n",
       "      <td>13.186148</td>\n",
       "      <td>10.250823</td>\n",
       "      <td>68498045</td>\n",
       "      <td>0.030470</td>\n",
       "      <td>0.768134</td>\n",
       "      <td>158282</td>\n",
       "    </tr>\n",
       "    <tr>\n",
       "      <th>3</th>\n",
       "      <td>B</td>\n",
       "      <td>2017-05-05</td>\n",
       "      <td>13.003362</td>\n",
       "      <td>10.096645</td>\n",
       "      <td>16868794</td>\n",
       "      <td>0.033394</td>\n",
       "      <td>0.772663</td>\n",
       "      <td>43321</td>\n",
       "    </tr>\n",
       "    <tr>\n",
       "      <th>4</th>\n",
       "      <td>A</td>\n",
       "      <td>2017-05-06</td>\n",
       "      <td>13.182186</td>\n",
       "      <td>10.235810</td>\n",
       "      <td>68755819</td>\n",
       "      <td>0.030389</td>\n",
       "      <td>0.771736</td>\n",
       "      <td>158504</td>\n",
       "    </tr>\n",
       "  </tbody>\n",
       "</table>\n",
       "</div>"
      ],
      "text/plain": [
       "  abtest_group activity_date  avg_gameends  std_gameends  n_gameends  \\\n",
       "0            A    2017-05-04     13.179551     10.238376    68597770   \n",
       "1            B    2017-05-04     13.119000     10.180584    17040715   \n",
       "2            A    2017-05-05     13.186148     10.250823    68498045   \n",
       "3            B    2017-05-05     13.003362     10.096645    16868794   \n",
       "4            A    2017-05-06     13.182186     10.235810    68755819   \n",
       "\n",
       "   avg_purchases  std_purchases  n_purchases  \n",
       "0       0.030555       0.757338       159035  \n",
       "1       0.031852       0.775842        41374  \n",
       "2       0.030470       0.768134       158282  \n",
       "3       0.033394       0.772663        43321  \n",
       "4       0.030389       0.771736       158504  "
      ]
     },
     "execution_count": 15,
     "metadata": {},
     "output_type": "execute_result"
    }
   ],
   "source": [
    "df1.head()  # contains the average number of gamerounds and purchases made each day of the experiment"
   ]
  },
  {
   "cell_type": "code",
   "execution_count": 99,
   "metadata": {},
   "outputs": [
    {
     "data": {
      "image/png": "[encoded data removed]",
      "text/plain": [
       "<Figure size 1080x360 with 2 Axes>"
      ]
     },
     "metadata": {
      "needs_background": "light"
     },
     "output_type": "display_data"
    }
   ],
   "source": [
    "fig, ax = plt.subplots(1, 2, figsize=(15, 5))\n",
    "xticklabels = df1.activity_date.unique()\n",
    "sns.lineplot(x=\"activity_date\", y=\"avg_gameends\", hue=\"abtest_group\", data=df1, ax=ax[0])\n",
    "sns.lineplot(x=\"activity_date\", y=\"avg_purchases\", hue=\"abtest_group\", data=df1, ax=ax[1])\n",
    "ax[0].set_xticklabels(xticklabels, rotation=40)\n",
    "ax[1].set_xticklabels(xticklabels, rotation=40)\n",
    "plt.suptitle(\"Results Analysis by Date\", fontsize=15)\n",
    "ax[0].set_xlabel(\"Activity Date\")\n",
    "ax[0].set_ylabel(\"Average Gamerounds\")\n",
    "ax[0].set_title(\"Average Daily Gamerounds\", pad=10)\n",
    "ax[1].set_xlabel(\"Activity Date\")\n",
    "ax[1].set_ylabel(\"Average Purchases\")\n",
    "ax[1].set_title(\"Average Daily Purchases\", pad=10)\n",
    "plt.tight_layout(pad=1)\n",
    "plt.show()"
   ]
  },
  {
   "cell_type": "markdown",
   "metadata": {},
   "source": [
    "On the left, we see that average number of gamerounds of the test group decreases right away and keeps constant, so we are more certain that the treatment has a negative effect on player engagement. \n",
    "\n",
    "However, on the right we see that the average number of daily purchases in the test group has a negative trend over time. By the end of the experiment, the purchases of the test group are equal to those in the control group, indicating that the 7% lift in the average number of purchases is likely to be transitory. To take more meaningful conclusions, we should wait for the purchases to stabilize. "
   ]
  },
  {
   "cell_type": "markdown",
   "metadata": {},
   "source": [
    "### Analysis by Player Type"
   ]
  },
  {
   "cell_type": "markdown",
   "metadata": {},
   "source": [
    "It would be interesting to see if different types of players react differently to the treatment."
   ]
  },
  {
   "cell_type": "code",
   "execution_count": 82,
   "metadata": {},
   "outputs": [
    {
     "data": {
      "text/html": [
       "<div>\n",
       "<style scoped>\n",
       "    .dataframe tbody tr th:only-of-type {\n",
       "        vertical-align: middle;\n",
       "    }\n",
       "\n",
       "    .dataframe tbody tr th {\n",
       "        vertical-align: top;\n",
       "    }\n",
       "\n",
       "    .dataframe thead th {\n",
       "        text-align: right;\n",
       "    }\n",
       "</style>\n",
       "<table border=\"1\" class=\"dataframe\">\n",
       "  <thead>\n",
       "    <tr style=\"text-align: right;\">\n",
       "      <th></th>\n",
       "      <th>player_type</th>\n",
       "      <th>abtest_group</th>\n",
       "      <th>total_gameends</th>\n",
       "      <th>total_purchases</th>\n",
       "    </tr>\n",
       "  </thead>\n",
       "  <tbody>\n",
       "    <tr>\n",
       "      <th>0</th>\n",
       "      <td>OG</td>\n",
       "      <td>A</td>\n",
       "      <td>184.112059</td>\n",
       "      <td>0.427444</td>\n",
       "    </tr>\n",
       "    <tr>\n",
       "      <th>1</th>\n",
       "      <td>OG</td>\n",
       "      <td>B</td>\n",
       "      <td>180.576797</td>\n",
       "      <td>0.455691</td>\n",
       "    </tr>\n",
       "    <tr>\n",
       "      <th>2</th>\n",
       "      <td>experienced</td>\n",
       "      <td>A</td>\n",
       "      <td>170.987525</td>\n",
       "      <td>0.389854</td>\n",
       "    </tr>\n",
       "    <tr>\n",
       "      <th>3</th>\n",
       "      <td>experienced</td>\n",
       "      <td>B</td>\n",
       "      <td>167.774378</td>\n",
       "      <td>0.428025</td>\n",
       "    </tr>\n",
       "    <tr>\n",
       "      <th>4</th>\n",
       "      <td>newbie</td>\n",
       "      <td>A</td>\n",
       "      <td>64.948765</td>\n",
       "      <td>0.150142</td>\n",
       "    </tr>\n",
       "    <tr>\n",
       "      <th>5</th>\n",
       "      <td>newbie</td>\n",
       "      <td>B</td>\n",
       "      <td>63.739933</td>\n",
       "      <td>0.155587</td>\n",
       "    </tr>\n",
       "  </tbody>\n",
       "</table>\n",
       "</div>"
      ],
      "text/plain": [
       "   player_type abtest_group  total_gameends  total_purchases\n",
       "0           OG            A      184.112059         0.427444\n",
       "1           OG            B      180.576797         0.455691\n",
       "2  experienced            A      170.987525         0.389854\n",
       "3  experienced            B      167.774378         0.428025\n",
       "4       newbie            A       64.948765         0.150142\n",
       "5       newbie            B       63.739933         0.155587"
      ]
     },
     "execution_count": 82,
     "metadata": {},
     "output_type": "execute_result"
    }
   ],
   "source": [
    "player_types = df[[\"abtest_group\", \"player_type\", \"total_gameends\", \"total_purchases\"]].groupby(by=[\"player_type\", \"abtest_group\", \n",
    "                                                                                    ]).agg(np.mean).reset_index()\n",
    "player_types"
   ]
  },
  {
   "cell_type": "code",
   "execution_count": null,
   "metadata": {},
   "outputs": [
    {
     "data": {
      "image/png": "[encoded data removed]",
      "text/plain": [
       "<Figure size 1080x360 with 2 Axes>"
      ]
     },
     "metadata": {
      "needs_background": "light"
     },
     "output_type": "display_data"
    }
   ],
   "source": [
    "fig, ax = plt.subplots(1, 2, figsize=(15, 5))\n",
    "sns.barplot(x=\"player_type\", y=\"total_gameends\", hue=\"abtest_group\", data=player_types, ax=ax[0])\n",
    "sns.barplot(x=\"player_type\", y=\"total_purchases\", hue=\"abtest_group\", data=player_types, ax=ax[1])\n",
    "\n",
    "fig.suptitle(\"Player Segmentation Analysis\", fontsize=15)\n",
    "ax[0].set_title(\"Average Gamerounds by Player Type\")\n",
    "ax[0].set_ylabel(\"Average Gamerounds\")\n",
    "ax[1].set_title(\"Average Purchases by Player Type\")\n",
    "ax[1].set_ylabel(\"Average Purchases\")\n",
    "plt.tight_layout(pad=1)\n",
    "plt.show()"
   ]
  },
  {
   "cell_type": "markdown",
   "metadata": {},
   "source": [
    "The treatment's engagement and monetization lift appears less extreme for newbies for both gamerounds and purchases. Newbies are those that have installed the game after the start of the ab test and thus had never seen the control version of the game. \n",
    "\n",
    "This suggests that there isn't a significant difference between the two versions for new players, at least during the first weeks of play. "
   ]
  },
  {
   "cell_type": "code",
   "execution_count": 125,
   "metadata": {},
   "outputs": [
    {
     "data": {
      "text/html": [
       "<style  type=\"text/css\" >\n",
       "</style><table id=\"T_8221e_\" ><thead>    <tr>        <th class=\"blank\" ></th>        <th class=\"blank level0\" ></th>        <th class=\"col_heading level0 col0\" >day_2_retention</th>        <th class=\"col_heading level0 col1\" >day_7_retention</th>        <th class=\"col_heading level0 col2\" >days_to_convert</th>        <th class=\"col_heading level0 col3\" >paying_user</th>    </tr>    <tr>        <th class=\"blank\" ></th>        <th class=\"blank level1\" ></th>        <th class=\"col_heading level1 col0\" >mean</th>        <th class=\"col_heading level1 col1\" >mean</th>        <th class=\"col_heading level1 col2\" >mean</th>        <th class=\"col_heading level1 col3\" >mean</th>    </tr>    <tr>        <th class=\"index_name level0\" >player_type</th>        <th class=\"index_name level1\" >abtest_group</th>        <th class=\"blank\" ></th>        <th class=\"blank\" ></th>        <th class=\"blank\" ></th>        <th class=\"blank\" ></th>    </tr></thead><tbody>\n",
       "                <tr>\n",
       "                        <th id=\"T_8221e_level0_row0\" class=\"row_heading level0 row0\" rowspan=\"2\">OG</th>\n",
       "                        <th id=\"T_8221e_level1_row0\" class=\"row_heading level1 row0\" >A</th>\n",
       "                        <td id=\"T_8221e_row0_col0\" class=\"data row0 col0\" >0.996</td>\n",
       "                        <td id=\"T_8221e_row0_col1\" class=\"data row0 col1\" >0.976</td>\n",
       "                        <td id=\"T_8221e_row0_col2\" class=\"data row0 col2\" >2.984</td>\n",
       "                        <td id=\"T_8221e_row0_col3\" class=\"data row0 col3\" >0.030</td>\n",
       "            </tr>\n",
       "            <tr>\n",
       "                                <th id=\"T_8221e_level1_row1\" class=\"row_heading level1 row1\" >B</th>\n",
       "                        <td id=\"T_8221e_row1_col0\" class=\"data row1 col0\" >0.996</td>\n",
       "                        <td id=\"T_8221e_row1_col1\" class=\"data row1 col1\" >0.975</td>\n",
       "                        <td id=\"T_8221e_row1_col2\" class=\"data row1 col2\" >2.968</td>\n",
       "                        <td id=\"T_8221e_row1_col3\" class=\"data row1 col3\" >0.029</td>\n",
       "            </tr>\n",
       "            <tr>\n",
       "                        <th id=\"T_8221e_level0_row2\" class=\"row_heading level0 row2\" rowspan=\"2\">experienced</th>\n",
       "                        <th id=\"T_8221e_level1_row2\" class=\"row_heading level1 row2\" >A</th>\n",
       "                        <td id=\"T_8221e_row2_col0\" class=\"data row2 col0\" >0.981</td>\n",
       "                        <td id=\"T_8221e_row2_col1\" class=\"data row2 col1\" >0.904</td>\n",
       "                        <td id=\"T_8221e_row2_col2\" class=\"data row2 col2\" >2.866</td>\n",
       "                        <td id=\"T_8221e_row2_col3\" class=\"data row2 col3\" >0.029</td>\n",
       "            </tr>\n",
       "            <tr>\n",
       "                                <th id=\"T_8221e_level1_row3\" class=\"row_heading level1 row3\" >B</th>\n",
       "                        <td id=\"T_8221e_row3_col0\" class=\"data row3 col0\" >0.980</td>\n",
       "                        <td id=\"T_8221e_row3_col1\" class=\"data row3 col1\" >0.904</td>\n",
       "                        <td id=\"T_8221e_row3_col2\" class=\"data row3 col2\" >2.861</td>\n",
       "                        <td id=\"T_8221e_row3_col3\" class=\"data row3 col3\" >0.029</td>\n",
       "            </tr>\n",
       "            <tr>\n",
       "                        <th id=\"T_8221e_level0_row4\" class=\"row_heading level0 row4\" rowspan=\"2\">newbie</th>\n",
       "                        <th id=\"T_8221e_level1_row4\" class=\"row_heading level1 row4\" >A</th>\n",
       "                        <td id=\"T_8221e_row4_col0\" class=\"data row4 col0\" >0.619</td>\n",
       "                        <td id=\"T_8221e_row4_col1\" class=\"data row4 col1\" >0.317</td>\n",
       "                        <td id=\"T_8221e_row4_col2\" class=\"data row4 col2\" >1.297</td>\n",
       "                        <td id=\"T_8221e_row4_col3\" class=\"data row4 col3\" >0.020</td>\n",
       "            </tr>\n",
       "            <tr>\n",
       "                                <th id=\"T_8221e_level1_row5\" class=\"row_heading level1 row5\" >B</th>\n",
       "                        <td id=\"T_8221e_row5_col0\" class=\"data row5 col0\" >0.619</td>\n",
       "                        <td id=\"T_8221e_row5_col1\" class=\"data row5 col1\" >0.316</td>\n",
       "                        <td id=\"T_8221e_row5_col2\" class=\"data row5 col2\" >1.239</td>\n",
       "                        <td id=\"T_8221e_row5_col3\" class=\"data row5 col3\" >0.020</td>\n",
       "            </tr>\n",
       "    </tbody></table>"
      ],
      "text/plain": [
       "<pandas.io.formats.style.Styler at 0x2853f55e9a0>"
      ]
     },
     "execution_count": 125,
     "metadata": {},
     "output_type": "execute_result"
    }
   ],
   "source": [
    "df[[\"abtest_group\", \"player_type\", \"day_2_retention\", \"day_7_retention\", \"days_to_convert\", \"paying_user\"]].groupby(by=[\"player_type\", \"abtest_group\"]).agg([\"mean\"]).style.format('{:.3f}')"
   ]
  },
  {
   "cell_type": "markdown",
   "metadata": {},
   "source": [
    "## 5. What type of change to the game do you think was tested here?"
   ]
  },
  {
   "cell_type": "markdown",
   "metadata": {},
   "source": [
    "Knowing the type of change introduced to the game is important before deciding whether to recommend the treatment or reject it.\n",
    "\n",
    "Let's remember the business problem! Players need to solve math questions to progress through a map. The game is Free to Play meaning that players can download and play the game for free but can optionally buy hints on the levels.\n",
    "\n",
    "The results show an increase in the average purchases (although statistically not significant) that starts falling after the first week, but a decrease in engagement. We also see that the change has almost no effect on new players. \n",
    "\n",
    "This seems to suggest that the next set of new levels has been introduced to the game. The hypothesis would explain why the change has almost no effect on new players -they are unlikely to reach these higher levels in just a couple of weeks-, and would explain both an increase in purchases and a slight decrease in engagement -now players have more levels to get stuck on and pay (particularly experienced players that had reached the end), but the fact that the later levels are harder can make them lose the motivation to keep playing-. The sudden drop of purchases after a week could be explained by the experienced players reaching the final level again.\n"
   ]
  },
  {
   "cell_type": "markdown",
   "metadata": {},
   "source": [
    "## 5. Conclusion"
   ]
  },
  {
   "cell_type": "markdown",
   "metadata": {},
   "source": [
    "In this experiment, we analyzed the data provided to determine wether the test variant makes Super Math Saga a better game. The main takaways are as follows:\n",
    "\n",
    "The results of the analysis indicate that there is a statistical significance that the test group has a lower engagement than the control group. \n",
    "\n",
    "In terms of monetization, we have not been able to proof that the test variant produces a statistical significant lift over the control. Additionally, we have observed that despite an initial increase in purchases of the test variant on the first few days of the test, the trend starts to fall thereafter until the two variants look nearly identical.\n",
    "\n",
    "A further analysis by player type suggests that the two variants perform nearly identically in new players in terms of engagement and monetization, and the effect mainly affects more experienced players.\n",
    "\n",
    "For all these reasons and without more information on the experiment that was performed, we cannot conclude that the change introduced to the game is a significant improvement over the control variant, and we cannot recommend that the test variant is launched. "
   ]
  },
  {
   "cell_type": "code",
   "execution_count": 1,
   "metadata": {},
   "outputs": [],
   "source": [
    "# ______________________________________________"
   ]
  },
  {
   "cell_type": "markdown",
   "metadata": {},
   "source": [
    "Thank you for completing the King Super Math Saga analysis! For your last interview we would like you to come and present your findings and what should we do next. It is an opportunity for you to show your persuasiveness, creativity and how you respond to feedback. We are interested in your ideas:\n",
    "\n",
    " \n",
    "\n",
    "How to iterate on the test – could we tweak it to improve performance?\n",
    "\n",
    "What areas would you focus your analysis on next? you may have already mentioned a few in your report, lets discuss them\n",
    "\n",
    "What are the implications for the business? Which actions would you suggest? Who should we engage?"
   ]
  },
  {
   "cell_type": "markdown",
   "metadata": {},
   "source": [
    "Ideas:\n",
    "\n",
    "Power analysis, how many data points do we need? Could we have lowered the risk with a smaller test population?"
   ]
  },
  {
   "cell_type": "markdown",
   "metadata": {},
   "source": [
    "## K-Means Clustering"
   ]
  },
  {
   "cell_type": "code",
   "execution_count": 3,
   "metadata": {},
   "outputs": [],
   "source": [
    "activity_summary_stats = ('''\n",
    "    WITH\n",
    "\n",
    "    activity_summary_stats AS (\n",
    "    SELECT playerid, COUNT(activity_date) AS days_played,\n",
    "        SUM(purchases) AS lifetime_purchases, MAX(purchases) AS max_daily_purchases, AVG(purchases) AS avg_daily_purchases, STDDEV(purchases) AS      std_purchases,\n",
    "        SUM(gameends) AS lifetime_gameends, MAX(gameends) AS max_daily_gameends, AVG(gameends) AS avg_daily_gameends, STDDEV(gameends) as std_gameends\n",
    "    FROM `king-ds-recruit-candidate-635.abtest.activity`\n",
    "    GROUP BY playerid\n",
    "    ), \n",
    "\n",
    "    purchase_days AS (\n",
    "    SELECT playerid, COUNT(purchases) AS purchase_days\n",
    "    FROM `king-ds-recruit-candidate-635.abtest.activity`\n",
    "    WHERE purchases > 0\n",
    "    GROUP BY playerid\n",
    "    ), \n",
    "\n",
    "    date_diff AS (\n",
    "    SELECT playerid, DATE_DIFF(PARSE_DATE(\"%Y-%m-%d\", MAX(activity_date)), PARSE_DATE(\"%Y-%m-%d\", MIN(activity_date)), DAY) AS date_diff\n",
    "    FROM `king-ds-recruit-candidate-635.abtest.activity`\n",
    "    GROUP BY playerid\n",
    "    ),\n",
    "\n",
    "    join_tables AS (\n",
    "    SELECT asa.*, IFNULL(pd.purchase_days, 0) AS purchase_days, date_diff\n",
    "    FROM activity_summary_stats AS asa\n",
    "        LEFT JOIN purchase_days AS pd\n",
    "        ON asa.playerid = pd.playerid\n",
    "        LEFT JOIN date_diff AS dd\n",
    "        ON asa.playerid = dd.playerid\n",
    "    )\n",
    "\n",
    "    SELECT *\n",
    "    FROM join_tables\n",
    "    ''')\n",
    "\n",
    "df2 = gcp2df(activity_summary_stats)"
   ]
  },
  {
   "cell_type": "code",
   "execution_count": 106,
   "metadata": {},
   "outputs": [],
   "source": [
    "# df2.to_csv(\"../../../activity_summary_stats.csv\")\n",
    "df2 = pd.read_csv(\"../../../activity_summary_stats.csv\", index_col=0)"
   ]
  },
  {
   "cell_type": "code",
   "execution_count": 17,
   "metadata": {},
   "outputs": [
    {
     "data": {
      "text/html": [
       "<div>\n",
       "<style scoped>\n",
       "    .dataframe tbody tr th:only-of-type {\n",
       "        vertical-align: middle;\n",
       "    }\n",
       "\n",
       "    .dataframe tbody tr th {\n",
       "        vertical-align: top;\n",
       "    }\n",
       "\n",
       "    .dataframe thead th {\n",
       "        text-align: right;\n",
       "    }\n",
       "</style>\n",
       "<table border=\"1\" class=\"dataframe\">\n",
       "  <thead>\n",
       "    <tr style=\"text-align: right;\">\n",
       "      <th></th>\n",
       "      <th>playerid</th>\n",
       "      <th>days_played</th>\n",
       "      <th>lifetime_purchases</th>\n",
       "      <th>max_daily_purchases</th>\n",
       "      <th>avg_daily_purchases</th>\n",
       "      <th>std_purchases</th>\n",
       "      <th>lifetime_gameends</th>\n",
       "      <th>max_daily_gameends</th>\n",
       "      <th>avg_daily_gameends</th>\n",
       "      <th>std_gameends</th>\n",
       "      <th>purchase_days</th>\n",
       "      <th>date_diff</th>\n",
       "    </tr>\n",
       "  </thead>\n",
       "  <tbody>\n",
       "    <tr>\n",
       "      <th>0</th>\n",
       "      <td>32493786</td>\n",
       "      <td>31</td>\n",
       "      <td>0</td>\n",
       "      <td>0</td>\n",
       "      <td>0.0</td>\n",
       "      <td>0.0</td>\n",
       "      <td>304</td>\n",
       "      <td>16</td>\n",
       "      <td>9.806452</td>\n",
       "      <td>3.789629</td>\n",
       "      <td>0</td>\n",
       "      <td>32</td>\n",
       "    </tr>\n",
       "    <tr>\n",
       "      <th>1</th>\n",
       "      <td>9136130</td>\n",
       "      <td>31</td>\n",
       "      <td>0</td>\n",
       "      <td>0</td>\n",
       "      <td>0.0</td>\n",
       "      <td>0.0</td>\n",
       "      <td>521</td>\n",
       "      <td>24</td>\n",
       "      <td>16.806452</td>\n",
       "      <td>3.824651</td>\n",
       "      <td>0</td>\n",
       "      <td>32</td>\n",
       "    </tr>\n",
       "    <tr>\n",
       "      <th>2</th>\n",
       "      <td>29937133</td>\n",
       "      <td>31</td>\n",
       "      <td>0</td>\n",
       "      <td>0</td>\n",
       "      <td>0.0</td>\n",
       "      <td>0.0</td>\n",
       "      <td>262</td>\n",
       "      <td>14</td>\n",
       "      <td>8.451613</td>\n",
       "      <td>2.514474</td>\n",
       "      <td>0</td>\n",
       "      <td>31</td>\n",
       "    </tr>\n",
       "    <tr>\n",
       "      <th>3</th>\n",
       "      <td>42102526</td>\n",
       "      <td>31</td>\n",
       "      <td>0</td>\n",
       "      <td>0</td>\n",
       "      <td>0.0</td>\n",
       "      <td>0.0</td>\n",
       "      <td>394</td>\n",
       "      <td>20</td>\n",
       "      <td>12.709677</td>\n",
       "      <td>3.796433</td>\n",
       "      <td>0</td>\n",
       "      <td>32</td>\n",
       "    </tr>\n",
       "    <tr>\n",
       "      <th>4</th>\n",
       "      <td>38424943</td>\n",
       "      <td>31</td>\n",
       "      <td>0</td>\n",
       "      <td>0</td>\n",
       "      <td>0.0</td>\n",
       "      <td>0.0</td>\n",
       "      <td>488</td>\n",
       "      <td>21</td>\n",
       "      <td>15.741935</td>\n",
       "      <td>2.632714</td>\n",
       "      <td>0</td>\n",
       "      <td>32</td>\n",
       "    </tr>\n",
       "  </tbody>\n",
       "</table>\n",
       "</div>"
      ],
      "text/plain": [
       "   playerid  days_played  lifetime_purchases  max_daily_purchases  \\\n",
       "0  32493786           31                   0                    0   \n",
       "1   9136130           31                   0                    0   \n",
       "2  29937133           31                   0                    0   \n",
       "3  42102526           31                   0                    0   \n",
       "4  38424943           31                   0                    0   \n",
       "\n",
       "   avg_daily_purchases  std_purchases  lifetime_gameends  max_daily_gameends  \\\n",
       "0                  0.0            0.0                304                  16   \n",
       "1                  0.0            0.0                521                  24   \n",
       "2                  0.0            0.0                262                  14   \n",
       "3                  0.0            0.0                394                  20   \n",
       "4                  0.0            0.0                488                  21   \n",
       "\n",
       "   avg_daily_gameends  std_gameends  purchase_days  date_diff  \n",
       "0            9.806452      3.789629              0         32  \n",
       "1           16.806452      3.824651              0         32  \n",
       "2            8.451613      2.514474              0         31  \n",
       "3           12.709677      3.796433              0         32  \n",
       "4           15.741935      2.632714              0         32  "
      ]
     },
     "execution_count": 17,
     "metadata": {},
     "output_type": "execute_result"
    }
   ],
   "source": [
    "df2.head()"
   ]
  },
  {
   "cell_type": "code",
   "execution_count": 18,
   "metadata": {},
   "outputs": [
    {
     "name": "stdout",
     "output_type": "stream",
     "text": [
      "<class 'pandas.core.frame.DataFrame'>\n",
      "Int64Index: 11684762 entries, 0 to 11684761\n",
      "Data columns (total 12 columns):\n",
      " #   Column               Dtype  \n",
      "---  ------               -----  \n",
      " 0   playerid             int64  \n",
      " 1   days_played          int64  \n",
      " 2   lifetime_purchases   int64  \n",
      " 3   max_daily_purchases  int64  \n",
      " 4   avg_daily_purchases  float64\n",
      " 5   std_purchases        float64\n",
      " 6   lifetime_gameends    int64  \n",
      " 7   max_daily_gameends   int64  \n",
      " 8   avg_daily_gameends   float64\n",
      " 9   std_gameends         float64\n",
      " 10  purchase_days        int64  \n",
      " 11  date_diff            int64  \n",
      "dtypes: float64(4), int64(8)\n",
      "memory usage: 1.1 GB\n"
     ]
    }
   ],
   "source": [
    "df2.info()"
   ]
  },
  {
   "cell_type": "code",
   "execution_count": 109,
   "metadata": {},
   "outputs": [],
   "source": [
    "df2 = df2.fillna(0)"
   ]
  },
  {
   "cell_type": "code",
   "execution_count": 20,
   "metadata": {},
   "outputs": [],
   "source": [
    "df2_sample = df2.sample(frac=0.1, random_state=13)"
   ]
  },
  {
   "cell_type": "code",
   "execution_count": 132,
   "metadata": {},
   "outputs": [
    {
     "data": {
      "image/png": "[encoded data removed]",
      "text/plain": [
       "<Figure size 432x288 with 1 Axes>"
      ]
     },
     "metadata": {
      "needs_background": "light"
     },
     "output_type": "display_data"
    }
   ],
   "source": [
    "ks = range(1, 9)\n",
    "inertias = []\n",
    "centroids = []\n",
    "\n",
    "scaler = StandardScaler()\n",
    "\n",
    "for k in ks:\n",
    "    # Create a KMeans instance with k clusters: model\n",
    "    kmeans = KMeans(n_clusters=k)\n",
    "    \n",
    "    # Create pipeline: pipeline\n",
    "    pipeline = make_pipeline(scaler, kmeans)\n",
    "\n",
    "    # Fit model to samples\n",
    "    pipeline.fit(df2_sample)\n",
    "    \n",
    "    # Append the inertia and centroids to the existing lists\n",
    "    inertias.append(kmeans.inertia_)\n",
    "    centroids.append(kmeans.cluster_centers_)\n",
    "\n",
    "# Plot ks vs inertias\n",
    "plt.plot(ks, inertias, '-o')\n",
    "plt.xlabel('number of clusters, k')\n",
    "plt.ylabel('inertia')\n",
    "plt.xticks(ks)\n",
    "plt.show()\n"
   ]
  },
  {
   "cell_type": "code",
   "execution_count": 34,
   "metadata": {},
   "outputs": [],
   "source": [
    "scaler = StandardScaler()\n",
    "kmeans = KMeans(n_clusters=5)\n",
    "pipeline = make_pipeline(scaler, kmeans)\n",
    "\n",
    "pipeline.fit(df2)\n",
    "labels = pipeline.predict(df2)"
   ]
  },
  {
   "cell_type": "code",
   "execution_count": 110,
   "metadata": {},
   "outputs": [],
   "source": [
    "#pickle.dump(kmeans, open(\"kmeans.sav\", 'wb'))\n",
    "#pickle.dump(scaler, open(\"scaler.sav\", 'wb'))\n",
    "kmeans = pickle.load(open(\"kmeans.sav\", 'rb'))\n",
    "scaler = pickle.load(open(\"scaler.sav\", 'rb'))"
   ]
  },
  {
   "cell_type": "code",
   "execution_count": 111,
   "metadata": {},
   "outputs": [],
   "source": [
    "pipeline = make_pipeline(scaler, kmeans)\n",
    "pipeline.fit(df2)\n",
    "labels = pipeline.predict(df2)"
   ]
  },
  {
   "cell_type": "code",
   "execution_count": 112,
   "metadata": {},
   "outputs": [
    {
     "data": {
      "text/html": [
       "<div>\n",
       "<style scoped>\n",
       "    .dataframe tbody tr th:only-of-type {\n",
       "        vertical-align: middle;\n",
       "    }\n",
       "\n",
       "    .dataframe tbody tr th {\n",
       "        vertical-align: top;\n",
       "    }\n",
       "\n",
       "    .dataframe thead th {\n",
       "        text-align: right;\n",
       "    }\n",
       "</style>\n",
       "<table border=\"1\" class=\"dataframe\">\n",
       "  <thead>\n",
       "    <tr style=\"text-align: right;\">\n",
       "      <th></th>\n",
       "      <th>playerid</th>\n",
       "      <th>days_played</th>\n",
       "      <th>lifetime_purchases</th>\n",
       "      <th>max_daily_purchases</th>\n",
       "      <th>avg_daily_purchases</th>\n",
       "      <th>std_purchases</th>\n",
       "      <th>lifetime_gameends</th>\n",
       "      <th>max_daily_gameends</th>\n",
       "      <th>avg_daily_gameends</th>\n",
       "      <th>std_gameends</th>\n",
       "      <th>purchase_days</th>\n",
       "      <th>date_diff</th>\n",
       "    </tr>\n",
       "  </thead>\n",
       "  <tbody>\n",
       "    <tr>\n",
       "      <th>0</th>\n",
       "      <td>3.100526e+07</td>\n",
       "      <td>24.203220</td>\n",
       "      <td>0.071006</td>\n",
       "      <td>0.019754</td>\n",
       "      <td>0.003023</td>\n",
       "      <td>0.006241</td>\n",
       "      <td>265.922954</td>\n",
       "      <td>17.856934</td>\n",
       "      <td>11.035153</td>\n",
       "      <td>3.237877</td>\n",
       "      <td>0.062932</td>\n",
       "      <td>30.397339</td>\n",
       "    </tr>\n",
       "    <tr>\n",
       "      <th>1</th>\n",
       "      <td>4.767421e+07</td>\n",
       "      <td>4.711556</td>\n",
       "      <td>0.045050</td>\n",
       "      <td>0.026022</td>\n",
       "      <td>0.014178</td>\n",
       "      <td>0.007683</td>\n",
       "      <td>51.909640</td>\n",
       "      <td>14.320048</td>\n",
       "      <td>11.791186</td>\n",
       "      <td>1.854559</td>\n",
       "      <td>0.034241</td>\n",
       "      <td>4.782143</td>\n",
       "    </tr>\n",
       "    <tr>\n",
       "      <th>2</th>\n",
       "      <td>3.343708e+07</td>\n",
       "      <td>21.897431</td>\n",
       "      <td>0.010760</td>\n",
       "      <td>0.004791</td>\n",
       "      <td>0.003109</td>\n",
       "      <td>0.001231</td>\n",
       "      <td>873.348081</td>\n",
       "      <td>53.594419</td>\n",
       "      <td>41.342833</td>\n",
       "      <td>6.211822</td>\n",
       "      <td>0.006328</td>\n",
       "      <td>27.207844</td>\n",
       "    </tr>\n",
       "    <tr>\n",
       "      <th>3</th>\n",
       "      <td>3.406067e+07</td>\n",
       "      <td>20.742217</td>\n",
       "      <td>1201.000000</td>\n",
       "      <td>92.645081</td>\n",
       "      <td>61.587057</td>\n",
       "      <td>15.291844</td>\n",
       "      <td>477.981320</td>\n",
       "      <td>31.403487</td>\n",
       "      <td>22.958057</td>\n",
       "      <td>4.288583</td>\n",
       "      <td>20.742217</td>\n",
       "      <td>25.770859</td>\n",
       "    </tr>\n",
       "    <tr>\n",
       "      <th>4</th>\n",
       "      <td>3.218899e+07</td>\n",
       "      <td>23.238966</td>\n",
       "      <td>32.560662</td>\n",
       "      <td>4.221753</td>\n",
       "      <td>1.562793</td>\n",
       "      <td>1.148413</td>\n",
       "      <td>366.478576</td>\n",
       "      <td>23.757443</td>\n",
       "      <td>16.045691</td>\n",
       "      <td>3.765503</td>\n",
       "      <td>13.150223</td>\n",
       "      <td>28.904725</td>\n",
       "    </tr>\n",
       "  </tbody>\n",
       "</table>\n",
       "</div>"
      ],
      "text/plain": [
       "       playerid  days_played  lifetime_purchases  max_daily_purchases  \\\n",
       "0  3.100526e+07    24.203220            0.071006             0.019754   \n",
       "1  4.767421e+07     4.711556            0.045050             0.026022   \n",
       "2  3.343708e+07    21.897431            0.010760             0.004791   \n",
       "3  3.406067e+07    20.742217         1201.000000            92.645081   \n",
       "4  3.218899e+07    23.238966           32.560662             4.221753   \n",
       "\n",
       "   avg_daily_purchases  std_purchases  lifetime_gameends  max_daily_gameends  \\\n",
       "0             0.003023       0.006241         265.922954           17.856934   \n",
       "1             0.014178       0.007683          51.909640           14.320048   \n",
       "2             0.003109       0.001231         873.348081           53.594419   \n",
       "3            61.587057      15.291844         477.981320           31.403487   \n",
       "4             1.562793       1.148413         366.478576           23.757443   \n",
       "\n",
       "   avg_daily_gameends  std_gameends  purchase_days  date_diff  \n",
       "0           11.035153      3.237877       0.062932  30.397339  \n",
       "1           11.791186      1.854559       0.034241   4.782143  \n",
       "2           41.342833      6.211822       0.006328  27.207844  \n",
       "3           22.958057      4.288583      20.742217  25.770859  \n",
       "4           16.045691      3.765503      13.150223  28.904725  "
      ]
     },
     "execution_count": 112,
     "metadata": {},
     "output_type": "execute_result"
    }
   ],
   "source": [
    "df2_centroids = pd.DataFrame(scaler.inverse_transform(kmeans.cluster_centers_))\n",
    "df2_centroids.columns = df2.columns\n",
    "df2_centroids"
   ]
  },
  {
   "cell_type": "code",
   "execution_count": 113,
   "metadata": {},
   "outputs": [
    {
     "data": {
      "text/plain": [
       "0    63.589673\n",
       "1    29.043809\n",
       "2     6.056144\n",
       "3     0.006872\n",
       "4     1.303501\n",
       "Name: cluster, dtype: float64"
      ]
     },
     "execution_count": 113,
     "metadata": {},
     "output_type": "execute_result"
    }
   ],
   "source": [
    "df2[\"cluster\"] = labels\n",
    "df2.cluster.value_counts(normalize=True, sort=False)*100"
   ]
  },
  {
   "cell_type": "code",
   "execution_count": 27,
   "metadata": {},
   "outputs": [],
   "source": [
    "conditions = [\n",
    "    (df2.cluster == 0),\n",
    "    (df2.cluster == 1),\n",
    "    (df2.cluster == 2),\n",
    "    (df2.cluster == 3),\n",
    "    (df2.cluster == 4)\n",
    "]\n",
    "values = [\"common carp\", \"crab\", \"shark\", \"whale\", \"dolphin\"]\n",
    "df2_centroids[\"segment\"] = values\n",
    "df2[\"segment\"] = np.select(conditions, values)"
   ]
  },
  {
   "cell_type": "code",
   "execution_count": 77,
   "metadata": {},
   "outputs": [
    {
     "data": {
      "text/html": [
       "<div>\n",
       "<style scoped>\n",
       "    .dataframe tbody tr th:only-of-type {\n",
       "        vertical-align: middle;\n",
       "    }\n",
       "\n",
       "    .dataframe tbody tr th {\n",
       "        vertical-align: top;\n",
       "    }\n",
       "\n",
       "    .dataframe thead th {\n",
       "        text-align: right;\n",
       "    }\n",
       "</style>\n",
       "<table border=\"1\" class=\"dataframe\">\n",
       "  <thead>\n",
       "    <tr style=\"text-align: right;\">\n",
       "      <th></th>\n",
       "      <th>playerid</th>\n",
       "      <th>days_played</th>\n",
       "      <th>lifetime_purchases</th>\n",
       "      <th>max_daily_purchases</th>\n",
       "      <th>avg_daily_purchases</th>\n",
       "      <th>std_purchases</th>\n",
       "      <th>lifetime_gameends</th>\n",
       "      <th>max_daily_gameends</th>\n",
       "      <th>avg_daily_gameends</th>\n",
       "      <th>std_gameends</th>\n",
       "      <th>purchase_days</th>\n",
       "      <th>date_diff</th>\n",
       "      <th>segment</th>\n",
       "    </tr>\n",
       "  </thead>\n",
       "  <tbody>\n",
       "    <tr>\n",
       "      <th>0</th>\n",
       "      <td>3.100523e+07</td>\n",
       "      <td>24.203246</td>\n",
       "      <td>0.071011</td>\n",
       "      <td>0.019755</td>\n",
       "      <td>0.003023</td>\n",
       "      <td>0.006241</td>\n",
       "      <td>265.908607</td>\n",
       "      <td>17.856130</td>\n",
       "      <td>11.034517</td>\n",
       "      <td>3.237794</td>\n",
       "      <td>0.062936</td>\n",
       "      <td>30.397359</td>\n",
       "      <td>common carp</td>\n",
       "    </tr>\n",
       "    <tr>\n",
       "      <th>1</th>\n",
       "      <td>3.343735e+07</td>\n",
       "      <td>21.897083</td>\n",
       "      <td>0.010757</td>\n",
       "      <td>0.004791</td>\n",
       "      <td>0.003110</td>\n",
       "      <td>0.001231</td>\n",
       "      <td>873.165220</td>\n",
       "      <td>53.585376</td>\n",
       "      <td>41.334998</td>\n",
       "      <td>6.211184</td>\n",
       "      <td>0.006328</td>\n",
       "      <td>27.207585</td>\n",
       "      <td>shark</td>\n",
       "    </tr>\n",
       "    <tr>\n",
       "      <th>2</th>\n",
       "      <td>3.406067e+07</td>\n",
       "      <td>20.742217</td>\n",
       "      <td>1201.000000</td>\n",
       "      <td>92.645081</td>\n",
       "      <td>61.587057</td>\n",
       "      <td>15.291844</td>\n",
       "      <td>477.981320</td>\n",
       "      <td>31.403487</td>\n",
       "      <td>22.958057</td>\n",
       "      <td>4.288583</td>\n",
       "      <td>20.742217</td>\n",
       "      <td>25.770859</td>\n",
       "      <td>whale</td>\n",
       "    </tr>\n",
       "    <tr>\n",
       "      <th>3</th>\n",
       "      <td>3.218901e+07</td>\n",
       "      <td>23.238968</td>\n",
       "      <td>32.560817</td>\n",
       "      <td>4.221768</td>\n",
       "      <td>1.562801</td>\n",
       "      <td>1.148417</td>\n",
       "      <td>366.479590</td>\n",
       "      <td>23.757507</td>\n",
       "      <td>16.045736</td>\n",
       "      <td>3.765513</td>\n",
       "      <td>13.150263</td>\n",
       "      <td>28.904704</td>\n",
       "      <td>dolphin</td>\n",
       "    </tr>\n",
       "    <tr>\n",
       "      <th>4</th>\n",
       "      <td>4.767421e+07</td>\n",
       "      <td>4.711518</td>\n",
       "      <td>0.045049</td>\n",
       "      <td>0.026022</td>\n",
       "      <td>0.014177</td>\n",
       "      <td>0.007683</td>\n",
       "      <td>51.908301</td>\n",
       "      <td>14.319668</td>\n",
       "      <td>11.790857</td>\n",
       "      <td>1.854522</td>\n",
       "      <td>0.034240</td>\n",
       "      <td>4.782100</td>\n",
       "      <td>crab</td>\n",
       "    </tr>\n",
       "  </tbody>\n",
       "</table>\n",
       "</div>"
      ],
      "text/plain": [
       "       playerid  days_played  lifetime_purchases  max_daily_purchases  \\\n",
       "0  3.100523e+07    24.203246            0.071011             0.019755   \n",
       "1  3.343735e+07    21.897083            0.010757             0.004791   \n",
       "2  3.406067e+07    20.742217         1201.000000            92.645081   \n",
       "3  3.218901e+07    23.238968           32.560817             4.221768   \n",
       "4  4.767421e+07     4.711518            0.045049             0.026022   \n",
       "\n",
       "   avg_daily_purchases  std_purchases  lifetime_gameends  max_daily_gameends  \\\n",
       "0             0.003023       0.006241         265.908607           17.856130   \n",
       "1             0.003110       0.001231         873.165220           53.585376   \n",
       "2            61.587057      15.291844         477.981320           31.403487   \n",
       "3             1.562801       1.148417         366.479590           23.757507   \n",
       "4             0.014177       0.007683          51.908301           14.319668   \n",
       "\n",
       "   avg_daily_gameends  std_gameends  purchase_days  date_diff      segment  \n",
       "0           11.034517      3.237794       0.062936  30.397359  common carp  \n",
       "1           41.334998      6.211184       0.006328  27.207585        shark  \n",
       "2           22.958057      4.288583      20.742217  25.770859        whale  \n",
       "3           16.045736      3.765513      13.150263  28.904704      dolphin  \n",
       "4           11.790857      1.854522       0.034240   4.782100         crab  "
      ]
     },
     "execution_count": 77,
     "metadata": {},
     "output_type": "execute_result"
    }
   ],
   "source": [
    "df2_centroids"
   ]
  },
  {
   "cell_type": "code",
   "execution_count": 28,
   "metadata": {},
   "outputs": [
    {
     "data": {
      "text/html": [
       "<div>\n",
       "<style scoped>\n",
       "    .dataframe tbody tr th:only-of-type {\n",
       "        vertical-align: middle;\n",
       "    }\n",
       "\n",
       "    .dataframe tbody tr th {\n",
       "        vertical-align: top;\n",
       "    }\n",
       "\n",
       "    .dataframe thead th {\n",
       "        text-align: right;\n",
       "    }\n",
       "</style>\n",
       "<table border=\"1\" class=\"dataframe\">\n",
       "  <thead>\n",
       "    <tr style=\"text-align: right;\">\n",
       "      <th></th>\n",
       "      <th>playerid</th>\n",
       "      <th>days_played</th>\n",
       "      <th>lifetime_purchases</th>\n",
       "      <th>max_daily_purchases</th>\n",
       "      <th>avg_daily_purchases</th>\n",
       "      <th>std_purchases</th>\n",
       "      <th>lifetime_gameends</th>\n",
       "      <th>max_daily_gameends</th>\n",
       "      <th>avg_daily_gameends</th>\n",
       "      <th>std_gameends</th>\n",
       "      <th>purchase_days</th>\n",
       "      <th>date_diff</th>\n",
       "      <th>cluster</th>\n",
       "      <th>segment</th>\n",
       "    </tr>\n",
       "  </thead>\n",
       "  <tbody>\n",
       "    <tr>\n",
       "      <th>0</th>\n",
       "      <td>32493786</td>\n",
       "      <td>31</td>\n",
       "      <td>0</td>\n",
       "      <td>0</td>\n",
       "      <td>0.0</td>\n",
       "      <td>0.0</td>\n",
       "      <td>304</td>\n",
       "      <td>16</td>\n",
       "      <td>9.806452</td>\n",
       "      <td>3.789629</td>\n",
       "      <td>0</td>\n",
       "      <td>32</td>\n",
       "      <td>0</td>\n",
       "      <td>common carp</td>\n",
       "    </tr>\n",
       "    <tr>\n",
       "      <th>1</th>\n",
       "      <td>9136130</td>\n",
       "      <td>31</td>\n",
       "      <td>0</td>\n",
       "      <td>0</td>\n",
       "      <td>0.0</td>\n",
       "      <td>0.0</td>\n",
       "      <td>521</td>\n",
       "      <td>24</td>\n",
       "      <td>16.806452</td>\n",
       "      <td>3.824651</td>\n",
       "      <td>0</td>\n",
       "      <td>32</td>\n",
       "      <td>0</td>\n",
       "      <td>common carp</td>\n",
       "    </tr>\n",
       "    <tr>\n",
       "      <th>2</th>\n",
       "      <td>29937133</td>\n",
       "      <td>31</td>\n",
       "      <td>0</td>\n",
       "      <td>0</td>\n",
       "      <td>0.0</td>\n",
       "      <td>0.0</td>\n",
       "      <td>262</td>\n",
       "      <td>14</td>\n",
       "      <td>8.451613</td>\n",
       "      <td>2.514474</td>\n",
       "      <td>0</td>\n",
       "      <td>31</td>\n",
       "      <td>0</td>\n",
       "      <td>common carp</td>\n",
       "    </tr>\n",
       "    <tr>\n",
       "      <th>3</th>\n",
       "      <td>42102526</td>\n",
       "      <td>31</td>\n",
       "      <td>0</td>\n",
       "      <td>0</td>\n",
       "      <td>0.0</td>\n",
       "      <td>0.0</td>\n",
       "      <td>394</td>\n",
       "      <td>20</td>\n",
       "      <td>12.709677</td>\n",
       "      <td>3.796433</td>\n",
       "      <td>0</td>\n",
       "      <td>32</td>\n",
       "      <td>0</td>\n",
       "      <td>common carp</td>\n",
       "    </tr>\n",
       "    <tr>\n",
       "      <th>4</th>\n",
       "      <td>38424943</td>\n",
       "      <td>31</td>\n",
       "      <td>0</td>\n",
       "      <td>0</td>\n",
       "      <td>0.0</td>\n",
       "      <td>0.0</td>\n",
       "      <td>488</td>\n",
       "      <td>21</td>\n",
       "      <td>15.741935</td>\n",
       "      <td>2.632714</td>\n",
       "      <td>0</td>\n",
       "      <td>32</td>\n",
       "      <td>0</td>\n",
       "      <td>common carp</td>\n",
       "    </tr>\n",
       "  </tbody>\n",
       "</table>\n",
       "</div>"
      ],
      "text/plain": [
       "   playerid  days_played  lifetime_purchases  max_daily_purchases  \\\n",
       "0  32493786           31                   0                    0   \n",
       "1   9136130           31                   0                    0   \n",
       "2  29937133           31                   0                    0   \n",
       "3  42102526           31                   0                    0   \n",
       "4  38424943           31                   0                    0   \n",
       "\n",
       "   avg_daily_purchases  std_purchases  lifetime_gameends  max_daily_gameends  \\\n",
       "0                  0.0            0.0                304                  16   \n",
       "1                  0.0            0.0                521                  24   \n",
       "2                  0.0            0.0                262                  14   \n",
       "3                  0.0            0.0                394                  20   \n",
       "4                  0.0            0.0                488                  21   \n",
       "\n",
       "   avg_daily_gameends  std_gameends  purchase_days  date_diff  cluster  \\\n",
       "0            9.806452      3.789629              0         32        0   \n",
       "1           16.806452      3.824651              0         32        0   \n",
       "2            8.451613      2.514474              0         31        0   \n",
       "3           12.709677      3.796433              0         32        0   \n",
       "4           15.741935      2.632714              0         32        0   \n",
       "\n",
       "       segment  \n",
       "0  common carp  \n",
       "1  common carp  \n",
       "2  common carp  \n",
       "3  common carp  \n",
       "4  common carp  "
      ]
     },
     "execution_count": 28,
     "metadata": {},
     "output_type": "execute_result"
    }
   ],
   "source": [
    "df2.head()"
   ]
  },
  {
   "cell_type": "code",
   "execution_count": 33,
   "metadata": {},
   "outputs": [],
   "source": [
    "#df2.to_csv(\"../../../df2_clusters.csv\")"
   ]
  },
  {
   "cell_type": "code",
   "execution_count": 42,
   "metadata": {},
   "outputs": [
    {
     "data": {
      "text/html": [
       "<div>\n",
       "<style scoped>\n",
       "    .dataframe tbody tr th:only-of-type {\n",
       "        vertical-align: middle;\n",
       "    }\n",
       "\n",
       "    .dataframe tbody tr th {\n",
       "        vertical-align: top;\n",
       "    }\n",
       "\n",
       "    .dataframe thead th {\n",
       "        text-align: right;\n",
       "    }\n",
       "</style>\n",
       "<table border=\"1\" class=\"dataframe\">\n",
       "  <thead>\n",
       "    <tr style=\"text-align: right;\">\n",
       "      <th></th>\n",
       "      <th>playerid</th>\n",
       "      <th>abtest_group</th>\n",
       "      <th>assignment_date</th>\n",
       "      <th>install_date</th>\n",
       "      <th>conversion_date</th>\n",
       "      <th>total_gameends</th>\n",
       "      <th>total_purchases</th>\n",
       "      <th>days_played</th>\n",
       "      <th>days_since_installed</th>\n",
       "      <th>days_to_convert</th>\n",
       "      <th>paying_user</th>\n",
       "      <th>player_type</th>\n",
       "      <th>day_2_retention</th>\n",
       "      <th>day_7_retention</th>\n",
       "      <th>segment</th>\n",
       "    </tr>\n",
       "  </thead>\n",
       "  <tbody>\n",
       "    <tr>\n",
       "      <th>0</th>\n",
       "      <td>12375489</td>\n",
       "      <td>A</td>\n",
       "      <td>2017-05-04</td>\n",
       "      <td>2016-05-02</td>\n",
       "      <td>NaT</td>\n",
       "      <td>204</td>\n",
       "      <td>0</td>\n",
       "      <td>16</td>\n",
       "      <td>385</td>\n",
       "      <td>NaN</td>\n",
       "      <td>False</td>\n",
       "      <td>OG</td>\n",
       "      <td>True</td>\n",
       "      <td>True</td>\n",
       "      <td>common carp</td>\n",
       "    </tr>\n",
       "    <tr>\n",
       "      <th>1</th>\n",
       "      <td>30548310</td>\n",
       "      <td>A</td>\n",
       "      <td>2017-05-04</td>\n",
       "      <td>2016-11-01</td>\n",
       "      <td>NaT</td>\n",
       "      <td>247</td>\n",
       "      <td>0</td>\n",
       "      <td>13</td>\n",
       "      <td>202</td>\n",
       "      <td>NaN</td>\n",
       "      <td>False</td>\n",
       "      <td>OG</td>\n",
       "      <td>True</td>\n",
       "      <td>True</td>\n",
       "      <td>common carp</td>\n",
       "    </tr>\n",
       "    <tr>\n",
       "      <th>2</th>\n",
       "      <td>41099711</td>\n",
       "      <td>A</td>\n",
       "      <td>2017-05-04</td>\n",
       "      <td>2017-02-13</td>\n",
       "      <td>NaT</td>\n",
       "      <td>159</td>\n",
       "      <td>0</td>\n",
       "      <td>13</td>\n",
       "      <td>98</td>\n",
       "      <td>NaN</td>\n",
       "      <td>False</td>\n",
       "      <td>OG</td>\n",
       "      <td>True</td>\n",
       "      <td>True</td>\n",
       "      <td>common carp</td>\n",
       "    </tr>\n",
       "    <tr>\n",
       "      <th>3</th>\n",
       "      <td>26239061</td>\n",
       "      <td>A</td>\n",
       "      <td>2017-05-04</td>\n",
       "      <td>2016-09-19</td>\n",
       "      <td>NaT</td>\n",
       "      <td>56</td>\n",
       "      <td>0</td>\n",
       "      <td>6</td>\n",
       "      <td>245</td>\n",
       "      <td>NaN</td>\n",
       "      <td>False</td>\n",
       "      <td>OG</td>\n",
       "      <td>True</td>\n",
       "      <td>False</td>\n",
       "      <td>common carp</td>\n",
       "    </tr>\n",
       "    <tr>\n",
       "      <th>4</th>\n",
       "      <td>6191990</td>\n",
       "      <td>A</td>\n",
       "      <td>2017-05-04</td>\n",
       "      <td>2016-03-02</td>\n",
       "      <td>NaT</td>\n",
       "      <td>98</td>\n",
       "      <td>0</td>\n",
       "      <td>14</td>\n",
       "      <td>446</td>\n",
       "      <td>NaN</td>\n",
       "      <td>False</td>\n",
       "      <td>OG</td>\n",
       "      <td>True</td>\n",
       "      <td>True</td>\n",
       "      <td>common carp</td>\n",
       "    </tr>\n",
       "  </tbody>\n",
       "</table>\n",
       "</div>"
      ],
      "text/plain": [
       "   playerid abtest_group assignment_date install_date conversion_date  \\\n",
       "0  12375489            A      2017-05-04   2016-05-02             NaT   \n",
       "1  30548310            A      2017-05-04   2016-11-01             NaT   \n",
       "2  41099711            A      2017-05-04   2017-02-13             NaT   \n",
       "3  26239061            A      2017-05-04   2016-09-19             NaT   \n",
       "4   6191990            A      2017-05-04   2016-03-02             NaT   \n",
       "\n",
       "   total_gameends  total_purchases  days_played  days_since_installed  \\\n",
       "0             204                0           16                   385   \n",
       "1             247                0           13                   202   \n",
       "2             159                0           13                    98   \n",
       "3              56                0            6                   245   \n",
       "4              98                0           14                   446   \n",
       "\n",
       "   days_to_convert  paying_user player_type  day_2_retention  day_7_retention  \\\n",
       "0              NaN        False          OG             True             True   \n",
       "1              NaN        False          OG             True             True   \n",
       "2              NaN        False          OG             True             True   \n",
       "3              NaN        False          OG             True            False   \n",
       "4              NaN        False          OG             True             True   \n",
       "\n",
       "       segment  \n",
       "0  common carp  \n",
       "1  common carp  \n",
       "2  common carp  \n",
       "3  common carp  \n",
       "4  common carp  "
      ]
     },
     "execution_count": 42,
     "metadata": {},
     "output_type": "execute_result"
    }
   ],
   "source": [
    "df = df.merge(df2[[\"playerid\", \"segment\"]], how=\"left\", on=\"playerid\")\n",
    "df.head()"
   ]
  },
  {
   "cell_type": "code",
   "execution_count": 93,
   "metadata": {},
   "outputs": [
    {
     "data": {
      "text/plain": [
       "segment      abtest_group\n",
       "common carp  A               0.799993\n",
       "             B               0.200007\n",
       "crab         A               0.799327\n",
       "             B               0.200673\n",
       "dolphin      A               0.795812\n",
       "             B               0.204188\n",
       "shark        A               0.804250\n",
       "             B               0.195750\n",
       "whale        A               0.794702\n",
       "             B               0.205298\n",
       "Name: abtest_group, dtype: float64"
      ]
     },
     "execution_count": 93,
     "metadata": {},
     "output_type": "execute_result"
    }
   ],
   "source": [
    "df.groupby(\"segment\").abtest_group.value_counts(normalize=True)"
   ]
  },
  {
   "cell_type": "code",
   "execution_count": 85,
   "metadata": {},
   "outputs": [
    {
     "data": {
      "text/html": [
       "<div>\n",
       "<style scoped>\n",
       "    .dataframe tbody tr th:only-of-type {\n",
       "        vertical-align: middle;\n",
       "    }\n",
       "\n",
       "    .dataframe tbody tr th {\n",
       "        vertical-align: top;\n",
       "    }\n",
       "\n",
       "    .dataframe thead th {\n",
       "        text-align: right;\n",
       "    }\n",
       "</style>\n",
       "<table border=\"1\" class=\"dataframe\">\n",
       "  <thead>\n",
       "    <tr style=\"text-align: right;\">\n",
       "      <th></th>\n",
       "      <th>segment</th>\n",
       "      <th>abtest_group</th>\n",
       "      <th>total_gameends</th>\n",
       "      <th>total_purchases</th>\n",
       "    </tr>\n",
       "  </thead>\n",
       "  <tbody>\n",
       "    <tr>\n",
       "      <th>0</th>\n",
       "      <td>common carp</td>\n",
       "      <td>A</td>\n",
       "      <td>153.940728</td>\n",
       "      <td>0.041318</td>\n",
       "    </tr>\n",
       "    <tr>\n",
       "      <th>1</th>\n",
       "      <td>common carp</td>\n",
       "      <td>B</td>\n",
       "      <td>151.504183</td>\n",
       "      <td>0.040549</td>\n",
       "    </tr>\n",
       "    <tr>\n",
       "      <th>2</th>\n",
       "      <td>crab</td>\n",
       "      <td>A</td>\n",
       "      <td>50.250336</td>\n",
       "      <td>0.042352</td>\n",
       "    </tr>\n",
       "    <tr>\n",
       "      <th>3</th>\n",
       "      <td>crab</td>\n",
       "      <td>B</td>\n",
       "      <td>49.685704</td>\n",
       "      <td>0.042789</td>\n",
       "    </tr>\n",
       "    <tr>\n",
       "      <th>4</th>\n",
       "      <td>dolphin</td>\n",
       "      <td>A</td>\n",
       "      <td>218.147297</td>\n",
       "      <td>19.206238</td>\n",
       "    </tr>\n",
       "    <tr>\n",
       "      <th>5</th>\n",
       "      <td>dolphin</td>\n",
       "      <td>B</td>\n",
       "      <td>212.815737</td>\n",
       "      <td>20.126347</td>\n",
       "    </tr>\n",
       "    <tr>\n",
       "      <th>6</th>\n",
       "      <td>shark</td>\n",
       "      <td>A</td>\n",
       "      <td>532.363919</td>\n",
       "      <td>0.006188</td>\n",
       "    </tr>\n",
       "    <tr>\n",
       "      <th>7</th>\n",
       "      <td>shark</td>\n",
       "      <td>B</td>\n",
       "      <td>525.847897</td>\n",
       "      <td>0.005169</td>\n",
       "    </tr>\n",
       "    <tr>\n",
       "      <th>8</th>\n",
       "      <td>whale</td>\n",
       "      <td>A</td>\n",
       "      <td>292.258333</td>\n",
       "      <td>727.858333</td>\n",
       "    </tr>\n",
       "    <tr>\n",
       "      <th>9</th>\n",
       "      <td>whale</td>\n",
       "      <td>B</td>\n",
       "      <td>294.477419</td>\n",
       "      <td>783.580645</td>\n",
       "    </tr>\n",
       "  </tbody>\n",
       "</table>\n",
       "</div>"
      ],
      "text/plain": [
       "       segment abtest_group  total_gameends  total_purchases\n",
       "0  common carp            A      153.940728         0.041318\n",
       "1  common carp            B      151.504183         0.040549\n",
       "2         crab            A       50.250336         0.042352\n",
       "3         crab            B       49.685704         0.042789\n",
       "4      dolphin            A      218.147297        19.206238\n",
       "5      dolphin            B      212.815737        20.126347\n",
       "6        shark            A      532.363919         0.006188\n",
       "7        shark            B      525.847897         0.005169\n",
       "8        whale            A      292.258333       727.858333\n",
       "9        whale            B      294.477419       783.580645"
      ]
     },
     "execution_count": 85,
     "metadata": {},
     "output_type": "execute_result"
    }
   ],
   "source": [
    "player_segments = df[[\"abtest_group\", \"segment\", \"total_gameends\", \"total_purchases\"]].groupby(by=[\"segment\", \"abtest_group\"]).agg(np.mean).reset_index()\n",
    "player_segments"
   ]
  },
  {
   "cell_type": "code",
   "execution_count": 59,
   "metadata": {},
   "outputs": [
    {
     "data": {
      "text/html": [
       "<div>\n",
       "<style scoped>\n",
       "    .dataframe tbody tr th:only-of-type {\n",
       "        vertical-align: middle;\n",
       "    }\n",
       "\n",
       "    .dataframe tbody tr th {\n",
       "        vertical-align: top;\n",
       "    }\n",
       "\n",
       "    .dataframe thead th {\n",
       "        text-align: right;\n",
       "    }\n",
       "</style>\n",
       "<table border=\"1\" class=\"dataframe\">\n",
       "  <thead>\n",
       "    <tr style=\"text-align: right;\">\n",
       "      <th></th>\n",
       "      <th>total_gameends</th>\n",
       "      <th>total_purchases</th>\n",
       "    </tr>\n",
       "    <tr>\n",
       "      <th>segment</th>\n",
       "      <th></th>\n",
       "      <th></th>\n",
       "    </tr>\n",
       "  </thead>\n",
       "  <tbody>\n",
       "    <tr>\n",
       "      <th>common carp</th>\n",
       "      <td>-1.582782</td>\n",
       "      <td>-1.860281</td>\n",
       "    </tr>\n",
       "    <tr>\n",
       "      <th>crab</th>\n",
       "      <td>-1.123639</td>\n",
       "      <td>1.033566</td>\n",
       "    </tr>\n",
       "    <tr>\n",
       "      <th>dolphin</th>\n",
       "      <td>-2.444019</td>\n",
       "      <td>4.790678</td>\n",
       "    </tr>\n",
       "    <tr>\n",
       "      <th>shark</th>\n",
       "      <td>-1.223979</td>\n",
       "      <td>-16.477761</td>\n",
       "    </tr>\n",
       "    <tr>\n",
       "      <th>whale</th>\n",
       "      <td>0.759289</td>\n",
       "      <td>7.655653</td>\n",
       "    </tr>\n",
       "  </tbody>\n",
       "</table>\n",
       "</div>"
      ],
      "text/plain": [
       "             total_gameends  total_purchases\n",
       "segment                                     \n",
       "common carp       -1.582782        -1.860281\n",
       "crab              -1.123639         1.033566\n",
       "dolphin           -2.444019         4.790678\n",
       "shark             -1.223979       -16.477761\n",
       "whale              0.759289         7.655653"
      ]
     },
     "execution_count": 59,
     "metadata": {},
     "output_type": "execute_result"
    }
   ],
   "source": [
    "player_segments_lift = 100 * (player_segments.set_index([\"abtest_group\", \"segment\"]).loc[\"B\"] - player_segments.set_index([\"abtest_group\", \"segment\"]).loc[\"A\"]) /  player_segments.set_index([\"abtest_group\", \"segment\"]).loc[\"A\"]\n",
    "player_segments_lift"
   ]
  },
  {
   "cell_type": "code",
   "execution_count": 83,
   "metadata": {},
   "outputs": [
    {
     "data": {
      "image/png": "[encoded data removed]",
      "text/plain": [
       "<Figure size 1080x360 with 3 Axes>"
      ]
     },
     "metadata": {
      "needs_background": "light"
     },
     "output_type": "display_data"
    }
   ],
   "source": [
    "fig, ax = plt.subplots(1, 3, figsize=(15, 5))\n",
    "sns.barplot(x=\"segment\", y=\"total_gameends\", hue=\"abtest_group\", data=player_segments, ax=ax[0])\n",
    "sns.barplot(x=\"segment\", y=\"total_purchases\", hue=\"abtest_group\", data=player_segments, ax=ax[1])\n",
    "player_segments_lift.plot(kind=\"bar\", ax=ax[2])\n",
    "\n",
    "fig.suptitle(\"Player Segmentation Analysis\", fontsize=15)\n",
    "ax[0].set_title(\"Average Gamerounds by Player Type\")\n",
    "ax[0].set_ylabel(\"Average Gamerounds\")\n",
    "ax[1].set_title(\"Average Purchases by Player Type\")\n",
    "ax[1].set_ylabel(\"Average Purchases\")\n",
    "ax[1].set_yscale(\"log\")\n",
    "ax[2].axhline(y=0, color='r', linestyle='-')\n",
    "ax[2].set_title(\"Lift by Player Type\")\n",
    "ax[2].set_xlabel(\"Segment\")\n",
    "ax[2].set_xticklabels(player_segments_lift.index, rotation=0)\n",
    "ax[2].set_ylabel(\"Percent (%)\")\n",
    "plt.tight_layout(pad=1)\n",
    "plt.show()"
   ]
  }
 ],
 "metadata": {
  "kernelspec": {
   "display_name": "Python 3.8.8 ('base')",
   "language": "python",
   "name": "python3"
  },
  "language_info": {
   "codemirror_mode": {
    "name": "ipython",
    "version": 3
   },
   "file_extension": ".py",
   "mimetype": "text/x-python",
   "name": "python",
   "nbconvert_exporter": "python",
   "pygments_lexer": "ipython3",
   "version": "3.8.8"
  },
  "orig_nbformat": 4,
  "vscode": {
   "interpreter": {
    "hash": "74609ea32c075f5c8e96a18961956eadb9a9347b199f0247ab8ad93a9d4aa1e3"
   }
  }
 },
 "nbformat": 4,
 "nbformat_minor": 2
}

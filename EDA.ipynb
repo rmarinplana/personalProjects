{
  "nbformat": 4,
  "nbformat_minor": 0,
  "metadata": {
    "colab": {
      "name": "EDA.ipynb",
      "provenance": [],
      "authorship_tag": "ABX9TyNuZV15QORn108T7+FT6BWf",
      "include_colab_link": true
    },
    "kernelspec": {
      "name": "python3",
      "display_name": "Python 3"
    },
    "language_info": {
      "name": "python"
    }
  },
  "cells": [
    {
      "cell_type": "markdown",
      "metadata": {
        "id": "view-in-github",
        "colab_type": "text"
      },
      "source": [
        "<a href=\"https://colab.research.google.com/github/rogermarinplana/personalProjects/blob/main/EDA.ipynb\" target=\"_parent\"><img src=\"https://colab.research.google.com/assets/colab-badge.svg\" alt=\"Open In Colab\"/></a>"
      ]
    },
    {
      "cell_type": "code",
      "execution_count": null,
      "metadata": {
        "id": "7zGZovZup05d"
      },
      "outputs": [],
      "source": [
        "import pandas as pd\n",
        "import numpy as np\n",
        "import matplotlib.pyplot as plt\n",
        "import seaborn as sns"
      ]
    },
    {
      "cell_type": "code",
      "source": [
        "df = pd.read_hdf(\"nsfg.hdf5\")"
      ],
      "metadata": {
        "id": "YtTBwqeR-2du"
      },
      "execution_count": null,
      "outputs": []
    },
    {
      "cell_type": "code",
      "source": [
        "df.shape"
      ],
      "metadata": {
        "id": "Y9SRzGwR--jr",
        "colab": {
          "base_uri": "https://localhost:8080/"
        },
        "outputId": "e18abbb3-9c55-4274-f825-103ca16ce100"
      },
      "execution_count": null,
      "outputs": [
        {
          "output_type": "execute_result",
          "data": {
            "text/plain": [
              "(9358, 10)"
            ]
          },
          "metadata": {},
          "execution_count": 10
        }
      ]
    },
    {
      "cell_type": "code",
      "source": [
        "df.head()"
      ],
      "metadata": {
        "id": "hjOD4k9e-_lt",
        "colab": {
          "base_uri": "https://localhost:8080/",
          "height": 250
        },
        "outputId": "313c4de4-69f2-4eac-e219-f6dbf939da15"
      },
      "execution_count": null,
      "outputs": [
        {
          "output_type": "execute_result",
          "data": {
            "text/plain": [
              "   caseid  outcome  birthwgt_lb1  birthwgt_oz1  prglngth  nbrnaliv  agecon  \\\n",
              "0   60418        1           5.0           4.0        40       1.0    2000   \n",
              "1   60418        1           4.0          12.0        36       1.0    2291   \n",
              "2   60418        1           5.0           4.0        36       1.0    3241   \n",
              "3   60419        6           NaN           NaN        33       NaN    3650   \n",
              "4   60420        1           8.0          13.0        41       1.0    2191   \n",
              "\n",
              "   agepreg  hpagelb  wgt2013_2015  \n",
              "0   2075.0     22.0   3554.964843  \n",
              "1   2358.0     25.0   3554.964843  \n",
              "2   3308.0     52.0   3554.964843  \n",
              "3      NaN      NaN   2484.535358  \n",
              "4   2266.0     24.0   2903.782914  "
            ],
            "text/html": [
              "\n",
              "  <div id=\"df-6a04bba3-fe24-47f9-8c89-02d07c5733dd\">\n",
              "    <div class=\"colab-df-container\">\n",
              "      <div>\n",
              "<style scoped>\n",
              "    .dataframe tbody tr th:only-of-type {\n",
              "        vertical-align: middle;\n",
              "    }\n",
              "\n",
              "    .dataframe tbody tr th {\n",
              "        vertical-align: top;\n",
              "    }\n",
              "\n",
              "    .dataframe thead th {\n",
              "        text-align: right;\n",
              "    }\n",
              "</style>\n",
              "<table border=\"1\" class=\"dataframe\">\n",
              "  <thead>\n",
              "    <tr style=\"text-align: right;\">\n",
              "      <th></th>\n",
              "      <th>caseid</th>\n",
              "      <th>outcome</th>\n",
              "      <th>birthwgt_lb1</th>\n",
              "      <th>birthwgt_oz1</th>\n",
              "      <th>prglngth</th>\n",
              "      <th>nbrnaliv</th>\n",
              "      <th>agecon</th>\n",
              "      <th>agepreg</th>\n",
              "      <th>hpagelb</th>\n",
              "      <th>wgt2013_2015</th>\n",
              "    </tr>\n",
              "  </thead>\n",
              "  <tbody>\n",
              "    <tr>\n",
              "      <th>0</th>\n",
              "      <td>60418</td>\n",
              "      <td>1</td>\n",
              "      <td>5.0</td>\n",
              "      <td>4.0</td>\n",
              "      <td>40</td>\n",
              "      <td>1.0</td>\n",
              "      <td>2000</td>\n",
              "      <td>2075.0</td>\n",
              "      <td>22.0</td>\n",
              "      <td>3554.964843</td>\n",
              "    </tr>\n",
              "    <tr>\n",
              "      <th>1</th>\n",
              "      <td>60418</td>\n",
              "      <td>1</td>\n",
              "      <td>4.0</td>\n",
              "      <td>12.0</td>\n",
              "      <td>36</td>\n",
              "      <td>1.0</td>\n",
              "      <td>2291</td>\n",
              "      <td>2358.0</td>\n",
              "      <td>25.0</td>\n",
              "      <td>3554.964843</td>\n",
              "    </tr>\n",
              "    <tr>\n",
              "      <th>2</th>\n",
              "      <td>60418</td>\n",
              "      <td>1</td>\n",
              "      <td>5.0</td>\n",
              "      <td>4.0</td>\n",
              "      <td>36</td>\n",
              "      <td>1.0</td>\n",
              "      <td>3241</td>\n",
              "      <td>3308.0</td>\n",
              "      <td>52.0</td>\n",
              "      <td>3554.964843</td>\n",
              "    </tr>\n",
              "    <tr>\n",
              "      <th>3</th>\n",
              "      <td>60419</td>\n",
              "      <td>6</td>\n",
              "      <td>NaN</td>\n",
              "      <td>NaN</td>\n",
              "      <td>33</td>\n",
              "      <td>NaN</td>\n",
              "      <td>3650</td>\n",
              "      <td>NaN</td>\n",
              "      <td>NaN</td>\n",
              "      <td>2484.535358</td>\n",
              "    </tr>\n",
              "    <tr>\n",
              "      <th>4</th>\n",
              "      <td>60420</td>\n",
              "      <td>1</td>\n",
              "      <td>8.0</td>\n",
              "      <td>13.0</td>\n",
              "      <td>41</td>\n",
              "      <td>1.0</td>\n",
              "      <td>2191</td>\n",
              "      <td>2266.0</td>\n",
              "      <td>24.0</td>\n",
              "      <td>2903.782914</td>\n",
              "    </tr>\n",
              "  </tbody>\n",
              "</table>\n",
              "</div>\n",
              "      <button class=\"colab-df-convert\" onclick=\"convertToInteractive('df-6a04bba3-fe24-47f9-8c89-02d07c5733dd')\"\n",
              "              title=\"Convert this dataframe to an interactive table.\"\n",
              "              style=\"display:none;\">\n",
              "        \n",
              "  <svg xmlns=\"http://www.w3.org/2000/svg\" height=\"24px\"viewBox=\"0 0 24 24\"\n",
              "       width=\"24px\">\n",
              "    <path d=\"M0 0h24v24H0V0z\" fill=\"none\"/>\n",
              "    <path d=\"M18.56 5.44l.94 2.06.94-2.06 2.06-.94-2.06-.94-.94-2.06-.94 2.06-2.06.94zm-11 1L8.5 8.5l.94-2.06 2.06-.94-2.06-.94L8.5 2.5l-.94 2.06-2.06.94zm10 10l.94 2.06.94-2.06 2.06-.94-2.06-.94-.94-2.06-.94 2.06-2.06.94z\"/><path d=\"M17.41 7.96l-1.37-1.37c-.4-.4-.92-.59-1.43-.59-.52 0-1.04.2-1.43.59L10.3 9.45l-7.72 7.72c-.78.78-.78 2.05 0 2.83L4 21.41c.39.39.9.59 1.41.59.51 0 1.02-.2 1.41-.59l7.78-7.78 2.81-2.81c.8-.78.8-2.07 0-2.86zM5.41 20L4 18.59l7.72-7.72 1.47 1.35L5.41 20z\"/>\n",
              "  </svg>\n",
              "      </button>\n",
              "      \n",
              "  <style>\n",
              "    .colab-df-container {\n",
              "      display:flex;\n",
              "      flex-wrap:wrap;\n",
              "      gap: 12px;\n",
              "    }\n",
              "\n",
              "    .colab-df-convert {\n",
              "      background-color: #E8F0FE;\n",
              "      border: none;\n",
              "      border-radius: 50%;\n",
              "      cursor: pointer;\n",
              "      display: none;\n",
              "      fill: #1967D2;\n",
              "      height: 32px;\n",
              "      padding: 0 0 0 0;\n",
              "      width: 32px;\n",
              "    }\n",
              "\n",
              "    .colab-df-convert:hover {\n",
              "      background-color: #E2EBFA;\n",
              "      box-shadow: 0px 1px 2px rgba(60, 64, 67, 0.3), 0px 1px 3px 1px rgba(60, 64, 67, 0.15);\n",
              "      fill: #174EA6;\n",
              "    }\n",
              "\n",
              "    [theme=dark] .colab-df-convert {\n",
              "      background-color: #3B4455;\n",
              "      fill: #D2E3FC;\n",
              "    }\n",
              "\n",
              "    [theme=dark] .colab-df-convert:hover {\n",
              "      background-color: #434B5C;\n",
              "      box-shadow: 0px 1px 3px 1px rgba(0, 0, 0, 0.15);\n",
              "      filter: drop-shadow(0px 1px 2px rgba(0, 0, 0, 0.3));\n",
              "      fill: #FFFFFF;\n",
              "    }\n",
              "  </style>\n",
              "\n",
              "      <script>\n",
              "        const buttonEl =\n",
              "          document.querySelector('#df-6a04bba3-fe24-47f9-8c89-02d07c5733dd button.colab-df-convert');\n",
              "        buttonEl.style.display =\n",
              "          google.colab.kernel.accessAllowed ? 'block' : 'none';\n",
              "\n",
              "        async function convertToInteractive(key) {\n",
              "          const element = document.querySelector('#df-6a04bba3-fe24-47f9-8c89-02d07c5733dd');\n",
              "          const dataTable =\n",
              "            await google.colab.kernel.invokeFunction('convertToInteractive',\n",
              "                                                     [key], {});\n",
              "          if (!dataTable) return;\n",
              "\n",
              "          const docLinkHtml = 'Like what you see? Visit the ' +\n",
              "            '<a target=\"_blank\" href=https://colab.research.google.com/notebooks/data_table.ipynb>data table notebook</a>'\n",
              "            + ' to learn more about interactive tables.';\n",
              "          element.innerHTML = '';\n",
              "          dataTable['output_type'] = 'display_data';\n",
              "          await google.colab.output.renderOutput(dataTable, element);\n",
              "          const docLink = document.createElement('div');\n",
              "          docLink.innerHTML = docLinkHtml;\n",
              "          element.appendChild(docLink);\n",
              "        }\n",
              "      </script>\n",
              "    </div>\n",
              "  </div>\n",
              "  "
            ]
          },
          "metadata": {},
          "execution_count": 11
        }
      ]
    },
    {
      "cell_type": "code",
      "source": [
        "df.info()"
      ],
      "metadata": {
        "id": "eVkA3GEC_Aly",
        "colab": {
          "base_uri": "https://localhost:8080/"
        },
        "outputId": "a2bbd638-6ef0-42bb-8b05-72b3015cdf1c"
      },
      "execution_count": null,
      "outputs": [
        {
          "output_type": "stream",
          "name": "stdout",
          "text": [
            "<class 'pandas.core.frame.DataFrame'>\n",
            "Int64Index: 9358 entries, 0 to 9357\n",
            "Data columns (total 10 columns):\n",
            " #   Column        Non-Null Count  Dtype  \n",
            "---  ------        --------------  -----  \n",
            " 0   caseid        9358 non-null   int64  \n",
            " 1   outcome       9358 non-null   int64  \n",
            " 2   birthwgt_lb1  6485 non-null   float64\n",
            " 3   birthwgt_oz1  6391 non-null   float64\n",
            " 4   prglngth      9358 non-null   int64  \n",
            " 5   nbrnaliv      6485 non-null   float64\n",
            " 6   agecon        9358 non-null   int64  \n",
            " 7   agepreg       9109 non-null   float64\n",
            " 8   hpagelb       6485 non-null   float64\n",
            " 9   wgt2013_2015  9358 non-null   float64\n",
            "dtypes: float64(6), int64(4)\n",
            "memory usage: 804.2 KB\n"
          ]
        }
      ]
    },
    {
      "cell_type": "code",
      "source": [
        "df.birthwgt_lb1.describe()"
      ],
      "metadata": {
        "id": "89eywv0y_7k_",
        "colab": {
          "base_uri": "https://localhost:8080/"
        },
        "outputId": "c9259c11-4f57-4b59-ada7-0276de7369e2"
      },
      "execution_count": null,
      "outputs": [
        {
          "output_type": "execute_result",
          "data": {
            "text/plain": [
              "count    6485.000000\n",
              "mean        8.055204\n",
              "std        11.178893\n",
              "min         0.000000\n",
              "25%         6.000000\n",
              "50%         7.000000\n",
              "75%         8.000000\n",
              "max        99.000000\n",
              "Name: birthwgt_lb1, dtype: float64"
            ]
          },
          "metadata": {},
          "execution_count": 13
        }
      ]
    },
    {
      "cell_type": "code",
      "source": [
        "# max value is suspiciously large at 99 pounds\n",
        "# standard deviation of 11 pounds is highly unlikely to be possible"
      ],
      "metadata": {
        "id": "i4nHu6AGAYpn"
      },
      "execution_count": null,
      "outputs": []
    },
    {
      "cell_type": "code",
      "source": [
        "df.birthwgt_lb1.value_counts().sort_index()"
      ],
      "metadata": {
        "id": "f-1SrIfg_vZg",
        "colab": {
          "base_uri": "https://localhost:8080/"
        },
        "outputId": "ee1684d9-e6eb-4676-ed65-b3d3bb053c8c"
      },
      "execution_count": null,
      "outputs": [
        {
          "output_type": "execute_result",
          "data": {
            "text/plain": [
              "0.0        6\n",
              "1.0       34\n",
              "2.0       47\n",
              "3.0       67\n",
              "4.0      196\n",
              "5.0      586\n",
              "6.0     1666\n",
              "7.0     2146\n",
              "8.0     1168\n",
              "9.0      363\n",
              "10.0      82\n",
              "11.0      17\n",
              "12.0       7\n",
              "13.0       2\n",
              "14.0       2\n",
              "17.0       1\n",
              "98.0       1\n",
              "99.0      94\n",
              "Name: birthwgt_lb1, dtype: int64"
            ]
          },
          "metadata": {},
          "execution_count": 15
        }
      ]
    },
    {
      "cell_type": "code",
      "source": [
        "# 98 and 99 pound babies are likely to be an error\n",
        "# Looking at the documentation we learn that the values of 98 and 99 are given to cases where measurement was refused/unknown. We can remove them."
      ],
      "metadata": {
        "id": "MwA5VjeKAfEn"
      },
      "execution_count": null,
      "outputs": []
    },
    {
      "cell_type": "code",
      "source": [
        "df.birthwgt_lb1.replace([98, 99], np.nan, inplace=True)"
      ],
      "metadata": {
        "id": "PPaIsVwGBkun"
      },
      "execution_count": null,
      "outputs": []
    },
    {
      "cell_type": "code",
      "source": [
        "df.birthwgt_lb1.describe()"
      ],
      "metadata": {
        "id": "WfGrVGRECOS_",
        "colab": {
          "base_uri": "https://localhost:8080/"
        },
        "outputId": "5ee006bf-0577-43b0-a4d5-8205285b190f"
      },
      "execution_count": null,
      "outputs": [
        {
          "output_type": "execute_result",
          "data": {
            "text/plain": [
              "count    6390.000000\n",
              "mean        6.703286\n",
              "std         1.429265\n",
              "min         0.000000\n",
              "25%         6.000000\n",
              "50%         7.000000\n",
              "75%         8.000000\n",
              "max        17.000000\n",
              "Name: birthwgt_lb1, dtype: float64"
            ]
          },
          "metadata": {},
          "execution_count": 18
        }
      ]
    },
    {
      "cell_type": "code",
      "source": [
        "df.birthwgt_oz1.describe()"
      ],
      "metadata": {
        "id": "Gxb41akYCdXX",
        "colab": {
          "base_uri": "https://localhost:8080/"
        },
        "outputId": "cd6c8b8d-b439-4ae4-b27d-87d9dac82bb5"
      },
      "execution_count": null,
      "outputs": [
        {
          "output_type": "execute_result",
          "data": {
            "text/plain": [
              "count    6391.000000\n",
              "mean        7.213895\n",
              "std         8.254885\n",
              "min         0.000000\n",
              "25%         3.000000\n",
              "50%         6.000000\n",
              "75%        11.000000\n",
              "max        99.000000\n",
              "Name: birthwgt_oz1, dtype: float64"
            ]
          },
          "metadata": {},
          "execution_count": 19
        }
      ]
    },
    {
      "cell_type": "code",
      "source": [
        "df[\"birth_weight\"] = df.birthwgt_lb1 + df.birthwgt_oz1 / 16"
      ],
      "metadata": {
        "id": "fXwkGcJLEsh2"
      },
      "execution_count": null,
      "outputs": []
    },
    {
      "cell_type": "code",
      "source": [
        "df.birthwgt_oz1.value_counts().sort_index()\n",
        "df.birthwgt_oz1.replace([98, 99], np.nan, inplace=True)"
      ],
      "metadata": {
        "id": "nHe2UwgrCpbZ"
      },
      "execution_count": null,
      "outputs": []
    },
    {
      "cell_type": "code",
      "source": [
        "df.agecon = df['agecon'] / 100\n",
        "df.agepreg = df['agepreg'] / 100"
      ],
      "metadata": {
        "id": "e-hTuvquEKmy"
      },
      "execution_count": null,
      "outputs": []
    },
    {
      "cell_type": "code",
      "source": [
        "plt.hist(df[\"birth_weight\"].dropna(), bins=18)\n",
        "plt.ylabel(\"Number of births\")\n",
        "plt.xlabel(\"Birth weight (lb)\")\n",
        "plt.show()"
      ],
      "metadata": {
        "id": "Shv2OVpYEllA",
        "colab": {
          "base_uri": "https://localhost:8080/",
          "height": 279
        },
        "outputId": "3d02f0f3-a5ae-4f36-c671-94feb3821851"
      },
      "execution_count": null,
      "outputs": [
        {
          "output_type": "display_data",
          "data": {
            "text/plain": [
              "<Figure size 432x288 with 1 Axes>"
            ],
            "image/png": "[encoded data removed]"
          },
          "metadata": {
            "needs_background": "light"
          }
        }
      ]
    },
    {
      "cell_type": "markdown",
      "source": [
        "### Probability distribution functions"
      ],
      "metadata": {
        "id": "2Yye_CvC91Pz"
      }
    },
    {
      "cell_type": "code",
      "source": [
        "# pmf -> Probability mass function: probability that you get X\n",
        "# for small number of unique values\n",
        "pmf = df[\"birth_weight\"].value_counts(normalize=True).sort_index()\n",
        "plt.bar(pmf.index, pmf)\n",
        "plt.ylabel(\"Probability\")\n",
        "plt.xlabel(\"Birth weight (lb)\")\n",
        "plt.show"
      ],
      "metadata": {
        "colab": {
          "base_uri": "https://localhost:8080/",
          "height": 297
        },
        "id": "jI4NbOx18y0L",
        "outputId": "b34c2316-c903-41d9-cbb8-624b0caaf411"
      },
      "execution_count": null,
      "outputs": [
        {
          "output_type": "execute_result",
          "data": {
            "text/plain": [
              "<function matplotlib.pyplot.show>"
            ]
          },
          "metadata": {},
          "execution_count": 41
        },
        {
          "output_type": "display_data",
          "data": {
            "text/plain": [
              "<Figure size 432x288 with 1 Axes>"
            ],
            "image/png": "[encoded data removed]"
          },
          "metadata": {
            "needs_background": "light"
          }
        }
      ]
    },
    {
      "cell_type": "code",
      "source": [
        "# cdf -> cummulative distribution function\n",
        "# for exploration\n",
        "cdf = np.cumsum(pmf)\n",
        "plt.bar(cdf.index, cdf)\n",
        "plt.ylabel(\"Cumulative probability\")\n",
        "plt.xlabel(\"Birth weight (lb)\")\n",
        "plt.show()"
      ],
      "metadata": {
        "colab": {
          "base_uri": "https://localhost:8080/",
          "height": 279
        },
        "id": "PdrFe8ix_Z3X",
        "outputId": "d8fb97de-b1c1-49e8-a514-70bd66815832"
      },
      "execution_count": null,
      "outputs": [
        {
          "output_type": "display_data",
          "data": {
            "text/plain": [
              "<Figure size 432x288 with 1 Axes>"
            ],
            "image/png": "[encoded data removed]"
          },
          "metadata": {
            "needs_background": "light"
          }
        }
      ]
    },
    {
      "cell_type": "code",
      "source": [
        "# pdf -> probability density function\n",
        "# if there are a lot of values\n",
        "sns.kdeplot(df[\"birth_weight\"])"
      ],
      "metadata": {
        "colab": {
          "base_uri": "https://localhost:8080/",
          "height": 299
        },
        "id": "brutSzpLGNzI",
        "outputId": "ac1a178e-608f-4b49-e05e-0d99f53d3674"
      },
      "execution_count": null,
      "outputs": [
        {
          "output_type": "execute_result",
          "data": {
            "text/plain": [
              "<matplotlib.axes._subplots.AxesSubplot at 0x7f54caa6b350>"
            ]
          },
          "metadata": {},
          "execution_count": 50
        },
        {
          "output_type": "display_data",
          "data": {
            "text/plain": [
              "<Figure size 432x288 with 1 Axes>"
            ],
            "image/png": "[encoded data removed]"
          },
          "metadata": {
            "needs_background": "light"
          }
        }
      ]
    },
    {
      "cell_type": "code",
      "source": [
        "df1 = pd.read_hdf(\"brfss.hdf5\")"
      ],
      "metadata": {
        "id": "z4nYeqZlH6CA"
      },
      "execution_count": null,
      "outputs": []
    },
    {
      "cell_type": "code",
      "source": [
        "df1.shape"
      ],
      "metadata": {
        "colab": {
          "base_uri": "https://localhost:8080/"
        },
        "id": "4WP9Ke4FWln1",
        "outputId": "8a241513-ba8c-4ec9-fbd2-a5ebc571075c"
      },
      "execution_count": null,
      "outputs": [
        {
          "output_type": "execute_result",
          "data": {
            "text/plain": [
              "(100000, 9)"
            ]
          },
          "metadata": {},
          "execution_count": 59
        }
      ]
    },
    {
      "cell_type": "code",
      "source": [
        "df1.head()"
      ],
      "metadata": {
        "colab": {
          "base_uri": "https://localhost:8080/",
          "height": 206
        },
        "id": "I3zcUIAvWmcA",
        "outputId": "aed28076-c8f5-41d2-f921-2f5b6c161586"
      },
      "execution_count": null,
      "outputs": [
        {
          "output_type": "execute_result",
          "data": {
            "text/plain": [
              "        SEX   HTM4   WTKG3  INCOME2       _LLCPWT  _AGEG5YR  _VEGESU1  \\\n",
              "96230   2.0  160.0   60.33      8.0   1398.525290       6.0      2.14   \n",
              "244920  2.0  163.0   58.97      5.0     84.057503      13.0      3.14   \n",
              "57312   2.0  163.0   72.57      8.0    390.248599       5.0      2.64   \n",
              "32573   2.0  165.0   74.84      1.0  11566.705300       3.0      1.46   \n",
              "355929  2.0  170.0  108.86      3.0    844.485450       3.0      1.81   \n",
              "\n",
              "        _HTMG10   AGE  \n",
              "96230     150.0  47.0  \n",
              "244920    160.0  89.5  \n",
              "57312     160.0  42.0  \n",
              "32573     160.0  32.0  \n",
              "355929    160.0  32.0  "
            ],
            "text/html": [
              "\n",
              "  <div id=\"df-babb77c3-7b88-458b-9615-b2b1e0dd0fa2\">\n",
              "    <div class=\"colab-df-container\">\n",
              "      <div>\n",
              "<style scoped>\n",
              "    .dataframe tbody tr th:only-of-type {\n",
              "        vertical-align: middle;\n",
              "    }\n",
              "\n",
              "    .dataframe tbody tr th {\n",
              "        vertical-align: top;\n",
              "    }\n",
              "\n",
              "    .dataframe thead th {\n",
              "        text-align: right;\n",
              "    }\n",
              "</style>\n",
              "<table border=\"1\" class=\"dataframe\">\n",
              "  <thead>\n",
              "    <tr style=\"text-align: right;\">\n",
              "      <th></th>\n",
              "      <th>SEX</th>\n",
              "      <th>HTM4</th>\n",
              "      <th>WTKG3</th>\n",
              "      <th>INCOME2</th>\n",
              "      <th>_LLCPWT</th>\n",
              "      <th>_AGEG5YR</th>\n",
              "      <th>_VEGESU1</th>\n",
              "      <th>_HTMG10</th>\n",
              "      <th>AGE</th>\n",
              "    </tr>\n",
              "  </thead>\n",
              "  <tbody>\n",
              "    <tr>\n",
              "      <th>96230</th>\n",
              "      <td>2.0</td>\n",
              "      <td>160.0</td>\n",
              "      <td>60.33</td>\n",
              "      <td>8.0</td>\n",
              "      <td>1398.525290</td>\n",
              "      <td>6.0</td>\n",
              "      <td>2.14</td>\n",
              "      <td>150.0</td>\n",
              "      <td>47.0</td>\n",
              "    </tr>\n",
              "    <tr>\n",
              "      <th>244920</th>\n",
              "      <td>2.0</td>\n",
              "      <td>163.0</td>\n",
              "      <td>58.97</td>\n",
              "      <td>5.0</td>\n",
              "      <td>84.057503</td>\n",
              "      <td>13.0</td>\n",
              "      <td>3.14</td>\n",
              "      <td>160.0</td>\n",
              "      <td>89.5</td>\n",
              "    </tr>\n",
              "    <tr>\n",
              "      <th>57312</th>\n",
              "      <td>2.0</td>\n",
              "      <td>163.0</td>\n",
              "      <td>72.57</td>\n",
              "      <td>8.0</td>\n",
              "      <td>390.248599</td>\n",
              "      <td>5.0</td>\n",
              "      <td>2.64</td>\n",
              "      <td>160.0</td>\n",
              "      <td>42.0</td>\n",
              "    </tr>\n",
              "    <tr>\n",
              "      <th>32573</th>\n",
              "      <td>2.0</td>\n",
              "      <td>165.0</td>\n",
              "      <td>74.84</td>\n",
              "      <td>1.0</td>\n",
              "      <td>11566.705300</td>\n",
              "      <td>3.0</td>\n",
              "      <td>1.46</td>\n",
              "      <td>160.0</td>\n",
              "      <td>32.0</td>\n",
              "    </tr>\n",
              "    <tr>\n",
              "      <th>355929</th>\n",
              "      <td>2.0</td>\n",
              "      <td>170.0</td>\n",
              "      <td>108.86</td>\n",
              "      <td>3.0</td>\n",
              "      <td>844.485450</td>\n",
              "      <td>3.0</td>\n",
              "      <td>1.81</td>\n",
              "      <td>160.0</td>\n",
              "      <td>32.0</td>\n",
              "    </tr>\n",
              "  </tbody>\n",
              "</table>\n",
              "</div>\n",
              "      <button class=\"colab-df-convert\" onclick=\"convertToInteractive('df-babb77c3-7b88-458b-9615-b2b1e0dd0fa2')\"\n",
              "              title=\"Convert this dataframe to an interactive table.\"\n",
              "              style=\"display:none;\">\n",
              "        \n",
              "  <svg xmlns=\"http://www.w3.org/2000/svg\" height=\"24px\"viewBox=\"0 0 24 24\"\n",
              "       width=\"24px\">\n",
              "    <path d=\"M0 0h24v24H0V0z\" fill=\"none\"/>\n",
              "    <path d=\"M18.56 5.44l.94 2.06.94-2.06 2.06-.94-2.06-.94-.94-2.06-.94 2.06-2.06.94zm-11 1L8.5 8.5l.94-2.06 2.06-.94-2.06-.94L8.5 2.5l-.94 2.06-2.06.94zm10 10l.94 2.06.94-2.06 2.06-.94-2.06-.94-.94-2.06-.94 2.06-2.06.94z\"/><path d=\"M17.41 7.96l-1.37-1.37c-.4-.4-.92-.59-1.43-.59-.52 0-1.04.2-1.43.59L10.3 9.45l-7.72 7.72c-.78.78-.78 2.05 0 2.83L4 21.41c.39.39.9.59 1.41.59.51 0 1.02-.2 1.41-.59l7.78-7.78 2.81-2.81c.8-.78.8-2.07 0-2.86zM5.41 20L4 18.59l7.72-7.72 1.47 1.35L5.41 20z\"/>\n",
              "  </svg>\n",
              "      </button>\n",
              "      \n",
              "  <style>\n",
              "    .colab-df-container {\n",
              "      display:flex;\n",
              "      flex-wrap:wrap;\n",
              "      gap: 12px;\n",
              "    }\n",
              "\n",
              "    .colab-df-convert {\n",
              "      background-color: #E8F0FE;\n",
              "      border: none;\n",
              "      border-radius: 50%;\n",
              "      cursor: pointer;\n",
              "      display: none;\n",
              "      fill: #1967D2;\n",
              "      height: 32px;\n",
              "      padding: 0 0 0 0;\n",
              "      width: 32px;\n",
              "    }\n",
              "\n",
              "    .colab-df-convert:hover {\n",
              "      background-color: #E2EBFA;\n",
              "      box-shadow: 0px 1px 2px rgba(60, 64, 67, 0.3), 0px 1px 3px 1px rgba(60, 64, 67, 0.15);\n",
              "      fill: #174EA6;\n",
              "    }\n",
              "\n",
              "    [theme=dark] .colab-df-convert {\n",
              "      background-color: #3B4455;\n",
              "      fill: #D2E3FC;\n",
              "    }\n",
              "\n",
              "    [theme=dark] .colab-df-convert:hover {\n",
              "      background-color: #434B5C;\n",
              "      box-shadow: 0px 1px 3px 1px rgba(0, 0, 0, 0.15);\n",
              "      filter: drop-shadow(0px 1px 2px rgba(0, 0, 0, 0.3));\n",
              "      fill: #FFFFFF;\n",
              "    }\n",
              "  </style>\n",
              "\n",
              "      <script>\n",
              "        const buttonEl =\n",
              "          document.querySelector('#df-babb77c3-7b88-458b-9615-b2b1e0dd0fa2 button.colab-df-convert');\n",
              "        buttonEl.style.display =\n",
              "          google.colab.kernel.accessAllowed ? 'block' : 'none';\n",
              "\n",
              "        async function convertToInteractive(key) {\n",
              "          const element = document.querySelector('#df-babb77c3-7b88-458b-9615-b2b1e0dd0fa2');\n",
              "          const dataTable =\n",
              "            await google.colab.kernel.invokeFunction('convertToInteractive',\n",
              "                                                     [key], {});\n",
              "          if (!dataTable) return;\n",
              "\n",
              "          const docLinkHtml = 'Like what you see? Visit the ' +\n",
              "            '<a target=\"_blank\" href=https://colab.research.google.com/notebooks/data_table.ipynb>data table notebook</a>'\n",
              "            + ' to learn more about interactive tables.';\n",
              "          element.innerHTML = '';\n",
              "          dataTable['output_type'] = 'display_data';\n",
              "          await google.colab.output.renderOutput(dataTable, element);\n",
              "          const docLink = document.createElement('div');\n",
              "          docLink.innerHTML = docLinkHtml;\n",
              "          element.appendChild(docLink);\n",
              "        }\n",
              "      </script>\n",
              "    </div>\n",
              "  </div>\n",
              "  "
            ]
          },
          "metadata": {},
          "execution_count": 60
        }
      ]
    },
    {
      "cell_type": "code",
      "source": [
        "df1.info()"
      ],
      "metadata": {
        "colab": {
          "base_uri": "https://localhost:8080/"
        },
        "id": "q5SWiePbWoaV",
        "outputId": "68e680d4-d21a-4055-da01-3b9b18e0bc47"
      },
      "execution_count": null,
      "outputs": [
        {
          "output_type": "stream",
          "name": "stdout",
          "text": [
            "<class 'pandas.core.frame.DataFrame'>\n",
            "Int64Index: 100000 entries, 96230 to 379327\n",
            "Data columns (total 9 columns):\n",
            " #   Column    Non-Null Count   Dtype  \n",
            "---  ------    --------------   -----  \n",
            " 0   SEX       99938 non-null   float64\n",
            " 1   HTM4      95143 non-null   float64\n",
            " 2   WTKG3     93404 non-null   float64\n",
            " 3   INCOME2   83447 non-null   float64\n",
            " 4   _LLCPWT   100000 non-null  float64\n",
            " 5   _AGEG5YR  98794 non-null   float64\n",
            " 6   _VEGESU1  87713 non-null   float64\n",
            " 7   _HTMG10   95143 non-null   float64\n",
            " 8   AGE       98794 non-null   float64\n",
            "dtypes: float64(9)\n",
            "memory usage: 7.6 MB\n"
          ]
        }
      ]
    },
    {
      "cell_type": "code",
      "source": [
        "df1.describe()"
      ],
      "metadata": {
        "colab": {
          "base_uri": "https://localhost:8080/",
          "height": 364
        },
        "id": "div4eUIIWsAj",
        "outputId": "cbef2289-c255-4c21-b372-4a6d8791721b"
      },
      "execution_count": null,
      "outputs": [
        {
          "output_type": "execute_result",
          "data": {
            "text/plain": [
              "                SEX          HTM4         WTKG3       INCOME2        _LLCPWT  \\\n",
              "count  99938.000000  95143.000000  93404.000000  83447.000000  100000.000000   \n",
              "mean       1.513809    170.090443     81.202017      5.788656    2785.881001   \n",
              "std        0.499812     10.795080     20.945679      2.229189    3982.612684   \n",
              "min        1.000000     91.000000     23.130000      1.000000       5.774036   \n",
              "25%        1.000000    163.000000     66.220000      4.000000     579.932565   \n",
              "50%        2.000000    170.000000     78.930000      6.000000    1378.138470   \n",
              "75%        2.000000    178.000000     90.720000      8.000000    3202.380370   \n",
              "max        2.000000    226.000000    272.610000      8.000000   45053.592700   \n",
              "\n",
              "           _AGEG5YR      _VEGESU1       _HTMG10           AGE  \n",
              "count  98794.000000  87713.000000  95143.000000  98794.000000  \n",
              "mean       6.103296      1.926845    163.915369     47.720732  \n",
              "std        3.601652      1.290404     11.297379     18.873769  \n",
              "min        1.000000      0.000000     90.000000     21.000000  \n",
              "25%        3.000000      1.140000    160.000000     32.000000  \n",
              "50%        6.000000      1.700000    160.000000     47.000000  \n",
              "75%        9.000000      2.410000    170.000000     62.000000  \n",
              "max       13.000000     15.000000    220.000000     89.500000  "
            ],
            "text/html": [
              "\n",
              "  <div id=\"df-282b49bd-998d-4aef-9cec-9e5621d3fabf\">\n",
              "    <div class=\"colab-df-container\">\n",
              "      <div>\n",
              "<style scoped>\n",
              "    .dataframe tbody tr th:only-of-type {\n",
              "        vertical-align: middle;\n",
              "    }\n",
              "\n",
              "    .dataframe tbody tr th {\n",
              "        vertical-align: top;\n",
              "    }\n",
              "\n",
              "    .dataframe thead th {\n",
              "        text-align: right;\n",
              "    }\n",
              "</style>\n",
              "<table border=\"1\" class=\"dataframe\">\n",
              "  <thead>\n",
              "    <tr style=\"text-align: right;\">\n",
              "      <th></th>\n",
              "      <th>SEX</th>\n",
              "      <th>HTM4</th>\n",
              "      <th>WTKG3</th>\n",
              "      <th>INCOME2</th>\n",
              "      <th>_LLCPWT</th>\n",
              "      <th>_AGEG5YR</th>\n",
              "      <th>_VEGESU1</th>\n",
              "      <th>_HTMG10</th>\n",
              "      <th>AGE</th>\n",
              "    </tr>\n",
              "  </thead>\n",
              "  <tbody>\n",
              "    <tr>\n",
              "      <th>count</th>\n",
              "      <td>99938.000000</td>\n",
              "      <td>95143.000000</td>\n",
              "      <td>93404.000000</td>\n",
              "      <td>83447.000000</td>\n",
              "      <td>100000.000000</td>\n",
              "      <td>98794.000000</td>\n",
              "      <td>87713.000000</td>\n",
              "      <td>95143.000000</td>\n",
              "      <td>98794.000000</td>\n",
              "    </tr>\n",
              "    <tr>\n",
              "      <th>mean</th>\n",
              "      <td>1.513809</td>\n",
              "      <td>170.090443</td>\n",
              "      <td>81.202017</td>\n",
              "      <td>5.788656</td>\n",
              "      <td>2785.881001</td>\n",
              "      <td>6.103296</td>\n",
              "      <td>1.926845</td>\n",
              "      <td>163.915369</td>\n",
              "      <td>47.720732</td>\n",
              "    </tr>\n",
              "    <tr>\n",
              "      <th>std</th>\n",
              "      <td>0.499812</td>\n",
              "      <td>10.795080</td>\n",
              "      <td>20.945679</td>\n",
              "      <td>2.229189</td>\n",
              "      <td>3982.612684</td>\n",
              "      <td>3.601652</td>\n",
              "      <td>1.290404</td>\n",
              "      <td>11.297379</td>\n",
              "      <td>18.873769</td>\n",
              "    </tr>\n",
              "    <tr>\n",
              "      <th>min</th>\n",
              "      <td>1.000000</td>\n",
              "      <td>91.000000</td>\n",
              "      <td>23.130000</td>\n",
              "      <td>1.000000</td>\n",
              "      <td>5.774036</td>\n",
              "      <td>1.000000</td>\n",
              "      <td>0.000000</td>\n",
              "      <td>90.000000</td>\n",
              "      <td>21.000000</td>\n",
              "    </tr>\n",
              "    <tr>\n",
              "      <th>25%</th>\n",
              "      <td>1.000000</td>\n",
              "      <td>163.000000</td>\n",
              "      <td>66.220000</td>\n",
              "      <td>4.000000</td>\n",
              "      <td>579.932565</td>\n",
              "      <td>3.000000</td>\n",
              "      <td>1.140000</td>\n",
              "      <td>160.000000</td>\n",
              "      <td>32.000000</td>\n",
              "    </tr>\n",
              "    <tr>\n",
              "      <th>50%</th>\n",
              "      <td>2.000000</td>\n",
              "      <td>170.000000</td>\n",
              "      <td>78.930000</td>\n",
              "      <td>6.000000</td>\n",
              "      <td>1378.138470</td>\n",
              "      <td>6.000000</td>\n",
              "      <td>1.700000</td>\n",
              "      <td>160.000000</td>\n",
              "      <td>47.000000</td>\n",
              "    </tr>\n",
              "    <tr>\n",
              "      <th>75%</th>\n",
              "      <td>2.000000</td>\n",
              "      <td>178.000000</td>\n",
              "      <td>90.720000</td>\n",
              "      <td>8.000000</td>\n",
              "      <td>3202.380370</td>\n",
              "      <td>9.000000</td>\n",
              "      <td>2.410000</td>\n",
              "      <td>170.000000</td>\n",
              "      <td>62.000000</td>\n",
              "    </tr>\n",
              "    <tr>\n",
              "      <th>max</th>\n",
              "      <td>2.000000</td>\n",
              "      <td>226.000000</td>\n",
              "      <td>272.610000</td>\n",
              "      <td>8.000000</td>\n",
              "      <td>45053.592700</td>\n",
              "      <td>13.000000</td>\n",
              "      <td>15.000000</td>\n",
              "      <td>220.000000</td>\n",
              "      <td>89.500000</td>\n",
              "    </tr>\n",
              "  </tbody>\n",
              "</table>\n",
              "</div>\n",
              "      <button class=\"colab-df-convert\" onclick=\"convertToInteractive('df-282b49bd-998d-4aef-9cec-9e5621d3fabf')\"\n",
              "              title=\"Convert this dataframe to an interactive table.\"\n",
              "              style=\"display:none;\">\n",
              "        \n",
              "  <svg xmlns=\"http://www.w3.org/2000/svg\" height=\"24px\"viewBox=\"0 0 24 24\"\n",
              "       width=\"24px\">\n",
              "    <path d=\"M0 0h24v24H0V0z\" fill=\"none\"/>\n",
              "    <path d=\"M18.56 5.44l.94 2.06.94-2.06 2.06-.94-2.06-.94-.94-2.06-.94 2.06-2.06.94zm-11 1L8.5 8.5l.94-2.06 2.06-.94-2.06-.94L8.5 2.5l-.94 2.06-2.06.94zm10 10l.94 2.06.94-2.06 2.06-.94-2.06-.94-.94-2.06-.94 2.06-2.06.94z\"/><path d=\"M17.41 7.96l-1.37-1.37c-.4-.4-.92-.59-1.43-.59-.52 0-1.04.2-1.43.59L10.3 9.45l-7.72 7.72c-.78.78-.78 2.05 0 2.83L4 21.41c.39.39.9.59 1.41.59.51 0 1.02-.2 1.41-.59l7.78-7.78 2.81-2.81c.8-.78.8-2.07 0-2.86zM5.41 20L4 18.59l7.72-7.72 1.47 1.35L5.41 20z\"/>\n",
              "  </svg>\n",
              "      </button>\n",
              "      \n",
              "  <style>\n",
              "    .colab-df-container {\n",
              "      display:flex;\n",
              "      flex-wrap:wrap;\n",
              "      gap: 12px;\n",
              "    }\n",
              "\n",
              "    .colab-df-convert {\n",
              "      background-color: #E8F0FE;\n",
              "      border: none;\n",
              "      border-radius: 50%;\n",
              "      cursor: pointer;\n",
              "      display: none;\n",
              "      fill: #1967D2;\n",
              "      height: 32px;\n",
              "      padding: 0 0 0 0;\n",
              "      width: 32px;\n",
              "    }\n",
              "\n",
              "    .colab-df-convert:hover {\n",
              "      background-color: #E2EBFA;\n",
              "      box-shadow: 0px 1px 2px rgba(60, 64, 67, 0.3), 0px 1px 3px 1px rgba(60, 64, 67, 0.15);\n",
              "      fill: #174EA6;\n",
              "    }\n",
              "\n",
              "    [theme=dark] .colab-df-convert {\n",
              "      background-color: #3B4455;\n",
              "      fill: #D2E3FC;\n",
              "    }\n",
              "\n",
              "    [theme=dark] .colab-df-convert:hover {\n",
              "      background-color: #434B5C;\n",
              "      box-shadow: 0px 1px 3px 1px rgba(0, 0, 0, 0.15);\n",
              "      filter: drop-shadow(0px 1px 2px rgba(0, 0, 0, 0.3));\n",
              "      fill: #FFFFFF;\n",
              "    }\n",
              "  </style>\n",
              "\n",
              "      <script>\n",
              "        const buttonEl =\n",
              "          document.querySelector('#df-282b49bd-998d-4aef-9cec-9e5621d3fabf button.colab-df-convert');\n",
              "        buttonEl.style.display =\n",
              "          google.colab.kernel.accessAllowed ? 'block' : 'none';\n",
              "\n",
              "        async function convertToInteractive(key) {\n",
              "          const element = document.querySelector('#df-282b49bd-998d-4aef-9cec-9e5621d3fabf');\n",
              "          const dataTable =\n",
              "            await google.colab.kernel.invokeFunction('convertToInteractive',\n",
              "                                                     [key], {});\n",
              "          if (!dataTable) return;\n",
              "\n",
              "          const docLinkHtml = 'Like what you see? Visit the ' +\n",
              "            '<a target=\"_blank\" href=https://colab.research.google.com/notebooks/data_table.ipynb>data table notebook</a>'\n",
              "            + ' to learn more about interactive tables.';\n",
              "          element.innerHTML = '';\n",
              "          dataTable['output_type'] = 'display_data';\n",
              "          await google.colab.output.renderOutput(dataTable, element);\n",
              "          const docLink = document.createElement('div');\n",
              "          docLink.innerHTML = docLinkHtml;\n",
              "          element.appendChild(docLink);\n",
              "        }\n",
              "      </script>\n",
              "    </div>\n",
              "  </div>\n",
              "  "
            ]
          },
          "metadata": {},
          "execution_count": 64
        }
      ]
    },
    {
      "cell_type": "code",
      "source": [
        "height = df1.HTM4\n",
        "weight = df1.WTKG3"
      ],
      "metadata": {
        "id": "pV5xxoFjWzB0"
      },
      "execution_count": null,
      "outputs": []
    },
    {
      "cell_type": "markdown",
      "source": [
        "## Relationships between variables"
      ],
      "metadata": {
        "id": "1qGZLMrnb1Ju"
      }
    },
    {
      "cell_type": "code",
      "source": [
        "# scatter plot\n",
        "plt.plot(height, weight, \"o\", alpha=0.2, markersize=2)\n",
        "plt.xlabel(\"Height\")\n",
        "plt.ylabel(\"Weight\")\n",
        "plt.show()"
      ],
      "metadata": {
        "colab": {
          "base_uri": "https://localhost:8080/",
          "height": 279
        },
        "id": "rVy6B6kWXPUK",
        "outputId": "cb459d98-23bf-4734-c9df-f098947e490c"
      },
      "execution_count": null,
      "outputs": [
        {
          "output_type": "display_data",
          "data": {
            "text/plain": [
              "<Figure size 432x288 with 1 Axes>"
            ],
            "image/png": "[encoded data removed]"
          },
          "metadata": {
            "needs_background": "light"
          }
        }
      ]
    },
    {
      "cell_type": "code",
      "source": [
        "# jittering: adding random noise\n",
        "height_jitter = height + np.random.normal(0, 2, size=len(df1))\n",
        "weight_jitter = weight + np.random.normal(0, 2, size=len(df1))\n",
        "plt.plot(height_jitter, weight_jitter, \"o\", alpha=0.2, markersize=2)\n",
        "plt.xlabel(\"Height\")\n",
        "plt.ylabel(\"Weight\")\n",
        "plt.axis([140, 200, 25, 175])\n",
        "plt.show()"
      ],
      "metadata": {
        "colab": {
          "base_uri": "https://localhost:8080/",
          "height": 279
        },
        "id": "em0k05m-azUU",
        "outputId": "41790723-a607-4aaf-fe76-06fcad8a2029"
      },
      "execution_count": null,
      "outputs": [
        {
          "output_type": "display_data",
          "data": {
            "text/plain": [
              "<Figure size 432x288 with 1 Axes>"
            ],
            "image/png": "[encoded data removed]"
          },
          "metadata": {
            "needs_background": "light"
          }
        }
      ]
    }
  ]
}
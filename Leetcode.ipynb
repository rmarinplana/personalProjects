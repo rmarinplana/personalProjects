{
  "cells": [
    {
      "cell_type": "markdown",
      "metadata": {
        "id": "J_NsDSH7MDh2"
      },
      "source": [
        "### Two Sum"
      ]
    },
    {
      "cell_type": "code",
      "execution_count": null,
      "metadata": {
        "colab": {
          "base_uri": "https://localhost:8080/"
        },
        "id": "vXFqa32ECwOt",
        "outputId": "02397caf-48b0-400a-a37c-e27f4a8e68bb"
      },
      "outputs": [
        {
          "name": "stdout",
          "output_type": "stream",
          "text": [
            "[1, 0]\n"
          ]
        }
      ],
      "source": [
        "# O(n)\n",
        "# Iterates over each value only once\n",
        "nums = [2,7,3,9]\n",
        "target = 9\n",
        "seen = {}\n",
        "for ind, value in enumerate(nums):\n",
        "  diff = target-value\n",
        "  if diff in seen:\n",
        "    print([ind, seen[diff]])\n",
        "  seen[value] = ind"
      ]
    },
    {
      "cell_type": "code",
      "execution_count": null,
      "metadata": {
        "colab": {
          "base_uri": "https://localhost:8080/"
        },
        "id": "CWNdDq4aVIk2",
        "outputId": "b7a6b16f-2c51-4dd6-d698-fe29394eb8a4"
      },
      "outputs": [
        {
          "name": "stdout",
          "output_type": "stream",
          "text": [
            "[2, 4]\n"
          ]
        }
      ],
      "source": [
        "# O(n^2)\n",
        "# For each value it iterates over all values\n",
        "nums = [3,4,2,9,7]\n",
        "target = 9\n",
        "for ind, value in enumerate(nums):\n",
        "  diff = target - value\n",
        "  if diff in nums and ind != nums.index(diff):\n",
        "      print([ind, nums.index(diff)])\n",
        "      break"
      ]
    },
    {
      "cell_type": "code",
      "execution_count": null,
      "metadata": {
        "colab": {
          "base_uri": "https://localhost:8080/"
        },
        "id": "NFM3qJaRa4dx",
        "outputId": "05d9941e-4d27-456d-860c-b55f43233280"
      },
      "outputs": [
        {
          "data": {
            "text/plain": [
              "2"
            ]
          },
          "execution_count": 46,
          "metadata": {},
          "output_type": "execute_result"
        }
      ],
      "source": [
        "nums.index(diff)\n",
        "if diff in nums:"
      ]
    },
    {
      "cell_type": "markdown",
      "metadata": {
        "id": "EI9xI_ws4fDV"
      },
      "source": [
        "### Palindrome"
      ]
    },
    {
      "cell_type": "code",
      "execution_count": null,
      "metadata": {
        "colab": {
          "base_uri": "https://localhost:8080/"
        },
        "id": "Ab7FLG7o4kLu",
        "outputId": "9192a377-aa64-4a11-fd88-5ad8426fe9ae"
      },
      "outputs": [
        {
          "name": "stdout",
          "output_type": "stream",
          "text": [
            "True\n"
          ]
        }
      ],
      "source": [
        "num = 1234321\n",
        "if str(num) == str(num)[::-1]:\n",
        "  print(True)\n",
        "else:\n",
        "  print(False)"
      ]
    },
    {
      "cell_type": "code",
      "execution_count": null,
      "metadata": {
        "colab": {
          "base_uri": "https://localhost:8080/"
        },
        "id": "DwsuFyfy5rrL",
        "outputId": "9d50847d-8c23-405f-af43-65db9e396597"
      },
      "outputs": [
        {
          "name": "stdout",
          "output_type": "stream",
          "text": [
            "True\n",
            "True\n",
            "True\n",
            "True\n"
          ]
        }
      ],
      "source": [
        "num = 1234321\n",
        "string = str(num)\n",
        "i = 0\n",
        "j = len(string)-1\n",
        "\n",
        "while i <= j:\n",
        "  if string[i] != string[j]:\n",
        "    print(False)\n",
        "    break\n",
        "  else:\n",
        "    i+=1\n",
        "    j-=1\n",
        "  print(True)\n",
        "  "
      ]
    },
    {
      "cell_type": "markdown",
      "metadata": {
        "id": "AH10yY9d-X0A"
      },
      "source": [
        "### Roman to Text"
      ]
    },
    {
      "cell_type": "code",
      "execution_count": null,
      "metadata": {
        "colab": {
          "base_uri": "https://localhost:8080/"
        },
        "id": "t_wps0XJkQyx",
        "outputId": "db4d5c47-df12-4707-965d-c8c6a5889bd7"
      },
      "outputs": [
        {
          "name": "stdout",
          "output_type": "stream",
          "text": [
            "44\n"
          ]
        }
      ],
      "source": [
        "count = 0\n",
        "translator = {\n",
        "\"I\": 1,\n",
        "\"V\": 5,\n",
        "\"X\": 10,\n",
        "\"L\": 50,\n",
        "\"C\": 100,\n",
        "\"D\": 500,\n",
        "\"M\": 1000} \n",
        "s = \"XLIV\"\n",
        "for char in range(len(s)-1):\n",
        "  if translator.get(s[char]) >= translator.get(s[char+1]):\n",
        "    count += translator.get(s[char])\n",
        "  else: \n",
        "    count -= translator.get(s[char])\n",
        "count += translator.get(s[-1])\n",
        "print(count)\n",
        "\n",
        "\n",
        "'''\n",
        "for char in range(len(\"hello\")):\n",
        "dict.get(\"hello\")\n",
        "'''\n",
        "    "
      ]
    },
    {
      "cell_type": "markdown",
      "metadata": {
        "id": "y_4CZtR3rYwT"
      },
      "source": [
        "### Longest Common Prefix"
      ]
    },
    {
      "cell_type": "code",
      "execution_count": null,
      "metadata": {
        "colab": {
          "base_uri": "https://localhost:8080/",
          "height": 35
        },
        "id": "oeyYN66w-i5X",
        "outputId": "f98b9f25-b2f9-4c71-b73e-4d7ea84bdd84"
      },
      "outputs": [
        {
          "data": {
            "application/vnd.google.colaboratory.intrinsic+json": {
              "type": "string"
            },
            "text/plain": [
              "'a'"
            ]
          },
          "execution_count": 22,
          "metadata": {},
          "output_type": "execute_result"
        }
      ],
      "source": [
        "strs = [\"flower\",\"flow\",\"flight\"]\n",
        "\n",
        "def longestCommonPrefix(strs):\n",
        "    strs.sort(key=len)\n",
        "    shortest = strs[0]\n",
        "    length = len(shortest)\n",
        "    i = 0\n",
        "    output = \"\"\n",
        "    while i < length:\n",
        "      for string in strs:\n",
        "        if string[i] != shortest[i]:\n",
        "          return output\n",
        "      output += string[i]\n",
        "      i+=1\n",
        "    return output\n",
        "longestCommonPrefix([\"a\"])  "
      ]
    },
    {
      "cell_type": "code",
      "execution_count": null,
      "metadata": {
        "colab": {
          "base_uri": "https://localhost:8080/",
          "height": 35
        },
        "id": "5QF6aAO5kqxw",
        "outputId": "92f1f391-bbbf-4c96-d8eb-c59360e1e2d8"
      },
      "outputs": [
        {
          "data": {
            "application/vnd.google.colaboratory.intrinsic+json": {
              "type": "string"
            },
            "text/plain": [
              "''"
            ]
          },
          "execution_count": 15,
          "metadata": {},
          "output_type": "execute_result"
        }
      ],
      "source": [
        "def longestCommonPrefix(strs):\n",
        "  response = \"\"\n",
        "  strs.sort(key=len)\n",
        "  for ind, char in enumerate(strs[0]):\n",
        "    count = 0\n",
        "    for s in strs:\n",
        "      if s[ind] != char:\n",
        "        count += 1\n",
        "    if count == len(strs):\n",
        "      response += char\n",
        "    else:\n",
        "      return response\n",
        "  return response\n",
        "\n",
        "longestCommonPrefix([\"a\", \"b\"])\n",
        "\n"
      ]
    },
    {
      "cell_type": "code",
      "execution_count": null,
      "metadata": {
        "colab": {
          "base_uri": "https://localhost:8080/",
          "height": 35
        },
        "id": "xL3qCi9osYbA",
        "outputId": "b3d99071-f318-404f-87f0-07728175ce07"
      },
      "outputs": [
        {
          "data": {
            "application/vnd.google.colaboratory.intrinsic+json": {
              "type": "string"
            },
            "text/plain": [
              "'a'"
            ]
          },
          "execution_count": 31,
          "metadata": {},
          "output_type": "execute_result"
        }
      ],
      "source": [
        "def longestCommonPrefix(strs):\n",
        "  if not strs:\n",
        "    return \"\"\n",
        "  strs.sort(key=len)\n",
        "  for ind, char in enumerate(strs[0]):\n",
        "    for s in strs:\n",
        "      if s[ind] != char:\n",
        "        return strs[0][:ind]\n",
        "  return strs[0]\n",
        "longestCommonPrefix([\"ab\", \"a\"])"
      ]
    },
    {
      "cell_type": "markdown",
      "metadata": {
        "id": "TzqJE-mJuqqD"
      },
      "source": [
        "### Valid Parenthesis\n"
      ]
    },
    {
      "cell_type": "code",
      "execution_count": null,
      "metadata": {
        "colab": {
          "base_uri": "https://localhost:8080/"
        },
        "id": "bPti8tS1uv3x",
        "outputId": "331358b8-23c3-4c61-b078-2faeef810992"
      },
      "outputs": [
        {
          "data": {
            "text/plain": [
              "False"
            ]
          },
          "execution_count": 46,
          "metadata": {},
          "output_type": "execute_result"
        }
      ],
      "source": [
        "def isValid(s):\n",
        "  if not s:\n",
        "    return False\n",
        "  if len(s)%2 != 0:\n",
        "    return False\n",
        "  d = {\n",
        "      \"(\":\")\",\n",
        "      \"[\":\"]\",\n",
        "      \"{\":\"}\"\n",
        "  }\n",
        "  count=0\n",
        "  while count<len(s):\n",
        "    if s[count+1] != d[s[count]]:\n",
        "      return False\n",
        "    count += 2\n",
        "  return True\n",
        "isValid(\"()[)\")\n"
      ]
    },
    {
      "cell_type": "code",
      "execution_count": null,
      "metadata": {
        "colab": {
          "base_uri": "https://localhost:8080/"
        },
        "id": "8jppgHy0yTtj",
        "outputId": "9d637f0b-6fbd-44e8-b8a6-972306e05af6"
      },
      "outputs": [
        {
          "data": {
            "text/plain": [
              "True"
            ]
          },
          "execution_count": 105,
          "metadata": {},
          "output_type": "execute_result"
        }
      ],
      "source": [
        "def isValid(s):\n",
        "    stack = []\n",
        "    Parentheses = { \")\":\"(\", \"}\":\"{\", \"]\":\"[\"}\n",
        "    \n",
        "    for c in s:\n",
        "        if c in Parentheses:\n",
        "            if stack and stack[-1]==Parentheses[c]:\n",
        "                stack.pop()\n",
        "            else:\n",
        "                return False\n",
        "        else:\n",
        "            stack.append(c)\n",
        "    return True if not stack else False\n",
        "isValid(\"((([[[]]])))\")\n",
        "\n"
      ]
    },
    {
      "cell_type": "markdown",
      "metadata": {
        "id": "fJEu2QYuFaUH"
      },
      "source": [
        "### Merge Two Sorted Lists"
      ]
    },
    {
      "cell_type": "code",
      "execution_count": null,
      "metadata": {
        "colab": {
          "base_uri": "https://localhost:8080/"
        },
        "id": "oNJrhaJ_Fgwp",
        "outputId": "3af1769b-1449-4014-b36a-1388f475efab"
      },
      "outputs": [
        {
          "data": {
            "text/plain": [
              "[1, 1, 2, 3, 4, 4]"
            ]
          },
          "execution_count": 119,
          "metadata": {},
          "output_type": "execute_result"
        }
      ],
      "source": [
        "list1 = [1,2,4]\n",
        "list2 = [1,3,4]\n",
        "\n",
        "def mergeTwoLists(list1, list2):\n",
        "  output = list1 + list2 # or [*list1, *list2]\n",
        "  output.sort()\n",
        "  return output\n",
        "\n",
        "mergeTwoLists(list1, list2)\n"
      ]
    },
    {
      "cell_type": "code",
      "execution_count": null,
      "metadata": {
        "colab": {
          "base_uri": "https://localhost:8080/"
        },
        "id": "RO3KwTyhHMAO",
        "outputId": "01f5723b-aa99-474e-c577-2dd0954016b3"
      },
      "outputs": [
        {
          "data": {
            "text/plain": [
              "[1, 1, 2, 3, 4, 4]"
            ]
          },
          "execution_count": 123,
          "metadata": {},
          "output_type": "execute_result"
        }
      ],
      "source": [
        "list1 = [1,2,4]\n",
        "list2 = [1,3,4]\n",
        "\n",
        "def mergeTwoLists(list1, list2):\n",
        "  output = []\n",
        "  while list1 and list2:\n",
        "    if list1[0] < list2[0]:\n",
        "      output.append(list1[0])\n",
        "      list1.pop(0)\n",
        "    else: \n",
        "      output.append(list2[0])\n",
        "      list2.pop(0)\n",
        "  if list1:\n",
        "    output.extend(list1)\n",
        "  else:\n",
        "    output.extend(list2)\n",
        "  return output\n",
        "mergeTwoLists(list1, list2)"
      ]
    },
    {
      "cell_type": "code",
      "execution_count": null,
      "metadata": {
        "id": "OAdEQclSNcpy"
      },
      "outputs": [],
      "source": [
        "# Definition for singly-linked list.\n",
        "class ListNode(object):\n",
        "     def __init__(self, val=0, next=None):\n",
        "         self.val = val\n",
        "         self.next = next\n",
        "class Solution(object):\n",
        "    def mergeTwoLists(self, list1, list2):\n",
        "      return "
      ]
    },
    {
      "cell_type": "markdown",
      "metadata": {},
      "source": [
        "### Contains Duplicate"
      ]
    },
    {
      "cell_type": "code",
      "execution_count": null,
      "metadata": {},
      "outputs": [],
      "source": [
        "# Given an integer array nums, return true if any value appears at least twice in the array,\n",
        "# and return false if every element is distinct."
      ]
    },
    {
      "cell_type": "code",
      "execution_count": 24,
      "metadata": {},
      "outputs": [
        {
          "data": {
            "text/plain": [
              "True"
            ]
          },
          "execution_count": 24,
          "metadata": {},
          "output_type": "execute_result"
        }
      ],
      "source": [
        "# O(n^2)\n",
        "def containsDuplicate(nums):\n",
        "    for ind, num in enumerate(nums):\n",
        "        left = nums[:ind] + nums[ind+1:]\n",
        "        if num in left:\n",
        "            return True\n",
        "    return False\n",
        "\n",
        "nums = [2,14,18,22,5,22,3]\n",
        "containsDuplicate(nums)"
      ]
    },
    {
      "cell_type": "code",
      "execution_count": 35,
      "metadata": {},
      "outputs": [
        {
          "data": {
            "text/plain": [
              "True"
            ]
          },
          "execution_count": 35,
          "metadata": {},
          "output_type": "execute_result"
        }
      ],
      "source": [
        "# O(nlogn)\n",
        "def containsDuplicate(nums):\n",
        "    nums.sort()\n",
        "    for ind, num in enumerate(nums[:-1]):\n",
        "        if num == nums[ind+1]:\n",
        "            return True\n",
        "    return False\n",
        "    \n",
        "nums = [2,14,18,22,5,22,3]\n",
        "containsDuplicate(nums)"
      ]
    },
    {
      "cell_type": "markdown",
      "metadata": {},
      "source": [
        "### Maximum Subarray"
      ]
    },
    {
      "cell_type": "code",
      "execution_count": null,
      "metadata": {},
      "outputs": [],
      "source": []
    }
  ],
  "metadata": {
    "colab": {
      "authorship_tag": "ABX9TyMVcAexFaabN1a2lC5IGLao",
      "name": "Leetcode.ipynb",
      "provenance": []
    },
    "interpreter": {
      "hash": "74609ea32c075f5c8e96a18961956eadb9a9347b199f0247ab8ad93a9d4aa1e3"
    },
    "kernelspec": {
      "display_name": "Python 3.8.8 ('base')",
      "language": "python",
      "name": "python3"
    },
    "language_info": {
      "codemirror_mode": {
        "name": "ipython",
        "version": 3
      },
      "file_extension": ".py",
      "mimetype": "text/x-python",
      "name": "python",
      "nbconvert_exporter": "python",
      "pygments_lexer": "ipython3",
      "version": "3.8.8"
    }
  },
  "nbformat": 4,
  "nbformat_minor": 0
}

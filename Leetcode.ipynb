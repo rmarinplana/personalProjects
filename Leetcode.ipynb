{
  "nbformat": 4,
  "nbformat_minor": 0,
  "metadata": {
    "colab": {
      "name": "Leetcode.ipynb",
      "provenance": [],
      "authorship_tag": "ABX9TyMVcAexFaabN1a2lC5IGLao"
    },
    "kernelspec": {
      "name": "python3",
      "display_name": "Python 3"
    },
    "language_info": {
      "name": "python"
    }
  },
  "cells": [
    {
      "cell_type": "markdown",
      "source": [
        "### Two Sum"
      ],
      "metadata": {
        "id": "J_NsDSH7MDh2"
      }
    },
    {
      "cell_type": "code",
      "source": [
        "# O(n)\n",
        "# Iterates over each value only once\n",
        "nums = [2,7,3,9]\n",
        "target = 9\n",
        "seen = {}\n",
        "for ind, value in enumerate(nums):\n",
        "  diff = target-value\n",
        "  if diff in seen:\n",
        "    print([ind, seen[diff]])\n",
        "  seen[value] = ind"
      ],
      "metadata": {
        "colab": {
          "base_uri": "https://localhost:8080/"
        },
        "id": "vXFqa32ECwOt",
        "outputId": "02397caf-48b0-400a-a37c-e27f4a8e68bb"
      },
      "execution_count": null,
      "outputs": [
        {
          "output_type": "stream",
          "name": "stdout",
          "text": [
            "[1, 0]\n"
          ]
        }
      ]
    },
    {
      "cell_type": "code",
      "source": [
        "# O(n^2)\n",
        "# For each value it iterates over all values\n",
        "nums = [3,4,2,9,7]\n",
        "target = 9\n",
        "for ind, value in enumerate(nums):\n",
        "  diff = target - value\n",
        "  if diff in nums and ind != nums.index(diff):\n",
        "      print([ind, nums.index(diff)])\n",
        "      break"
      ],
      "metadata": {
        "colab": {
          "base_uri": "https://localhost:8080/"
        },
        "id": "CWNdDq4aVIk2",
        "outputId": "b7a6b16f-2c51-4dd6-d698-fe29394eb8a4"
      },
      "execution_count": null,
      "outputs": [
        {
          "output_type": "stream",
          "name": "stdout",
          "text": [
            "[2, 4]\n"
          ]
        }
      ]
    },
    {
      "cell_type": "code",
      "source": [
        "nums.index(diff)\n",
        "if diff in nums:"
      ],
      "metadata": {
        "colab": {
          "base_uri": "https://localhost:8080/"
        },
        "id": "NFM3qJaRa4dx",
        "outputId": "05d9941e-4d27-456d-860c-b55f43233280"
      },
      "execution_count": null,
      "outputs": [
        {
          "output_type": "execute_result",
          "data": {
            "text/plain": [
              "2"
            ]
          },
          "metadata": {},
          "execution_count": 46
        }
      ]
    },
    {
      "cell_type": "markdown",
      "source": [
        "### Palindrome"
      ],
      "metadata": {
        "id": "EI9xI_ws4fDV"
      }
    },
    {
      "cell_type": "code",
      "source": [
        "num = 1234321\n",
        "if str(num) == str(num)[::-1]:\n",
        "  print(True)\n",
        "else:\n",
        "  print(False)"
      ],
      "metadata": {
        "colab": {
          "base_uri": "https://localhost:8080/"
        },
        "id": "Ab7FLG7o4kLu",
        "outputId": "9192a377-aa64-4a11-fd88-5ad8426fe9ae"
      },
      "execution_count": null,
      "outputs": [
        {
          "output_type": "stream",
          "name": "stdout",
          "text": [
            "True\n"
          ]
        }
      ]
    },
    {
      "cell_type": "code",
      "source": [
        "num = 1234321\n",
        "string = str(num)\n",
        "i = 0\n",
        "j = len(string)-1\n",
        "\n",
        "while i <= j:\n",
        "  if string[i] != string[j]:\n",
        "    print(False)\n",
        "    break\n",
        "  else:\n",
        "    i+=1\n",
        "    j-=1\n",
        "  print(True)\n",
        "  "
      ],
      "metadata": {
        "colab": {
          "base_uri": "https://localhost:8080/"
        },
        "id": "DwsuFyfy5rrL",
        "outputId": "9d50847d-8c23-405f-af43-65db9e396597"
      },
      "execution_count": null,
      "outputs": [
        {
          "output_type": "stream",
          "name": "stdout",
          "text": [
            "True\n",
            "True\n",
            "True\n",
            "True\n"
          ]
        }
      ]
    },
    {
      "cell_type": "markdown",
      "source": [
        "### Roman to Text"
      ],
      "metadata": {
        "id": "AH10yY9d-X0A"
      }
    },
    {
      "cell_type": "code",
      "execution_count": null,
      "metadata": {
        "colab": {
          "base_uri": "https://localhost:8080/"
        },
        "id": "t_wps0XJkQyx",
        "outputId": "db4d5c47-df12-4707-965d-c8c6a5889bd7"
      },
      "outputs": [
        {
          "output_type": "stream",
          "name": "stdout",
          "text": [
            "44\n"
          ]
        }
      ],
      "source": [
        "count = 0\n",
        "translator = {\n",
        "\"I\": 1,\n",
        "\"V\": 5,\n",
        "\"X\": 10,\n",
        "\"L\": 50,\n",
        "\"C\": 100,\n",
        "\"D\": 500,\n",
        "\"M\": 1000} \n",
        "s = \"XLIV\"\n",
        "for char in range(len(s)-1):\n",
        "  if translator.get(s[char]) >= translator.get(s[char+1]):\n",
        "    count += translator.get(s[char])\n",
        "  else: \n",
        "    count -= translator.get(s[char])\n",
        "count += translator.get(s[-1])\n",
        "print(count)\n",
        "\n",
        "\n",
        "'''\n",
        "for char in range(len(\"hello\")):\n",
        "dict.get(\"hello\")\n",
        "'''\n",
        "    "
      ]
    },
    {
      "cell_type": "markdown",
      "source": [
        "###Longest Common Prefix"
      ],
      "metadata": {
        "id": "y_4CZtR3rYwT"
      }
    },
    {
      "cell_type": "code",
      "source": [
        "strs = [\"flower\",\"flow\",\"flight\"]\n",
        "\n",
        "def longestCommonPrefix(strs):\n",
        "    strs.sort(key=len)\n",
        "    shortest = strs[0]\n",
        "    length = len(shortest)\n",
        "    i = 0\n",
        "    output = \"\"\n",
        "    while i < length:\n",
        "      for string in strs:\n",
        "        if string[i] != shortest[i]:\n",
        "          return output\n",
        "      output += string[i]\n",
        "      i+=1\n",
        "    return output\n",
        "longestCommonPrefix([\"a\"])  "
      ],
      "metadata": {
        "id": "oeyYN66w-i5X",
        "colab": {
          "base_uri": "https://localhost:8080/",
          "height": 35
        },
        "outputId": "f98b9f25-b2f9-4c71-b73e-4d7ea84bdd84"
      },
      "execution_count": null,
      "outputs": [
        {
          "output_type": "execute_result",
          "data": {
            "text/plain": [
              "'a'"
            ],
            "application/vnd.google.colaboratory.intrinsic+json": {
              "type": "string"
            }
          },
          "metadata": {},
          "execution_count": 22
        }
      ]
    },
    {
      "cell_type": "code",
      "source": [
        "def longestCommonPrefix(strs):\n",
        "  response = \"\"\n",
        "  strs.sort(key=len)\n",
        "  for ind, char in enumerate(strs[0]):\n",
        "    count = 0\n",
        "    for s in strs:\n",
        "      if s[ind] != char:\n",
        "        count += 1\n",
        "    if count == len(strs):\n",
        "      response += char\n",
        "    else:\n",
        "      return response\n",
        "  return response\n",
        "\n",
        "longestCommonPrefix([\"a\", \"b\"])\n",
        "\n"
      ],
      "metadata": {
        "colab": {
          "base_uri": "https://localhost:8080/",
          "height": 35
        },
        "id": "5QF6aAO5kqxw",
        "outputId": "92f1f391-bbbf-4c96-d8eb-c59360e1e2d8"
      },
      "execution_count": null,
      "outputs": [
        {
          "output_type": "execute_result",
          "data": {
            "text/plain": [
              "''"
            ],
            "application/vnd.google.colaboratory.intrinsic+json": {
              "type": "string"
            }
          },
          "metadata": {},
          "execution_count": 15
        }
      ]
    },
    {
      "cell_type": "code",
      "source": [
        "def longestCommonPrefix(strs):\n",
        "  if not strs:\n",
        "    return \"\"\n",
        "  strs.sort(key=len)\n",
        "  for ind, char in enumerate(strs[0]):\n",
        "    for s in strs:\n",
        "      if s[ind] != char:\n",
        "        return strs[0][:ind]\n",
        "  return strs[0]\n",
        "longestCommonPrefix([\"ab\", \"a\"])"
      ],
      "metadata": {
        "colab": {
          "base_uri": "https://localhost:8080/",
          "height": 35
        },
        "id": "xL3qCi9osYbA",
        "outputId": "b3d99071-f318-404f-87f0-07728175ce07"
      },
      "execution_count": null,
      "outputs": [
        {
          "output_type": "execute_result",
          "data": {
            "text/plain": [
              "'a'"
            ],
            "application/vnd.google.colaboratory.intrinsic+json": {
              "type": "string"
            }
          },
          "metadata": {},
          "execution_count": 31
        }
      ]
    },
    {
      "cell_type": "markdown",
      "source": [
        "### Valid Parenthesis\n"
      ],
      "metadata": {
        "id": "TzqJE-mJuqqD"
      }
    },
    {
      "cell_type": "code",
      "source": [
        "def isValid(s):\n",
        "  if not s:\n",
        "    return False\n",
        "  if len(s)%2 != 0:\n",
        "    return False\n",
        "  d = {\n",
        "      \"(\":\")\",\n",
        "      \"[\":\"]\",\n",
        "      \"{\":\"}\"\n",
        "  }\n",
        "  count=0\n",
        "  while count<len(s):\n",
        "    if s[count+1] != d[s[count]]:\n",
        "      return False\n",
        "    count += 2\n",
        "  return True\n",
        "isValid(\"()[)\")\n"
      ],
      "metadata": {
        "colab": {
          "base_uri": "https://localhost:8080/"
        },
        "id": "bPti8tS1uv3x",
        "outputId": "331358b8-23c3-4c61-b078-2faeef810992"
      },
      "execution_count": null,
      "outputs": [
        {
          "output_type": "execute_result",
          "data": {
            "text/plain": [
              "False"
            ]
          },
          "metadata": {},
          "execution_count": 46
        }
      ]
    },
    {
      "cell_type": "code",
      "source": [
        "def isValid(s):\n",
        "    stack = []\n",
        "    Parentheses = { \")\":\"(\", \"}\":\"{\", \"]\":\"[\"}\n",
        "    \n",
        "    for c in s:\n",
        "        if c in Parentheses:\n",
        "            if stack and stack[-1]==Parentheses[c]:\n",
        "                stack.pop()\n",
        "            else:\n",
        "                return False\n",
        "        else:\n",
        "            stack.append(c)\n",
        "    return True if not stack else False\n",
        "isValid(\"((([[[]]])))\")\n",
        "\n"
      ],
      "metadata": {
        "colab": {
          "base_uri": "https://localhost:8080/"
        },
        "id": "8jppgHy0yTtj",
        "outputId": "9d637f0b-6fbd-44e8-b8a6-972306e05af6"
      },
      "execution_count": null,
      "outputs": [
        {
          "output_type": "execute_result",
          "data": {
            "text/plain": [
              "True"
            ]
          },
          "metadata": {},
          "execution_count": 105
        }
      ]
    },
    {
      "cell_type": "markdown",
      "source": [
        "### Merge Two Sorted Lists"
      ],
      "metadata": {
        "id": "fJEu2QYuFaUH"
      }
    },
    {
      "cell_type": "code",
      "source": [
        "list1 = [1,2,4]\n",
        "list2 = [1,3,4]\n",
        "\n",
        "def mergeTwoLists(list1, list2):\n",
        "  output = list1 + list2 # or [*list1, *list2]\n",
        "  output.sort()\n",
        "  return output\n",
        "\n",
        "mergeTwoLists(list1, list2)\n"
      ],
      "metadata": {
        "colab": {
          "base_uri": "https://localhost:8080/"
        },
        "id": "oNJrhaJ_Fgwp",
        "outputId": "3af1769b-1449-4014-b36a-1388f475efab"
      },
      "execution_count": null,
      "outputs": [
        {
          "output_type": "execute_result",
          "data": {
            "text/plain": [
              "[1, 1, 2, 3, 4, 4]"
            ]
          },
          "metadata": {},
          "execution_count": 119
        }
      ]
    },
    {
      "cell_type": "code",
      "source": [
        "list1 = [1,2,4]\n",
        "list2 = [1,3,4]\n",
        "\n",
        "def mergeTwoLists(list1, list2):\n",
        "  output = []\n",
        "  while list1 and list2:\n",
        "    if list1[0] < list2[0]:\n",
        "      output.append(list1[0])\n",
        "      list1.pop(0)\n",
        "    else: \n",
        "      output.append(list2[0])\n",
        "      list2.pop(0)\n",
        "  if list1:\n",
        "    output.extend(list1)\n",
        "  else:\n",
        "    output.extend(list2)\n",
        "  return output\n",
        "mergeTwoLists(list1, list2)"
      ],
      "metadata": {
        "colab": {
          "base_uri": "https://localhost:8080/"
        },
        "id": "RO3KwTyhHMAO",
        "outputId": "01f5723b-aa99-474e-c577-2dd0954016b3"
      },
      "execution_count": null,
      "outputs": [
        {
          "output_type": "execute_result",
          "data": {
            "text/plain": [
              "[1, 1, 2, 3, 4, 4]"
            ]
          },
          "metadata": {},
          "execution_count": 123
        }
      ]
    },
    {
      "cell_type": "code",
      "source": [
        "# Definition for singly-linked list.\n",
        "class ListNode(object):\n",
        "     def __init__(self, val=0, next=None):\n",
        "         self.val = val\n",
        "         self.next = next\n",
        "class Solution(object):\n",
        "    def mergeTwoLists(self, list1, list2):\n",
        "      return "
      ],
      "metadata": {
        "id": "OAdEQclSNcpy"
      },
      "execution_count": null,
      "outputs": []
    }
  ]
}
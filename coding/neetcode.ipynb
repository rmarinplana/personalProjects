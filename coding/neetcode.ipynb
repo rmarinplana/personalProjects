{
 "cells": [
  {
   "cell_type": "markdown",
   "metadata": {},
   "source": [
    "# NeetCode\n",
    "https://neetcode.io/"
   ]
  },
  {
   "cell_type": "markdown",
   "metadata": {},
   "source": [
    "## Arrays & Hashing"
   ]
  },
  {
   "cell_type": "markdown",
   "metadata": {},
   "source": [
    "#### 1. Contains Duplicate\n",
    "Given an integer array nums, return true if any value appears at least twice in the array, and return false if every element is distinct."
   ]
  },
  {
   "cell_type": "code",
   "execution_count": 4,
   "metadata": {},
   "outputs": [
    {
     "data": {
      "text/plain": [
       "True"
      ]
     },
     "execution_count": 4,
     "metadata": {},
     "output_type": "execute_result"
    }
   ],
   "source": [
    "# O(n)\n",
    "# hash map allows to check for item within itself at constant time 1\n",
    "def containsDuplicate(nums):\n",
    "    seen = set()\n",
    "    for v in nums:\n",
    "        if v in seen: return True\n",
    "        else: seen.add(v)\n",
    "    return False\n",
    "\n",
    "nums = [3, 2, 99, 4, 5, 5, 67, 8]\n",
    "containsDuplicate(nums)"
   ]
  },
  {
   "cell_type": "markdown",
   "metadata": {},
   "source": [
    "#### 2. Valid Anagram\n",
    "Given two strings s and t, return true if t is an anagram of s, and false otherwise.\n",
    "\n",
    "An Anagram is a word or phrase formed by rearranging the letters of a different word or phrase, typically using all the original letters exactly once."
   ]
  },
  {
   "cell_type": "code",
   "execution_count": 10,
   "metadata": {},
   "outputs": [
    {
     "data": {
      "text/plain": [
       "True"
      ]
     },
     "execution_count": 10,
     "metadata": {},
     "output_type": "execute_result"
    }
   ],
   "source": [
    "# O(nlogn): sorting takes nlogn time, no additional memory required\n",
    "def isAnagram(s, t):\n",
    "    return sorted(s)==sorted(t)\n",
    "\n",
    "s = \"roger\"\n",
    "t = \"gerro\"\n",
    "isAnagram(s, t)"
   ]
  },
  {
   "cell_type": "code",
   "execution_count": 9,
   "metadata": {},
   "outputs": [
    {
     "data": {
      "text/plain": [
       "True"
      ]
     },
     "execution_count": 9,
     "metadata": {},
     "output_type": "execute_result"
    }
   ],
   "source": [
    "# O(n): goes over each word once, thus takes n time. But, need memory to allocate hashmap\n",
    "def isAnagram(s, t):\n",
    "    dict1, dict2 = {}, {}\n",
    "    for i in s:\n",
    "        if i in dict1: dict1[i]+=1\n",
    "        else: dict1[i]=1\n",
    "    for j in t:\n",
    "        if j in dict2: dict2[j]+=1\n",
    "        else: dict2[j]=1\n",
    "    if dict1==dict2: return True\n",
    "    else: return False\n",
    "\n",
    "s = \"roger\"\n",
    "t = \"gerro\"\n",
    "isAnagram(s, t)"
   ]
  },
  {
   "cell_type": "markdown",
   "metadata": {},
   "source": [
    "#### 3. Two Sum\n",
    "Given an array of integers nums and an integer target, return indices of the two numbers such that they add up to target.\n",
    "\n",
    "You may assume that each input would have exactly one solution, and you may not use the same element twice.\n",
    "\n",
    "You can return the answer in any order."
   ]
  },
  {
   "cell_type": "code",
   "execution_count": 5,
   "metadata": {},
   "outputs": [
    {
     "data": {
      "text/plain": [
       "(2, 3)"
      ]
     },
     "execution_count": 5,
     "metadata": {},
     "output_type": "execute_result"
    }
   ],
   "source": [
    "# O(n)\n",
    "def twoSum(a, t):\n",
    "    seen = {}\n",
    "    for i, v in enumerate(a):\n",
    "        if t-v in seen:\n",
    "            return seen[t-v], i\n",
    "        else: seen[v]=i\n",
    "\n",
    "a = [2, 7, 4, 1]\n",
    "t = 5\n",
    "twoSum(a, t)"
   ]
  },
  {
   "cell_type": "markdown",
   "metadata": {},
   "source": [
    "## Two Pointers"
   ]
  },
  {
   "cell_type": "markdown",
   "metadata": {},
   "source": [
    "#### 1.Valid Palindrome\n",
    "\n",
    "Given a string s, return true if it is a palindrome, or false otherwise.\n",
    "\n",
    "A phrase is a palindrome if, after converting all uppercase letters into lowercase letters and removing all non-alphanumeric characters, it reads the same forward and backward. Alphanumeric characters include letters and numbers."
   ]
  },
  {
   "cell_type": "code",
   "execution_count": 48,
   "metadata": {},
   "outputs": [
    {
     "data": {
      "text/plain": [
       "True"
      ]
     },
     "execution_count": 48,
     "metadata": {},
     "output_type": "execute_result"
    }
   ],
   "source": [
    "def isPalindrome(s):\n",
    "    for ch in s:\n",
    "        if not ch.isalnum():\n",
    "            s=s.replace(ch, \"\")\n",
    "    return s.lower()==s[::-1].lower() # Creates extra memory by saving the reversed string in memory\n",
    "\n",
    "s = \"A man, a plan, a canal: Panama\"\n",
    "t = \"aA\"\n",
    "isPalindrome(t)"
   ]
  },
  {
   "cell_type": "code",
   "execution_count": 49,
   "metadata": {},
   "outputs": [
    {
     "data": {
      "text/plain": [
       "True"
      ]
     },
     "execution_count": 49,
     "metadata": {},
     "output_type": "execute_result"
    }
   ],
   "source": [
    "def isPalindrome(s):\n",
    "    # \"\".join(filter(str.isalnum, s))\n",
    "    for ch in s:\n",
    "        if not ch.isalnum():\n",
    "            s=s.replace(ch, \"\")\n",
    "    s=s.lower()\n",
    "    left=0\n",
    "    right=len(s)-1\n",
    "    while left<right:\n",
    "        if s[left]!=s[right]: return False\n",
    "        left+=1\n",
    "        right-=1\n",
    "    return True\n",
    "\n",
    "s = \"A man, a plan, a canal: Panama\"\n",
    "t = \"aA\"\n",
    "isPalindrome(t)"
   ]
  },
  {
   "cell_type": "markdown",
   "metadata": {},
   "source": [
    "## Sliding Window"
   ]
  },
  {
   "cell_type": "markdown",
   "metadata": {},
   "source": [
    "#### 1. Best Time to Buy & Sell Stock\n",
    "\n",
    "You are given an array prices where prices[i] is the price of a given stock on the ith day.\n",
    "\n",
    "You want to maximize your profit by choosing a single day to buy one stock and choosing a different day in the future to sell that stock.\n",
    "\n",
    "Return the maximum profit you can achieve from this transaction. If you cannot achieve any profit, return 0."
   ]
  },
  {
   "cell_type": "code",
   "execution_count": 56,
   "metadata": {},
   "outputs": [
    {
     "data": {
      "text/plain": [
       "8"
      ]
     },
     "execution_count": 56,
     "metadata": {},
     "output_type": "execute_result"
    }
   ],
   "source": [
    "def maxProfit(a):\n",
    "    min, maxProfit = a[0], 0\n",
    "    for i in a: \n",
    "        if i > min:\n",
    "            maxProfit = max(maxProfit, i - min)\n",
    "        else: min = i\n",
    "    return maxProfit\n",
    "\n",
    "a = [7,1,5,3,6,4, 3, 9, 0]\n",
    "maxProfit(a)"
   ]
  },
  {
   "cell_type": "markdown",
   "metadata": {},
   "source": [
    "## Stack"
   ]
  },
  {
   "cell_type": "markdown",
   "metadata": {},
   "source": [
    "#### 1. Valid Parenthesis\n",
    "\n",
    "Given a string s containing just the characters '(', ')', '{', '}', '[' and ']', determine if the input string is valid.\n",
    "\n",
    "An input string is valid if:\n",
    "\n",
    "Open brackets must be closed by the same type of brackets.\n",
    "Open brackets must be closed in the correct order."
   ]
  },
  {
   "cell_type": "code",
   "execution_count": 81,
   "metadata": {},
   "outputs": [
    {
     "name": "stdout",
     "output_type": "stream",
     "text": [
      "[]\n",
      "['(']\n",
      "['(', '[']\n",
      "['(', '[', '[']\n"
     ]
    },
    {
     "data": {
      "text/plain": [
       "False"
      ]
     },
     "execution_count": 81,
     "metadata": {},
     "output_type": "execute_result"
    }
   ],
   "source": [
    "def isValid(s):\n",
    "    stack = []\n",
    "    parenthesis = {\n",
    "        \")\":\"(\",\n",
    "        \"]\":\"[\",\n",
    "        \"}\":\"{\"\n",
    "    }\n",
    "    for ch in s:\n",
    "        if ch in parenthesis:\n",
    "            if stack and stack[-1]==parenthesis[ch]: \n",
    "                stack.pop()\n",
    "            else: return False\n",
    "        else: stack.append(ch)\n",
    "    return True if not stack else False\n",
    "\n",
    "s = \"([[]\"\n",
    "isValid(s)"
   ]
  },
  {
   "cell_type": "markdown",
   "metadata": {},
   "source": [
    "## Binary Search"
   ]
  },
  {
   "cell_type": "markdown",
   "metadata": {},
   "source": [
    "#### 1. Binary Search\n",
    "\n",
    "Given an array of integers nums which is sorted in ascending order, and an integer target, write a function to search target in nums. If target exists, then return its index. Otherwise, return -1.\n",
    "\n",
    "You must write an algorithm with O(log n) runtime complexity."
   ]
  },
  {
   "cell_type": "code",
   "execution_count": 48,
   "metadata": {},
   "outputs": [
    {
     "data": {
      "text/plain": [
       "5"
      ]
     },
     "execution_count": 48,
     "metadata": {},
     "output_type": "execute_result"
    }
   ],
   "source": [
    "def binarySearch(nums, target):\n",
    "    left, right = 0, len(nums)-1\n",
    "    if target<nums[left] or target>nums[right]: return -1\n",
    "    while left<=right:\n",
    "        mid=(left+right)//2\n",
    "        if nums[mid]==target: return mid\n",
    "        elif nums[mid]<target: left=mid+1\n",
    "        else: right=mid-1\n",
    "    return -1\n",
    "\n",
    "nums=range(100)\n",
    "target = 5\n",
    "binarySearch(nums, target)\n"
   ]
  },
  {
   "cell_type": "markdown",
   "metadata": {},
   "source": [
    "## Linked Lists"
   ]
  },
  {
   "cell_type": "code",
   "execution_count": 7,
   "metadata": {},
   "outputs": [],
   "source": [
    "class ListNode:\n",
    "    def __init__(self, val, next=None):\n",
    "        self.val = val\n",
    "        self.next = next\n"
   ]
  },
  {
   "cell_type": "markdown",
   "metadata": {},
   "source": [
    "#### 1. Reverse Linked List\n",
    "Given the head of a singly linked list, reverse the list, and return the reversed list.\n",
    "\n",
    "Follow up: A linked list can be reversed either iteratively or recursively. Could you implement both?"
   ]
  },
  {
   "cell_type": "code",
   "execution_count": 17,
   "metadata": {},
   "outputs": [],
   "source": [
    "class Solution():\n",
    "    def reverseList(self, head):\n",
    "        prev, curr = None, head\n",
    "        \n",
    "        while curr: \n",
    "            temp = curr.next\n",
    "            curr.next = prev\n",
    "            prev = curr\n",
    "            curr = temp\n",
    "        return prev\n",
    "\n",
    "head = [1,2,3,4,5]"
   ]
  },
  {
   "cell_type": "markdown",
   "metadata": {},
   "source": [
    "## Binary Trees"
   ]
  },
  {
   "cell_type": "code",
   "execution_count": 18,
   "metadata": {},
   "outputs": [],
   "source": [
    "class TreeNode(object):\n",
    "    def __init__(self, val=0, left=None, right=None):\n",
    "        self.val = val\n",
    "        self.left = None\n",
    "        self.right = None\n",
    "\n",
    "class BinaryTree(object):\n",
    "    def __init__(self, root):\n",
    "        self.root = TreeNode(root)"
   ]
  },
  {
   "cell_type": "code",
   "execution_count": 20,
   "metadata": {},
   "outputs": [
    {
     "data": {
      "text/plain": [
       "<__main__.TreeNode at 0x231949658b0>"
      ]
     },
     "execution_count": 20,
     "metadata": {},
     "output_type": "execute_result"
    }
   ],
   "source": [
    "tree = BinaryTree(5)\n",
    "tree.root"
   ]
  }
 ],
 "metadata": {
  "kernelspec": {
   "display_name": "Python 3.8.8 ('base')",
   "language": "python",
   "name": "python3"
  },
  "language_info": {
   "codemirror_mode": {
    "name": "ipython",
    "version": 3
   },
   "file_extension": ".py",
   "mimetype": "text/x-python",
   "name": "python",
   "nbconvert_exporter": "python",
   "pygments_lexer": "ipython3",
   "version": "3.8.8"
  },
  "orig_nbformat": 4,
  "vscode": {
   "interpreter": {
    "hash": "74609ea32c075f5c8e96a18961956eadb9a9347b199f0247ab8ad93a9d4aa1e3"
   }
  }
 },
 "nbformat": 4,
 "nbformat_minor": 2
}

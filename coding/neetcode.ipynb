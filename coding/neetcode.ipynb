{
 "cells": [
  {
   "cell_type": "markdown",
   "metadata": {},
   "source": [
    "# NeetCode\n",
    "https://neetcode.io/"
   ]
  },
  {
   "cell_type": "markdown",
   "metadata": {},
   "source": [
    "## Arrays & Hashing"
   ]
  },
  {
   "cell_type": "markdown",
   "metadata": {},
   "source": [
    "### 1. Contains Duplicate\n",
    "Given an integer array nums, return true if any value appears at least twice in the array, and return false if every element is distinct."
   ]
  },
  {
   "cell_type": "code",
   "execution_count": 4,
   "metadata": {},
   "outputs": [
    {
     "data": {
      "text/plain": [
       "True"
      ]
     },
     "execution_count": 4,
     "metadata": {},
     "output_type": "execute_result"
    }
   ],
   "source": [
    "# O(n)\n",
    "# hash map allows to check for item within itself at constant time 1\n",
    "def containsDuplicate(nums):\n",
    "    seen = set()\n",
    "    for v in nums:\n",
    "        if v in seen: return True\n",
    "        else: seen.add(v)\n",
    "    return False\n",
    "\n",
    "nums = [3, 2, 99, 4, 5, 5, 67, 8]\n",
    "containsDuplicate(nums)"
   ]
  },
  {
   "cell_type": "markdown",
   "metadata": {},
   "source": [
    "### 2. Valid Anagram\n",
    "Given two strings s and t, return true if t is an anagram of s, and false otherwise.\n",
    "\n",
    "An Anagram is a word or phrase formed by rearranging the letters of a different word or phrase, typically using all the original letters exactly once."
   ]
  },
  {
   "cell_type": "code",
   "execution_count": 10,
   "metadata": {},
   "outputs": [
    {
     "data": {
      "text/plain": [
       "True"
      ]
     },
     "execution_count": 10,
     "metadata": {},
     "output_type": "execute_result"
    }
   ],
   "source": [
    "# O(nlogn): sorting takes nlogn time, no additional memory required\n",
    "def isAnagram(s, t):\n",
    "    return sorted(s)==sorted(t)\n",
    "\n",
    "s = \"roger\"\n",
    "t = \"gerro\"\n",
    "isAnagram(s, t)"
   ]
  },
  {
   "cell_type": "code",
   "execution_count": 9,
   "metadata": {},
   "outputs": [
    {
     "data": {
      "text/plain": [
       "True"
      ]
     },
     "execution_count": 9,
     "metadata": {},
     "output_type": "execute_result"
    }
   ],
   "source": [
    "# O(n): goes over each word once, thus takes n time. But, need memory to allocate hashmap\n",
    "def isAnagram(s, t):\n",
    "    dict1, dict2={}, {}\n",
    "    for i in s:\n",
    "        if i in dict1: dict1[i]+=1\n",
    "        else: dict1[i]=1\n",
    "    for j in t:\n",
    "        if j in dict2: dict2[j]+=1\n",
    "        else: dict2[j]=1\n",
    "    if dict1==dict2: return True\n",
    "    else: return False\n",
    "\n",
    "s = \"roger\"\n",
    "t = \"gerro\"\n",
    "isAnagram(s, t)"
   ]
  },
  {
   "cell_type": "markdown",
   "metadata": {},
   "source": [
    "### 3. Two Sum\n",
    "Given an array of integers nums and an integer target, return indices of the two numbers such that they add up to target.\n",
    "\n",
    "You may assume that each input would have exactly one solution, and you may not use the same element twice.\n",
    "\n",
    "You can return the answer in any order."
   ]
  },
  {
   "cell_type": "code",
   "execution_count": 22,
   "metadata": {},
   "outputs": [
    {
     "data": {
      "text/plain": [
       "(2, 3)"
      ]
     },
     "execution_count": 22,
     "metadata": {},
     "output_type": "execute_result"
    }
   ],
   "source": [
    "# O(n)\n",
    "def twoSum(a, t):\n",
    "    seen = {}\n",
    "    for i, v in enumerate(a):\n",
    "        if t-v in seen:\n",
    "            return seen[t-v], i\n",
    "        else: seen[v]=i\n",
    "\n",
    "a = [2, 7, 4, 1]\n",
    "t = 5\n",
    "twoSum(a, t)"
   ]
  }
 ],
 "metadata": {
  "kernelspec": {
   "display_name": "Python 3.8.8 ('base')",
   "language": "python",
   "name": "python3"
  },
  "language_info": {
   "codemirror_mode": {
    "name": "ipython",
    "version": 3
   },
   "file_extension": ".py",
   "mimetype": "text/x-python",
   "name": "python",
   "nbconvert_exporter": "python",
   "pygments_lexer": "ipython3",
   "version": "3.8.8"
  },
  "orig_nbformat": 4,
  "vscode": {
   "interpreter": {
    "hash": "74609ea32c075f5c8e96a18961956eadb9a9347b199f0247ab8ad93a9d4aa1e3"
   }
  }
 },
 "nbformat": 4,
 "nbformat_minor": 2
}

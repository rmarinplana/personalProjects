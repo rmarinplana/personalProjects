{
  "cells": [
    {
      "cell_type": "markdown",
      "metadata": {
        "id": "J_NsDSH7MDh2"
      },
      "source": [
        "### Two Sum I"
      ]
    },
    {
      "cell_type": "code",
      "execution_count": 361,
      "metadata": {},
      "outputs": [
        {
          "data": {
            "text/plain": [
              "(3, 0)"
            ]
          },
          "execution_count": 361,
          "metadata": {},
          "output_type": "execute_result"
        }
      ],
      "source": [
        "# O(n), dict implements hash tables, which have linear time complexity\n",
        "# Iterates over each value only once\n",
        "\n",
        "def TwoSum(l, t):\n",
        "    seen = {}\n",
        "    for i, v in enumerate(nums):\n",
        "        if t-v in seen:\n",
        "            return i, seen[t-v]\n",
        "        seen[v] = i\n",
        "    \n",
        "\n",
        "nums = [2,7,3,9,4]\n",
        "target = 11\n",
        "TwoSum(nums, target) "
      ]
    },
    {
      "cell_type": "code",
      "execution_count": 362,
      "metadata": {},
      "outputs": [
        {
          "data": {
            "text/plain": [
              "(4, 0)"
            ]
          },
          "execution_count": 362,
          "metadata": {},
          "output_type": "execute_result"
        }
      ],
      "source": [
        "# Same with hash set\n",
        "def TwoSum(l, t):\n",
        "    complement = set()\n",
        "    for v in l:\n",
        "        if t-v in complement:\n",
        "            return l.index(v), l.index(t-v)\n",
        "        else: complement.add(v)\n",
        "    \n",
        "nums = [2,6,7,3,9,4]\n",
        "target = 11\n",
        "TwoSum(nums, target) "
      ]
    },
    {
      "cell_type": "markdown",
      "metadata": {},
      "source": [
        "### Two Sum II, sorted list"
      ]
    },
    {
      "cell_type": "code",
      "execution_count": 363,
      "metadata": {},
      "outputs": [
        {
          "data": {
            "text/plain": [
              "[3, 4]"
            ]
          },
          "execution_count": 363,
          "metadata": {},
          "output_type": "execute_result"
        }
      ],
      "source": [
        "# if you hace a sorted array, always think about using pointers!\n",
        "def TwoSumSorted(l, t):\n",
        "    left = 0\n",
        "    right = len(l)-1\n",
        "    while left<right:\n",
        "        sum = l[left]+l[right]\n",
        "        if sum>t:\n",
        "            right-=1\n",
        "        elif sum<t:\n",
        "            left+=1\n",
        "        else:\n",
        "            return [left, right]\n",
        "\n",
        "nums = [2,3,4,5,8,15]\n",
        "target = 13\n",
        "TwoSumSorted(nums, target) "
      ]
    },
    {
      "cell_type": "code",
      "execution_count": 364,
      "metadata": {
        "colab": {
          "base_uri": "https://localhost:8080/"
        },
        "id": "NFM3qJaRa4dx",
        "outputId": "05d9941e-4d27-456d-860c-b55f43233280"
      },
      "outputs": [
        {
          "ename": "SyntaxError",
          "evalue": "unexpected EOF while parsing (<ipython-input-364-5e2e6ba3da48>, line 2)",
          "output_type": "error",
          "traceback": [
            "\u001b[1;36m  File \u001b[1;32m\"<ipython-input-364-5e2e6ba3da48>\"\u001b[1;36m, line \u001b[1;32m2\u001b[0m\n\u001b[1;33m    if diff in nums:\u001b[0m\n\u001b[1;37m                    ^\u001b[0m\n\u001b[1;31mSyntaxError\u001b[0m\u001b[1;31m:\u001b[0m unexpected EOF while parsing\n"
          ]
        }
      ],
      "source": [
        "nums.index(diff)\n",
        "if diff in nums:"
      ]
    },
    {
      "cell_type": "markdown",
      "metadata": {},
      "source": [
        "### Sum of Two Arrays:\n",
        "2 interger arrays and a value v. Determine whether there is a pair of numbers, one of each array, that add up to v. Return true if it exist, and False otherwise"
      ]
    },
    {
      "cell_type": "code",
      "execution_count": null,
      "metadata": {},
      "outputs": [
        {
          "data": {
            "text/plain": [
              "False"
            ]
          },
          "execution_count": 14,
          "metadata": {},
          "output_type": "execute_result"
        }
      ],
      "source": [
        "# O(n^2), brut force, worst case scenario\n",
        "def sumOfTwo(a, b, v): \n",
        "    for i in a:\n",
        "        for j in b:\n",
        "            if i+j == v:\n",
        "                return True\n",
        "                break\n",
        "    return False\n",
        "\n",
        "arr1 = [2, 4, 5, 6, 7, 9, 12]\n",
        "arr2 = [3, 8, 10, 1, 7, 5, 3]\n",
        "v = 4\n",
        "\n",
        "sumOfTwo(arr1, arr2, v)\n"
      ]
    },
    {
      "cell_type": "code",
      "execution_count": null,
      "metadata": {},
      "outputs": [
        {
          "data": {
            "text/plain": [
              "False"
            ]
          },
          "execution_count": 352,
          "metadata": {},
          "output_type": "execute_result"
        }
      ],
      "source": [
        "# O(n), set() is a hash set that can determine object is present in the set at constant time O(1)\n",
        "\n",
        "def sumOfTwo(a, b, v): \n",
        "    complements = set()\n",
        "    for i in a:\n",
        "        complements.add(v-i)\n",
        "    for j in b:\n",
        "        if j in complements:\n",
        "            return True\n",
        "    return False\n",
        "\n",
        "arr1 = [2, 4, 5, 6, 7, 9, 12]\n",
        "arr2 = [3, 8, 10, 1, 7, 5, 3]\n",
        "v = 4\n",
        "\n",
        "sumOfTwo(arr1, arr2, v)"
      ]
    },
    {
      "cell_type": "markdown",
      "metadata": {},
      "source": [
        "### Find Longest Subarray by Sum\n",
        "\n",
        "Given an array a , and a value s, what's the longest subarray that adds up to s"
      ]
    },
    {
      "cell_type": "code",
      "execution_count": null,
      "metadata": {},
      "outputs": [
        {
          "data": {
            "text/plain": [
              "[3, 4, 5, 6, 7, 8]"
            ]
          },
          "execution_count": 72,
          "metadata": {},
          "output_type": "execute_result"
        }
      ],
      "source": [
        "# O(n^2) brute force\n",
        "def LongestSubarrayBySum(a, s):\n",
        "    longest_subarray = [-1]\n",
        "    for ind, val in enumerate(a): \n",
        "        subarray = []\n",
        "        k=0\n",
        "        while k <= s and ind<=len(a)-1:\n",
        "            k+=a[ind]\n",
        "            if k<=12: subarray.append(ind)\n",
        "            ind+=1\n",
        "            if k == 12 and len(subarray) >= len(longest_subarray): longest_subarray = subarray\n",
        "    return longest_subarray\n",
        "\n",
        "a = [2, 4, 5, 6, 6, 0, 0, 0, 0, 7, 9, 12, 1, 3, 8, 0, 10]\n",
        "s = 12\n",
        "LongestSubarrayBySum(a, s)"
      ]
    },
    {
      "cell_type": "code",
      "execution_count": null,
      "metadata": {},
      "outputs": [
        {
          "data": {
            "text/plain": [
              "[3, 4, 5, 6, 7, 8]"
            ]
          },
          "execution_count": 97,
          "metadata": {},
          "output_type": "execute_result"
        }
      ],
      "source": [
        "# O(n), sliding window, scans the array only once\n",
        "def LongestSubarrayBySum(a, s):\n",
        "    longest_array = [-1]\n",
        "    left = 0\n",
        "    right = 0\n",
        "    while right<=len(a)-1:\n",
        "        subarray=a[left:right]\n",
        "        if sum(subarray)<s:\n",
        "            right+=1\n",
        "        elif sum(subarray)==s and len(subarray)>=len(longest_array):\n",
        "            longest_array=list(range(left, right))\n",
        "            right+=1\n",
        "        else: \n",
        "            left+=1\n",
        "    return longest_array\n",
        "\n",
        "\n",
        "a = [2, 4, 5, 6, 6, 0, 0, 0, 0, 7, 9, 12, 1, 3, 8, 0, 10]\n",
        "s = 12\n",
        "LongestSubarrayBySum(a, s)"
      ]
    },
    {
      "cell_type": "markdown",
      "metadata": {
        "id": "EI9xI_ws4fDV"
      },
      "source": [
        "### Palindrome"
      ]
    },
    {
      "cell_type": "code",
      "execution_count": null,
      "metadata": {
        "colab": {
          "base_uri": "https://localhost:8080/"
        },
        "id": "Ab7FLG7o4kLu",
        "outputId": "9192a377-aa64-4a11-fd88-5ad8426fe9ae"
      },
      "outputs": [
        {
          "name": "stdout",
          "output_type": "stream",
          "text": [
            "True\n"
          ]
        }
      ],
      "source": [
        "num = 1234321\n",
        "if str(num) == str(num)[::-1]:\n",
        "  print(True)\n",
        "else:\n",
        "  print(False)"
      ]
    },
    {
      "cell_type": "code",
      "execution_count": null,
      "metadata": {},
      "outputs": [
        {
          "data": {
            "text/plain": [
              "False"
            ]
          },
          "execution_count": 208,
          "metadata": {},
          "output_type": "execute_result"
        }
      ],
      "source": [
        "def Palindrome(l):\n",
        "    left = 0\n",
        "    right = len(l)-1\n",
        "    while left<right:\n",
        "        if l[left]!=l[right]:\n",
        "            return False\n",
        "        left+=1\n",
        "        right-=1\n",
        "    return True\n",
        "\n",
        "l=[1, 2, 3, 3, 5, 4, 3, 3, 2, 1]\n",
        "Palindrome(l)"
      ]
    },
    {
      "cell_type": "markdown",
      "metadata": {},
      "source": [
        "### Palindrome Linked List\n",
        "[1, 2] -> [1, 2, 2, 1]"
      ]
    },
    {
      "cell_type": "code",
      "execution_count": null,
      "metadata": {},
      "outputs": [
        {
          "data": {
            "text/plain": [
              "[1, 2, 3, 3, 3, 3, 2, 1]"
            ]
          },
          "execution_count": 204,
          "metadata": {},
          "output_type": "execute_result"
        }
      ],
      "source": [
        "def PalindromeLinkedList(l):\n",
        "    return l + l[::-1]\n",
        "\n",
        "l=[1, 2, 3, 3]\n",
        "PalindromeLinkedList(l)"
      ]
    },
    {
      "cell_type": "markdown",
      "metadata": {
        "id": "AH10yY9d-X0A"
      },
      "source": [
        "### Roman to Text"
      ]
    },
    {
      "cell_type": "code",
      "execution_count": null,
      "metadata": {
        "colab": {
          "base_uri": "https://localhost:8080/"
        },
        "id": "t_wps0XJkQyx",
        "outputId": "db4d5c47-df12-4707-965d-c8c6a5889bd7"
      },
      "outputs": [
        {
          "name": "stdout",
          "output_type": "stream",
          "text": [
            "44\n"
          ]
        }
      ],
      "source": [
        "count = 0\n",
        "translator = {\n",
        "\"I\": 1,\n",
        "\"V\": 5,\n",
        "\"X\": 10,\n",
        "\"L\": 50,\n",
        "\"C\": 100,\n",
        "\"D\": 500,\n",
        "\"M\": 1000} \n",
        "s = \"XLIV\"\n",
        "for char in range(len(s)-1):\n",
        "  if translator.get(s[char]) >= translator.get(s[char+1]):\n",
        "    count += translator.get(s[char])\n",
        "  else: \n",
        "    count -= translator.get(s[char])\n",
        "count += translator.get(s[-1])\n",
        "print(count)\n",
        "\n",
        "\n",
        "'''\n",
        "for char in range(len(\"hello\")):\n",
        "dict.get(\"hello\")\n",
        "'''\n",
        "    "
      ]
    },
    {
      "cell_type": "markdown",
      "metadata": {
        "id": "y_4CZtR3rYwT"
      },
      "source": [
        "### Longest Common Prefix"
      ]
    },
    {
      "cell_type": "code",
      "execution_count": null,
      "metadata": {
        "colab": {
          "base_uri": "https://localhost:8080/",
          "height": 35
        },
        "id": "oeyYN66w-i5X",
        "outputId": "f98b9f25-b2f9-4c71-b73e-4d7ea84bdd84"
      },
      "outputs": [
        {
          "data": {
            "text/plain": [
              "'p'"
            ]
          },
          "execution_count": 265,
          "metadata": {},
          "output_type": "execute_result"
        }
      ],
      "source": [
        "def longestCommonPrefix(l):\n",
        "  if l:\n",
        "    l.sort()\n",
        "    shortest = l[0]\n",
        "    l.remove(shortest)\n",
        "    output=\"\"\n",
        "    for i in range(len(shortest)):\n",
        "      for e in l:\n",
        "        if e[i]!=shortest[i]:\n",
        "          return output\n",
        "      output+=shortest[i]\n",
        "    return output\n",
        "  else: return \"\"\n",
        "l = [\"pe\", \"p\", \"p\"]\n",
        "longestCommonPrefix(l)"
      ]
    },
    {
      "cell_type": "markdown",
      "metadata": {
        "id": "TzqJE-mJuqqD"
      },
      "source": [
        "### Valid Parenthesis\n"
      ]
    },
    {
      "cell_type": "code",
      "execution_count": null,
      "metadata": {
        "colab": {
          "base_uri": "https://localhost:8080/"
        },
        "id": "bPti8tS1uv3x",
        "outputId": "331358b8-23c3-4c61-b078-2faeef810992"
      },
      "outputs": [
        {
          "data": {
            "text/plain": [
              "False"
            ]
          },
          "execution_count": 46,
          "metadata": {},
          "output_type": "execute_result"
        }
      ],
      "source": [
        "def isValid(s):\n",
        "  if not s:\n",
        "    return False\n",
        "  if len(s)%2 != 0:\n",
        "    return False\n",
        "  d = {\n",
        "      \"(\":\")\",\n",
        "      \"[\":\"]\",\n",
        "      \"{\":\"}\"\n",
        "  }\n",
        "  count=0\n",
        "  while count<len(s):\n",
        "    if s[count+1] != d[s[count]]:\n",
        "      return False\n",
        "    count += 2\n",
        "  return True\n",
        "isValid(\"()[)\")\n"
      ]
    },
    {
      "cell_type": "code",
      "execution_count": null,
      "metadata": {
        "colab": {
          "base_uri": "https://localhost:8080/"
        },
        "id": "8jppgHy0yTtj",
        "outputId": "9d637f0b-6fbd-44e8-b8a6-972306e05af6"
      },
      "outputs": [
        {
          "data": {
            "text/plain": [
              "True"
            ]
          },
          "execution_count": 105,
          "metadata": {},
          "output_type": "execute_result"
        }
      ],
      "source": [
        "def isValid(s):\n",
        "    stack = []\n",
        "    Parentheses = { \")\":\"(\", \"}\":\"{\", \"]\":\"[\"}\n",
        "    \n",
        "    for c in s:\n",
        "        if c in Parentheses:\n",
        "            if stack and stack[-1]==Parentheses[c]:\n",
        "                stack.pop()\n",
        "            else:\n",
        "                return False\n",
        "        else:\n",
        "            stack.append(c)\n",
        "    return True if not stack else False\n",
        "isValid(\"((([[[]]])))\")\n",
        "\n"
      ]
    },
    {
      "cell_type": "markdown",
      "metadata": {
        "id": "fJEu2QYuFaUH"
      },
      "source": [
        "### Merge Two Sorted Lists"
      ]
    },
    {
      "cell_type": "code",
      "execution_count": null,
      "metadata": {
        "colab": {
          "base_uri": "https://localhost:8080/"
        },
        "id": "oNJrhaJ_Fgwp",
        "outputId": "3af1769b-1449-4014-b36a-1388f475efab"
      },
      "outputs": [
        {
          "data": {
            "text/plain": [
              "[1, 1, 2, 3, 4, 4]"
            ]
          },
          "execution_count": 119,
          "metadata": {},
          "output_type": "execute_result"
        }
      ],
      "source": [
        "list1 = [1,2,4]\n",
        "list2 = [1,3,4]\n",
        "\n",
        "def mergeTwoLists(list1, list2):\n",
        "  output = list1 + list2 # or [*list1, *list2]\n",
        "  output.sort()\n",
        "  return output\n",
        "\n",
        "mergeTwoLists(list1, list2)\n"
      ]
    },
    {
      "cell_type": "code",
      "execution_count": null,
      "metadata": {
        "colab": {
          "base_uri": "https://localhost:8080/"
        },
        "id": "RO3KwTyhHMAO",
        "outputId": "01f5723b-aa99-474e-c577-2dd0954016b3"
      },
      "outputs": [
        {
          "data": {
            "text/plain": [
              "[1, 1, 2, 3, 4, 4]"
            ]
          },
          "execution_count": 123,
          "metadata": {},
          "output_type": "execute_result"
        }
      ],
      "source": [
        "list1 = [1,2,4]\n",
        "list2 = [1,3,4]\n",
        "\n",
        "def mergeTwoLists(list1, list2):\n",
        "  output = []\n",
        "  while list1 and list2:\n",
        "    if list1[0] < list2[0]:\n",
        "      output.append(list1[0])\n",
        "      list1.pop(0)\n",
        "    else: \n",
        "      output.append(list2[0])\n",
        "      list2.pop(0)\n",
        "  if list1:\n",
        "    output.extend(list1)\n",
        "  else:\n",
        "    output.extend(list2)\n",
        "  return output\n",
        "mergeTwoLists(list1, list2)"
      ]
    },
    {
      "cell_type": "markdown",
      "metadata": {},
      "source": [
        "### Reverse Linked List\n",
        "Reverse a singly linked list"
      ]
    },
    {
      "cell_type": "code",
      "execution_count": null,
      "metadata": {},
      "outputs": [
        {
          "data": {
            "text/plain": [
              "[5, 4, 3, 2, 1]"
            ]
          },
          "execution_count": 164,
          "metadata": {},
          "output_type": "execute_result"
        }
      ],
      "source": [
        "def ReverseLinkedList(l):\n",
        "    return(l[::-1])\n",
        "\n",
        "l=[1, 2, 3, 4, 5]\n",
        "ReverseLinkedList(l)\n"
      ]
    },
    {
      "cell_type": "code",
      "execution_count": null,
      "metadata": {},
      "outputs": [
        {
          "data": {
            "text/plain": [
              "[5, 4, 3, 2, 1]"
            ]
          },
          "execution_count": 178,
          "metadata": {},
          "output_type": "execute_result"
        }
      ],
      "source": [
        "def ReverseLinkedList(l):\n",
        "    r_list = []\n",
        "    while l:\n",
        "        r_list.append(l[-1])\n",
        "        del l[-1]\n",
        "    return r_list\n",
        "\n",
        "l=[1, 2, 3, 4, 5]\n",
        "ReverseLinkedList(l)\n"
      ]
    },
    {
      "cell_type": "markdown",
      "metadata": {},
      "source": [
        "### Contains Duplicate"
      ]
    },
    {
      "cell_type": "code",
      "execution_count": null,
      "metadata": {},
      "outputs": [],
      "source": [
        "# Given an integer array nums, return true if any value appears at least twice in the array,\n",
        "# and return false if every element is distinct."
      ]
    },
    {
      "cell_type": "code",
      "execution_count": null,
      "metadata": {},
      "outputs": [
        {
          "data": {
            "text/plain": [
              "True"
            ]
          },
          "execution_count": 150,
          "metadata": {},
          "output_type": "execute_result"
        }
      ],
      "source": [
        "# O(n)\n",
        "def containsDuplicate(nums):\n",
        "    seen = set()\n",
        "    for n in nums: \n",
        "        if n in seen:\n",
        "            return True\n",
        "        else:\n",
        "            seen.add(n)\n",
        "    return False\n",
        "\n",
        "nums = [2,14,18,5,22,3]\n",
        "containsDuplicate(nums)"
      ]
    },
    {
      "cell_type": "code",
      "execution_count": null,
      "metadata": {},
      "outputs": [
        {
          "data": {
            "text/plain": [
              "True"
            ]
          },
          "execution_count": 156,
          "metadata": {},
          "output_type": "execute_result"
        }
      ],
      "source": [
        "# O(nlogn)\n",
        "def containsDuplicate(nums):\n",
        "    nums.sort()\n",
        "    for i,v in enumerate(nums[:-1]):\n",
        "        if num == nums[i+1]:\n",
        "            return True\n",
        "    return False\n",
        "    \n",
        "nums = [2,14,18,22,5,22,3]\n",
        "containsDuplicate(nums)"
      ]
    },
    {
      "cell_type": "markdown",
      "metadata": {},
      "source": [
        "### First Duplicate\n",
        "Return the first number that is a duplicate of a previous seen number"
      ]
    },
    {
      "cell_type": "code",
      "execution_count": null,
      "metadata": {},
      "outputs": [
        {
          "data": {
            "text/plain": [
              "2"
            ]
          },
          "execution_count": 105,
          "metadata": {},
          "output_type": "execute_result"
        }
      ],
      "source": [
        "# O(n) can look for value in hash set in constant time\n",
        "def FirstDuplicate(a):\n",
        "    seen = set()\n",
        "    for i in a:\n",
        "        if i in seen:\n",
        "            return i\n",
        "        else: \n",
        "            seen.add(i)\n",
        "\n",
        "a = [1, 2, 3, 2, 1, 4, 4]\n",
        "FirstDuplicate(a)"
      ]
    },
    {
      "cell_type": "markdown",
      "metadata": {},
      "source": [
        "1. Write a Python Program to check if a number is prime."
      ]
    },
    {
      "cell_type": "code",
      "execution_count": null,
      "metadata": {},
      "outputs": [
        {
          "name": "stdout",
          "output_type": "stream",
          "text": [
            "57885161 is a prime number.\n"
          ]
        }
      ],
      "source": [
        "# time complexity = O(n)\n",
        "num = 57885161\n",
        "flag = False\n",
        "if num > 1:\n",
        "    for n in range(2, num):\n",
        "        if num % n == 0:\n",
        "            flag = True\n",
        "            break\n",
        "if flag:\n",
        "    print(num, \"is not a prime number.\")\n",
        "else:\n",
        "    print(num, \"is a prime number.\")"
      ]
    },
    {
      "cell_type": "markdown",
      "metadata": {},
      "source": [
        "2. Write a Python Program to print Prime Numbers between 2 numbers."
      ]
    },
    {
      "cell_type": "code",
      "execution_count": null,
      "metadata": {},
      "outputs": [
        {
          "name": "stdout",
          "output_type": "stream",
          "text": [
            "[101, 103, 107, 109, 113, 127, 131, 137, 139, 149, 151, 157, 163, 167, 173, 179, 181, 191, 193, 197, 199]\n"
          ]
        }
      ],
      "source": [
        "# time complexity = O(n^2)\n",
        "primes = []\n",
        "for i in range(100, 200):\n",
        "    flag=True\n",
        "    for j in range(2, i):\n",
        "        if i%j==0:\n",
        "            flag=False\n",
        "    if flag:\n",
        "        primes.append(i)\n",
        "print(primes)"
      ]
    },
    {
      "cell_type": "markdown",
      "metadata": {},
      "source": [
        "3. Write a Sort function to sort the elements in a list"
      ]
    },
    {
      "cell_type": "code",
      "execution_count": null,
      "metadata": {},
      "outputs": [
        {
          "data": {
            "text/plain": [
              "[-5, 0, 1, 4, 4, 7, 23, 54, 98, 840]"
            ]
          },
          "execution_count": 94,
          "metadata": {},
          "output_type": "execute_result"
        }
      ],
      "source": [
        "nums = [23, 54, 7, 1, 98, 4, -5, 840, 4, 0]\n",
        "nums.sort()\n",
        "nums"
      ]
    },
    {
      "cell_type": "markdown",
      "metadata": {},
      "source": [
        "4. Write a Sort function to sort the elements in a list without using sort(), min(), and max()"
      ]
    },
    {
      "cell_type": "code",
      "execution_count": null,
      "metadata": {},
      "outputs": [
        {
          "name": "stdout",
          "output_type": "stream",
          "text": [
            "[-5, 0, 1, 4, 4, 7, 23, 54, 98, 840]\n"
          ]
        }
      ],
      "source": [
        "# O(n^2)\n",
        "nums = [23, 54, 7, 1, 98, 4, -5, 840, 4, 0]\n",
        "ordered_nums = []\n",
        "\n",
        "while nums:\n",
        "    min_num = nums[0]\n",
        "    for n in nums:\n",
        "        if n < min_num:\n",
        "            min_num = n\n",
        "    ordered_nums.append(min_num)\n",
        "    nums.remove(min_num)\n",
        "print(ordered_nums)\n"
      ]
    },
    {
      "cell_type": "markdown",
      "metadata": {},
      "source": [
        "5. Write a python program to write the Fibonacci Series"
      ]
    },
    {
      "cell_type": "code",
      "execution_count": null,
      "metadata": {},
      "outputs": [
        {
          "name": "stdout",
          "output_type": "stream",
          "text": [
            "[0, 1, 1, 2, 3, 5, 8, 13, 21, 34, 55, 89, 144, 233]\n"
          ]
        }
      ],
      "source": [
        "# O=(n)\n",
        "fib = [0, 1]\n",
        "i=12\n",
        "\n",
        "while i>0:\n",
        "    fib.append(fib[-1]+fib[-2])\n",
        "    i-=1\n",
        "\n",
        "print(fib)\n"
      ]
    },
    {
      "cell_type": "code",
      "execution_count": null,
      "metadata": {},
      "outputs": [
        {
          "name": "stdout",
          "output_type": "stream",
          "text": [
            "0\n",
            "1\n",
            "1\n",
            "2\n",
            "3\n",
            "5\n",
            "8\n",
            "13\n",
            "21\n",
            "34\n",
            "55\n",
            "89\n"
          ]
        }
      ],
      "source": [
        "def fib(l):\n",
        "    if l==0: return 0\n",
        "    elif l==1: return 1\n",
        "    else: return fib(l-1)+fib(l-2)\n",
        "\n",
        "for i in range(0, 12):\n",
        "    print(fib(i))"
      ]
    },
    {
      "cell_type": "markdown",
      "metadata": {},
      "source": [
        "6. Write a list in reverse order:"
      ]
    },
    {
      "cell_type": "code",
      "execution_count": null,
      "metadata": {},
      "outputs": [
        {
          "name": "stdout",
          "output_type": "stream",
          "text": [
            "[0, 4, 840, -5, 4, 98, 1, 7, 54, 23]\n"
          ]
        }
      ],
      "source": [
        "# O(n)\n",
        "nums = [23, 54, 7, 1, 98, 4, -5, 840, 4, 0]\n",
        "rev_nums = []\n",
        "\n",
        "while nums:\n",
        "    rev_nums.append(nums[-1])\n",
        "    nums.pop()\n",
        "print(rev_nums)"
      ]
    },
    {
      "cell_type": "code",
      "execution_count": null,
      "metadata": {},
      "outputs": [
        {
          "data": {
            "text/plain": [
              "[0, 4, 840, -5, 4, 98, 1, 7, 54, 23]"
            ]
          },
          "execution_count": 91,
          "metadata": {},
          "output_type": "execute_result"
        }
      ],
      "source": [
        "nums = [23, 54, 7, 1, 98, 4, -5, 840, 4, 0]\n",
        "nums[::-1]"
      ]
    },
    {
      "cell_type": "markdown",
      "metadata": {},
      "source": [
        "7. Write a Python program to check whether a string is a Palindrome or not "
      ]
    },
    {
      "cell_type": "code",
      "execution_count": null,
      "metadata": {},
      "outputs": [
        {
          "data": {
            "text/plain": [
              "True"
            ]
          },
          "execution_count": 81,
          "metadata": {},
          "output_type": "execute_result"
        }
      ],
      "source": [
        "palindrome = \"penisinep\"\n",
        "\n",
        "def isPalindrome(s):\n",
        "    if s == s[::-1]:\n",
        "        return True\n",
        "\n",
        "isPalindrome(palindrome)\n"
      ]
    },
    {
      "cell_type": "code",
      "execution_count": null,
      "metadata": {},
      "outputs": [
        {
          "name": "stdout",
          "output_type": "stream",
          "text": [
            "False\n"
          ]
        }
      ],
      "source": [
        "palindrome = \"Roger\"\n",
        "emrdnilap = \"\"\n",
        "\n",
        "for s in range(1, len(palindrome)+1):\n",
        "    emrdnilap+=palindrome[-s]\n",
        "\n",
        "if palindrome==emrdnilap: print(True)\n",
        "else: print(False)"
      ]
    },
    {
      "cell_type": "markdown",
      "metadata": {},
      "source": [
        "8. Write a Python program to print set of duplicates in a list"
      ]
    },
    {
      "cell_type": "code",
      "execution_count": null,
      "metadata": {},
      "outputs": [
        {
          "name": "stdout",
          "output_type": "stream",
          "text": [
            "4\n",
            "{0, 1, 98, 4, 7, 840, 54, 23, -5}\n"
          ]
        }
      ],
      "source": [
        "nums = [23, 54, 7, 1, 98, 4, -5, 840, 4, 0]\n",
        "seen = set()\n",
        "\n",
        "for n in nums:\n",
        "    if n in seen:\n",
        "        print(n)\n",
        "    else: \n",
        "        seen.add(n)\n",
        "print(seen)"
      ]
    },
    {
      "cell_type": "markdown",
      "metadata": {},
      "source": [
        "9. Write a Python program to print number of words in a given sentence"
      ]
    },
    {
      "cell_type": "code",
      "execution_count": null,
      "metadata": {},
      "outputs": [
        {
          "data": {
            "text/plain": [
              "6"
            ]
          },
          "execution_count": 98,
          "metadata": {},
          "output_type": "execute_result"
        }
      ],
      "source": [
        "sentence = \"La mare que em va parir.\"\n",
        "\n",
        "sentence.count(\" \") + 1"
      ]
    },
    {
      "cell_type": "code",
      "execution_count": null,
      "metadata": {},
      "outputs": [
        {
          "data": {
            "text/plain": [
              "6"
            ]
          },
          "execution_count": 102,
          "metadata": {},
          "output_type": "execute_result"
        }
      ],
      "source": [
        "sentence = \"La mare que em va parir.\"\n",
        "\n",
        "len(sentence.split())"
      ]
    },
    {
      "cell_type": "markdown",
      "metadata": {},
      "source": [
        "10. Given an array arr of n elements, write a Python function to search a given element x in arr."
      ]
    },
    {
      "cell_type": "code",
      "execution_count": null,
      "metadata": {},
      "outputs": [
        {
          "data": {
            "text/plain": [
              "4"
            ]
          },
          "execution_count": 104,
          "metadata": {},
          "output_type": "execute_result"
        }
      ],
      "source": [
        "def search_element(arr, x):\n",
        "    if x in arr: return x\n",
        "    else: return None\n",
        "\n",
        "nums = [23, 54, 7, 1, 98, 4, -5, 840, 4, 0]\n",
        "search_element(nums, 4)"
      ]
    },
    {
      "cell_type": "markdown",
      "metadata": {},
      "source": [
        "11. Write a Python program to implement a Linear Search"
      ]
    },
    {
      "cell_type": "code",
      "execution_count": null,
      "metadata": {},
      "outputs": [
        {
          "data": {
            "text/plain": [
              "68"
            ]
          },
          "execution_count": 52,
          "metadata": {},
          "output_type": "execute_result"
        }
      ],
      "source": [
        "# O(n)\n",
        "def linear_search(arr, x):\n",
        "    count=0\n",
        "    for n in arr:\n",
        "        count+=1\n",
        "        if n == x:\n",
        "            return count\n",
        "            break\n",
        "\n",
        "arr = range(0, 100, 1)\n",
        "linear_search(arr, 67)\n"
      ]
    },
    {
      "cell_type": "code",
      "execution_count": null,
      "metadata": {},
      "outputs": [
        {
          "data": {
            "text/plain": [
              "50.4092"
            ]
          },
          "execution_count": 123,
          "metadata": {},
          "output_type": "execute_result"
        }
      ],
      "source": [
        "import random\n",
        "durations = []\n",
        "for s in range(10000):\n",
        "    durations.append(linear_search(range(0, 100, 1), random.randint(0, 99)))\n",
        "sum(durations)/len(durations)"
      ]
    },
    {
      "cell_type": "markdown",
      "metadata": {},
      "source": [
        "12. Write a Python program to implement a Binary Search"
      ]
    },
    {
      "cell_type": "code",
      "execution_count": null,
      "metadata": {},
      "outputs": [
        {
          "data": {
            "text/plain": [
              "4"
            ]
          },
          "execution_count": 356,
          "metadata": {},
          "output_type": "execute_result"
        }
      ],
      "source": [
        "# O(log(n))\n",
        "def binary_search(arr, x):\n",
        "    if len(arr)==0 or x<arr[0] or x>arr[-1]: return False\n",
        "    count=0\n",
        "    left, right = 0, len(arr)-1\n",
        "    while left<=right:\n",
        "        count+=1\n",
        "        mid = (left+right)//2\n",
        "        if arr[mid] == x: \n",
        "            return count\n",
        "        elif arr[mid] > x:\n",
        "            right = mid-1\n",
        "        else: left = mid+1\n",
        "arr = range(0, 100, 1)\n",
        "binary_search(arr, 67)"
      ]
    },
    {
      "cell_type": "code",
      "execution_count": null,
      "metadata": {},
      "outputs": [
        {
          "data": {
            "text/plain": [
              "5.7829"
            ]
          },
          "execution_count": 125,
          "metadata": {},
          "output_type": "execute_result"
        }
      ],
      "source": [
        "import random\n",
        "durations = []\n",
        "for s in range(10000):\n",
        "    durations.append(binary_search(range(0, 100, 1), random.randint(0, 99)))\n",
        "sum(durations)/len(durations)"
      ]
    },
    {
      "cell_type": "markdown",
      "metadata": {},
      "source": [
        "13. Write a Python program to join two strings (Hint: using join())"
      ]
    },
    {
      "cell_type": "code",
      "execution_count": null,
      "metadata": {},
      "outputs": [
        {
          "name": "stdout",
          "output_type": "stream",
          "text": [
            "La mare que em va parir.\n"
          ]
        }
      ],
      "source": [
        "str1 = \"La mare\"\n",
        "str2 = \" que em va parir.\"\n",
        "print(str1+str2)"
      ]
    },
    {
      "cell_type": "markdown",
      "metadata": {},
      "source": [
        "14. Write a Python program to extract digits from given string"
      ]
    },
    {
      "cell_type": "code",
      "execution_count": null,
      "metadata": {},
      "outputs": [
        {
          "data": {
            "text/plain": [
              "'341412123985390'"
            ]
          },
          "execution_count": 132,
          "metadata": {},
          "output_type": "execute_result"
        }
      ],
      "source": [
        "string = \"j3j41kj41jk2o123985jk3bedjdoio90s\"\n",
        "digits = \"\"\n",
        "for c in string:\n",
        "    if c.isdigit():\n",
        "        digits+=c\n",
        "digits"
      ]
    },
    {
      "cell_type": "markdown",
      "metadata": {},
      "source": [
        "## freecodecamp.org\n",
        "\n",
        "10 common interview questions"
      ]
    },
    {
      "cell_type": "markdown",
      "metadata": {},
      "source": [
        "### Valid Anagram\n",
        "\n",
        "Given 2 strings s1 and s2, check if the 2 strings are anagrams"
      ]
    },
    {
      "cell_type": "code",
      "execution_count": null,
      "metadata": {},
      "outputs": [
        {
          "data": {
            "text/plain": [
              "True"
            ]
          },
          "execution_count": 277,
          "metadata": {},
          "output_type": "execute_result"
        }
      ],
      "source": [
        "# O(nlogn), sorting takes (nlogn) time\n",
        "def ValidAnagram(s1, s2):\n",
        "    if sorted(s1) == sorted(s2):\n",
        "        return True\n",
        "    else:\n",
        "        return False\n",
        "\n",
        "\n",
        "s1 = \"fried\"\n",
        "s2 = \"fired\"\n",
        "ValidAnagram(s1, s2)"
      ]
    },
    {
      "cell_type": "code",
      "execution_count": null,
      "metadata": {},
      "outputs": [
        {
          "name": "stdout",
          "output_type": "stream",
          "text": [
            "{'f': 1, 'r': 1, 'i': 1, 'e': 1, 'd': 1} {'f': 1, 'i': 1, 'r': 1, 'e': 1, 'd': 1}\n"
          ]
        },
        {
          "data": {
            "text/plain": [
              "True"
            ]
          },
          "execution_count": 287,
          "metadata": {},
          "output_type": "execute_result"
        }
      ],
      "source": [
        "# O(n), stores each string into a hash table (n), checks if hash tables are equal in contant time (1)\n",
        "def ValidAnagram(s1, s2):\n",
        "    freq1 = {}\n",
        "    freq2 = {}\n",
        "\n",
        "    for ch in s1:\n",
        "        if ch in freq1:\n",
        "            freq1[ch]+=1\n",
        "        else:\n",
        "            freq1[ch]=1\n",
        "\n",
        "    for ch in s2:\n",
        "        if ch in freq2:\n",
        "            freq2[ch]+=1\n",
        "        else:\n",
        "            freq2[ch]=1\n",
        "    \n",
        "    print(freq1, freq2)\n",
        "\n",
        "    if freq1==freq2: return True\n",
        "    else: return False\n",
        "\n",
        "\n",
        "s1 = \"fried\"\n",
        "s2 = \"fired\"\n",
        "ValidAnagram(s1, s2)"
      ]
    },
    {
      "cell_type": "markdown",
      "metadata": {},
      "source": [
        "### First and last index sorted Array\n",
        "Given an array a and a target t, find the index of the first and last position of t in a.\n",
        "- If t can't be found in a, return [-1, -1]"
      ]
    },
    {
      "cell_type": "code",
      "execution_count": null,
      "metadata": {},
      "outputs": [
        {
          "data": {
            "text/plain": [
              "[7, 8]"
            ]
          },
          "execution_count": 346,
          "metadata": {},
          "output_type": "execute_result"
        }
      ],
      "source": [
        "# O(n), linear search\n",
        "def FirstLastIndex(a, t):\n",
        "    if len(a)==0 or a[0]>t or a[-1]<t: return [-1,-1]\n",
        "    indices = []\n",
        "    for i, v in enumerate(a): \n",
        "        if t==v:\n",
        "            indices.append(i)\n",
        "        if v>t:\n",
        "            break\n",
        "    if indices : return [indices[0], indices[-1]]\n",
        "    else: return [-1, -1]\n",
        "\n",
        "\n",
        "\n",
        "a = [0,1,1,2,3,5,8,13,13,21,34,55,89,144,233]\n",
        "t = 13\n",
        "\n",
        "FirstLastIndex(a, t)"
      ]
    },
    {
      "cell_type": "code",
      "execution_count": null,
      "metadata": {},
      "outputs": [
        {
          "data": {
            "text/plain": [
              "[7, 7]"
            ]
          },
          "execution_count": 343,
          "metadata": {},
          "output_type": "execute_result"
        }
      ],
      "source": [
        "# O(logn), binary search\n",
        "def FirstLastIndex(a, t):\n",
        "    if len(a)==0 or a[0]>t or a[-1]<t: return [-1,-1]\n",
        "    start=-1\n",
        "    left, right = 0, len(a)-1\n",
        "    while left<=right:\n",
        "        mid = (left+right)//2\n",
        "        if a[mid]==t and a[mid-1]<t: \n",
        "            start=mid \n",
        "            break\n",
        "        elif a[mid]<t: left = mid+1\n",
        "        else: right = mid-1\n",
        "    if start==-1: return [-1, -1]\n",
        "    else:\n",
        "        end=start\n",
        "        while a[end+1]==t and end<len(a)-2:\n",
        "            end+=1\n",
        "    return [start, end]\n",
        "\n",
        "a = [0,1,1,2,3,5,8,13,13]\n",
        "t = 13\n",
        "\n",
        "FirstLastIndex(a, t)"
      ]
    },
    {
      "cell_type": "markdown",
      "metadata": {},
      "source": [
        "### Kth Largest Element\n",
        "Given an array a and an integer k, find the kth largest element of a."
      ]
    },
    {
      "cell_type": "code",
      "execution_count": null,
      "metadata": {},
      "outputs": [
        {
          "data": {
            "text/plain": [
              "8"
            ]
          },
          "execution_count": 351,
          "metadata": {},
          "output_type": "execute_result"
        }
      ],
      "source": [
        "# O(nlogn)\n",
        "def KthLargest(a, k):\n",
        "    a.sort(reverse=True)\n",
        "    return a[k]\n",
        "\n",
        "a = [0,9,1,1,2,3,5,8,13,13]\n",
        "k = 3\n",
        "KthLargest(a, k)"
      ]
    },
    {
      "cell_type": "markdown",
      "metadata": {},
      "source": [
        "### Symmetric tree\n",
        "Given a binary tree root, check if it is symmetric around it's center"
      ]
    },
    {
      "cell_type": "markdown",
      "metadata": {},
      "source": [
        "### MaxProfit"
      ]
    },
    {
      "cell_type": "code",
      "execution_count": 445,
      "metadata": {},
      "outputs": [
        {
          "data": {
            "text/plain": [
              "56"
            ]
          },
          "execution_count": 445,
          "metadata": {},
          "output_type": "execute_result"
        }
      ],
      "source": [
        "def MaxProfit(l):\n",
        "    max_profit = -1\n",
        "    if stocks:\n",
        "        local_max=l[0]\n",
        "        local_min=l[0]\n",
        "        for i in l:\n",
        "            if i > local_max:\n",
        "                local_max=i\n",
        "                diff = local_max-local_min\n",
        "                if diff > max_profit and diff>0: max_profit = diff\n",
        "            elif i < local_min:\n",
        "                local_min=i\n",
        "                local_max = local_min\n",
        "    return max_profit        \n",
        "      \n",
        "stocks = [1, 2, 56, 0, 56]\n",
        "MaxProfit(stocks)\n"
      ]
    },
    {
      "cell_type": "markdown",
      "metadata": {},
      "source": [
        "### Remove Duplicates\n",
        "\n",
        "Given an integer array nums sorted in non-decreasing order, remove the duplicates in-place such that each unique element appears only once. The relative order of the elements should be kept the same.\n",
        "Return k after placing the final result in the first k slots of nums.\n",
        "DO NOT allocate extra memory for another array, you must modify the input array."
      ]
    },
    {
      "cell_type": "code",
      "execution_count": 533,
      "metadata": {},
      "outputs": [
        {
          "data": {
            "text/plain": [
              "5"
            ]
          },
          "execution_count": 533,
          "metadata": {},
          "output_type": "execute_result"
        }
      ],
      "source": [
        "def removeDuplicates(nums):\n",
        "    last=\"\"\n",
        "    for v in nums[:]:\n",
        "        if v==last:\n",
        "            nums.remove(v)\n",
        "        else:\n",
        "            last=v\n",
        "    return len(nums)\n",
        "nums = [0,0,1,1,1,2,2,3,3,4]\n",
        "removeDuplicates(nums)"
      ]
    },
    {
      "cell_type": "markdown",
      "metadata": {},
      "source": [
        "### Remove Element\n",
        "\n",
        "Given an integer array nums and an integer val, remove all occurrences of val in nums in-place. The relative order of the elements may be changed. Return k after placing the final result in the first k slots of nums.\n",
        "\n",
        "Do not allocate extra space for another array. You must do this by modifying the input array in-place with O(1) extra memory."
      ]
    },
    {
      "cell_type": "code",
      "execution_count": 540,
      "metadata": {},
      "outputs": [
        {
          "data": {
            "text/plain": [
              "9"
            ]
          },
          "execution_count": 540,
          "metadata": {},
          "output_type": "execute_result"
        }
      ],
      "source": [
        "def removeElement(nums, val):\n",
        "    for v in nums[:]:\n",
        "        if v==val:\n",
        "            nums.remove(v)\n",
        "    return len(nums) \n",
        "\n",
        "nums = [0,0,1,1,1,2,2,3,3,4]\n",
        "val = 4\n",
        "removeElement(nums, val)"
      ]
    },
    {
      "cell_type": "markdown",
      "metadata": {},
      "source": [
        "### Implement strStr()\n",
        "\n",
        "Input: haystack = \"hello\", needle = \"ll\"\n",
        "Output: 2"
      ]
    },
    {
      "cell_type": "code",
      "execution_count": 545,
      "metadata": {},
      "outputs": [
        {
          "name": "stdout",
          "output_type": "stream",
          "text": [
            "2\n"
          ]
        }
      ],
      "source": [
        "def strStr(haystack, needle):\n",
        "    return haystack.find(needle)\n",
        "\n",
        "haystack=\"hello\"\n",
        "needle=\"ll\"\n",
        "strStr(haystack, needle)"
      ]
    }
  ],
  "metadata": {
    "colab": {
      "authorship_tag": "ABX9TyMVcAexFaabN1a2lC5IGLao",
      "name": "Leetcode.ipynb",
      "provenance": []
    },
    "interpreter": {
      "hash": "74609ea32c075f5c8e96a18961956eadb9a9347b199f0247ab8ad93a9d4aa1e3"
    },
    "kernelspec": {
      "display_name": "Python 3.8.8 ('base')",
      "language": "python",
      "name": "python3"
    },
    "language_info": {
      "codemirror_mode": {
        "name": "ipython",
        "version": 3
      },
      "file_extension": ".py",
      "mimetype": "text/x-python",
      "name": "python",
      "nbconvert_exporter": "python",
      "pygments_lexer": "ipython3",
      "version": "3.8.8"
    }
  },
  "nbformat": 4,
  "nbformat_minor": 0
}

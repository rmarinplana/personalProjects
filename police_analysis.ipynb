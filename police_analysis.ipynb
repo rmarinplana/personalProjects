{
 "cells": [
  {
   "cell_type": "markdown",
   "metadata": {},
   "source": [
    "### Preparing the data"
   ]
  },
  {
   "cell_type": "code",
   "execution_count": 68,
   "metadata": {},
   "outputs": [
    {
     "data": {
      "text/html": [
       "<div>\n",
       "<style scoped>\n",
       "    .dataframe tbody tr th:only-of-type {\n",
       "        vertical-align: middle;\n",
       "    }\n",
       "\n",
       "    .dataframe tbody tr th {\n",
       "        vertical-align: top;\n",
       "    }\n",
       "\n",
       "    .dataframe thead th {\n",
       "        text-align: right;\n",
       "    }\n",
       "</style>\n",
       "<table border=\"1\" class=\"dataframe\">\n",
       "  <thead>\n",
       "    <tr style=\"text-align: right;\">\n",
       "      <th></th>\n",
       "      <th>state</th>\n",
       "      <th>stop_date</th>\n",
       "      <th>stop_time</th>\n",
       "      <th>county_name</th>\n",
       "      <th>driver_gender</th>\n",
       "      <th>driver_race</th>\n",
       "      <th>violation_raw</th>\n",
       "      <th>violation</th>\n",
       "      <th>search_conducted</th>\n",
       "      <th>search_type</th>\n",
       "      <th>stop_outcome</th>\n",
       "      <th>is_arrested</th>\n",
       "      <th>stop_duration</th>\n",
       "      <th>drugs_related_stop</th>\n",
       "      <th>district</th>\n",
       "    </tr>\n",
       "  </thead>\n",
       "  <tbody>\n",
       "    <tr>\n",
       "      <th>0</th>\n",
       "      <td>RI</td>\n",
       "      <td>2005-01-04</td>\n",
       "      <td>12:55</td>\n",
       "      <td>NaN</td>\n",
       "      <td>M</td>\n",
       "      <td>White</td>\n",
       "      <td>Equipment/Inspection Violation</td>\n",
       "      <td>Equipment</td>\n",
       "      <td>False</td>\n",
       "      <td>NaN</td>\n",
       "      <td>Citation</td>\n",
       "      <td>False</td>\n",
       "      <td>0-15 Min</td>\n",
       "      <td>False</td>\n",
       "      <td>Zone X4</td>\n",
       "    </tr>\n",
       "    <tr>\n",
       "      <th>1</th>\n",
       "      <td>RI</td>\n",
       "      <td>2005-01-23</td>\n",
       "      <td>23:15</td>\n",
       "      <td>NaN</td>\n",
       "      <td>M</td>\n",
       "      <td>White</td>\n",
       "      <td>Speeding</td>\n",
       "      <td>Speeding</td>\n",
       "      <td>False</td>\n",
       "      <td>NaN</td>\n",
       "      <td>Citation</td>\n",
       "      <td>False</td>\n",
       "      <td>0-15 Min</td>\n",
       "      <td>False</td>\n",
       "      <td>Zone K3</td>\n",
       "    </tr>\n",
       "    <tr>\n",
       "      <th>2</th>\n",
       "      <td>RI</td>\n",
       "      <td>2005-02-17</td>\n",
       "      <td>04:15</td>\n",
       "      <td>NaN</td>\n",
       "      <td>M</td>\n",
       "      <td>White</td>\n",
       "      <td>Speeding</td>\n",
       "      <td>Speeding</td>\n",
       "      <td>False</td>\n",
       "      <td>NaN</td>\n",
       "      <td>Citation</td>\n",
       "      <td>False</td>\n",
       "      <td>0-15 Min</td>\n",
       "      <td>False</td>\n",
       "      <td>Zone X4</td>\n",
       "    </tr>\n",
       "    <tr>\n",
       "      <th>3</th>\n",
       "      <td>RI</td>\n",
       "      <td>2005-02-20</td>\n",
       "      <td>17:15</td>\n",
       "      <td>NaN</td>\n",
       "      <td>M</td>\n",
       "      <td>White</td>\n",
       "      <td>Call for Service</td>\n",
       "      <td>Other</td>\n",
       "      <td>False</td>\n",
       "      <td>NaN</td>\n",
       "      <td>Arrest Driver</td>\n",
       "      <td>True</td>\n",
       "      <td>16-30 Min</td>\n",
       "      <td>False</td>\n",
       "      <td>Zone X1</td>\n",
       "    </tr>\n",
       "    <tr>\n",
       "      <th>4</th>\n",
       "      <td>RI</td>\n",
       "      <td>2005-02-24</td>\n",
       "      <td>01:20</td>\n",
       "      <td>NaN</td>\n",
       "      <td>F</td>\n",
       "      <td>White</td>\n",
       "      <td>Speeding</td>\n",
       "      <td>Speeding</td>\n",
       "      <td>False</td>\n",
       "      <td>NaN</td>\n",
       "      <td>Citation</td>\n",
       "      <td>False</td>\n",
       "      <td>0-15 Min</td>\n",
       "      <td>False</td>\n",
       "      <td>Zone X3</td>\n",
       "    </tr>\n",
       "  </tbody>\n",
       "</table>\n",
       "</div>"
      ],
      "text/plain": [
       "  state   stop_date stop_time  county_name driver_gender driver_race  \\\n",
       "0    RI  2005-01-04     12:55          NaN             M       White   \n",
       "1    RI  2005-01-23     23:15          NaN             M       White   \n",
       "2    RI  2005-02-17     04:15          NaN             M       White   \n",
       "3    RI  2005-02-20     17:15          NaN             M       White   \n",
       "4    RI  2005-02-24     01:20          NaN             F       White   \n",
       "\n",
       "                    violation_raw  violation  search_conducted search_type  \\\n",
       "0  Equipment/Inspection Violation  Equipment             False         NaN   \n",
       "1                        Speeding   Speeding             False         NaN   \n",
       "2                        Speeding   Speeding             False         NaN   \n",
       "3                Call for Service      Other             False         NaN   \n",
       "4                        Speeding   Speeding             False         NaN   \n",
       "\n",
       "    stop_outcome is_arrested stop_duration  drugs_related_stop district  \n",
       "0       Citation       False      0-15 Min               False  Zone X4  \n",
       "1       Citation       False      0-15 Min               False  Zone K3  \n",
       "2       Citation       False      0-15 Min               False  Zone X4  \n",
       "3  Arrest Driver        True     16-30 Min               False  Zone X1  \n",
       "4       Citation       False      0-15 Min               False  Zone X3  "
      ]
     },
     "execution_count": 68,
     "metadata": {},
     "output_type": "execute_result"
    }
   ],
   "source": [
    "import pandas as pd\n",
    "df = pd.read_csv(\"datasets/police_data/police.csv\")\n",
    "df.head()"
   ]
  },
  {
   "cell_type": "code",
   "execution_count": 69,
   "metadata": {},
   "outputs": [
    {
     "name": "stdout",
     "output_type": "stream",
     "text": [
      "<class 'pandas.core.frame.DataFrame'>\n",
      "RangeIndex: 91741 entries, 0 to 91740\n",
      "Data columns (total 15 columns):\n",
      " #   Column              Non-Null Count  Dtype  \n",
      "---  ------              --------------  -----  \n",
      " 0   state               91741 non-null  object \n",
      " 1   stop_date           91741 non-null  object \n",
      " 2   stop_time           91741 non-null  object \n",
      " 3   county_name         0 non-null      float64\n",
      " 4   driver_gender       86536 non-null  object \n",
      " 5   driver_race         86539 non-null  object \n",
      " 6   violation_raw       86539 non-null  object \n",
      " 7   violation           86539 non-null  object \n",
      " 8   search_conducted    91741 non-null  bool   \n",
      " 9   search_type         3307 non-null   object \n",
      " 10  stop_outcome        86539 non-null  object \n",
      " 11  is_arrested         86539 non-null  object \n",
      " 12  stop_duration       86539 non-null  object \n",
      " 13  drugs_related_stop  91741 non-null  bool   \n",
      " 14  district            91741 non-null  object \n",
      "dtypes: bool(2), float64(1), object(12)\n",
      "memory usage: 9.3+ MB\n"
     ]
    }
   ],
   "source": [
    "df.info()\n",
    "# county_name all null, search_type mostly null (probably due to search_conducted=False), \n",
    "# many columns have missing values, # stop_date and stop_time should be converted to datetime, \n",
    "# violation and violation_raw seem to have similar values, # is_arrested should be a bool, \n",
    "# stop_duration would provide more info as a numerical variable"
   ]
  },
  {
   "cell_type": "code",
   "execution_count": 70,
   "metadata": {},
   "outputs": [
    {
     "data": {
      "text/plain": [
       "(91741, 15)"
      ]
     },
     "execution_count": 70,
     "metadata": {},
     "output_type": "execute_result"
    }
   ],
   "source": [
    "df.shape"
   ]
  },
  {
   "cell_type": "code",
   "execution_count": 71,
   "metadata": {},
   "outputs": [
    {
     "data": {
      "text/plain": [
       "state                     0\n",
       "stop_date                 0\n",
       "stop_time                 0\n",
       "county_name           91741\n",
       "driver_gender          5205\n",
       "driver_race            5202\n",
       "violation_raw          5202\n",
       "violation              5202\n",
       "search_conducted          0\n",
       "search_type           88434\n",
       "stop_outcome           5202\n",
       "is_arrested            5202\n",
       "stop_duration          5202\n",
       "drugs_related_stop        0\n",
       "district                  0\n",
       "dtype: int64"
      ]
     },
     "execution_count": 71,
     "metadata": {},
     "output_type": "execute_result"
    }
   ],
   "source": [
    "df.isnull().sum()"
   ]
  },
  {
   "cell_type": "code",
   "execution_count": 72,
   "metadata": {},
   "outputs": [
    {
     "data": {
      "text/plain": [
       "RI    91741\n",
       "Name: state, dtype: int64"
      ]
     },
     "execution_count": 72,
     "metadata": {},
     "output_type": "execute_result"
    }
   ],
   "source": [
    "df[\"state\"].value_counts()\n",
    "# all values RI, no predictive value"
   ]
  },
  {
   "cell_type": "code",
   "execution_count": 73,
   "metadata": {},
   "outputs": [
    {
     "data": {
      "text/plain": [
       "M    62762\n",
       "F    23774\n",
       "Name: driver_gender, dtype: int64"
      ]
     },
     "execution_count": 73,
     "metadata": {},
     "output_type": "execute_result"
    }
   ],
   "source": [
    "df[\"driver_gender\"].value_counts()"
   ]
  },
  {
   "cell_type": "code",
   "execution_count": 74,
   "metadata": {},
   "outputs": [
    {
     "data": {
      "text/plain": [
       "White       61872\n",
       "Black       12285\n",
       "Hispanic     9727\n",
       "Asian        2390\n",
       "Other         265\n",
       "Name: driver_race, dtype: int64"
      ]
     },
     "execution_count": 74,
     "metadata": {},
     "output_type": "execute_result"
    }
   ],
   "source": [
    "df[\"driver_race\"].value_counts()"
   ]
  },
  {
   "cell_type": "code",
   "execution_count": 75,
   "metadata": {},
   "outputs": [
    {
     "data": {
      "text/plain": [
       "violation            violation_raw                   \n",
       "Speeding             Speeding                            48424\n",
       "Moving violation     Other Traffic Violation             16224\n",
       "Equipment            Equipment/Inspection Violation      10922\n",
       "Registration/plates  Registration Violation               3703\n",
       "Seat belt            Seatbelt Violation                   2856\n",
       "Other                Special Detail/Directed Patrol       2467\n",
       "                     Call for Service                     1392\n",
       "                     Motorist Assist/Courtesy              205\n",
       "                     Violation of City/Town Ordinance      181\n",
       "                     APB                                    91\n",
       "                     Suspicious Person                      56\n",
       "                     Warrant                                18\n",
       "dtype: int64"
      ]
     },
     "execution_count": 75,
     "metadata": {},
     "output_type": "execute_result"
    }
   ],
   "source": [
    "df[[\"violation\", \"violation_raw\"]].value_counts()\n",
    "# violation_raw contains more detail"
   ]
  },
  {
   "cell_type": "code",
   "execution_count": 76,
   "metadata": {},
   "outputs": [
    {
     "data": {
      "text/plain": [
       "False    88434\n",
       "True      3307\n",
       "Name: search_conducted, dtype: int64"
      ]
     },
     "execution_count": 76,
     "metadata": {},
     "output_type": "execute_result"
    }
   ],
   "source": [
    "df[\"search_conducted\"].value_counts()"
   ]
  },
  {
   "cell_type": "code",
   "execution_count": 77,
   "metadata": {},
   "outputs": [
    {
     "data": {
      "text/plain": [
       "Incident to Arrest                                          1290\n",
       "Probable Cause                                               924\n",
       "Inventory                                                    219\n",
       "Reasonable Suspicion                                         214\n",
       "Protective Frisk                                             164\n",
       "Incident to Arrest,Inventory                                 123\n",
       "Incident to Arrest,Probable Cause                            100\n",
       "Probable Cause,Reasonable Suspicion                           54\n",
       "Incident to Arrest,Inventory,Probable Cause                   35\n",
       "Probable Cause,Protective Frisk                               35\n",
       "Incident to Arrest,Protective Frisk                           33\n",
       "Inventory,Probable Cause                                      25\n",
       "Protective Frisk,Reasonable Suspicion                         19\n",
       "Incident to Arrest,Inventory,Protective Frisk                 18\n",
       "Incident to Arrest,Probable Cause,Protective Frisk            13\n",
       "Inventory,Protective Frisk                                    12\n",
       "Incident to Arrest,Reasonable Suspicion                        8\n",
       "Incident to Arrest,Probable Cause,Reasonable Suspicion         5\n",
       "Probable Cause,Protective Frisk,Reasonable Suspicion           5\n",
       "Incident to Arrest,Inventory,Reasonable Suspicion              4\n",
       "Incident to Arrest,Protective Frisk,Reasonable Suspicion       2\n",
       "Inventory,Reasonable Suspicion                                 2\n",
       "Inventory,Probable Cause,Protective Frisk                      1\n",
       "Inventory,Probable Cause,Reasonable Suspicion                  1\n",
       "Inventory,Protective Frisk,Reasonable Suspicion                1\n",
       "Name: search_type, dtype: int64"
      ]
     },
     "execution_count": 77,
     "metadata": {},
     "output_type": "execute_result"
    }
   ],
   "source": [
    "df[\"search_type\"].value_counts()\n",
    "# multiple values, could turn each into a bool"
   ]
  },
  {
   "cell_type": "code",
   "execution_count": 78,
   "metadata": {},
   "outputs": [
    {
     "data": {
      "text/plain": [
       "stop_outcome      is_arrested\n",
       "Citation          False          77092\n",
       "Warning           False           5137\n",
       "Arrest Driver     True            2735\n",
       "No Action         False            625\n",
       "N/D               False            607\n",
       "Arrest Passenger  True             343\n",
       "dtype: int64"
      ]
     },
     "execution_count": 78,
     "metadata": {},
     "output_type": "execute_result"
    }
   ],
   "source": [
    "df[[\"stop_outcome\", \"is_arrested\"]].value_counts()"
   ]
  },
  {
   "cell_type": "code",
   "execution_count": 79,
   "metadata": {},
   "outputs": [
    {
     "data": {
      "text/plain": [
       "0-15 Min     69579\n",
       "16-30 Min    13740\n",
       "30+ Min       3220\n",
       "Name: stop_duration, dtype: int64"
      ]
     },
     "execution_count": 79,
     "metadata": {},
     "output_type": "execute_result"
    }
   ],
   "source": [
    "df[\"stop_duration\"].value_counts()"
   ]
  },
  {
   "cell_type": "code",
   "execution_count": 80,
   "metadata": {},
   "outputs": [
    {
     "data": {
      "text/plain": [
       "False    90879\n",
       "True       862\n",
       "Name: drugs_related_stop, dtype: int64"
      ]
     },
     "execution_count": 80,
     "metadata": {},
     "output_type": "execute_result"
    }
   ],
   "source": [
    "df[\"drugs_related_stop\"].value_counts()"
   ]
  },
  {
   "cell_type": "code",
   "execution_count": 81,
   "metadata": {},
   "outputs": [
    {
     "data": {
      "text/plain": [
       "Zone X4    24279\n",
       "Zone K3    20405\n",
       "Zone K2    18397\n",
       "Zone X3    17013\n",
       "Zone K1     8678\n",
       "Zone X1     2969\n",
       "Name: district, dtype: int64"
      ]
     },
     "execution_count": 81,
     "metadata": {},
     "output_type": "execute_result"
    }
   ],
   "source": [
    "df[\"district\"].value_counts()"
   ]
  },
  {
   "cell_type": "code",
   "execution_count": 82,
   "metadata": {},
   "outputs": [],
   "source": [
    "df.drop(columns=[\"state\", \"county_name\"], inplace=True)"
   ]
  },
  {
   "cell_type": "code",
   "execution_count": 83,
   "metadata": {},
   "outputs": [],
   "source": [
    "df.dropna(subset=[\"driver_gender\"], inplace=True)"
   ]
  },
  {
   "cell_type": "code",
   "execution_count": 84,
   "metadata": {},
   "outputs": [],
   "source": [
    "df[\"is_arrested\"] = df[\"is_arrested\"].astype(bool)"
   ]
  },
  {
   "cell_type": "code",
   "execution_count": 85,
   "metadata": {},
   "outputs": [
    {
     "data": {
      "text/html": [
       "<div>\n",
       "<style scoped>\n",
       "    .dataframe tbody tr th:only-of-type {\n",
       "        vertical-align: middle;\n",
       "    }\n",
       "\n",
       "    .dataframe tbody tr th {\n",
       "        vertical-align: top;\n",
       "    }\n",
       "\n",
       "    .dataframe thead th {\n",
       "        text-align: right;\n",
       "    }\n",
       "</style>\n",
       "<table border=\"1\" class=\"dataframe\">\n",
       "  <thead>\n",
       "    <tr style=\"text-align: right;\">\n",
       "      <th></th>\n",
       "      <th>driver_gender</th>\n",
       "      <th>driver_race</th>\n",
       "      <th>violation_raw</th>\n",
       "      <th>violation</th>\n",
       "      <th>search_conducted</th>\n",
       "      <th>search_type</th>\n",
       "      <th>stop_outcome</th>\n",
       "      <th>is_arrested</th>\n",
       "      <th>stop_duration</th>\n",
       "      <th>drugs_related_stop</th>\n",
       "      <th>district</th>\n",
       "      <th>stop_datetime</th>\n",
       "    </tr>\n",
       "  </thead>\n",
       "  <tbody>\n",
       "    <tr>\n",
       "      <th>0</th>\n",
       "      <td>M</td>\n",
       "      <td>White</td>\n",
       "      <td>Equipment/Inspection Violation</td>\n",
       "      <td>Equipment</td>\n",
       "      <td>False</td>\n",
       "      <td>NaN</td>\n",
       "      <td>Citation</td>\n",
       "      <td>False</td>\n",
       "      <td>0-15 Min</td>\n",
       "      <td>False</td>\n",
       "      <td>Zone X4</td>\n",
       "      <td>2005-01-04 12:55:00</td>\n",
       "    </tr>\n",
       "    <tr>\n",
       "      <th>1</th>\n",
       "      <td>M</td>\n",
       "      <td>White</td>\n",
       "      <td>Speeding</td>\n",
       "      <td>Speeding</td>\n",
       "      <td>False</td>\n",
       "      <td>NaN</td>\n",
       "      <td>Citation</td>\n",
       "      <td>False</td>\n",
       "      <td>0-15 Min</td>\n",
       "      <td>False</td>\n",
       "      <td>Zone K3</td>\n",
       "      <td>2005-01-23 23:15:00</td>\n",
       "    </tr>\n",
       "    <tr>\n",
       "      <th>2</th>\n",
       "      <td>M</td>\n",
       "      <td>White</td>\n",
       "      <td>Speeding</td>\n",
       "      <td>Speeding</td>\n",
       "      <td>False</td>\n",
       "      <td>NaN</td>\n",
       "      <td>Citation</td>\n",
       "      <td>False</td>\n",
       "      <td>0-15 Min</td>\n",
       "      <td>False</td>\n",
       "      <td>Zone X4</td>\n",
       "      <td>2005-02-17 04:15:00</td>\n",
       "    </tr>\n",
       "    <tr>\n",
       "      <th>3</th>\n",
       "      <td>M</td>\n",
       "      <td>White</td>\n",
       "      <td>Call for Service</td>\n",
       "      <td>Other</td>\n",
       "      <td>False</td>\n",
       "      <td>NaN</td>\n",
       "      <td>Arrest Driver</td>\n",
       "      <td>True</td>\n",
       "      <td>16-30 Min</td>\n",
       "      <td>False</td>\n",
       "      <td>Zone X1</td>\n",
       "      <td>2005-02-20 17:15:00</td>\n",
       "    </tr>\n",
       "    <tr>\n",
       "      <th>4</th>\n",
       "      <td>F</td>\n",
       "      <td>White</td>\n",
       "      <td>Speeding</td>\n",
       "      <td>Speeding</td>\n",
       "      <td>False</td>\n",
       "      <td>NaN</td>\n",
       "      <td>Citation</td>\n",
       "      <td>False</td>\n",
       "      <td>0-15 Min</td>\n",
       "      <td>False</td>\n",
       "      <td>Zone X3</td>\n",
       "      <td>2005-02-24 01:20:00</td>\n",
       "    </tr>\n",
       "  </tbody>\n",
       "</table>\n",
       "</div>"
      ],
      "text/plain": [
       "  driver_gender driver_race                   violation_raw  violation  \\\n",
       "0             M       White  Equipment/Inspection Violation  Equipment   \n",
       "1             M       White                        Speeding   Speeding   \n",
       "2             M       White                        Speeding   Speeding   \n",
       "3             M       White                Call for Service      Other   \n",
       "4             F       White                        Speeding   Speeding   \n",
       "\n",
       "   search_conducted search_type   stop_outcome  is_arrested stop_duration  \\\n",
       "0             False         NaN       Citation        False      0-15 Min   \n",
       "1             False         NaN       Citation        False      0-15 Min   \n",
       "2             False         NaN       Citation        False      0-15 Min   \n",
       "3             False         NaN  Arrest Driver         True     16-30 Min   \n",
       "4             False         NaN       Citation        False      0-15 Min   \n",
       "\n",
       "   drugs_related_stop district       stop_datetime  \n",
       "0               False  Zone X4 2005-01-04 12:55:00  \n",
       "1               False  Zone K3 2005-01-23 23:15:00  \n",
       "2               False  Zone X4 2005-02-17 04:15:00  \n",
       "3               False  Zone X1 2005-02-20 17:15:00  \n",
       "4               False  Zone X3 2005-02-24 01:20:00  "
      ]
     },
     "execution_count": 85,
     "metadata": {},
     "output_type": "execute_result"
    }
   ],
   "source": [
    "df[\"stop_date\"] = df[\"stop_date\"].str.replace(\"/\", \"-\")\n",
    "combined = df[\"stop_date\"].str.cat(df[\"stop_time\"], sep=\" \")\n",
    "df[\"stop_datetime\"] = pd.to_datetime(combined)\n",
    "df.drop(columns=[\"stop_date\", \"stop_time\"], inplace=True)\n",
    "df.head()"
   ]
  },
  {
   "cell_type": "code",
   "execution_count": 86,
   "metadata": {},
   "outputs": [],
   "source": [
    "df.set_index(\"stop_datetime\", inplace=True)"
   ]
  },
  {
   "cell_type": "code",
   "execution_count": 87,
   "metadata": {},
   "outputs": [
    {
     "data": {
      "text/plain": [
       "driver_gender             0\n",
       "driver_race               0\n",
       "violation_raw             0\n",
       "violation                 0\n",
       "search_conducted          0\n",
       "search_type           83229\n",
       "stop_outcome              0\n",
       "is_arrested               0\n",
       "stop_duration             0\n",
       "drugs_related_stop        0\n",
       "district                  0\n",
       "dtype: int64"
      ]
     },
     "execution_count": 87,
     "metadata": {},
     "output_type": "execute_result"
    }
   ],
   "source": [
    "df.isnull().sum()"
   ]
  }
 ],
 "metadata": {
  "interpreter": {
   "hash": "74609ea32c075f5c8e96a18961956eadb9a9347b199f0247ab8ad93a9d4aa1e3"
  },
  "kernelspec": {
   "display_name": "Python 3.8.8 ('base')",
   "language": "python",
   "name": "python3"
  },
  "language_info": {
   "codemirror_mode": {
    "name": "ipython",
    "version": 3
   },
   "file_extension": ".py",
   "mimetype": "text/x-python",
   "name": "python",
   "nbconvert_exporter": "python",
   "pygments_lexer": "ipython3",
   "version": "3.8.8"
  },
  "orig_nbformat": 4
 },
 "nbformat": 4,
 "nbformat_minor": 2
}

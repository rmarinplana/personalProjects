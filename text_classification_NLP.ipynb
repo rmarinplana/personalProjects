{
  "nbformat": 4,
  "nbformat_minor": 5,
  "metadata": {
    "kernelspec": {
      "display_name": "Python 3",
      "language": "python",
      "name": "python3"
    },
    "language_info": {
      "codemirror_mode": {
        "name": "ipython",
        "version": 3
      },
      "file_extension": ".py",
      "mimetype": "text/x-python",
      "name": "python",
      "nbconvert_exporter": "python",
      "pygments_lexer": "ipython3",
      "version": "3.8.3"
    },
    "colab": {
      "name": "NLP_Assignment.ipynb",
      "provenance": [],
      "collapsed_sections": [
        "AGtv1v_MD2fP",
        "refined-savannah",
        "three-arrangement",
        "aansA8lYCxho",
        "GjesPP43lqDV",
        "j_GxLZDIp-h2",
        "fantastic-violin",
        "Swdmt11FfpJX"
      ]
    },
    "widgets": {
      "application/vnd.jupyter.widget-state+json": {
        "d094f31dc67b4857a16462eceaf1d28c": {
          "model_module": "qgrid",
          "model_name": "QgridModel",
          "state": {
            "_view_name": "QgridView",
            "_view_module": "qgrid",
            "_model_module_version": "^1.1.3",
            "_index_col_name": "qgrid_unfiltered_index",
            "_model_module": "qgrid",
            "id": "93a803d3-6b18-4033-a4c8-d006653c1dc5",
            "_sort_ascending": true,
            "_columns": {
              "index": {
                "is_index": true,
                "resizable": true,
                "sortable": true,
                "name": "index",
                "maxWidth": null,
                "level": 0,
                "first_index": true,
                "defaultSortAsc": true,
                "editable": true,
                "toolTip": "",
                "minWidth": 30,
                "field": "index",
                "width": null,
                "position": 0,
                "index_display_text": "",
                "cssClass": "integer",
                "type": "integer",
                "id": "index"
              },
              "name": {
                "resizable": true,
                "sortable": true,
                "name": "name",
                "maxWidth": null,
                "width": null,
                "defaultSortAsc": true,
                "editable": true,
                "toolTip": "",
                "minWidth": 30,
                "field": "name",
                "position": 2,
                "cssClass": "string",
                "type": "string",
                "id": "name"
              },
              "num_docs": {
                "resizable": true,
                "sortable": true,
                "name": "num_docs",
                "maxWidth": null,
                "width": null,
                "defaultSortAsc": true,
                "editable": true,
                "toolTip": "",
                "minWidth": 30,
                "field": "num_docs",
                "position": 4,
                "cssClass": "integer",
                "type": "integer",
                "id": "num_docs"
              },
              "Science": {
                "resizable": true,
                "sortable": true,
                "name": "Science",
                "maxWidth": null,
                "width": null,
                "defaultSortAsc": true,
                "editable": true,
                "toolTip": "",
                "minWidth": 30,
                "field": "Science",
                "position": 7,
                "cssClass": "number",
                "type": "number",
                "id": "Science"
              },
              "Sports": {
                "resizable": true,
                "sortable": true,
                "name": "Sports",
                "maxWidth": null,
                "width": null,
                "defaultSortAsc": true,
                "editable": true,
                "toolTip": "",
                "minWidth": 30,
                "field": "Sports",
                "position": 5,
                "cssClass": "number",
                "type": "number",
                "id": "Sports"
              },
              "qgrid_unfiltered_index": {
                "resizable": true,
                "sortable": true,
                "name": "qgrid_unfiltered_index",
                "maxWidth": null,
                "width": null,
                "defaultSortAsc": true,
                "editable": true,
                "toolTip": "",
                "minWidth": 30,
                "field": "qgrid_unfiltered_index",
                "position": 1,
                "cssClass": "integer",
                "type": "integer",
                "id": "qgrid_unfiltered_index"
              },
              "World": {
                "resizable": true,
                "sortable": true,
                "name": "World",
                "maxWidth": null,
                "width": null,
                "defaultSortAsc": true,
                "editable": true,
                "toolTip": "",
                "minWidth": 30,
                "field": "World",
                "position": 8,
                "cssClass": "number",
                "type": "number",
                "id": "World"
              },
              "Business": {
                "resizable": true,
                "sortable": true,
                "name": "Business",
                "maxWidth": null,
                "width": null,
                "defaultSortAsc": true,
                "editable": true,
                "toolTip": "",
                "minWidth": 30,
                "field": "Business",
                "position": 6,
                "cssClass": "number",
                "type": "number",
                "id": "Business"
              },
              "type": {
                "resizable": true,
                "sortable": true,
                "name": "type",
                "maxWidth": null,
                "width": null,
                "defaultSortAsc": true,
                "editable": true,
                "toolTip": "",
                "minWidth": 30,
                "field": "type",
                "position": 3,
                "cssClass": "string",
                "type": "string",
                "id": "type"
              }
            },
            "_interval_columns": [],
            "_dom_classes": [],
            "_df_range": [
              0,
              100
            ],
            "_model_name": "QgridModel",
            "precision": 5,
            "_editable_rows": {},
            "_viewport_range": [
              0,
              100
            ],
            "layout": "IPY_MODEL_1cafd5c0f58241129cc4ecab484c882a",
            "_view_count": null,
            "_row_styles": {},
            "_row_count": 218,
            "_multi_index": false,
            "show_toolbar": false,
            "_view_module_version": "^1.1.3",
            "grid_options": {
              "highlightSelectedRow": true,
              "fullWidthRows": true,
              "rowHeight": 28,
              "enableColumnReorder": false,
              "filterable": true,
              "sortable": true,
              "enableTextSelectionOnCells": true,
              "editable": true,
              "explicitInitialization": true,
              "minVisibleRows": 8,
              "autoEdit": false,
              "syncColumnCellResize": true,
              "maxVisibleRows": 15,
              "defaultColumnWidth": 150,
              "boldIndex": true,
              "forceFitColumns": true,
              "highlightSelectedCell": false
            },
            "_df_json": "{\"schema\":{\"fields\":[{\"name\":\"index\",\"type\":\"integer\"},{\"name\":\"qgrid_unfiltered_index\",\"type\":\"integer\"},{\"name\":\"name\",\"type\":\"string\"},{\"name\":\"type\",\"type\":\"string\"},{\"name\":\"num_docs\",\"type\":\"integer\"},{\"name\":\"Sports\",\"type\":\"number\"},{\"name\":\"Business\",\"type\":\"number\"},{\"name\":\"Science\",\"type\":\"number\"},{\"name\":\"World\",\"type\":\"number\"}],\"primaryKey\":[\"index\"],\"pandas_version\":\"0.20.0\"},\"data\":[{\"index\":48,\"qgrid_unfiltered_index\":0,\"name\":\"Reuters\",\"type\":\"ORG\",\"num_docs\":9,\"Sports\":0.0,\"Business\":0.55556,\"Science\":0.11111,\"World\":0.33333},{\"index\":72,\"qgrid_unfiltered_index\":1,\"name\":\"AP\",\"type\":\"ORG\",\"num_docs\":7,\"Sports\":0.42857,\"Business\":0.0,\"Science\":0.14286,\"World\":0.42857},{\"index\":73,\"qgrid_unfiltered_index\":2,\"name\":\"Australia\",\"type\":\"GPE\",\"num_docs\":4,\"Sports\":0.75,\"Business\":0.0,\"Science\":0.25,\"World\":0.0},{\"index\":41,\"qgrid_unfiltered_index\":3,\"name\":\"US\",\"type\":\"GPE\",\"num_docs\":4,\"Sports\":0.0,\"Business\":0.5,\"Science\":0.25,\"World\":0.25},{\"index\":7,\"qgrid_unfiltered_index\":4,\"name\":\"Britain\",\"type\":\"GPE\",\"num_docs\":3,\"Sports\":0.66667,\"Business\":0.0,\"Science\":0.33333,\"World\":0.0},{\"index\":14,\"qgrid_unfiltered_index\":5,\"name\":\"the United States\",\"type\":\"GPE\",\"num_docs\":3,\"Sports\":0.33333,\"Business\":0.0,\"Science\":0.0,\"World\":0.66667},{\"index\":153,\"qgrid_unfiltered_index\":6,\"name\":\"U.S.\",\"type\":\"GPE\",\"num_docs\":3,\"Sports\":0.0,\"Business\":0.0,\"Science\":0.0,\"World\":1.0},{\"index\":75,\"qgrid_unfiltered_index\":7,\"name\":\"NASA\",\"type\":\"ORG\",\"num_docs\":3,\"Sports\":0.0,\"Business\":0.0,\"Science\":1.0,\"World\":0.0},{\"index\":143,\"qgrid_unfiltered_index\":8,\"name\":\"NEW YORK\",\"type\":\"GPE\",\"num_docs\":3,\"Sports\":0.0,\"Business\":1.0,\"Science\":0.0,\"World\":0.0},{\"index\":8,\"qgrid_unfiltered_index\":9,\"name\":\"Tim Henman\",\"type\":\"PERSON\",\"num_docs\":3,\"Sports\":1.0,\"Business\":0.0,\"Science\":0.0,\"World\":0.0},{\"index\":103,\"qgrid_unfiltered_index\":10,\"name\":\"Darfur\",\"type\":\"GPE\",\"num_docs\":2,\"Sports\":0.0,\"Business\":0.0,\"Science\":0.0,\"World\":1.0},{\"index\":149,\"qgrid_unfiltered_index\":11,\"name\":\"Virginia\",\"type\":\"GPE\",\"num_docs\":2,\"Sports\":0.0,\"Business\":0.5,\"Science\":0.5,\"World\":0.0},{\"index\":31,\"qgrid_unfiltered_index\":12,\"name\":\"Gaza\",\"type\":\"GPE\",\"num_docs\":2,\"Sports\":0.0,\"Business\":0.0,\"Science\":0.0,\"World\":1.0},{\"index\":201,\"qgrid_unfiltered_index\":13,\"name\":\"New England Patriots\",\"type\":\"ORG\",\"num_docs\":2,\"Sports\":1.0,\"Business\":0.0,\"Science\":0.0,\"World\":0.0},{\"index\":202,\"qgrid_unfiltered_index\":14,\"name\":\"Charlie Weis\",\"type\":\"PERSON\",\"num_docs\":2,\"Sports\":1.0,\"Business\":0.0,\"Science\":0.0,\"World\":0.0},{\"index\":203,\"qgrid_unfiltered_index\":15,\"name\":\"Notre Dame #\",\"type\":\"ORG\",\"num_docs\":2,\"Sports\":1.0,\"Business\":0.0,\"Science\":0.0,\"World\":0.0},{\"index\":85,\"qgrid_unfiltered_index\":16,\"name\":\"France\",\"type\":\"GPE\",\"num_docs\":2,\"Sports\":1.0,\"Business\":0.0,\"Science\":0.0,\"World\":0.0},{\"index\":40,\"qgrid_unfiltered_index\":17,\"name\":\"Iraq\",\"type\":\"GPE\",\"num_docs\":2,\"Sports\":0.0,\"Business\":0.0,\"Science\":0.0,\"World\":1.0},{\"index\":13,\"qgrid_unfiltered_index\":18,\"name\":\"Panama\",\"type\":\"GPE\",\"num_docs\":2,\"Sports\":0.0,\"Business\":0.0,\"Science\":0.0,\"World\":1.0},{\"index\":11,\"qgrid_unfiltered_index\":19,\"name\":\"Austria\",\"type\":\"GPE\",\"num_docs\":2,\"Sports\":1.0,\"Business\":0.0,\"Science\":0.0,\"World\":0.0},{\"index\":120,\"qgrid_unfiltered_index\":20,\"name\":\"Taiwan\",\"type\":\"GPE\",\"num_docs\":2,\"Sports\":0.0,\"Business\":0.0,\"Science\":0.0,\"World\":1.0},{\"index\":121,\"qgrid_unfiltered_index\":21,\"name\":\"China\",\"type\":\"GPE\",\"num_docs\":2,\"Sports\":0.0,\"Business\":0.0,\"Science\":0.5,\"World\":0.5},{\"index\":60,\"qgrid_unfiltered_index\":22,\"name\":\"UK\",\"type\":\"GPE\",\"num_docs\":2,\"Sports\":0.0,\"Business\":1.0,\"Science\":0.0,\"World\":0.0},{\"index\":156,\"qgrid_unfiltered_index\":23,\"name\":\"olympic\",\"type\":\"GPE\",\"num_docs\":1,\"Sports\":1.0,\"Business\":0.0,\"Science\":0.0,\"World\":0.0},{\"index\":150,\"qgrid_unfiltered_index\":24,\"name\":\"Power Mac\",\"type\":\"ORG\",\"num_docs\":1,\"Sports\":0.0,\"Business\":0.0,\"Science\":1.0,\"World\":0.0},{\"index\":161,\"qgrid_unfiltered_index\":25,\"name\":\"West Bank\",\"type\":\"GPE\",\"num_docs\":1,\"Sports\":0.0,\"Business\":0.0,\"Science\":0.0,\"World\":1.0},{\"index\":147,\"qgrid_unfiltered_index\":26,\"name\":\"Chris Mullin\",\"type\":\"PERSON\",\"num_docs\":1,\"Sports\":1.0,\"Business\":0.0,\"Science\":0.0,\"World\":0.0},{\"index\":148,\"qgrid_unfiltered_index\":27,\"name\":\"offseason\",\"type\":\"ORG\",\"num_docs\":1,\"Sports\":1.0,\"Business\":0.0,\"Science\":0.0,\"World\":0.0},{\"index\":160,\"qgrid_unfiltered_index\":28,\"name\":\"RAMALLAH\",\"type\":\"ORG\",\"num_docs\":1,\"Sports\":0.0,\"Business\":0.0,\"Science\":0.0,\"World\":1.0},{\"index\":151,\"qgrid_unfiltered_index\":29,\"name\":\"Reuters - Google Inc.\",\"type\":\"ORG\",\"num_docs\":1,\"Sports\":0.0,\"Business\":0.0,\"Science\":1.0,\"World\":0.0},{\"index\":146,\"qgrid_unfiltered_index\":30,\"name\":\"COGN.O\",\"type\":\"ORG\",\"num_docs\":1,\"Sports\":0.0,\"Business\":1.0,\"Science\":0.0,\"World\":0.0},{\"index\":159,\"qgrid_unfiltered_index\":31,\"name\":\"discount\\\\retailer Wal - Mart\",\"type\":\"ORG\",\"num_docs\":1,\"Sports\":0.0,\"Business\":1.0,\"Science\":0.0,\"World\":0.0},{\"index\":152,\"qgrid_unfiltered_index\":32,\"name\":\"Google\",\"type\":\"ORG\",\"num_docs\":1,\"Sports\":0.0,\"Business\":0.0,\"Science\":1.0,\"World\":0.0},{\"index\":158,\"qgrid_unfiltered_index\":33,\"name\":\"Reuters - Blockbuster Inc.\",\"type\":\"ORG\",\"num_docs\":1,\"Sports\":0.0,\"Business\":1.0,\"Science\":0.0,\"World\":0.0},{\"index\":154,\"qgrid_unfiltered_index\":34,\"name\":\"Afghanistan\",\"type\":\"GPE\",\"num_docs\":1,\"Sports\":0.0,\"Business\":0.0,\"Science\":0.0,\"World\":1.0},{\"index\":155,\"qgrid_unfiltered_index\":35,\"name\":\"Ellen Estes\",\"type\":\"PERSON\",\"num_docs\":1,\"Sports\":1.0,\"Business\":0.0,\"Science\":0.0,\"World\":0.0},{\"index\":157,\"qgrid_unfiltered_index\":36,\"name\":\"Wal - Mart Stores Inc. & lt;A\",\"type\":\"ORG\",\"num_docs\":1,\"Sports\":0.0,\"Business\":1.0,\"Science\":0.0,\"World\":0.0},{\"index\":0,\"qgrid_unfiltered_index\":37,\"name\":\"John Souza\",\"type\":\"PERSON\",\"num_docs\":1,\"Sports\":0.0,\"Business\":1.0,\"Science\":0.0,\"World\":0.0},{\"index\":139,\"qgrid_unfiltered_index\":38,\"name\":\"Kyodo News\",\"type\":\"ORG\",\"num_docs\":1,\"Sports\":0.0,\"Business\":1.0,\"Science\":0.0,\"World\":0.0},{\"index\":145,\"qgrid_unfiltered_index\":39,\"name\":\"Cognos Inc. & lt;A\",\"type\":\"ORG\",\"num_docs\":1,\"Sports\":0.0,\"Business\":1.0,\"Science\":0.0,\"World\":0.0},{\"index\":131,\"qgrid_unfiltered_index\":40,\"name\":\"briton\",\"type\":\"ORG\",\"num_docs\":1,\"Sports\":0.0,\"Business\":0.0,\"Science\":1.0,\"World\":0.0},{\"index\":119,\"qgrid_unfiltered_index\":41,\"name\":\"Colin Powell\",\"type\":\"PERSON\",\"num_docs\":1,\"Sports\":0.0,\"Business\":0.0,\"Science\":0.0,\"World\":1.0},{\"index\":122,\"qgrid_unfiltered_index\":42,\"name\":\"New Zealand\",\"type\":\"GPE\",\"num_docs\":1,\"Sports\":1.0,\"Business\":0.0,\"Science\":0.0,\"World\":0.0},{\"index\":123,\"qgrid_unfiltered_index\":43,\"name\":\"Kiwis\",\"type\":\"ORG\",\"num_docs\":1,\"Sports\":1.0,\"Business\":0.0,\"Science\":0.0,\"World\":0.0},{\"index\":124,\"qgrid_unfiltered_index\":44,\"name\":\"graffiti\",\"type\":\"GPE\",\"num_docs\":1,\"Sports\":0.0,\"Business\":0.0,\"Science\":1.0,\"World\":0.0},{\"index\":125,\"qgrid_unfiltered_index\":45,\"name\":\"web\",\"type\":\"ORG\",\"num_docs\":1,\"Sports\":0.0,\"Business\":0.0,\"Science\":1.0,\"World\":0.0},{\"index\":126,\"qgrid_unfiltered_index\":46,\"name\":\"Arizona\",\"type\":\"GPE\",\"num_docs\":1,\"Sports\":0.0,\"Business\":1.0,\"Science\":0.0,\"World\":0.0},{\"index\":127,\"qgrid_unfiltered_index\":47,\"name\":\"the Indiana Pacers\",\"type\":\"ORG\",\"num_docs\":1,\"Sports\":1.0,\"Business\":0.0,\"Science\":0.0,\"World\":0.0},{\"index\":128,\"qgrid_unfiltered_index\":48,\"name\":\"MOJAVE\",\"type\":\"ORG\",\"num_docs\":1,\"Sports\":0.0,\"Business\":0.0,\"Science\":1.0,\"World\":0.0},{\"index\":129,\"qgrid_unfiltered_index\":49,\"name\":\"California\",\"type\":\"GPE\",\"num_docs\":1,\"Sports\":0.0,\"Business\":0.0,\"Science\":1.0,\"World\":0.0},{\"index\":130,\"qgrid_unfiltered_index\":50,\"name\":\"London\",\"type\":\"GPE\",\"num_docs\":1,\"Sports\":0.0,\"Business\":0.0,\"Science\":1.0,\"World\":0.0},{\"index\":132,\"qgrid_unfiltered_index\":51,\"name\":\"Pakistan\",\"type\":\"GPE\",\"num_docs\":1,\"Sports\":0.0,\"Business\":0.0,\"Science\":0.0,\"World\":1.0},{\"index\":144,\"qgrid_unfiltered_index\":52,\"name\":\"Nasdaq\",\"type\":\"ORG\",\"num_docs\":1,\"Sports\":0.0,\"Business\":1.0,\"Science\":0.0,\"World\":0.0},{\"index\":133,\"qgrid_unfiltered_index\":53,\"name\":\"National Assembly\",\"type\":\"ORG\",\"num_docs\":1,\"Sports\":0.0,\"Business\":0.0,\"Science\":0.0,\"World\":1.0},{\"index\":134,\"qgrid_unfiltered_index\":54,\"name\":\"Shaukat Aziz\",\"type\":\"PERSON\",\"num_docs\":1,\"Sports\":0.0,\"Business\":0.0,\"Science\":0.0,\"World\":1.0},{\"index\":135,\"qgrid_unfiltered_index\":55,\"name\":\"Aziz\",\"type\":\"PERSON\",\"num_docs\":1,\"Sports\":0.0,\"Business\":0.0,\"Science\":0.0,\"World\":1.0},{\"index\":136,\"qgrid_unfiltered_index\":56,\"name\":\"jave Hashmi\",\"type\":\"PERSON\",\"num_docs\":1,\"Sports\":0.0,\"Business\":0.0,\"Science\":0.0,\"World\":1.0},{\"index\":137,\"qgrid_unfiltered_index\":57,\"name\":\"Waterford Wedgwood\",\"type\":\"PERSON\",\"num_docs\":1,\"Sports\":0.0,\"Business\":1.0,\"Science\":0.0,\"World\":0.0},{\"index\":138,\"qgrid_unfiltered_index\":58,\"name\":\"Japan\",\"type\":\"GPE\",\"num_docs\":1,\"Sports\":0.0,\"Business\":1.0,\"Science\":0.0,\"World\":0.0},{\"index\":163,\"qgrid_unfiltered_index\":59,\"name\":\"Arafat\",\"type\":\"PERSON\",\"num_docs\":1,\"Sports\":0.0,\"Business\":0.0,\"Science\":0.0,\"World\":1.0},{\"index\":140,\"qgrid_unfiltered_index\":60,\"name\":\"Lou Holtz\",\"type\":\"PERSON\",\"num_docs\":1,\"Sports\":1.0,\"Business\":0.0,\"Science\":0.0,\"World\":0.0},{\"index\":141,\"qgrid_unfiltered_index\":61,\"name\":\"Spurrier\",\"type\":\"PERSON\",\"num_docs\":1,\"Sports\":1.0,\"Business\":0.0,\"Science\":0.0,\"World\":0.0},{\"index\":142,\"qgrid_unfiltered_index\":62,\"name\":\"Gamecocks\",\"type\":\"ORG\",\"num_docs\":1,\"Sports\":1.0,\"Business\":0.0,\"Science\":0.0,\"World\":0.0},{\"index\":162,\"qgrid_unfiltered_index\":63,\"name\":\"Yasser\",\"type\":\"GPE\",\"num_docs\":1,\"Sports\":0.0,\"Business\":0.0,\"Science\":0.0,\"World\":1.0},{\"index\":169,\"qgrid_unfiltered_index\":64,\"name\":\"U.N.\",\"type\":\"ORG\",\"num_docs\":1,\"Sports\":0.0,\"Business\":0.0,\"Science\":0.0,\"World\":1.0},{\"index\":164,\"qgrid_unfiltered_index\":65,\"name\":\"Hal Sutton\",\"type\":\"PERSON\",\"num_docs\":1,\"Sports\":1.0,\"Business\":0.0,\"Science\":0.0,\"World\":0.0},{\"index\":205,\"qgrid_unfiltered_index\":66,\"name\":\"digital certificate company GeoTrust Inc.\",\"type\":\"ORG\",\"num_docs\":1,\"Sports\":0.0,\"Business\":0.0,\"Science\":1.0,\"World\":0.0},{\"index\":192,\"qgrid_unfiltered_index\":67,\"name\":\"Tracy McGrady\",\"type\":\"PERSON\",\"num_docs\":1,\"Sports\":1.0,\"Business\":0.0,\"Science\":0.0,\"World\":0.0},{\"index\":193,\"qgrid_unfiltered_index\":68,\"name\":\"Yao Ming\",\"type\":\"PERSON\",\"num_docs\":1,\"Sports\":1.0,\"Business\":0.0,\"Science\":0.0,\"World\":0.0},{\"index\":194,\"qgrid_unfiltered_index\":69,\"name\":\"Atlanta\",\"type\":\"GPE\",\"num_docs\":1,\"Sports\":1.0,\"Business\":0.0,\"Science\":0.0,\"World\":0.0},{\"index\":195,\"qgrid_unfiltered_index\":70,\"name\":\"Houston\",\"type\":\"GPE\",\"num_docs\":1,\"Sports\":1.0,\"Business\":0.0,\"Science\":0.0,\"World\":0.0},{\"index\":196,\"qgrid_unfiltered_index\":71,\"name\":\"TORONTO - Aber Diamond Corp.\",\"type\":\"ORG\",\"num_docs\":1,\"Sports\":0.0,\"Business\":1.0,\"Science\":0.0,\"World\":0.0},{\"index\":197,\"qgrid_unfiltered_index\":72,\"name\":\"Tiffany\",\"type\":\"GPE\",\"num_docs\":1,\"Sports\":0.0,\"Business\":1.0,\"Science\":0.0,\"World\":0.0},{\"index\":198,\"qgrid_unfiltered_index\":73,\"name\":\"Aber\",\"type\":\"GPE\",\"num_docs\":1,\"Sports\":0.0,\"Business\":1.0,\"Science\":0.0,\"World\":0.0},{\"index\":199,\"qgrid_unfiltered_index\":74,\"name\":\"Billiton\",\"type\":\"GPE\",\"num_docs\":1,\"Sports\":0.0,\"Business\":1.0,\"Science\":0.0,\"World\":0.0},{\"index\":200,\"qgrid_unfiltered_index\":75,\"name\":\"Microsoft\",\"type\":\"ORG\",\"num_docs\":1,\"Sports\":0.0,\"Business\":0.0,\"Science\":1.0,\"World\":0.0},{\"index\":204,\"qgrid_unfiltered_index\":76,\"name\":\"Adobe Systems Inc.\",\"type\":\"ORG\",\"num_docs\":1,\"Sports\":0.0,\"Business\":0.0,\"Science\":1.0,\"World\":0.0},{\"index\":206,\"qgrid_unfiltered_index\":77,\"name\":\"Adobe\",\"type\":\"ORG\",\"num_docs\":1,\"Sports\":0.0,\"Business\":0.0,\"Science\":1.0,\"World\":0.0},{\"index\":190,\"qgrid_unfiltered_index\":78,\"name\":\"the U.S. Air Force 's\",\"type\":\"ORG\",\"num_docs\":1,\"Sports\":0.0,\"Business\":1.0,\"Science\":0.0,\"World\":0.0},{\"index\":207,\"qgrid_unfiltered_index\":79,\"name\":\"Mickael Silvestre\",\"type\":\"PERSON\",\"num_docs\":1,\"Sports\":1.0,\"Business\":0.0,\"Science\":0.0,\"World\":0.0},{\"index\":208,\"qgrid_unfiltered_index\":80,\"name\":\"Raymond Domenech\",\"type\":\"PERSON\",\"num_docs\":1,\"Sports\":1.0,\"Business\":0.0,\"Science\":0.0,\"World\":0.0},{\"index\":209,\"qgrid_unfiltered_index\":81,\"name\":\"Poland\",\"type\":\"GPE\",\"num_docs\":1,\"Sports\":1.0,\"Business\":0.0,\"Science\":0.0,\"World\":0.0},{\"index\":210,\"qgrid_unfiltered_index\":82,\"name\":\"Trump Hotels\",\"type\":\"ORG\",\"num_docs\":1,\"Sports\":0.0,\"Business\":1.0,\"Science\":0.0,\"World\":0.0},{\"index\":211,\"qgrid_unfiltered_index\":83,\"name\":\"Casino Resorts Inc.\",\"type\":\"ORG\",\"num_docs\":1,\"Sports\":0.0,\"Business\":1.0,\"Science\":0.0,\"World\":0.0},{\"index\":212,\"qgrid_unfiltered_index\":84,\"name\":\"Donald Trump\",\"type\":\"PERSON\",\"num_docs\":1,\"Sports\":0.0,\"Business\":1.0,\"Science\":0.0,\"World\":0.0},{\"index\":213,\"qgrid_unfiltered_index\":85,\"name\":\"NBC\",\"type\":\"ORG\",\"num_docs\":1,\"Sports\":0.0,\"Business\":1.0,\"Science\":0.0,\"World\":0.0},{\"index\":214,\"qgrid_unfiltered_index\":86,\"name\":\"quot;The Apprentice\",\"type\":\"ORG\",\"num_docs\":1,\"Sports\":0.0,\"Business\":1.0,\"Science\":0.0,\"World\":0.0},{\"index\":215,\"qgrid_unfiltered_index\":87,\"name\":\"Red Hat Inc.\",\"type\":\"ORG\",\"num_docs\":1,\"Sports\":0.0,\"Business\":0.0,\"Science\":1.0,\"World\":0.0},{\"index\":216,\"qgrid_unfiltered_index\":88,\"name\":\"the Conference Board\",\"type\":\"ORG\",\"num_docs\":1,\"Sports\":0.0,\"Business\":1.0,\"Science\":0.0,\"World\":0.0},{\"index\":191,\"qgrid_unfiltered_index\":89,\"name\":\"Boeing Co.\",\"type\":\"ORG\",\"num_docs\":1,\"Sports\":0.0,\"Business\":1.0,\"Science\":0.0,\"World\":0.0},{\"index\":189,\"qgrid_unfiltered_index\":90,\"name\":\"quot\",\"type\":\"PERSON\",\"num_docs\":1,\"Sports\":0.0,\"Business\":0.0,\"Science\":0.0,\"World\":1.0},{\"index\":165,\"qgrid_unfiltered_index\":91,\"name\":\"Jay Haas\",\"type\":\"PERSON\",\"num_docs\":1,\"Sports\":1.0,\"Business\":0.0,\"Science\":0.0,\"World\":0.0},{\"index\":176,\"qgrid_unfiltered_index\":92,\"name\":\"AMSTERDAM\",\"type\":\"ORG\",\"num_docs\":1,\"Sports\":0.0,\"Business\":1.0,\"Science\":0.0,\"World\":0.0},{\"index\":166,\"qgrid_unfiltered_index\":93,\"name\":\"Stewart Cink\",\"type\":\"PERSON\",\"num_docs\":1,\"Sports\":1.0,\"Business\":0.0,\"Science\":0.0,\"World\":0.0},{\"index\":167,\"qgrid_unfiltered_index\":94,\"name\":\"United States\",\"type\":\"ORG\",\"num_docs\":1,\"Sports\":1.0,\"Business\":0.0,\"Science\":0.0,\"World\":0.0},{\"index\":168,\"qgrid_unfiltered_index\":95,\"name\":\"Ryder Cup\",\"type\":\"PERSON\",\"num_docs\":1,\"Sports\":1.0,\"Business\":0.0,\"Science\":0.0,\"World\":0.0},{\"index\":117,\"qgrid_unfiltered_index\":96,\"name\":\"Benjamin Watson\",\"type\":\"PERSON\",\"num_docs\":1,\"Sports\":1.0,\"Business\":0.0,\"Science\":0.0,\"World\":0.0},{\"index\":170,\"qgrid_unfiltered_index\":97,\"name\":\"the United Nations\",\"type\":\"ORG\",\"num_docs\":1,\"Sports\":0.0,\"Business\":0.0,\"Science\":0.0,\"World\":1.0},{\"index\":171,\"qgrid_unfiltered_index\":98,\"name\":\"the Scottish Football Association\",\"type\":\"ORG\",\"num_docs\":1,\"Sports\":1.0,\"Business\":0.0,\"Science\":0.0,\"World\":0.0},{\"index\":172,\"qgrid_unfiltered_index\":99,\"name\":\"UEFA\",\"type\":\"ORG\",\"num_docs\":1,\"Sports\":1.0,\"Business\":0.0,\"Science\":0.0,\"World\":0.0}]}",
            "_sort_field": null
          }
        }
      }
    }
  },
  "cells": [
    {
      "cell_type": "markdown",
      "metadata": {
        "id": "c9g828dxt-eJ"
      },
      "source": [
        "# Assignment NLP Unit: Text Classification"
      ],
      "id": "c9g828dxt-eJ"
    },
    {
      "cell_type": "code",
      "metadata": {
        "id": "restricted-assumption"
      },
      "source": [
        "# Importing basic libraries\n",
        "import pandas as pd\n",
        "import numpy as np\n",
        "import matplotlib.pyplot as plt\n",
        "\n",
        "# Change plot settings to display plots and data\n",
        "%matplotlib inline\n",
        "plt.rcParams.update({'font.size': 22})\n",
        "\n",
        "from IPython.display import HTML\n",
        "def display_df(df):\n",
        "    \"\"\"Displays the dataframe using HTML.\"\"\"\n",
        "    return HTML(df.to_html())"
      ],
      "id": "restricted-assumption",
      "execution_count": null,
      "outputs": []
    },
    {
      "cell_type": "code",
      "metadata": {
        "id": "eight-apparatus"
      },
      "source": [
        "# Loading AG News train and test datasets\n",
        "train = pd.read_csv(\"agnews_train.csv\")\n",
        "test = pd.read_csv(\"agnews_test.csv\")"
      ],
      "id": "eight-apparatus",
      "execution_count": null,
      "outputs": []
    },
    {
      "cell_type": "markdown",
      "metadata": {
        "id": "AGtv1v_MD2fP"
      },
      "source": [
        "### Exploratory Data Analysis"
      ],
      "id": "AGtv1v_MD2fP"
    },
    {
      "cell_type": "code",
      "metadata": {
        "colab": {
          "base_uri": "https://localhost:8080/",
          "height": 289
        },
        "id": "dangerous-major",
        "outputId": "69d6e646-5bcc-4e9a-8870-103bbcfeb265"
      },
      "source": [
        "# There is a multiclass label and 4 binary labels for each of the classes.\n",
        "train.head()"
      ],
      "id": "dangerous-major",
      "execution_count": null,
      "outputs": [
        {
          "output_type": "execute_result",
          "data": {
            "text/html": [
              "<div>\n",
              "<style scoped>\n",
              "    .dataframe tbody tr th:only-of-type {\n",
              "        vertical-align: middle;\n",
              "    }\n",
              "\n",
              "    .dataframe tbody tr th {\n",
              "        vertical-align: top;\n",
              "    }\n",
              "\n",
              "    .dataframe thead th {\n",
              "        text-align: right;\n",
              "    }\n",
              "</style>\n",
              "<table border=\"1\" class=\"dataframe\">\n",
              "  <thead>\n",
              "    <tr style=\"text-align: right;\">\n",
              "      <th></th>\n",
              "      <th>text</th>\n",
              "      <th>label</th>\n",
              "      <th>label_int</th>\n",
              "      <th>science_int</th>\n",
              "      <th>sports_int</th>\n",
              "      <th>world_int</th>\n",
              "      <th>business_int</th>\n",
              "    </tr>\n",
              "  </thead>\n",
              "  <tbody>\n",
              "    <tr>\n",
              "      <th>0</th>\n",
              "      <td>John Souza, a volunteer with the Boone County ...</td>\n",
              "      <td>Business</td>\n",
              "      <td>3</td>\n",
              "      <td>0</td>\n",
              "      <td>0</td>\n",
              "      <td>0</td>\n",
              "      <td>1</td>\n",
              "    </tr>\n",
              "    <tr>\n",
              "      <th>1</th>\n",
              "      <td>Spain needs only to beat an under-strength Fre...</td>\n",
              "      <td>Sports</td>\n",
              "      <td>1</td>\n",
              "      <td>0</td>\n",
              "      <td>1</td>\n",
              "      <td>0</td>\n",
              "      <td>0</td>\n",
              "    </tr>\n",
              "    <tr>\n",
              "      <th>2</th>\n",
              "      <td>PANAMA CITY, Panama -- When the United States ...</td>\n",
              "      <td>World</td>\n",
              "      <td>2</td>\n",
              "      <td>0</td>\n",
              "      <td>0</td>\n",
              "      <td>1</td>\n",
              "      <td>0</td>\n",
              "    </tr>\n",
              "    <tr>\n",
              "      <th>3</th>\n",
              "      <td>Gilbert Arenas, Jarvis Hayes and Anthony Peele...</td>\n",
              "      <td>Sports</td>\n",
              "      <td>1</td>\n",
              "      <td>0</td>\n",
              "      <td>1</td>\n",
              "      <td>0</td>\n",
              "      <td>0</td>\n",
              "    </tr>\n",
              "    <tr>\n",
              "      <th>4</th>\n",
              "      <td>MEMPHIS, Tenn. -- Kobe Bryant had his worst sh...</td>\n",
              "      <td>Sports</td>\n",
              "      <td>1</td>\n",
              "      <td>0</td>\n",
              "      <td>1</td>\n",
              "      <td>0</td>\n",
              "      <td>0</td>\n",
              "    </tr>\n",
              "  </tbody>\n",
              "</table>\n",
              "</div>"
            ],
            "text/plain": [
              "                                                text  ... business_int\n",
              "0  John Souza, a volunteer with the Boone County ...  ...            1\n",
              "1  Spain needs only to beat an under-strength Fre...  ...            0\n",
              "2  PANAMA CITY, Panama -- When the United States ...  ...            0\n",
              "3  Gilbert Arenas, Jarvis Hayes and Anthony Peele...  ...            0\n",
              "4  MEMPHIS, Tenn. -- Kobe Bryant had his worst sh...  ...            0\n",
              "\n",
              "[5 rows x 7 columns]"
            ]
          },
          "metadata": {
            "tags": []
          },
          "execution_count": 4
        }
      ]
    },
    {
      "cell_type": "code",
      "metadata": {
        "scrolled": true,
        "colab": {
          "base_uri": "https://localhost:8080/"
        },
        "id": "liquid-blocking",
        "outputId": "14a0f0a1-cf27-49ea-9e92-be99e30d32c6"
      },
      "source": [
        "# We have 2 object variables and 5 interger variables. \n",
        "train.info()"
      ],
      "id": "liquid-blocking",
      "execution_count": null,
      "outputs": [
        {
          "output_type": "stream",
          "text": [
            "<class 'pandas.core.frame.DataFrame'>\n",
            "RangeIndex: 109999 entries, 0 to 109998\n",
            "Data columns (total 7 columns):\n",
            " #   Column        Non-Null Count   Dtype \n",
            "---  ------        --------------   ----- \n",
            " 0   text          109999 non-null  object\n",
            " 1   label         109999 non-null  object\n",
            " 2   label_int     109999 non-null  int64 \n",
            " 3   science_int   109999 non-null  int64 \n",
            " 4   sports_int    109999 non-null  int64 \n",
            " 5   world_int     109999 non-null  int64 \n",
            " 6   business_int  109999 non-null  int64 \n",
            "dtypes: int64(5), object(2)\n",
            "memory usage: 5.9+ MB\n"
          ],
          "name": "stdout"
        }
      ]
    },
    {
      "cell_type": "code",
      "metadata": {
        "colab": {
          "base_uri": "https://localhost:8080/",
          "height": 294
        },
        "id": "NQeO6bfnDz6V",
        "outputId": "79ebba0a-2116-48f5-fe6c-2371280b8f8a"
      },
      "source": [
        "# The data set is balanced: it contains about 25% of articles from each class.\n",
        "train.describe()"
      ],
      "id": "NQeO6bfnDz6V",
      "execution_count": null,
      "outputs": [
        {
          "output_type": "execute_result",
          "data": {
            "text/html": [
              "<div>\n",
              "<style scoped>\n",
              "    .dataframe tbody tr th:only-of-type {\n",
              "        vertical-align: middle;\n",
              "    }\n",
              "\n",
              "    .dataframe tbody tr th {\n",
              "        vertical-align: top;\n",
              "    }\n",
              "\n",
              "    .dataframe thead th {\n",
              "        text-align: right;\n",
              "    }\n",
              "</style>\n",
              "<table border=\"1\" class=\"dataframe\">\n",
              "  <thead>\n",
              "    <tr style=\"text-align: right;\">\n",
              "      <th></th>\n",
              "      <th>label_int</th>\n",
              "      <th>science_int</th>\n",
              "      <th>sports_int</th>\n",
              "      <th>world_int</th>\n",
              "      <th>business_int</th>\n",
              "    </tr>\n",
              "  </thead>\n",
              "  <tbody>\n",
              "    <tr>\n",
              "      <th>count</th>\n",
              "      <td>109999.000000</td>\n",
              "      <td>109999.000000</td>\n",
              "      <td>109999.000000</td>\n",
              "      <td>109999.000000</td>\n",
              "      <td>109999.000000</td>\n",
              "    </tr>\n",
              "    <tr>\n",
              "      <th>mean</th>\n",
              "      <td>1.500341</td>\n",
              "      <td>0.249657</td>\n",
              "      <td>0.250384</td>\n",
              "      <td>0.249920</td>\n",
              "      <td>0.250039</td>\n",
              "    </tr>\n",
              "    <tr>\n",
              "      <th>std</th>\n",
              "      <td>1.117767</td>\n",
              "      <td>0.432816</td>\n",
              "      <td>0.433236</td>\n",
              "      <td>0.432969</td>\n",
              "      <td>0.433037</td>\n",
              "    </tr>\n",
              "    <tr>\n",
              "      <th>min</th>\n",
              "      <td>0.000000</td>\n",
              "      <td>0.000000</td>\n",
              "      <td>0.000000</td>\n",
              "      <td>0.000000</td>\n",
              "      <td>0.000000</td>\n",
              "    </tr>\n",
              "    <tr>\n",
              "      <th>25%</th>\n",
              "      <td>1.000000</td>\n",
              "      <td>0.000000</td>\n",
              "      <td>0.000000</td>\n",
              "      <td>0.000000</td>\n",
              "      <td>0.000000</td>\n",
              "    </tr>\n",
              "    <tr>\n",
              "      <th>50%</th>\n",
              "      <td>1.000000</td>\n",
              "      <td>0.000000</td>\n",
              "      <td>0.000000</td>\n",
              "      <td>0.000000</td>\n",
              "      <td>0.000000</td>\n",
              "    </tr>\n",
              "    <tr>\n",
              "      <th>75%</th>\n",
              "      <td>3.000000</td>\n",
              "      <td>0.000000</td>\n",
              "      <td>1.000000</td>\n",
              "      <td>0.000000</td>\n",
              "      <td>1.000000</td>\n",
              "    </tr>\n",
              "    <tr>\n",
              "      <th>max</th>\n",
              "      <td>3.000000</td>\n",
              "      <td>1.000000</td>\n",
              "      <td>1.000000</td>\n",
              "      <td>1.000000</td>\n",
              "      <td>1.000000</td>\n",
              "    </tr>\n",
              "  </tbody>\n",
              "</table>\n",
              "</div>"
            ],
            "text/plain": [
              "           label_int    science_int  ...      world_int   business_int\n",
              "count  109999.000000  109999.000000  ...  109999.000000  109999.000000\n",
              "mean        1.500341       0.249657  ...       0.249920       0.250039\n",
              "std         1.117767       0.432816  ...       0.432969       0.433037\n",
              "min         0.000000       0.000000  ...       0.000000       0.000000\n",
              "25%         1.000000       0.000000  ...       0.000000       0.000000\n",
              "50%         1.000000       0.000000  ...       0.000000       0.000000\n",
              "75%         3.000000       0.000000  ...       0.000000       1.000000\n",
              "max         3.000000       1.000000  ...       1.000000       1.000000\n",
              "\n",
              "[8 rows x 5 columns]"
            ]
          },
          "metadata": {
            "tags": []
          },
          "execution_count": 47
        }
      ]
    },
    {
      "cell_type": "markdown",
      "metadata": {
        "id": "PRluTwFBsWfy"
      },
      "source": [
        "### Feature Extraction"
      ],
      "id": "PRluTwFBsWfy"
    },
    {
      "cell_type": "code",
      "metadata": {
        "colab": {
          "base_uri": "https://localhost:8080/"
        },
        "id": "automated-timothy",
        "outputId": "cd4a9c2b-140e-4885-a96c-b1028021c0e8"
      },
      "source": [
        "'''Split separates sentences into words, but it cannot iddentify uppercase and lowercase, \n",
        "punctuations sings, and other special characters.'''\n",
        "sentence = train.text[0]\n",
        "sentence.split()"
      ],
      "id": "automated-timothy",
      "execution_count": null,
      "outputs": [
        {
          "output_type": "execute_result",
          "data": {
            "text/plain": [
              "['John',\n",
              " 'Souza,',\n",
              " 'a',\n",
              " 'volunteer',\n",
              " 'with',\n",
              " 'the',\n",
              " 'Boone',\n",
              " 'County',\n",
              " 'chapter',\n",
              " 'of',\n",
              " 'the',\n",
              " 'American',\n",
              " 'Red',\n",
              " 'Cross,',\n",
              " 'is',\n",
              " 'the',\n",
              " 'second',\n",
              " 'Columbia',\n",
              " 'resident',\n",
              " 'to',\n",
              " 'join',\n",
              " 'efforts',\n",
              " 'to',\n",
              " 'assist',\n",
              " 'people',\n",
              " 'who',\n",
              " 'were',\n",
              " 'affected',\n",
              " 'by',\n",
              " 'Tropical',\n",
              " 'Storm',\n",
              " 'Bonnie',\n",
              " 'and',\n",
              " 'Hurricane',\n",
              " 'Charley.']"
            ]
          },
          "metadata": {
            "tags": []
          },
          "execution_count": 8
        }
      ]
    },
    {
      "cell_type": "code",
      "metadata": {
        "id": "frozen-release"
      },
      "source": [
        "# We use the simple sklearn's text analyzer to tokenize sentences into words.\n",
        "# This function also removes punctuation and other characters, lowercases all words, \n",
        "# and removes some unimportant words.\n",
        "from sklearn.feature_extraction.text import CountVectorizer, TfidfTransformer\n",
        "def make_sklearn_analyzer(n=1):\n",
        "    \"\"\"We first define a convenience function to create an sklearn text analyzer, that\n",
        "extracts n-grams, up to a given n. The resulting representation is a bag-of-ngrams.\"\"\"\n",
        "    vect = CountVectorizer(stop_words=[], ngram_range=(1,n))\n",
        "    analyzer = vect.build_analyzer()\n",
        "    return analyzer\n",
        "\n",
        "\n",
        "sk_analyzer = make_sklearn_analyzer()"
      ],
      "id": "frozen-release",
      "execution_count": null,
      "outputs": []
    },
    {
      "cell_type": "code",
      "metadata": {
        "scrolled": true,
        "colab": {
          "base_uri": "https://localhost:8080/"
        },
        "id": "southern-harrison",
        "outputId": "93d2aba2-1779-48dd-eed2-e987a71ddc3b"
      },
      "source": [
        "'''We’re now going a distribution of all the words in our collection. With each word, we will\n",
        "associate a count, that is, how many times does the word appear in the collection.\n",
        "There are 58831 different words in our collection.'''\n",
        "from collections import Counter\n",
        "word_counts = Counter()\n",
        "for text in train.text:\n",
        "    word_counts.update(sk_analyzer(text))\n",
        "len(word_counts.most_common())"
      ],
      "id": "southern-harrison",
      "execution_count": null,
      "outputs": [
        {
          "output_type": "execute_result",
          "data": {
            "text/plain": [
              "58831"
            ]
          },
          "metadata": {
            "tags": []
          },
          "execution_count": 4
        }
      ]
    },
    {
      "cell_type": "code",
      "metadata": {
        "colab": {
          "base_uri": "https://localhost:8080/"
        },
        "id": "compatible-advocacy",
        "outputId": "9c61d6dc-35d1-4db2-e1d8-62ab22520a4b"
      },
      "source": [
        "'''Ranking the most common words in our collection. \n",
        "The most common words are generally articles, determinants, prepositions, pronouns, or auxiliary verbs.'''\n",
        "word_counts.most_common(20)"
      ],
      "id": "compatible-advocacy",
      "execution_count": null,
      "outputs": [
        {
          "output_type": "execute_result",
          "data": {
            "text/plain": [
              "[('the', 182263),\n",
              " ('to', 88925),\n",
              " ('of', 82101),\n",
              " ('in', 72156),\n",
              " ('and', 60998),\n",
              " ('on', 44011),\n",
              " ('for', 35113),\n",
              " ('39', 29262),\n",
              " ('that', 25467),\n",
              " ('with', 20823),\n",
              " ('as', 20126),\n",
              " ('its', 19440),\n",
              " ('at', 19076),\n",
              " ('said', 18413),\n",
              " ('is', 18395),\n",
              " ('it', 17558),\n",
              " ('by', 17201),\n",
              " ('has', 16768),\n",
              " ('new', 16005),\n",
              " ('an', 15241)]"
            ]
          },
          "metadata": {
            "tags": []
          },
          "execution_count": 11
        }
      ]
    },
    {
      "cell_type": "code",
      "metadata": {
        "colab": {
          "base_uri": "https://localhost:8080/",
          "height": 306
        },
        "id": "legal-accident",
        "outputId": "5850bb3e-96e4-4e4c-c1b6-9697fc649ad2"
      },
      "source": [
        "# Plotting the word distribution by frequency of the top 200 words.\n",
        "N = 200\n",
        "fig = plt.figure(figsize=(30,10))\n",
        "plt.bar(range(N), [w[1] for w in word_counts.most_common(N)])\n",
        "plt.xlabel('word rank by frequency')\n",
        "plt.ylabel('word frequency in docs')\n",
        "fig.show()"
      ],
      "id": "legal-accident",
      "execution_count": null,
      "outputs": [
        {
          "output_type": "display_data",
          "data": {
            "image/png": "[encoded data removed]",
            "text/plain": [
              "<Figure size 2160x720 with 1 Axes>"
            ]
          },
          "metadata": {
            "tags": [],
            "needs_background": "light"
          }
        }
      ]
    },
    {
      "cell_type": "code",
      "metadata": {
        "colab": {
          "base_uri": "https://localhost:8080/"
        },
        "id": "divided-porcelain",
        "outputId": "6dffad71-b491-4e79-ba57-e8fe09d447da"
      },
      "source": [
        "pip install qgrid"
      ],
      "id": "divided-porcelain",
      "execution_count": null,
      "outputs": [
        {
          "output_type": "stream",
          "text": [
            "Collecting qgrid\n",
            "\u001b[?25l  Downloading https://files.pythonhosted.org/packages/b2/7a/e487610fea3eb5798a9c8ed988363dcb50904c15b299d26fe175c3cc977a/qgrid-1.3.1.tar.gz (889kB)\n",
            "\u001b[K     |████████████████████████████████| 890kB 4.4MB/s \n",
            "\u001b[?25hRequirement already satisfied: notebook>=4.0.0 in /usr/local/lib/python3.7/dist-packages (from qgrid) (5.3.1)\n",
            "Requirement already satisfied: pandas>=0.18.0 in /usr/local/lib/python3.7/dist-packages (from qgrid) (1.1.5)\n",
            "Requirement already satisfied: ipywidgets>=7.0.0 in /usr/local/lib/python3.7/dist-packages (from qgrid) (7.6.3)\n",
            "Requirement already satisfied: nbformat in /usr/local/lib/python3.7/dist-packages (from notebook>=4.0.0->qgrid) (5.1.2)\n",
            "Requirement already satisfied: nbconvert in /usr/local/lib/python3.7/dist-packages (from notebook>=4.0.0->qgrid) (5.6.1)\n",
            "Requirement already satisfied: jinja2 in /usr/local/lib/python3.7/dist-packages (from notebook>=4.0.0->qgrid) (2.11.3)\n",
            "Requirement already satisfied: jupyter-client>=5.2.0 in /usr/local/lib/python3.7/dist-packages (from notebook>=4.0.0->qgrid) (5.3.5)\n",
            "Requirement already satisfied: tornado>=4 in /usr/local/lib/python3.7/dist-packages (from notebook>=4.0.0->qgrid) (5.1.1)\n",
            "Requirement already satisfied: ipykernel in /usr/local/lib/python3.7/dist-packages (from notebook>=4.0.0->qgrid) (4.10.1)\n",
            "Requirement already satisfied: Send2Trash in /usr/local/lib/python3.7/dist-packages (from notebook>=4.0.0->qgrid) (1.5.0)\n",
            "Requirement already satisfied: ipython-genutils in /usr/local/lib/python3.7/dist-packages (from notebook>=4.0.0->qgrid) (0.2.0)\n",
            "Requirement already satisfied: terminado>=0.8.1 in /usr/local/lib/python3.7/dist-packages (from notebook>=4.0.0->qgrid) (0.9.3)\n",
            "Requirement already satisfied: jupyter-core>=4.4.0 in /usr/local/lib/python3.7/dist-packages (from notebook>=4.0.0->qgrid) (4.7.1)\n",
            "Requirement already satisfied: traitlets>=4.2.1 in /usr/local/lib/python3.7/dist-packages (from notebook>=4.0.0->qgrid) (5.0.5)\n",
            "Requirement already satisfied: numpy>=1.15.4 in /usr/local/lib/python3.7/dist-packages (from pandas>=0.18.0->qgrid) (1.19.5)\n",
            "Requirement already satisfied: python-dateutil>=2.7.3 in /usr/local/lib/python3.7/dist-packages (from pandas>=0.18.0->qgrid) (2.8.1)\n",
            "Requirement already satisfied: pytz>=2017.2 in /usr/local/lib/python3.7/dist-packages (from pandas>=0.18.0->qgrid) (2018.9)\n",
            "Requirement already satisfied: widgetsnbextension~=3.5.0 in /usr/local/lib/python3.7/dist-packages (from ipywidgets>=7.0.0->qgrid) (3.5.1)\n",
            "Requirement already satisfied: ipython>=4.0.0; python_version >= \"3.3\" in /usr/local/lib/python3.7/dist-packages (from ipywidgets>=7.0.0->qgrid) (5.5.0)\n",
            "Requirement already satisfied: jupyterlab-widgets>=1.0.0; python_version >= \"3.6\" in /usr/local/lib/python3.7/dist-packages (from ipywidgets>=7.0.0->qgrid) (1.0.0)\n",
            "Requirement already satisfied: jsonschema!=2.5.0,>=2.4 in /usr/local/lib/python3.7/dist-packages (from nbformat->notebook>=4.0.0->qgrid) (2.6.0)\n",
            "Requirement already satisfied: entrypoints>=0.2.2 in /usr/local/lib/python3.7/dist-packages (from nbconvert->notebook>=4.0.0->qgrid) (0.3)\n",
            "Requirement already satisfied: pandocfilters>=1.4.1 in /usr/local/lib/python3.7/dist-packages (from nbconvert->notebook>=4.0.0->qgrid) (1.4.3)\n",
            "Requirement already satisfied: testpath in /usr/local/lib/python3.7/dist-packages (from nbconvert->notebook>=4.0.0->qgrid) (0.4.4)\n",
            "Requirement already satisfied: defusedxml in /usr/local/lib/python3.7/dist-packages (from nbconvert->notebook>=4.0.0->qgrid) (0.7.1)\n",
            "Requirement already satisfied: bleach in /usr/local/lib/python3.7/dist-packages (from nbconvert->notebook>=4.0.0->qgrid) (3.3.0)\n",
            "Requirement already satisfied: pygments in /usr/local/lib/python3.7/dist-packages (from nbconvert->notebook>=4.0.0->qgrid) (2.6.1)\n",
            "Requirement already satisfied: mistune<2,>=0.8.1 in /usr/local/lib/python3.7/dist-packages (from nbconvert->notebook>=4.0.0->qgrid) (0.8.4)\n",
            "Requirement already satisfied: MarkupSafe>=0.23 in /usr/local/lib/python3.7/dist-packages (from jinja2->notebook>=4.0.0->qgrid) (1.1.1)\n",
            "Requirement already satisfied: pyzmq>=13 in /usr/local/lib/python3.7/dist-packages (from jupyter-client>=5.2.0->notebook>=4.0.0->qgrid) (22.0.3)\n",
            "Requirement already satisfied: ptyprocess; os_name != \"nt\" in /usr/local/lib/python3.7/dist-packages (from terminado>=0.8.1->notebook>=4.0.0->qgrid) (0.7.0)\n",
            "Requirement already satisfied: six>=1.5 in /usr/local/lib/python3.7/dist-packages (from python-dateutil>=2.7.3->pandas>=0.18.0->qgrid) (1.15.0)\n",
            "Requirement already satisfied: simplegeneric>0.8 in /usr/local/lib/python3.7/dist-packages (from ipython>=4.0.0; python_version >= \"3.3\"->ipywidgets>=7.0.0->qgrid) (0.8.1)\n",
            "Requirement already satisfied: prompt-toolkit<2.0.0,>=1.0.4 in /usr/local/lib/python3.7/dist-packages (from ipython>=4.0.0; python_version >= \"3.3\"->ipywidgets>=7.0.0->qgrid) (1.0.18)\n",
            "Requirement already satisfied: pickleshare in /usr/local/lib/python3.7/dist-packages (from ipython>=4.0.0; python_version >= \"3.3\"->ipywidgets>=7.0.0->qgrid) (0.7.5)\n",
            "Requirement already satisfied: pexpect; sys_platform != \"win32\" in /usr/local/lib/python3.7/dist-packages (from ipython>=4.0.0; python_version >= \"3.3\"->ipywidgets>=7.0.0->qgrid) (4.8.0)\n",
            "Requirement already satisfied: setuptools>=18.5 in /usr/local/lib/python3.7/dist-packages (from ipython>=4.0.0; python_version >= \"3.3\"->ipywidgets>=7.0.0->qgrid) (54.2.0)\n",
            "Requirement already satisfied: decorator in /usr/local/lib/python3.7/dist-packages (from ipython>=4.0.0; python_version >= \"3.3\"->ipywidgets>=7.0.0->qgrid) (4.4.2)\n",
            "Requirement already satisfied: webencodings in /usr/local/lib/python3.7/dist-packages (from bleach->nbconvert->notebook>=4.0.0->qgrid) (0.5.1)\n",
            "Requirement already satisfied: packaging in /usr/local/lib/python3.7/dist-packages (from bleach->nbconvert->notebook>=4.0.0->qgrid) (20.9)\n",
            "Requirement already satisfied: wcwidth in /usr/local/lib/python3.7/dist-packages (from prompt-toolkit<2.0.0,>=1.0.4->ipython>=4.0.0; python_version >= \"3.3\"->ipywidgets>=7.0.0->qgrid) (0.2.5)\n",
            "Requirement already satisfied: pyparsing>=2.0.2 in /usr/local/lib/python3.7/dist-packages (from packaging->bleach->nbconvert->notebook>=4.0.0->qgrid) (2.4.7)\n",
            "Building wheels for collected packages: qgrid\n",
            "  Building wheel for qgrid (setup.py) ... \u001b[?25l\u001b[?25hdone\n",
            "  Created wheel for qgrid: filename=qgrid-1.3.1-py2.py3-none-any.whl size=1761257 sha256=291591b88cdfdd6bcab30eae518b4b95363f7deb2786a5f25a468189ca383169\n",
            "  Stored in directory: /root/.cache/pip/wheels/51/60/bf/bf05b881c1869ec4e1274a6059f663af1148925c5de1a688d8\n",
            "Successfully built qgrid\n",
            "Installing collected packages: qgrid\n",
            "Successfully installed qgrid-1.3.1\n"
          ],
          "name": "stdout"
        }
      ]
    },
    {
      "cell_type": "code",
      "metadata": {
        "id": "whole-pension"
      },
      "source": [
        "import sklearn.metrics\n",
        "from sklearn.metrics import classification_report\n",
        "from qgrid import show_grid"
      ],
      "id": "whole-pension",
      "execution_count": null,
      "outputs": []
    },
    {
      "cell_type": "code",
      "metadata": {
        "id": "toxic-judges"
      },
      "source": [
        "from sklearn.model_selection import GridSearchCV\n",
        "\n",
        "def crossvalidation_report_df(grid_cv): \n",
        "    \"\"\"Convenience function to check the exploration of grid search.\n",
        "\n",
        "    Creates a simple dataframe that reports the results of a \n",
        "    cros-validation experiment. The input grid_cv must be fit. \n",
        "    \n",
        "    Returns a dataframe, sorted by rank of experiment. \n",
        "    \"\"\"\n",
        "    # pick columns that define each experiment (start with param)\n",
        "    # and the columns that report mean_test and rank_test results\n",
        "    cols = [c for c in grid_cv.cv_results_ if (c.startswith('param') or \n",
        "                                               c in ['mean_test_score', 'rank_test_score'])]\n",
        "\n",
        "    # sort original df by rank, and select columns\n",
        "    return pd.DataFrame(grid_cv.cv_results_).sort_values(by='rank_test_score')[cols]"
      ],
      "id": "toxic-judges",
      "execution_count": null,
      "outputs": []
    },
    {
      "cell_type": "code",
      "metadata": {
        "id": "complex-edition"
      },
      "source": [
        "from sklearn.pipeline import Pipeline\n",
        "from sklearn.linear_model import SGDClassifier\n",
        "\n",
        "# this defines the base sklearn pipeline we want to tune\n",
        "sgd_grid_estimator = Pipeline([\n",
        "    ('vect', CountVectorizer()),\n",
        "    ('tfidf', TfidfTransformer(use_idf=True)),\n",
        "    ('clf', SGDClassifier(loss='hinge', penalty='l2', random_state=42, max_iter=100, tol=None)),\n",
        "])\n",
        "\n",
        "'''this defines the configurations. We can play around with different hyperparameters \n",
        "until we find those that perform best. We will be comparing 12 different models for each class.'''\n",
        "sgd_grid_parameters = {\n",
        "    'vect__ngram_range': [(1, 1), (1, 2), (1,3)],\n",
        "    'clf__alpha': (1e-4, 1e-5, 1e-6, 1e-7)\n",
        "}\n",
        "\n",
        "sgd_grid_science = GridSearchCV(sgd_grid_estimator, sgd_grid_parameters, verbose=1)\n",
        "sgd_grid_sports = GridSearchCV(sgd_grid_estimator, sgd_grid_parameters, verbose=1)\n",
        "sgd_grid_world = GridSearchCV(sgd_grid_estimator, sgd_grid_parameters, verbose=1)\n",
        "sgd_grid_business = GridSearchCV(sgd_grid_estimator, sgd_grid_parameters, verbose=1)\n",
        "sgd_grid = GridSearchCV(sgd_grid_estimator, sgd_grid_parameters, verbose=1)"
      ],
      "id": "complex-edition",
      "execution_count": null,
      "outputs": []
    },
    {
      "cell_type": "markdown",
      "metadata": {
        "id": "refined-savannah"
      },
      "source": [
        "### Science Binary Classifier"
      ],
      "id": "refined-savannah"
    },
    {
      "cell_type": "code",
      "metadata": {
        "colab": {
          "base_uri": "https://localhost:8080/"
        },
        "id": "basic-paragraph",
        "outputId": "586814cd-3a8d-48ef-cc5c-01d150fca7fd"
      },
      "source": [
        "'''\n",
        "Now we are going to train a binary classification model for each of the 4 classes of the AG News, starting with the \n",
        "class \"scicence\". This fitts 5 folds for each of the 12 candidates, totalling 60 fits, and finds the best \n",
        "performing fit.'''\n",
        "sgd_grid_science.fit(train.text, train.science_int)"
      ],
      "id": "basic-paragraph",
      "execution_count": null,
      "outputs": [
        {
          "output_type": "stream",
          "text": [
            "Fitting 5 folds for each of 12 candidates, totalling 60 fits\n"
          ],
          "name": "stdout"
        },
        {
          "output_type": "stream",
          "text": [
            "[Parallel(n_jobs=1)]: Using backend SequentialBackend with 1 concurrent workers.\n",
            "[Parallel(n_jobs=1)]: Done  60 out of  60 | elapsed: 18.2min finished\n"
          ],
          "name": "stderr"
        },
        {
          "output_type": "execute_result",
          "data": {
            "text/plain": [
              "GridSearchCV(cv=None, error_score=nan,\n",
              "             estimator=Pipeline(memory=None,\n",
              "                                steps=[('vect',\n",
              "                                        CountVectorizer(analyzer='word',\n",
              "                                                        binary=False,\n",
              "                                                        decode_error='strict',\n",
              "                                                        dtype=<class 'numpy.int64'>,\n",
              "                                                        encoding='utf-8',\n",
              "                                                        input='content',\n",
              "                                                        lowercase=True,\n",
              "                                                        max_df=1.0,\n",
              "                                                        max_features=None,\n",
              "                                                        min_df=1,\n",
              "                                                        ngram_range=(1, 1),\n",
              "                                                        preprocessor=None,\n",
              "                                                        stop_words=None,\n",
              "                                                        strip_accents=None,\n",
              "                                                        token_pattern='(...\n",
              "                                                      n_iter_no_change=5,\n",
              "                                                      n_jobs=None, penalty='l2',\n",
              "                                                      power_t=0.5,\n",
              "                                                      random_state=42,\n",
              "                                                      shuffle=True, tol=None,\n",
              "                                                      validation_fraction=0.1,\n",
              "                                                      verbose=0,\n",
              "                                                      warm_start=False))],\n",
              "                                verbose=False),\n",
              "             iid='deprecated', n_jobs=None,\n",
              "             param_grid={'clf__alpha': (0.001, 1e-06, 1e-09, 1e-12),\n",
              "                         'vect__ngram_range': [(1, 1), (1, 2), (1, 3)]},\n",
              "             pre_dispatch='2*n_jobs', refit=True, return_train_score=False,\n",
              "             scoring=None, verbose=1)"
            ]
          },
          "metadata": {
            "tags": []
          },
          "execution_count": 18
        }
      ]
    },
    {
      "cell_type": "code",
      "metadata": {
        "colab": {
          "base_uri": "https://localhost:8080/",
          "height": 625
        },
        "id": "important-night",
        "outputId": "2cac0ca3-e7e2-4bf5-f516-c7a6c7a1191d"
      },
      "source": [
        "'''We rank the fits by mean test score. The best working fit seems to be alpha 1e-6 and n-gram range of up to 3 words.\n",
        "Alpha 1e-3 performs significally worse than the rest.'''\n",
        "crossvalidation_report_df(sgd_grid_science)"
      ],
      "id": "important-night",
      "execution_count": null,
      "outputs": [
        {
          "output_type": "execute_result",
          "data": {
            "text/html": [
              "<div>\n",
              "<style scoped>\n",
              "    .dataframe tbody tr th:only-of-type {\n",
              "        vertical-align: middle;\n",
              "    }\n",
              "\n",
              "    .dataframe tbody tr th {\n",
              "        vertical-align: top;\n",
              "    }\n",
              "\n",
              "    .dataframe thead th {\n",
              "        text-align: right;\n",
              "    }\n",
              "</style>\n",
              "<table border=\"1\" class=\"dataframe\">\n",
              "  <thead>\n",
              "    <tr style=\"text-align: right;\">\n",
              "      <th></th>\n",
              "      <th>param_clf__alpha</th>\n",
              "      <th>param_vect__ngram_range</th>\n",
              "      <th>params</th>\n",
              "      <th>mean_test_score</th>\n",
              "      <th>rank_test_score</th>\n",
              "    </tr>\n",
              "  </thead>\n",
              "  <tbody>\n",
              "    <tr>\n",
              "      <th>5</th>\n",
              "      <td>1e-06</td>\n",
              "      <td>(1, 3)</td>\n",
              "      <td>{'clf__alpha': 1e-06, 'vect__ngram_range': (1,...</td>\n",
              "      <td>0.942181</td>\n",
              "      <td>1</td>\n",
              "    </tr>\n",
              "    <tr>\n",
              "      <th>4</th>\n",
              "      <td>1e-06</td>\n",
              "      <td>(1, 2)</td>\n",
              "      <td>{'clf__alpha': 1e-06, 'vect__ngram_range': (1,...</td>\n",
              "      <td>0.940327</td>\n",
              "      <td>2</td>\n",
              "    </tr>\n",
              "    <tr>\n",
              "      <th>8</th>\n",
              "      <td>1e-09</td>\n",
              "      <td>(1, 3)</td>\n",
              "      <td>{'clf__alpha': 1e-09, 'vect__ngram_range': (1,...</td>\n",
              "      <td>0.935690</td>\n",
              "      <td>3</td>\n",
              "    </tr>\n",
              "    <tr>\n",
              "      <th>11</th>\n",
              "      <td>1e-12</td>\n",
              "      <td>(1, 3)</td>\n",
              "      <td>{'clf__alpha': 1e-12, 'vect__ngram_range': (1,...</td>\n",
              "      <td>0.935009</td>\n",
              "      <td>4</td>\n",
              "    </tr>\n",
              "    <tr>\n",
              "      <th>7</th>\n",
              "      <td>1e-09</td>\n",
              "      <td>(1, 2)</td>\n",
              "      <td>{'clf__alpha': 1e-09, 'vect__ngram_range': (1,...</td>\n",
              "      <td>0.932999</td>\n",
              "      <td>5</td>\n",
              "    </tr>\n",
              "    <tr>\n",
              "      <th>10</th>\n",
              "      <td>1e-12</td>\n",
              "      <td>(1, 2)</td>\n",
              "      <td>{'clf__alpha': 1e-12, 'vect__ngram_range': (1,...</td>\n",
              "      <td>0.932745</td>\n",
              "      <td>6</td>\n",
              "    </tr>\n",
              "    <tr>\n",
              "      <th>3</th>\n",
              "      <td>1e-06</td>\n",
              "      <td>(1, 1)</td>\n",
              "      <td>{'clf__alpha': 1e-06, 'vect__ngram_range': (1,...</td>\n",
              "      <td>0.926354</td>\n",
              "      <td>7</td>\n",
              "    </tr>\n",
              "    <tr>\n",
              "      <th>6</th>\n",
              "      <td>1e-09</td>\n",
              "      <td>(1, 1)</td>\n",
              "      <td>{'clf__alpha': 1e-09, 'vect__ngram_range': (1,...</td>\n",
              "      <td>0.903808</td>\n",
              "      <td>8</td>\n",
              "    </tr>\n",
              "    <tr>\n",
              "      <th>9</th>\n",
              "      <td>1e-12</td>\n",
              "      <td>(1, 1)</td>\n",
              "      <td>{'clf__alpha': 1e-12, 'vect__ngram_range': (1,...</td>\n",
              "      <td>0.903435</td>\n",
              "      <td>9</td>\n",
              "    </tr>\n",
              "    <tr>\n",
              "      <th>0</th>\n",
              "      <td>0.001</td>\n",
              "      <td>(1, 1)</td>\n",
              "      <td>{'clf__alpha': 0.001, 'vect__ngram_range': (1,...</td>\n",
              "      <td>0.822726</td>\n",
              "      <td>10</td>\n",
              "    </tr>\n",
              "    <tr>\n",
              "      <th>1</th>\n",
              "      <td>0.001</td>\n",
              "      <td>(1, 2)</td>\n",
              "      <td>{'clf__alpha': 0.001, 'vect__ngram_range': (1,...</td>\n",
              "      <td>0.757498</td>\n",
              "      <td>11</td>\n",
              "    </tr>\n",
              "    <tr>\n",
              "      <th>2</th>\n",
              "      <td>0.001</td>\n",
              "      <td>(1, 3)</td>\n",
              "      <td>{'clf__alpha': 0.001, 'vect__ngram_range': (1,...</td>\n",
              "      <td>0.753670</td>\n",
              "      <td>12</td>\n",
              "    </tr>\n",
              "  </tbody>\n",
              "</table>\n",
              "</div>"
            ],
            "text/plain": [
              "   param_clf__alpha param_vect__ngram_range  ... mean_test_score  rank_test_score\n",
              "5             1e-06                  (1, 3)  ...        0.942181                1\n",
              "4             1e-06                  (1, 2)  ...        0.940327                2\n",
              "8             1e-09                  (1, 3)  ...        0.935690                3\n",
              "11            1e-12                  (1, 3)  ...        0.935009                4\n",
              "7             1e-09                  (1, 2)  ...        0.932999                5\n",
              "10            1e-12                  (1, 2)  ...        0.932745                6\n",
              "3             1e-06                  (1, 1)  ...        0.926354                7\n",
              "6             1e-09                  (1, 1)  ...        0.903808                8\n",
              "9             1e-12                  (1, 1)  ...        0.903435                9\n",
              "0             0.001                  (1, 1)  ...        0.822726               10\n",
              "1             0.001                  (1, 2)  ...        0.757498               11\n",
              "2             0.001                  (1, 3)  ...        0.753670               12\n",
              "\n",
              "[12 rows x 5 columns]"
            ]
          },
          "metadata": {
            "tags": []
          },
          "execution_count": 19
        }
      ]
    },
    {
      "cell_type": "code",
      "metadata": {
        "colab": {
          "base_uri": "https://localhost:8080/"
        },
        "id": "buried-requirement",
        "outputId": "04326fd1-d2d5-44a2-dc44-8e005e8e20d7"
      },
      "source": [
        "'''We select and evaluate the best fit on the test data using accuracy, precision and recall.\n",
        "The model performs well. Precision and recall are balanced. \n",
        "It performs better on the negative class (not science). \n",
        "This is expected, as the dataset is imbalanced. It contains 3 times more non-scientific texts \n",
        "than scientific texts.'''\n",
        "sgd_best = sgd_grid_science.best_estimator_\n",
        "print('BEST PARAMS:', sgd_grid_science.best_params_)\n",
        "print(classification_report(test.science_int, \n",
        "                            sgd_best.predict(test.text), \n",
        "                            target_names=['negative', 'positive']))"
      ],
      "id": "buried-requirement",
      "execution_count": null,
      "outputs": [
        {
          "output_type": "stream",
          "text": [
            "BEST PARAMS: {'clf__alpha': 1e-06, 'vect__ngram_range': (1, 3)}\n",
            "              precision    recall  f1-score   support\n",
            "\n",
            "    negative       0.96      0.96      0.96      7463\n",
            "    positive       0.89      0.88      0.88      2537\n",
            "\n",
            "    accuracy                           0.94     10000\n",
            "   macro avg       0.92      0.92      0.92     10000\n",
            "weighted avg       0.94      0.94      0.94     10000\n",
            "\n"
          ],
          "name": "stdout"
        }
      ]
    },
    {
      "cell_type": "code",
      "metadata": {
        "id": "permanent-brand"
      },
      "source": [
        "'''We define a function to sort words by weights to see what words are most and least associated \n",
        "with scientific articles.'''\n",
        "def sort_feature_weights(sk_pipe, fkey='vect', wkey='clf',i=0):\n",
        "    F = sk_pipe[fkey].get_feature_names()\n",
        "    W = sk_pipe[wkey].coef_[i]\n",
        "    return sorted(zip(F, W), key=lambda fw: fw[1])"
      ],
      "id": "permanent-brand",
      "execution_count": null,
      "outputs": []
    },
    {
      "cell_type": "code",
      "metadata": {
        "colab": {
          "base_uri": "https://localhost:8080/"
        },
        "id": "destroyed-illness",
        "outputId": "85c7c3d0-1152-4ce5-c93d-a66ae61c452c"
      },
      "source": [
        "'''The worlds below are most associated with scientific articles.\n",
        "All the words identified are logically related to science.'''\n",
        "science_best_weights = sort_feature_weights(sgd_best, i=0)\n",
        "science_best_weights = sorted(science_best_weights, key=lambda fw: fw[1], reverse=True)\n",
        "print('Model weights associated with science articles')\n",
        "science_best_weights[:20]"
      ],
      "id": "destroyed-illness",
      "execution_count": null,
      "outputs": [
        {
          "output_type": "stream",
          "text": [
            "Model weights associated with science articles\n"
          ],
          "name": "stdout"
        },
        {
          "output_type": "execute_result",
          "data": {
            "text/plain": [
              "[('space', 6.972020305040656),\n",
              " ('nasa', 6.179498853227548),\n",
              " ('ap', 5.7653529529006535),\n",
              " ('software', 5.622390981053731),\n",
              " ('internet', 5.58180773499295),\n",
              " ('scientists', 5.276840142752125),\n",
              " ('apple', 5.081326025352972),\n",
              " ('washingtonpost com', 4.932115143073133),\n",
              " ('linux', 4.86421991498195),\n",
              " ('microsoft', 4.813672429660281),\n",
              " ('washingtonpost', 4.765994811189612),\n",
              " ('web', 4.72717185379651),\n",
              " ('reuters', 4.554448317728398),\n",
              " ('online', 4.517296469892175),\n",
              " ('com', 4.507327626459249),\n",
              " ('computer', 4.273914072157427),\n",
              " ('science', 4.171190849282465),\n",
              " ('technology', 4.134804864225583),\n",
              " ('researchers', 3.8215106047691636),\n",
              " ('spam', 3.8081190992356833)]"
            ]
          },
          "metadata": {
            "tags": []
          },
          "execution_count": 22
        }
      ]
    },
    {
      "cell_type": "code",
      "metadata": {
        "colab": {
          "base_uri": "https://localhost:8080/"
        },
        "id": "stone-accessory",
        "outputId": "aefb0d20-2281-4279-aadc-e48c2fcb08b0"
      },
      "source": [
        "print('Model weights least associated with science articles')\n",
        "science_best_weights[-20:]"
      ],
      "id": "stone-accessory",
      "execution_count": null,
      "outputs": [
        {
          "output_type": "stream",
          "text": [
            "Model weights least associated with science articles\n"
          ],
          "name": "stdout"
        },
        {
          "output_type": "execute_result",
          "data": {
            "text/plain": [
              "[('seattle', -2.549968897771642),\n",
              " ('economic', -2.5551194790483382),\n",
              " ('sbc', -2.564946459898931),\n",
              " ('president', -2.6477741046993537),\n",
              " ('economy', -2.6702023332389104),\n",
              " ('us', -2.712888052571279),\n",
              " ('cup', -2.716520423210864),\n",
              " ('oil', -2.726175789844483),\n",
              " ('his', -2.733506017831803),\n",
              " ('toronto', -2.735568687100355),\n",
              " ('stocks', -2.753429933041969),\n",
              " ('saturday', -2.7761079893947485),\n",
              " ('sunday', -3.0263704670498925),\n",
              " ('new york', -3.1607744919108125),\n",
              " ('york', -3.2036393281031943),\n",
              " ('iraq', -3.2302278958749238),\n",
              " ('football', -3.2604423961030666),\n",
              " ('coach', -3.3284309900532754),\n",
              " ('yesterday', -4.014380153352625),\n",
              " ('hellip', -4.204872184506804)]"
            ]
          },
          "metadata": {
            "tags": []
          },
          "execution_count": 23
        }
      ]
    },
    {
      "cell_type": "markdown",
      "metadata": {
        "id": "three-arrangement"
      },
      "source": [
        "### Sports Binary Classifier"
      ],
      "id": "three-arrangement"
    },
    {
      "cell_type": "code",
      "metadata": {
        "colab": {
          "base_uri": "https://localhost:8080/"
        },
        "id": "bibliographic-marine",
        "outputId": "333c27a2-a432-4660-c207-b9e893084bd8"
      },
      "source": [
        "sgd_grid_sports.fit(train.text, train.sports_int)"
      ],
      "id": "bibliographic-marine",
      "execution_count": null,
      "outputs": [
        {
          "output_type": "stream",
          "text": [
            "Fitting 5 folds for each of 12 candidates, totalling 60 fits\n"
          ],
          "name": "stdout"
        },
        {
          "output_type": "stream",
          "text": [
            "[Parallel(n_jobs=1)]: Using backend SequentialBackend with 1 concurrent workers.\n",
            "[Parallel(n_jobs=1)]: Done  60 out of  60 | elapsed: 23.7min finished\n"
          ],
          "name": "stderr"
        },
        {
          "output_type": "execute_result",
          "data": {
            "text/plain": [
              "GridSearchCV(cv=None, error_score=nan,\n",
              "             estimator=Pipeline(memory=None,\n",
              "                                steps=[('vect',\n",
              "                                        CountVectorizer(analyzer='word',\n",
              "                                                        binary=False,\n",
              "                                                        decode_error='strict',\n",
              "                                                        dtype=<class 'numpy.int64'>,\n",
              "                                                        encoding='utf-8',\n",
              "                                                        input='content',\n",
              "                                                        lowercase=True,\n",
              "                                                        max_df=1.0,\n",
              "                                                        max_features=None,\n",
              "                                                        min_df=1,\n",
              "                                                        ngram_range=(1, 1),\n",
              "                                                        preprocessor=None,\n",
              "                                                        stop_words=None,\n",
              "                                                        strip_accents=None,\n",
              "                                                        token_pattern='(...\n",
              "                                                      n_iter_no_change=5,\n",
              "                                                      n_jobs=None, penalty='l2',\n",
              "                                                      power_t=0.5,\n",
              "                                                      random_state=42,\n",
              "                                                      shuffle=True, tol=None,\n",
              "                                                      validation_fraction=0.1,\n",
              "                                                      verbose=0,\n",
              "                                                      warm_start=False))],\n",
              "                                verbose=False),\n",
              "             iid='deprecated', n_jobs=None,\n",
              "             param_grid={'clf__alpha': (0.0001, 1e-05, 1e-06, 1e-07),\n",
              "                         'vect__ngram_range': [(1, 1), (1, 2), (1, 3)]},\n",
              "             pre_dispatch='2*n_jobs', refit=True, return_train_score=False,\n",
              "             scoring=None, verbose=1)"
            ]
          },
          "metadata": {
            "tags": []
          },
          "execution_count": 77
        }
      ]
    },
    {
      "cell_type": "code",
      "metadata": {
        "colab": {
          "base_uri": "https://localhost:8080/",
          "height": 625
        },
        "id": "spectacular-duplicate",
        "outputId": "18f95204-8da3-48c5-b135-4b08a0d4c908"
      },
      "source": [
        "crossvalidation_report_df(sgd_grid_sports)"
      ],
      "id": "spectacular-duplicate",
      "execution_count": null,
      "outputs": [
        {
          "output_type": "execute_result",
          "data": {
            "text/html": [
              "<div>\n",
              "<style scoped>\n",
              "    .dataframe tbody tr th:only-of-type {\n",
              "        vertical-align: middle;\n",
              "    }\n",
              "\n",
              "    .dataframe tbody tr th {\n",
              "        vertical-align: top;\n",
              "    }\n",
              "\n",
              "    .dataframe thead th {\n",
              "        text-align: right;\n",
              "    }\n",
              "</style>\n",
              "<table border=\"1\" class=\"dataframe\">\n",
              "  <thead>\n",
              "    <tr style=\"text-align: right;\">\n",
              "      <th></th>\n",
              "      <th>param_clf__alpha</th>\n",
              "      <th>param_vect__ngram_range</th>\n",
              "      <th>params</th>\n",
              "      <th>mean_test_score</th>\n",
              "      <th>rank_test_score</th>\n",
              "    </tr>\n",
              "  </thead>\n",
              "  <tbody>\n",
              "    <tr>\n",
              "      <th>4</th>\n",
              "      <td>1e-05</td>\n",
              "      <td>(1, 2)</td>\n",
              "      <td>{'clf__alpha': 1e-05, 'vect__ngram_range': (1,...</td>\n",
              "      <td>0.983718</td>\n",
              "      <td>1</td>\n",
              "    </tr>\n",
              "    <tr>\n",
              "      <th>5</th>\n",
              "      <td>1e-05</td>\n",
              "      <td>(1, 3)</td>\n",
              "      <td>{'clf__alpha': 1e-05, 'vect__ngram_range': (1,...</td>\n",
              "      <td>0.983045</td>\n",
              "      <td>2</td>\n",
              "    </tr>\n",
              "    <tr>\n",
              "      <th>3</th>\n",
              "      <td>1e-05</td>\n",
              "      <td>(1, 1)</td>\n",
              "      <td>{'clf__alpha': 1e-05, 'vect__ngram_range': (1,...</td>\n",
              "      <td>0.982700</td>\n",
              "      <td>3</td>\n",
              "    </tr>\n",
              "    <tr>\n",
              "      <th>8</th>\n",
              "      <td>1e-06</td>\n",
              "      <td>(1, 3)</td>\n",
              "      <td>{'clf__alpha': 1e-06, 'vect__ngram_range': (1,...</td>\n",
              "      <td>0.982236</td>\n",
              "      <td>4</td>\n",
              "    </tr>\n",
              "    <tr>\n",
              "      <th>7</th>\n",
              "      <td>1e-06</td>\n",
              "      <td>(1, 2)</td>\n",
              "      <td>{'clf__alpha': 1e-06, 'vect__ngram_range': (1,...</td>\n",
              "      <td>0.981982</td>\n",
              "      <td>5</td>\n",
              "    </tr>\n",
              "    <tr>\n",
              "      <th>11</th>\n",
              "      <td>1e-07</td>\n",
              "      <td>(1, 3)</td>\n",
              "      <td>{'clf__alpha': 1e-07, 'vect__ngram_range': (1,...</td>\n",
              "      <td>0.981663</td>\n",
              "      <td>6</td>\n",
              "    </tr>\n",
              "    <tr>\n",
              "      <th>10</th>\n",
              "      <td>1e-07</td>\n",
              "      <td>(1, 2)</td>\n",
              "      <td>{'clf__alpha': 1e-07, 'vect__ngram_range': (1,...</td>\n",
              "      <td>0.981073</td>\n",
              "      <td>7</td>\n",
              "    </tr>\n",
              "    <tr>\n",
              "      <th>6</th>\n",
              "      <td>1e-06</td>\n",
              "      <td>(1, 1)</td>\n",
              "      <td>{'clf__alpha': 1e-06, 'vect__ngram_range': (1,...</td>\n",
              "      <td>0.975718</td>\n",
              "      <td>8</td>\n",
              "    </tr>\n",
              "    <tr>\n",
              "      <th>0</th>\n",
              "      <td>0.0001</td>\n",
              "      <td>(1, 1)</td>\n",
              "      <td>{'clf__alpha': 0.0001, 'vect__ngram_range': (1...</td>\n",
              "      <td>0.975582</td>\n",
              "      <td>9</td>\n",
              "    </tr>\n",
              "    <tr>\n",
              "      <th>1</th>\n",
              "      <td>0.0001</td>\n",
              "      <td>(1, 2)</td>\n",
              "      <td>{'clf__alpha': 0.0001, 'vect__ngram_range': (1...</td>\n",
              "      <td>0.972191</td>\n",
              "      <td>10</td>\n",
              "    </tr>\n",
              "    <tr>\n",
              "      <th>9</th>\n",
              "      <td>1e-07</td>\n",
              "      <td>(1, 1)</td>\n",
              "      <td>{'clf__alpha': 1e-07, 'vect__ngram_range': (1,...</td>\n",
              "      <td>0.970082</td>\n",
              "      <td>11</td>\n",
              "    </tr>\n",
              "    <tr>\n",
              "      <th>2</th>\n",
              "      <td>0.0001</td>\n",
              "      <td>(1, 3)</td>\n",
              "      <td>{'clf__alpha': 0.0001, 'vect__ngram_range': (1...</td>\n",
              "      <td>0.969263</td>\n",
              "      <td>12</td>\n",
              "    </tr>\n",
              "  </tbody>\n",
              "</table>\n",
              "</div>"
            ],
            "text/plain": [
              "   param_clf__alpha param_vect__ngram_range  ... mean_test_score  rank_test_score\n",
              "4             1e-05                  (1, 2)  ...        0.983718                1\n",
              "5             1e-05                  (1, 3)  ...        0.983045                2\n",
              "3             1e-05                  (1, 1)  ...        0.982700                3\n",
              "8             1e-06                  (1, 3)  ...        0.982236                4\n",
              "7             1e-06                  (1, 2)  ...        0.981982                5\n",
              "11            1e-07                  (1, 3)  ...        0.981663                6\n",
              "10            1e-07                  (1, 2)  ...        0.981073                7\n",
              "6             1e-06                  (1, 1)  ...        0.975718                8\n",
              "0            0.0001                  (1, 1)  ...        0.975582                9\n",
              "1            0.0001                  (1, 2)  ...        0.972191               10\n",
              "9             1e-07                  (1, 1)  ...        0.970082               11\n",
              "2            0.0001                  (1, 3)  ...        0.969263               12\n",
              "\n",
              "[12 rows x 5 columns]"
            ]
          },
          "metadata": {
            "tags": []
          },
          "execution_count": 78
        }
      ]
    },
    {
      "cell_type": "code",
      "metadata": {
        "colab": {
          "base_uri": "https://localhost:8080/"
        },
        "id": "_gDYXuLXB9nn",
        "outputId": "6b2bff4a-1334-4c19-d2ca-152c3ea4e84e"
      },
      "source": [
        "sgd_best = sgd_grid_sports.best_estimator_\n",
        "print('BEST PARAMS:', sgd_grid_sports.best_params_)\n",
        "# eval\n",
        "print(classification_report(test.sports_int, \n",
        "                            sgd_best.predict(test.text), \n",
        "                            target_names=['negative', 'positive']))"
      ],
      "id": "_gDYXuLXB9nn",
      "execution_count": null,
      "outputs": [
        {
          "output_type": "stream",
          "text": [
            "BEST PARAMS: {'clf__alpha': 1e-05, 'vect__ngram_range': (1, 2)}\n",
            "              precision    recall  f1-score   support\n",
            "\n",
            "    negative       0.99      0.99      0.99      7542\n",
            "    positive       0.96      0.98      0.97      2458\n",
            "\n",
            "    accuracy                           0.99     10000\n",
            "   macro avg       0.98      0.98      0.98     10000\n",
            "weighted avg       0.99      0.99      0.99     10000\n",
            "\n"
          ],
          "name": "stdout"
        }
      ]
    },
    {
      "cell_type": "code",
      "metadata": {
        "colab": {
          "base_uri": "https://localhost:8080/"
        },
        "id": "H0krZhYVCSWD",
        "outputId": "8b166808-405c-41ee-ce31-9312013d6c08"
      },
      "source": [
        "sports_best_weights = sort_feature_weights(sgd_best, i=0)\n",
        "sports_best_weights = sorted(sports_best_weights, key=lambda fw: fw[1], reverse=True)\n",
        "print('Model weights associated with sports articles')\n",
        "sports_best_weights[:20]"
      ],
      "id": "H0krZhYVCSWD",
      "execution_count": null,
      "outputs": [
        {
          "output_type": "stream",
          "text": [
            "Model weights associated with sports articles\n"
          ],
          "name": "stdout"
        },
        {
          "output_type": "execute_result",
          "data": {
            "text/plain": [
              "[('coach', 5.683228411976702),\n",
              " ('football', 5.4726343411208935),\n",
              " ('baseball', 5.176027459782883),\n",
              " ('cup', 5.042013294499793),\n",
              " ('team', 4.713192402959097),\n",
              " ('olympic', 4.6654597236030835),\n",
              " ('sports', 4.392641146686983),\n",
              " ('stadium', 4.070172883474322),\n",
              " ('cricket', 4.018975659463687),\n",
              " ('olympics', 3.9450180336290757),\n",
              " ('league', 3.932128326035872),\n",
              " ('season', 3.931762447854535),\n",
              " ('teams', 3.720427540877217),\n",
              " ('players', 3.634524971676115),\n",
              " ('basketball', 3.5995070111786056),\n",
              " ('nascar', 3.5576392981157614),\n",
              " ('nhl', 3.366562744533813),\n",
              " ('championship', 3.280358014655712),\n",
              " ('quarterback', 3.2417336774504437),\n",
              " ('nfl', 3.144192920423137)]"
            ]
          },
          "metadata": {
            "tags": []
          },
          "execution_count": 80
        }
      ]
    },
    {
      "cell_type": "code",
      "metadata": {
        "colab": {
          "base_uri": "https://localhost:8080/"
        },
        "id": "OxqUAXYkCSp3",
        "outputId": "4bb2f93b-ff65-4c26-a6fd-ce64b28ff151"
      },
      "source": [
        "print('Model weights least associated with sports articles')\n",
        "sports_best_weights[-20:]"
      ],
      "id": "OxqUAXYkCSp3",
      "execution_count": null,
      "outputs": [
        {
          "output_type": "stream",
          "text": [
            "Model weights least associated with sports articles\n"
          ],
          "name": "stdout"
        },
        {
          "output_type": "execute_result",
          "data": {
            "text/plain": [
              "[('minister', -2.180424341747086),\n",
              " ('industry', -2.1828684542986356),\n",
              " ('business', -2.2166715239439276),\n",
              " ('scientists', -2.2610776286736556),\n",
              " ('software', -2.2655744641458115),\n",
              " ('market', -2.272661484465743),\n",
              " ('video', -2.276341649212847),\n",
              " ('government', -2.294909016977513),\n",
              " ('iraq', -2.3807308148355646),\n",
              " ('music', -2.4067280146710806),\n",
              " ('election', -2.415644862037754),\n",
              " ('presidential', -2.4694211263111385),\n",
              " ('microsoft', -2.582944977560182),\n",
              " ('technology', -2.5915383671383037),\n",
              " ('computer', -2.6703366672545594),\n",
              " ('athens greece', -2.7300296174643464),\n",
              " ('space', -2.754015410762396),\n",
              " ('company', -2.8735354130807633),\n",
              " ('president', -3.0837884363464854),\n",
              " ('afp', -5.045503467937966)]"
            ]
          },
          "metadata": {
            "tags": []
          },
          "execution_count": 81
        }
      ]
    },
    {
      "cell_type": "markdown",
      "metadata": {
        "id": "aansA8lYCxho"
      },
      "source": [
        "### World Binary Classifier"
      ],
      "id": "aansA8lYCxho"
    },
    {
      "cell_type": "code",
      "metadata": {
        "colab": {
          "base_uri": "https://localhost:8080/"
        },
        "id": "PZPij1ooDk23",
        "outputId": "ff05ec32-7b66-486e-98f6-b25cf2c368ac"
      },
      "source": [
        "sgd_grid_world.fit(train.text, train.world_int)"
      ],
      "id": "PZPij1ooDk23",
      "execution_count": null,
      "outputs": [
        {
          "output_type": "stream",
          "text": [
            "Fitting 5 folds for each of 12 candidates, totalling 60 fits\n"
          ],
          "name": "stdout"
        },
        {
          "output_type": "stream",
          "text": [
            "[Parallel(n_jobs=1)]: Using backend SequentialBackend with 1 concurrent workers.\n",
            "[Parallel(n_jobs=1)]: Done  60 out of  60 | elapsed: 17.0min finished\n"
          ],
          "name": "stderr"
        },
        {
          "output_type": "execute_result",
          "data": {
            "text/plain": [
              "GridSearchCV(cv=None, error_score=nan,\n",
              "             estimator=Pipeline(memory=None,\n",
              "                                steps=[('vect',\n",
              "                                        CountVectorizer(analyzer='word',\n",
              "                                                        binary=False,\n",
              "                                                        decode_error='strict',\n",
              "                                                        dtype=<class 'numpy.int64'>,\n",
              "                                                        encoding='utf-8',\n",
              "                                                        input='content',\n",
              "                                                        lowercase=True,\n",
              "                                                        max_df=1.0,\n",
              "                                                        max_features=None,\n",
              "                                                        min_df=1,\n",
              "                                                        ngram_range=(1, 1),\n",
              "                                                        preprocessor=None,\n",
              "                                                        stop_words=None,\n",
              "                                                        strip_accents=None,\n",
              "                                                        token_pattern='(...\n",
              "                                                      n_iter_no_change=5,\n",
              "                                                      n_jobs=None, penalty='l2',\n",
              "                                                      power_t=0.5,\n",
              "                                                      random_state=42,\n",
              "                                                      shuffle=True, tol=None,\n",
              "                                                      validation_fraction=0.1,\n",
              "                                                      verbose=0,\n",
              "                                                      warm_start=False))],\n",
              "                                verbose=False),\n",
              "             iid='deprecated', n_jobs=None,\n",
              "             param_grid={'clf__alpha': (0.001, 1e-06, 1e-09, 1e-12),\n",
              "                         'vect__ngram_range': [(1, 1), (1, 2), (1, 3)]},\n",
              "             pre_dispatch='2*n_jobs', refit=True, return_train_score=False,\n",
              "             scoring=None, verbose=1)"
            ]
          },
          "metadata": {
            "tags": []
          },
          "execution_count": 32
        }
      ]
    },
    {
      "cell_type": "code",
      "metadata": {
        "colab": {
          "base_uri": "https://localhost:8080/",
          "height": 625
        },
        "id": "xM-5ht2jDkyd",
        "outputId": "6a8e78d8-b0c4-48fd-a090-7cce67d365d2"
      },
      "source": [
        "crossvalidation_report_df(sgd_grid_world)"
      ],
      "id": "xM-5ht2jDkyd",
      "execution_count": null,
      "outputs": [
        {
          "output_type": "execute_result",
          "data": {
            "text/html": [
              "<div>\n",
              "<style scoped>\n",
              "    .dataframe tbody tr th:only-of-type {\n",
              "        vertical-align: middle;\n",
              "    }\n",
              "\n",
              "    .dataframe tbody tr th {\n",
              "        vertical-align: top;\n",
              "    }\n",
              "\n",
              "    .dataframe thead th {\n",
              "        text-align: right;\n",
              "    }\n",
              "</style>\n",
              "<table border=\"1\" class=\"dataframe\">\n",
              "  <thead>\n",
              "    <tr style=\"text-align: right;\">\n",
              "      <th></th>\n",
              "      <th>param_clf__alpha</th>\n",
              "      <th>param_vect__ngram_range</th>\n",
              "      <th>params</th>\n",
              "      <th>mean_test_score</th>\n",
              "      <th>rank_test_score</th>\n",
              "    </tr>\n",
              "  </thead>\n",
              "  <tbody>\n",
              "    <tr>\n",
              "      <th>5</th>\n",
              "      <td>1e-06</td>\n",
              "      <td>(1, 3)</td>\n",
              "      <td>{'clf__alpha': 1e-06, 'vect__ngram_range': (1,...</td>\n",
              "      <td>0.954918</td>\n",
              "      <td>1</td>\n",
              "    </tr>\n",
              "    <tr>\n",
              "      <th>4</th>\n",
              "      <td>1e-06</td>\n",
              "      <td>(1, 2)</td>\n",
              "      <td>{'clf__alpha': 1e-06, 'vect__ngram_range': (1,...</td>\n",
              "      <td>0.953545</td>\n",
              "      <td>2</td>\n",
              "    </tr>\n",
              "    <tr>\n",
              "      <th>8</th>\n",
              "      <td>1e-09</td>\n",
              "      <td>(1, 3)</td>\n",
              "      <td>{'clf__alpha': 1e-09, 'vect__ngram_range': (1,...</td>\n",
              "      <td>0.949754</td>\n",
              "      <td>3</td>\n",
              "    </tr>\n",
              "    <tr>\n",
              "      <th>11</th>\n",
              "      <td>1e-12</td>\n",
              "      <td>(1, 3)</td>\n",
              "      <td>{'clf__alpha': 1e-12, 'vect__ngram_range': (1,...</td>\n",
              "      <td>0.949663</td>\n",
              "      <td>4</td>\n",
              "    </tr>\n",
              "    <tr>\n",
              "      <th>10</th>\n",
              "      <td>1e-12</td>\n",
              "      <td>(1, 2)</td>\n",
              "      <td>{'clf__alpha': 1e-12, 'vect__ngram_range': (1,...</td>\n",
              "      <td>0.947445</td>\n",
              "      <td>5</td>\n",
              "    </tr>\n",
              "    <tr>\n",
              "      <th>7</th>\n",
              "      <td>1e-09</td>\n",
              "      <td>(1, 2)</td>\n",
              "      <td>{'clf__alpha': 1e-09, 'vect__ngram_range': (1,...</td>\n",
              "      <td>0.947027</td>\n",
              "      <td>6</td>\n",
              "    </tr>\n",
              "    <tr>\n",
              "      <th>3</th>\n",
              "      <td>1e-06</td>\n",
              "      <td>(1, 1)</td>\n",
              "      <td>{'clf__alpha': 1e-06, 'vect__ngram_range': (1,...</td>\n",
              "      <td>0.940836</td>\n",
              "      <td>7</td>\n",
              "    </tr>\n",
              "    <tr>\n",
              "      <th>9</th>\n",
              "      <td>1e-12</td>\n",
              "      <td>(1, 1)</td>\n",
              "      <td>{'clf__alpha': 1e-12, 'vect__ngram_range': (1,...</td>\n",
              "      <td>0.921927</td>\n",
              "      <td>8</td>\n",
              "    </tr>\n",
              "    <tr>\n",
              "      <th>6</th>\n",
              "      <td>1e-09</td>\n",
              "      <td>(1, 1)</td>\n",
              "      <td>{'clf__alpha': 1e-09, 'vect__ngram_range': (1,...</td>\n",
              "      <td>0.920963</td>\n",
              "      <td>9</td>\n",
              "    </tr>\n",
              "    <tr>\n",
              "      <th>0</th>\n",
              "      <td>0.001</td>\n",
              "      <td>(1, 1)</td>\n",
              "      <td>{'clf__alpha': 0.001, 'vect__ngram_range': (1,...</td>\n",
              "      <td>0.872781</td>\n",
              "      <td>10</td>\n",
              "    </tr>\n",
              "    <tr>\n",
              "      <th>1</th>\n",
              "      <td>0.001</td>\n",
              "      <td>(1, 2)</td>\n",
              "      <td>{'clf__alpha': 0.001, 'vect__ngram_range': (1,...</td>\n",
              "      <td>0.774543</td>\n",
              "      <td>11</td>\n",
              "    </tr>\n",
              "    <tr>\n",
              "      <th>2</th>\n",
              "      <td>0.001</td>\n",
              "      <td>(1, 3)</td>\n",
              "      <td>{'clf__alpha': 0.001, 'vect__ngram_range': (1,...</td>\n",
              "      <td>0.750616</td>\n",
              "      <td>12</td>\n",
              "    </tr>\n",
              "  </tbody>\n",
              "</table>\n",
              "</div>"
            ],
            "text/plain": [
              "   param_clf__alpha param_vect__ngram_range  ... mean_test_score  rank_test_score\n",
              "5             1e-06                  (1, 3)  ...        0.954918                1\n",
              "4             1e-06                  (1, 2)  ...        0.953545                2\n",
              "8             1e-09                  (1, 3)  ...        0.949754                3\n",
              "11            1e-12                  (1, 3)  ...        0.949663                4\n",
              "10            1e-12                  (1, 2)  ...        0.947445                5\n",
              "7             1e-09                  (1, 2)  ...        0.947027                6\n",
              "3             1e-06                  (1, 1)  ...        0.940836                7\n",
              "9             1e-12                  (1, 1)  ...        0.921927                8\n",
              "6             1e-09                  (1, 1)  ...        0.920963                9\n",
              "0             0.001                  (1, 1)  ...        0.872781               10\n",
              "1             0.001                  (1, 2)  ...        0.774543               11\n",
              "2             0.001                  (1, 3)  ...        0.750616               12\n",
              "\n",
              "[12 rows x 5 columns]"
            ]
          },
          "metadata": {
            "tags": []
          },
          "execution_count": 33
        }
      ]
    },
    {
      "cell_type": "code",
      "metadata": {
        "colab": {
          "base_uri": "https://localhost:8080/"
        },
        "id": "l8CVmgbEKDMx",
        "outputId": "9aec4489-ea0c-4fad-e9c3-63dd7e6d01af"
      },
      "source": [
        "sgd_best = sgd_grid_world.best_estimator_\n",
        "print('BEST PARAMS:', sgd_grid_world.best_params_)\n",
        "# eval\n",
        "print(classification_report(test.world_int, \n",
        "                            sgd_best.predict(test.text), \n",
        "                            target_names=['negative', 'positive']))"
      ],
      "id": "l8CVmgbEKDMx",
      "execution_count": null,
      "outputs": [
        {
          "output_type": "stream",
          "text": [
            "BEST PARAMS: {'clf__alpha': 1e-06, 'vect__ngram_range': (1, 3)}\n",
            "              precision    recall  f1-score   support\n",
            "\n",
            "    negative       0.96      0.97      0.97      7491\n",
            "    positive       0.92      0.89      0.90      2509\n",
            "\n",
            "    accuracy                           0.95     10000\n",
            "   macro avg       0.94      0.93      0.94     10000\n",
            "weighted avg       0.95      0.95      0.95     10000\n",
            "\n"
          ],
          "name": "stdout"
        }
      ]
    },
    {
      "cell_type": "code",
      "metadata": {
        "colab": {
          "base_uri": "https://localhost:8080/"
        },
        "id": "ltItWpqglSBw",
        "outputId": "5e1b9ab0-cb39-4b53-c4a2-77a7021ca905"
      },
      "source": [
        "world_best_weights = sort_feature_weights(sgd_best, i=0)\n",
        "world_best_weights = sorted(world_best_weights, key=lambda fw: fw[1], reverse=True)\n",
        "print('Model weights associated with world articles')\n",
        "world_best_weights[:20]"
      ],
      "id": "ltItWpqglSBw",
      "execution_count": null,
      "outputs": [
        {
          "output_type": "stream",
          "text": [
            "Model weights associated with world articles\n"
          ],
          "name": "stdout"
        },
        {
          "output_type": "execute_result",
          "data": {
            "text/plain": [
              "[('afp', 10.727143660692272),\n",
              " ('canadian press', 7.010475135038961),\n",
              " ('iraq', 6.235173437398892),\n",
              " ('president', 5.535610272160231),\n",
              " ('nuclear', 5.378804353471556),\n",
              " ('military', 5.2416805368432495),\n",
              " ('iraqi', 4.823139953589492),\n",
              " ('athens greece', 4.651846091612188),\n",
              " ('palestinian', 4.63811672614713),\n",
              " ('elections', 4.579864782300327),\n",
              " ('troops', 4.309297230241819),\n",
              " ('iran', 4.284152600887479),\n",
              " ('un', 4.1330062674369685),\n",
              " ('israel', 4.082789051144803),\n",
              " ('peace', 3.9312844752352833),\n",
              " ('baghdad', 3.8415868609697963),\n",
              " ('terrorism', 3.768960160117543),\n",
              " ('ap tokyo', 3.7364536772221983),\n",
              " ('afghanistan', 3.6744497467727606),\n",
              " ('arafat', 3.6650492298401622)]"
            ]
          },
          "metadata": {
            "tags": []
          },
          "execution_count": 35
        }
      ]
    },
    {
      "cell_type": "code",
      "metadata": {
        "colab": {
          "base_uri": "https://localhost:8080/"
        },
        "id": "BxpaIqa4lfMf",
        "outputId": "4b9fafef-49db-43a8-b46f-ff7796724268"
      },
      "source": [
        "print('Model weights least associated with world articles')\n",
        "world_best_weights[-20:]"
      ],
      "id": "BxpaIqa4lfMf",
      "execution_count": null,
      "outputs": [
        {
          "output_type": "stream",
          "text": [
            "Model weights least associated with world articles\n"
          ],
          "name": "stdout"
        },
        {
          "output_type": "execute_result",
          "data": {
            "text/plain": [
              "[('company', -2.4347233492761164),\n",
              " ('game', -2.533493297610319),\n",
              " ('tokyo reuters tokyo', -2.568439379461576),\n",
              " ('team', -2.587366021990277),\n",
              " ('amp', -2.608543393346857),\n",
              " ('football', -2.6225316677135195),\n",
              " ('web', -2.6791456219784915),\n",
              " ('coach', -2.822234754422674),\n",
              " ('new york reuters', -2.826218520240774),\n",
              " ('york reuters', -2.826218520240774),\n",
              " ('cup', -2.8397079028566283),\n",
              " ('computer', -2.9284934078205413),\n",
              " ('ap brazil', -3.1266212965352786),\n",
              " ('online', -3.127272682283846),\n",
              " ('software', -3.2745970616491222),\n",
              " ('microsoft', -3.356730524995677),\n",
              " ('space', -3.5052323946189863),\n",
              " ('tokyo reuters', -4.053599325361613),\n",
              " ('39', -4.082464943468167),\n",
              " ('internet', -4.186820646675609)]"
            ]
          },
          "metadata": {
            "tags": []
          },
          "execution_count": 36
        }
      ]
    },
    {
      "cell_type": "markdown",
      "metadata": {
        "id": "GjesPP43lqDV"
      },
      "source": [
        "### Business Binary Classifier"
      ],
      "id": "GjesPP43lqDV"
    },
    {
      "cell_type": "code",
      "metadata": {
        "colab": {
          "base_uri": "https://localhost:8080/"
        },
        "id": "RMv98W4KlpcT",
        "outputId": "90262422-c798-42ec-9334-36787c29df2e"
      },
      "source": [
        "sgd_grid_business.fit(train.text, train.business_int)"
      ],
      "id": "RMv98W4KlpcT",
      "execution_count": null,
      "outputs": [
        {
          "output_type": "stream",
          "text": [
            "Fitting 5 folds for each of 12 candidates, totalling 60 fits\n"
          ],
          "name": "stdout"
        },
        {
          "output_type": "stream",
          "text": [
            "[Parallel(n_jobs=1)]: Using backend SequentialBackend with 1 concurrent workers.\n",
            "[Parallel(n_jobs=1)]: Done  60 out of  60 | elapsed: 23.8min finished\n"
          ],
          "name": "stderr"
        },
        {
          "output_type": "execute_result",
          "data": {
            "text/plain": [
              "GridSearchCV(cv=None, error_score=nan,\n",
              "             estimator=Pipeline(memory=None,\n",
              "                                steps=[('vect',\n",
              "                                        CountVectorizer(analyzer='word',\n",
              "                                                        binary=False,\n",
              "                                                        decode_error='strict',\n",
              "                                                        dtype=<class 'numpy.int64'>,\n",
              "                                                        encoding='utf-8',\n",
              "                                                        input='content',\n",
              "                                                        lowercase=True,\n",
              "                                                        max_df=1.0,\n",
              "                                                        max_features=None,\n",
              "                                                        min_df=1,\n",
              "                                                        ngram_range=(1, 1),\n",
              "                                                        preprocessor=None,\n",
              "                                                        stop_words=None,\n",
              "                                                        strip_accents=None,\n",
              "                                                        token_pattern='(...\n",
              "                                                      n_iter_no_change=5,\n",
              "                                                      n_jobs=None, penalty='l2',\n",
              "                                                      power_t=0.5,\n",
              "                                                      random_state=42,\n",
              "                                                      shuffle=True, tol=None,\n",
              "                                                      validation_fraction=0.1,\n",
              "                                                      verbose=0,\n",
              "                                                      warm_start=False))],\n",
              "                                verbose=False),\n",
              "             iid='deprecated', n_jobs=None,\n",
              "             param_grid={'clf__alpha': (0.0001, 1e-05, 1e-06, 1e-07),\n",
              "                         'vect__ngram_range': [(1, 1), (1, 2), (1, 3)]},\n",
              "             pre_dispatch='2*n_jobs', refit=True, return_train_score=False,\n",
              "             scoring=None, verbose=1)"
            ]
          },
          "metadata": {
            "tags": []
          },
          "execution_count": 64
        }
      ]
    },
    {
      "cell_type": "code",
      "metadata": {
        "colab": {
          "base_uri": "https://localhost:8080/",
          "height": 625
        },
        "id": "F-HBGl3km5ox",
        "outputId": "1fada4d8-34c3-4a33-ca37-ab16e2452040"
      },
      "source": [
        "crossvalidation_report_df(sgd_grid_business)"
      ],
      "id": "F-HBGl3km5ox",
      "execution_count": null,
      "outputs": [
        {
          "output_type": "execute_result",
          "data": {
            "text/html": [
              "<div>\n",
              "<style scoped>\n",
              "    .dataframe tbody tr th:only-of-type {\n",
              "        vertical-align: middle;\n",
              "    }\n",
              "\n",
              "    .dataframe tbody tr th {\n",
              "        vertical-align: top;\n",
              "    }\n",
              "\n",
              "    .dataframe thead th {\n",
              "        text-align: right;\n",
              "    }\n",
              "</style>\n",
              "<table border=\"1\" class=\"dataframe\">\n",
              "  <thead>\n",
              "    <tr style=\"text-align: right;\">\n",
              "      <th></th>\n",
              "      <th>param_clf__alpha</th>\n",
              "      <th>param_vect__ngram_range</th>\n",
              "      <th>params</th>\n",
              "      <th>mean_test_score</th>\n",
              "      <th>rank_test_score</th>\n",
              "    </tr>\n",
              "  </thead>\n",
              "  <tbody>\n",
              "    <tr>\n",
              "      <th>1</th>\n",
              "      <td>1e-05</td>\n",
              "      <td>(1, 2)</td>\n",
              "      <td>{'clf__alpha': 1e-05, 'vect__ngram_range': (1,...</td>\n",
              "      <td>0.942309</td>\n",
              "      <td>1</td>\n",
              "    </tr>\n",
              "    <tr>\n",
              "      <th>2</th>\n",
              "      <td>1e-05</td>\n",
              "      <td>(1, 3)</td>\n",
              "      <td>{'clf__alpha': 1e-05, 'vect__ngram_range': (1,...</td>\n",
              "      <td>0.941163</td>\n",
              "      <td>2</td>\n",
              "    </tr>\n",
              "    <tr>\n",
              "      <th>5</th>\n",
              "      <td>1e-06</td>\n",
              "      <td>(1, 3)</td>\n",
              "      <td>{'clf__alpha': 1e-06, 'vect__ngram_range': (1,...</td>\n",
              "      <td>0.941054</td>\n",
              "      <td>3</td>\n",
              "    </tr>\n",
              "    <tr>\n",
              "      <th>8</th>\n",
              "      <td>1e-07</td>\n",
              "      <td>(1, 3)</td>\n",
              "      <td>{'clf__alpha': 1e-07, 'vect__ngram_range': (1,...</td>\n",
              "      <td>0.939636</td>\n",
              "      <td>4</td>\n",
              "    </tr>\n",
              "    <tr>\n",
              "      <th>4</th>\n",
              "      <td>1e-06</td>\n",
              "      <td>(1, 2)</td>\n",
              "      <td>{'clf__alpha': 1e-06, 'vect__ngram_range': (1,...</td>\n",
              "      <td>0.938990</td>\n",
              "      <td>5</td>\n",
              "    </tr>\n",
              "    <tr>\n",
              "      <th>0</th>\n",
              "      <td>1e-05</td>\n",
              "      <td>(1, 1)</td>\n",
              "      <td>{'clf__alpha': 1e-05, 'vect__ngram_range': (1,...</td>\n",
              "      <td>0.938545</td>\n",
              "      <td>6</td>\n",
              "    </tr>\n",
              "    <tr>\n",
              "      <th>7</th>\n",
              "      <td>1e-07</td>\n",
              "      <td>(1, 2)</td>\n",
              "      <td>{'clf__alpha': 1e-07, 'vect__ngram_range': (1,...</td>\n",
              "      <td>0.935745</td>\n",
              "      <td>7</td>\n",
              "    </tr>\n",
              "    <tr>\n",
              "      <th>11</th>\n",
              "      <td>1e-18</td>\n",
              "      <td>(1, 3)</td>\n",
              "      <td>{'clf__alpha': 1e-18, 'vect__ngram_range': (1,...</td>\n",
              "      <td>0.934709</td>\n",
              "      <td>8</td>\n",
              "    </tr>\n",
              "    <tr>\n",
              "      <th>10</th>\n",
              "      <td>1e-18</td>\n",
              "      <td>(1, 2)</td>\n",
              "      <td>{'clf__alpha': 1e-18, 'vect__ngram_range': (1,...</td>\n",
              "      <td>0.932027</td>\n",
              "      <td>9</td>\n",
              "    </tr>\n",
              "    <tr>\n",
              "      <th>3</th>\n",
              "      <td>1e-06</td>\n",
              "      <td>(1, 1)</td>\n",
              "      <td>{'clf__alpha': 1e-06, 'vect__ngram_range': (1,...</td>\n",
              "      <td>0.925427</td>\n",
              "      <td>10</td>\n",
              "    </tr>\n",
              "    <tr>\n",
              "      <th>6</th>\n",
              "      <td>1e-07</td>\n",
              "      <td>(1, 1)</td>\n",
              "      <td>{'clf__alpha': 1e-07, 'vect__ngram_range': (1,...</td>\n",
              "      <td>0.905117</td>\n",
              "      <td>11</td>\n",
              "    </tr>\n",
              "    <tr>\n",
              "      <th>9</th>\n",
              "      <td>1e-18</td>\n",
              "      <td>(1, 1)</td>\n",
              "      <td>{'clf__alpha': 1e-18, 'vect__ngram_range': (1,...</td>\n",
              "      <td>0.897081</td>\n",
              "      <td>12</td>\n",
              "    </tr>\n",
              "  </tbody>\n",
              "</table>\n",
              "</div>"
            ],
            "text/plain": [
              "   param_clf__alpha param_vect__ngram_range  ... mean_test_score  rank_test_score\n",
              "1             1e-05                  (1, 2)  ...        0.942309                1\n",
              "2             1e-05                  (1, 3)  ...        0.941163                2\n",
              "5             1e-06                  (1, 3)  ...        0.941054                3\n",
              "8             1e-07                  (1, 3)  ...        0.939636                4\n",
              "4             1e-06                  (1, 2)  ...        0.938990                5\n",
              "0             1e-05                  (1, 1)  ...        0.938545                6\n",
              "7             1e-07                  (1, 2)  ...        0.935745                7\n",
              "11            1e-18                  (1, 3)  ...        0.934709                8\n",
              "10            1e-18                  (1, 2)  ...        0.932027                9\n",
              "3             1e-06                  (1, 1)  ...        0.925427               10\n",
              "6             1e-07                  (1, 1)  ...        0.905117               11\n",
              "9             1e-18                  (1, 1)  ...        0.897081               12\n",
              "\n",
              "[12 rows x 5 columns]"
            ]
          },
          "metadata": {
            "tags": []
          },
          "execution_count": 11
        }
      ]
    },
    {
      "cell_type": "code",
      "metadata": {
        "colab": {
          "base_uri": "https://localhost:8080/"
        },
        "id": "NUfevjQQttRM",
        "outputId": "22c643a6-d15d-4265-b41d-dc4fae8aa3bd"
      },
      "source": [
        "sgd_best = sgd_grid_business.best_estimator_\n",
        "print('BEST PARAMS:', sgd_grid_business.best_params_)\n",
        "# eval\n",
        "print(classification_report(test.business_int, \n",
        "                            sgd_best.predict(test.text), \n",
        "                            target_names=['negative', 'positive']))"
      ],
      "id": "NUfevjQQttRM",
      "execution_count": null,
      "outputs": [
        {
          "output_type": "stream",
          "text": [
            "BEST PARAMS: {'clf__alpha': 1e-05, 'vect__ngram_range': (1, 2)}\n",
            "              precision    recall  f1-score   support\n",
            "\n",
            "    negative       0.95      0.97      0.96      7504\n",
            "    positive       0.91      0.85      0.88      2496\n",
            "\n",
            "    accuracy                           0.94     10000\n",
            "   macro avg       0.93      0.91      0.92     10000\n",
            "weighted avg       0.94      0.94      0.94     10000\n",
            "\n"
          ],
          "name": "stdout"
        }
      ]
    },
    {
      "cell_type": "code",
      "metadata": {
        "colab": {
          "base_uri": "https://localhost:8080/"
        },
        "id": "0ssn3Rlkt7Zb",
        "outputId": "3effb2de-646f-4b3f-d3d8-498f85c6ac9c"
      },
      "source": [
        "business_best_weights = sort_feature_weights(sgd_best, i=0)\n",
        "business_best_weights = sorted(business_best_weights, key=lambda fw: fw[1], reverse=True)\n",
        "print('Model weights associated with business articles')\n",
        "business_best_weights[:20]"
      ],
      "id": "0ssn3Rlkt7Zb",
      "execution_count": null,
      "outputs": [
        {
          "output_type": "stream",
          "text": [
            "Model weights associated with business articles\n"
          ],
          "name": "stdout"
        },
        {
          "output_type": "execute_result",
          "data": {
            "text/plain": [
              "[('tax', 4.443141387739774),\n",
              " ('airlines', 4.315391656844055),\n",
              " ('hellip', 4.290637725498123),\n",
              " ('insurance', 3.9461546645816172),\n",
              " ('bank', 3.838011476720672),\n",
              " ('economy', 3.7667262833436537),\n",
              " ('oil', 3.7030966349403087),\n",
              " ('investment', 3.6151246550316207),\n",
              " ('stock', 3.609559325931138),\n",
              " ('economic', 3.5896595372533104),\n",
              " ('enron', 3.5000217817968293),\n",
              " ('investors', 3.2844556864658245),\n",
              " ('profits', 3.233963031051553),\n",
              " ('prices', 3.1891348295053694),\n",
              " ('retailer', 3.1547631619233143),\n",
              " ('amp', 3.112996535363448),\n",
              " ('yukos', 3.0456663135025304),\n",
              " ('nyse', 3.026350882342812),\n",
              " ('oracle 39', 3.0233431925068395),\n",
              " ('martha stewart', 3.0135331650538815)]"
            ]
          },
          "metadata": {
            "tags": []
          },
          "execution_count": 15
        }
      ]
    },
    {
      "cell_type": "code",
      "metadata": {
        "colab": {
          "base_uri": "https://localhost:8080/"
        },
        "id": "mVEE9BetuG6N",
        "outputId": "0a46eebe-1139-48e9-95f5-2171a80e7b6a"
      },
      "source": [
        "print('Model weights least associated with business articles')\n",
        "business_best_weights[-20:]"
      ],
      "id": "mVEE9BetuG6N",
      "execution_count": null,
      "outputs": [
        {
          "output_type": "stream",
          "text": [
            "Model weights least associated with business articles\n"
          ],
          "name": "stdout"
        },
        {
          "output_type": "execute_result",
          "data": {
            "text/plain": [
              "[('iraq', -2.2772902525998946),\n",
              " ('military', -2.2811600307183952),\n",
              " ('nuclear', -2.289605217578943),\n",
              " ('com', -2.310437963999429),\n",
              " ('space', -2.4092534108846837),\n",
              " ('internet', -2.4254462045451093),\n",
              " ('game', -2.5498636181987013),\n",
              " ('newsfactor', -2.5629620154456467),\n",
              " ('nasa', -2.6489619520681926),\n",
              " ('apple', -2.7301623910986645),\n",
              " ('team', -2.747176549421565),\n",
              " ('linux', -2.8292440839460693),\n",
              " ('washingtonpost', -2.837529405213588),\n",
              " ('36', -2.850745273612542),\n",
              " ('washingtonpost com', -2.9205137348224905),\n",
              " ('software', -2.9820287999812702),\n",
              " ('canadian press', -3.29269878480387),\n",
              " ('york stocks', -4.612216365399569),\n",
              " ('afp', -5.23541972269084),\n",
              " ('ap', -11.499925350613216)]"
            ]
          },
          "metadata": {
            "tags": []
          },
          "execution_count": 16
        }
      ]
    },
    {
      "cell_type": "markdown",
      "metadata": {
        "id": "j_GxLZDIp-h2"
      },
      "source": [
        "### Precision and Recall"
      ],
      "id": "j_GxLZDIp-h2"
    },
    {
      "cell_type": "code",
      "metadata": {
        "colab": {
          "base_uri": "https://localhost:8080/"
        },
        "id": "EIzbZg9vuS4v",
        "outputId": "91389e60-08eb-44df-aea2-3f12cbf622b6"
      },
      "source": [
        "'''We tune the thresholds of the business class binary classifier to experiment with high-recall and high-precision \n",
        "classifiers. We compare 5 thresholds, -2, -1, 0, 1, and 2, and we plot the precision and recall curve.'''\n",
        "test_scores = sgd_best.decision_function(test.text)\n",
        "# and afterwards we can alter the threshold\n",
        "for threshold in [-2, -1, 0, 1, 2]:\n",
        "    print(\"Metrics with threshold={}\".format(threshold))\n",
        "    print(classification_report(test.business_int,\n",
        "                                [1 if s>threshold else 0 for s in test_scores],\n",
        "                                target_names=['negative', 'positive']))\n",
        "    print()\n"
      ],
      "id": "EIzbZg9vuS4v",
      "execution_count": null,
      "outputs": [
        {
          "output_type": "stream",
          "text": [
            "Metrics with threshold=-2\n",
            "              precision    recall  f1-score   support\n",
            "\n",
            "    negative       1.00      0.09      0.17      7504\n",
            "    positive       0.27      1.00      0.42      2496\n",
            "\n",
            "    accuracy                           0.32     10000\n",
            "   macro avg       0.63      0.55      0.30     10000\n",
            "weighted avg       0.82      0.32      0.24     10000\n",
            "\n",
            "\n",
            "Metrics with threshold=-1\n",
            "              precision    recall  f1-score   support\n",
            "\n",
            "    negative       0.99      0.76      0.86      7504\n",
            "    positive       0.57      0.97      0.72      2496\n",
            "\n",
            "    accuracy                           0.81     10000\n",
            "   macro avg       0.78      0.86      0.79     10000\n",
            "weighted avg       0.88      0.81      0.82     10000\n",
            "\n",
            "\n",
            "Metrics with threshold=0\n",
            "              precision    recall  f1-score   support\n",
            "\n",
            "    negative       0.95      0.97      0.96      7504\n",
            "    positive       0.91      0.85      0.88      2496\n",
            "\n",
            "    accuracy                           0.94     10000\n",
            "   macro avg       0.93      0.91      0.92     10000\n",
            "weighted avg       0.94      0.94      0.94     10000\n",
            "\n",
            "\n",
            "Metrics with threshold=1\n",
            "              precision    recall  f1-score   support\n",
            "\n",
            "    negative       0.87      0.99      0.93      7504\n",
            "    positive       0.97      0.57      0.72      2496\n",
            "\n",
            "    accuracy                           0.89     10000\n",
            "   macro avg       0.92      0.78      0.82     10000\n",
            "weighted avg       0.90      0.89      0.88     10000\n",
            "\n",
            "\n",
            "Metrics with threshold=2\n",
            "              precision    recall  f1-score   support\n",
            "\n",
            "    negative       0.78      1.00      0.88      7504\n",
            "    positive       0.98      0.15      0.26      2496\n",
            "\n",
            "    accuracy                           0.79     10000\n",
            "   macro avg       0.88      0.57      0.57     10000\n",
            "weighted avg       0.83      0.79      0.72     10000\n",
            "\n",
            "\n"
          ],
          "name": "stdout"
        }
      ]
    },
    {
      "cell_type": "code",
      "metadata": {
        "id": "LkCq2_llvPdI"
      },
      "source": [
        "pr_sgd_best = sklearn.metrics.precision_recall_curve(test.business_int, \n",
        "                                                     sgd_best.decision_function(test.text), \n",
        "                                                     pos_label=1)"
      ],
      "id": "LkCq2_llvPdI",
      "execution_count": null,
      "outputs": []
    },
    {
      "cell_type": "code",
      "metadata": {
        "colab": {
          "base_uri": "https://localhost:8080/",
          "height": 531
        },
        "id": "_MWcHKjjvaNa",
        "outputId": "51d16cf0-0e89-4def-a454-f596043c02e4"
      },
      "source": [
        "plt.figure(figsize=(8,8))\n",
        "plt.title('Precision-Recall curve')\n",
        "plt.xlabel('precision')\n",
        "plt.ylabel('recall')\n",
        "plt.scatter(y=pr_sgd_best[0], x=pr_sgd_best[1], label='ngrams, business class')\n",
        "plt.grid(True)\n",
        "plt.legend()"
      ],
      "id": "_MWcHKjjvaNa",
      "execution_count": null,
      "outputs": [
        {
          "output_type": "execute_result",
          "data": {
            "text/plain": [
              "<matplotlib.legend.Legend at 0x7f4faf251a90>"
            ]
          },
          "metadata": {
            "tags": []
          },
          "execution_count": 75
        },
        {
          "output_type": "display_data",
          "data": {
            "image/png": "[encoded data removed]",
            "text/plain": [
              "<Figure size 576x576 with 1 Axes>"
            ]
          },
          "metadata": {
            "tags": [],
            "needs_background": "light"
          }
        }
      ]
    },
    {
      "cell_type": "markdown",
      "metadata": {
        "id": "fantastic-violin"
      },
      "source": [
        "### Multiclass Classifier"
      ],
      "id": "fantastic-violin"
    },
    {
      "cell_type": "code",
      "metadata": {
        "id": "separate-weather",
        "colab": {
          "base_uri": "https://localhost:8080/"
        },
        "outputId": "21e71713-1574-4551-da8b-774ed8b98ed7"
      },
      "source": [
        "'''Now we are going to experiment with multicass methods that decide one among the four classes.\n",
        "We fit 5 folds for each of the 12 candidates, using the alpha values that worked best \n",
        "during the previous experiments.'''\n",
        "sgd_grid.fit(train.text, train.label_int)"
      ],
      "id": "separate-weather",
      "execution_count": null,
      "outputs": [
        {
          "output_type": "stream",
          "text": [
            "Fitting 5 folds for each of 12 candidates, totalling 60 fits\n"
          ],
          "name": "stdout"
        },
        {
          "output_type": "stream",
          "text": [
            "[Parallel(n_jobs=1)]: Using backend SequentialBackend with 1 concurrent workers.\n",
            "[Parallel(n_jobs=1)]: Done  60 out of  60 | elapsed: 42.2min finished\n"
          ],
          "name": "stderr"
        },
        {
          "output_type": "execute_result",
          "data": {
            "text/plain": [
              "GridSearchCV(cv=None, error_score=nan,\n",
              "             estimator=Pipeline(memory=None,\n",
              "                                steps=[('vect',\n",
              "                                        CountVectorizer(analyzer='word',\n",
              "                                                        binary=False,\n",
              "                                                        decode_error='strict',\n",
              "                                                        dtype=<class 'numpy.int64'>,\n",
              "                                                        encoding='utf-8',\n",
              "                                                        input='content',\n",
              "                                                        lowercase=True,\n",
              "                                                        max_df=1.0,\n",
              "                                                        max_features=None,\n",
              "                                                        min_df=1,\n",
              "                                                        ngram_range=(1, 1),\n",
              "                                                        preprocessor=None,\n",
              "                                                        stop_words=None,\n",
              "                                                        strip_accents=None,\n",
              "                                                        token_pattern='(...\n",
              "                                                      n_iter_no_change=5,\n",
              "                                                      n_jobs=None, penalty='l2',\n",
              "                                                      power_t=0.5,\n",
              "                                                      random_state=42,\n",
              "                                                      shuffle=True, tol=None,\n",
              "                                                      validation_fraction=0.1,\n",
              "                                                      verbose=0,\n",
              "                                                      warm_start=False))],\n",
              "                                verbose=False),\n",
              "             iid='deprecated', n_jobs=None,\n",
              "             param_grid={'clf__alpha': (0.0001, 1e-05, 1e-06, 1e-07),\n",
              "                         'vect__ngram_range': [(1, 1), (1, 2), (1, 3)]},\n",
              "             pre_dispatch='2*n_jobs', refit=True, return_train_score=False,\n",
              "             scoring=None, verbose=1)"
            ]
          },
          "metadata": {
            "tags": []
          },
          "execution_count": 18
        }
      ]
    },
    {
      "cell_type": "code",
      "metadata": {
        "id": "furnished-casino",
        "colab": {
          "base_uri": "https://localhost:8080/",
          "height": 625
        },
        "outputId": "240b261f-63a7-414e-f241-9963ae41b66c"
      },
      "source": [
        "# The best performing model still uses alpha 1e-5 and ngram_range (1,2)\n",
        "crossvalidation_report_df(sgd_grid)"
      ],
      "id": "furnished-casino",
      "execution_count": null,
      "outputs": [
        {
          "output_type": "execute_result",
          "data": {
            "text/html": [
              "<div>\n",
              "<style scoped>\n",
              "    .dataframe tbody tr th:only-of-type {\n",
              "        vertical-align: middle;\n",
              "    }\n",
              "\n",
              "    .dataframe tbody tr th {\n",
              "        vertical-align: top;\n",
              "    }\n",
              "\n",
              "    .dataframe thead th {\n",
              "        text-align: right;\n",
              "    }\n",
              "</style>\n",
              "<table border=\"1\" class=\"dataframe\">\n",
              "  <thead>\n",
              "    <tr style=\"text-align: right;\">\n",
              "      <th></th>\n",
              "      <th>param_clf__alpha</th>\n",
              "      <th>param_vect__ngram_range</th>\n",
              "      <th>params</th>\n",
              "      <th>mean_test_score</th>\n",
              "      <th>rank_test_score</th>\n",
              "    </tr>\n",
              "  </thead>\n",
              "  <tbody>\n",
              "    <tr>\n",
              "      <th>4</th>\n",
              "      <td>1e-05</td>\n",
              "      <td>(1, 2)</td>\n",
              "      <td>{'clf__alpha': 1e-05, 'vect__ngram_range': (1,...</td>\n",
              "      <td>0.916790</td>\n",
              "      <td>1</td>\n",
              "    </tr>\n",
              "    <tr>\n",
              "      <th>5</th>\n",
              "      <td>1e-05</td>\n",
              "      <td>(1, 3)</td>\n",
              "      <td>{'clf__alpha': 1e-05, 'vect__ngram_range': (1,...</td>\n",
              "      <td>0.914545</td>\n",
              "      <td>2</td>\n",
              "    </tr>\n",
              "    <tr>\n",
              "      <th>8</th>\n",
              "      <td>1e-06</td>\n",
              "      <td>(1, 3)</td>\n",
              "      <td>{'clf__alpha': 1e-06, 'vect__ngram_range': (1,...</td>\n",
              "      <td>0.912499</td>\n",
              "      <td>3</td>\n",
              "    </tr>\n",
              "    <tr>\n",
              "      <th>3</th>\n",
              "      <td>1e-05</td>\n",
              "      <td>(1, 1)</td>\n",
              "      <td>{'clf__alpha': 1e-05, 'vect__ngram_range': (1,...</td>\n",
              "      <td>0.912190</td>\n",
              "      <td>4</td>\n",
              "    </tr>\n",
              "    <tr>\n",
              "      <th>11</th>\n",
              "      <td>1e-07</td>\n",
              "      <td>(1, 3)</td>\n",
              "      <td>{'clf__alpha': 1e-07, 'vect__ngram_range': (1,...</td>\n",
              "      <td>0.911408</td>\n",
              "      <td>5</td>\n",
              "    </tr>\n",
              "    <tr>\n",
              "      <th>7</th>\n",
              "      <td>1e-06</td>\n",
              "      <td>(1, 2)</td>\n",
              "      <td>{'clf__alpha': 1e-06, 'vect__ngram_range': (1,...</td>\n",
              "      <td>0.910763</td>\n",
              "      <td>6</td>\n",
              "    </tr>\n",
              "    <tr>\n",
              "      <th>10</th>\n",
              "      <td>1e-07</td>\n",
              "      <td>(1, 2)</td>\n",
              "      <td>{'clf__alpha': 1e-07, 'vect__ngram_range': (1,...</td>\n",
              "      <td>0.907608</td>\n",
              "      <td>7</td>\n",
              "    </tr>\n",
              "    <tr>\n",
              "      <th>0</th>\n",
              "      <td>0.0001</td>\n",
              "      <td>(1, 1)</td>\n",
              "      <td>{'clf__alpha': 0.0001, 'vect__ngram_range': (1...</td>\n",
              "      <td>0.901554</td>\n",
              "      <td>8</td>\n",
              "    </tr>\n",
              "    <tr>\n",
              "      <th>1</th>\n",
              "      <td>0.0001</td>\n",
              "      <td>(1, 2)</td>\n",
              "      <td>{'clf__alpha': 0.0001, 'vect__ngram_range': (1...</td>\n",
              "      <td>0.898408</td>\n",
              "      <td>9</td>\n",
              "    </tr>\n",
              "    <tr>\n",
              "      <th>2</th>\n",
              "      <td>0.0001</td>\n",
              "      <td>(1, 3)</td>\n",
              "      <td>{'clf__alpha': 0.0001, 'vect__ngram_range': (1...</td>\n",
              "      <td>0.892617</td>\n",
              "      <td>10</td>\n",
              "    </tr>\n",
              "    <tr>\n",
              "      <th>6</th>\n",
              "      <td>1e-06</td>\n",
              "      <td>(1, 1)</td>\n",
              "      <td>{'clf__alpha': 1e-06, 'vect__ngram_range': (1,...</td>\n",
              "      <td>0.892299</td>\n",
              "      <td>11</td>\n",
              "    </tr>\n",
              "    <tr>\n",
              "      <th>9</th>\n",
              "      <td>1e-07</td>\n",
              "      <td>(1, 1)</td>\n",
              "      <td>{'clf__alpha': 1e-07, 'vect__ngram_range': (1,...</td>\n",
              "      <td>0.868335</td>\n",
              "      <td>12</td>\n",
              "    </tr>\n",
              "  </tbody>\n",
              "</table>\n",
              "</div>"
            ],
            "text/plain": [
              "   param_clf__alpha param_vect__ngram_range  ... mean_test_score  rank_test_score\n",
              "4             1e-05                  (1, 2)  ...        0.916790                1\n",
              "5             1e-05                  (1, 3)  ...        0.914545                2\n",
              "8             1e-06                  (1, 3)  ...        0.912499                3\n",
              "3             1e-05                  (1, 1)  ...        0.912190                4\n",
              "11            1e-07                  (1, 3)  ...        0.911408                5\n",
              "7             1e-06                  (1, 2)  ...        0.910763                6\n",
              "10            1e-07                  (1, 2)  ...        0.907608                7\n",
              "0            0.0001                  (1, 1)  ...        0.901554                8\n",
              "1            0.0001                  (1, 2)  ...        0.898408                9\n",
              "2            0.0001                  (1, 3)  ...        0.892617               10\n",
              "6             1e-06                  (1, 1)  ...        0.892299               11\n",
              "9             1e-07                  (1, 1)  ...        0.868335               12\n",
              "\n",
              "[12 rows x 5 columns]"
            ]
          },
          "metadata": {
            "tags": []
          },
          "execution_count": 19
        }
      ]
    },
    {
      "cell_type": "code",
      "metadata": {
        "id": "wrong-medicaid",
        "colab": {
          "base_uri": "https://localhost:8080/"
        },
        "outputId": "1057fc91-6e22-481a-a43d-70eb58a86051"
      },
      "source": [
        "'''The model performs well. Precision and recall are balanced.\n",
        "The model performs best at identifying sports articles. This could be due to sports articles\n",
        "using a very specific set of words. Science, world, and business are more likely to share some words.'''\n",
        "sgd_best = sgd_grid.best_estimator_\n",
        "print('BEST PARAMS:', sgd_grid.best_params_)\n",
        "print(classification_report(test.label_int, \n",
        "                            sgd_best.predict(test.text), \n",
        "                            target_names=['science', 'sports', 'world', 'business']))"
      ],
      "id": "wrong-medicaid",
      "execution_count": null,
      "outputs": [
        {
          "output_type": "stream",
          "text": [
            "BEST PARAMS: {'clf__alpha': 1e-05, 'vect__ngram_range': (1, 2)}\n",
            "              precision    recall  f1-score   support\n",
            "\n",
            "     science       0.89      0.90      0.90      2537\n",
            "      sports       0.95      0.99      0.97      2458\n",
            "       world       0.93      0.90      0.91      2509\n",
            "    business       0.90      0.88      0.89      2496\n",
            "\n",
            "    accuracy                           0.92     10000\n",
            "   macro avg       0.92      0.92      0.92     10000\n",
            "weighted avg       0.92      0.92      0.92     10000\n",
            "\n"
          ],
          "name": "stdout"
        }
      ]
    },
    {
      "cell_type": "code",
      "metadata": {
        "id": "prompt-invitation"
      },
      "source": [
        "def sort_feature_weights(sk_pipe, fkey='vect', wkey='clf',i=0):\n",
        "    F = sk_pipe[fkey].get_feature_names()\n",
        "    W = sk_pipe[wkey].coef_[i]\n",
        "    return sorted(zip(F, W), key=lambda fw: fw[1])"
      ],
      "id": "prompt-invitation",
      "execution_count": null,
      "outputs": []
    },
    {
      "cell_type": "code",
      "metadata": {
        "id": "ZSnIHsghQ7Aw"
      },
      "source": [
        "# convenience function: given a feature ngram, returns the number of \"grams\"\n",
        "# i.e. 1 for unigrams, 2 for bigrams, ....\n",
        "# simply counts the number of elements separated by space (this is how sklearn encodes unigrams)\n",
        "def ngram_order(f):\n",
        "    \"\"\"Returns the ngram order of a feature. \"\"\"\n",
        "    return len(f.split())"
      ],
      "id": "ZSnIHsghQ7Aw",
      "execution_count": null,
      "outputs": []
    },
    {
      "cell_type": "code",
      "metadata": {
        "id": "expensive-haven",
        "colab": {
          "base_uri": "https://localhost:8080/"
        },
        "outputId": "0b574d7c-8497-4ab6-e1e5-72c7366b46bd"
      },
      "source": [
        "'''Words and ngrams that don't makes sense for the science class:\n",
        "yahoo: yahoo science, washignton post: washington post science articles, \n",
        "ft com: financial times science articles, moint st: active volcano, \n",
        "36 billion: 36 billion dollars lost in data breaches, 36 billion tons of CO2 emissions'''\n",
        "science_best_weights = sort_feature_weights(sgd_best, i=0)\n",
        "science_best_weights = sorted(science_best_weights, key=lambda fw: fw[1], reverse=True)\n",
        "print('Model weights associated with science articles')\n",
        "science_best_weights[:20]"
      ],
      "id": "expensive-haven",
      "execution_count": null,
      "outputs": [
        {
          "output_type": "stream",
          "text": [
            "Model weights associated with science articles\n"
          ],
          "name": "stdout"
        },
        {
          "output_type": "execute_result",
          "data": {
            "text/plain": [
              "[('space', 6.368602591451835),\n",
              " ('internet', 5.3876426011807546),\n",
              " ('scientists', 5.342233732673666),\n",
              " ('software', 5.313732832675281),\n",
              " ('nasa', 5.309192289039093),\n",
              " ('apple', 4.60454027508694),\n",
              " ('linux', 4.559392609197625),\n",
              " ('microsoft', 4.460599636141165),\n",
              " ('web', 4.292983901579856),\n",
              " ('online', 4.201673736539777),\n",
              " ('computer', 4.183333654466882),\n",
              " ('researchers', 3.754042982454971),\n",
              " ('spam', 3.7467274754937057),\n",
              " ('technology', 3.717663269386726),\n",
              " ('science', 3.7015444279335927),\n",
              " ('com', 3.399816737706761),\n",
              " ('users', 3.2504418289695636),\n",
              " ('species', 3.183593114681464),\n",
              " ('yahoo', 3.1630151172038685),\n",
              " ('broadband', 3.1248065078264804)]"
            ]
          },
          "metadata": {
            "tags": []
          },
          "execution_count": 36
        }
      ]
    },
    {
      "cell_type": "code",
      "metadata": {
        "colab": {
          "base_uri": "https://localhost:8080/"
        },
        "id": "TKowbppsRCPT",
        "outputId": "30179020-ec07-4649-af7a-5d93b85aafc2"
      },
      "source": [
        "print('Bigram weights associated with science articles')\n",
        "[fw for fw in science_best_weights if ngram_order(fw[0])==2][:20]"
      ],
      "id": "TKowbppsRCPT",
      "execution_count": null,
      "outputs": [
        {
          "output_type": "stream",
          "text": [
            "Bigram weights associated with science articles\n"
          ],
          "name": "stdout"
        },
        {
          "output_type": "execute_result",
          "data": {
            "text/plain": [
              "[('washingtonpost com', 3.0638825996685224),\n",
              " ('washington ap', 2.3747831589896404),\n",
              " ('video games', 2.342844702476439),\n",
              " ('video game', 2.2904994915098307),\n",
              " ('open source', 2.112535797204783),\n",
              " ('global warming', 2.031817855850907),\n",
              " ('big blue', 1.903340780467496),\n",
              " ('half life', 1.8918922269565321),\n",
              " ('the internet', 1.879529253307511),\n",
              " ('from wired', 1.8416918911447846),\n",
              " ('wired magazine', 1.837092898036695),\n",
              " ('ft com', 1.8237080528506342),\n",
              " ('corp 36', 1.7567483492961056),\n",
              " ('reports from', 1.7498789635504628),\n",
              " ('sun microsystems', 1.7490194767673033),\n",
              " ('consumer electronics', 1.7114418453900133),\n",
              " ('mount st', 1.7099143141489703),\n",
              " ('36 billion', 1.6574763697363475),\n",
              " ('york ap', 1.6231571559305573),\n",
              " ('ziff davis', 1.59574728910604)]"
            ]
          },
          "metadata": {
            "tags": []
          },
          "execution_count": 33
        }
      ]
    },
    {
      "cell_type": "code",
      "metadata": {
        "id": "latest-gambling",
        "colab": {
          "base_uri": "https://localhost:8080/"
        },
        "outputId": "d333c6e1-e35c-4059-e0bd-fb7a6b76d549"
      },
      "source": [
        "'''Words and ngrams that don't makes sense for the sports class:\n",
        "notre dame: Notre Dame Fighting Irish are the athletic teams that represent the University of Notre Dame.\n",
        "men 39: maybe related to running shoes'''\n",
        "sports_best_weights = sort_feature_weights(sgd_best, i=1)\n",
        "sports_best_weights = sorted(sports_best_weights, key=lambda fw: fw[1], reverse=True)\n",
        "print('Model weights associated with sports articles')\n",
        "sports_best_weights[:20]"
      ],
      "id": "latest-gambling",
      "execution_count": null,
      "outputs": [
        {
          "output_type": "stream",
          "text": [
            "Model weights associated with sports articles\n"
          ],
          "name": "stdout"
        },
        {
          "output_type": "execute_result",
          "data": {
            "text/plain": [
              "[('coach', 5.679298646028773),\n",
              " ('football', 5.469339659182907),\n",
              " ('baseball', 5.173268784579366),\n",
              " ('cup', 5.039909284692458),\n",
              " ('team', 4.711929828554235),\n",
              " ('olympic', 4.6707918024677015),\n",
              " ('sports', 4.387550310786523),\n",
              " ('stadium', 4.06607101294932),\n",
              " ('cricket', 4.015597828484853),\n",
              " ('olympics', 3.9501148863966025),\n",
              " ('season', 3.9295180408797776),\n",
              " ('league', 3.9276446047653515),\n",
              " ('teams', 3.721381869025682),\n",
              " ('players', 3.6282845641055763),\n",
              " ('basketball', 3.603358998746263),\n",
              " ('nascar', 3.555603676765379),\n",
              " ('nhl', 3.368735452131544),\n",
              " ('championship', 3.281888682935428),\n",
              " ('quarterback', 3.245616108180874),\n",
              " ('nfl', 3.1433868620837893)]"
            ]
          },
          "metadata": {
            "tags": []
          },
          "execution_count": 23
        }
      ]
    },
    {
      "cell_type": "code",
      "metadata": {
        "colab": {
          "base_uri": "https://localhost:8080/"
        },
        "id": "aulOylHPR-0P",
        "outputId": "e244dff7-a88c-463c-b051-075f19ba4d1d"
      },
      "source": [
        "print('Bigram weights associated with sports articles')\n",
        "[fw for fw in sports_best_weights if ngram_order(fw[0])==2][:20]"
      ],
      "id": "aulOylHPR-0P",
      "execution_count": null,
      "outputs": [
        {
          "output_type": "stream",
          "text": [
            "Bigram weights associated with sports articles\n"
          ],
          "name": "stdout"
        },
        {
          "output_type": "execute_result",
          "data": {
            "text/plain": [
              "[('kobe bryant', 2.411871207378639),\n",
              " ('manchester united', 2.309820968298498),\n",
              " ('red sox', 2.167846709928851),\n",
              " ('formula one', 2.0168821206861907),\n",
              " ('world cup', 1.9524099226051435),\n",
              " ('grand prix', 1.6829658547695856),\n",
              " ('notre dame', 1.5986914911918597),\n",
              " ('barry bonds', 1.5789996196069847),\n",
              " ('running back', 1.551236483394952),\n",
              " ('the nhl', 1.533721166345287),\n",
              " ('the nba', 1.5159196688308114),\n",
              " ('us open', 1.502389437163275),\n",
              " ('gold medal', 1.3571239627829808),\n",
              " ('world series', 1.3468246913500053),\n",
              " ('hendrick motorsports', 1.329395689128272),\n",
              " ('the nfl', 1.3164820658601006),\n",
              " ('hall of', 1.3037399150288125),\n",
              " ('men 39', 1.2848768686076883),\n",
              " ('the yankees', 1.2648817504159795),\n",
              " ('sports network', 1.250048795184501)]"
            ]
          },
          "metadata": {
            "tags": []
          },
          "execution_count": 37
        }
      ]
    },
    {
      "cell_type": "code",
      "metadata": {
        "id": "celtic-plaintiff",
        "colab": {
          "base_uri": "https://localhost:8080/"
        },
        "outputId": "5850dac7-21f7-4339-8900-833dfa5bc25c"
      },
      "source": [
        "'''Words and ngrams that don't makes sense for the world class:\n",
        "york stocks and york investors: should make more sense in the business class'''\n",
        "world_best_weights = sort_feature_weights(sgd_best, i=2)\n",
        "world_best_weights = sorted(world_best_weights, key=lambda fw: fw[1], reverse=True)\n",
        "print('Model weights associated with world articles')\n",
        "world_best_weights[:20]"
      ],
      "id": "celtic-plaintiff",
      "execution_count": null,
      "outputs": [
        {
          "output_type": "stream",
          "text": [
            "Model weights associated with world articles\n"
          ],
          "name": "stdout"
        },
        {
          "output_type": "execute_result",
          "data": {
            "text/plain": [
              "[('afp', 7.209588811284654),\n",
              " ('canadian press', 5.697820768370586),\n",
              " ('iraq', 5.312526608640608),\n",
              " ('nuclear', 4.7322364131295185),\n",
              " ('president', 4.48555089853351),\n",
              " ('york stocks', 4.376685828959353),\n",
              " ('military', 4.354445196365968),\n",
              " ('iraqi', 4.054174447488733),\n",
              " ('elections', 3.836569811085946),\n",
              " ('palestinian', 3.829054979145384),\n",
              " ('iran', 3.6657380478725834),\n",
              " ('troops', 3.4948381423696517),\n",
              " ('terrorism', 3.4368395096861977),\n",
              " ('afghanistan', 3.400633041666675),\n",
              " ('israel', 3.3585152144520967),\n",
              " ('peace', 3.354118639238),\n",
              " ('un', 3.249141644885388),\n",
              " ('arafat', 3.191202276650594),\n",
              " ('prince', 3.1298956511237197),\n",
              " ('baghdad', 3.082103121119123)]"
            ]
          },
          "metadata": {
            "tags": []
          },
          "execution_count": 24
        }
      ]
    },
    {
      "cell_type": "code",
      "metadata": {
        "colab": {
          "base_uri": "https://localhost:8080/"
        },
        "id": "MYaHKstbSEzT",
        "outputId": "42e38915-a6bc-4ee8-8437-60e8f706aaf3"
      },
      "source": [
        "print('Bigram weights associated with world articles')\n",
        "[fw for fw in world_best_weights if ngram_order(fw[0])==2][:20]"
      ],
      "id": "MYaHKstbSEzT",
      "execution_count": null,
      "outputs": [
        {
          "output_type": "stream",
          "text": [
            "Bigram weights associated with world articles\n"
          ],
          "name": "stdout"
        },
        {
          "output_type": "execute_result",
          "data": {
            "text/plain": [
              "[('canadian press', 5.697820768370586),\n",
              " ('york stocks', 4.376685828959353),\n",
              " ('ap tokyo', 2.9768588932645015),\n",
              " ('athens greece', 2.7375125543021768),\n",
              " ('united nations', 2.718315879917407),\n",
              " ('west bank', 2.537113032768164),\n",
              " ('ap president', 2.2996720090736598),\n",
              " ('prime minister', 2.2765815489849617),\n",
              " ('john kerry', 2.0044992250121494),\n",
              " ('yasser arafat', 1.9283876178311166),\n",
              " ('michael jackson', 1.8772576849048572),\n",
              " ('general strike', 1.8723193181512316),\n",
              " ('north korea', 1.8529905888516702),\n",
              " ('bird flu', 1.8413274131762136),\n",
              " ('state department', 1.7240505377208288),\n",
              " ('tony blair', 1.7146662271312936),\n",
              " ('york investors', 1.672623646504926),\n",
              " ('david blunkett', 1.6632668311638028),\n",
              " ('ivory coast', 1.6631081318935694),\n",
              " ('the un', 1.6604616447001375)]"
            ]
          },
          "metadata": {
            "tags": []
          },
          "execution_count": 38
        }
      ]
    },
    {
      "cell_type": "code",
      "metadata": {
        "id": "owned-flash",
        "colab": {
          "base_uri": "https://localhost:8080/"
        },
        "outputId": "893de002-25de-431e-8855-cc9a64606a61"
      },
      "source": [
        "'''Words and ngrams that don't makes sense for the business class:\n",
        "salvation army: many articles related to how salvation army makes money'''\n",
        "business_best_weights = sort_feature_weights(sgd_best, i=3)\n",
        "business_best_weights = sorted(business_best_weights, key=lambda fw: fw[1], reverse=True)\n",
        "print('Model weights associated with business articles')\n",
        "business_best_weights[:20]"
      ],
      "id": "owned-flash",
      "execution_count": null,
      "outputs": [
        {
          "output_type": "stream",
          "text": [
            "Model weights associated with business articles\n"
          ],
          "name": "stdout"
        },
        {
          "output_type": "execute_result",
          "data": {
            "text/plain": [
              "[('tax', 4.444486421981836),\n",
              " ('airlines', 4.303752554338217),\n",
              " ('hellip', 4.283103728979001),\n",
              " ('insurance', 3.948433081538409),\n",
              " ('bank', 3.8524356384712024),\n",
              " ('economy', 3.761372628492039),\n",
              " ('oil', 3.699008529361074),\n",
              " ('investment', 3.624376927025331),\n",
              " ('stock', 3.6034536056460347),\n",
              " ('economic', 3.5841924680261203),\n",
              " ('enron', 3.5003421332053244),\n",
              " ('investors', 3.277164553582265),\n",
              " ('profits', 3.2237145422091102),\n",
              " ('prices', 3.183076351488505),\n",
              " ('retailer', 3.153441115384544),\n",
              " ('amp', 3.1028014680103815),\n",
              " ('yukos', 3.050224480937139),\n",
              " ('nyse', 3.0318361272590786),\n",
              " ('oracle 39', 3.020638504936711),\n",
              " ('martha stewart', 3.013563488778654)]"
            ]
          },
          "metadata": {
            "tags": []
          },
          "execution_count": 25
        }
      ]
    },
    {
      "cell_type": "code",
      "metadata": {
        "scrolled": true,
        "id": "equipped-divorce",
        "colab": {
          "base_uri": "https://localhost:8080/"
        },
        "outputId": "ba65e6e9-31d0-4c8b-ec32-96160755743d"
      },
      "source": [
        "print('Bigram weights associated with positive reviews')\n",
        "[fw for fw in business_best_weights if ngram_order(fw[0])==2][:20]"
      ],
      "id": "equipped-divorce",
      "execution_count": null,
      "outputs": [
        {
          "output_type": "stream",
          "text": [
            "Bigram weights associated with positive reviews\n"
          ],
          "name": "stdout"
        },
        {
          "output_type": "execute_result",
          "data": {
            "text/plain": [
              "[('oracle 39', 3.020638504936711),\n",
              " ('martha stewart', 3.013563488778654),\n",
              " ('york reuters', 2.7801207658310476),\n",
              " ('forbes com', 2.7577254599851475),\n",
              " ('salvation army', 2.318541583326025),\n",
              " ('world trade', 2.305510169030215),\n",
              " ('hellip and', 2.251491998080154),\n",
              " ('peoplesoft 39', 1.9723062880379543),\n",
              " ('federal reserve', 1.9650091782550603),\n",
              " ('dow jones', 1.9578807555991429),\n",
              " ('us airways', 1.9000470771822369),\n",
              " ('general motors', 1.8900987016022277),\n",
              " ('cbs mw', 1.885430221468918),\n",
              " ('gordon brown', 1.8823603661452968),\n",
              " ('united airlines', 1.8816605786787466),\n",
              " ('chief executive', 1.866326482787732),\n",
              " ('39 largest', 1.8581471351995484),\n",
              " ('the financial', 1.8364931334527008),\n",
              " ('inc 39', 1.7094760282383212),\n",
              " ('real estate', 1.6778984650622282)]"
            ]
          },
          "metadata": {
            "tags": []
          },
          "execution_count": 28
        }
      ]
    },
    {
      "cell_type": "code",
      "metadata": {
        "id": "posted-cancellation",
        "colab": {
          "base_uri": "https://localhost:8080/"
        },
        "outputId": "3f9796bd-5753-422d-ff0c-054cfd5d5e2e"
      },
      "source": [
        "sgd_best.predict(['Mbaye Diagne is booked for a challenge with Cesar Azpilicueta - the Chelsea man goes down holding his face while the striker protests he was just trying to shield the ball.'])"
      ],
      "id": "posted-cancellation",
      "execution_count": null,
      "outputs": [
        {
          "output_type": "execute_result",
          "data": {
            "text/plain": [
              "array([1])"
            ]
          },
          "metadata": {
            "tags": []
          },
          "execution_count": 39
        }
      ]
    },
    {
      "cell_type": "markdown",
      "metadata": {
        "id": "Swdmt11FfpJX"
      },
      "source": [
        "### Running the models on unseen news articles"
      ],
      "id": "Swdmt11FfpJX"
    },
    {
      "cell_type": "code",
      "metadata": {
        "id": "7uDNS_tWfu9b"
      },
      "source": [
        "# Load articles dataset found on Kaggle\n",
        "articles = pd.read_csv('Articles.csv', encoding= 'unicode_escape')"
      ],
      "id": "7uDNS_tWfu9b",
      "execution_count": null,
      "outputs": []
    },
    {
      "cell_type": "code",
      "metadata": {
        "colab": {
          "base_uri": "https://localhost:8080/",
          "height": 202
        },
        "id": "tivY5GL6gk0g",
        "outputId": "69d94c64-0d53-4f54-b445-b4364de42d16"
      },
      "source": [
        "articles.head()"
      ],
      "id": "tivY5GL6gk0g",
      "execution_count": null,
      "outputs": [
        {
          "output_type": "execute_result",
          "data": {
            "text/html": [
              "<div>\n",
              "<style scoped>\n",
              "    .dataframe tbody tr th:only-of-type {\n",
              "        vertical-align: middle;\n",
              "    }\n",
              "\n",
              "    .dataframe tbody tr th {\n",
              "        vertical-align: top;\n",
              "    }\n",
              "\n",
              "    .dataframe thead th {\n",
              "        text-align: right;\n",
              "    }\n",
              "</style>\n",
              "<table border=\"1\" class=\"dataframe\">\n",
              "  <thead>\n",
              "    <tr style=\"text-align: right;\">\n",
              "      <th></th>\n",
              "      <th>Article</th>\n",
              "      <th>Date</th>\n",
              "      <th>Heading</th>\n",
              "      <th>NewsType</th>\n",
              "    </tr>\n",
              "  </thead>\n",
              "  <tbody>\n",
              "    <tr>\n",
              "      <th>0</th>\n",
              "      <td>KARACHI: The Sindh government has decided to b...</td>\n",
              "      <td>1/1/2015</td>\n",
              "      <td>sindh govt decides to cut public transport far...</td>\n",
              "      <td>business</td>\n",
              "    </tr>\n",
              "    <tr>\n",
              "      <th>1</th>\n",
              "      <td>HONG KONG: Asian markets started 2015 on an up...</td>\n",
              "      <td>1/2/2015</td>\n",
              "      <td>asia stocks up in new year trad</td>\n",
              "      <td>business</td>\n",
              "    </tr>\n",
              "    <tr>\n",
              "      <th>2</th>\n",
              "      <td>HONG KONG:  Hong Kong shares opened 0.66 perce...</td>\n",
              "      <td>1/5/2015</td>\n",
              "      <td>hong kong stocks open 0.66 percent lower</td>\n",
              "      <td>business</td>\n",
              "    </tr>\n",
              "    <tr>\n",
              "      <th>3</th>\n",
              "      <td>HONG KONG: Asian markets tumbled Tuesday follo...</td>\n",
              "      <td>1/6/2015</td>\n",
              "      <td>asian stocks sink euro near nine year</td>\n",
              "      <td>business</td>\n",
              "    </tr>\n",
              "    <tr>\n",
              "      <th>4</th>\n",
              "      <td>NEW YORK: US oil prices Monday slipped below $...</td>\n",
              "      <td>1/6/2015</td>\n",
              "      <td>us oil prices slip below 50 a barr</td>\n",
              "      <td>business</td>\n",
              "    </tr>\n",
              "  </tbody>\n",
              "</table>\n",
              "</div>"
            ],
            "text/plain": [
              "                                             Article  ...  NewsType\n",
              "0  KARACHI: The Sindh government has decided to b...  ...  business\n",
              "1  HONG KONG: Asian markets started 2015 on an up...  ...  business\n",
              "2  HONG KONG:  Hong Kong shares opened 0.66 perce...  ...  business\n",
              "3  HONG KONG: Asian markets tumbled Tuesday follo...  ...  business\n",
              "4  NEW YORK: US oil prices Monday slipped below $...  ...  business\n",
              "\n",
              "[5 rows x 4 columns]"
            ]
          },
          "metadata": {
            "tags": []
          },
          "execution_count": 46
        }
      ]
    },
    {
      "cell_type": "code",
      "metadata": {
        "colab": {
          "base_uri": "https://localhost:8080/"
        },
        "id": "ihHme1Tqhp3h",
        "outputId": "7016ab88-03a2-4747-ab03-87b4d7b51d69"
      },
      "source": [
        "# Articles are from 2015 and 2016\n",
        "articles['Date'].value_counts()"
      ],
      "id": "ihHme1Tqhp3h",
      "execution_count": null,
      "outputs": [
        {
          "output_type": "execute_result",
          "data": {
            "text/plain": [
              "8/1/2016      27\n",
              "8/2/2016      24\n",
              "6/3/2016      21\n",
              "8/5/2016      20\n",
              "8/4/2016      19\n",
              "              ..\n",
              "7/8/2015       1\n",
              "9/25/2016      1\n",
              "12/2/2015      1\n",
              "10/29/2016     1\n",
              "1/7/2015       1\n",
              "Name: Date, Length: 666, dtype: int64"
            ]
          },
          "metadata": {
            "tags": []
          },
          "execution_count": 51
        }
      ]
    },
    {
      "cell_type": "code",
      "metadata": {
        "colab": {
          "base_uri": "https://localhost:8080/"
        },
        "id": "sMdEHlMwhKEd",
        "outputId": "b4fd987f-6cf0-4a64-c72d-38a5aa739af9"
      },
      "source": [
        "'''The dataset only contains sports and business articles. We can the  sports and business \n",
        "binary classifier top models on this dataset to see how well they perform on unseen and more recent data.'''\n",
        "articles['NewsType'].value_counts()"
      ],
      "id": "sMdEHlMwhKEd",
      "execution_count": null,
      "outputs": [
        {
          "output_type": "execute_result",
          "data": {
            "text/plain": [
              "sports      1408\n",
              "business    1284\n",
              "Name: NewsType, dtype: int64"
            ]
          },
          "metadata": {
            "tags": []
          },
          "execution_count": 49
        }
      ]
    },
    {
      "cell_type": "code",
      "metadata": {
        "id": "OadLMn3oklxy"
      },
      "source": [
        "articles['business_int'] = articles['NewsType'].replace({'business': 1, 'sports': 0})"
      ],
      "id": "OadLMn3oklxy",
      "execution_count": null,
      "outputs": []
    },
    {
      "cell_type": "code",
      "metadata": {
        "colab": {
          "base_uri": "https://localhost:8080/"
        },
        "id": "a2_wm6sQlRfI",
        "outputId": "ccbfd805-3120-40c1-b3e2-5f0e09f45c92"
      },
      "source": [
        "articles['business_int'].value_counts()"
      ],
      "id": "a2_wm6sQlRfI",
      "execution_count": null,
      "outputs": [
        {
          "output_type": "execute_result",
          "data": {
            "text/plain": [
              "0    1408\n",
              "1    1284\n",
              "Name: business_int, dtype: int64"
            ]
          },
          "metadata": {
            "tags": []
          },
          "execution_count": 54
        }
      ]
    },
    {
      "cell_type": "code",
      "metadata": {
        "id": "neZ3t3E_lW8v"
      },
      "source": [
        "articles['sports_int'] = articles['NewsType'].replace({'business': 0, 'sports': 1})"
      ],
      "id": "neZ3t3E_lW8v",
      "execution_count": null,
      "outputs": []
    },
    {
      "cell_type": "code",
      "metadata": {
        "colab": {
          "base_uri": "https://localhost:8080/"
        },
        "id": "8p1xWZDAlcsi",
        "outputId": "03110884-df36-4dc3-aaa3-cd36b7e49a36"
      },
      "source": [
        "articles['sports_int'].value_counts()"
      ],
      "id": "8p1xWZDAlcsi",
      "execution_count": null,
      "outputs": [
        {
          "output_type": "execute_result",
          "data": {
            "text/plain": [
              "1    1408\n",
              "0    1284\n",
              "Name: sports_int, dtype: int64"
            ]
          },
          "metadata": {
            "tags": []
          },
          "execution_count": 57
        }
      ]
    },
    {
      "cell_type": "code",
      "metadata": {
        "colab": {
          "base_uri": "https://localhost:8080/",
          "height": 289
        },
        "id": "idHIooddmQa-",
        "outputId": "03362810-040b-4a64-db2a-80da07ed57f1"
      },
      "source": [
        "articles.head()"
      ],
      "id": "idHIooddmQa-",
      "execution_count": null,
      "outputs": [
        {
          "output_type": "execute_result",
          "data": {
            "text/html": [
              "<div>\n",
              "<style scoped>\n",
              "    .dataframe tbody tr th:only-of-type {\n",
              "        vertical-align: middle;\n",
              "    }\n",
              "\n",
              "    .dataframe tbody tr th {\n",
              "        vertical-align: top;\n",
              "    }\n",
              "\n",
              "    .dataframe thead th {\n",
              "        text-align: right;\n",
              "    }\n",
              "</style>\n",
              "<table border=\"1\" class=\"dataframe\">\n",
              "  <thead>\n",
              "    <tr style=\"text-align: right;\">\n",
              "      <th></th>\n",
              "      <th>Article</th>\n",
              "      <th>Date</th>\n",
              "      <th>Heading</th>\n",
              "      <th>NewsType</th>\n",
              "      <th>business_int</th>\n",
              "      <th>sports_int</th>\n",
              "    </tr>\n",
              "  </thead>\n",
              "  <tbody>\n",
              "    <tr>\n",
              "      <th>0</th>\n",
              "      <td>KARACHI: The Sindh government has decided to b...</td>\n",
              "      <td>1/1/2015</td>\n",
              "      <td>sindh govt decides to cut public transport far...</td>\n",
              "      <td>business</td>\n",
              "      <td>1</td>\n",
              "      <td>0</td>\n",
              "    </tr>\n",
              "    <tr>\n",
              "      <th>1</th>\n",
              "      <td>HONG KONG: Asian markets started 2015 on an up...</td>\n",
              "      <td>1/2/2015</td>\n",
              "      <td>asia stocks up in new year trad</td>\n",
              "      <td>business</td>\n",
              "      <td>1</td>\n",
              "      <td>0</td>\n",
              "    </tr>\n",
              "    <tr>\n",
              "      <th>2</th>\n",
              "      <td>HONG KONG:  Hong Kong shares opened 0.66 perce...</td>\n",
              "      <td>1/5/2015</td>\n",
              "      <td>hong kong stocks open 0.66 percent lower</td>\n",
              "      <td>business</td>\n",
              "      <td>1</td>\n",
              "      <td>0</td>\n",
              "    </tr>\n",
              "    <tr>\n",
              "      <th>3</th>\n",
              "      <td>HONG KONG: Asian markets tumbled Tuesday follo...</td>\n",
              "      <td>1/6/2015</td>\n",
              "      <td>asian stocks sink euro near nine year</td>\n",
              "      <td>business</td>\n",
              "      <td>1</td>\n",
              "      <td>0</td>\n",
              "    </tr>\n",
              "    <tr>\n",
              "      <th>4</th>\n",
              "      <td>NEW YORK: US oil prices Monday slipped below $...</td>\n",
              "      <td>1/6/2015</td>\n",
              "      <td>us oil prices slip below 50 a barr</td>\n",
              "      <td>business</td>\n",
              "      <td>1</td>\n",
              "      <td>0</td>\n",
              "    </tr>\n",
              "  </tbody>\n",
              "</table>\n",
              "</div>"
            ],
            "text/plain": [
              "                                             Article  ... sports_int\n",
              "0  KARACHI: The Sindh government has decided to b...  ...          0\n",
              "1  HONG KONG: Asian markets started 2015 on an up...  ...          0\n",
              "2  HONG KONG:  Hong Kong shares opened 0.66 perce...  ...          0\n",
              "3  HONG KONG: Asian markets tumbled Tuesday follo...  ...          0\n",
              "4  NEW YORK: US oil prices Monday slipped below $...  ...          0\n",
              "\n",
              "[5 rows x 6 columns]"
            ]
          },
          "metadata": {
            "tags": []
          },
          "execution_count": 60
        }
      ]
    },
    {
      "cell_type": "code",
      "metadata": {
        "colab": {
          "base_uri": "https://localhost:8080/"
        },
        "id": "NC2o-Ph3iZfS",
        "outputId": "406c2d85-447d-47dc-830c-92d2a35d1220"
      },
      "source": [
        "# Evaluating the business binary classifier\n",
        "sgd_best = sgd_grid_business.best_estimator_\n",
        "print('BEST PARAMS:', sgd_grid_business.best_params_)\n",
        "print(classification_report(articles.business_int, \n",
        "                            sgd_best.predict(articles.Article), \n",
        "                            target_names=['negative', 'positive']))"
      ],
      "id": "NC2o-Ph3iZfS",
      "execution_count": null,
      "outputs": [
        {
          "output_type": "stream",
          "text": [
            "BEST PARAMS: {'clf__alpha': 1e-05, 'vect__ngram_range': (1, 2)}\n",
            "              precision    recall  f1-score   support\n",
            "\n",
            "    negative       0.86      1.00      0.93      1408\n",
            "    positive       1.00      0.83      0.90      1284\n",
            "\n",
            "    accuracy                           0.92      2692\n",
            "   macro avg       0.93      0.91      0.91      2692\n",
            "weighted avg       0.93      0.92      0.91      2692\n",
            "\n"
          ],
          "name": "stdout"
        }
      ]
    },
    {
      "cell_type": "code",
      "metadata": {
        "colab": {
          "base_uri": "https://localhost:8080/"
        },
        "id": "pyQJGxRV3xNF",
        "outputId": "22770349-c36f-4c8e-e5c0-f53467139e13"
      },
      "source": [
        "# Evaluating the business binary classifier\n",
        "sgd_best = sgd_grid_sports.best_estimator_\n",
        "print('BEST PARAMS:', sgd_grid_sports.best_params_)\n",
        "print(classification_report(articles.sports_int, \n",
        "                            sgd_best.predict(articles.Article), \n",
        "                            target_names=['negative', 'positive']))"
      ],
      "id": "pyQJGxRV3xNF",
      "execution_count": null,
      "outputs": [
        {
          "output_type": "stream",
          "text": [
            "BEST PARAMS: {'clf__alpha': 1e-05, 'vect__ngram_range': (1, 2)}\n",
            "              precision    recall  f1-score   support\n",
            "\n",
            "    negative       0.98      1.00      0.99      1284\n",
            "    positive       1.00      0.98      0.99      1408\n",
            "\n",
            "    accuracy                           0.99      2692\n",
            "   macro avg       0.99      0.99      0.99      2692\n",
            "weighted avg       0.99      0.99      0.99      2692\n",
            "\n"
          ],
          "name": "stdout"
        }
      ]
    },
    {
      "cell_type": "code",
      "metadata": {
        "id": "SYRiNvvbtZee"
      },
      "source": [
        "'''There is no noticeable divergence in terms of performance when compared to the previous experiment. \n",
        "However, when we test the models on this new dataset, we see that precision is considerably higher than recall. \n",
        "This is due to the models being optimized for overall accuracy in a dataset that was imbalanced towards the \n",
        "negative class, while this new dataset is perfectly balanced.'''"
      ],
      "id": "SYRiNvvbtZee",
      "execution_count": null,
      "outputs": []
    },
    {
      "cell_type": "markdown",
      "metadata": {
        "id": "NcCNoFsMonr3"
      },
      "source": [
        "### Spacy NLP"
      ],
      "id": "NcCNoFsMonr3"
    },
    {
      "cell_type": "code",
      "metadata": {
        "colab": {
          "base_uri": "https://localhost:8080/"
        },
        "id": "GhNPBkb1sDyS",
        "outputId": "f4ffe77c-9983-42e5-a9fa-4ea6d5dbe008"
      },
      "source": [
        "!python -m spacy download en_core_web_sm"
      ],
      "id": "GhNPBkb1sDyS",
      "execution_count": null,
      "outputs": [
        {
          "output_type": "stream",
          "text": [
            "Requirement already satisfied: en_core_web_sm==2.2.5 from https://github.com/explosion/spacy-models/releases/download/en_core_web_sm-2.2.5/en_core_web_sm-2.2.5.tar.gz#egg=en_core_web_sm==2.2.5 in /usr/local/lib/python3.7/dist-packages (2.2.5)\n",
            "Requirement already satisfied: spacy>=2.2.2 in /usr/local/lib/python3.7/dist-packages (from en_core_web_sm==2.2.5) (2.2.4)\n",
            "Requirement already satisfied: srsly<1.1.0,>=1.0.2 in /usr/local/lib/python3.7/dist-packages (from spacy>=2.2.2->en_core_web_sm==2.2.5) (1.0.5)\n",
            "Requirement already satisfied: tqdm<5.0.0,>=4.38.0 in /usr/local/lib/python3.7/dist-packages (from spacy>=2.2.2->en_core_web_sm==2.2.5) (4.41.1)\n",
            "Requirement already satisfied: catalogue<1.1.0,>=0.0.7 in /usr/local/lib/python3.7/dist-packages (from spacy>=2.2.2->en_core_web_sm==2.2.5) (1.0.0)\n",
            "Requirement already satisfied: setuptools in /usr/local/lib/python3.7/dist-packages (from spacy>=2.2.2->en_core_web_sm==2.2.5) (54.2.0)\n",
            "Requirement already satisfied: blis<0.5.0,>=0.4.0 in /usr/local/lib/python3.7/dist-packages (from spacy>=2.2.2->en_core_web_sm==2.2.5) (0.4.1)\n",
            "Requirement already satisfied: numpy>=1.15.0 in /usr/local/lib/python3.7/dist-packages (from spacy>=2.2.2->en_core_web_sm==2.2.5) (1.19.5)\n",
            "Requirement already satisfied: murmurhash<1.1.0,>=0.28.0 in /usr/local/lib/python3.7/dist-packages (from spacy>=2.2.2->en_core_web_sm==2.2.5) (1.0.5)\n",
            "Requirement already satisfied: wasabi<1.1.0,>=0.4.0 in /usr/local/lib/python3.7/dist-packages (from spacy>=2.2.2->en_core_web_sm==2.2.5) (0.8.2)\n",
            "Requirement already satisfied: thinc==7.4.0 in /usr/local/lib/python3.7/dist-packages (from spacy>=2.2.2->en_core_web_sm==2.2.5) (7.4.0)\n",
            "Requirement already satisfied: plac<1.2.0,>=0.9.6 in /usr/local/lib/python3.7/dist-packages (from spacy>=2.2.2->en_core_web_sm==2.2.5) (1.1.3)\n",
            "Requirement already satisfied: requests<3.0.0,>=2.13.0 in /usr/local/lib/python3.7/dist-packages (from spacy>=2.2.2->en_core_web_sm==2.2.5) (2.23.0)\n",
            "Requirement already satisfied: preshed<3.1.0,>=3.0.2 in /usr/local/lib/python3.7/dist-packages (from spacy>=2.2.2->en_core_web_sm==2.2.5) (3.0.5)\n",
            "Requirement already satisfied: cymem<2.1.0,>=2.0.2 in /usr/local/lib/python3.7/dist-packages (from spacy>=2.2.2->en_core_web_sm==2.2.5) (2.0.5)\n",
            "Requirement already satisfied: importlib-metadata>=0.20; python_version < \"3.8\" in /usr/local/lib/python3.7/dist-packages (from catalogue<1.1.0,>=0.0.7->spacy>=2.2.2->en_core_web_sm==2.2.5) (3.8.1)\n",
            "Requirement already satisfied: urllib3!=1.25.0,!=1.25.1,<1.26,>=1.21.1 in /usr/local/lib/python3.7/dist-packages (from requests<3.0.0,>=2.13.0->spacy>=2.2.2->en_core_web_sm==2.2.5) (1.24.3)\n",
            "Requirement already satisfied: idna<3,>=2.5 in /usr/local/lib/python3.7/dist-packages (from requests<3.0.0,>=2.13.0->spacy>=2.2.2->en_core_web_sm==2.2.5) (2.10)\n",
            "Requirement already satisfied: chardet<4,>=3.0.2 in /usr/local/lib/python3.7/dist-packages (from requests<3.0.0,>=2.13.0->spacy>=2.2.2->en_core_web_sm==2.2.5) (3.0.4)\n",
            "Requirement already satisfied: certifi>=2017.4.17 in /usr/local/lib/python3.7/dist-packages (from requests<3.0.0,>=2.13.0->spacy>=2.2.2->en_core_web_sm==2.2.5) (2020.12.5)\n",
            "Requirement already satisfied: typing-extensions>=3.6.4; python_version < \"3.8\" in /usr/local/lib/python3.7/dist-packages (from importlib-metadata>=0.20; python_version < \"3.8\"->catalogue<1.1.0,>=0.0.7->spacy>=2.2.2->en_core_web_sm==2.2.5) (3.7.4.3)\n",
            "Requirement already satisfied: zipp>=0.5 in /usr/local/lib/python3.7/dist-packages (from importlib-metadata>=0.20; python_version < \"3.8\"->catalogue<1.1.0,>=0.0.7->spacy>=2.2.2->en_core_web_sm==2.2.5) (3.4.1)\n",
            "\u001b[38;5;2m✔ Download and installation successful\u001b[0m\n",
            "You can now load the model via spacy.load('en_core_web_sm')\n"
          ],
          "name": "stdout"
        }
      ]
    },
    {
      "cell_type": "code",
      "metadata": {
        "id": "WUMtnTjltHes"
      },
      "source": [
        "import spacy\n",
        "from tqdm import tqdm\n",
        "import qgrid"
      ],
      "id": "WUMtnTjltHes",
      "execution_count": null,
      "outputs": []
    },
    {
      "cell_type": "code",
      "metadata": {
        "id": "V4Iauo6FpUjb"
      },
      "source": [
        "spacy_nlp = spacy.load('en_core_web_sm')"
      ],
      "id": "V4Iauo6FpUjb",
      "execution_count": null,
      "outputs": []
    },
    {
      "cell_type": "code",
      "metadata": {
        "colab": {
          "base_uri": "https://localhost:8080/"
        },
        "id": "iXvMW7Lct0Lp",
        "outputId": "0b022e2d-255a-4ad5-e235-a28c110dc3e2"
      },
      "source": [
        "N=100\n",
        "train_nlp = [spacy_nlp(t) for t in tqdm(train.text[:100])]"
      ],
      "id": "iXvMW7Lct0Lp",
      "execution_count": null,
      "outputs": [
        {
          "output_type": "stream",
          "text": [
            "100%|██████████| 100/100 [00:01<00:00, 54.87it/s]\n"
          ],
          "name": "stderr"
        }
      ]
    },
    {
      "cell_type": "code",
      "metadata": {
        "id": "kTpK8DvMwGLF"
      },
      "source": [
        "sentence = train_nlp[0]"
      ],
      "id": "kTpK8DvMwGLF",
      "execution_count": null,
      "outputs": []
    },
    {
      "cell_type": "code",
      "metadata": {
        "colab": {
          "base_uri": "https://localhost:8080/"
        },
        "id": "k1X_KAwEwQEy",
        "outputId": "4829b374-467b-457e-c248-69fb342c0aaa"
      },
      "source": [
        "[(t.text, t.lemma_,t.tag_,t.ent_type_) for t in sentence]"
      ],
      "id": "k1X_KAwEwQEy",
      "execution_count": null,
      "outputs": [
        {
          "output_type": "execute_result",
          "data": {
            "text/plain": [
              "[('John', 'John', 'NNP', 'PERSON'),\n",
              " ('Souza', 'Souza', 'NNP', 'PERSON'),\n",
              " (',', ',', ',', ''),\n",
              " ('a', 'a', 'DT', ''),\n",
              " ('volunteer', 'volunteer', 'NN', ''),\n",
              " ('with', 'with', 'IN', ''),\n",
              " ('the', 'the', 'DT', ''),\n",
              " ('Boone', 'Boone', 'NNP', 'GPE'),\n",
              " ('County', 'County', 'NNP', 'GPE'),\n",
              " ('chapter', 'chapter', 'NN', ''),\n",
              " ('of', 'of', 'IN', ''),\n",
              " ('the', 'the', 'DT', 'ORG'),\n",
              " ('American', 'American', 'NNP', 'ORG'),\n",
              " ('Red', 'Red', 'NNP', 'ORG'),\n",
              " ('Cross', 'Cross', 'NNP', 'ORG'),\n",
              " (',', ',', ',', ''),\n",
              " ('is', 'be', 'VBZ', ''),\n",
              " ('the', 'the', 'DT', ''),\n",
              " ('second', 'second', 'JJ', ''),\n",
              " ('Columbia', 'Columbia', 'NNP', 'ORG'),\n",
              " ('resident', 'resident', 'NN', ''),\n",
              " ('to', 'to', 'TO', ''),\n",
              " ('join', 'join', 'VB', ''),\n",
              " ('efforts', 'effort', 'NNS', ''),\n",
              " ('to', 'to', 'TO', ''),\n",
              " ('assist', 'assist', 'VB', ''),\n",
              " ('people', 'people', 'NNS', ''),\n",
              " ('who', 'who', 'WP', ''),\n",
              " ('were', 'be', 'VBD', ''),\n",
              " ('affected', 'affect', 'VBN', ''),\n",
              " ('by', 'by', 'IN', ''),\n",
              " ('Tropical', 'Tropical', 'NNP', 'PERSON'),\n",
              " ('Storm', 'Storm', 'NNP', 'PERSON'),\n",
              " ('Bonnie', 'Bonnie', 'NNP', 'PERSON'),\n",
              " ('and', 'and', 'CC', ''),\n",
              " ('Hurricane', 'Hurricane', 'NNP', 'ORG'),\n",
              " ('Charley', 'Charley', 'NNP', 'ORG'),\n",
              " ('.', '.', '.', '')]"
            ]
          },
          "metadata": {
            "tags": []
          },
          "execution_count": 105
        }
      ]
    },
    {
      "cell_type": "code",
      "metadata": {
        "colab": {
          "base_uri": "https://localhost:8080/"
        },
        "id": "p0rm1lKuwpTs",
        "outputId": "fae29adb-cffd-459c-fa24-bd80a3d275ce"
      },
      "source": [
        "for e in sentence.ents:\n",
        "    print('ENTITY', e, 'TYPE', e.label_, 'LEMMA', e.lemma_)"
      ],
      "id": "p0rm1lKuwpTs",
      "execution_count": null,
      "outputs": [
        {
          "output_type": "stream",
          "text": [
            "ENTITY John Souza TYPE PERSON LEMMA John Souza\n",
            "ENTITY Boone County TYPE GPE LEMMA Boone County\n",
            "ENTITY the American Red Cross TYPE ORG LEMMA the American Red Cross\n",
            "ENTITY Columbia TYPE ORG LEMMA Columbia\n",
            "ENTITY Tropical Storm Bonnie TYPE PERSON LEMMA Tropical Storm Bonnie\n",
            "ENTITY Hurricane Charley TYPE ORG LEMMA Hurricane Charley\n"
          ],
          "name": "stdout"
        }
      ]
    },
    {
      "cell_type": "code",
      "metadata": {
        "colab": {
          "base_uri": "https://localhost:8080/"
        },
        "id": "QzvXOMMKwr0q",
        "outputId": "ac324b36-f741-4d22-9e5f-0daa6759805f"
      },
      "source": [
        "sentence = train_nlp[0]\n",
        "print('SENTENCE', sentence)\n",
        "for e in sentence.ents:\n",
        "    print('ENTITY', e, 'TYPE', e.label_, 'LEMMA', e.lemma_)"
      ],
      "id": "QzvXOMMKwr0q",
      "execution_count": null,
      "outputs": [
        {
          "output_type": "stream",
          "text": [
            "SENTENCE John Souza, a volunteer with the Boone County chapter of the American Red Cross, is the second Columbia resident to join efforts to assist people who were affected by Tropical Storm Bonnie and Hurricane Charley.\n",
            "ENTITY John Souza TYPE PERSON LEMMA John Souza\n",
            "ENTITY Boone County TYPE GPE LEMMA Boone County\n",
            "ENTITY the American Red Cross TYPE ORG LEMMA the American Red Cross\n",
            "ENTITY Columbia TYPE ORG LEMMA Columbia\n",
            "ENTITY Tropical Storm Bonnie TYPE PERSON LEMMA Tropical Storm Bonnie\n",
            "ENTITY Hurricane Charley TYPE ORG LEMMA Hurricane Charley\n"
          ],
          "name": "stdout"
        }
      ]
    },
    {
      "cell_type": "code",
      "metadata": {
        "colab": {
          "base_uri": "https://localhost:8080/"
        },
        "id": "p_xGsNC_xZdS",
        "outputId": "687197e5-6931-487a-deb5-1d2fc6c332bb"
      },
      "source": [
        "[(t.lemma_, t.tag_) for t in sentence if t.tag_ in ['JJ', 'NN', 'NNP']]"
      ],
      "id": "p_xGsNC_xZdS",
      "execution_count": null,
      "outputs": [
        {
          "output_type": "execute_result",
          "data": {
            "text/plain": [
              "[('John', 'NNP'),\n",
              " ('Souza', 'NNP'),\n",
              " ('volunteer', 'NN'),\n",
              " ('Boone', 'NNP'),\n",
              " ('County', 'NNP'),\n",
              " ('chapter', 'NN'),\n",
              " ('American', 'NNP'),\n",
              " ('Red', 'NNP'),\n",
              " ('Cross', 'NNP'),\n",
              " ('second', 'JJ'),\n",
              " ('Columbia', 'NNP'),\n",
              " ('resident', 'NN'),\n",
              " ('Tropical', 'NNP'),\n",
              " ('Storm', 'NNP'),\n",
              " ('Bonnie', 'NNP'),\n",
              " ('Hurricane', 'NNP'),\n",
              " ('Charley', 'NNP')]"
            ]
          },
          "metadata": {
            "tags": []
          },
          "execution_count": 109
        }
      ]
    },
    {
      "cell_type": "code",
      "metadata": {
        "colab": {
          "base_uri": "https://localhost:8080/"
        },
        "id": "Eu0KdyqUxgiB",
        "outputId": "7f7048dc-3f17-4e70-cb51-6a07fa549f57"
      },
      "source": [
        "list(sentence.noun_chunks)"
      ],
      "id": "Eu0KdyqUxgiB",
      "execution_count": null,
      "outputs": [
        {
          "output_type": "execute_result",
          "data": {
            "text/plain": [
              "[John Souza,\n",
              " a volunteer,\n",
              " the Boone County chapter,\n",
              " the American Red Cross,\n",
              " the second Columbia resident,\n",
              " efforts,\n",
              " people,\n",
              " who,\n",
              " Tropical Storm Bonnie,\n",
              " Hurricane Charley]"
            ]
          },
          "metadata": {
            "tags": []
          },
          "execution_count": 110
        }
      ]
    },
    {
      "cell_type": "code",
      "metadata": {
        "colab": {
          "base_uri": "https://localhost:8080/",
          "height": 191
        },
        "id": "Hr_WAGCYxk-E",
        "outputId": "a9e20336-77cc-4788-d89f-c7505b4ce4d3"
      },
      "source": [
        "from spacy import displacy\n",
        "displacy.render(sentence, style=\"dep\")"
      ],
      "id": "Hr_WAGCYxk-E",
      "execution_count": null,
      "outputs": [
        {
          "output_type": "execute_result",
          "data": {
            "application/vnd.google.colaboratory.intrinsic+json": {
              "type": "string"
            },
            "text/plain": [
              "'<svg xmlns=\"http://www.w3.org/2000/svg\" xmlns:xlink=\"http://www.w3.org/1999/xlink\" xml:lang=\"en\" id=\"8e24037b2fc94ccdbd1afc70b65466d6-0\" class=\"displacy\" width=\"6175\" height=\"574.5\" direction=\"ltr\" style=\"max-width: none; height: 574.5px; color: #000000; background: #ffffff; font-family: Arial; direction: ltr\">\\n<text class=\"displacy-token\" fill=\"currentColor\" text-anchor=\"middle\" y=\"484.5\">\\n    <tspan class=\"displacy-word\" fill=\"currentColor\" x=\"50\">John</tspan>\\n    <tspan class=\"displacy-tag\" dy=\"2em\" fill=\"currentColor\" x=\"50\">PROPN</tspan>\\n</text>\\n\\n<text class=\"displacy-token\" fill=\"currentColor\" text-anchor=\"middle\" y=\"484.5\">\\n    <tspan class=\"displacy-word\" fill=\"currentColor\" x=\"225\">Souza,</tspan>\\n    <tspan class=\"displacy-tag\" dy=\"2em\" fill=\"currentColor\" x=\"225\">PROPN</tspan>\\n</text>\\n\\n<text class=\"displacy-token\" fill=\"currentColor\" text-anchor=\"middle\" y=\"484.5\">\\n    <tspan class=\"displacy-word\" fill=\"currentColor\" x=\"400\">a</tspan>\\n    <tspan class=\"displacy-tag\" dy=\"2em\" fill=\"currentColor\" x=\"400\">DET</tspan>\\n</text>\\n\\n<text class=\"displacy-token\" fill=\"currentColor\" text-anchor=\"middle\" y=\"484.5\">\\n    <tspan class=\"displacy-word\" fill=\"currentColor\" x=\"575\">volunteer</tspan>\\n    <tspan class=\"displacy-tag\" dy=\"2em\" fill=\"currentColor\" x=\"575\">NOUN</tspan>\\n</text>\\n\\n<text class=\"displacy-token\" fill=\"currentColor\" text-anchor=\"middle\" y=\"484.5\">\\n    <tspan class=\"displacy-word\" fill=\"currentColor\" x=\"750\">with</tspan>\\n    <tspan class=\"displacy-tag\" dy=\"2em\" fill=\"currentColor\" x=\"750\">ADP</tspan>\\n</text>\\n\\n<text class=\"displacy-token\" fill=\"currentColor\" text-anchor=\"middle\" y=\"484.5\">\\n    <tspan class=\"displacy-word\" fill=\"currentColor\" x=\"925\">the</tspan>\\n    <tspan class=\"displacy-tag\" dy=\"2em\" fill=\"currentColor\" x=\"925\">DET</tspan>\\n</text>\\n\\n<text class=\"displacy-token\" fill=\"currentColor\" text-anchor=\"middle\" y=\"484.5\">\\n    <tspan class=\"displacy-word\" fill=\"currentColor\" x=\"1100\">Boone</tspan>\\n    <tspan class=\"displacy-tag\" dy=\"2em\" fill=\"currentColor\" x=\"1100\">PROPN</tspan>\\n</text>\\n\\n<text class=\"displacy-token\" fill=\"currentColor\" text-anchor=\"middle\" y=\"484.5\">\\n    <tspan class=\"displacy-word\" fill=\"currentColor\" x=\"1275\">County</tspan>\\n    <tspan class=\"displacy-tag\" dy=\"2em\" fill=\"currentColor\" x=\"1275\">PROPN</tspan>\\n</text>\\n\\n<text class=\"displacy-token\" fill=\"currentColor\" text-anchor=\"middle\" y=\"484.5\">\\n    <tspan class=\"displacy-word\" fill=\"currentColor\" x=\"1450\">chapter</tspan>\\n    <tspan class=\"displacy-tag\" dy=\"2em\" fill=\"currentColor\" x=\"1450\">NOUN</tspan>\\n</text>\\n\\n<text class=\"displacy-token\" fill=\"currentColor\" text-anchor=\"middle\" y=\"484.5\">\\n    <tspan class=\"displacy-word\" fill=\"currentColor\" x=\"1625\">of</tspan>\\n    <tspan class=\"displacy-tag\" dy=\"2em\" fill=\"currentColor\" x=\"1625\">ADP</tspan>\\n</text>\\n\\n<text class=\"displacy-token\" fill=\"currentColor\" text-anchor=\"middle\" y=\"484.5\">\\n    <tspan class=\"displacy-word\" fill=\"currentColor\" x=\"1800\">the</tspan>\\n    <tspan class=\"displacy-tag\" dy=\"2em\" fill=\"currentColor\" x=\"1800\">DET</tspan>\\n</text>\\n\\n<text class=\"displacy-token\" fill=\"currentColor\" text-anchor=\"middle\" y=\"484.5\">\\n    <tspan class=\"displacy-word\" fill=\"currentColor\" x=\"1975\">American</tspan>\\n    <tspan class=\"displacy-tag\" dy=\"2em\" fill=\"currentColor\" x=\"1975\">PROPN</tspan>\\n</text>\\n\\n<text class=\"displacy-token\" fill=\"currentColor\" text-anchor=\"middle\" y=\"484.5\">\\n    <tspan class=\"displacy-word\" fill=\"currentColor\" x=\"2150\">Red</tspan>\\n    <tspan class=\"displacy-tag\" dy=\"2em\" fill=\"currentColor\" x=\"2150\">PROPN</tspan>\\n</text>\\n\\n<text class=\"displacy-token\" fill=\"currentColor\" text-anchor=\"middle\" y=\"484.5\">\\n    <tspan class=\"displacy-word\" fill=\"currentColor\" x=\"2325\">Cross,</tspan>\\n    <tspan class=\"displacy-tag\" dy=\"2em\" fill=\"currentColor\" x=\"2325\">PROPN</tspan>\\n</text>\\n\\n<text class=\"displacy-token\" fill=\"currentColor\" text-anchor=\"middle\" y=\"484.5\">\\n    <tspan class=\"displacy-word\" fill=\"currentColor\" x=\"2500\">is</tspan>\\n    <tspan class=\"displacy-tag\" dy=\"2em\" fill=\"currentColor\" x=\"2500\">AUX</tspan>\\n</text>\\n\\n<text class=\"displacy-token\" fill=\"currentColor\" text-anchor=\"middle\" y=\"484.5\">\\n    <tspan class=\"displacy-word\" fill=\"currentColor\" x=\"2675\">the</tspan>\\n    <tspan class=\"displacy-tag\" dy=\"2em\" fill=\"currentColor\" x=\"2675\">DET</tspan>\\n</text>\\n\\n<text class=\"displacy-token\" fill=\"currentColor\" text-anchor=\"middle\" y=\"484.5\">\\n    <tspan class=\"displacy-word\" fill=\"currentColor\" x=\"2850\">second</tspan>\\n    <tspan class=\"displacy-tag\" dy=\"2em\" fill=\"currentColor\" x=\"2850\">ADJ</tspan>\\n</text>\\n\\n<text class=\"displacy-token\" fill=\"currentColor\" text-anchor=\"middle\" y=\"484.5\">\\n    <tspan class=\"displacy-word\" fill=\"currentColor\" x=\"3025\">Columbia</tspan>\\n    <tspan class=\"displacy-tag\" dy=\"2em\" fill=\"currentColor\" x=\"3025\">PROPN</tspan>\\n</text>\\n\\n<text class=\"displacy-token\" fill=\"currentColor\" text-anchor=\"middle\" y=\"484.5\">\\n    <tspan class=\"displacy-word\" fill=\"currentColor\" x=\"3200\">resident</tspan>\\n    <tspan class=\"displacy-tag\" dy=\"2em\" fill=\"currentColor\" x=\"3200\">NOUN</tspan>\\n</text>\\n\\n<text class=\"displacy-token\" fill=\"currentColor\" text-anchor=\"middle\" y=\"484.5\">\\n    <tspan class=\"displacy-word\" fill=\"currentColor\" x=\"3375\">to</tspan>\\n    <tspan class=\"displacy-tag\" dy=\"2em\" fill=\"currentColor\" x=\"3375\">PART</tspan>\\n</text>\\n\\n<text class=\"displacy-token\" fill=\"currentColor\" text-anchor=\"middle\" y=\"484.5\">\\n    <tspan class=\"displacy-word\" fill=\"currentColor\" x=\"3550\">join</tspan>\\n    <tspan class=\"displacy-tag\" dy=\"2em\" fill=\"currentColor\" x=\"3550\">VERB</tspan>\\n</text>\\n\\n<text class=\"displacy-token\" fill=\"currentColor\" text-anchor=\"middle\" y=\"484.5\">\\n    <tspan class=\"displacy-word\" fill=\"currentColor\" x=\"3725\">efforts</tspan>\\n    <tspan class=\"displacy-tag\" dy=\"2em\" fill=\"currentColor\" x=\"3725\">NOUN</tspan>\\n</text>\\n\\n<text class=\"displacy-token\" fill=\"currentColor\" text-anchor=\"middle\" y=\"484.5\">\\n    <tspan class=\"displacy-word\" fill=\"currentColor\" x=\"3900\">to</tspan>\\n    <tspan class=\"displacy-tag\" dy=\"2em\" fill=\"currentColor\" x=\"3900\">PART</tspan>\\n</text>\\n\\n<text class=\"displacy-token\" fill=\"currentColor\" text-anchor=\"middle\" y=\"484.5\">\\n    <tspan class=\"displacy-word\" fill=\"currentColor\" x=\"4075\">assist</tspan>\\n    <tspan class=\"displacy-tag\" dy=\"2em\" fill=\"currentColor\" x=\"4075\">VERB</tspan>\\n</text>\\n\\n<text class=\"displacy-token\" fill=\"currentColor\" text-anchor=\"middle\" y=\"484.5\">\\n    <tspan class=\"displacy-word\" fill=\"currentColor\" x=\"4250\">people</tspan>\\n    <tspan class=\"displacy-tag\" dy=\"2em\" fill=\"currentColor\" x=\"4250\">NOUN</tspan>\\n</text>\\n\\n<text class=\"displacy-token\" fill=\"currentColor\" text-anchor=\"middle\" y=\"484.5\">\\n    <tspan class=\"displacy-word\" fill=\"currentColor\" x=\"4425\">who</tspan>\\n    <tspan class=\"displacy-tag\" dy=\"2em\" fill=\"currentColor\" x=\"4425\">PRON</tspan>\\n</text>\\n\\n<text class=\"displacy-token\" fill=\"currentColor\" text-anchor=\"middle\" y=\"484.5\">\\n    <tspan class=\"displacy-word\" fill=\"currentColor\" x=\"4600\">were</tspan>\\n    <tspan class=\"displacy-tag\" dy=\"2em\" fill=\"currentColor\" x=\"4600\">AUX</tspan>\\n</text>\\n\\n<text class=\"displacy-token\" fill=\"currentColor\" text-anchor=\"middle\" y=\"484.5\">\\n    <tspan class=\"displacy-word\" fill=\"currentColor\" x=\"4775\">affected</tspan>\\n    <tspan class=\"displacy-tag\" dy=\"2em\" fill=\"currentColor\" x=\"4775\">VERB</tspan>\\n</text>\\n\\n<text class=\"displacy-token\" fill=\"currentColor\" text-anchor=\"middle\" y=\"484.5\">\\n    <tspan class=\"displacy-word\" fill=\"currentColor\" x=\"4950\">by</tspan>\\n    <tspan class=\"displacy-tag\" dy=\"2em\" fill=\"currentColor\" x=\"4950\">ADP</tspan>\\n</text>\\n\\n<text class=\"displacy-token\" fill=\"currentColor\" text-anchor=\"middle\" y=\"484.5\">\\n    <tspan class=\"displacy-word\" fill=\"currentColor\" x=\"5125\">Tropical</tspan>\\n    <tspan class=\"displacy-tag\" dy=\"2em\" fill=\"currentColor\" x=\"5125\">PROPN</tspan>\\n</text>\\n\\n<text class=\"displacy-token\" fill=\"currentColor\" text-anchor=\"middle\" y=\"484.5\">\\n    <tspan class=\"displacy-word\" fill=\"currentColor\" x=\"5300\">Storm</tspan>\\n    <tspan class=\"displacy-tag\" dy=\"2em\" fill=\"currentColor\" x=\"5300\">PROPN</tspan>\\n</text>\\n\\n<text class=\"displacy-token\" fill=\"currentColor\" text-anchor=\"middle\" y=\"484.5\">\\n    <tspan class=\"displacy-word\" fill=\"currentColor\" x=\"5475\">Bonnie</tspan>\\n    <tspan class=\"displacy-tag\" dy=\"2em\" fill=\"currentColor\" x=\"5475\">PROPN</tspan>\\n</text>\\n\\n<text class=\"displacy-token\" fill=\"currentColor\" text-anchor=\"middle\" y=\"484.5\">\\n    <tspan class=\"displacy-word\" fill=\"currentColor\" x=\"5650\">and</tspan>\\n    <tspan class=\"displacy-tag\" dy=\"2em\" fill=\"currentColor\" x=\"5650\">CCONJ</tspan>\\n</text>\\n\\n<text class=\"displacy-token\" fill=\"currentColor\" text-anchor=\"middle\" y=\"484.5\">\\n    <tspan class=\"displacy-word\" fill=\"currentColor\" x=\"5825\">Hurricane</tspan>\\n    <tspan class=\"displacy-tag\" dy=\"2em\" fill=\"currentColor\" x=\"5825\">PROPN</tspan>\\n</text>\\n\\n<text class=\"displacy-token\" fill=\"currentColor\" text-anchor=\"middle\" y=\"484.5\">\\n    <tspan class=\"displacy-word\" fill=\"currentColor\" x=\"6000\">Charley.</tspan>\\n    <tspan class=\"displacy-tag\" dy=\"2em\" fill=\"currentColor\" x=\"6000\">PROPN</tspan>\\n</text>\\n\\n<g class=\"displacy-arrow\">\\n    <path class=\"displacy-arc\" id=\"arrow-8e24037b2fc94ccdbd1afc70b65466d6-0-0\" stroke-width=\"2px\" d=\"M70,439.5 C70,352.0 205.0,352.0 205.0,439.5\" fill=\"none\" stroke=\"currentColor\"/>\\n    <text dy=\"1.25em\" style=\"font-size: 0.8em; letter-spacing: 1px\">\\n        <textPath xlink:href=\"#arrow-8e24037b2fc94ccdbd1afc70b65466d6-0-0\" class=\"displacy-label\" startOffset=\"50%\" side=\"left\" fill=\"currentColor\" text-anchor=\"middle\">compound</textPath>\\n    </text>\\n    <path class=\"displacy-arrowhead\" d=\"M70,441.5 L62,429.5 78,429.5\" fill=\"currentColor\"/>\\n</g>\\n\\n<g class=\"displacy-arrow\">\\n    <path class=\"displacy-arc\" id=\"arrow-8e24037b2fc94ccdbd1afc70b65466d6-0-1\" stroke-width=\"2px\" d=\"M245,439.5 C245,2.0 2500.0,2.0 2500.0,439.5\" fill=\"none\" stroke=\"currentColor\"/>\\n    <text dy=\"1.25em\" style=\"font-size: 0.8em; letter-spacing: 1px\">\\n        <textPath xlink:href=\"#arrow-8e24037b2fc94ccdbd1afc70b65466d6-0-1\" class=\"displacy-label\" startOffset=\"50%\" side=\"left\" fill=\"currentColor\" text-anchor=\"middle\">nsubj</textPath>\\n    </text>\\n    <path class=\"displacy-arrowhead\" d=\"M245,441.5 L237,429.5 253,429.5\" fill=\"currentColor\"/>\\n</g>\\n\\n<g class=\"displacy-arrow\">\\n    <path class=\"displacy-arc\" id=\"arrow-8e24037b2fc94ccdbd1afc70b65466d6-0-2\" stroke-width=\"2px\" d=\"M420,439.5 C420,352.0 555.0,352.0 555.0,439.5\" fill=\"none\" stroke=\"currentColor\"/>\\n    <text dy=\"1.25em\" style=\"font-size: 0.8em; letter-spacing: 1px\">\\n        <textPath xlink:href=\"#arrow-8e24037b2fc94ccdbd1afc70b65466d6-0-2\" class=\"displacy-label\" startOffset=\"50%\" side=\"left\" fill=\"currentColor\" text-anchor=\"middle\">det</textPath>\\n    </text>\\n    <path class=\"displacy-arrowhead\" d=\"M420,441.5 L412,429.5 428,429.5\" fill=\"currentColor\"/>\\n</g>\\n\\n<g class=\"displacy-arrow\">\\n    <path class=\"displacy-arc\" id=\"arrow-8e24037b2fc94ccdbd1afc70b65466d6-0-3\" stroke-width=\"2px\" d=\"M245,439.5 C245,264.5 560.0,264.5 560.0,439.5\" fill=\"none\" stroke=\"currentColor\"/>\\n    <text dy=\"1.25em\" style=\"font-size: 0.8em; letter-spacing: 1px\">\\n        <textPath xlink:href=\"#arrow-8e24037b2fc94ccdbd1afc70b65466d6-0-3\" class=\"displacy-label\" startOffset=\"50%\" side=\"left\" fill=\"currentColor\" text-anchor=\"middle\">appos</textPath>\\n    </text>\\n    <path class=\"displacy-arrowhead\" d=\"M560.0,441.5 L568.0,429.5 552.0,429.5\" fill=\"currentColor\"/>\\n</g>\\n\\n<g class=\"displacy-arrow\">\\n    <path class=\"displacy-arc\" id=\"arrow-8e24037b2fc94ccdbd1afc70b65466d6-0-4\" stroke-width=\"2px\" d=\"M595,439.5 C595,352.0 730.0,352.0 730.0,439.5\" fill=\"none\" stroke=\"currentColor\"/>\\n    <text dy=\"1.25em\" style=\"font-size: 0.8em; letter-spacing: 1px\">\\n        <textPath xlink:href=\"#arrow-8e24037b2fc94ccdbd1afc70b65466d6-0-4\" class=\"displacy-label\" startOffset=\"50%\" side=\"left\" fill=\"currentColor\" text-anchor=\"middle\">prep</textPath>\\n    </text>\\n    <path class=\"displacy-arrowhead\" d=\"M730.0,441.5 L738.0,429.5 722.0,429.5\" fill=\"currentColor\"/>\\n</g>\\n\\n<g class=\"displacy-arrow\">\\n    <path class=\"displacy-arc\" id=\"arrow-8e24037b2fc94ccdbd1afc70b65466d6-0-5\" stroke-width=\"2px\" d=\"M945,439.5 C945,177.0 1440.0,177.0 1440.0,439.5\" fill=\"none\" stroke=\"currentColor\"/>\\n    <text dy=\"1.25em\" style=\"font-size: 0.8em; letter-spacing: 1px\">\\n        <textPath xlink:href=\"#arrow-8e24037b2fc94ccdbd1afc70b65466d6-0-5\" class=\"displacy-label\" startOffset=\"50%\" side=\"left\" fill=\"currentColor\" text-anchor=\"middle\">det</textPath>\\n    </text>\\n    <path class=\"displacy-arrowhead\" d=\"M945,441.5 L937,429.5 953,429.5\" fill=\"currentColor\"/>\\n</g>\\n\\n<g class=\"displacy-arrow\">\\n    <path class=\"displacy-arc\" id=\"arrow-8e24037b2fc94ccdbd1afc70b65466d6-0-6\" stroke-width=\"2px\" d=\"M1120,439.5 C1120,352.0 1255.0,352.0 1255.0,439.5\" fill=\"none\" stroke=\"currentColor\"/>\\n    <text dy=\"1.25em\" style=\"font-size: 0.8em; letter-spacing: 1px\">\\n        <textPath xlink:href=\"#arrow-8e24037b2fc94ccdbd1afc70b65466d6-0-6\" class=\"displacy-label\" startOffset=\"50%\" side=\"left\" fill=\"currentColor\" text-anchor=\"middle\">compound</textPath>\\n    </text>\\n    <path class=\"displacy-arrowhead\" d=\"M1120,441.5 L1112,429.5 1128,429.5\" fill=\"currentColor\"/>\\n</g>\\n\\n<g class=\"displacy-arrow\">\\n    <path class=\"displacy-arc\" id=\"arrow-8e24037b2fc94ccdbd1afc70b65466d6-0-7\" stroke-width=\"2px\" d=\"M1295,439.5 C1295,352.0 1430.0,352.0 1430.0,439.5\" fill=\"none\" stroke=\"currentColor\"/>\\n    <text dy=\"1.25em\" style=\"font-size: 0.8em; letter-spacing: 1px\">\\n        <textPath xlink:href=\"#arrow-8e24037b2fc94ccdbd1afc70b65466d6-0-7\" class=\"displacy-label\" startOffset=\"50%\" side=\"left\" fill=\"currentColor\" text-anchor=\"middle\">compound</textPath>\\n    </text>\\n    <path class=\"displacy-arrowhead\" d=\"M1295,441.5 L1287,429.5 1303,429.5\" fill=\"currentColor\"/>\\n</g>\\n\\n<g class=\"displacy-arrow\">\\n    <path class=\"displacy-arc\" id=\"arrow-8e24037b2fc94ccdbd1afc70b65466d6-0-8\" stroke-width=\"2px\" d=\"M770,439.5 C770,89.5 1445.0,89.5 1445.0,439.5\" fill=\"none\" stroke=\"currentColor\"/>\\n    <text dy=\"1.25em\" style=\"font-size: 0.8em; letter-spacing: 1px\">\\n        <textPath xlink:href=\"#arrow-8e24037b2fc94ccdbd1afc70b65466d6-0-8\" class=\"displacy-label\" startOffset=\"50%\" side=\"left\" fill=\"currentColor\" text-anchor=\"middle\">pobj</textPath>\\n    </text>\\n    <path class=\"displacy-arrowhead\" d=\"M1445.0,441.5 L1453.0,429.5 1437.0,429.5\" fill=\"currentColor\"/>\\n</g>\\n\\n<g class=\"displacy-arrow\">\\n    <path class=\"displacy-arc\" id=\"arrow-8e24037b2fc94ccdbd1afc70b65466d6-0-9\" stroke-width=\"2px\" d=\"M1470,439.5 C1470,352.0 1605.0,352.0 1605.0,439.5\" fill=\"none\" stroke=\"currentColor\"/>\\n    <text dy=\"1.25em\" style=\"font-size: 0.8em; letter-spacing: 1px\">\\n        <textPath xlink:href=\"#arrow-8e24037b2fc94ccdbd1afc70b65466d6-0-9\" class=\"displacy-label\" startOffset=\"50%\" side=\"left\" fill=\"currentColor\" text-anchor=\"middle\">prep</textPath>\\n    </text>\\n    <path class=\"displacy-arrowhead\" d=\"M1605.0,441.5 L1613.0,429.5 1597.0,429.5\" fill=\"currentColor\"/>\\n</g>\\n\\n<g class=\"displacy-arrow\">\\n    <path class=\"displacy-arc\" id=\"arrow-8e24037b2fc94ccdbd1afc70b65466d6-0-10\" stroke-width=\"2px\" d=\"M1820,439.5 C1820,177.0 2315.0,177.0 2315.0,439.5\" fill=\"none\" stroke=\"currentColor\"/>\\n    <text dy=\"1.25em\" style=\"font-size: 0.8em; letter-spacing: 1px\">\\n        <textPath xlink:href=\"#arrow-8e24037b2fc94ccdbd1afc70b65466d6-0-10\" class=\"displacy-label\" startOffset=\"50%\" side=\"left\" fill=\"currentColor\" text-anchor=\"middle\">det</textPath>\\n    </text>\\n    <path class=\"displacy-arrowhead\" d=\"M1820,441.5 L1812,429.5 1828,429.5\" fill=\"currentColor\"/>\\n</g>\\n\\n<g class=\"displacy-arrow\">\\n    <path class=\"displacy-arc\" id=\"arrow-8e24037b2fc94ccdbd1afc70b65466d6-0-11\" stroke-width=\"2px\" d=\"M1995,439.5 C1995,264.5 2310.0,264.5 2310.0,439.5\" fill=\"none\" stroke=\"currentColor\"/>\\n    <text dy=\"1.25em\" style=\"font-size: 0.8em; letter-spacing: 1px\">\\n        <textPath xlink:href=\"#arrow-8e24037b2fc94ccdbd1afc70b65466d6-0-11\" class=\"displacy-label\" startOffset=\"50%\" side=\"left\" fill=\"currentColor\" text-anchor=\"middle\">compound</textPath>\\n    </text>\\n    <path class=\"displacy-arrowhead\" d=\"M1995,441.5 L1987,429.5 2003,429.5\" fill=\"currentColor\"/>\\n</g>\\n\\n<g class=\"displacy-arrow\">\\n    <path class=\"displacy-arc\" id=\"arrow-8e24037b2fc94ccdbd1afc70b65466d6-0-12\" stroke-width=\"2px\" d=\"M2170,439.5 C2170,352.0 2305.0,352.0 2305.0,439.5\" fill=\"none\" stroke=\"currentColor\"/>\\n    <text dy=\"1.25em\" style=\"font-size: 0.8em; letter-spacing: 1px\">\\n        <textPath xlink:href=\"#arrow-8e24037b2fc94ccdbd1afc70b65466d6-0-12\" class=\"displacy-label\" startOffset=\"50%\" side=\"left\" fill=\"currentColor\" text-anchor=\"middle\">compound</textPath>\\n    </text>\\n    <path class=\"displacy-arrowhead\" d=\"M2170,441.5 L2162,429.5 2178,429.5\" fill=\"currentColor\"/>\\n</g>\\n\\n<g class=\"displacy-arrow\">\\n    <path class=\"displacy-arc\" id=\"arrow-8e24037b2fc94ccdbd1afc70b65466d6-0-13\" stroke-width=\"2px\" d=\"M1645,439.5 C1645,89.5 2320.0,89.5 2320.0,439.5\" fill=\"none\" stroke=\"currentColor\"/>\\n    <text dy=\"1.25em\" style=\"font-size: 0.8em; letter-spacing: 1px\">\\n        <textPath xlink:href=\"#arrow-8e24037b2fc94ccdbd1afc70b65466d6-0-13\" class=\"displacy-label\" startOffset=\"50%\" side=\"left\" fill=\"currentColor\" text-anchor=\"middle\">pobj</textPath>\\n    </text>\\n    <path class=\"displacy-arrowhead\" d=\"M2320.0,441.5 L2328.0,429.5 2312.0,429.5\" fill=\"currentColor\"/>\\n</g>\\n\\n<g class=\"displacy-arrow\">\\n    <path class=\"displacy-arc\" id=\"arrow-8e24037b2fc94ccdbd1afc70b65466d6-0-14\" stroke-width=\"2px\" d=\"M2695,439.5 C2695,177.0 3190.0,177.0 3190.0,439.5\" fill=\"none\" stroke=\"currentColor\"/>\\n    <text dy=\"1.25em\" style=\"font-size: 0.8em; letter-spacing: 1px\">\\n        <textPath xlink:href=\"#arrow-8e24037b2fc94ccdbd1afc70b65466d6-0-14\" class=\"displacy-label\" startOffset=\"50%\" side=\"left\" fill=\"currentColor\" text-anchor=\"middle\">det</textPath>\\n    </text>\\n    <path class=\"displacy-arrowhead\" d=\"M2695,441.5 L2687,429.5 2703,429.5\" fill=\"currentColor\"/>\\n</g>\\n\\n<g class=\"displacy-arrow\">\\n    <path class=\"displacy-arc\" id=\"arrow-8e24037b2fc94ccdbd1afc70b65466d6-0-15\" stroke-width=\"2px\" d=\"M2870,439.5 C2870,264.5 3185.0,264.5 3185.0,439.5\" fill=\"none\" stroke=\"currentColor\"/>\\n    <text dy=\"1.25em\" style=\"font-size: 0.8em; letter-spacing: 1px\">\\n        <textPath xlink:href=\"#arrow-8e24037b2fc94ccdbd1afc70b65466d6-0-15\" class=\"displacy-label\" startOffset=\"50%\" side=\"left\" fill=\"currentColor\" text-anchor=\"middle\">amod</textPath>\\n    </text>\\n    <path class=\"displacy-arrowhead\" d=\"M2870,441.5 L2862,429.5 2878,429.5\" fill=\"currentColor\"/>\\n</g>\\n\\n<g class=\"displacy-arrow\">\\n    <path class=\"displacy-arc\" id=\"arrow-8e24037b2fc94ccdbd1afc70b65466d6-0-16\" stroke-width=\"2px\" d=\"M3045,439.5 C3045,352.0 3180.0,352.0 3180.0,439.5\" fill=\"none\" stroke=\"currentColor\"/>\\n    <text dy=\"1.25em\" style=\"font-size: 0.8em; letter-spacing: 1px\">\\n        <textPath xlink:href=\"#arrow-8e24037b2fc94ccdbd1afc70b65466d6-0-16\" class=\"displacy-label\" startOffset=\"50%\" side=\"left\" fill=\"currentColor\" text-anchor=\"middle\">compound</textPath>\\n    </text>\\n    <path class=\"displacy-arrowhead\" d=\"M3045,441.5 L3037,429.5 3053,429.5\" fill=\"currentColor\"/>\\n</g>\\n\\n<g class=\"displacy-arrow\">\\n    <path class=\"displacy-arc\" id=\"arrow-8e24037b2fc94ccdbd1afc70b65466d6-0-17\" stroke-width=\"2px\" d=\"M2520,439.5 C2520,89.5 3195.0,89.5 3195.0,439.5\" fill=\"none\" stroke=\"currentColor\"/>\\n    <text dy=\"1.25em\" style=\"font-size: 0.8em; letter-spacing: 1px\">\\n        <textPath xlink:href=\"#arrow-8e24037b2fc94ccdbd1afc70b65466d6-0-17\" class=\"displacy-label\" startOffset=\"50%\" side=\"left\" fill=\"currentColor\" text-anchor=\"middle\">attr</textPath>\\n    </text>\\n    <path class=\"displacy-arrowhead\" d=\"M3195.0,441.5 L3203.0,429.5 3187.0,429.5\" fill=\"currentColor\"/>\\n</g>\\n\\n<g class=\"displacy-arrow\">\\n    <path class=\"displacy-arc\" id=\"arrow-8e24037b2fc94ccdbd1afc70b65466d6-0-18\" stroke-width=\"2px\" d=\"M3395,439.5 C3395,352.0 3530.0,352.0 3530.0,439.5\" fill=\"none\" stroke=\"currentColor\"/>\\n    <text dy=\"1.25em\" style=\"font-size: 0.8em; letter-spacing: 1px\">\\n        <textPath xlink:href=\"#arrow-8e24037b2fc94ccdbd1afc70b65466d6-0-18\" class=\"displacy-label\" startOffset=\"50%\" side=\"left\" fill=\"currentColor\" text-anchor=\"middle\">aux</textPath>\\n    </text>\\n    <path class=\"displacy-arrowhead\" d=\"M3395,441.5 L3387,429.5 3403,429.5\" fill=\"currentColor\"/>\\n</g>\\n\\n<g class=\"displacy-arrow\">\\n    <path class=\"displacy-arc\" id=\"arrow-8e24037b2fc94ccdbd1afc70b65466d6-0-19\" stroke-width=\"2px\" d=\"M3220,439.5 C3220,264.5 3535.0,264.5 3535.0,439.5\" fill=\"none\" stroke=\"currentColor\"/>\\n    <text dy=\"1.25em\" style=\"font-size: 0.8em; letter-spacing: 1px\">\\n        <textPath xlink:href=\"#arrow-8e24037b2fc94ccdbd1afc70b65466d6-0-19\" class=\"displacy-label\" startOffset=\"50%\" side=\"left\" fill=\"currentColor\" text-anchor=\"middle\">relcl</textPath>\\n    </text>\\n    <path class=\"displacy-arrowhead\" d=\"M3535.0,441.5 L3543.0,429.5 3527.0,429.5\" fill=\"currentColor\"/>\\n</g>\\n\\n<g class=\"displacy-arrow\">\\n    <path class=\"displacy-arc\" id=\"arrow-8e24037b2fc94ccdbd1afc70b65466d6-0-20\" stroke-width=\"2px\" d=\"M3570,439.5 C3570,352.0 3705.0,352.0 3705.0,439.5\" fill=\"none\" stroke=\"currentColor\"/>\\n    <text dy=\"1.25em\" style=\"font-size: 0.8em; letter-spacing: 1px\">\\n        <textPath xlink:href=\"#arrow-8e24037b2fc94ccdbd1afc70b65466d6-0-20\" class=\"displacy-label\" startOffset=\"50%\" side=\"left\" fill=\"currentColor\" text-anchor=\"middle\">dobj</textPath>\\n    </text>\\n    <path class=\"displacy-arrowhead\" d=\"M3705.0,441.5 L3713.0,429.5 3697.0,429.5\" fill=\"currentColor\"/>\\n</g>\\n\\n<g class=\"displacy-arrow\">\\n    <path class=\"displacy-arc\" id=\"arrow-8e24037b2fc94ccdbd1afc70b65466d6-0-21\" stroke-width=\"2px\" d=\"M3920,439.5 C3920,352.0 4055.0,352.0 4055.0,439.5\" fill=\"none\" stroke=\"currentColor\"/>\\n    <text dy=\"1.25em\" style=\"font-size: 0.8em; letter-spacing: 1px\">\\n        <textPath xlink:href=\"#arrow-8e24037b2fc94ccdbd1afc70b65466d6-0-21\" class=\"displacy-label\" startOffset=\"50%\" side=\"left\" fill=\"currentColor\" text-anchor=\"middle\">aux</textPath>\\n    </text>\\n    <path class=\"displacy-arrowhead\" d=\"M3920,441.5 L3912,429.5 3928,429.5\" fill=\"currentColor\"/>\\n</g>\\n\\n<g class=\"displacy-arrow\">\\n    <path class=\"displacy-arc\" id=\"arrow-8e24037b2fc94ccdbd1afc70b65466d6-0-22\" stroke-width=\"2px\" d=\"M3745,439.5 C3745,264.5 4060.0,264.5 4060.0,439.5\" fill=\"none\" stroke=\"currentColor\"/>\\n    <text dy=\"1.25em\" style=\"font-size: 0.8em; letter-spacing: 1px\">\\n        <textPath xlink:href=\"#arrow-8e24037b2fc94ccdbd1afc70b65466d6-0-22\" class=\"displacy-label\" startOffset=\"50%\" side=\"left\" fill=\"currentColor\" text-anchor=\"middle\">acl</textPath>\\n    </text>\\n    <path class=\"displacy-arrowhead\" d=\"M4060.0,441.5 L4068.0,429.5 4052.0,429.5\" fill=\"currentColor\"/>\\n</g>\\n\\n<g class=\"displacy-arrow\">\\n    <path class=\"displacy-arc\" id=\"arrow-8e24037b2fc94ccdbd1afc70b65466d6-0-23\" stroke-width=\"2px\" d=\"M4095,439.5 C4095,352.0 4230.0,352.0 4230.0,439.5\" fill=\"none\" stroke=\"currentColor\"/>\\n    <text dy=\"1.25em\" style=\"font-size: 0.8em; letter-spacing: 1px\">\\n        <textPath xlink:href=\"#arrow-8e24037b2fc94ccdbd1afc70b65466d6-0-23\" class=\"displacy-label\" startOffset=\"50%\" side=\"left\" fill=\"currentColor\" text-anchor=\"middle\">dobj</textPath>\\n    </text>\\n    <path class=\"displacy-arrowhead\" d=\"M4230.0,441.5 L4238.0,429.5 4222.0,429.5\" fill=\"currentColor\"/>\\n</g>\\n\\n<g class=\"displacy-arrow\">\\n    <path class=\"displacy-arc\" id=\"arrow-8e24037b2fc94ccdbd1afc70b65466d6-0-24\" stroke-width=\"2px\" d=\"M4445,439.5 C4445,264.5 4760.0,264.5 4760.0,439.5\" fill=\"none\" stroke=\"currentColor\"/>\\n    <text dy=\"1.25em\" style=\"font-size: 0.8em; letter-spacing: 1px\">\\n        <textPath xlink:href=\"#arrow-8e24037b2fc94ccdbd1afc70b65466d6-0-24\" class=\"displacy-label\" startOffset=\"50%\" side=\"left\" fill=\"currentColor\" text-anchor=\"middle\">nsubjpass</textPath>\\n    </text>\\n    <path class=\"displacy-arrowhead\" d=\"M4445,441.5 L4437,429.5 4453,429.5\" fill=\"currentColor\"/>\\n</g>\\n\\n<g class=\"displacy-arrow\">\\n    <path class=\"displacy-arc\" id=\"arrow-8e24037b2fc94ccdbd1afc70b65466d6-0-25\" stroke-width=\"2px\" d=\"M4620,439.5 C4620,352.0 4755.0,352.0 4755.0,439.5\" fill=\"none\" stroke=\"currentColor\"/>\\n    <text dy=\"1.25em\" style=\"font-size: 0.8em; letter-spacing: 1px\">\\n        <textPath xlink:href=\"#arrow-8e24037b2fc94ccdbd1afc70b65466d6-0-25\" class=\"displacy-label\" startOffset=\"50%\" side=\"left\" fill=\"currentColor\" text-anchor=\"middle\">auxpass</textPath>\\n    </text>\\n    <path class=\"displacy-arrowhead\" d=\"M4620,441.5 L4612,429.5 4628,429.5\" fill=\"currentColor\"/>\\n</g>\\n\\n<g class=\"displacy-arrow\">\\n    <path class=\"displacy-arc\" id=\"arrow-8e24037b2fc94ccdbd1afc70b65466d6-0-26\" stroke-width=\"2px\" d=\"M4270,439.5 C4270,177.0 4765.0,177.0 4765.0,439.5\" fill=\"none\" stroke=\"currentColor\"/>\\n    <text dy=\"1.25em\" style=\"font-size: 0.8em; letter-spacing: 1px\">\\n        <textPath xlink:href=\"#arrow-8e24037b2fc94ccdbd1afc70b65466d6-0-26\" class=\"displacy-label\" startOffset=\"50%\" side=\"left\" fill=\"currentColor\" text-anchor=\"middle\">relcl</textPath>\\n    </text>\\n    <path class=\"displacy-arrowhead\" d=\"M4765.0,441.5 L4773.0,429.5 4757.0,429.5\" fill=\"currentColor\"/>\\n</g>\\n\\n<g class=\"displacy-arrow\">\\n    <path class=\"displacy-arc\" id=\"arrow-8e24037b2fc94ccdbd1afc70b65466d6-0-27\" stroke-width=\"2px\" d=\"M4795,439.5 C4795,352.0 4930.0,352.0 4930.0,439.5\" fill=\"none\" stroke=\"currentColor\"/>\\n    <text dy=\"1.25em\" style=\"font-size: 0.8em; letter-spacing: 1px\">\\n        <textPath xlink:href=\"#arrow-8e24037b2fc94ccdbd1afc70b65466d6-0-27\" class=\"displacy-label\" startOffset=\"50%\" side=\"left\" fill=\"currentColor\" text-anchor=\"middle\">agent</textPath>\\n    </text>\\n    <path class=\"displacy-arrowhead\" d=\"M4930.0,441.5 L4938.0,429.5 4922.0,429.5\" fill=\"currentColor\"/>\\n</g>\\n\\n<g class=\"displacy-arrow\">\\n    <path class=\"displacy-arc\" id=\"arrow-8e24037b2fc94ccdbd1afc70b65466d6-0-28\" stroke-width=\"2px\" d=\"M5145,439.5 C5145,264.5 5460.0,264.5 5460.0,439.5\" fill=\"none\" stroke=\"currentColor\"/>\\n    <text dy=\"1.25em\" style=\"font-size: 0.8em; letter-spacing: 1px\">\\n        <textPath xlink:href=\"#arrow-8e24037b2fc94ccdbd1afc70b65466d6-0-28\" class=\"displacy-label\" startOffset=\"50%\" side=\"left\" fill=\"currentColor\" text-anchor=\"middle\">compound</textPath>\\n    </text>\\n    <path class=\"displacy-arrowhead\" d=\"M5145,441.5 L5137,429.5 5153,429.5\" fill=\"currentColor\"/>\\n</g>\\n\\n<g class=\"displacy-arrow\">\\n    <path class=\"displacy-arc\" id=\"arrow-8e24037b2fc94ccdbd1afc70b65466d6-0-29\" stroke-width=\"2px\" d=\"M5320,439.5 C5320,352.0 5455.0,352.0 5455.0,439.5\" fill=\"none\" stroke=\"currentColor\"/>\\n    <text dy=\"1.25em\" style=\"font-size: 0.8em; letter-spacing: 1px\">\\n        <textPath xlink:href=\"#arrow-8e24037b2fc94ccdbd1afc70b65466d6-0-29\" class=\"displacy-label\" startOffset=\"50%\" side=\"left\" fill=\"currentColor\" text-anchor=\"middle\">compound</textPath>\\n    </text>\\n    <path class=\"displacy-arrowhead\" d=\"M5320,441.5 L5312,429.5 5328,429.5\" fill=\"currentColor\"/>\\n</g>\\n\\n<g class=\"displacy-arrow\">\\n    <path class=\"displacy-arc\" id=\"arrow-8e24037b2fc94ccdbd1afc70b65466d6-0-30\" stroke-width=\"2px\" d=\"M4970,439.5 C4970,177.0 5465.0,177.0 5465.0,439.5\" fill=\"none\" stroke=\"currentColor\"/>\\n    <text dy=\"1.25em\" style=\"font-size: 0.8em; letter-spacing: 1px\">\\n        <textPath xlink:href=\"#arrow-8e24037b2fc94ccdbd1afc70b65466d6-0-30\" class=\"displacy-label\" startOffset=\"50%\" side=\"left\" fill=\"currentColor\" text-anchor=\"middle\">pobj</textPath>\\n    </text>\\n    <path class=\"displacy-arrowhead\" d=\"M5465.0,441.5 L5473.0,429.5 5457.0,429.5\" fill=\"currentColor\"/>\\n</g>\\n\\n<g class=\"displacy-arrow\">\\n    <path class=\"displacy-arc\" id=\"arrow-8e24037b2fc94ccdbd1afc70b65466d6-0-31\" stroke-width=\"2px\" d=\"M5495,439.5 C5495,352.0 5630.0,352.0 5630.0,439.5\" fill=\"none\" stroke=\"currentColor\"/>\\n    <text dy=\"1.25em\" style=\"font-size: 0.8em; letter-spacing: 1px\">\\n        <textPath xlink:href=\"#arrow-8e24037b2fc94ccdbd1afc70b65466d6-0-31\" class=\"displacy-label\" startOffset=\"50%\" side=\"left\" fill=\"currentColor\" text-anchor=\"middle\">cc</textPath>\\n    </text>\\n    <path class=\"displacy-arrowhead\" d=\"M5630.0,441.5 L5638.0,429.5 5622.0,429.5\" fill=\"currentColor\"/>\\n</g>\\n\\n<g class=\"displacy-arrow\">\\n    <path class=\"displacy-arc\" id=\"arrow-8e24037b2fc94ccdbd1afc70b65466d6-0-32\" stroke-width=\"2px\" d=\"M5845,439.5 C5845,352.0 5980.0,352.0 5980.0,439.5\" fill=\"none\" stroke=\"currentColor\"/>\\n    <text dy=\"1.25em\" style=\"font-size: 0.8em; letter-spacing: 1px\">\\n        <textPath xlink:href=\"#arrow-8e24037b2fc94ccdbd1afc70b65466d6-0-32\" class=\"displacy-label\" startOffset=\"50%\" side=\"left\" fill=\"currentColor\" text-anchor=\"middle\">compound</textPath>\\n    </text>\\n    <path class=\"displacy-arrowhead\" d=\"M5845,441.5 L5837,429.5 5853,429.5\" fill=\"currentColor\"/>\\n</g>\\n\\n<g class=\"displacy-arrow\">\\n    <path class=\"displacy-arc\" id=\"arrow-8e24037b2fc94ccdbd1afc70b65466d6-0-33\" stroke-width=\"2px\" d=\"M5495,439.5 C5495,177.0 5990.0,177.0 5990.0,439.5\" fill=\"none\" stroke=\"currentColor\"/>\\n    <text dy=\"1.25em\" style=\"font-size: 0.8em; letter-spacing: 1px\">\\n        <textPath xlink:href=\"#arrow-8e24037b2fc94ccdbd1afc70b65466d6-0-33\" class=\"displacy-label\" startOffset=\"50%\" side=\"left\" fill=\"currentColor\" text-anchor=\"middle\">conj</textPath>\\n    </text>\\n    <path class=\"displacy-arrowhead\" d=\"M5990.0,441.5 L5998.0,429.5 5982.0,429.5\" fill=\"currentColor\"/>\\n</g>\\n</svg>'"
            ]
          },
          "metadata": {
            "tags": []
          },
          "execution_count": 111
        }
      ]
    },
    {
      "cell_type": "code",
      "metadata": {
        "id": "AAwDd1WyxtiW"
      },
      "source": [
        "from collections import Counter, defaultdict\n",
        "\n",
        "def entity_aggregation(reviews_nlp, reviews_label, \n",
        "                       ENTITY_TYPES=['PERSON', 'ORG', 'GPE'], \n",
        "                       as_df=True):\n",
        "    ENTITY_TYPES = set(ENTITY_TYPES)\n",
        "    entity_agg = defaultdict(Counter)\n",
        "    for sentence, label in zip(reviews_nlp, reviews_label):\n",
        "        for entity in sentence.ents:\n",
        "            etype = entity.label_                        \n",
        "            lemma = entity.lemma_\n",
        "            if etype in ENTITY_TYPES:\n",
        "               entity_agg[(lemma, etype)][label] += 1\n",
        "    if not as_df:                    \n",
        "       return entity_agg\n",
        "         \n",
        "    all_labels = set(reviews_label)\n",
        "    all_records = []\n",
        "    for entity_tuple, counts in entity_agg.items():\n",
        "        entity_name = entity_tuple[0]\n",
        "        entity_type = entity_tuple[1]\n",
        "        entity_ndocs = sum(counts.values())\n",
        "        entity_record = { 'name': entity_name,\n",
        "                          'type': entity_type,\n",
        "                          'num_docs': entity_ndocs }\n",
        "        for l in all_labels:\n",
        "            entity_record[l] = counts.get(l,0)/entity_ndocs\n",
        "        all_records.append(entity_record)\n",
        "    df = pd.DataFrame.from_records(all_records)\n",
        "    df.sort_values(by='num_docs', ascending=False, inplace=True)\n",
        "    return df"
      ],
      "id": "AAwDd1WyxtiW",
      "execution_count": null,
      "outputs": []
    },
    {
      "cell_type": "code",
      "metadata": {
        "colab": {
          "base_uri": "https://localhost:8080/",
          "height": 415
        },
        "id": "chY1AqfSxypp",
        "outputId": "15c08fe6-8603-4781-a754-90fe94be0d35"
      },
      "source": [
        "eagg = entity_aggregation(train_nlp, train.label)\n",
        "eagg"
      ],
      "id": "chY1AqfSxypp",
      "execution_count": null,
      "outputs": [
        {
          "output_type": "execute_result",
          "data": {
            "text/html": [
              "<div>\n",
              "<style scoped>\n",
              "    .dataframe tbody tr th:only-of-type {\n",
              "        vertical-align: middle;\n",
              "    }\n",
              "\n",
              "    .dataframe tbody tr th {\n",
              "        vertical-align: top;\n",
              "    }\n",
              "\n",
              "    .dataframe thead th {\n",
              "        text-align: right;\n",
              "    }\n",
              "</style>\n",
              "<table border=\"1\" class=\"dataframe\">\n",
              "  <thead>\n",
              "    <tr style=\"text-align: right;\">\n",
              "      <th></th>\n",
              "      <th>name</th>\n",
              "      <th>type</th>\n",
              "      <th>num_docs</th>\n",
              "      <th>Sports</th>\n",
              "      <th>Business</th>\n",
              "      <th>Science</th>\n",
              "      <th>World</th>\n",
              "    </tr>\n",
              "  </thead>\n",
              "  <tbody>\n",
              "    <tr>\n",
              "      <th>48</th>\n",
              "      <td>Reuters</td>\n",
              "      <td>ORG</td>\n",
              "      <td>9</td>\n",
              "      <td>0.000000</td>\n",
              "      <td>0.555556</td>\n",
              "      <td>0.111111</td>\n",
              "      <td>0.333333</td>\n",
              "    </tr>\n",
              "    <tr>\n",
              "      <th>72</th>\n",
              "      <td>AP</td>\n",
              "      <td>ORG</td>\n",
              "      <td>7</td>\n",
              "      <td>0.428571</td>\n",
              "      <td>0.000000</td>\n",
              "      <td>0.142857</td>\n",
              "      <td>0.428571</td>\n",
              "    </tr>\n",
              "    <tr>\n",
              "      <th>73</th>\n",
              "      <td>Australia</td>\n",
              "      <td>GPE</td>\n",
              "      <td>4</td>\n",
              "      <td>0.750000</td>\n",
              "      <td>0.000000</td>\n",
              "      <td>0.250000</td>\n",
              "      <td>0.000000</td>\n",
              "    </tr>\n",
              "    <tr>\n",
              "      <th>41</th>\n",
              "      <td>US</td>\n",
              "      <td>GPE</td>\n",
              "      <td>4</td>\n",
              "      <td>0.000000</td>\n",
              "      <td>0.500000</td>\n",
              "      <td>0.250000</td>\n",
              "      <td>0.250000</td>\n",
              "    </tr>\n",
              "    <tr>\n",
              "      <th>7</th>\n",
              "      <td>Britain</td>\n",
              "      <td>GPE</td>\n",
              "      <td>3</td>\n",
              "      <td>0.666667</td>\n",
              "      <td>0.000000</td>\n",
              "      <td>0.333333</td>\n",
              "      <td>0.000000</td>\n",
              "    </tr>\n",
              "    <tr>\n",
              "      <th>...</th>\n",
              "      <td>...</td>\n",
              "      <td>...</td>\n",
              "      <td>...</td>\n",
              "      <td>...</td>\n",
              "      <td>...</td>\n",
              "      <td>...</td>\n",
              "      <td>...</td>\n",
              "    </tr>\n",
              "    <tr>\n",
              "      <th>83</th>\n",
              "      <td>Queens</td>\n",
              "      <td>GPE</td>\n",
              "      <td>1</td>\n",
              "      <td>0.000000</td>\n",
              "      <td>0.000000</td>\n",
              "      <td>1.000000</td>\n",
              "      <td>0.000000</td>\n",
              "    </tr>\n",
              "    <tr>\n",
              "      <th>84</th>\n",
              "      <td>Anthony Dupuis</td>\n",
              "      <td>PERSON</td>\n",
              "      <td>1</td>\n",
              "      <td>1.000000</td>\n",
              "      <td>0.000000</td>\n",
              "      <td>0.000000</td>\n",
              "      <td>0.000000</td>\n",
              "    </tr>\n",
              "    <tr>\n",
              "      <th>86</th>\n",
              "      <td>\\$us1</td>\n",
              "      <td>ORG</td>\n",
              "      <td>1</td>\n",
              "      <td>1.000000</td>\n",
              "      <td>0.000000</td>\n",
              "      <td>0.000000</td>\n",
              "      <td>0.000000</td>\n",
              "    </tr>\n",
              "    <tr>\n",
              "      <th>87</th>\n",
              "      <td>the International Ice Hockey Federation</td>\n",
              "      <td>ORG</td>\n",
              "      <td>1</td>\n",
              "      <td>1.000000</td>\n",
              "      <td>0.000000</td>\n",
              "      <td>0.000000</td>\n",
              "      <td>0.000000</td>\n",
              "    </tr>\n",
              "    <tr>\n",
              "      <th>217</th>\n",
              "      <td>Mauritz AB</td>\n",
              "      <td>ORG</td>\n",
              "      <td>1</td>\n",
              "      <td>0.000000</td>\n",
              "      <td>1.000000</td>\n",
              "      <td>0.000000</td>\n",
              "      <td>0.000000</td>\n",
              "    </tr>\n",
              "  </tbody>\n",
              "</table>\n",
              "<p>218 rows × 7 columns</p>\n",
              "</div>"
            ],
            "text/plain": [
              "                                        name    type  ...   Science     World\n",
              "48                                   Reuters     ORG  ...  0.111111  0.333333\n",
              "72                                        AP     ORG  ...  0.142857  0.428571\n",
              "73                                 Australia     GPE  ...  0.250000  0.000000\n",
              "41                                        US     GPE  ...  0.250000  0.250000\n",
              "7                                    Britain     GPE  ...  0.333333  0.000000\n",
              "..                                       ...     ...  ...       ...       ...\n",
              "83                                    Queens     GPE  ...  1.000000  0.000000\n",
              "84                            Anthony Dupuis  PERSON  ...  0.000000  0.000000\n",
              "86                                     \\$us1     ORG  ...  0.000000  0.000000\n",
              "87   the International Ice Hockey Federation     ORG  ...  0.000000  0.000000\n",
              "217                               Mauritz AB     ORG  ...  0.000000  0.000000\n",
              "\n",
              "[218 rows x 7 columns]"
            ]
          },
          "metadata": {
            "tags": []
          },
          "execution_count": 113
        }
      ]
    },
    {
      "cell_type": "code",
      "metadata": {
        "colab": {
          "base_uri": "https://localhost:8080/",
          "height": 17,
          "referenced_widgets": [
            "d094f31dc67b4857a16462eceaf1d28c"
          ]
        },
        "id": "wpN8cRWAx39y",
        "outputId": "691eaea5-a3b0-4cb8-b56d-77f79e4fa76f"
      },
      "source": [
        "qgrid.show_grid(eagg)"
      ],
      "id": "wpN8cRWAx39y",
      "execution_count": null,
      "outputs": [
        {
          "output_type": "display_data",
          "data": {
            "application/vnd.jupyter.widget-view+json": {
              "model_id": "d094f31dc67b4857a16462eceaf1d28c",
              "version_minor": 0,
              "version_major": 2
            },
            "text/plain": [
              "QgridWidget(grid_options={'fullWidthRows': True, 'syncColumnCellResize': True, 'forceFitColumns': True, 'defau…"
            ]
          },
          "metadata": {
            "tags": []
          }
        }
      ]
    },
    {
      "cell_type": "code",
      "metadata": {
        "id": "OJl41LuXC52x"
      },
      "source": [
        "def spacy_cosine_sim(text1, text2):\n",
        "    nlp1 = spacy_nlp(text1)\n",
        "    nlp2 = spacy_nlp(text2)\n",
        "    return nlp1.similarity(nlp2)"
      ],
      "id": "OJl41LuXC52x",
      "execution_count": null,
      "outputs": []
    },
    {
      "cell_type": "code",
      "metadata": {
        "colab": {
          "base_uri": "https://localhost:8080/"
        },
        "id": "R8yY1gGBC93p",
        "outputId": "b37d99e3-ca6a-4801-da2c-a712b339ac07"
      },
      "source": [
        "spacy_cosine_sim('apple', 'pear')"
      ],
      "id": "R8yY1gGBC93p",
      "execution_count": null,
      "outputs": [
        {
          "output_type": "stream",
          "text": [
            "/usr/lib/python3.7/runpy.py:193: ModelsWarning: [W007] The model you're using has no word vectors loaded, so the result of the Doc.similarity method will be based on the tagger, parser and NER, which may not give useful similarity judgements. This may happen if you're using one of the small models, e.g. `en_core_web_sm`, which don't ship with word vectors and only use context-sensitive tensors. You can always add your own word vectors, or use one of the larger models instead if available.\n",
            "  \"__main__\", mod_spec)\n"
          ],
          "name": "stderr"
        },
        {
          "output_type": "execute_result",
          "data": {
            "text/plain": [
              "0.6525304179939787"
            ]
          },
          "metadata": {
            "tags": []
          },
          "execution_count": 98
        }
      ]
    },
    {
      "cell_type": "code",
      "metadata": {
        "colab": {
          "base_uri": "https://localhost:8080/"
        },
        "id": "BSQqWJ28DUjR",
        "outputId": "9cfcd3af-ebdc-4cdb-a71b-8cf53c98d397"
      },
      "source": [
        "spacy_nlp('movie').vector"
      ],
      "id": "BSQqWJ28DUjR",
      "execution_count": null,
      "outputs": [
        {
          "output_type": "execute_result",
          "data": {
            "text/plain": [
              "array([ 1.0853081 , -0.95277804, -0.52203417, -0.22894484,  3.8408265 ,\n",
              "       -0.52309185,  2.2309175 , -0.7608305 ,  0.00918591,  3.0352554 ,\n",
              "        3.0731952 ,  2.8509495 ,  0.9143617 , -0.38636526, -0.9993022 ,\n",
              "       -1.8665577 ,  1.1666148 ,  2.6115978 , -2.8124354 , -1.9813902 ,\n",
              "       -0.30030924,  3.1977375 , -0.82191044, -0.5997441 , -0.20232144,\n",
              "        0.29179978,  0.12290084, -1.9470054 ,  2.9627793 , -1.638324  ,\n",
              "        3.7976391 , -0.99174714, -0.1010555 , -0.5122336 ,  2.0900705 ,\n",
              "       -2.080437  ,  1.608235  ,  0.48852634, -3.3623843 ,  0.9613968 ,\n",
              "        2.4552965 ,  3.510927  , -1.3208785 , -5.038473  ,  0.9138061 ,\n",
              "       -0.7958424 ,  2.0392778 ,  0.40498787, -0.31665248,  4.749779  ,\n",
              "       -0.28265232, -2.1713395 , -0.79527724, -2.599558  , -1.422917  ,\n",
              "        1.5015397 ,  0.90351844,  0.94612896,  0.91659474, -0.72378254,\n",
              "        0.504268  , -0.22485632, -0.99144506, -0.6780238 ,  0.25906777,\n",
              "       -2.5456634 ,  0.24699247, -3.9501019 , -3.417646  ,  3.1268573 ,\n",
              "       -2.6677318 , -0.82988894,  4.6536098 ,  3.3166108 , -2.3654609 ,\n",
              "       -2.411617  ,  0.4928155 ,  0.17532691, -0.03998733,  0.71062315,\n",
              "        1.5789342 , -2.9711642 , -1.8117069 , -2.6521242 , -0.16944522,\n",
              "        1.3964981 , -2.3486297 ,  1.7549254 , -1.4700634 , -3.5249274 ,\n",
              "        0.3690673 ,  0.33661193, -0.7303411 ,  3.7212386 ,  0.9364861 ,\n",
              "       -0.98930943], dtype=float32)"
            ]
          },
          "metadata": {
            "tags": []
          },
          "execution_count": 99
        }
      ]
    }
  ]
}